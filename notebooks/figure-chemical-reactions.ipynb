{
 "cells": [
  {
   "cell_type": "markdown",
   "id": "a31aead9-a7ee-4f81-b5c8-b5992d00cb5d",
   "metadata": {},
   "source": [
    "# Chemical reactions figure"
   ]
  },
  {
   "cell_type": "code",
   "execution_count": 1,
   "id": "e996a610-58c9-4077-8851-bd8aa13497b4",
   "metadata": {
    "tags": []
   },
   "outputs": [
    {
     "data": {
      "application/vnd.jupyter.widget-view+json": {
       "model_id": "211bdebcf5f94a1fb9be78b5252eb68a",
       "version_major": 2,
       "version_minor": 0
      },
      "text/plain": [
       "  0%|          | 0/500 [00:00<?, ?it/s]"
      ]
     },
     "metadata": {},
     "output_type": "display_data"
    }
   ],
   "source": [
    "%load_ext autoreload\n",
    "%autoreload 2\n",
    "import json\n",
    "import zipfile\n",
    "import pandas as pd\n",
    "from tqdm.auto import tqdm\n",
    "from io import TextIOWrapper\n",
    "from collections import defaultdict\n",
    "\n",
    "measure = 'sigma'\n",
    "trial_indices = defaultdict(int)\n",
    "records = []\n",
    "path = '../../dgym-data/analysis/noise/selection_noise_2024-05-10_23-36-56_continued.zip'\n",
    "with zipfile.ZipFile(path, 'r') as z:\n",
    "    for filename in tqdm(z.namelist()):\n",
    "        with z.open(filename) as file:\n",
    "            with TextIOWrapper(file, encoding='utf-8') as text_file:\n",
    "                result = json.load(text_file)\n",
    "                \n",
    "                # Get annotations\n",
    "                record = pd.DataFrame(result['annotations']).reindex(\n",
    "                    columns=[\n",
    "                        'SMILES',\n",
    "                        'Inspiration',\n",
    "                        'Current Status',\n",
    "                        'ABL1 pIC50',\n",
    "                        'Log P',\n",
    "                        'Log S',\n",
    "                        'Noisy ABL1 pIC50',\n",
    "                        'Noisy Log P',\n",
    "                        'Noisy Log S',\n",
    "                        'Step Tested',\n",
    "                        'Step Scored',\n",
    "                        'Synthetic Route',\n",
    "                    ]\n",
    "                )\n",
    "                \n",
    "                # Get trial number\n",
    "                value = result[measure]\n",
    "                trial_indices[value] += 1\n",
    "                record[measure] = value\n",
    "                record['trial'] = trial_indices[value]\n",
    "\n",
    "                # Append\n",
    "                records.append(record)\n",
    "df = pd.concat(records)\n",
    "records = None"
   ]
  },
  {
   "cell_type": "code",
   "execution_count": 3,
   "id": "7c8de81d-cd8a-4bea-b97d-c71464943928",
   "metadata": {
    "tags": []
   },
   "outputs": [],
   "source": [
    "from dgym.envs.utility import MultipleUtilityFunction, ClassicUtilityFunction\n",
    "\n",
    "# create evaluators\n",
    "docking_utility_function = ClassicUtilityFunction(\n",
    "    ideal=(9, 13),\n",
    "    acceptable=(8, 13)\n",
    ")\n",
    "\n",
    "log_P_utility_function = ClassicUtilityFunction(\n",
    "    ideal=(-0.5, 3.5),\n",
    "    acceptable=(-0.5, 3.5)\n",
    ")\n",
    "\n",
    "log_S_utility_function = ClassicUtilityFunction(\n",
    "    ideal=(-4, 1),\n",
    "    acceptable=(-4, 1)\n",
    ")\n",
    "\n",
    "composite_utility_function = MultipleUtilityFunction(\n",
    "    utility_functions = [docking_utility_function, log_P_utility_function, log_S_utility_function],\n",
    "    weights = [0.8, 0.1, 0.1]\n",
    ")\n",
    "\n",
    "df['utility'] = composite_utility_function(\n",
    "    df[['ABL1 pIC50', 'Log P', 'Log S']].values,\n",
    "    precompute=True,\n",
    "    method='average'\n",
    ")"
   ]
  },
  {
   "cell_type": "code",
   "execution_count": 7,
   "id": "8ae1605d-40c6-4452-98a1-6381e0f7e56e",
   "metadata": {
    "tags": []
   },
   "outputs": [
    {
     "data": {
      "text/plain": [
       "{'product': 'CC(C(=O)N1CCC(O)(c2ccccc2O)C(C)C1)c1ccc(N2CCNCC2)cc1',\n",
       " 'reaction': '81_Grignard_alcohol',\n",
       " 'reactants': [{'product': 'CC1CN(C(=O)C(C)c2ccc(N3CCNCC3)cc2)CCC1=O',\n",
       "   'reaction': '13_Carboxylate_and_Amine',\n",
       "   'reactants': [{'product': 'CC(C(=O)O)c1ccc(N2CCNCC2)cc1',\n",
       "     'reaction': '18_Halide_and_Amine',\n",
       "     'reactants': [{'product': 'C1CNCCN1'},\n",
       "      {'product': 'CC(C(=O)O)c1ccc(I)cc1'}]},\n",
       "    {'product': 'CC1CNCCC1=O.Cl'}]},\n",
       "  {'product': 'Oc1ccccc1Br'}]}"
      ]
     },
     "execution_count": 7,
     "metadata": {},
     "output_type": "execute_result"
    }
   ],
   "source": [
    "df.query('utility == 1.0')['Synthetic Route'].iloc[0]"
   ]
  }
 ],
 "metadata": {
  "kernelspec": {
   "display_name": "Python 3 (ipykernel)",
   "language": "python",
   "name": "python3"
  },
  "language_info": {
   "codemirror_mode": {
    "name": "ipython",
    "version": 3
   },
   "file_extension": ".py",
   "mimetype": "text/x-python",
   "name": "python",
   "nbconvert_exporter": "python",
   "pygments_lexer": "ipython3",
   "version": "3.11.5"
  }
 },
 "nbformat": 4,
 "nbformat_minor": 5
}
