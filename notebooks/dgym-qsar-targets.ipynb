{
 "cells": [
  {
   "cell_type": "markdown",
   "id": "f20139ce-d506-48fe-92da-b2bf42f9ceae",
   "metadata": {},
   "source": [
    "# Testing QSAR of Targets"
   ]
  },
  {
   "cell_type": "code",
   "execution_count": 1,
   "id": "053d1ab8-d420-4787-8d90-6baa3a7125d2",
   "metadata": {
    "tags": []
   },
   "outputs": [],
   "source": [
    "%reload_ext autoreload\n",
    "%autoreload 2\n",
    "\n",
    "import rdkit\n",
    "rdkit.Chem.Draw.IPythonConsole.ipython_maxProperties = -1\n",
    "\n",
    "import dgym as dg\n",
    "\n",
    "# load all data\n",
    "path = '../../dgym-data'\n",
    "\n",
    "deck = dg.MoleculeCollection.load(\n",
    "    f'{path}/DSi-Poised_Library_annotated.sdf',\n",
    "    reactant_names=['reagsmi1', 'reagsmi2', 'reagsmi3']\n",
    ")\n",
    "\n",
    "reactions = dg.ReactionCollection.from_json(\n",
    "    path = f'{path}/All_Rxns_rxn_library.json',\n",
    "    smarts_col = 'reaction_string',\n",
    "    classes_col = 'functional_groups'\n",
    ")\n",
    "\n",
    "building_blocks = dg.datasets.disk_loader(f'{path}/Enamine_Building_Blocks_Stock_262336cmpd_20230630.sdf')\n",
    "fingerprints = dg.datasets.fingerprints(f'{path}/Enamine_Building_Blocks_Stock_262336cmpd_20230630_atoms.fpb')\n",
    "\n",
    "import torch\n",
    "import pyarrow.parquet as pq\n",
    "table = pq.read_table('../../dgym-data/sizes.parquet')[0]\n",
    "sizes = torch.tensor(table.to_numpy())"
   ]
  },
  {
   "cell_type": "markdown",
   "id": "536baf76-9add-48e6-8217-326e16c182fa",
   "metadata": {},
   "source": [
    "Picking a target."
   ]
  },
  {
   "cell_type": "code",
   "execution_count": 54,
   "id": "35326822-a822-4f82-ae49-f50a76c18850",
   "metadata": {
    "tags": []
   },
   "outputs": [],
   "source": [
    "import os\n",
    "\n",
    "dockstring_dir = f'{path}/dockstring_targets/'\n",
    "files = os.listdir(dockstring_dir)\n",
    "configs = sorted([f for f in files if 'conf' in f])\n",
    "targets = sorted([f for f in files if 'target' in f])\n",
    "\n",
    "idx = 5\n",
    "with open(dockstring_dir + configs[idx], 'r') as f:\n",
    "    config_ = f.readlines()\n",
    "    config_ = [c.replace('\\n', '') for c in config_]\n",
    "    config_ = [c.split(' = ') for c in config_ if c]\n",
    "    config_ = {c[0]: float(c[1]) for c in config_}\n",
    "\n",
    "target = targets[idx]\n",
    "name = target.split('_')[0]"
   ]
  },
  {
   "cell_type": "markdown",
   "id": "ec5a07b8-8a8e-49c7-a05b-2bc2f0f2ee7c",
   "metadata": {},
   "source": [
    "Docking."
   ]
  },
  {
   "cell_type": "code",
   "execution_count": 55,
   "id": "a333cf14-af02-481e-a3f0-d358d489f349",
   "metadata": {
    "tags": []
   },
   "outputs": [],
   "source": [
    "from dgym.envs.oracle import DockingOracle, NeuralOracle, NoisyOracle\n",
    "from dgym.envs.utility import ClassicUtilityFunction\n",
    "\n",
    "config = {\n",
    "    'search_mode': 'balanced',\n",
    "    'scoring': 'gnina',\n",
    "    'seed': 5,\n",
    "    **config_\n",
    "}\n",
    "\n",
    "# Create noiseless evaluators\n",
    "docking_oracle = DockingOracle(\n",
    "    f'{name} affinity',\n",
    "    receptor_path=f'{dockstring_dir}/{target}',\n",
    "    config=config\n",
    ")"
   ]
  },
  {
   "cell_type": "markdown",
   "id": "da7db023-23c1-4353-966d-462d23779b24",
   "metadata": {},
   "source": [
    "Designer."
   ]
  },
  {
   "cell_type": "code",
   "execution_count": 56,
   "id": "ec8569c6-c431-4c4e-81df-3746c59e4107",
   "metadata": {
    "tags": []
   },
   "outputs": [],
   "source": [
    "from dgym.molecule import Molecule\n",
    "from dgym.envs.designer import Designer, Generator\n",
    "from dgym.envs.drug_env import DrugEnv\n",
    "from dgym.agents import SequentialDrugAgent\n",
    "from dgym.agents.exploration import EpsilonGreedy\n",
    "from dgym.experiment import Experiment\n",
    "\n",
    "designer = Designer(\n",
    "    Generator(building_blocks, fingerprints, sizes),\n",
    "    reactions,\n",
    "    cache = True\n",
    ")"
   ]
  },
  {
   "cell_type": "markdown",
   "id": "9911b8d5-2236-4edf-a4be-fd9a35bf914d",
   "metadata": {},
   "source": [
    "Generate molecules."
   ]
  },
  {
   "cell_type": "code",
   "execution_count": 57,
   "id": "9ce82872-267c-4dee-9802-38c21cc24277",
   "metadata": {
    "tags": []
   },
   "outputs": [
    {
     "data": {
      "application/vnd.jupyter.widget-view+json": {
       "model_id": "08e033c04c514863a42a6858b2583f5c",
       "version_major": 2,
       "version_minor": 0
      },
      "text/plain": [
       "  0%|          | 0/20 [00:00<?, ?it/s]"
      ]
     },
     "metadata": {},
     "output_type": "display_data"
    }
   ],
   "source": [
    "from tqdm.notebook import tqdm\n",
    "\n",
    "# select first molecule\n",
    "import random\n",
    "def select_molecule(deck):\n",
    "    initial_index = random.randint(0, len(deck))\n",
    "    initial_molecule = deck[initial_index]\n",
    "    if len(initial_molecule.reactants) == 2 \\\n",
    "        and designer.match_reactions(initial_molecule):\n",
    "        return initial_molecule\n",
    "    else:\n",
    "        return select_molecule(deck)\n",
    "\n",
    "random_molecules = []\n",
    "for _ in tqdm(range(20)):\n",
    "    \n",
    "    # pick a molecule randomly from the deck\n",
    "    initial_molecule = select_molecule(deck)\n",
    "\n",
    "    # generate a few rounds of random molecules in REAL Space\n",
    "    molecule = initial_molecule\n",
    "    designer.reset_cache()\n",
    "    for _ in range(3):\n",
    "        molecule = designer.design(molecule, 1, temperature=1.0)[0]\n",
    "    \n",
    "    # generate a bunch of analogs\n",
    "    molecules = designer.design(molecule, 10, temperature=1.0)\n",
    "    \n",
    "    random_molecules.extend(molecules)"
   ]
  },
  {
   "cell_type": "markdown",
   "id": "7301155f-97ee-490c-b8ab-e581458d9703",
   "metadata": {},
   "source": [
    "Get results of docking."
   ]
  },
  {
   "cell_type": "code",
   "execution_count": 68,
   "id": "6f84678b-c978-4f28-9a69-68b5bfbd3fd0",
   "metadata": {
    "tags": []
   },
   "outputs": [],
   "source": [
    "results = docking_oracle(random_molecules)"
   ]
  },
  {
   "cell_type": "code",
   "execution_count": 69,
   "id": "bc2338e1-bed9-437c-9c88-8e0fa1a4d30b",
   "metadata": {
    "tags": []
   },
   "outputs": [],
   "source": [
    "import chemfp\n",
    "\n",
    "self = designer.generator\n",
    "\n",
    "fingerprint_type = self.fingerprints.get_fingerprint_type()\n",
    "fingerprints = [\n",
    "    (m.name, fingerprint_type.from_smi(m.smiles))\n",
    "    for m in random_molecules\n",
    "]\n",
    "\n",
    "queries = chemfp.load_fingerprints(\n",
    "    fingerprints,\n",
    "    metadata = fingerprint_type.get_metadata(),\n",
    "    reorder=False\n",
    ")"
   ]
  },
  {
   "cell_type": "code",
   "execution_count": 88,
   "id": "dabcccb9-02ea-4a83-a28b-2ace7b118bda",
   "metadata": {
    "tags": []
   },
   "outputs": [
    {
     "data": {
      "application/vnd.jupyter.widget-view+json": {
       "model_id": "dba2a10374af43a1a6e823c6834e7229",
       "version_major": 2,
       "version_minor": 0
      },
      "text/plain": [
       "queries:   0%|                                                                                                …"
      ]
     },
     "metadata": {},
     "output_type": "display_data"
    }
   ],
   "source": [
    "results = chemfp.simsearch(\n",
    "    queries=queries,\n",
    "    targets=queries,\n",
    "    threshold=0.0,\n",
    "    # include_lower_triangle=False,\n",
    "    # k=50\n",
    ")\n",
    "\n",
    "similarity = results.to_pandas()"
   ]
  },
  {
   "cell_type": "code",
   "execution_count": 89,
   "id": "94b55858-df28-40a0-bf3e-ad7e655b2894",
   "metadata": {
    "tags": []
   },
   "outputs": [
    {
     "data": {
      "text/html": [
       "<div>\n",
       "<style scoped>\n",
       "    .dataframe tbody tr th:only-of-type {\n",
       "        vertical-align: middle;\n",
       "    }\n",
       "\n",
       "    .dataframe tbody tr th {\n",
       "        vertical-align: top;\n",
       "    }\n",
       "\n",
       "    .dataframe thead th {\n",
       "        text-align: right;\n",
       "    }\n",
       "</style>\n",
       "<table border=\"1\" class=\"dataframe\">\n",
       "  <thead>\n",
       "    <tr style=\"text-align: right;\">\n",
       "      <th></th>\n",
       "      <th>query_id</th>\n",
       "      <th>target_id</th>\n",
       "      <th>score</th>\n",
       "    </tr>\n",
       "  </thead>\n",
       "  <tbody>\n",
       "    <tr>\n",
       "      <th>0</th>\n",
       "      <td>CCCCOc1ccc(-c2nnc(NC(=O)CN(CC(N)=O)c3ccc(C=O)c...</td>\n",
       "      <td>CCCCOc1ccc(-c2nnc(NC(=O)CN(CC(N)=O)c3ccc(C=O)c...</td>\n",
       "      <td>1.000000</td>\n",
       "    </tr>\n",
       "    <tr>\n",
       "      <th>1</th>\n",
       "      <td>CCCCOc1ccc(-c2nnc(NC(=O)CN(CC(N)=O)c3ccc(C=O)c...</td>\n",
       "      <td>NC(=O)CN(CC(=O)NC(=O)Cn1c(S)nc2sc3c(c2c1=O)CCC...</td>\n",
       "      <td>0.354167</td>\n",
       "    </tr>\n",
       "    <tr>\n",
       "      <th>2</th>\n",
       "      <td>CCCCOc1ccc(-c2nnc(NC(=O)CN(CC(N)=O)c3ccc(C=O)c...</td>\n",
       "      <td>COC(=O)N(C(=N)Sc1ccccn1)C(=O)CN(CC(N)=O)c1ccc(...</td>\n",
       "      <td>0.362637</td>\n",
       "    </tr>\n",
       "    <tr>\n",
       "      <th>3</th>\n",
       "      <td>CCCCOc1ccc(-c2nnc(NC(=O)CN(CC(N)=O)c3ccc(C=O)c...</td>\n",
       "      <td>Cc1cc(C)c(C(=O)NC2CCN(C(=O)CN(CC(N)=O)c3ccc(C=...</td>\n",
       "      <td>0.393258</td>\n",
       "    </tr>\n",
       "    <tr>\n",
       "      <th>4</th>\n",
       "      <td>CCCCOc1ccc(-c2nnc(NC(=O)CN(CC(N)=O)c3ccc(C=O)c...</td>\n",
       "      <td>Cc1cc(C)c(C(=O)N(C(=O)CN(CC(N)=O)c2ccc(C=O)cc2...</td>\n",
       "      <td>0.366667</td>\n",
       "    </tr>\n",
       "    <tr>\n",
       "      <th>...</th>\n",
       "      <td>...</td>\n",
       "      <td>...</td>\n",
       "      <td>...</td>\n",
       "    </tr>\n",
       "    <tr>\n",
       "      <th>39995</th>\n",
       "      <td>CC(C)(CO)CNCc1ccc(Oc2ncc(Br)cn2)cc1</td>\n",
       "      <td>CC1OC2(C)CCC1(NCc1ccc(Oc3ncc(Br)cn3)cc1)CC2</td>\n",
       "      <td>0.437500</td>\n",
       "    </tr>\n",
       "    <tr>\n",
       "      <th>39996</th>\n",
       "      <td>CC(C)(CO)CNCc1ccc(Oc2ncc(Br)cn2)cc1</td>\n",
       "      <td>O=C(c1ccco1)N1CCC(NCc2ccc(Oc3ncc(Br)cn3)cc2)CC1</td>\n",
       "      <td>0.385714</td>\n",
       "    </tr>\n",
       "    <tr>\n",
       "      <th>39997</th>\n",
       "      <td>CC(C)(CO)CNCc1ccc(Oc2ncc(Br)cn2)cc1</td>\n",
       "      <td>CN(Cc1ccc(Oc2ncc(Br)cn2)cc1)Cc1ccc(Br)cc1[N+](...</td>\n",
       "      <td>0.393939</td>\n",
       "    </tr>\n",
       "    <tr>\n",
       "      <th>39998</th>\n",
       "      <td>CC(C)(CO)CNCc1ccc(Oc2ncc(Br)cn2)cc1</td>\n",
       "      <td>CCOC(=O)C(Cc1ccncc1)NCc1ccc(Oc2ncc(Br)cn2)cc1</td>\n",
       "      <td>0.439394</td>\n",
       "    </tr>\n",
       "    <tr>\n",
       "      <th>39999</th>\n",
       "      <td>CC(C)(CO)CNCc1ccc(Oc2ncc(Br)cn2)cc1</td>\n",
       "      <td>CC(C)(CO)CNCc1ccc(Oc2ncc(Br)cn2)cc1</td>\n",
       "      <td>1.000000</td>\n",
       "    </tr>\n",
       "  </tbody>\n",
       "</table>\n",
       "<p>40000 rows × 3 columns</p>\n",
       "</div>"
      ],
      "text/plain": [
       "                                                query_id  \\\n",
       "0      CCCCOc1ccc(-c2nnc(NC(=O)CN(CC(N)=O)c3ccc(C=O)c...   \n",
       "1      CCCCOc1ccc(-c2nnc(NC(=O)CN(CC(N)=O)c3ccc(C=O)c...   \n",
       "2      CCCCOc1ccc(-c2nnc(NC(=O)CN(CC(N)=O)c3ccc(C=O)c...   \n",
       "3      CCCCOc1ccc(-c2nnc(NC(=O)CN(CC(N)=O)c3ccc(C=O)c...   \n",
       "4      CCCCOc1ccc(-c2nnc(NC(=O)CN(CC(N)=O)c3ccc(C=O)c...   \n",
       "...                                                  ...   \n",
       "39995                CC(C)(CO)CNCc1ccc(Oc2ncc(Br)cn2)cc1   \n",
       "39996                CC(C)(CO)CNCc1ccc(Oc2ncc(Br)cn2)cc1   \n",
       "39997                CC(C)(CO)CNCc1ccc(Oc2ncc(Br)cn2)cc1   \n",
       "39998                CC(C)(CO)CNCc1ccc(Oc2ncc(Br)cn2)cc1   \n",
       "39999                CC(C)(CO)CNCc1ccc(Oc2ncc(Br)cn2)cc1   \n",
       "\n",
       "                                               target_id     score  \n",
       "0      CCCCOc1ccc(-c2nnc(NC(=O)CN(CC(N)=O)c3ccc(C=O)c...  1.000000  \n",
       "1      NC(=O)CN(CC(=O)NC(=O)Cn1c(S)nc2sc3c(c2c1=O)CCC...  0.354167  \n",
       "2      COC(=O)N(C(=N)Sc1ccccn1)C(=O)CN(CC(N)=O)c1ccc(...  0.362637  \n",
       "3      Cc1cc(C)c(C(=O)NC2CCN(C(=O)CN(CC(N)=O)c3ccc(C=...  0.393258  \n",
       "4      Cc1cc(C)c(C(=O)N(C(=O)CN(CC(N)=O)c2ccc(C=O)cc2...  0.366667  \n",
       "...                                                  ...       ...  \n",
       "39995        CC1OC2(C)CCC1(NCc1ccc(Oc3ncc(Br)cn3)cc1)CC2  0.437500  \n",
       "39996    O=C(c1ccco1)N1CCC(NCc2ccc(Oc3ncc(Br)cn3)cc2)CC1  0.385714  \n",
       "39997  CN(Cc1ccc(Oc2ncc(Br)cn2)cc1)Cc1ccc(Br)cc1[N+](...  0.393939  \n",
       "39998      CCOC(=O)C(Cc1ccncc1)NCc1ccc(Oc2ncc(Br)cn2)cc1  0.439394  \n",
       "39999                CC(C)(CO)CNCc1ccc(Oc2ncc(Br)cn2)cc1  1.000000  \n",
       "\n",
       "[40000 rows x 3 columns]"
      ]
     },
     "execution_count": 89,
     "metadata": {},
     "output_type": "execute_result"
    }
   ],
   "source": [
    "similarity"
   ]
  }
 ],
 "metadata": {
  "kernelspec": {
   "display_name": "Python 3 (ipykernel)",
   "language": "python",
   "name": "python3"
  },
  "language_info": {
   "codemirror_mode": {
    "name": "ipython",
    "version": 3
   },
   "file_extension": ".py",
   "mimetype": "text/x-python",
   "name": "python",
   "nbconvert_exporter": "python",
   "pygments_lexer": "ipython3",
   "version": "3.11.5"
  }
 },
 "nbformat": 4,
 "nbformat_minor": 5
}
