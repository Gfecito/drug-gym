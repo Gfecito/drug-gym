{
 "cells": [
  {
   "cell_type": "markdown",
   "id": "7224ea99-d617-40f3-b886-3821fbf10f11",
   "metadata": {},
   "source": [
    "# Using netgraph for visualization"
   ]
  },
  {
   "cell_type": "markdown",
   "id": "e35957e4-9acd-4657-a8c5-f907dd1e2c18",
   "metadata": {},
   "source": [
    "Import annotations."
   ]
  },
  {
   "cell_type": "code",
   "execution_count": 3,
   "id": "41604c29-be7a-4be5-ad93-009f59643b04",
   "metadata": {
    "tags": []
   },
   "outputs": [],
   "source": [
    "import polars as pl\n",
    "\n",
    "df = pl.read_parquet('../../../dgym-data/experiment_annotations.parquet')\n",
    "tested_adjacency = df[['Inspiration', 'SMILES']]\n",
    "tested_adjacency = tested_adjacency.drop_nulls().to_numpy()"
   ]
  },
  {
   "cell_type": "markdown",
   "id": "9d15ce92-20a9-4c69-ba16-7278a1fe524a",
   "metadata": {},
   "source": [
    "Create partitions."
   ]
  },
  {
   "cell_type": "code",
   "execution_count": 4,
   "id": "93f26346-5fe7-4f52-aa74-502f6d93d17f",
   "metadata": {
    "tags": []
   },
   "outputs": [],
   "source": [
    "import igraph as ig\n",
    "\n",
    "# Make graph\n",
    "g = ig.Graph.TupleList(tested_adjacency, directed=True)\n",
    "\n",
    "# Remove self-loops\n",
    "g = g.simplify()\n",
    "\n",
    "# Filter Tested molecules\n",
    "vertices_to_include = set()\n",
    "tested_smiles = df.filter(pl.col(\"Current Status\") == \"Tested\")['SMILES']\n",
    "for tested_smiles_ in tested_smiles[::3]:\n",
    "    subcomponent = g.subcomponent(tested_smiles_, mode=\"IN\")\n",
    "    vertices_to_include.update(subcomponent)\n",
    "\n",
    "g = g.subgraph(vertices_to_include)"
   ]
  },
  {
   "cell_type": "markdown",
   "id": "4b77a54f-61c6-4d62-b31f-70adc9871fd6",
   "metadata": {},
   "source": [
    "Make colors based on utility."
   ]
  },
  {
   "cell_type": "code",
   "execution_count": null,
   "id": "028a3ce1-ac45-4ac6-828b-a14ab52ce598",
   "metadata": {
    "tags": []
   },
   "outputs": [],
   "source": [
    "vertices = g.get_vertex_dataframe()['name'].tolist()\n",
    "scores = [df.filter(pl.col('SMILES') == v)['utility'][0] for v in vertices]\n",
    "\n",
    "# Step 2: Customize vertex colors and outlines\n",
    "import seaborn as sns\n",
    "palette = sns.color_palette(\"magma\", as_cmap=True)\n",
    "vertex_colors = [palette(score) for score in scores]\n",
    "vertex_frame_colors = ['white'] * len(vertex_colors)\n",
    "vertex_frame_width = [1.0] * len(vertex_colors)"
   ]
  },
  {
   "cell_type": "markdown",
   "id": "b30a29c6-3ffe-40bf-847c-826a66250651",
   "metadata": {},
   "source": [
    "Function definitions."
   ]
  },
  {
   "cell_type": "code",
   "execution_count": null,
   "id": "07f03023-f362-4982-9a8c-430bfa3ac568",
   "metadata": {
    "tags": []
   },
   "outputs": [],
   "source": [
    "def compress_x(x, y):\n",
    "    medians = []\n",
    "    for y_ in np.unique(y):\n",
    "        indices_on_level = np.where(y == y_)\n",
    "        median = np.median(x[indices_on_level].argsort().argsort())\n",
    "        medians.append(median)\n",
    "\n",
    "    center = max(medians)\n",
    "    for y_ in np.unique(y):\n",
    "        indices_on_level = np.where(y == y_)\n",
    "        x[indices_on_level] = x[indices_on_level].argsort().argsort()\n",
    "        x[indices_on_level] += center - np.median(x[indices_on_level])\n",
    "        x[indices_on_level]\n",
    "    \n",
    "    return x, y\n",
    "\n",
    "def cubic_bezier(p0, p1, p2, p3, t):\n",
    "    \"\"\"Compute the position on a cubic Bezier curve by parameter t.\"\"\"\n",
    "    return ((1 - t)**3 * np.array(p0) + \n",
    "            3 * (1 - t)**2 * t * np.array(p1) +\n",
    "            3 * (1 - t) * t**2 * np.array(p2) + \n",
    "            t**3 * np.array(p3))\n",
    "\n",
    "def plot_bezier(source, target, ax):\n",
    "    \n",
    "    # Process input\n",
    "    offset = 0.25\n",
    "    p0 = source\n",
    "    p1 = np.array([source[0], source[1] - offset])\n",
    "    p2 = np.array([target[0], target[1] + 0.15])\n",
    "    p3 = target\n",
    "\n",
    "    # Generate t values\n",
    "    t_values = np.linspace(0, 1, 500)\n",
    "\n",
    "    # Calculate the points on the Bezier curve\n",
    "    bezier_points = np.array([cubic_bezier(p0, p1, p2, p3, t) for t in t_values])\n",
    "\n",
    "    # Plotting the Bezier curve with control points\n",
    "    ax.plot(\n",
    "        bezier_points[:, 0],\n",
    "        bezier_points[:, 1],\n",
    "        label='Cubic Bezier Curve',\n",
    "        color='grey',\n",
    "        alpha=0.5,\n",
    "        linewidth=0.25,\n",
    "        zorder=-1000,\n",
    "    )\n",
    "\n",
    "def plot_bezier_edges(g, coord_dict, ax):\n",
    "\n",
    "    for edge in g.get_edge_dataframe().itertuples():\n",
    "        source = edge.source\n",
    "        target = edge.target\n",
    "\n",
    "        source_coords = coord_dict.get(source)\n",
    "        target_coords = coord_dict.get(target)\n",
    "\n",
    "        plot_bezier(source_coords, target_coords, ax)"
   ]
  },
  {
   "cell_type": "code",
   "execution_count": null,
   "id": "221cf27e-d8a7-4056-99fe-7a9e679c3f85",
   "metadata": {
    "tags": []
   },
   "outputs": [],
   "source": [
    "coords = g.layout(\"rt\")\n",
    "x, y = np.array(coords.coords).T\n",
    "\n",
    "if compress:\n",
    "    x, y = compress_x(x, y)\n",
    "    \n",
    "x_scale = (max(x) - min(x)) / 4\n",
    "y_scale = (max(y) - min(y)) / -2\n",
    "\n",
    "x_scale"
   ]
  },
  {
   "cell_type": "code",
   "execution_count": null,
   "id": "37ee066d-8184-43a6-83bc-984f24bc31c8",
   "metadata": {
    "tags": []
   },
   "outputs": [],
   "source": [
    "import numpy as np\n",
    "from netgraph import Graph\n",
    "import matplotlib.pyplot as plt\n",
    "\n",
    "bezier = True\n",
    "compress = True\n",
    "\n",
    "coords = g.layout(\"rt\")\n",
    "x, y = np.array(coords.coords).T\n",
    "\n",
    "if compress:\n",
    "    x, y = compress_x(x, y)\n",
    "    \n",
    "x_scale = 20\n",
    "y_scale = -4\n",
    "x = np.array([x_ / x_scale for x_ in x])\n",
    "y = np.array([y_ / y_scale for y_ in y])\n",
    "\n",
    "coord_dict = {i: (x[i], y[i]) for i, _ in enumerate(vertices)}\n",
    "color_dict = {i: vertex_colors[i] for i, _ in enumerate(vertices)}\n",
    "edge_width = 0.0 if bezier else 0.2\n",
    "\n",
    "fig, ax = plt.subplots(figsize=(15, 7), dpi=300)\n",
    "Graph(\n",
    "    g,\n",
    "    node_layout=coord_dict,\n",
    "    edge_width=edge_width,\n",
    "    node_color=color_dict,\n",
    "    node_edge_color='white',\n",
    "    node_edge_width=0.25,\n",
    "    ax=ax\n",
    ")\n",
    "\n",
    "if bezier:\n",
    "    plot_bezier_edges(g, coord_dict, ax)\n",
    "\n",
    "unique_y_ticks = np.unique(y)\n",
    "ax.set_yticks(unique_y_ticks)\n",
    "ax.set_yticklabels(reversed(range(len(unique_y_ticks))))\n",
    "ax.set_ylabel('Generation')\n",
    "ax.set_title('Molecule lineage')\n",
    "\n",
    "plt.show()"
   ]
  }
 ],
 "metadata": {
  "kernelspec": {
   "display_name": "Python 3 (ipykernel)",
   "language": "python",
   "name": "python3"
  },
  "language_info": {
   "codemirror_mode": {
    "name": "ipython",
    "version": 3
   },
   "file_extension": ".py",
   "mimetype": "text/x-python",
   "name": "python",
   "nbconvert_exporter": "python",
   "pygments_lexer": "ipython3",
   "version": "3.11.5"
  }
 },
 "nbformat": 4,
 "nbformat_minor": 5
}
