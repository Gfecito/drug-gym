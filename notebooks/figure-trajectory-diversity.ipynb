{
 "cells": [
  {
   "cell_type": "markdown",
   "id": "0e4d5e7b-9b0d-4340-bad7-08c29d995c38",
   "metadata": {},
   "source": [
    "# Figure X. Diversity"
   ]
  },
  {
   "cell_type": "code",
   "execution_count": 1,
   "id": "e25d845e-02eb-464c-877b-0a2cf1163243",
   "metadata": {
    "tags": []
   },
   "outputs": [],
   "source": [
    "import warnings\n",
    "warnings.filterwarnings('ignore')\n",
    "\n",
    "import os\n",
    "import json\n",
    "import zipfile\n",
    "import pandas as pd\n",
    "from tqdm.auto import tqdm\n",
    "from io import TextIOWrapper\n",
    "from collections import defaultdict"
   ]
  },
  {
   "cell_type": "markdown",
   "id": "deed5605-d987-477d-a2f1-2e8a754fdbe0",
   "metadata": {},
   "source": [
    "Preparing the records for analysis."
   ]
  },
  {
   "cell_type": "code",
   "execution_count": 2,
   "id": "3b0496da-2f91-400e-8060-2e1e9fca1a94",
   "metadata": {
    "tags": []
   },
   "outputs": [
    {
     "data": {
      "application/vnd.jupyter.widget-view+json": {
       "model_id": "fca99d276cb54d399a768489e897368f",
       "version_major": 2,
       "version_minor": 0
      },
      "text/plain": [
       "  0%|          | 0/500 [00:00<?, ?it/s]"
      ]
     },
     "metadata": {},
     "output_type": "display_data"
    }
   ],
   "source": [
    "def get_records(path, measure):\n",
    "\n",
    "    trial_indices = defaultdict(int)\n",
    "    hit_records_ = []\n",
    "    records_ = []\n",
    "    with zipfile.ZipFile(path, 'r') as z:\n",
    "        for filename in tqdm(z.namelist()):\n",
    "            if filename.endswith('.json'):\n",
    "                with z.open(filename) as file:\n",
    "                    with TextIOWrapper(file, encoding='utf-8') as text_file:\n",
    "                        try:\n",
    "                            # Load results\n",
    "                            result = json.load(text_file)\n",
    "                            value = result[measure]\n",
    "                            if value == 1.0: # temperature 0.16 limit 1\n",
    "                                record_raw = pd.DataFrame(\n",
    "                                    result['annotations']\n",
    "                                ).reindex(\n",
    "                                    columns=[\n",
    "                                        'SMILES',\n",
    "                                        'Step Designed',\n",
    "                                        'Step Made',\n",
    "                                        'Step Scored',\n",
    "                                        'Step Tested',\n",
    "                                        'ABL1 pIC50',\n",
    "                                        'Log P',\n",
    "                                        'Log S'\n",
    "                                    ]\n",
    "                                )\n",
    "\n",
    "                                # Process record\n",
    "                                hit_record = record_raw.iloc[:5]\n",
    "                                record = record_raw.dropna()\n",
    "\n",
    "                                # Get measure of interest\n",
    "                                record[measure] = value\n",
    "                                hit_record[measure] = value\n",
    "\n",
    "                                # Increment trial\n",
    "                                trial_indices[value] += 1\n",
    "                                record['trial'] = trial_indices[value]\n",
    "                                hit_record['trial'] = trial_indices[value]\n",
    "\n",
    "                                # Record list\n",
    "                                hit_records_.append(hit_record)\n",
    "                                records_.append(record)\n",
    "                                result = None\n",
    "                        except:\n",
    "                            continue\n",
    "    return records_, hit_records_\n",
    "\n",
    "paths = [\n",
    "    '../../dgym-data/analysis/noise/selection_noise_2024-05-10_23-36-56.zip',\n",
    "]\n",
    "\n",
    "measure = 'sigma'\n",
    "hit_records = []\n",
    "records = []\n",
    "for path in paths:\n",
    "    records_, hit_records_ = get_records(path, measure)\n",
    "    records.extend(records_)\n",
    "    hit_records.extend(hit_records_)\n",
    "\n",
    "df_raw = pd.concat(records)\n",
    "df_raw_hits = pd.concat(hit_records)\n",
    "records = None\n",
    "records = None"
   ]
  },
  {
   "cell_type": "markdown",
   "id": "e2ab3bea-1049-4083-8cb8-90077e67f7ee",
   "metadata": {},
   "source": [
    "# Score data"
   ]
  },
  {
   "cell_type": "markdown",
   "id": "9a3319d5-eb82-4fb3-a03a-b407da667f3c",
   "metadata": {},
   "source": [
    "### Scoring starting hits"
   ]
  },
  {
   "cell_type": "markdown",
   "id": "871c9f6b-694c-4ebc-91fa-88736a503c45",
   "metadata": {},
   "source": [
    "Load oracles."
   ]
  },
  {
   "cell_type": "code",
   "execution_count": 3,
   "id": "eeb3486c-1be8-48a9-ab24-10170449392c",
   "metadata": {
    "tags": []
   },
   "outputs": [],
   "source": [
    "import os\n",
    "\n",
    "def get_tcp_objectives():\n",
    "\n",
    "    dockstring_dir = f'../../dgym-data/dockstring_targets/'\n",
    "    files = os.listdir(dockstring_dir)\n",
    "    configs = sorted([f for f in files if 'conf' in f])\n",
    "    targets = sorted([f for f in files if 'target' in f])\n",
    "\n",
    "    idx = 0\n",
    "    with open(dockstring_dir + configs[idx], 'r') as f:\n",
    "        config_ = f.readlines()\n",
    "        config_ = [c.replace('\\n', '') for c in config_]\n",
    "        config_ = [c.split(' = ') for c in config_ if c]\n",
    "        config_ = {c[0]: float(c[1]) for c in config_}\n",
    "\n",
    "    target = targets[idx]\n",
    "    name = target.split('_')[0]\n",
    "\n",
    "    config_.update({\n",
    "        'size_x': 22.5,\n",
    "        'size_y': 22.5,\n",
    "        'size_z': 22.5,\n",
    "    })\n",
    "\n",
    "    from dgym.envs.oracle import \\\n",
    "        DockingOracle, CatBoostOracle, RDKitOracle, NoisyOracle\n",
    "\n",
    "    config = {\n",
    "        'search_mode': 'detailed',\n",
    "        'scoring': 'vina',\n",
    "        'seed': 5,\n",
    "        **config_\n",
    "    }\n",
    "\n",
    "    pIC50_oracle = DockingOracle(\n",
    "        f'{name} pIC50',\n",
    "        receptor_path=f'../../dgym-data//dockstring_targets/{name}_target.pdbqt',\n",
    "        config=config\n",
    "    )\n",
    "    log_P_oracle = RDKitOracle('Log P', descriptor='MolLogP')\n",
    "    log_S_oracle = CatBoostOracle(\n",
    "        'Log S', path='../dgym/envs/models/aqsolcb.model')\n",
    "    \n",
    "    return pIC50_oracle, log_P_oracle, log_S_oracle"
   ]
  },
  {
   "cell_type": "markdown",
   "id": "3a179290-baae-492e-a908-9b985f041ae5",
   "metadata": {},
   "source": [
    "Score hits."
   ]
  },
  {
   "cell_type": "code",
   "execution_count": 5,
   "id": "60a432a2-44bd-4a20-8bc8-06440231b8a8",
   "metadata": {
    "tags": []
   },
   "outputs": [],
   "source": [
    "import io\n",
    "import dgym as dg\n",
    "\n",
    "hits = dg.collection.MoleculeCollection(\n",
    "    [dg.molecule.Molecule(s) for s in df_raw_hits.SMILES]\n",
    ")\n",
    "\n",
    "pIC50_oracle, log_P_oracle, log_S_oracle = get_tcp_objectives()\n",
    "\n",
    "from contextlib import redirect_stdout\n",
    "f = io.StringIO()\n",
    "\n",
    "with redirect_stdout(f):\n",
    "    df_raw_hits['ABL1 pIC50'] = pIC50_oracle(hits, batch_size=40)\n",
    "    df_raw_hits['Log P'] = log_P_oracle(hits, batch_size=40)\n",
    "    df_raw_hits['Log S'] = log_S_oracle(hits, batch_size=40)\n",
    "    df_raw_hits = df_raw_hits.fillna(0.0)"
   ]
  },
  {
   "cell_type": "markdown",
   "id": "a5714b85-2b48-4061-bdac-adf5fbede0d5",
   "metadata": {},
   "source": [
    "Write to disk."
   ]
  },
  {
   "cell_type": "code",
   "execution_count": null,
   "id": "112fbe71-ef52-4f3d-ad44-4355e43a2fc9",
   "metadata": {
    "tags": []
   },
   "outputs": [],
   "source": [
    "pd.concat([df_raw_hits, df_raw]).to_csv('../../dgym-data/analysis/novartis/trajectories_2.csv')"
   ]
  },
  {
   "cell_type": "markdown",
   "id": "911fa26d-a737-467d-ad38-421c3859a4cc",
   "metadata": {},
   "source": [
    "# Load from disk"
   ]
  },
  {
   "cell_type": "markdown",
   "id": "e7a015c2-d91c-42a0-a02a-1d68b86ea497",
   "metadata": {},
   "source": [
    "`Temperature = 0.16`"
   ]
  },
  {
   "cell_type": "code",
   "execution_count": 14,
   "id": "534b14ca-79fc-4ec8-b1f0-3786c49e6300",
   "metadata": {
    "tags": []
   },
   "outputs": [],
   "source": [
    "import pandas as pd\n",
    "df_raw_complete = pd.read_csv('../../dgym-data/analysis/novartis/trajectories_2.csv', index_col=0)"
   ]
  },
  {
   "cell_type": "markdown",
   "id": "a975fd29-762c-495a-b313-d5a349f78b1c",
   "metadata": {},
   "source": [
    "Assign outcomes."
   ]
  },
  {
   "cell_type": "code",
   "execution_count": 16,
   "id": "021700b2-e365-4b72-a74b-7e1ee96302df",
   "metadata": {
    "tags": []
   },
   "outputs": [],
   "source": [
    "from dgym.envs.utility import Policy, ClassicUtilityFunction\n",
    "\n",
    "# create evaluators\n",
    "docking_utility_function = ClassicUtilityFunction(\n",
    "    ideal=(9, 13),\n",
    "    acceptable=(8, 13)\n",
    ")\n",
    "\n",
    "log_P_utility_function = ClassicUtilityFunction(\n",
    "    ideal=(-0.5, 3.5),\n",
    "    acceptable=(-0.5, 3.5)\n",
    ")\n",
    "\n",
    "log_S_utility_function = ClassicUtilityFunction(\n",
    "    ideal=(-4, 1),\n",
    "    acceptable=(-4, 1)\n",
    ")\n",
    "\n",
    "composite_utility_function = Policy([\n",
    "    docking_utility_function, log_P_utility_function, log_S_utility_function])"
   ]
  },
  {
   "cell_type": "code",
   "execution_count": 6,
   "id": "69bb0de4-3722-446d-87a7-3e6ca793e6cb",
   "metadata": {
    "tags": []
   },
   "outputs": [
    {
     "data": {
      "application/vnd.jupyter.widget-view+json": {
       "model_id": "7c57b165046e495895538a1e411a18db",
       "version_major": 2,
       "version_minor": 0
      },
      "text/plain": [
       "  0%|          | 0/100 [00:00<?, ?it/s]"
      ]
     },
     "metadata": {},
     "output_type": "display_data"
    }
   ],
   "source": [
    "from tqdm.auto import tqdm\n",
    "\n",
    "records = []\n",
    "for trial, data in tqdm(df_raw_complete.groupby('trial')):\n",
    "    \n",
    "    utility = composite_utility_function(\n",
    "        data.reindex(columns=['ABL1 pIC50', 'Log P', 'Log S']).values,\n",
    "        precompute=True,\n",
    "        method='average'\n",
    "    )\n",
    "    try:\n",
    "        cost = utility.index(1.0)\n",
    "        outcome = 1\n",
    "    except:\n",
    "        cost = len(utility)\n",
    "        outcome = 0\n",
    "\n",
    "    data['utility'] = utility\n",
    "    data['outcome'] = outcome\n",
    "    records.append(data)\n",
    "\n",
    "df = pd.concat(records).query('outcome == 1')"
   ]
  },
  {
   "cell_type": "markdown",
   "id": "c4cb5170-fc43-43e8-8aae-d850024e5eeb",
   "metadata": {},
   "source": [
    "Featurize but do not marginalize over sigmas."
   ]
  },
  {
   "cell_type": "code",
   "execution_count": 27,
   "id": "9094ec8e-03d3-4ad8-8a64-649653ed0da1",
   "metadata": {
    "tags": []
   },
   "outputs": [
    {
     "data": {
      "application/vnd.jupyter.widget-view+json": {
       "model_id": "0eb98cff55fe4fe6a5d4152788f2e9d2",
       "version_major": 2,
       "version_minor": 0
      },
      "text/plain": [
       "  0%|          | 0/500 [00:00<?, ?it/s]"
      ]
     },
     "metadata": {},
     "output_type": "display_data"
    }
   ],
   "source": [
    "from tqdm.auto import tqdm\n",
    "from scikit_mol.conversions import SmilesToMolTransformer\n",
    "from scikit_mol.descriptors import MolecularDescriptorTransformer\n",
    "\n",
    "smiles_to_mol = SmilesToMolTransformer(parallel=True)\n",
    "desc_list = [\n",
    "    'HeavyAtomCount',\n",
    "    'FractionCSP3',\n",
    "    'NumRotatableBonds',\n",
    "    'TPSA',\n",
    "    'RingCount',\n",
    "    'NumAliphaticRings',\n",
    "    'NumAromaticRings',\n",
    "    'NOCount',\n",
    "    'NHOHCount',\n",
    "    'HeavyAtomMolWt',\n",
    "    'ExactMolWt',\n",
    "    'NumHAcceptors',\n",
    "    'NumHDonors',\n",
    "    'qed'\n",
    "]\n",
    "featurizer = MolecularDescriptorTransformer(\n",
    "    desc_list, parallel=True)\n",
    "\n",
    "trial_data = []\n",
    "for (trial, sigma), data in tqdm(df.groupby(['trial', 'sigma'])):\n",
    "    \n",
    "    rd_mols = smiles_to_mol.transform(data['SMILES'].values)\n",
    "    X = featurizer.transform(rd_mols)\n",
    "    \n",
    "    for (label, features) in zip(desc_list, X.T):\n",
    "        data[label] = features\n",
    "    \n",
    "    # Convert step made to Progress of Series as in Novartis paper.\n",
    "    data['Progress Raw'] = data['Step Made'] / data['Step Made'].max() * 100\n",
    "\n",
    "    trial_data.append(data)\n",
    "\n",
    "mol_properties = pd.concat(trial_data)"
   ]
  },
  {
   "cell_type": "code",
   "execution_count": 28,
   "id": "c340bc83-2892-4d46-978b-622b0401ade3",
   "metadata": {
    "tags": []
   },
   "outputs": [
    {
     "data": {
      "application/vnd.jupyter.widget-view+json": {
       "model_id": "b949441b9bae4f94bb73528de65fc869",
       "version_major": 2,
       "version_minor": 0
      },
      "text/plain": [
       "  0%|          | 0/5 [00:00<?, ?it/s]"
      ]
     },
     "metadata": {},
     "output_type": "display_data"
    }
   ],
   "source": [
    "import numpy as np\n",
    "from rdkit import Chem\n",
    "from rdkit.Chem import AllChem, DataStructs\n",
    "from scipy.spatial.distance import pdist, squareform\n",
    "\n",
    "def calculate_tanimoto_similarity(smiles_list):\n",
    "    \"\"\"\n",
    "    Calculate the Tanimoto similarity matrix for a list of SMILES strings.\n",
    "\n",
    "    Parameters\n",
    "    ----------\n",
    "    smiles_list : list of str\n",
    "        List of SMILES strings representing the molecules.\n",
    "\n",
    "    Returns\n",
    "    -------\n",
    "    np.ndarray\n",
    "        A symmetric matrix containing Tanimoto similarities between all pairs of molecules.\n",
    "    \"\"\"\n",
    "    fingerprints = [AllChem.GetMorganFingerprintAsBitVect(Chem.MolFromSmiles(smiles), 2) for smiles in smiles_list]\n",
    "    num_molecules = len(fingerprints)\n",
    "    similarity_matrix = np.zeros((num_molecules, num_molecules))\n",
    "\n",
    "    for i in range(num_molecules):\n",
    "        for j in range(i, num_molecules):\n",
    "            similarity = DataStructs.TanimotoSimilarity(fingerprints[i], fingerprints[j])\n",
    "            similarity_matrix[i, j] = similarity\n",
    "            similarity_matrix[j, i] = similarity\n",
    "\n",
    "    return similarity_matrix\n",
    "\n",
    "def calculate_diversity(smiles_list):\n",
    "    \"\"\"\n",
    "    Calculate the diversity of a batch of molecules based on their SMILES strings.\n",
    "\n",
    "    Parameters\n",
    "    ----------\n",
    "    smiles_list : list of str\n",
    "        List of SMILES strings representing the molecules.\n",
    "\n",
    "    Returns\n",
    "    -------\n",
    "    float\n",
    "        The diversity score of the batch, where a lower score indicates higher diversity.\n",
    "    \"\"\"\n",
    "    similarity_matrix = calculate_tanimoto_similarity(smiles_list)\n",
    "    upper_triangular_values = similarity_matrix[np.triu_indices(len(smiles_list), k=1)]\n",
    "    diversity_score = 1 - np.mean(upper_triangular_values)\n",
    "    return diversity_score\n",
    "\n",
    "diversity_records = []\n",
    "for sigma in tqdm([0.0, 0.5, 1.0, 1.5, 2.0]):\n",
    "    for trial in range(100):\n",
    "        smiles_in_batch = mol_properties.query(f'trial == {trial}').query(f'sigma == {sigma}')['SMILES']\n",
    "        diversity = calculate_diversity(smiles_in_batch)\n",
    "        diversity_records.append({'trial': trial, 'sigma': sigma, 'diversity': diversity})"
   ]
  },
  {
   "cell_type": "code",
   "execution_count": 33,
   "id": "60e3908a-af1e-486a-b27e-8ed710c0c65d",
   "metadata": {
    "tags": []
   },
   "outputs": [],
   "source": [
    "num_bins = 100\n",
    "mol_properties['Progress (%)'] = pd.cut(\n",
    "    mol_properties['Progress Raw'], num_bins, labels=range(num_bins)).astype(int)"
   ]
  },
  {
   "cell_type": "code",
   "execution_count": 35,
   "id": "cffa9c15-4894-412b-a901-d1f6b234d453",
   "metadata": {
    "tags": []
   },
   "outputs": [
    {
     "data": {
      "text/plain": [
       "0        0\n",
       "1        0\n",
       "2        0\n",
       "3        0\n",
       "4        0\n",
       "        ..\n",
       "3267    99\n",
       "3273    99\n",
       "3284    99\n",
       "3286    99\n",
       "3414    99\n",
       "Name: Progress (%), Length: 129015, dtype: int64"
      ]
     },
     "execution_count": 35,
     "metadata": {},
     "output_type": "execute_result"
    }
   ],
   "source": [
    "mol_properties['Progress (%)']"
   ]
  },
  {
   "cell_type": "code",
   "execution_count": 39,
   "id": "0a8360d5-04fb-4166-8b35-3fa7040725e1",
   "metadata": {
    "tags": []
   },
   "outputs": [
    {
     "data": {
      "text/html": [
       "<div>\n",
       "<style scoped>\n",
       "    .dataframe tbody tr th:only-of-type {\n",
       "        vertical-align: middle;\n",
       "    }\n",
       "\n",
       "    .dataframe tbody tr th {\n",
       "        vertical-align: top;\n",
       "    }\n",
       "\n",
       "    .dataframe thead th {\n",
       "        text-align: right;\n",
       "    }\n",
       "</style>\n",
       "<table border=\"1\" class=\"dataframe\">\n",
       "  <thead>\n",
       "    <tr style=\"text-align: right;\">\n",
       "      <th></th>\n",
       "      <th>diversity</th>\n",
       "    </tr>\n",
       "    <tr>\n",
       "      <th>sigma</th>\n",
       "      <th></th>\n",
       "    </tr>\n",
       "  </thead>\n",
       "  <tbody>\n",
       "    <tr>\n",
       "      <th>0.0</th>\n",
       "      <td>0.779863</td>\n",
       "    </tr>\n",
       "    <tr>\n",
       "      <th>0.5</th>\n",
       "      <td>0.789517</td>\n",
       "    </tr>\n",
       "    <tr>\n",
       "      <th>1.0</th>\n",
       "      <td>0.794149</td>\n",
       "    </tr>\n",
       "    <tr>\n",
       "      <th>1.5</th>\n",
       "      <td>0.803968</td>\n",
       "    </tr>\n",
       "    <tr>\n",
       "      <th>2.0</th>\n",
       "      <td>0.804351</td>\n",
       "    </tr>\n",
       "  </tbody>\n",
       "</table>\n",
       "</div>"
      ],
      "text/plain": [
       "       diversity\n",
       "sigma           \n",
       "0.0     0.779863\n",
       "0.5     0.789517\n",
       "1.0     0.794149\n",
       "1.5     0.803968\n",
       "2.0     0.804351"
      ]
     },
     "execution_count": 39,
     "metadata": {},
     "output_type": "execute_result"
    }
   ],
   "source": [
    "pd.DataFrame(diversity_records).groupby('sigma').agg({'diversity': 'mean'})"
   ]
  }
 ],
 "metadata": {
  "kernelspec": {
   "display_name": "Python 3 (ipykernel)",
   "language": "python",
   "name": "python3"
  },
  "language_info": {
   "codemirror_mode": {
    "name": "ipython",
    "version": 3
   },
   "file_extension": ".py",
   "mimetype": "text/x-python",
   "name": "python",
   "nbconvert_exporter": "python",
   "pygments_lexer": "ipython3",
   "version": "3.11.5"
  }
 },
 "nbformat": 4,
 "nbformat_minor": 5
}
