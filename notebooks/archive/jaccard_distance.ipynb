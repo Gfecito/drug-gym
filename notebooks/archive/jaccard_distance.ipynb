{
 "cells": [
  {
   "cell_type": "code",
   "execution_count": 1,
   "id": "894117a3-f40e-4870-8b39-90eef8ac515a",
   "metadata": {
    "tags": []
   },
   "outputs": [],
   "source": [
    "import dgym as dg\n",
    "path = '../../dgym-data'\n",
    "building_blocks = dg.datasets.disk_loader(f'{path}/Enamine_Building_Blocks_Stock_262336cmpd_20230630.sdf')"
   ]
  },
  {
   "cell_type": "code",
   "execution_count": 2,
   "id": "a34eb214-f804-42ae-899f-c4cff1902174",
   "metadata": {
    "tags": []
   },
   "outputs": [],
   "source": [
    "from scikit_mol import fingerprints\n",
    "\n",
    "morgan_transformer = fingerprints.MorganFingerprintTransformer(parallel=True)"
   ]
  },
  {
   "cell_type": "code",
   "execution_count": 5,
   "id": "56399f26-c261-4dc8-87e2-5b74c550c875",
   "metadata": {
    "tags": []
   },
   "outputs": [
    {
     "name": "stdout",
     "output_type": "stream",
     "text": [
      "CPU times: user 6.13 s, sys: 893 ms, total: 7.02 s\n",
      "Wall time: 9.45 s\n"
     ]
    }
   ],
   "source": [
    "%%time\n",
    "subset = [building_blocks[idx] for idx in range(100_000)]\n",
    "fingerprints = morgan_transformer.transform(subset)"
   ]
  },
  {
   "cell_type": "code",
   "execution_count": 33,
   "id": "28f8e88a-0b92-4741-870c-fbdb7fb92c00",
   "metadata": {
    "tags": []
   },
   "outputs": [
    {
     "name": "stdout",
     "output_type": "stream",
     "text": [
      "CPU times: user 269 ms, sys: 4.32 ms, total: 273 ms\n",
      "Wall time: 40.6 ms\n"
     ]
    }
   ],
   "source": [
    "%%time\n",
    "import faiss\n",
    "\n",
    "fingerprints = fingerprints.astype('uint8')\n",
    "distance, indices = faiss.knn_hamming(fingerprints[:1], fingerprints, 10)"
   ]
  },
  {
   "cell_type": "code",
   "execution_count": null,
   "id": "abfbe93e-53b9-4e23-b71d-5172d5425ce0",
   "metadata": {},
   "outputs": [],
   "source": []
  }
 ],
 "metadata": {
  "kernelspec": {
   "display_name": "Python 3 (ipykernel)",
   "language": "python",
   "name": "python3"
  },
  "language_info": {
   "codemirror_mode": {
    "name": "ipython",
    "version": 3
   },
   "file_extension": ".py",
   "mimetype": "text/x-python",
   "name": "python",
   "nbconvert_exporter": "python",
   "pygments_lexer": "ipython3",
   "version": "3.11.5"
  }
 },
 "nbformat": 4,
 "nbformat_minor": 5
}
