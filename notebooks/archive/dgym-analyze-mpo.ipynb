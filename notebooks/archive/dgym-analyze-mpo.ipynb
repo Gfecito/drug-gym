{
 "cells": [
  {
   "cell_type": "markdown",
   "id": "63d5a3c0-660f-4159-9c78-ecb3b2a0aba0",
   "metadata": {},
   "source": [
    "## Analyzing screen"
   ]
  },
  {
   "cell_type": "code",
   "execution_count": 1,
   "id": "686cdfa2-34e9-413e-b14b-22b31c6fff84",
   "metadata": {
    "tags": []
   },
   "outputs": [],
   "source": [
    "%reload_ext autoreload\n",
    "%autoreload 2\n",
    "import warnings\n",
    "warnings.filterwarnings('ignore') \n",
    "\n",
    "import os\n",
    "import pandas as pd\n",
    "\n",
    "path = '../../dgym-data/analysis/mpo/'\n",
    "files = os.listdir(path)\n",
    "files = [path + f for f in files]"
   ]
  },
  {
   "cell_type": "code",
   "execution_count": 2,
   "id": "5cad24e1-6b29-475a-b522-eb2d5bd084f3",
   "metadata": {
    "tags": []
   },
   "outputs": [],
   "source": [
    "df = pd.concat([\n",
    "    pd.read_csv(f, sep='\\t') for f in files\n",
    "]).reset_index(drop=True)\n",
    "\n",
    "df = df.drop(columns='smiles')"
   ]
  },
  {
   "cell_type": "code",
   "execution_count": 3,
   "id": "184e6977-083b-4c3b-88f6-414150c5cae9",
   "metadata": {
    "tags": []
   },
   "outputs": [],
   "source": [
    "from dgym.envs.utility import MultipleUtilityFunction, ClassicUtilityFunction\n",
    "\n",
    "# create evaluators\n",
    "docking_utility_function = ClassicUtilityFunction(\n",
    "    ideal=(9, 13),\n",
    "    acceptable=(8, 13)\n",
    ")\n",
    "\n",
    "log_P_utility_function = ClassicUtilityFunction(\n",
    "    ideal=(0.5, 1.85),\n",
    "    acceptable=(-0.5, 3.5)\n",
    ")\n",
    "\n",
    "log_S_utility_function = ClassicUtilityFunction(\n",
    "    ideal=(-3, 1),\n",
    "    acceptable=(-4, 1)\n",
    ")\n",
    "\n",
    "composite_utility_function = MultipleUtilityFunction([\n",
    "    docking_utility_function, log_P_utility_function, log_S_utility_function])"
   ]
  },
  {
   "cell_type": "code",
   "execution_count": 4,
   "id": "db7df4c9-2c4d-4b84-9373-96cc73dad8dd",
   "metadata": {
    "tags": []
   },
   "outputs": [],
   "source": [
    "df['Composite Utility'] = composite_utility_function(\n",
    "    df.values,\n",
    "    method='average'\n",
    ")"
   ]
  },
  {
   "cell_type": "code",
   "execution_count": 5,
   "id": "25dce475-acdd-4b28-8cca-57a55d851c8a",
   "metadata": {
    "tags": []
   },
   "outputs": [
    {
     "ename": "NameError",
     "evalue": "name 'sns' is not defined",
     "output_type": "error",
     "traceback": [
      "\u001b[0;31m---------------------------------------------------------------------------\u001b[0m",
      "\u001b[0;31mNameError\u001b[0m                                 Traceback (most recent call last)",
      "Cell \u001b[0;32mIn[5], line 1\u001b[0m\n\u001b[0;32m----> 1\u001b[0m g \u001b[38;5;241m=\u001b[39m sns\u001b[38;5;241m.\u001b[39mdisplot(df\u001b[38;5;241m.\u001b[39mquery(\u001b[38;5;124m'\u001b[39m\u001b[38;5;124m`Composite Utility` > -20\u001b[39m\u001b[38;5;124m'\u001b[39m)[\u001b[38;5;124m'\u001b[39m\u001b[38;5;124mComposite Utility\u001b[39m\u001b[38;5;124m'\u001b[39m])\n\u001b[1;32m      2\u001b[0m plt\u001b[38;5;241m.\u001b[39mtitle(\u001b[38;5;124m'\u001b[39m\u001b[38;5;124mDistribution of Multiple Utility\u001b[39m\u001b[38;5;124m'\u001b[39m)\n\u001b[1;32m      3\u001b[0m plt\u001b[38;5;241m.\u001b[39mxlabel(\u001b[38;5;124m'\u001b[39m\u001b[38;5;124mComposite Utility\u001b[39m\u001b[38;5;124m'\u001b[39m)\n",
      "\u001b[0;31mNameError\u001b[0m: name 'sns' is not defined"
     ]
    }
   ],
   "source": [
    "g = sns.displot(df.query('`Composite Utility` > -20')['Composite Utility'])\n",
    "plt.title('Distribution of Multiple Utility')\n",
    "plt.xlabel('Composite Utility')\n",
    "g.fig.set_dpi(300)"
   ]
  },
  {
   "cell_type": "code",
   "execution_count": null,
   "id": "55de3e1d-c6ae-45d0-8f7e-fc76998e0ea9",
   "metadata": {
    "tags": []
   },
   "outputs": [],
   "source": [
    "import seaborn as sns\n",
    "import matplotlib.pyplot as plt\n",
    "\n",
    "sns.set()\n",
    "plt.figure(dpi=300)\n",
    "g = sns.pairplot(\n",
    "    (\n",
    "        df\n",
    "        .query('`Composite Utility` > -20')\n",
    "        # .sort_values('mpo')\n",
    "    ),\n",
    "    corner=True,\n",
    "    # hue='mpo'\n",
    ")\n",
    "g.fig.set_dpi(300)"
   ]
  },
  {
   "cell_type": "code",
   "execution_count": 170,
   "id": "8b99c5f6-5895-4425-91d2-6c61786f3dbf",
   "metadata": {
    "tags": []
   },
   "outputs": [
    {
     "data": {
      "text/plain": [
       "5"
      ]
     },
     "execution_count": 170,
     "metadata": {},
     "output_type": "execute_result"
    }
   ],
   "source": [
    "import numpy as np\n",
    "(df['Composite Utility'] > 0.9).sum()"
   ]
  },
  {
   "cell_type": "code",
   "execution_count": 171,
   "id": "8dafdaed-aafa-4f7a-8788-1b640e39f3cb",
   "metadata": {
    "tags": []
   },
   "outputs": [
    {
     "data": {
      "text/html": [
       "<div>\n",
       "<style scoped>\n",
       "    .dataframe tbody tr th:only-of-type {\n",
       "        vertical-align: middle;\n",
       "    }\n",
       "\n",
       "    .dataframe tbody tr th {\n",
       "        vertical-align: top;\n",
       "    }\n",
       "\n",
       "    .dataframe thead th {\n",
       "        text-align: right;\n",
       "    }\n",
       "</style>\n",
       "<table border=\"1\" class=\"dataframe\">\n",
       "  <thead>\n",
       "    <tr style=\"text-align: right;\">\n",
       "      <th></th>\n",
       "      <th>pIC50</th>\n",
       "      <th>log P</th>\n",
       "      <th>log S</th>\n",
       "      <th>Composite Utility</th>\n",
       "    </tr>\n",
       "  </thead>\n",
       "  <tbody>\n",
       "    <tr>\n",
       "      <th>103439</th>\n",
       "      <td>8.842997</td>\n",
       "      <td>1.6921</td>\n",
       "      <td>-3.122590</td>\n",
       "      <td>0.906803</td>\n",
       "    </tr>\n",
       "    <tr>\n",
       "      <th>174413</th>\n",
       "      <td>8.743936</td>\n",
       "      <td>1.4414</td>\n",
       "      <td>-2.664853</td>\n",
       "      <td>0.914645</td>\n",
       "    </tr>\n",
       "    <tr>\n",
       "      <th>197720</th>\n",
       "      <td>8.909405</td>\n",
       "      <td>0.8404</td>\n",
       "      <td>-3.052723</td>\n",
       "      <td>0.952227</td>\n",
       "    </tr>\n",
       "    <tr>\n",
       "      <th>197724</th>\n",
       "      <td>9.085007</td>\n",
       "      <td>0.8404</td>\n",
       "      <td>-3.052723</td>\n",
       "      <td>0.982426</td>\n",
       "    </tr>\n",
       "    <tr>\n",
       "      <th>246824</th>\n",
       "      <td>8.788213</td>\n",
       "      <td>1.5616</td>\n",
       "      <td>-2.781624</td>\n",
       "      <td>0.929404</td>\n",
       "    </tr>\n",
       "  </tbody>\n",
       "</table>\n",
       "</div>"
      ],
      "text/plain": [
       "           pIC50   log P     log S  Composite Utility\n",
       "103439  8.842997  1.6921 -3.122590           0.906803\n",
       "174413  8.743936  1.4414 -2.664853           0.914645\n",
       "197720  8.909405  0.8404 -3.052723           0.952227\n",
       "197724  9.085007  0.8404 -3.052723           0.982426\n",
       "246824  8.788213  1.5616 -2.781624           0.929404"
      ]
     },
     "execution_count": 171,
     "metadata": {},
     "output_type": "execute_result"
    }
   ],
   "source": [
    "df.query('`Composite Utility` > 0.9')"
   ]
  },
  {
   "cell_type": "code",
   "execution_count": null,
   "id": "cbd96f6f-4cff-45e5-9d62-523de2e7a6ef",
   "metadata": {
    "tags": []
   },
   "outputs": [],
   "source": [
    "(\n",
    "    df.query('pIC50 > 9.5')\n",
    "    .query('`log P` < 3.5')\n",
    "    .query('`log S` > -4')\n",
    "    .sort_values('Composite Utility', ascending=False)\n",
    ")"
   ]
  },
  {
   "cell_type": "code",
   "execution_count": 206,
   "id": "dbf0850c-dbdf-48c9-9179-b74c19907e8e",
   "metadata": {
    "tags": []
   },
   "outputs": [
    {
     "data": {
      "text/plain": [
       "314700"
      ]
     },
     "execution_count": 206,
     "metadata": {},
     "output_type": "execute_result"
    }
   ],
   "source": [
    "len(df)"
   ]
  },
  {
   "cell_type": "code",
   "execution_count": 202,
   "id": "03327a40-daf2-4240-a032-cc4b7c13ddd3",
   "metadata": {
    "tags": []
   },
   "outputs": [
    {
     "data": {
      "text/plain": [
       "0.008579599618684462"
      ]
     },
     "execution_count": 202,
     "metadata": {},
     "output_type": "execute_result"
    }
   ],
   "source": [
    "27 / len(df) * 100"
   ]
  },
  {
   "cell_type": "code",
   "execution_count": 188,
   "id": "caff0069-e0fe-4ca6-b2ef-f470d305eea1",
   "metadata": {
    "tags": []
   },
   "outputs": [
    {
     "name": "stdout",
     "output_type": "stream",
     "text": [
      "1.0\n",
      "1.0\n",
      "0.9472770011126981\n"
     ]
    }
   ],
   "source": [
    "for value, utility_function in zip(\n",
    "    df.iloc[197724].drop('Composite Utility'),\n",
    "    composite_utility_function.utility_functions\n",
    "):\n",
    "    print(utility_function(value))"
   ]
  },
  {
   "cell_type": "code",
   "execution_count": 184,
   "id": "36798e7e-27a1-4f2d-b271-db4fc0070040",
   "metadata": {
    "tags": []
   },
   "outputs": [
    {
     "data": {
      "text/plain": [
       "array([[   1.        ,    0.        ,    0.        ],\n",
       "       [ -65.57907216,    0.5       ,    0.        ],\n",
       "       [-144.26813169,    0.        ,    1.        ]])"
      ]
     },
     "execution_count": 184,
     "metadata": {},
     "output_type": "execute_result"
    }
   ],
   "source": [
    "composite_utility_function.utility_functions(df.iloc[197724].drop('Composite Utility').tolist(), method='average')"
   ]
  },
  {
   "cell_type": "code",
   "execution_count": 185,
   "id": "fb7e4a0c-8319-4399-abd1-9e64edc5c0cc",
   "metadata": {
    "tags": []
   },
   "outputs": [
    {
     "data": {
      "text/plain": [
       "[9.085007014265017, 0.8403999999999994, -3.052722998887302]"
      ]
     },
     "execution_count": 185,
     "metadata": {},
     "output_type": "execute_result"
    }
   ],
   "source": [
    "df.iloc[197724].drop('Composite Utility').tolist()"
   ]
  },
  {
   "cell_type": "code",
   "execution_count": 140,
   "id": "1c5772b7-ea0f-4da6-85b1-e57e5be4d6a9",
   "metadata": {
    "tags": []
   },
   "outputs": [
    {
     "data": {
      "text/plain": [
       "314700"
      ]
     },
     "execution_count": 140,
     "metadata": {},
     "output_type": "execute_result"
    }
   ],
   "source": [
    "len(df)"
   ]
  },
  {
   "cell_type": "code",
   "execution_count": 148,
   "id": "11f9fc9a-b51c-419b-810a-fa8445de528f",
   "metadata": {
    "tags": []
   },
   "outputs": [
    {
     "data": {
      "text/plain": [
       "0.0015888147442008264"
      ]
     },
     "execution_count": 148,
     "metadata": {},
     "output_type": "execute_result"
    }
   ],
   "source": [
    "(5 / len(df))*100"
   ]
  },
  {
   "cell_type": "code",
   "execution_count": 133,
   "id": "e56dfd51-e340-4faf-8ab9-ce19ea73f11a",
   "metadata": {
    "tags": []
   },
   "outputs": [
    {
     "data": {
      "text/plain": [
       "pIC50                9.612976\n",
       "log P                1.652800\n",
       "log S               -3.700195\n",
       "Composite Utility    0.766602\n",
       "Name: 69915, dtype: float64"
      ]
     },
     "execution_count": 133,
     "metadata": {},
     "output_type": "execute_result"
    }
   ],
   "source": [
    "df.iloc[69915]"
   ]
  },
  {
   "cell_type": "code",
   "execution_count": 106,
   "id": "d7ec399b-9d25-4165-a8e3-d3b5ce13f58e",
   "metadata": {
    "tags": []
   },
   "outputs": [
    {
     "data": {
      "text/plain": [
       "(314700, 4)"
      ]
     },
     "execution_count": 106,
     "metadata": {},
     "output_type": "execute_result"
    }
   ],
   "source": [
    "df.shape"
   ]
  }
 ],
 "metadata": {
  "kernelspec": {
   "display_name": "Python 3 (ipykernel)",
   "language": "python",
   "name": "python3"
  },
  "language_info": {
   "codemirror_mode": {
    "name": "ipython",
    "version": 3
   },
   "file_extension": ".py",
   "mimetype": "text/x-python",
   "name": "python",
   "nbconvert_exporter": "python",
   "pygments_lexer": "ipython3",
   "version": "3.11.5"
  }
 },
 "nbformat": 4,
 "nbformat_minor": 5
}
