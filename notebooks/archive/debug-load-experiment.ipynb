{
 "cells": [
  {
   "cell_type": "markdown",
   "id": "bf578967-8741-49c0-b202-4641c1282e7c",
   "metadata": {},
   "source": [
    "# Testing New Experiment API"
   ]
  },
  {
   "cell_type": "markdown",
   "id": "0e30b740-49b2-4b5a-b87e-b94bd2a031d5",
   "metadata": {},
   "source": [
    "Load data."
   ]
  },
  {
   "cell_type": "code",
   "execution_count": 1,
   "id": "22e58bb4-098f-499b-92f9-b390d6d6540a",
   "metadata": {
    "tags": []
   },
   "outputs": [],
   "source": [
    "%reload_ext autoreload\n",
    "%autoreload 2\n",
    "import warnings\n",
    "warnings.filterwarnings('ignore') \n",
    "\n",
    "import rdkit\n",
    "import dgym as dg\n",
    "\n",
    "# load all data\n",
    "path = '../../dgym-data'\n",
    "\n",
    "deck = dg.MoleculeCollection.load(\n",
    "    f'{path}/DSi-Poised_Library_annotated.sdf',\n",
    "    reactant_names=['reagsmi1', 'reagsmi2', 'reagsmi3']\n",
    ")\n",
    "\n",
    "reactions = dg.ReactionCollection.from_json(\n",
    "    path = f'{path}/All_Rxns_rxn_library_sorted.json',\n",
    "    smarts_col = 'reaction_string',\n",
    "    classes_col = 'functional_groups'\n",
    ")\n",
    "\n",
    "building_blocks = dg.datasets.disk_loader(f'{path}/Enamine_Building_Blocks_Stock_262336cmpd_20230630.sdf')\n",
    "fingerprints = dg.datasets.fingerprints(f'{path}/Enamine_Building_Blocks_Stock_262336cmpd_20230630_atoms.fpb')\n",
    "\n",
    "import torch\n",
    "import pyarrow.parquet as pq\n",
    "table = pq.read_table('../../dgym-data/sizes.parquet')[0]\n",
    "sizes = torch.tensor(table.to_numpy())"
   ]
  },
  {
   "cell_type": "markdown",
   "id": "51744ac8-3b74-415d-a88d-abd31fd9325a",
   "metadata": {},
   "source": [
    "Load assays and utility functions."
   ]
  },
  {
   "cell_type": "code",
   "execution_count": 2,
   "id": "750653ce-6431-4dcb-abd8-cb0a6da39459",
   "metadata": {
    "tags": []
   },
   "outputs": [],
   "source": [
    "import os\n",
    "\n",
    "def get_tcp_objectives():\n",
    "\n",
    "    dockstring_dir = f'{path}/dockstring_targets/'\n",
    "    files = os.listdir(dockstring_dir)\n",
    "    configs = sorted([f for f in files if 'conf' in f])\n",
    "    targets = sorted([f for f in files if 'target' in f])\n",
    "\n",
    "    idx = 0\n",
    "    with open(dockstring_dir + configs[idx], 'r') as f:\n",
    "        config_ = f.readlines()\n",
    "        config_ = [c.replace('\\n', '') for c in config_]\n",
    "        config_ = [c.split(' = ') for c in config_ if c]\n",
    "        config_ = {c[0]: float(c[1]) for c in config_}\n",
    "\n",
    "    target = targets[idx]\n",
    "    name = target.split('_')[0]\n",
    "\n",
    "    config_.update({\n",
    "        'size_x': 22.5,\n",
    "        'size_y': 22.5,\n",
    "        'size_z': 22.5,\n",
    "    })\n",
    "\n",
    "    from dgym.envs.oracle import \\\n",
    "        ConstantOracle, RandomOracle, DockingOracle, CatBoostOracle, RDKitOracle, NoisyOracle\n",
    "    from dgym.envs.utility import ClassicUtilityFunction\n",
    "\n",
    "    config = {\n",
    "        'search_mode': 'detailed',\n",
    "        'scoring': 'vina',\n",
    "        'seed': 5,\n",
    "        **config_\n",
    "    }\n",
    "\n",
    "    pIC50_oracle = DockingOracle(\n",
    "        f'{name} pIC50',\n",
    "        receptor_path=f'{path}/dockstring_targets/{name}_target.pdbqt',\n",
    "        config=config\n",
    "    )\n",
    "    constant_oracle = ConstantOracle('Constant', constant=1)\n",
    "    random_oracle = RandomOracle('Random')\n",
    "    log_P_oracle = RDKitOracle('Log P', descriptor='MolLogP')\n",
    "    log_S_oracle = CatBoostOracle(\n",
    "        'Log S', path='../dgym/envs/models/aqsolcb.model')\n",
    "    \n",
    "    return pIC50_oracle, log_P_oracle, log_S_oracle, constant_oracle, random_oracle"
   ]
  },
  {
   "cell_type": "code",
   "execution_count": 3,
   "id": "b7a22a23-125c-4112-a38a-416b8d53646d",
   "metadata": {
    "tags": []
   },
   "outputs": [],
   "source": [
    "from dgym.envs.utility import ClassicUtilityFunction, MultipleUtilityFunction\n",
    "\n",
    "# Get objectives\n",
    "pIC50_oracle, log_P_oracle, log_S_oracle, constant_oracle, random_oracle = get_tcp_objectives()\n",
    "\n",
    "# Define utility functions\n",
    "pIC50_utility = ClassicUtilityFunction(\n",
    "    pIC50_oracle, ideal=(9.5, 13), acceptable=(8, 13))\n",
    "log_P_utility = ClassicUtilityFunction(\n",
    "    log_P_oracle, ideal=(0.5, 1.85), acceptable=(-0.5, 3.5))\n",
    "log_S_utility = ClassicUtilityFunction(\n",
    "    log_S_oracle, ideal=(-3, 1), acceptable=(-4, 1))\n",
    "constant_utility = ClassicUtilityFunction(\n",
    "    constant_oracle, ideal=(3, 4), acceptable=(2, 5))\n",
    "random_utility = ClassicUtilityFunction(\n",
    "    random_oracle, ideal=(3, 4), acceptable=(2, 5))\n",
    "\n",
    "# Assemble assays and surrogate models\n",
    "from dgym.envs.oracle import GaussianOracle\n",
    "assays = [\n",
    "    pIC50_oracle,\n",
    "    log_P_oracle,\n",
    "    log_S_oracle,\n",
    "    GaussianOracle(f'Noisy {pIC50_oracle.name}', loc=7.460298232446733, scale=100),\n",
    "    GaussianOracle(f'Noisy {log_P_oracle.name}', loc=2.223214738326521, scale=100),\n",
    "    GaussianOracle(f'Noisy {log_S_oracle.name}', loc=-3.752548978069126, scale=100),\n",
    "]\n",
    "\n",
    "# Environment tolerates acceptable ADMET\n",
    "from copy import deepcopy\n",
    "utility_agent = MultipleUtilityFunction(\n",
    "    utility_functions = [pIC50_utility, log_P_utility, log_S_utility],\n",
    "    weights = [0.8, 0.1, 0.1]\n",
    ")\n",
    "utility_env = deepcopy(utility_agent)\n",
    "utility_env.utility_functions[1].ideal = utility_env.utility_functions[1].acceptable\n",
    "utility_env.utility_functions[2].ideal = utility_env.utility_functions[2].acceptable"
   ]
  },
  {
   "cell_type": "markdown",
   "id": "33c88781-ba5b-4e45-98ea-8e25a4639eac",
   "metadata": {},
   "source": [
    "Instantiate designer."
   ]
  },
  {
   "cell_type": "code",
   "execution_count": 4,
   "id": "80f19092-150e-4fb7-87d6-e1c203aa721b",
   "metadata": {
    "tags": []
   },
   "outputs": [],
   "source": [
    "from dgym.envs.designer import Designer, Generator\n",
    "\n",
    "designer = Designer(\n",
    "    Generator(building_blocks, fingerprints, sizes),\n",
    "    reactions,\n",
    "    cache = True\n",
    ")"
   ]
  },
  {
   "cell_type": "markdown",
   "id": "01233a8b-8f11-481b-8154-08b9e234c01d",
   "metadata": {},
   "source": [
    "Pick 5 random starting hits."
   ]
  },
  {
   "cell_type": "code",
   "execution_count": 5,
   "id": "8fcc0795-ebaa-42de-ac4b-dec137e9fc22",
   "metadata": {
    "tags": []
   },
   "outputs": [
    {
     "name": "stderr",
     "output_type": "stream",
     "text": [
      "[18:17:40] mapped atoms in the reactants were not mapped in the products.\n",
      "  unmapped numbers are: 4 \n",
      "[18:17:40] mapped atoms in the reactants were not mapped in the products.\n",
      "  unmapped numbers are: 3 \n",
      "[18:17:40] mapped atoms in the reactants were not mapped in the products.\n",
      "  unmapped numbers are: 3 \n",
      "[18:17:40] mapped atoms in the reactants were not mapped in the products.\n",
      "  unmapped numbers are: 3 \n",
      "[18:17:40] mapped atoms in the reactants were not mapped in the products.\n",
      "  unmapped numbers are: 3 \n",
      "[18:17:40] mapped atoms in the reactants were not mapped in the products.\n",
      "  unmapped numbers are: 4 \n",
      "[18:17:40] product atom-mapping number 15 not found in reactants.\n",
      "[18:17:40] product atom-mapping number 14 not found in reactants.\n",
      "[18:17:40] product atom-mapping number 13 not found in reactants.\n",
      "[18:17:40] reactant 1 has no mapped atoms.\n",
      "[18:17:40] product atom-mapping number 2 not found in reactants.\n",
      "[18:17:40] product atom-mapping number 3 not found in reactants.\n",
      "[18:17:40] product atom-mapping number 6 found multiple times.\n",
      "[18:17:40] product atom-mapping number 4 not found in reactants.\n"
     ]
    },
    {
     "name": "stdout",
     "output_type": "stream",
     "text": [
      "[]\n",
      "unidock --receptor ../../dgym-data/dockstring_targets/ABL1_target.pdbqt --ligand_index /tmp/tmppywa7aip/ligands.txt --dir /tmp/tmppywa7aip --search_mode detailed --scoring vina --seed 5 --center_x 15.851 --center_y 14.647 --center_z 3.904 --size_x 22.5 --size_y 22.5 --size_z 22.5\n",
      "CompletedProcess(args='unidock --receptor ../../dgym-data/dockstring_targets/ABL1_target.pdbqt --ligand_index /tmp/tmppywa7aip/ligands.txt --dir /tmp/tmppywa7aip --search_mode detailed --scoring vina --seed 5 --center_x 15.851 --center_y 14.647 --center_z 3.904 --size_x 22.5 --size_y 22.5 --size_z 22.5', returncode=0, stdout='Uni-Dock v1.1.0\\n\\nIf you used Uni-Dock in your work, please cite:               \\n \\nYu, Y., Cai, C., Wang, J., Bo, Z., Zhu, Z., & Zheng, H. (2023). \\nUni-Dock: GPU-Accelerated Docking Enables Ultralarge Virtual Screening. \\nJournal of Chemical Theory and Computation.                    \\nhttps://doi.org/10.1021/acs.jctc.2c01145                       \\n\\nTang, S., Chen, R., Lin, M., Lin, Q., Zhu, Y., Ding, J., ... & Wu, J. (2022). \\nAccelerating autodock vina with gpus. Molecules, 27(9), 3041. \\nDOI 10.3390/molecules27093041                                 \\n\\nJ. Eberhardt, D. Santos-Martins, A. F. Tillack, and S. Forli  \\nAutoDock Vina 1.2.0: New Docking Methods, Expanded Force      \\nField, and Python Bindings, J. Chem. Inf. Model. (2021)       \\nDOI 10.1021/acs.jcim.1c00203                                  \\n\\nO. Trott, A. J. Olson,                                        \\nAutoDock Vina: improving the speed and accuracy of docking    \\nwith a new scoring function, efficient optimization and        \\nmultithreading, J. Comp. Chem. (2010)                         \\nDOI 10.1002/jcc.21334                                         \\n\\nPlease refer to https://github.com/dptech-corp/Uni-Dock/ for  \\nbug reporting, license agreements, and more information.      \\n\\nScoring function : vina\\nRigid receptor: ../../dgym-data/dockstring_targets/ABL1_target.pdbqt\\nGrid center: X 15.851 Y 14.647 Z 3.904\\nGrid size  : X 22.5 Y 22.5 Z 22.5\\nGrid space : 0.375\\nExhaustiveness: 512\\nCPU: 0\\nVerbosity: 1\\n\\nComputing Vina grid ... done.\\nTotal ligands: 5\\nSet GPU device id to 0\\nAvailable Memory = 7070MiB   Total Memory = 8187MiB\\nall_ligands.size():5\\nmax_num_atoms16\\nmax_num_torsions:3\\nmax_num_rigids:2\\nmax_num_lig_pairs:49\\nSmall Group:\\nMax num_atoms: 13 Max num_torsions: 1 Max num_rigids: 1 Max num_lig_pairs: 24\\nGroup size: 1\\nMedium Group:\\nMax num_atoms: 15 Max num_torsions: 1 Max num_rigids: 1 Max num_lig_pairs: 18\\nGroup size: 1\\nLarge Group:\\nMax num_atoms: 15 Max num_torsions: 1 Max num_rigids: 1 Max num_lig_pairs: 38\\nGroup size: 1\\nExtra Large Group:\\nMax num_atoms: 16 Max num_torsions: 3 Max num_rigids: 2 Max num_lig_pairs: 49\\nGroup size: 2\\nSmall\\nMax num_atoms: 13 Max num_torsions: 1 Max num_rigids: 1 Max num_lig_pairs: 24\\nGroup size: 1\\nSmall Batch 1 size: 1\\nPerforming docking (random seed: 5) ... Time spend on GPU is 66.268349 ms\\nKernel running time: 169\\n\\nmode |   affinity | dist from best mode\\n     | (kcal/mol) | rmsd l.b.| rmsd u.b.\\n-----+------------+----------+----------\\n   1       -7.525          0          0\\n   2       -7.275      1.677      4.771\\n   3       -7.263      1.786      4.858\\n   4       -7.231      1.604      4.798\\n   5       -7.187      1.656      4.802\\n   6       -7.124      1.329      1.615\\n   7       -6.831      0.826      2.256\\nposes saveing time: 4\\nBatch 1 running time: 414ms\\nMedium\\nMax num_atoms: 15 Max num_torsions: 1 Max num_rigids: 1 Max num_lig_pairs: 18\\nGroup size: 1\\nMedium Batch 1 size: 1\\nPerforming docking (random seed: 5) ... Time spend on GPU is 101.902657 ms\\nKernel running time: 205\\n\\nmode |   affinity | dist from best mode\\n     | (kcal/mol) | rmsd l.b.| rmsd u.b.\\n-----+------------+----------+----------\\n   1       -7.694          0          0\\n   2       -6.912      2.472      4.345\\n   3       -6.791      2.605      4.068\\n   4       -6.738      1.654      3.451\\n   5       -6.527      2.707      4.528\\n   6       -6.393      3.622      4.843\\n   7       -6.348      2.755      4.841\\n   8       -6.199       3.54      4.668\\nposes saveing time: 3\\nBatch 1 running time: 404ms\\nLarge\\nMax num_atoms: 15 Max num_torsions: 1 Max num_rigids: 1 Max num_lig_pairs: 38\\nGroup size: 1\\nLarge Batch 1 size: 1\\nPerforming docking (random seed: 5) ... Time spend on GPU is 91.512352 ms\\nKernel running time: 201\\n\\nmode |   affinity | dist from best mode\\n     | (kcal/mol) | rmsd l.b.| rmsd u.b.\\n-----+------------+----------+----------\\n   1       -8.261          0          0\\n   2       -8.222     0.1671      2.119\\n   3       -8.112      2.146      5.439\\n   4       -8.108      1.969      5.072\\n   5       -8.104      2.114      5.299\\n   6       -8.077      1.978      5.114\\n   7       -7.836      2.383      5.486\\n   8       -7.823      1.428       1.71\\nposes saveing time: 6\\nBatch 1 running time: 404ms\\nExtra Large\\nMax num_atoms: 16 Max num_torsions: 3 Max num_rigids: 2 Max num_lig_pairs: 49\\nGroup size: 2\\nExtra Large Batch 1 size: 2\\nPerforming docking (random seed: 5) ... Time spend on GPU is 224.133118 ms\\nKernel running time: 410\\n\\nmode |   affinity | dist from best mode\\n     | (kcal/mol) | rmsd l.b.| rmsd u.b.\\n-----+------------+----------+----------\\n   1        -6.04          0          0\\n   2       -6.013      2.322      5.888\\n   3       -5.994      1.267      1.683\\n   4        -5.96       2.65      6.087\\n   5       -5.922      2.498      5.833\\n   6        -5.89      2.631      5.919\\n   7       -5.889      2.429      5.555\\n   8       -5.839      1.652      2.172\\n\\nmode |   affinity | dist from best mode\\n     | (kcal/mol) | rmsd l.b.| rmsd u.b.\\n-----+------------+----------+----------\\n   1       -7.273          0          0\\n   2       -7.191     0.3747      1.073\\n   3       -7.177      3.863      6.062\\n   4       -7.129     0.6485      1.211\\n   5       -7.079     0.6339      1.246\\n   6       -7.074     0.9405      1.683\\n   7       -7.059     0.9044      1.331\\n   8       -6.842      3.531      5.899\\nposes saveing time: 7\\nBatch 1 running time: 649ms\\n', stderr='')\n"
     ]
    }
   ],
   "source": [
    "import warnings\n",
    "warnings.filterwarnings(\"ignore\")\n",
    "\n",
    "# select first molecule\n",
    "import random\n",
    "def select_molecule(deck):\n",
    "    initial_index = random.randint(0, len(deck) - 1)\n",
    "    initial_molecule = deck[initial_index]\n",
    "    if len(initial_molecule.reactants) == 2 \\\n",
    "        and designer.match_reactions(initial_molecule):\n",
    "        return initial_molecule\n",
    "    else:\n",
    "        return select_molecule(deck)\n",
    "\n",
    "initial_molecules = [select_molecule(deck) for _ in range(5)]\n",
    "library = dg.MoleculeCollection(initial_molecules).update_annotations()\n",
    "\n",
    "# Score molecules\n",
    "for assay in assays:\n",
    "    if 'Noisy' not in assay.name:\n",
    "        results = assay(library)\n",
    "        for molecule, result in zip(library, results):\n",
    "            molecule.update_annotations({assay.name: result})\n",
    "\n",
    "# Set status to tested\n",
    "library.set_status('Tested', step=0)"
   ]
  },
  {
   "cell_type": "markdown",
   "id": "150be54d-31a4-4287-bb31-abcde4e6abc0",
   "metadata": {
    "tags": []
   },
   "source": [
    "Instantiate Environment and Agent."
   ]
  },
  {
   "cell_type": "code",
   "execution_count": 6,
   "id": "7e6d8a3a-1c83-4dde-82ea-d56a04ca1724",
   "metadata": {
    "tags": []
   },
   "outputs": [],
   "source": [
    "from dgym.envs import DrugEnv\n",
    "from dgym.agents import SequentialDrugAgent\n",
    "from dgym.agents.exploration import EpsilonGreedy\n",
    "\n",
    "drug_env = DrugEnv(\n",
    "    designer = designer,\n",
    "    library = library,\n",
    "    assays = assays,\n",
    "    utility_function = utility_env\n",
    ")\n",
    "\n",
    "# Construct sequence\n",
    "design_grow = {'name': 'design', 'batch_size': 8, 'parameters': {'strategy': 'grow', 'size': 5}}\n",
    "design_replace = {'name': 'design', 'batch_size': 8, 'parameters': {'strategy': 'replace', 'size': 5, 'temperature': 0.2}}\n",
    "score = {'name': ['Noisy ABL1 pIC50', 'Noisy Log S', 'Noisy Log P'], 'batch_size': 8 * 5, 'parameters': {'batch_size': 40}}\n",
    "make = {'name': 'make', 'batch_size': 8}\n",
    "test = {'name': ['ABL1 pIC50', 'Log S', 'Log P'], 'batch_size': 8}\n",
    "design_and_score = [design_replace, score]\n",
    "\n",
    "sequence = [design_replace, score, design_grow, score, make, test]\n",
    "\n",
    "drug_agent = SequentialDrugAgent(\n",
    "    sequence = sequence,\n",
    "    exploration_strategy = EpsilonGreedy(epsilon=0.25),\n",
    "    utility_function = utility_agent\n",
    ")"
   ]
  },
  {
   "cell_type": "code",
   "execution_count": 7,
   "id": "a0405181-b818-423f-b2a3-73d9c3916b2b",
   "metadata": {
    "tags": []
   },
   "outputs": [],
   "source": [
    "def display_best(experiment):\n",
    "    import numpy as np\n",
    "    observations = experiment.drug_env.library\n",
    "    utilities = experiment.drug_env.utility_function(\n",
    "        observations, use_precomputed=True, method='average')\n",
    "    for obs, utility in zip(observations, utilities):\n",
    "        obs.update_annotations({'utility': utility})\n",
    "    tested = observations.tested\n",
    "    if tested:\n",
    "        best_tested = (\n",
    "            tested\n",
    "            .annotations\n",
    "            .sort_values('utility', ascending=False)\n",
    "            [['ABL1 pIC50', 'Log S', 'Log P', 'utility']]\n",
    "            .head()\n",
    "        )\n",
    "        display(best_tested)"
   ]
  },
  {
   "cell_type": "markdown",
   "id": "c511e231-34bf-4365-9d84-7242a83f0f86",
   "metadata": {},
   "source": [
    "## Test loading mechanism"
   ]
  },
  {
   "cell_type": "code",
   "execution_count": 8,
   "id": "55a30963-a6d8-483a-bab2-7f3fb96815f3",
   "metadata": {
    "tags": []
   },
   "outputs": [],
   "source": [
    "import warnings\n",
    "warnings.filterwarnings('ignore')\n",
    "\n",
    "import os\n",
    "import json\n",
    "import zipfile\n",
    "import pandas as pd\n",
    "from tqdm.auto import tqdm\n",
    "from io import TextIOWrapper\n",
    "from collections import defaultdict"
   ]
  },
  {
   "cell_type": "code",
   "execution_count": 9,
   "id": "0c9a66cc-701d-447e-8951-7fd77239cc21",
   "metadata": {
    "tags": []
   },
   "outputs": [
    {
     "data": {
      "application/vnd.jupyter.widget-view+json": {
       "model_id": "933ca490757f4790bf9943b2f51c99ff",
       "version_major": 2,
       "version_minor": 0
      },
      "text/plain": [
       "  0%|          | 0/1 [00:00<?, ?it/s]"
      ]
     },
     "metadata": {},
     "output_type": "display_data"
    }
   ],
   "source": [
    "path = '../../dgym-data/analysis/noise/selection_max_noise_2024-05-19_11-56-02.zip'\n",
    "\n",
    "with zipfile.ZipFile(path, 'r') as z:\n",
    "    for filename in tqdm(z.namelist()[:1]):\n",
    "        if filename.endswith('.json'):\n",
    "            with z.open(filename) as file:\n",
    "                with TextIOWrapper(file, encoding='utf-8') as text_file:\n",
    "                    result = json.load(text_file)"
   ]
  },
  {
   "cell_type": "code",
   "execution_count": 10,
   "id": "44c2951e-fcd5-4790-b26f-b9a8d3d44c4d",
   "metadata": {
    "tags": []
   },
   "outputs": [
    {
     "data": {
      "application/vnd.jupyter.widget-view+json": {
       "model_id": "b3ef23bcf05e4ecf8e01e620accc348a",
       "version_major": 2,
       "version_minor": 0
      },
      "text/plain": [
       "  0%|          | 0/1 [00:00<?, ?it/s]"
      ]
     },
     "metadata": {},
     "output_type": "display_data"
    },
    {
     "name": "stdout",
     "output_type": "stream",
     "text": [
      "MoleculeCollection with 4871 Molecules\n"
     ]
    },
    {
     "data": {
      "application/vnd.jupyter.widget-view+json": {
       "model_id": "70b743011d024dd3aba40ca3deadedc6",
       "version_major": 2,
       "version_minor": 0
      },
      "text/plain": [
       "  0%|          | 0/100000 [00:00<?, ?it/s]"
      ]
     },
     "metadata": {},
     "output_type": "display_data"
    },
    {
     "name": "stdout",
     "output_type": "stream",
     "text": [
      "Created action\n",
      "{'name': 'design', 'parameters': {'strategy': 'replace', 'size': 5, 'temperature': 0.2}, 'molecules': [2287, 4798, 3942, 3868, 4335, 1007, 936, 3846]}\n",
      "['Scored', 'Tested', 'Tested', 'Tested', 'Tested', 'Scored', 'Scored', 'Tested']\n"
     ]
    },
    {
     "name": "stderr",
     "output_type": "stream",
     "text": [
      "[18:17:50] Can't kekulize mol.  Unkekulized atoms: 8 10 13\n",
      "[18:17:50] Can't kekulize mol.  Unkekulized atoms: 8 10 12\n",
      "[18:17:50] Can't kekulize mol.  Unkekulized atoms: 9 11 14\n",
      "[18:17:50] Can't kekulize mol.  Unkekulized atoms: 8 10 13\n",
      "[18:17:50] Can't kekulize mol.  Unkekulized atoms: 11 13 15\n",
      "[18:17:51] Can't kekulize mol.  Unkekulized atoms: 10 11 14\n",
      "[18:17:51] Can't kekulize mol.  Unkekulized atoms: 9 11 12\n",
      "[18:17:51] Can't kekulize mol.  Unkekulized atoms: 9 10 13\n",
      "[18:17:51] Can't kekulize mol.  Unkekulized atoms: 18 19 22\n",
      "[18:17:51] Can't kekulize mol.  Unkekulized atoms: 8 9 12\n",
      "[18:17:51] Can't kekulize mol.  Unkekulized atoms: 9 12 13\n",
      "[18:17:51] Can't kekulize mol.  Unkekulized atoms: 9 12 13\n",
      "[18:17:51] Can't kekulize mol.  Unkekulized atoms: 9 12 13\n",
      "[18:17:51] Can't kekulize mol.  Unkekulized atoms: 9 12 13\n",
      "[18:17:51] Can't kekulize mol.  Unkekulized atoms: 9 12 13\n",
      "[18:17:51] Can't kekulize mol.  Unkekulized atoms: 9 12 13\n",
      "[18:17:51] Can't kekulize mol.  Unkekulized atoms: 9 12 13\n"
     ]
    },
    {
     "name": "stdout",
     "output_type": "stream",
     "text": [
      "0.7588616636136815\n",
      "Created action\n",
      "{'name': ['Noisy ABL1 pIC50', 'Noisy Log S', 'Noisy Log P'], 'parameters': {'batch_size': 40}, 'molecules': [4892, 4871, 4872, 4873, 4875, 4874, 4876, 4877, 4878, 4879, 4902, 4880, 4881, 4882, 4883, 4884, 4885, 4886, 4887, 4897, 4888, 4889, 4890, 4893, 4891, 4894, 4896, 4895, 4898, 4899, 4900, 4901, 4903, 4904, 4905, 4907, 4906, 4908, 4909, 4910]}\n",
      "['Designed', 'Designed', 'Designed', 'Designed', 'Designed', 'Designed', 'Designed', 'Designed', 'Designed', 'Designed', 'Designed', 'Designed', 'Designed', 'Designed', 'Designed', 'Designed', 'Designed', 'Designed', 'Designed', 'Designed', 'Designed', 'Designed', 'Designed', 'Designed', 'Designed', 'Designed', 'Designed', 'Designed', 'Designed', 'Designed', 'Designed', 'Designed', 'Designed', 'Designed', 'Designed', 'Designed', 'Designed', 'Designed', 'Designed', 'Designed']\n",
      "{'batch_size': 40}\n",
      "[6.384607999946125, 100.36985629446562, -3.9409014414031143, 159.58050731312403, -4.871004632250275, 81.99536616646375, -6.561830179550257, 40.95757567472914, 88.76215013257281, -119.82633472565459, 170.480593261438, -50.20078432925709, -62.16844766894128, -49.11698703840582, -59.46415324999761, -150.53710628517607, -176.35811666255768, -210.8215918652803, -1.878579720687143, -94.16253533606485, 69.41805956274814, -123.6177969508269, 53.80787076468156, -45.46068404247476, 64.40208462500908, 109.33082154096529, -173.27275936802585, 33.696975455751996, 36.92287445300953, 70.02156583562325, 280.0548765463353, 45.8481154332572, -98.90418796049421, -145.26547621488365, 37.19513239220299, 124.44877033995382, -164.1738697457998, 84.07916718757889, 66.02842339592118, 77.50287960534656]\n",
      "{'batch_size': 40}\n",
      "[118.327811068265, 34.323353619251414, 96.46546608755607, 225.67156447304683, -58.2081914209343, -96.06456713462869, -32.45541283850857, -56.96150764797229, 80.21575189840287, -64.76970339806462, 41.77438248454386, -41.20391995209191, -97.4678461142798, 35.71239352102433, 80.39675303426128, -14.525191296540772, 280.279866739683, 91.13339091126414, -46.03284861849482, -16.983797901625547, 10.311133819941173, 48.35705797209053, 105.93550344709553, -85.63837293465195, 91.12207068346052, 180.88073615215652, 21.127145915611866, 129.83164306099383, -134.35396179066464, -201.7158938107972, 241.8280264891523, -125.00315064138897, -36.35822729899427, -92.74514668048131, 88.370004079997, 46.52976629313019, 43.23727341574909, 69.73517519543579, -25.087700708459, 144.1561467576869]\n",
      "{'batch_size': 40}\n",
      "[171.09937499645198, -135.54704039099343, 10.819824368358022, -77.38942113274115, -151.89422924592535, 19.21399409334247, 10.10995089890307, -164.16374081288416, 4.911080128954733, 78.84860849828631, 78.56613647040682, 120.44835474778321, -117.16995797501724, -51.26925734873109, 24.948852146157613, -197.12341912514194, 28.362541103726457, 35.47908003048038, 51.27166246106233, 78.54057674804082, 36.68011809568014, -104.55568918169786, -93.97405520542806, -252.7734267374421, 79.02155862129115, 63.91843552959258, -10.693988776152358, 178.0432885226191, 20.13845400323396, 118.55078980504692, 13.988927944177101, 9.317532378403659, -90.53224064299869, 250.30450558058584, 108.52619752525518, -32.16657980465858, -126.973634506936, -16.1345316728592, -52.00180743595853, 78.1128983953516]\n",
      "0.7588616636136815\n",
      "Created action\n",
      "{'name': 'design', 'parameters': {'strategy': 'grow', 'size': 5}, 'molecules': [4798, 3942, 3868, 4335, 3846, 1751, 1413, 2758]}\n",
      "['Tested', 'Tested', 'Tested', 'Tested', 'Tested', 'Scored', 'Tested', 'Tested']\n",
      "0.7588616636136815\n",
      "Created action\n",
      "{'name': ['Noisy ABL1 pIC50', 'Noisy Log S', 'Noisy Log P'], 'parameters': {'batch_size': 40}, 'molecules': [4917, 4911, 4945, 4912, 4919, 4914, 4937, 4926, 4931, 4913, 4915, 4916, 4918, 4920, 4921, 4922, 4942, 4923, 4924, 4925, 4927, 4928, 4929, 4932, 4930, 4933, 4934, 4935, 4936, 4938, 4939, 4943, 4940, 4941, 4950, 4946, 4944, 4947, 4948, 4949]}\n",
      "['Designed', 'Designed', 'Designed', 'Designed', 'Designed', 'Designed', 'Designed', 'Designed', 'Designed', 'Designed', 'Designed', 'Designed', 'Designed', 'Designed', 'Designed', 'Designed', 'Designed', 'Designed', 'Designed', 'Designed', 'Designed', 'Designed', 'Designed', 'Designed', 'Designed', 'Designed', 'Designed', 'Designed', 'Designed', 'Designed', 'Designed', 'Designed', 'Designed', 'Designed', 'Designed', 'Designed', 'Designed', 'Designed', 'Designed', 'Designed']\n",
      "{'batch_size': 40}\n",
      "[-21.145562494848498, 43.66876611738585, 24.28560338742633, -23.249723634231344, 104.68909960521096, 138.89708177339244, -217.75827207510534, 118.69634454517995, -135.82643227130683, -92.89321256689956, -29.518943909514626, 29.112642898229034, -55.28970924982667, 51.16633724415156, 88.96856045533904, -69.13882144147541, -6.306976391925375, 44.0651421810155, -81.69162738241026, 81.04479357943539, 99.51158287997909, -58.38139313180403, 39.85546254389856, -23.977001916962017, -3.141094227146376, -15.834579862321068, 108.0727661996679, -171.64855633917074, 87.6954498493512, -122.31944253759441, -35.385072890576744, -20.18491697396963, -42.97972306193164, -172.67347977800281, 111.56522341994187, -108.26000504455722, 84.0984988902073, 152.75292064091533, -158.7293387909719, -198.77215234859045]\n",
      "{'batch_size': 40}\n",
      "[52.39981520556087, 151.5027987963482, 122.17854199533447, -36.421780396678365, 7.736121177375613, -143.17952058226234, 1.519643152500656, 182.04890386586024, 67.1750842835213, -3.013476025215388, -42.22256312804292, -44.09621120708311, -64.9262900212075, -187.78910173458576, 86.17964616014201, -74.3188621118432, 214.46199187544855, -16.431889394312467, -62.319724195260534, 81.0634060150065, -165.74303009538994, -19.014416806997616, -119.90537578972754, 118.3560569661323, 76.8327873973718, -28.2385846208316, 51.4253793021402, -26.767771240795245, -20.290233254920363, 195.18359514570994, 45.91677383509362, -32.669035259824696, 26.76396248251261, -137.3509253282434, -218.43923848396395, 15.62436422161354, -91.54215339406466, 30.229051933112327, -215.2573179097529, -141.41589248470694]\n",
      "{'batch_size': 40}\n"
     ]
    },
    {
     "name": "stderr",
     "output_type": "stream",
     "text": [
      "[18:17:52] Can't kekulize mol.  Unkekulized atoms: 8 10 13\n",
      "[18:17:52] Can't kekulize mol.  Unkekulized atoms: 9 11 14\n",
      "[18:17:52] Can't kekulize mol.  Unkekulized atoms: 8 9 12\n",
      "[18:17:52] Can't kekulize mol.  Unkekulized atoms: 10 11 14\n",
      "[18:17:52] Can't kekulize mol.  Unkekulized atoms: 10 11 14\n",
      "[18:17:52] Can't kekulize mol.  Unkekulized atoms: 10 11 14\n",
      "[18:17:52] Can't kekulize mol.  Unkekulized atoms: 9 10 13\n",
      "[18:17:52] Can't kekulize mol.  Unkekulized atoms: 10 11 14\n",
      "[18:17:52] Can't kekulize mol.  Unkekulized atoms: 10 11 14\n",
      "[18:17:52] Can't kekulize mol.  Unkekulized atoms: 9 10 13\n",
      "[18:17:52] Can't kekulize mol.  Unkekulized atoms: 10 11 14\n",
      "[18:17:52] Can't kekulize mol.  Unkekulized atoms: 10 11 14\n",
      "[18:17:52] Can't kekulize mol.  Unkekulized atoms: 10 11 14\n",
      "[18:17:52] Can't kekulize mol.  Unkekulized atoms: 10 11 14\n",
      "[18:17:52] Can't kekulize mol.  Unkekulized atoms: 10 11 14\n",
      "[18:17:52] Can't kekulize mol.  Unkekulized atoms: 10 11 14\n",
      "[18:17:52] Can't kekulize mol.  Unkekulized atoms: 10 11 14\n",
      "[18:17:52] Can't kekulize mol.  Unkekulized atoms: 9 10 13\n",
      "[18:17:52] Can't kekulize mol.  Unkekulized atoms: 9 10 13\n",
      "[18:17:52] Can't kekulize mol.  Unkekulized atoms: 10 11 14\n",
      "[18:17:52] Can't kekulize mol.  Unkekulized atoms: 10 11 14\n",
      "[18:17:52] Can't kekulize mol.  Unkekulized atoms: 9 10 13\n",
      "[18:17:52] Can't kekulize mol.  Unkekulized atoms: 9 10 13\n",
      "[18:17:52] Can't kekulize mol.  Unkekulized atoms: 10 11 14\n",
      "[18:17:52] Can't kekulize mol.  Unkekulized atoms: 9 10 13\n",
      "[18:17:52] Can't kekulize mol.  Unkekulized atoms: 9 10 13\n",
      "[18:17:52] Can't kekulize mol.  Unkekulized atoms: 8 9 12\n",
      "[18:17:52] Can't kekulize mol.  Unkekulized atoms: 10 11 14\n",
      "[18:17:52] Can't kekulize mol.  Unkekulized atoms: 10 11 14\n",
      "[18:17:52] Can't kekulize mol.  Unkekulized atoms: 10 11 14\n",
      "[18:17:52] Can't kekulize mol.  Unkekulized atoms: 9 10 13\n",
      "[18:17:52] Can't kekulize mol.  Unkekulized atoms: 9 10 13\n",
      "[18:17:52] Can't kekulize mol.  Unkekulized atoms: 9 10 13\n",
      "[18:17:52] Can't kekulize mol.  Unkekulized atoms: 9 10 13\n",
      "[18:17:52] Can't kekulize mol.  Unkekulized atoms: 10 11 14\n",
      "[18:17:52] Can't kekulize mol.  Unkekulized atoms: 10 11 14\n",
      "[18:17:52] Can't kekulize mol.  Unkekulized atoms: 10 11 14\n",
      "[18:17:52] Can't kekulize mol.  Unkekulized atoms: 10 11 14\n",
      "[18:17:52] Can't kekulize mol.  Unkekulized atoms: 10 11 14\n",
      "[18:17:52] Can't kekulize mol.  Unkekulized atoms: 10 11 14\n",
      "[18:17:52] Can't kekulize mol.  Unkekulized atoms: 10 11 14\n",
      "[18:17:52] Can't kekulize mol.  Unkekulized atoms: 10 11 14\n",
      "[18:17:52] Can't kekulize mol.  Unkekulized atoms: 10 11 14\n",
      "[18:17:52] Can't kekulize mol.  Unkekulized atoms: 9 10 13\n",
      "[18:17:52] Can't kekulize mol.  Unkekulized atoms: 8 9 12\n",
      "[18:17:52] Can't kekulize mol.  Unkekulized atoms: 8 9 12\n",
      "[18:17:52] Can't kekulize mol.  Unkekulized atoms: 8 9 12\n",
      "[18:17:52] Can't kekulize mol.  Unkekulized atoms: 7 8 11\n",
      "[18:17:52] Can't kekulize mol.  Unkekulized atoms: 8 9 12\n",
      "[18:17:52] Can't kekulize mol.  Unkekulized atoms: 8 9 12\n"
     ]
    },
    {
     "name": "stdout",
     "output_type": "stream",
     "text": [
      "[-11.725029668715983, 86.78202479688444, 57.241174306086904, 99.34383503219179, 36.34847721064404, 144.39509837274935, -124.01581716760708, 44.304293015804674, 102.47088983583312, -137.04729500827057, 45.48284908281319, 48.523819407210844, 148.84445484849078, -135.49539455907762, -54.15846210048626, 29.058364409455233, 59.14176442894635, -22.058789843246156, -128.88209324465936, -59.358818557992706, 216.06014726849293, 29.76516794568084, 119.26361135034196, -19.74803913141332, -37.31701238975586, 62.47156765132884, -51.479383454771806, -86.94160338235103, 159.52563269922118, -76.29517816628919, 21.65754229958517, 44.61018773409938, -108.64230213768427, -29.466085346179245, -28.605383736894105, 85.16986417516507, -91.47994376295493, 12.676002529212123, 10.647398641408696, 129.71951870129038]\n",
      "0.7588616636136815\n",
      "Created action\n",
      "{'name': 'make', 'parameters': {}, 'molecules': [4876, 4887, 4780, 4550, 4800, 4542, 4845, 2167]}\n",
      "['Scored', 'Scored', 'Scored', 'Scored', 'Scored', 'Scored', 'Scored', 'Scored']\n",
      "0.7588616636136815\n",
      "Created action\n",
      "{'name': ['ABL1 pIC50', 'Log S', 'Log P'], 'parameters': {}, 'molecules': [4876, 4845, 4887, 4780, 4550, 4800, 4542, 2167]}\n",
      "['Made', 'Made', 'Made', 'Made', 'Made', 'Made', 'Made', 'Made']\n",
      "{}\n",
      "[]\n",
      "unidock --receptor ../../dgym-data/dockstring_targets/ABL1_target.pdbqt --ligand_index /tmp/tmpzilq4_9t/ligands.txt --dir /tmp/tmpzilq4_9t --search_mode detailed --scoring vina --seed 5 --center_x 15.851 --center_y 14.647 --center_z 3.904 --size_x 22.5 --size_y 22.5 --size_z 22.5\n"
     ]
    },
    {
     "name": "stderr",
     "output_type": "stream",
     "text": [
      "\n",
      "KeyboardInterrupt\n",
      "\n"
     ]
    }
   ],
   "source": [
    "\n",
    "exp_loaded = experiment.load(result)\n",
    "exp_loaded.run()"
   ]
  },
  {
   "cell_type": "code",
   "execution_count": 170,
   "id": "24747af7-609c-419d-b9ff-70451b6ba4fb",
   "metadata": {
    "tags": []
   },
   "outputs": [],
   "source": [
    "# # exp_loaded.drug_agent.reset()\n",
    "# # observations, _ = exp_loaded.drug_env.reset()\n",
    "# action = exp_loaded.drug_agent.act(observations)\n",
    "# print(action)\n",
    "# observations, _, _, _, _ = exp_loaded.drug_env.step(action)"
   ]
  }
 ],
 "metadata": {
  "kernelspec": {
   "display_name": "Python 3 (ipykernel)",
   "language": "python",
   "name": "python3"
  },
  "language_info": {
   "codemirror_mode": {
    "name": "ipython",
    "version": 3
   },
   "file_extension": ".py",
   "mimetype": "text/x-python",
   "name": "python",
   "nbconvert_exporter": "python",
   "pygments_lexer": "ipython3",
   "version": "3.11.5"
  }
 },
 "nbformat": 4,
 "nbformat_minor": 5
}
