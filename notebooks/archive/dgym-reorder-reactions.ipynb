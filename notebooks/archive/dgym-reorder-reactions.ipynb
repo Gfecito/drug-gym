{
 "cells": [
  {
   "cell_type": "markdown",
   "id": "022e90c8-adfd-49b3-a392-9eca59207b17",
   "metadata": {},
   "source": [
    "## Sort the SMILESClickChem Reactions"
   ]
  },
  {
   "cell_type": "markdown",
   "id": "111f0a22-4e1f-4079-adf1-673f6c3704df",
   "metadata": {},
   "source": [
    "We want to sort the reactions by compatibility with the Enamine building block space.\n",
    "\n",
    "First, load the data."
   ]
  },
  {
   "cell_type": "code",
   "execution_count": 1,
   "id": "64f579e1-1b34-439e-a23f-bd39452d15df",
   "metadata": {
    "tags": []
   },
   "outputs": [],
   "source": [
    "%reload_ext autoreload\n",
    "%autoreload 2\n",
    "\n",
    "import rdkit\n",
    "rdkit.Chem.Draw.IPythonConsole.ipython_maxProperties = -1\n",
    "\n",
    "import dgym as dg\n",
    "\n",
    "# load all data\n",
    "path = '../../../dgym-data'\n",
    "\n",
    "deck = dg.MoleculeCollection.load(\n",
    "    f'{path}/DSi-Poised_Library_annotated.sdf',\n",
    "    reactant_names=['reagsmi1', 'reagsmi2', 'reagsmi3']\n",
    ")\n",
    "\n",
    "reactions = dg.ReactionCollection.from_json(\n",
    "    path = f'{path}/All_Rxns_rxn_library.json',\n",
    "    smarts_col = 'reaction_string',\n",
    "    classes_col = 'functional_groups'\n",
    ")\n",
    "\n",
    "building_blocks = dg.datasets.disk_loader(f'{path}/Enamine_Building_Blocks_Stock_262336cmpd_20230630.sdf')\n",
    "fingerprints = dg.datasets.fingerprints(f'{path}/Enamine_Building_Blocks_Stock_262336cmpd_20230630_atoms.fpb')\n",
    "\n",
    "import torch\n",
    "import pyarrow.parquet as pq\n",
    "table = pq.read_table(f'{path}/sizes.parquet')[0]\n",
    "sizes = torch.tensor(table.to_numpy())"
   ]
  },
  {
   "cell_type": "markdown",
   "id": "fc1e8ab3-e64c-4614-94d7-953c1332059b",
   "metadata": {},
   "source": [
    "Instantiate the designer."
   ]
  },
  {
   "cell_type": "code",
   "execution_count": 2,
   "id": "5403d3b9-6aa9-4b9d-b9f4-a571a68912f3",
   "metadata": {
    "tags": []
   },
   "outputs": [],
   "source": [
    "from dgym.molecule import Molecule\n",
    "from dgym.envs.designer import Designer, Generator\n",
    "from dgym.envs.drug_env import DrugEnv\n",
    "from dgym.agents import SequentialDrugAgent\n",
    "from dgym.agents.exploration import EpsilonGreedy\n",
    "from dgym.experiment import Experiment\n",
    "\n",
    "designer = Designer(\n",
    "    Generator(building_blocks, fingerprints, sizes),\n",
    "    reactions,\n",
    "    cache = True\n",
    ")"
   ]
  },
  {
   "cell_type": "markdown",
   "id": "f4db8b69-ae5c-4db7-a3f3-f3549020848c",
   "metadata": {},
   "source": [
    "Run reaction with 10,000 randomly chosen Enamine building block pairs."
   ]
  },
  {
   "cell_type": "code",
   "execution_count": 25,
   "id": "31b94aa0-cc60-4fa8-8f1c-9471790e3675",
   "metadata": {
    "tags": []
   },
   "outputs": [
    {
     "data": {
      "application/vnd.jupyter.widget-view+json": {
       "model_id": "e6637e8293f3471a8fb61751c01ee4ee",
       "version_major": 2,
       "version_minor": 0
      },
      "text/plain": [
       "  0%|          | 0/94 [00:00<?, ?it/s]"
      ]
     },
     "metadata": {},
     "output_type": "display_data"
    }
   ],
   "source": [
    "from tqdm.notebook import tqdm\n",
    "from collections import defaultdict\n",
    "from rdkit import RDLogger\n",
    "RDLogger.DisableLog('rdApp.*')\n",
    "\n",
    "worked = defaultdict(int)\n",
    "random_combos = [[\n",
    "    next(designer.generator()),\n",
    "    next(designer.generator())\n",
    "] for _ in range(10_000)]\n",
    "\n",
    "records = []\n",
    "for reaction in tqdm(reactions):\n",
    "    num_compatible = 0\n",
    "    for combo in random_combos:\n",
    "        try:\n",
    "            analogs = next(reaction.run(combo))\n",
    "            num_compatible += 1\n",
    "        except:\n",
    "            pass\n",
    "    records.append({'reaction': reaction.name, 'num_compatible': num_compatible})\n",
    "reaction_compatibility = pd.DataFrame(records)"
   ]
  },
  {
   "cell_type": "markdown",
   "id": "e8471326-5e2c-4152-9c56-adf4e401caeb",
   "metadata": {},
   "source": [
    "Sort the results."
   ]
  },
  {
   "cell_type": "code",
   "execution_count": 26,
   "id": "99982f47-b15f-4159-ba19-c6d79b9ceccb",
   "metadata": {
    "tags": []
   },
   "outputs": [],
   "source": [
    "import pandas as pd\n",
    "\n",
    "order = (\n",
    "    pd.DataFrame(reaction_compatibility)\n",
    "    .sort_values('num_compatible', ascending=True)\n",
    "    .index\n",
    ")"
   ]
  },
  {
   "cell_type": "code",
   "execution_count": 34,
   "id": "71667681-b4ea-47df-9230-2f05b5d951f4",
   "metadata": {
    "tags": []
   },
   "outputs": [],
   "source": [
    "(\n",
    "    pd.DataFrame(reaction_compatibility)\n",
    "    .sort_values('num_compatible', ascending=False)\n",
    "    .reset_index()\n",
    ").to_csv('../../../dgym-data/reaction_compatibility_10000.csv')"
   ]
  },
  {
   "cell_type": "markdown",
   "id": "95da2027-bb1a-4c2f-8580-e835acefdd6e",
   "metadata": {},
   "source": [
    "Reorder the reactions."
   ]
  },
  {
   "cell_type": "code",
   "execution_count": 47,
   "id": "bb28ab63-e4fd-4b76-b9b6-377f7e2d3dbe",
   "metadata": {
    "tags": []
   },
   "outputs": [],
   "source": [
    "import json\n",
    "from collections import OrderedDict\n",
    "\n",
    "reaction_json = json.load(open(f'{path}/All_Rxns_rxn_library.json', 'r'))\n",
    "reaction_dict = OrderedDict(reaction_json)\n",
    "\n",
    "for index in order:\n",
    "    reaction_name = reactions[index].name\n",
    "    reaction_dict.move_to_end(reaction_name, last=False)"
   ]
  },
  {
   "cell_type": "markdown",
   "id": "76711d4f-fcb2-48a0-99e5-4472f555a92d",
   "metadata": {},
   "source": [
    "Write to disk."
   ]
  },
  {
   "cell_type": "code",
   "execution_count": 51,
   "id": "eefbb709-92b5-41ef-b977-e629bfda1626",
   "metadata": {
    "tags": []
   },
   "outputs": [],
   "source": [
    "json.dump(reaction_dict, open(f'{path}/All_Rxns_rxn_library_sorted.json', 'w'))"
   ]
  }
 ],
 "metadata": {
  "kernelspec": {
   "display_name": "Python 3 (ipykernel)",
   "language": "python",
   "name": "python3"
  },
  "language_info": {
   "codemirror_mode": {
    "name": "ipython",
    "version": 3
   },
   "file_extension": ".py",
   "mimetype": "text/x-python",
   "name": "python",
   "nbconvert_exporter": "python",
   "pygments_lexer": "ipython3",
   "version": "3.11.5"
  }
 },
 "nbformat": 4,
 "nbformat_minor": 5
}
