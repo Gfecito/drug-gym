{
 "cells": [
  {
   "cell_type": "code",
   "execution_count": 1,
   "id": "06a27df9-ef36-49bb-8ecc-a40a20ace8c8",
   "metadata": {
    "tags": []
   },
   "outputs": [],
   "source": [
    "from typing import List, Optional\n",
    "\n",
    "from sqlmodel import Field, Relationship, Session, SQLModel, create_engine\n",
    "\n",
    "# class MoleculeClassLink(SQLModel, table=True):\n",
    "#     class_id: Optional[int] = Field(\n",
    "#         default=None, foreign_key=\"class.id\", primary_key=True\n",
    "#     )\n",
    "#     molecule_id: Optional[int] = Field(\n",
    "#         default=None, foreign_key=\"molecule.id\", primary_key=True\n",
    "#     )\n",
    "\n",
    "# class Class(SQLModel, table=True):\n",
    "#     id: Optional[int] = Field(default = None, primary_key = True)\n",
    "#     smarts: str = Field(index = True)\n",
    "#     molecules: List['Molecule'] = Relationship(\n",
    "#         back_populates='classes', link_model=MoleculeClassLink\n",
    "#     )\n",
    "\n",
    "class Molecule(SQLModel, table=True):\n",
    "    id: Optional[int] = Field(default=None, primary_key=True)\n",
    "    smiles: Optional[str] = Field(default=None, nullable=True)\n",
    "    index: int\n",
    "\n",
    "    # Reaction logic\n",
    "    product_id: Optional[int] = Field(\n",
    "        foreign_key=\"molecule.id\", default=None, nullable=True\n",
    "    )\n",
    "    product: Optional[\"Molecule\"] = Relationship(\n",
    "        back_populates=\"reactants\", sa_relationship_kwargs=dict(remote_side=\"Molecule.id\")\n",
    "    )\n",
    "    reactants: List[\"Molecule\"] = Relationship(back_populates=\"product\")\n",
    "\n",
    "sqlite_file_name = \"database.db\"\n",
    "sqlite_url = f\"sqlite:///{sqlite_file_name}\"\n",
    "\n",
    "engine = create_engine(sqlite_url, echo=False)\n",
    "SQLModel.metadata.create_all(engine)\n",
    "\n",
    "# with Session(engine) as session:\n",
    "#     mol = Molecule()\n",
    "#     session.add(mol)"
   ]
  },
  {
   "cell_type": "code",
   "execution_count": 2,
   "id": "6bb5bf82-2c6e-41b3-a209-20f5c8e0cea2",
   "metadata": {
    "tags": []
   },
   "outputs": [],
   "source": [
    "import dgym as dg\n",
    "path = '../../dgym-data'\n",
    "building_blocks = dg.datasets.disk_loader(f'{path}/Enamine_Building_Blocks_Stock_262336cmpd_20230630.sdf')"
   ]
  },
  {
   "cell_type": "code",
   "execution_count": 7,
   "id": "9e14f46d-590b-4e90-b1b6-35263e8b92c9",
   "metadata": {
    "tags": []
   },
   "outputs": [
    {
     "data": {
      "application/vnd.jupyter.widget-view+json": {
       "model_id": "49bc944b1324472791cc5af7df754c1b",
       "version_major": 2,
       "version_minor": 0
      },
      "text/plain": [
       "  0%|          | 0/262336 [00:00<?, ?it/s]"
      ]
     },
     "metadata": {},
     "output_type": "display_data"
    }
   ],
   "source": [
    "import rdkit\n",
    "from tqdm.notebook import tqdm\n",
    "\n",
    "with Session(engine) as session:\n",
    "    for idx, mol in enumerate(tqdm(building_blocks)):\n",
    "        smiles = rdkit.Chem.MolToSmiles(mol) if mol else None\n",
    "        mol = Molecule(\n",
    "            index = idx,\n",
    "            smiles = smiles\n",
    "        )\n",
    "        session.add(mol)\n",
    "        if idx == 100_000:\n",
    "            break\n",
    "    session.commit()"
   ]
  },
  {
   "cell_type": "code",
   "execution_count": 19,
   "id": "77e593d1-9afd-4fff-a5d0-3059bf02b91b",
   "metadata": {
    "tags": []
   },
   "outputs": [
    {
     "data": {
      "text/plain": [
       "Molecule(id=None, smiles='Nc1ccc(S(=O)(=O)F)cc1Br', index=88566, product_id=None)"
      ]
     },
     "execution_count": 19,
     "metadata": {},
     "output_type": "execute_result"
    }
   ],
   "source": [
    "    Molecule(\n",
    "        index = idx,\n",
    "        smiles = smiles\n",
    "    )"
   ]
  },
  {
   "cell_type": "code",
   "execution_count": 4,
   "id": "d92f2555-a69b-4fc7-a98f-eb026c5cb4ac",
   "metadata": {
    "tags": []
   },
   "outputs": [],
   "source": [
    "mol.reactants.append(Molecule(smiles='Cc1ccccc1C(=O)Nc1nc(-c2cccc(O)c2)cs1'))"
   ]
  },
  {
   "cell_type": "code",
   "execution_count": 49,
   "id": "8acae71e-617e-4f0e-87ae-99497d0d05ea",
   "metadata": {
    "tags": []
   },
   "outputs": [],
   "source": [
    "from scikit_mol.conversions import SmilesToMolTransformer\n",
    "\n",
    "mol_maker = SmilesToMolTransformer(parallel=True)"
   ]
  }
 ],
 "metadata": {
  "kernelspec": {
   "display_name": "Python 3 (ipykernel)",
   "language": "python",
   "name": "python3"
  },
  "language_info": {
   "codemirror_mode": {
    "name": "ipython",
    "version": 3
   },
   "file_extension": ".py",
   "mimetype": "text/x-python",
   "name": "python",
   "nbconvert_exporter": "python",
   "pygments_lexer": "ipython3",
   "version": "3.11.5"
  }
 },
 "nbformat": 4,
 "nbformat_minor": 5
}
