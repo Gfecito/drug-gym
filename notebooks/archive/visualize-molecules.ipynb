{
 "cells": [
  {
   "cell_type": "code",
   "execution_count": 3,
   "id": "0e0f0b47-8d3f-4213-8029-eb01974a5350",
   "metadata": {
    "tags": []
   },
   "outputs": [],
   "source": [
    "import dgym as dg\n",
    "import pandas as pd\n",
    "\n",
    "results = pd.read_parquet('../../dgym-data/experiment_annotations.parquet')\n",
    "smiles = (\n",
    "    results\n",
    "    .sort_values('utility', ascending=False)\n",
    "    .reindex(columns=['SMILES', 'ABL1 pIC50', 'Log S', 'Log P'])\n",
    "    .iloc[0]['SMILES']\n",
    ")\n",
    "mol = dg.molecule.Molecule(smiles)"
   ]
  },
  {
   "cell_type": "code",
   "execution_count": 6,
   "id": "c6d73f3f-d481-4d24-9e8e-de0fd65e31ca",
   "metadata": {
    "tags": []
   },
   "outputs": [
    {
     "data": {
      "image/png": "[encoded data removed]",
      "text/plain": [
       "<rdkit.Chem.rdchem.Mol at 0x7f4c56170120>"
      ]
     },
     "execution_count": 6,
     "metadata": {},
     "output_type": "execute_result"
    }
   ],
   "source": [
    "mol.mol"
   ]
  },
  {
   "cell_type": "code",
   "execution_count": 10,
   "id": "87512b96-2b8d-4bfd-b752-3330d5baac4e",
   "metadata": {
    "tags": []
   },
   "outputs": [],
   "source": [
    "from rdkit import Chem\n",
    "from rdkit.Chem.Draw import rdMolDraw2D\n",
    "\n",
    "# Create a molecule\n",
    "mol = Chem.MolFromSmiles('CC(=O)O')\n",
    "\n",
    "drawer = rdMolDraw2D.MolDraw2DSVG(500, 500)\n",
    "\n",
    "# Draw the molecule\n",
    "drawer.DrawMolecule(mol)"
   ]
  },
  {
   "cell_type": "code",
   "execution_count": 16,
   "id": "961dea66-0bc2-4660-b219-f9f29e913964",
   "metadata": {
    "tags": []
   },
   "outputs": [
    {
     "data": {
      "image/svg+xml": [
       "<svg xmlns=\"http://www.w3.org/2000/svg\" xmlns:rdkit=\"http://www.rdkit.org/xml\" xmlns:xlink=\"http://www.w3.org/1999/xlink\" version=\"1.1\" baseProfile=\"full\" xml:space=\"preserve\" width=\"500px\" height=\"500px\" viewBox=\"0 0 500 500\">\n",
       "<!-- END OF HEADER -->\n",
       "<rect style=\"opacity:1.0;fill:#FFFFFF;stroke:none\" width=\"500.0\" height=\"500.0\" x=\"0.0\" y=\"0.0\"> </rect>\n",
       "<path class=\"bond-0 atom-0 atom-1\" d=\"M 125.3,345.0 L 235.0,345.0 L 250.4,371.7 L 109.9,371.7 Z\" style=\"fill:#ACD7E6;fill-rule:evenodd;fill-opacity:1;stroke:#ACD7E6;stroke-width:0.0px;stroke-linecap:butt;stroke-linejoin:miter;stroke-opacity:1;\"/>\n",
       "<path class=\"bond-6 atom-0 atom-5\" d=\"M 289.9,250.0 L 320.7,250.0 L 250.4,371.7 L 235.0,345.0 Z\" style=\"fill:#ACD7E6;fill-rule:evenodd;fill-opacity:1;stroke:#ACD7E6;stroke-width:0.0px;stroke-linecap:butt;stroke-linejoin:miter;stroke-opacity:1;\"/>\n",
       "<path class=\"bond-1 atom-1 atom-2\" d=\"M 70.4,250.0 L 125.3,345.0 L 109.9,371.7 L 39.6,250.0 Z\" style=\"fill:#ACD7E6;fill-rule:evenodd;fill-opacity:1;stroke:#ACD7E6;stroke-width:0.0px;stroke-linecap:butt;stroke-linejoin:miter;stroke-opacity:1;\"/>\n",
       "<path class=\"bond-2 atom-2 atom-3\" d=\"M 109.9,128.3 L 125.3,155.0 L 70.4,250.0 L 39.6,250.0 Z\" style=\"fill:#ACD7E6;fill-rule:evenodd;fill-opacity:1;stroke:#ACD7E6;stroke-width:0.0px;stroke-linecap:butt;stroke-linejoin:miter;stroke-opacity:1;\"/>\n",
       "<path class=\"bond-3 atom-3 atom-4\" d=\"M 109.9,128.3 L 250.4,128.3 L 235.0,155.0 L 125.3,155.0 Z\" style=\"fill:#ACD7E6;fill-rule:evenodd;fill-opacity:1;stroke:#ACD7E6;stroke-width:0.0px;stroke-linecap:butt;stroke-linejoin:miter;stroke-opacity:1;\"/>\n",
       "<path class=\"bond-4 atom-4 atom-5\" d=\"M 250.4,128.3 L 320.7,250.0 L 289.9,250.0 L 235.0,155.0 Z\" style=\"fill:#ACD7E6;fill-rule:evenodd;fill-opacity:1;stroke:#ACD7E6;stroke-width:0.0px;stroke-linecap:butt;stroke-linejoin:miter;stroke-opacity:1;\"/>\n",
       "<ellipse cx=\"242.7\" cy=\"358.4\" rx=\"25.0\" ry=\"25.0\" class=\"atom-0\" style=\"fill:#ACD7E6;fill-rule:evenodd;stroke:#ACD7E6;stroke-width:1.0px;stroke-linecap:butt;stroke-linejoin:miter;stroke-opacity:1\"/>\n",
       "<ellipse cx=\"117.6\" cy=\"358.4\" rx=\"25.0\" ry=\"25.0\" class=\"atom-1\" style=\"fill:#ACD7E6;fill-rule:evenodd;stroke:#ACD7E6;stroke-width:1.0px;stroke-linecap:butt;stroke-linejoin:miter;stroke-opacity:1\"/>\n",
       "<ellipse cx=\"55.0\" cy=\"250.0\" rx=\"25.0\" ry=\"25.0\" class=\"atom-2\" style=\"fill:#ACD7E6;fill-rule:evenodd;stroke:#ACD7E6;stroke-width:1.0px;stroke-linecap:butt;stroke-linejoin:miter;stroke-opacity:1\"/>\n",
       "<ellipse cx=\"117.6\" cy=\"141.6\" rx=\"25.0\" ry=\"25.0\" class=\"atom-3\" style=\"fill:#ACD7E6;fill-rule:evenodd;stroke:#ACD7E6;stroke-width:1.0px;stroke-linecap:butt;stroke-linejoin:miter;stroke-opacity:1\"/>\n",
       "<ellipse cx=\"242.7\" cy=\"141.6\" rx=\"25.0\" ry=\"25.0\" class=\"atom-4\" style=\"fill:#ACD7E6;fill-rule:evenodd;stroke:#ACD7E6;stroke-width:1.0px;stroke-linecap:butt;stroke-linejoin:miter;stroke-opacity:1\"/>\n",
       "<ellipse cx=\"305.3\" cy=\"250.0\" rx=\"25.0\" ry=\"25.0\" class=\"atom-5\" style=\"fill:#ACD7E6;fill-rule:evenodd;stroke:#ACD7E6;stroke-width:1.0px;stroke-linecap:butt;stroke-linejoin:miter;stroke-opacity:1\"/>\n",
       "<path class=\"bond-0 atom-0 atom-1\" d=\"M 242.7,358.4 L 117.6,358.4\" style=\"fill:none;fill-rule:evenodd;stroke:#000000;stroke-width:2.0px;stroke-linecap:butt;stroke-linejoin:miter;stroke-opacity:1\"/>\n",
       "<path class=\"bond-0 atom-0 atom-1\" d=\"M 231.9,339.6 L 128.4,339.6\" style=\"fill:none;fill-rule:evenodd;stroke:#000000;stroke-width:2.0px;stroke-linecap:butt;stroke-linejoin:miter;stroke-opacity:1\"/>\n",
       "<path class=\"bond-1 atom-1 atom-2\" d=\"M 117.6,358.4 L 55.0,250.0\" style=\"fill:none;fill-rule:evenodd;stroke:#000000;stroke-width:2.0px;stroke-linecap:butt;stroke-linejoin:miter;stroke-opacity:1\"/>\n",
       "<path class=\"bond-2 atom-2 atom-3\" d=\"M 55.0,250.0 L 117.6,141.6\" style=\"fill:none;fill-rule:evenodd;stroke:#000000;stroke-width:2.0px;stroke-linecap:butt;stroke-linejoin:miter;stroke-opacity:1\"/>\n",
       "<path class=\"bond-2 atom-2 atom-3\" d=\"M 76.7,250.0 L 128.4,160.4\" style=\"fill:none;fill-rule:evenodd;stroke:#000000;stroke-width:2.0px;stroke-linecap:butt;stroke-linejoin:miter;stroke-opacity:1\"/>\n",
       "<path class=\"bond-3 atom-3 atom-4\" d=\"M 117.6,141.6 L 242.7,141.6\" style=\"fill:none;fill-rule:evenodd;stroke:#000000;stroke-width:2.0px;stroke-linecap:butt;stroke-linejoin:miter;stroke-opacity:1\"/>\n",
       "<path class=\"bond-4 atom-4 atom-5\" d=\"M 242.7,141.6 L 305.3,250.0\" style=\"fill:none;fill-rule:evenodd;stroke:#000000;stroke-width:2.0px;stroke-linecap:butt;stroke-linejoin:miter;stroke-opacity:1\"/>\n",
       "<path class=\"bond-4 atom-4 atom-5\" d=\"M 231.9,160.4 L 283.6,250.0\" style=\"fill:none;fill-rule:evenodd;stroke:#000000;stroke-width:2.0px;stroke-linecap:butt;stroke-linejoin:miter;stroke-opacity:1\"/>\n",
       "<path class=\"bond-5 atom-5 atom-6\" d=\"M 305.3,250.0 L 359.3,250.0\" style=\"fill:none;fill-rule:evenodd;stroke:#000000;stroke-width:2.0px;stroke-linecap:butt;stroke-linejoin:miter;stroke-opacity:1\"/>\n",
       "<path class=\"bond-5 atom-5 atom-6\" d=\"M 359.3,250.0 L 413.3,250.0\" style=\"fill:none;fill-rule:evenodd;stroke:#FF0000;stroke-width:2.0px;stroke-linecap:butt;stroke-linejoin:miter;stroke-opacity:1\"/>\n",
       "<path class=\"bond-6 atom-5 atom-0\" d=\"M 305.3,250.0 L 242.7,358.4\" style=\"fill:none;fill-rule:evenodd;stroke:#000000;stroke-width:2.0px;stroke-linecap:butt;stroke-linejoin:miter;stroke-opacity:1\"/>\n",
       "<path d=\"M 236.5,358.4 L 242.7,358.4 L 245.9,353.0\" style=\"fill:none;stroke:#000000;stroke-width:2.0px;stroke-linecap:butt;stroke-linejoin:miter;stroke-opacity:1;\"/>\n",
       "<path d=\"M 123.8,358.4 L 117.6,358.4 L 114.5,353.0\" style=\"fill:none;stroke:#000000;stroke-width:2.0px;stroke-linecap:butt;stroke-linejoin:miter;stroke-opacity:1;\"/>\n",
       "<path d=\"M 58.1,255.4 L 55.0,250.0 L 58.1,244.6\" style=\"fill:none;stroke:#000000;stroke-width:2.0px;stroke-linecap:butt;stroke-linejoin:miter;stroke-opacity:1;\"/>\n",
       "<path d=\"M 114.5,147.0 L 117.6,141.6 L 123.8,141.6\" style=\"fill:none;stroke:#000000;stroke-width:2.0px;stroke-linecap:butt;stroke-linejoin:miter;stroke-opacity:1;\"/>\n",
       "<path d=\"M 236.5,141.6 L 242.7,141.6 L 245.9,147.0\" style=\"fill:none;stroke:#000000;stroke-width:2.0px;stroke-linecap:butt;stroke-linejoin:miter;stroke-opacity:1;\"/>\n",
       "<path class=\"atom-6\" d=\"M 417.5 250.1 Q 417.5 243.3, 420.8 239.5 Q 424.2 235.7, 430.5 235.7 Q 436.7 235.7, 440.1 239.5 Q 443.5 243.3, 443.5 250.1 Q 443.5 257.0, 440.1 260.9 Q 436.7 264.8, 430.5 264.8 Q 424.2 264.8, 420.8 260.9 Q 417.5 257.0, 417.5 250.1 M 430.5 261.6 Q 434.8 261.6, 437.1 258.7 Q 439.5 255.8, 439.5 250.1 Q 439.5 244.5, 437.1 241.7 Q 434.8 238.9, 430.5 238.9 Q 426.1 238.9, 423.8 241.7 Q 421.5 244.5, 421.5 250.1 Q 421.5 255.8, 423.8 258.7 Q 426.1 261.6, 430.5 261.6 \" fill=\"#FF0000\"/>\n",
       "<path class=\"atom-6\" d=\"M 447.9 236.0 L 451.7 236.0 L 451.7 248.0 L 466.2 248.0 L 466.2 236.0 L 470.0 236.0 L 470.0 264.3 L 466.2 264.3 L 466.2 251.2 L 451.7 251.2 L 451.7 264.3 L 447.9 264.3 L 447.9 236.0 \" fill=\"#FF0000\"/>\n",
       "</svg>"
      ],
      "text/plain": [
       "<IPython.core.display.SVG object>"
      ]
     },
     "metadata": {},
     "output_type": "display_data"
    }
   ],
   "source": [
    "from rdkit import Chem\n",
    "from rdkit.Chem import Draw\n",
    "from rdkit.Chem.Draw import rdMolDraw2D\n",
    "from IPython.display import display, SVG\n",
    "\n",
    "def color_name_to_rgb(color_name):\n",
    "    \"\"\"\n",
    "    Converts a color name to an RGB tuple.\n",
    "\n",
    "    Parameters\n",
    "    ----------\n",
    "    color_name : str\n",
    "        The name of the color (e.g., 'red', 'green', 'blue').\n",
    "\n",
    "    Returns\n",
    "    -------\n",
    "    tuple\n",
    "        A tuple representing the RGB values (r, g, b), each in the range 0-1.\n",
    "    \"\"\"\n",
    "    # Basic colors dictionary (more can be added as needed)\n",
    "    colors = {\n",
    "        'red': (1, 0, 0),\n",
    "        'green': (0, 1, 0),\n",
    "        'blue': (0, 0, 1),\n",
    "        'lightblue': (0.678, 0.847, 0.902),\n",
    "        'yellow': (1, 1, 0),\n",
    "        'black': (0, 0, 0),\n",
    "        'white': (1, 1, 1)\n",
    "    }\n",
    "    return colors.get(color_name.lower(), (0, 0, 0))  # Default to black if color not found\n",
    "\n",
    "def visualize_molecule(smiles, fill_color='lightblue', image_size=(500, 500)):\n",
    "    \"\"\"\n",
    "    Visualizes a molecule with high resolution, filling the rings with a specified color.\n",
    "\n",
    "    Parameters\n",
    "    ----------\n",
    "    smiles : str\n",
    "        The SMILES string of the molecule to visualize.\n",
    "    fill_color : str, optional\n",
    "        The color used to fill the rings, by default 'lightblue'.\n",
    "    image_size : tuple, optional\n",
    "        The size of the image in pixels, by default (500, 500).\n",
    "\n",
    "    Returns\n",
    "    -------\n",
    "    str\n",
    "        An SVG string containing the visualized molecule.\n",
    "    \"\"\"\n",
    "    # Convert SMILES to a molecule object\n",
    "    mol = Chem.MolFromSmiles(smiles)\n",
    "    if not mol:\n",
    "        raise ValueError(\"Invalid SMILES string provided.\")\n",
    "\n",
    "    # Create a drawing object with specified size and options\n",
    "    drawer = rdMolDraw2D.MolDraw2DSVG(*image_size)\n",
    "    drawer.drawOptions().addAtomIndices = False\n",
    "    rgb_color = color_name_to_rgb(fill_color)\n",
    "    drawer.drawOptions().setHighlightColour(rgb_color)\n",
    "    drawer.drawOptions().continuousHighlight = True\n",
    "\n",
    "    # Detect ring systems and highlight them\n",
    "    ring_info = mol.GetRingInfo()\n",
    "    rings = ring_info.AtomRings()\n",
    "    highlight_atoms = [atom for ring in rings for atom in ring]\n",
    "\n",
    "    # Draw the molecule\n",
    "    drawer.DrawMolecule(mol, highlightAtoms=highlight_atoms)\n",
    "    drawer.FinishDrawing()\n",
    "\n",
    "    # Convert SVG data to an image display object\n",
    "    svg = drawer.GetDrawingText()\n",
    "    return svg.replace('svg:', '')\n",
    "\n",
    "# Example usage\n",
    "smiles_string = 'c1ccccc1O'  # Benzene with an OH group\n",
    "svg_image = visualize_molecule(smiles_string)\n",
    "display(SVG(svg_image))"
   ]
  }
 ],
 "metadata": {
  "kernelspec": {
   "display_name": "Python 3 (ipykernel)",
   "language": "python",
   "name": "python3"
  },
  "language_info": {
   "codemirror_mode": {
    "name": "ipython",
    "version": 3
   },
   "file_extension": ".py",
   "mimetype": "text/x-python",
   "name": "python",
   "nbconvert_exporter": "python",
   "pygments_lexer": "ipython3",
   "version": "3.11.5"
  }
 },
 "nbformat": 4,
 "nbformat_minor": 5
}
