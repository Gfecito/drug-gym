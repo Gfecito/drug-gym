{
 "cells": [
  {
   "cell_type": "code",
   "execution_count": 3,
   "id": "99530319-2ee4-42af-a5ae-92bd6ea2da9e",
   "metadata": {
    "tags": []
   },
   "outputs": [],
   "source": [
    "import dgym as dg\n",
    "\n",
    "path = '../../dgym-data/analysis/screen/adam17/'\n",
    "\n",
    "import pandas as pd\n",
    "import os\n",
    "\n",
    "def merge_tsvs_in_directory(directory_path):\n",
    "    \"\"\"\n",
    "    Reads all TSV files from the specified directory and merges them into a single DataFrame using pandas.\n",
    "    \n",
    "    Parameters\n",
    "    ----------\n",
    "    directory_path : str\n",
    "        The path to the directory containing TSV files to be merged.\n",
    "        \n",
    "    Returns\n",
    "    -------\n",
    "    pandas.DataFrame\n",
    "        A DataFrame containing the merged data from all TSV files in the directory.\n",
    "    \n",
    "    \"\"\"\n",
    "    # Find all TSV files in the directory\n",
    "    files = [file for file in os.listdir(directory_path) if file.endswith('.tsv')]\n",
    "    \n",
    "    # Read each TSV file into a DataFrame and store in a list\n",
    "    df_list = [pd.read_csv(os.path.join(directory_path, file), sep='\\t') for file in files]\n",
    "    \n",
    "    # Concatenate all DataFrames in the list into a single DataFrame\n",
    "    merged_df = pd.concat(df_list, ignore_index=True)\n",
    "    \n",
    "    return merged_df\n"
   ]
  },
  {
   "cell_type": "code",
   "execution_count": 5,
   "id": "31b0aa62-3151-4873-ba02-bf427aa5db59",
   "metadata": {
    "tags": []
   },
   "outputs": [],
   "source": [
    "df = merge_tsvs_in_directory(path)"
   ]
  },
  {
   "cell_type": "code",
   "execution_count": 7,
   "id": "4999f631-cfd1-4381-8218-981341768904",
   "metadata": {
    "tags": []
   },
   "outputs": [
    {
     "name": "stderr",
     "output_type": "stream",
     "text": [
      "/home/mrr/miniconda3/envs/chodera/lib/python3.11/site-packages/seaborn/axisgrid.py:118: UserWarning: The figure layout has changed to tight\n",
      "  self._figure.tight_layout(*args, **kwargs)\n"
     ]
    },
    {
     "data": {
      "text/plain": [
       "<seaborn.axisgrid.FacetGrid at 0x7f3fb377e510>"
      ]
     },
     "execution_count": 7,
     "metadata": {},
     "output_type": "execute_result"
    },
    {
     "data": {
      "image/png": "[encoded data removed]",
      "text/plain": [
       "<Figure size 500x500 with 1 Axes>"
      ]
     },
     "metadata": {},
     "output_type": "display_data"
    }
   ],
   "source": [
    "import seaborn as sns\n",
    "\n",
    "sns.displot(df, x='affinity')"
   ]
  },
  {
   "cell_type": "code",
   "execution_count": 21,
   "id": "12b98628-252a-463c-87f7-93b81201d335",
   "metadata": {
    "tags": []
   },
   "outputs": [
    {
     "data": {
      "text/plain": [
       "3"
      ]
     },
     "execution_count": 21,
     "metadata": {},
     "output_type": "execute_result"
    }
   ],
   "source": [
    "sum(df['affinity'] > 9.5)"
   ]
  },
  {
   "cell_type": "code",
   "execution_count": 22,
   "id": "96411b77-defd-40a4-aa9c-ded26d88e49c",
   "metadata": {
    "tags": []
   },
   "outputs": [
    {
     "data": {
      "text/plain": [
       "5.882352941176471e-05"
      ]
     },
     "execution_count": 22,
     "metadata": {},
     "output_type": "execute_result"
    }
   ],
   "source": [
    "3 / 51_000"
   ]
  }
 ],
 "metadata": {
  "kernelspec": {
   "display_name": "Python 3 (ipykernel)",
   "language": "python",
   "name": "python3"
  },
  "language_info": {
   "codemirror_mode": {
    "name": "ipython",
    "version": 3
   },
   "file_extension": ".py",
   "mimetype": "text/x-python",
   "name": "python",
   "nbconvert_exporter": "python",
   "pygments_lexer": "ipython3",
   "version": "3.11.5"
  }
 },
 "nbformat": 4,
 "nbformat_minor": 5
}
