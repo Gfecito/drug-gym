{
 "cells": [
  {
   "cell_type": "markdown",
   "id": "d17c4a4d-9783-4e24-a95c-828b92641b39",
   "metadata": {},
   "source": [
    "# dgym Spaces"
   ]
  },
  {
   "cell_type": "markdown",
   "id": "61302371-7b39-48dc-b5ea-f731a915f096",
   "metadata": {},
   "source": [
    "`order_space` is the space for elaborating assay orders."
   ]
  },
  {
   "cell_type": "code",
   "execution_count": 119,
   "id": "e384acbe-0acd-4efe-8764-664579bed7a2",
   "metadata": {
    "tags": []
   },
   "outputs": [],
   "source": [
    "from gymnasium.spaces import (\n",
    "    Sequence, Discrete, Tuple, Box, Dict\n",
    ")\n",
    "\n",
    "assays = ['lipophilicity', 'solubility', 'potency']\n",
    "initial_hits = [0, 1, 2, 3, 4, 5]\n",
    "\n",
    "assay_space = Discrete(\n",
    "    len(assays),\n",
    "    seed=0,\n",
    "    start=0\n",
    ")\n",
    "\n",
    "molecule_space = Discrete(\n",
    "    len(initial_hits),\n",
    "    seed=0,\n",
    "    start=0\n",
    ")\n",
    "\n",
    "order_space = Sequence(\n",
    "    Tuple([assay_space, molecule_space])\n",
    ")\n",
    "\n",
    "# order_space.feature_space.spaces[1].n = 15"
   ]
  },
  {
   "cell_type": "code",
   "execution_count": 120,
   "id": "ef6cd78d-89df-40d3-8545-0240d83a26b7",
   "metadata": {
    "tags": []
   },
   "outputs": [],
   "source": [
    "import torch\n",
    "\n",
    "measurement_space = Box(-torch.inf, torch.inf)\n",
    "observation_space = Sequence(\n",
    "    Tuple([assay_space, molecule_space, measurement_space])\n",
    ")"
   ]
  },
  {
   "cell_type": "markdown",
   "id": "73a069cb-89dd-4ab1-b01c-858b62eedc4a",
   "metadata": {},
   "source": [
    "## Test"
   ]
  },
  {
   "cell_type": "code",
   "execution_count": 121,
   "id": "af2e77de-4569-4897-9293-9305b1d27346",
   "metadata": {
    "tags": []
   },
   "outputs": [
    {
     "name": "stdout",
     "output_type": "stream",
     "text": [
      "The autoreload extension is already loaded. To reload it, use:\n",
      "  %reload_ext autoreload\n",
      "load data\n",
      "align fingerprints\n",
      "partition building blocks\n"
     ]
    }
   ],
   "source": [
    "%load_ext autoreload\n",
    "%autoreload 2\n",
    "\n",
    "import dgym as dg\n",
    "from dgym import collection, repertoire\n",
    "\n",
    "# load all data\n",
    "print('load data')\n",
    "path = '../dgym-data'\n",
    "\n",
    "deck = collection.from_sdf(\n",
    "    f'{path}/DSi-Poised_Library_annotated.sdf',\n",
    "    reactant_names=['reagsmi1', 'reagsmi2', 'reagsmi3']\n",
    ")\n",
    "\n",
    "repertoire = repertoire.from_json(\n",
    "    path = f'{path}/All_Rxns_rxn_library.json',\n",
    "    smarts_col = 'reaction_string',\n",
    "    classes_col = 'functional_groups'\n",
    ")\n",
    "\n",
    "building_blocks = dg.datasets.enamine(f'{path}/Enamine_Building_Blocks_Stock_262336cmpd_20230630.sdf')\n",
    "fps = dg.datasets.fingerprints(f'{path}/out/Enamine_Building_Blocks_Stock_262336cmpd_20230630.fpb')\n",
    "\n",
    "# align fingerprints to building blocks\n",
    "print('align fingerprints')\n",
    "fps = dg.utils.sort_fingerprints(fps, building_blocks)\n",
    "\n",
    "# partition building blocks according to functional groups\n",
    "print('partition building blocks')\n",
    "templates = dg.utils.get_unique_reactants(repertoire)\n",
    "building_blocks = dg.utils.partition_building_blocks(building_blocks, templates, out_dir=path)"
   ]
  },
  {
   "cell_type": "markdown",
   "id": "2c71b92a-b18a-4d0f-ad5b-d582a4caedde",
   "metadata": {},
   "source": [
    "`design_space` is the space for specifying hyperparameters of the synthetic library design."
   ]
  },
  {
   "cell_type": "code",
   "execution_count": 139,
   "id": "1493d5ee-d0db-4356-970f-76bc1f0d511f",
   "metadata": {
    "tags": []
   },
   "outputs": [],
   "source": [
    "batch_sizes = [5]\n",
    "design_space = Dict(\n",
    "    {\n",
    "        # 0 -> 5, 1 -> 10, 2 -> 96, 3 -> 384\n",
    "        'num_analogs': Discrete(len(batch_sizes), seed=0, start=0),\n",
    "        # proportion random argsort\n",
    "        'percent_random': Box(low=0, high=1),\n",
    "    }\n",
    ")"
   ]
  },
  {
   "cell_type": "code",
   "execution_count": 178,
   "id": "d40d9f8e-610f-4cff-8012-539d73a83aa7",
   "metadata": {
    "tags": []
   },
   "outputs": [
    {
     "name": "stdout",
     "output_type": "stream",
     "text": [
      "OrderedDict([('num_analogs', 0), ('percent_random', array([0.33064672], dtype=float32))])\n",
      "CPU times: user 176 ms, sys: 0 ns, total: 176 ms\n",
      "Wall time: 190 ms\n"
     ]
    },
    {
     "data": {
      "text/plain": [
       "20"
      ]
     },
     "execution_count": 178,
     "metadata": {},
     "output_type": "execute_result"
    }
   ],
   "source": [
    "%%time\n",
    "lib_params = design_space.sample()\n",
    "print(lib_params)\n",
    "num_analogs = batch_sizes[lib_params['num_analogs']]\n",
    "percent_random = 0.5 # lib_params['percent_random']\n",
    "\n",
    "compound = deck[400]\n",
    "analogs = dg.synthesis.enumerate_analogs(\n",
    "    compound,\n",
    "    repertoire,\n",
    "    building_blocks,\n",
    "    num_analogs=num_analogs,\n",
    "    sortby={'random': percent_random, 'fingerprint': 1 - percent_random},\n",
    "    fps=fps\n",
    ")\n",
    "\n",
    "# len([display(a) for a in analogs])\n",
    "len(analogs)"
   ]
  },
  {
   "cell_type": "code",
   "execution_count": 219,
   "id": "ce9ee4c1-8e66-4860-9e4e-e3a6ee419936",
   "metadata": {
    "tags": []
   },
   "outputs": [],
   "source": [
    "import numpy as np\n",
    "from gymnasium.spaces import (\n",
    "    Dict, Discrete, Box, Sequence, Tuple\n",
    ")\n",
    "\n",
    "max_molecules = 10_000\n",
    "\n",
    "# Define the action space\n",
    "action_space = Dict({\n",
    "    'design': Dict({\n",
    "        'num_analogs': Discrete(max_molecules),\n",
    "        'percent_random': Box(low=0.0, high=1.0, shape=(1,))\n",
    "    }),\n",
    "    'order': Dict({\n",
    "        'assay': Discrete(3),  # For example, if you have 3 assays\n",
    "        'molecule': Discrete(max_molecules)\n",
    "    })\n",
    "})\n",
    "\n",
    "# Initialize the action mask\n",
    "action_mask = np.zeros(max_molecules, dtype=bool)"
   ]
  },
  {
   "cell_type": "code",
   "execution_count": 216,
   "id": "7d4d5d5e-6abc-44db-9a12-e1d74fb94d60",
   "metadata": {
    "tags": []
   },
   "outputs": [
    {
     "data": {
      "text/plain": [
       "OrderedDict([('num_analogs', 5789),\n",
       "             ('percent_random', array([0.77109563], dtype=float32))])"
      ]
     },
     "execution_count": 216,
     "metadata": {},
     "output_type": "execute_result"
    }
   ],
   "source": [
    "action_space.sample()['design']"
   ]
  }
 ],
 "metadata": {
  "kernelspec": {
   "display_name": "Python 3 (ipykernel)",
   "language": "python",
   "name": "python3"
  },
  "language_info": {
   "codemirror_mode": {
    "name": "ipython",
    "version": 3
   },
   "file_extension": ".py",
   "mimetype": "text/x-python",
   "name": "python",
   "nbconvert_exporter": "python",
   "pygments_lexer": "ipython3",
   "version": "3.11.4"
  }
 },
 "nbformat": 4,
 "nbformat_minor": 5
}
