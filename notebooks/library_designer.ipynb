{
 "cells": [
  {
   "cell_type": "markdown",
   "id": "6fd8c1ba-6881-4477-a320-c650f6ad95f0",
   "metadata": {},
   "source": [
    "# Create new utility function"
   ]
  },
  {
   "cell_type": "markdown",
   "id": "87a1d278-93b9-43ec-a3a0-8b03e9d5de0e",
   "metadata": {},
   "source": [
    "Import data."
   ]
  },
  {
   "cell_type": "code",
   "execution_count": 1,
   "id": "52791718-50ca-4213-b11a-77770a4b4d5a",
   "metadata": {
    "tags": []
   },
   "outputs": [
    {
     "name": "stdout",
     "output_type": "stream",
     "text": [
      "load data\n"
     ]
    }
   ],
   "source": [
    "%load_ext autoreload\n",
    "%autoreload 2\n",
    "\n",
    "import rdkit\n",
    "rdkit.Chem.Draw.IPythonConsole.ipython_maxProperties = -1\n",
    "\n",
    "import dgym as dg\n",
    "\n",
    "# load all data\n",
    "print('load data')\n",
    "path = '../../dgym-data'\n",
    "\n",
    "deck = dg.MoleculeCollection.load(\n",
    "    f'{path}/DSi-Poised_Library_annotated.sdf',\n",
    "    reactant_names=['reagsmi1', 'reagsmi2', 'reagsmi3']\n",
    ")\n",
    "\n",
    "reactions = dg.ReactionCollection.from_json(\n",
    "    path = f'{path}/All_Rxns_rxn_library.json',\n",
    "    smarts_col = 'reaction_string',\n",
    "    classes_col = 'functional_groups'\n",
    ")"
   ]
  },
  {
   "cell_type": "code",
   "execution_count": 2,
   "id": "a8ab1a72-d039-44d3-8e81-cfe43fd140e7",
   "metadata": {
    "tags": []
   },
   "outputs": [
    {
     "name": "stdout",
     "output_type": "stream",
     "text": [
      "align fingerprints\n",
      "partition building blocks\n"
     ]
    }
   ],
   "source": [
    "building_blocks = dg.datasets.disk_loader(f'{path}/Enamine_Building_Blocks_Stock_262336cmpd_20230630.sdf')\n",
    "fingerprints = dg.datasets.fingerprints(f'{path}/out/Enamine_Building_Blocks_Stock_262336cmpd_20230630.fpb')\n",
    "\n",
    "# align fingerprints to building blocks\n",
    "print('align fingerprints')\n",
    "fingerprints = dg.utils.sort_fingerprints(fingerprints, building_blocks)\n",
    "\n",
    "# partition building blocks according to functional groups\n",
    "print('partition building blocks')\n",
    "templates = dg.utils.get_unique_reactants(reactions)\n",
    "building_blocks = dg.utils.partition_building_blocks(building_blocks, templates, out_dir=path)"
   ]
  },
  {
   "cell_type": "markdown",
   "id": "63b64107-b4fb-4398-8cbb-5bd02aeec5a7",
   "metadata": {},
   "source": [
    "Create inputs to the DrugEnv."
   ]
  },
  {
   "cell_type": "code",
   "execution_count": 3,
   "id": "e261cdac-27d9-49a6-9f26-18bce353034a",
   "metadata": {
    "tags": []
   },
   "outputs": [],
   "source": [
    "import numpy as np\n",
    "from dgym.envs.library_designer import LibraryDesigner\n",
    "from dgym.envs.oracle import DGLOracle, RDKitOracle, DockingOracle\n",
    "from dgym.envs.evaluator import ClassicEvaluator, UtilityFunction\n",
    "\n",
    "# create library designer\n",
    "library_designer = LibraryDesigner(\n",
    "    reactions,\n",
    "    building_blocks,\n",
    "    fingerprints\n",
    ")"
   ]
  },
  {
   "cell_type": "code",
   "execution_count": 31,
   "id": "b3e7ec81-b7fa-43f4-813f-8bd7f905246c",
   "metadata": {
    "tags": []
   },
   "outputs": [],
   "source": [
    "library = library_designer.design(\n",
    "    molecules = [deck[414]],\n",
    "    num_analogs = 300_000,\n",
    "    fraction_random = 0.0\n",
    ")"
   ]
  },
  {
   "cell_type": "code",
   "execution_count": 43,
   "id": "1b002ec4-90a1-4b58-b8a2-7797ba7a5f94",
   "metadata": {
    "tags": []
   },
   "outputs": [],
   "source": [
    "reactions = library_designer.find_compatible_reactions(deck[414])"
   ]
  },
  {
   "cell_type": "code",
   "execution_count": 56,
   "id": "2c748dfd-8f96-4600-88d7-97d5df1cfa11",
   "metadata": {
    "tags": []
   },
   "outputs": [],
   "source": [
    "# library_designer.enumerate_analogs??"
   ]
  },
  {
   "cell_type": "code",
   "execution_count": 151,
   "id": "d20d5b8d-2943-475e-9257-689d2b7704b5",
   "metadata": {
    "tags": []
   },
   "outputs": [],
   "source": [
    "res = library_designer.design(\n",
    "    molecules = [library[10_000]],\n",
    "    num_analogs = 10,\n",
    "    fraction_random = 0.0\n",
    ")"
   ]
  },
  {
   "cell_type": "code",
   "execution_count": 161,
   "id": "e377592c-2da4-4c96-bb43-432a853e6fbd",
   "metadata": {
    "tags": []
   },
   "outputs": [
    {
     "data": {
      "text/html": [
       "<div>\n",
       "<style scoped>\n",
       "    .dataframe tbody tr th:only-of-type {\n",
       "        vertical-align: middle;\n",
       "    }\n",
       "\n",
       "    .dataframe tbody tr th {\n",
       "        vertical-align: top;\n",
       "    }\n",
       "\n",
       "    .dataframe thead th {\n",
       "        text-align: right;\n",
       "    }\n",
       "</style>\n",
       "<table border=\"1\" class=\"dataframe\">\n",
       "  <thead>\n",
       "    <tr style=\"text-align: right;\">\n",
       "      <th></th>\n",
       "      <th>smiles</th>\n",
       "    </tr>\n",
       "  </thead>\n",
       "  <tbody>\n",
       "    <tr>\n",
       "      <th>0</th>\n",
       "      <td>Cc1ccc(C(=O)N(C(=O)NCc2ccccc2)c2ccc(O)c(C(=O)O...</td>\n",
       "    </tr>\n",
       "    <tr>\n",
       "      <th>1</th>\n",
       "      <td>Cc1ccc(C(=O)N(C)c2cc(F)ccc2C)s1</td>\n",
       "    </tr>\n",
       "    <tr>\n",
       "      <th>2</th>\n",
       "      <td>COc1ccccc1NC(=O)[C@@H]1CC[C@H]1C</td>\n",
       "    </tr>\n",
       "    <tr>\n",
       "      <th>3</th>\n",
       "      <td>COCC1(CCNC(=O)c2ccc(C)s2)CCCC1</td>\n",
       "    </tr>\n",
       "    <tr>\n",
       "      <th>4</th>\n",
       "      <td>COc1ccccc1NC(=O)Cc1ccc(CNC(=O)OCC2c3ccccc3-c3c...</td>\n",
       "    </tr>\n",
       "    <tr>\n",
       "      <th>...</th>\n",
       "      <td>...</td>\n",
       "    </tr>\n",
       "    <tr>\n",
       "      <th>174981</th>\n",
       "      <td>COc1ccccc1NC(=O)c1oc2ccccc2c1CO</td>\n",
       "    </tr>\n",
       "    <tr>\n",
       "      <th>174982</th>\n",
       "      <td>COc1ccccc1NC(=O)COc1ccc(/C=N/NC(N)=O)cc1OC</td>\n",
       "    </tr>\n",
       "    <tr>\n",
       "      <th>174983</th>\n",
       "      <td>Cc1ccc(C(=O)N2CCC(F)(CBr)CC2)s1</td>\n",
       "    </tr>\n",
       "    <tr>\n",
       "      <th>174984</th>\n",
       "      <td>COC(=O)c1ccc(OCCNC(=O)c2ccc(C)s2)cc1</td>\n",
       "    </tr>\n",
       "    <tr>\n",
       "      <th>174985</th>\n",
       "      <td>Cc1ccc(C(=O)NC2(CO)CCCN(C(=O)OC(C)(C)C)C2)s1</td>\n",
       "    </tr>\n",
       "  </tbody>\n",
       "</table>\n",
       "<p>174986 rows × 1 columns</p>\n",
       "</div>"
      ],
      "text/plain": [
       "                                                   smiles\n",
       "0       Cc1ccc(C(=O)N(C(=O)NCc2ccccc2)c2ccc(O)c(C(=O)O...\n",
       "1                         Cc1ccc(C(=O)N(C)c2cc(F)ccc2C)s1\n",
       "2                        COc1ccccc1NC(=O)[C@@H]1CC[C@H]1C\n",
       "3                          COCC1(CCNC(=O)c2ccc(C)s2)CCCC1\n",
       "4       COc1ccccc1NC(=O)Cc1ccc(CNC(=O)OCC2c3ccccc3-c3c...\n",
       "...                                                   ...\n",
       "174981                    COc1ccccc1NC(=O)c1oc2ccccc2c1CO\n",
       "174982         COc1ccccc1NC(=O)COc1ccc(/C=N/NC(N)=O)cc1OC\n",
       "174983                    Cc1ccc(C(=O)N2CCC(F)(CBr)CC2)s1\n",
       "174984               COC(=O)c1ccc(OCCNC(=O)c2ccc(C)s2)cc1\n",
       "174985       Cc1ccc(C(=O)NC2(CO)CCCN(C(=O)OC(C)(C)C)C2)s1\n",
       "\n",
       "[174986 rows x 1 columns]"
      ]
     },
     "execution_count": 161,
     "metadata": {},
     "output_type": "execute_result"
    }
   ],
   "source": [
    "library.unique().annotations"
   ]
  },
  {
   "cell_type": "code",
   "execution_count": 61,
   "id": "fec60ef3-037f-480f-9b18-45dbbf19b981",
   "metadata": {
    "tags": []
   },
   "outputs": [],
   "source": [
    "import numpy as np\n",
    "from sklearn.metrics import pairwise_distances\n",
    "\n",
    "def jaccard_similarity_sklearn(reactions):\n",
    "    \"\"\"\n",
    "    Compute the Jaccard similarity between each pair of reactions using scikit-learn.\n",
    "\n",
    "    Parameters\n",
    "    ----------\n",
    "    reactions : list of numpy arrays\n",
    "        A list where each numpy array represents a reaction with its compounds as integers.\n",
    "\n",
    "    Returns\n",
    "    -------\n",
    "    np.ndarray\n",
    "        A 2D numpy array containing the Jaccard similarities between each pair of reactions.\n",
    "\n",
    "    Example\n",
    "    -------\n",
    "    >>> reactions = [np.array([1, 2, 3]), np.array([2, 3, 4]), np.array([1, 2])]\n",
    "    >>> jaccard_similarity_sklearn(reactions)\n",
    "    \"\"\"\n",
    "    # Identify all unique compounds\n",
    "    unique_compounds = np.unique(np.concatenate(reactions))\n",
    "\n",
    "    # Create a boolean matrix for the reactions\n",
    "    reaction_matrix = np.array([np.in1d(unique_compounds, reaction)\n",
    "                                for reaction in reactions])\n",
    "\n",
    "    # Compute Jaccard distances and convert them to similarities\n",
    "    jaccard_distances = pairwise_distances(reaction_matrix, metric='jaccard')\n",
    "    jaccard_similarity = 1 - jaccard_distances\n",
    "\n",
    "    return jaccard_similarity\n",
    "\n",
    "reaction_indices = []\n",
    "for reaction in building_blocks:\n",
    "    reaction_index = building_blocks[reaction]['index']\n",
    "    reaction_indices.append(reaction_index)\n",
    "    \n",
    "reaction_distances = jaccard_similarity_sklearn(reaction_indices)"
   ]
  },
  {
   "cell_type": "code",
   "execution_count": 68,
   "id": "64ba3150-e01e-43d4-aaaa-925ed8656e76",
   "metadata": {
    "tags": []
   },
   "outputs": [
    {
     "data": {
      "text/plain": [
       "<matplotlib.image.AxesImage at 0x7fa461fa0490>"
      ]
     },
     "execution_count": 68,
     "metadata": {},
     "output_type": "execute_result"
    },
    {
     "data": {
      "image/png": "[encoded data removed]",
      "text/plain": [
       "<Figure size 480x480 with 1 Axes>"
      ]
     },
     "metadata": {},
     "output_type": "display_data"
    }
   ],
   "source": [
    "import matplotlib.pyplot as plt\n",
    "plt.matshow(reaction_distances)"
   ]
  },
  {
   "cell_type": "code",
   "execution_count": 196,
   "id": "42e9aa6a-fbbe-42b6-a587-d2596139d791",
   "metadata": {
    "tags": []
   },
   "outputs": [],
   "source": [
    "def find_identical_reactions(jaccard_matrix, threshold=1.0):\n",
    "    \"\"\"\n",
    "    Find pairs of reactions that are identical (Jaccard similarity equals 1) in the given Jaccard similarity matrix.\n",
    "\n",
    "    Parameters\n",
    "    ----------\n",
    "    jaccard_matrix : np.ndarray\n",
    "        A 2D numpy array containing the Jaccard similarities between each pair of reactions.\n",
    "\n",
    "    Returns\n",
    "    -------\n",
    "    list of tuples\n",
    "        A list of tuples, where each tuple contains the indices of the reactions that are identical.\n",
    "\n",
    "    Example\n",
    "    -------\n",
    "    >>> jaccard_matrix = np.array([[1.0, 0.5, 1.0], [0.5, 1.0, 0.5], [1.0, 0.5, 1.0]])\n",
    "    >>> find_identical_reactions(jaccard_matrix)\n",
    "    [(0, 2), (2, 0)]\n",
    "    \"\"\"\n",
    "    identical_pairs = []\n",
    "    n = len(jaccard_matrix)\n",
    "\n",
    "    for i in range(n):\n",
    "        for j in range(i+1, n):  # Consider only upper triangular part to avoid duplicates\n",
    "            if jaccard_matrix[i, j] >= threshold:\n",
    "                identical_pairs.append((i, j))\n",
    "\n",
    "    return identical_pairs"
   ]
  },
  {
   "cell_type": "code",
   "execution_count": 194,
   "id": "cfde5014-99dc-44b9-b66b-d9688bae3eb0",
   "metadata": {
    "tags": []
   },
   "outputs": [],
   "source": [
    "identical_reactions = find_identical_reactions(reaction_distances)"
   ]
  },
  {
   "cell_type": "code",
   "execution_count": 219,
   "id": "be452ac5-7cc2-4f66-abd1-2a5e88a0cea1",
   "metadata": {
    "tags": []
   },
   "outputs": [
    {
     "ename": "IndexError",
     "evalue": "list index out of range",
     "output_type": "error",
     "traceback": [
      "\u001b[0;31m---------------------------------------------------------------------------\u001b[0m",
      "\u001b[0;31mIndexError\u001b[0m                                Traceback (most recent call last)",
      "Cell \u001b[0;32mIn[219], line 5\u001b[0m\n\u001b[1;32m      1\u001b[0m idx \u001b[38;5;241m=\u001b[39m \u001b[38;5;241m13\u001b[39m\n\u001b[1;32m      3\u001b[0m reaction_names \u001b[38;5;241m=\u001b[39m \u001b[38;5;28mlist\u001b[39m(building_blocks\u001b[38;5;241m.\u001b[39mkeys())\n\u001b[0;32m----> 5\u001b[0m idx_1, idx_2 \u001b[38;5;241m=\u001b[39m identical_reactions[idx][\u001b[38;5;241m0\u001b[39m], identical_reactions[idx][\u001b[38;5;241m1\u001b[39m]\n\u001b[1;32m      6\u001b[0m display(reaction_names[idx_1])\n\u001b[1;32m      7\u001b[0m display(reaction_names[idx_2])\n",
      "\u001b[0;31mIndexError\u001b[0m: list index out of range"
     ]
    }
   ],
   "source": [
    "idx = 13\n",
    "\n",
    "reaction_names = list(building_blocks.keys())\n",
    "\n",
    "idx_1, idx_2 = identical_reactions[idx][0], identical_reactions[idx][1]\n",
    "display(reaction_names[idx_1])\n",
    "display(reaction_names[idx_2])"
   ]
  }
 ],
 "metadata": {
  "kernelspec": {
   "display_name": "Python 3 (ipykernel)",
   "language": "python",
   "name": "python3"
  },
  "language_info": {
   "codemirror_mode": {
    "name": "ipython",
    "version": 3
   },
   "file_extension": ".py",
   "mimetype": "text/x-python",
   "name": "python",
   "nbconvert_exporter": "python",
   "pygments_lexer": "ipython3",
   "version": "3.11.5"
  }
 },
 "nbformat": 4,
 "nbformat_minor": 5
}
