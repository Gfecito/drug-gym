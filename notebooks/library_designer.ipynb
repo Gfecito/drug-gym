{
 "cells": [
  {
   "cell_type": "markdown",
   "id": "6fd8c1ba-6881-4477-a320-c650f6ad95f0",
   "metadata": {},
   "source": [
    "# Create new library designer function"
   ]
  },
  {
   "cell_type": "markdown",
   "id": "87a1d278-93b9-43ec-a3a0-8b03e9d5de0e",
   "metadata": {},
   "source": [
    "Import data."
   ]
  },
  {
   "cell_type": "code",
   "execution_count": 1,
   "id": "52791718-50ca-4213-b11a-77770a4b4d5a",
   "metadata": {
    "tags": []
   },
   "outputs": [
    {
     "name": "stdout",
     "output_type": "stream",
     "text": [
      "load data\n"
     ]
    }
   ],
   "source": [
    "%load_ext autoreload\n",
    "%autoreload 2\n",
    "\n",
    "import rdkit\n",
    "rdkit.Chem.Draw.IPythonConsole.ipython_maxProperties = -1\n",
    "\n",
    "import dgym as dg\n",
    "\n",
    "# load all data\n",
    "print('load data')\n",
    "path = '../../dgym-data'\n",
    "\n",
    "deck = dg.MoleculeCollection.load(\n",
    "    f'{path}/DSi-Poised_Library_annotated.sdf',\n",
    "    reactant_names=['reagsmi1', 'reagsmi2', 'reagsmi3']\n",
    ")\n",
    "\n",
    "reactions = dg.ReactionCollection.from_json(\n",
    "    path = f'{path}/All_Rxns_rxn_library.json',\n",
    "    smarts_col = 'reaction_string',\n",
    "    classes_col = 'functional_groups'\n",
    ")"
   ]
  },
  {
   "cell_type": "code",
   "execution_count": 2,
   "id": "a8ab1a72-d039-44d3-8e81-cfe43fd140e7",
   "metadata": {
    "tags": []
   },
   "outputs": [
    {
     "name": "stdout",
     "output_type": "stream",
     "text": [
      "align fingerprints\n",
      "partition building blocks\n"
     ]
    }
   ],
   "source": [
    "building_blocks = dg.datasets.disk_loader(f'{path}/Enamine_Building_Blocks_Stock_262336cmpd_20230630.sdf')\n",
    "fingerprints = dg.datasets.fingerprints(f'{path}/out/Enamine_Building_Blocks_Stock_262336cmpd_20230630.fpb')\n",
    "\n",
    "# align fingerprints to building blocks\n",
    "print('align fingerprints')\n",
    "fingerprints = dg.utils.sort_fingerprints(fingerprints, building_blocks)\n",
    "\n",
    "# partition building blocks according to functional groups\n",
    "print('partition building blocks')\n",
    "templates = dg.utils.get_unique_reactants(reactions)\n",
    "building_blocks = dg.utils.partition_building_blocks(building_blocks, templates, out_dir=path)"
   ]
  },
  {
   "cell_type": "markdown",
   "id": "63b64107-b4fb-4398-8cbb-5bd02aeec5a7",
   "metadata": {},
   "source": [
    "Create inputs to the DrugEnv."
   ]
  },
  {
   "cell_type": "code",
   "execution_count": 3,
   "id": "e261cdac-27d9-49a6-9f26-18bce353034a",
   "metadata": {
    "tags": []
   },
   "outputs": [],
   "source": [
    "import numpy as np\n",
    "from dgym.envs.library_designer import LibraryDesigner\n",
    "from dgym.envs.oracle import DGLOracle, RDKitOracle, DockingOracle\n",
    "from dgym.envs.evaluator import ClassicEvaluator, UtilityFunction\n",
    "\n",
    "# create library designer\n",
    "library_designer = LibraryDesigner(\n",
    "    reactions,\n",
    "    building_blocks,\n",
    "    fingerprints\n",
    ")"
   ]
  },
  {
   "cell_type": "markdown",
   "id": "51188539-653b-419a-b02a-fcc6b71d9cc9",
   "metadata": {},
   "source": [
    "Testing the best performing molecule from docking screen."
   ]
  },
  {
   "cell_type": "code",
   "execution_count": 5,
   "id": "4f472da2-bb0e-4bcc-bb7a-d67d0fc1a372",
   "metadata": {
    "tags": []
   },
   "outputs": [],
   "source": [
    "mol = dg.molecule.Molecule(\n",
    "    'Cc1ccccc1C(=O)Nc1nc(-c2cccc(O)c2)cs1',\n",
    "    reactants = [\n",
    "        dg.molecule.Molecule('Cc1ccccc1C(=O)O'),\n",
    "        dg.molecule.Molecule('Nc1nc(-c2cccc(O)c2)cs1'),\n",
    "    ]\n",
    ")\n",
    "\n",
    "analogs = library_designer.design(\n",
    "    molecules = [mol],\n",
    "    num_analogs = 20,\n",
    "    fraction_random = 0.0\n",
    ")"
   ]
  },
  {
   "cell_type": "code",
   "execution_count": 61,
   "id": "7223c3ff-03f5-412f-a833-fae31df3c5b0",
   "metadata": {
    "tags": []
   },
   "outputs": [],
   "source": [
    "bbs = dg.datasets.disk_loader(f'{path}/Enamine_Building_Blocks_Stock_262336cmpd_20230630.sdf')"
   ]
  },
  {
   "cell_type": "code",
   "execution_count": 1383,
   "id": "23c8a556-6769-4574-bfff-9cee6df1b1f5",
   "metadata": {
    "tags": []
   },
   "outputs": [
    {
     "name": "stdout",
     "output_type": "stream",
     "text": [
      "CPU times: user 6 µs, sys: 1e+03 ns, total: 7 µs\n",
      "Wall time: 8.58 µs\n"
     ]
    }
   ],
   "source": [
    "%%time\n",
    "import chemfp\n",
    "from rdkit import Chem\n",
    "\n",
    "def get_analogs(reactant):\n",
    "    indices = chemfp.simsearch(\n",
    "        k = 5,\n",
    "        query = reactant.smiles,\n",
    "        targets = library_designer.fingerprints\n",
    "    )\n",
    "\n",
    "    analogs = [bbs[i] for i in indices.get_indices()]\n",
    "    return analogs"
   ]
  },
  {
   "cell_type": "code",
   "execution_count": 1535,
   "id": "de946b73-d81e-4056-ac19-0386af0e7c58",
   "metadata": {
    "tags": []
   },
   "outputs": [],
   "source": [
    "analogs = []\n",
    "for idx, reactant in enumerate(deck[200].reactants):\n",
    "    analogs.append(get_analogs(reactant))"
   ]
  },
  {
   "cell_type": "code",
   "execution_count": 1536,
   "id": "90cdfe22-7e8a-4c1e-8007-2b4e9904f139",
   "metadata": {
    "tags": []
   },
   "outputs": [],
   "source": [
    "from itertools import chain, product\n",
    "\n",
    "def clean(mol):\n",
    "    return Chem.MolFromSmiles(Chem.MolToSmiles(mol))\n",
    "\n",
    "def bi_product(lst1, lst2):\n",
    "    return chain(product(lst1, lst2), product(lst2, lst1))\n",
    "\n",
    "cache = set()\n",
    "products = []\n",
    "for combo in bi_product(*analogs):\n",
    "    for reaction in reactions:\n",
    "        \n",
    "        try:\n",
    "            prod_unprocessed = reaction.run(combo)\n",
    "        except ValueError:\n",
    "            continue\n",
    "\n",
    "        if prod_unprocessed:\n",
    "            prod_smiles = Chem.MolToSmiles(prod_unprocessed[0][0])\n",
    "            if prod_smiles not in cache:\n",
    "                products.append(Chem.MolFromSmiles(prod_smiles))\n",
    "                cache.add(prod_smiles)"
   ]
  },
  {
   "cell_type": "code",
   "execution_count": 1539,
   "id": "a64a9974-d6ba-4975-b64a-3dd0adcb6d45",
   "metadata": {
    "tags": []
   },
   "outputs": [],
   "source": [
    "from rdkit import Chem\n",
    "from rdkit.Chem import AllChem, DataStructs\n",
    "\n",
    "def tanimoto_similarity(mol1, mol2):\n",
    "    \"\"\"\n",
    "    Calculate the Tanimoto similarity between two molecules represented by their SMILES strings.\n",
    "\n",
    "    Parameters\n",
    "    ----------\n",
    "    smiles1 : str\n",
    "        The SMILES representation of the first molecule.\n",
    "    smiles2 : str\n",
    "        The SMILES representation of the second molecule.\n",
    "\n",
    "    Returns\n",
    "    -------\n",
    "    float\n",
    "        The Tanimoto similarity between the two molecules.\n",
    "    \"\"\"    \n",
    "    # Generate Morgan fingerprints\n",
    "    fp1 = AllChem.GetMorganFingerprintAsBitVect(mol1, 2)\n",
    "    fp2 = AllChem.GetMorganFingerprintAsBitVect(mol2, 2)\n",
    "\n",
    "    # Calculate Tanimoto similarity\n",
    "    similarity = DataStructs.FingerprintSimilarity(fp1, fp2)\n",
    "\n",
    "    return similarity"
   ]
  },
  {
   "cell_type": "code",
   "execution_count": 1540,
   "id": "e027dab8-1d59-4133-a0a0-2d1d1dfa9dc3",
   "metadata": {
    "tags": []
   },
   "outputs": [],
   "source": [
    "import numpy as np\n",
    "\n",
    "def boltzmann_sampling(probabilities, temperature, size=1):\n",
    "    \"\"\"\n",
    "    Perform sampling based on Boltzmann probabilities with a temperature parameter.\n",
    "\n",
    "    Parameters:\n",
    "    probabilities (list of float): Original probabilities derived from Tanimoto similarity.\n",
    "    temperature (float): Temperature parameter controlling the randomness of the sampling.\n",
    "    size (int, optional): Number of samples to draw. Defaults to 1.\n",
    "\n",
    "    Returns:\n",
    "    numpy.ndarray: Indices of the sampled elements.\n",
    "    \"\"\"\n",
    "    # Avoid dividing by zero\n",
    "    temperature += 1e-3\n",
    "    \n",
    "    # Adjust probabilities using the Boltzmann distribution and temperature\n",
    "    adjusted_probs = np.exp(np.log(probabilities) / temperature)\n",
    "    adjusted_probs /= np.sum(adjusted_probs)\n",
    "\n",
    "    # Perform the sampling\n",
    "    return np.random.choice(len(probabilities), size=size, p=adjusted_probs, replace=False)"
   ]
  },
  {
   "cell_type": "code",
   "execution_count": 1634,
   "id": "36f7eaaa-2a1e-4747-ae91-5973fc2c33cc",
   "metadata": {
    "tags": []
   },
   "outputs": [
    {
     "data": {
      "image/png": "[encoded data removed]",
      "text/plain": [
       "<rdkit.Chem.rdchem.Mol at 0x7f4e642cf530>"
      ]
     },
     "metadata": {},
     "output_type": "display_data"
    },
    {
     "name": "stdout",
     "output_type": "stream",
     "text": [
      "1.0\n"
     ]
    }
   ],
   "source": [
    "import pandas as pd\n",
    "\n",
    "probs = [tanimoto_similarity(p, deck[200].mol) for p in products]\n",
    "\n",
    "choices = boltzmann_sampling(probs, 0.0, size=10)\n",
    "display(products[choices[0]])\n",
    "print(probs[choices[0]])"
   ]
  },
  {
   "cell_type": "code",
   "execution_count": 1544,
   "id": "cdb0be65-ae5d-445a-9f71-39f143829d22",
   "metadata": {},
   "outputs": [
    {
     "data": {
      "image/png": "[encoded data removed]",
      "text/plain": [
       "<rdkit.Chem.rdchem.Mol at 0x7f4e642bc660>"
      ]
     },
     "execution_count": 1544,
     "metadata": {},
     "output_type": "execute_result"
    }
   ],
   "source": [
    "Chem.MolFromSmiles(_clean(deck[200].mol))"
   ]
  }
 ],
 "metadata": {
  "kernelspec": {
   "display_name": "Python 3 (ipykernel)",
   "language": "python",
   "name": "python3"
  },
  "language_info": {
   "codemirror_mode": {
    "name": "ipython",
    "version": 3
   },
   "file_extension": ".py",
   "mimetype": "text/x-python",
   "name": "python",
   "nbconvert_exporter": "python",
   "pygments_lexer": "ipython3",
   "version": "3.11.5"
  }
 },
 "nbformat": 4,
 "nbformat_minor": 5
}
