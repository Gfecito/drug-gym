{
 "cells": [
  {
   "cell_type": "markdown",
   "id": "6fd8c1ba-6881-4477-a320-c650f6ad95f0",
   "metadata": {},
   "source": [
    "# Create new library designer function"
   ]
  },
  {
   "cell_type": "markdown",
   "id": "87a1d278-93b9-43ec-a3a0-8b03e9d5de0e",
   "metadata": {},
   "source": [
    "Import data."
   ]
  },
  {
   "cell_type": "code",
   "execution_count": 2,
   "id": "52791718-50ca-4213-b11a-77770a4b4d5a",
   "metadata": {
    "tags": []
   },
   "outputs": [
    {
     "name": "stdout",
     "output_type": "stream",
     "text": [
      "load data\n"
     ]
    }
   ],
   "source": [
    "%load_ext autoreload\n",
    "%autoreload 2\n",
    "\n",
    "import rdkit\n",
    "rdkit.Chem.Draw.IPythonConsole.ipython_maxProperties = -1\n",
    "\n",
    "import dgym as dg\n",
    "\n",
    "# load all data\n",
    "print('load data')\n",
    "path = '../../dgym-data'\n",
    "\n",
    "deck = dg.MoleculeCollection.load(\n",
    "    f'{path}/DSi-Poised_Library_annotated.sdf',\n",
    "    reactant_names=['reagsmi1', 'reagsmi2', 'reagsmi3']\n",
    ")\n",
    "\n",
    "reactions = dg.ReactionCollection.from_json(\n",
    "    path = f'{path}/All_Rxns_rxn_library.json',\n",
    "    smarts_col = 'reaction_string',\n",
    "    classes_col = 'functional_groups'\n",
    ")"
   ]
  },
  {
   "cell_type": "code",
   "execution_count": 3,
   "id": "a8ab1a72-d039-44d3-8e81-cfe43fd140e7",
   "metadata": {
    "tags": []
   },
   "outputs": [
    {
     "name": "stdout",
     "output_type": "stream",
     "text": [
      "align fingerprints\n",
      "partition building blocks\n"
     ]
    }
   ],
   "source": [
    "building_blocks = dg.datasets.disk_loader(f'{path}/Enamine_Building_Blocks_Stock_262336cmpd_20230630.sdf')\n",
    "fingerprints = dg.datasets.fingerprints(f'{path}/out/Enamine_Building_Blocks_Stock_262336cmpd_20230630.fpb')\n",
    "\n",
    "# align fingerprints to building blocks\n",
    "print('align fingerprints')\n",
    "fingerprints = dg.utils.sort_fingerprints(fingerprints, building_blocks)\n",
    "\n",
    "# partition building blocks according to functional groups\n",
    "print('partition building blocks')\n",
    "templates = dg.utils.get_unique_reactants(reactions)\n",
    "building_blocks = dg.utils.partition_building_blocks(building_blocks, templates, out_dir=path)"
   ]
  },
  {
   "cell_type": "markdown",
   "id": "63b64107-b4fb-4398-8cbb-5bd02aeec5a7",
   "metadata": {},
   "source": [
    "Create inputs to the DrugEnv."
   ]
  },
  {
   "cell_type": "code",
   "execution_count": 4,
   "id": "e261cdac-27d9-49a6-9f26-18bce353034a",
   "metadata": {
    "tags": []
   },
   "outputs": [],
   "source": [
    "import numpy as np\n",
    "from dgym.envs.library_designer import LibraryDesigner\n",
    "from dgym.envs.oracle import DGLOracle, RDKitOracle, DockingOracle\n",
    "from dgym.envs.evaluator import ClassicEvaluator, UtilityFunction\n",
    "\n",
    "# create library designer\n",
    "library_designer = LibraryDesigner(\n",
    "    reactions,\n",
    "    building_blocks,\n",
    "    fingerprints\n",
    ")"
   ]
  },
  {
   "cell_type": "markdown",
   "id": "51188539-653b-419a-b02a-fcc6b71d9cc9",
   "metadata": {},
   "source": [
    "Testing the best performing molecule from docking screen."
   ]
  },
  {
   "cell_type": "code",
   "execution_count": 5,
   "id": "4f472da2-bb0e-4bcc-bb7a-d67d0fc1a372",
   "metadata": {
    "tags": []
   },
   "outputs": [],
   "source": [
    "mol = dg.molecule.Molecule(\n",
    "    'Cc1ccccc1C(=O)Nc1nc(-c2cccc(O)c2)cs1',\n",
    "    reactants = [\n",
    "        dg.molecule.Molecule('Cc1ccccc1C(=O)O'),\n",
    "        dg.molecule.Molecule('Nc1nc(-c2cccc(O)c2)cs1'),\n",
    "    ]\n",
    ")\n",
    "\n",
    "analogs = library_designer.design(\n",
    "    molecules = [mol],\n",
    "    num_analogs = 20,\n",
    "    fraction_random = 0.0\n",
    ")"
   ]
  },
  {
   "cell_type": "code",
   "execution_count": 6,
   "id": "2fa87fc6-969c-4370-8530-abbe5a0dc5fc",
   "metadata": {
    "tags": []
   },
   "outputs": [],
   "source": [
    "import numpy as np\n",
    "from dgym.envs.library_designer import LibraryDesigner\n",
    "from dgym.envs.oracle import DGLOracle, RDKitOracle, DockingOracle\n",
    "from dgym.envs.evaluator import ClassicEvaluator, UtilityFunction\n",
    "\n",
    "# create library designer\n",
    "library_designer = LibraryDesigner(\n",
    "    reactions,\n",
    "    building_blocks,\n",
    "    fingerprints\n",
    ")\n",
    "\n",
    "# create molecular properties\n",
    "# log_P_oracle = RDKitOracle('MolLogP')\n",
    "# log_S_oracle = DGLOracle('GCN_canonical_ESOL')\n",
    "\n",
    "# create docking oracle\n",
    "config = {\n",
    "    'center_x': 9.812,\n",
    "    'center_y': -0.257,\n",
    "    'center_z': 20.8485,\n",
    "    'size_x': 14.328,\n",
    "    'size_y': 8.85,\n",
    "    'size_z': 12.539,\n",
    "    'exhaustiveness': 128,\n",
    "    'max_step': 20,\n",
    "    'num_modes': 9,\n",
    "    'scoring': 'vinardo',\n",
    "    'refine_step': 3,\n",
    "    'seed': 5\n",
    "}\n",
    "\n",
    "docking_oracle = DockingOracle(\n",
    "    'Mpro affinity',\n",
    "    receptor_path=f'{path}/Mpro_prepped.pdbqt',\n",
    "    config=config\n",
    ")\n",
    "\n",
    "# create evaluators\n",
    "# log_S_evaluator = ClassicEvaluator(ideal=(-2, 0), acceptable=(-4, 0.5))\n",
    "# log_P_evaluator = ClassicEvaluator(ideal=(1, 4), acceptable=(0, 5))\n",
    "# docking_evaluator = ClassicEvaluator(ideal=(-12, -9), acceptable=(-12, -7))\n",
    "docking_evaluator = ClassicEvaluator(ideal=(9, 12), acceptable=(7, 12))\n",
    "\n",
    "# create utility function\n",
    "utility_function = UtilityFunction(\n",
    "    oracles = [\n",
    "        docking_oracle,\n",
    "        # log_S_oracle,\n",
    "        # log_P_oracle\n",
    "    ],\n",
    "    evaluators = [\n",
    "        docking_evaluator,\n",
    "        # log_S_evaluator,\n",
    "        # log_P_evaluator\n",
    "    ],\n",
    "    strategy = lambda x: np.prod(x, axis=0)\n",
    ")\n",
    "\n",
    "# utility = utility_function(deck)\n",
    "# best_molecules = utility.argsort().tolist()[-25:]"
   ]
  },
  {
   "cell_type": "code",
   "execution_count": 7,
   "id": "bf4f985c-d3e5-482f-9d67-6247836e3cca",
   "metadata": {
    "tags": []
   },
   "outputs": [],
   "source": [
    "results = docking_oracle(analogs)"
   ]
  },
  {
   "cell_type": "code",
   "execution_count": 19,
   "id": "23c8a556-6769-4574-bfff-9cee6df1b1f5",
   "metadata": {
    "tags": []
   },
   "outputs": [
    {
     "name": "stdout",
     "output_type": "stream",
     "text": [
      "CPU times: user 4.9 ms, sys: 235 µs, total: 5.14 ms\n",
      "Wall time: 5.05 ms\n"
     ]
    }
   ],
   "source": [
    "%%time\n",
    "\n",
    "import chemfp\n",
    "from rdkit import Chem\n",
    "\n",
    "indices = chemfp.simsearch(\n",
    "    k = 10,\n",
    "    query = deck.smiles[0],\n",
    "    targets = library_designer.fingerprints\n",
    ")"
   ]
  },
  {
   "cell_type": "code",
   "execution_count": 210,
   "id": "3874a0a6-7226-47d0-bcba-3912f19d79f4",
   "metadata": {
    "tags": []
   },
   "outputs": [
    {
     "data": {
      "application/vnd.jupyter.widget-view+json": {
       "model_id": "e270bfea44ca48bdb7198cbafb9dff9e",
       "version_major": 2,
       "version_minor": 0
      },
      "text/plain": [
       "  0%|          | 0/262336 [00:00<?, ?it/s]"
      ]
     },
     "metadata": {},
     "output_type": "display_data"
    }
   ],
   "source": [
    "from tqdm.notebook import tqdm\n",
    "\n",
    "coll = []\n",
    "for bb in tqdm(bbs):\n",
    "    if bb:\n",
    "        coll.append(dg.molecule.Molecule(bb))\n",
    "    else:\n",
    "        coll.append(dg.molecule.Molecule(''))\n",
    "coll = dg.collection.MoleculeCollection(coll)"
   ]
  },
  {
   "cell_type": "code",
   "execution_count": null,
   "id": "4f05c06e-0c09-422f-a44d-6aa23e8605d1",
   "metadata": {},
   "outputs": [
    {
     "data": {
      "image/png": "[encoded data removed]",
      "text/html": [
       "<table><tr><td colspan=\"2\" style=\"text-align: center;\"><image src=\"data:image/png;base64,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\"></td></tr>\n",
       "<tr><th style=\"text-align: right\">Mw</th><td style=\"text-align: left\">172.13</td></tr>\n",
       "<tr><th style=\"text-align: right\">ID</th><td style=\"text-align: left\">EN300-180306</td></tr>\n",
       "<tr><th style=\"text-align: right\">IUPAC Name</th><td style=\"text-align: left\">2,3-difluoro-4-methylbenzoic acid</td></tr>\n",
       "<tr><th style=\"text-align: right\">URL</th><td style=\"text-align: left\">https://www.enaminestore.com/catalog/EN300-180306</td></tr>\n",
       "<tr><th style=\"text-align: right\">Stock_weight_G</th><td style=\"text-align: left\">1892.612</td></tr>\n",
       "<tr><th style=\"text-align: right\">Class</th><td style=\"text-align: left\">ArylHalides, CarboxylicAcids</td></tr>\n",
       "<tr><th style=\"text-align: right\">Subclass</th><td style=\"text-align: left\">Aryl_halides_SN, Aromatic_Acids</td></tr></table>"
      ],
      "text/plain": [
       "<dgym.molecule.Molecule at 0x7fd93abe9b90>"
      ]
     },
     "execution_count": 254,
     "metadata": {},
     "output_type": "execute_result"
    }
   ],
   "source": [
    "coll[indices[1]]"
   ]
  },
  {
   "cell_type": "code",
   "execution_count": 23,
   "id": "7d7eefaa-af1d-4905-ad4e-510fd6914ac1",
   "metadata": {
    "tags": []
   },
   "outputs": [
    {
     "ename": "NameError",
     "evalue": "name 'coll' is not defined",
     "output_type": "error",
     "traceback": [
      "\u001b[0;31m---------------------------------------------------------------------------\u001b[0m",
      "\u001b[0;31mNameError\u001b[0m                                 Traceback (most recent call last)",
      "Cell \u001b[0;32mIn[23], line 1\u001b[0m\n\u001b[0;32m----> 1\u001b[0m prod \u001b[38;5;241m=\u001b[39m coll[indices[\u001b[38;5;241m0\u001b[39m]]\n\u001b[1;32m      2\u001b[0m \u001b[38;5;28;01mfor\u001b[39;00m reaction \u001b[38;5;129;01min\u001b[39;00m reactions:\n\u001b[1;32m      3\u001b[0m     \u001b[38;5;28;01mif\u001b[39;00m \u001b[38;5;28many\u001b[39m(prod\u001b[38;5;241m.\u001b[39mmol\u001b[38;5;241m.\u001b[39mHasSubstructMatch(reactant)\n\u001b[1;32m      4\u001b[0m            \u001b[38;5;28;01mfor\u001b[39;00m reactant \u001b[38;5;129;01min\u001b[39;00m reaction\u001b[38;5;241m.\u001b[39mreactants):\n",
      "\u001b[0;31mNameError\u001b[0m: name 'coll' is not defined"
     ]
    }
   ],
   "source": [
    "prod = coll[indices[0]]\n",
    "for reaction in reactions:\n",
    "    if any(prod.mol.HasSubstructMatch(reactant)\n",
    "           for reactant in reaction.reactants):\n",
    "        print(prod.smiles, reaction.id)"
   ]
  }
 ],
 "metadata": {
  "kernelspec": {
   "display_name": "Python 3 (ipykernel)",
   "language": "python",
   "name": "python3"
  },
  "language_info": {
   "codemirror_mode": {
    "name": "ipython",
    "version": 3
   },
   "file_extension": ".py",
   "mimetype": "text/x-python",
   "name": "python",
   "nbconvert_exporter": "python",
   "pygments_lexer": "ipython3",
   "version": "3.11.5"
  }
 },
 "nbformat": 4,
 "nbformat_minor": 5
}
