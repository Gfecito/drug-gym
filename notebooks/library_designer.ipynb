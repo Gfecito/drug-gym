{
 "cells": [
  {
   "cell_type": "markdown",
   "id": "6fd8c1ba-6881-4477-a320-c650f6ad95f0",
   "metadata": {},
   "source": [
    "# Create new library designer function"
   ]
  },
  {
   "cell_type": "markdown",
   "id": "87a1d278-93b9-43ec-a3a0-8b03e9d5de0e",
   "metadata": {},
   "source": [
    "Import data."
   ]
  },
  {
   "cell_type": "code",
   "execution_count": 1,
   "id": "52791718-50ca-4213-b11a-77770a4b4d5a",
   "metadata": {
    "tags": []
   },
   "outputs": [
    {
     "name": "stdout",
     "output_type": "stream",
     "text": [
      "load data\n"
     ]
    }
   ],
   "source": [
    "%load_ext autoreload\n",
    "%autoreload 2\n",
    "\n",
    "import rdkit\n",
    "rdkit.Chem.Draw.IPythonConsole.ipython_maxProperties = -1\n",
    "\n",
    "import dgym as dg\n",
    "\n",
    "# load all data\n",
    "print('load data')\n",
    "path = '../../dgym-data'\n",
    "\n",
    "deck = dg.MoleculeCollection.load(\n",
    "    f'{path}/DSi-Poised_Library_annotated.sdf',\n",
    "    reactant_names=['reagsmi1', 'reagsmi2', 'reagsmi3']\n",
    ")\n",
    "\n",
    "reactions = dg.ReactionCollection.from_json(\n",
    "    path = f'{path}/All_Rxns_rxn_library.json',\n",
    "    smarts_col = 'reaction_string',\n",
    "    classes_col = 'functional_groups'\n",
    ")"
   ]
  },
  {
   "cell_type": "code",
   "execution_count": 2,
   "id": "a8ab1a72-d039-44d3-8e81-cfe43fd140e7",
   "metadata": {
    "tags": []
   },
   "outputs": [
    {
     "name": "stdout",
     "output_type": "stream",
     "text": [
      "align fingerprints\n"
     ]
    }
   ],
   "source": [
    "building_blocks = dg.datasets.disk_loader(f'{path}/Enamine_Building_Blocks_Stock_262336cmpd_20230630.sdf')\n",
    "fingerprints = dg.datasets.fingerprints(f'{path}/out/Enamine_Building_Blocks_Stock_262336cmpd_20230630.fpb')\n",
    "\n",
    "# align fingerprints to building blocks\n",
    "print('align fingerprints')\n",
    "fingerprints = dg.utils.sort_fingerprints(fingerprints, building_blocks)"
   ]
  },
  {
   "cell_type": "markdown",
   "id": "63b64107-b4fb-4398-8cbb-5bd02aeec5a7",
   "metadata": {},
   "source": [
    "Create inputs to the DrugEnv."
   ]
  },
  {
   "cell_type": "code",
   "execution_count": 3,
   "id": "e261cdac-27d9-49a6-9f26-18bce353034a",
   "metadata": {
    "tags": []
   },
   "outputs": [],
   "source": [
    "import numpy as np\n",
    "from dgym.envs.library_designer import LibraryDesigner\n",
    "from dgym.envs.oracle import DGLOracle, RDKitOracle, DockingOracle\n",
    "from dgym.envs.evaluator import ClassicEvaluator, UtilityFunction\n",
    "\n",
    "# create library designer\n",
    "library_designer = LibraryDesigner(\n",
    "    reactions,\n",
    "    building_blocks,\n",
    "    fingerprints\n",
    ")"
   ]
  },
  {
   "cell_type": "markdown",
   "id": "51188539-653b-419a-b02a-fcc6b71d9cc9",
   "metadata": {},
   "source": [
    "Testing the best performing molecule from docking screen."
   ]
  },
  {
   "cell_type": "code",
   "execution_count": 4,
   "id": "4f472da2-bb0e-4bcc-bb7a-d67d0fc1a372",
   "metadata": {
    "tags": []
   },
   "outputs": [
    {
     "name": "stdout",
     "output_type": "stream",
     "text": [
      "CPU times: user 104 ms, sys: 239 µs, total: 104 ms\n",
      "Wall time: 103 ms\n"
     ]
    }
   ],
   "source": [
    "%%time\n",
    "mol = dg.molecule.Molecule(\n",
    "    'Cc1ccccc1C(=O)Nc1nc(-c2cccc(O)c2)cs1',\n",
    "    reactants = [\n",
    "        dg.molecule.Molecule('Cc1ccccc1C(=O)O'),\n",
    "        dg.molecule.Molecule('Nc1nc(-c2cccc(O)c2)cs1'),\n",
    "    ]\n",
    ")\n",
    "\n",
    "library_designer.reset_cache()\n",
    "\n",
    "analogs = library_designer.design(\n",
    "    molecule = deck[0],\n",
    "    num_analogs = 20,\n",
    "    temperature = 0.0\n",
    ")\n",
    "# [display(a) for a in analogs]"
   ]
  },
  {
   "cell_type": "code",
   "execution_count": 5,
   "id": "5fa77c4d-036d-4c98-853c-290617ccd8da",
   "metadata": {
    "tags": []
   },
   "outputs": [],
   "source": [
    "import numpy as np\n",
    "from dgym.envs.library_designer import LibraryDesigner\n",
    "from dgym.envs.oracle import DGLOracle, RDKitOracle, DockingOracle\n",
    "from dgym.envs.evaluator import ClassicEvaluator, UtilityFunction\n",
    "\n",
    "# create library designer\n",
    "library_designer = LibraryDesigner(\n",
    "    reactions,\n",
    "    building_blocks,\n",
    "    fingerprints\n",
    ")\n",
    "\n",
    "# create docking oracle\n",
    "config = {\n",
    "    'center_x': 9.812,\n",
    "    'center_y': -0.257,\n",
    "    'center_z': 20.8485,\n",
    "    'size_x': 14.328,\n",
    "    'size_y': 8.85,\n",
    "    'size_z': 12.539,\n",
    "    'exhaustiveness': 128,\n",
    "    'max_step': 20,\n",
    "    'num_modes': 9,\n",
    "    'scoring': 'vinardo',\n",
    "    'refine_step': 3,\n",
    "    'seed': 5\n",
    "}\n",
    "\n",
    "docking_oracle = DockingOracle(\n",
    "    'Mpro affinity',\n",
    "    receptor_path=f'{path}/Mpro_prepped.pdbqt',\n",
    "    config=config\n",
    ")"
   ]
  },
  {
   "cell_type": "code",
   "execution_count": 52,
   "id": "66c1e02e-e93e-4dfe-a9f0-ecd0485711e0",
   "metadata": {
    "tags": []
   },
   "outputs": [
    {
     "data": {
      "text/plain": [
       "'O=C(O)c1c(F)ccc(O)c1F'"
      ]
     },
     "execution_count": 52,
     "metadata": {},
     "output_type": "execute_result"
    }
   ],
   "source": [
    "best_analog.reactants[1].smiles"
   ]
  },
  {
   "cell_type": "code",
   "execution_count": 55,
   "id": "c5176f3e-084b-4ebd-9a98-bc0a2f143bbb",
   "metadata": {
    "tags": []
   },
   "outputs": [
    {
     "data": {
      "image/png": "[encoded data removed]",
      "text/plain": [
       "<dgym.molecule.Molecule at 0x7f1e8d460750>"
      ]
     },
     "metadata": {},
     "output_type": "display_data"
    },
    {
     "name": "stdout",
     "output_type": "stream",
     "text": [
      "7.66805169179407\n"
     ]
    },
    {
     "data": {
      "image/png": "[encoded data removed]",
      "text/plain": [
       "<dgym.molecule.Molecule at 0x7f1e8c6d7c10>"
      ]
     },
     "metadata": {},
     "output_type": "display_data"
    },
    {
     "name": "stdout",
     "output_type": "stream",
     "text": [
      "7.3031498643667865\n"
     ]
    },
    {
     "data": {
      "image/png": "[encoded data removed]",
      "text/plain": [
       "<dgym.molecule.Molecule at 0x7f1e8cce4b90>"
      ]
     },
     "metadata": {},
     "output_type": "display_data"
    },
    {
     "name": "stdout",
     "output_type": "stream",
     "text": [
      "7.298589964148461\n"
     ]
    },
    {
     "data": {
      "image/png": "[encoded data removed]",
      "text/plain": [
       "<dgym.molecule.Molecule at 0x7f1e8d440290>"
      ]
     },
     "metadata": {},
     "output_type": "display_data"
    },
    {
     "name": "stdout",
     "output_type": "stream",
     "text": [
      "6.9902821533397645\n"
     ]
    },
    {
     "ename": "KeyboardInterrupt",
     "evalue": "",
     "output_type": "error",
     "traceback": [
      "\u001b[0;31m---------------------------------------------------------------------------\u001b[0m",
      "\u001b[0;31mKeyboardInterrupt\u001b[0m                         Traceback (most recent call last)",
      "Cell \u001b[0;32mIn[55], line 84\u001b[0m\n\u001b[1;32m     76\u001b[0m analogs \u001b[38;5;241m=\u001b[39m library_designer\u001b[38;5;241m.\u001b[39mdesign(\n\u001b[1;32m     77\u001b[0m     molecule \u001b[38;5;241m=\u001b[39m best_analog,\n\u001b[1;32m     78\u001b[0m     num_analogs \u001b[38;5;241m=\u001b[39m \u001b[38;5;241m50\u001b[39m,\n\u001b[1;32m     79\u001b[0m     temperature \u001b[38;5;241m=\u001b[39m \u001b[38;5;241m0.5\u001b[39m\n\u001b[1;32m     80\u001b[0m )\n\u001b[1;32m     82\u001b[0m \u001b[38;5;28;01mif\u001b[39;00m analogs:\n\u001b[0;32m---> 84\u001b[0m     results \u001b[38;5;241m=\u001b[39m docking_oracle(analogs)\n\u001b[1;32m     86\u001b[0m     best \u001b[38;5;241m=\u001b[39m np\u001b[38;5;241m.\u001b[39mnanargmax(results)\u001b[38;5;241m.\u001b[39mitem()\n\u001b[1;32m     87\u001b[0m     best_analog \u001b[38;5;241m=\u001b[39m analogs[best]\n",
      "File \u001b[0;32m~/dev/chodera/dgym/dgym/envs/oracle.py:26\u001b[0m, in \u001b[0;36mOracle.__call__\u001b[0;34m(self, molecules, **kwargs)\u001b[0m\n\u001b[1;32m     25\u001b[0m \u001b[38;5;28;01mdef\u001b[39;00m \u001b[38;5;21m__call__\u001b[39m(\u001b[38;5;28mself\u001b[39m, molecules: Union[MoleculeCollection, \u001b[38;5;28mlist\u001b[39m], \u001b[38;5;241m*\u001b[39m\u001b[38;5;241m*\u001b[39mkwargs):\n\u001b[0;32m---> 26\u001b[0m     \u001b[38;5;28;01mreturn\u001b[39;00m \u001b[38;5;28mself\u001b[39m\u001b[38;5;241m.\u001b[39mget_predictions(molecules, \u001b[38;5;241m*\u001b[39m\u001b[38;5;241m*\u001b[39mkwargs)\n",
      "File \u001b[0;32m~/dev/chodera/dgym/dgym/envs/oracle.py:45\u001b[0m, in \u001b[0;36mOracle.get_predictions\u001b[0;34m(self, molecules, **kwargs)\u001b[0m\n\u001b[1;32m     42\u001b[0m uncached_molecules \u001b[38;5;241m=\u001b[39m uncached_molecules\u001b[38;5;241m.\u001b[39munique()\n\u001b[1;32m     44\u001b[0m \u001b[38;5;66;03m# make predictions\u001b[39;00m\n\u001b[0;32m---> 45\u001b[0m smiles, preds \u001b[38;5;241m=\u001b[39m \u001b[38;5;28mself\u001b[39m\u001b[38;5;241m.\u001b[39mpredict(uncached_molecules, \u001b[38;5;241m*\u001b[39m\u001b[38;5;241m*\u001b[39mkwargs)\n\u001b[1;32m     47\u001b[0m \u001b[38;5;66;03m# import pdb; pdb.set_trace()\u001b[39;00m\n\u001b[1;32m     48\u001b[0m \u001b[38;5;66;03m# print([l[0] == l[1] for l in zip(set(smiles), set(uncached_molecules.smiles))])\u001b[39;00m\n\u001b[1;32m     49\u001b[0m \n\u001b[1;32m     50\u001b[0m \u001b[38;5;66;03m# cache results\u001b[39;00m\n\u001b[1;32m     51\u001b[0m \u001b[38;5;28mself\u001b[39m\u001b[38;5;241m.\u001b[39mcache\u001b[38;5;241m.\u001b[39mupdate(\u001b[38;5;28mzip\u001b[39m(smiles, preds))\n",
      "File \u001b[0;32m~/dev/chodera/dgym/dgym/envs/oracle.py:143\u001b[0m, in \u001b[0;36mDockingOracle.predict\u001b[0;34m(self, molecules, path)\u001b[0m\n\u001b[1;32m    140\u001b[0m command \u001b[38;5;241m=\u001b[39m \u001b[38;5;28mself\u001b[39m\u001b[38;5;241m.\u001b[39m_prepare_command(\u001b[38;5;28mself\u001b[39m\u001b[38;5;241m.\u001b[39mconfig, directory)\n\u001b[1;32m    142\u001b[0m \u001b[38;5;66;03m# run docking\u001b[39;00m\n\u001b[0;32m--> 143\u001b[0m resp \u001b[38;5;241m=\u001b[39m \u001b[38;5;28mself\u001b[39m\u001b[38;5;241m.\u001b[39m_dock(command)\n\u001b[1;32m    145\u001b[0m \u001b[38;5;66;03m# gather results\u001b[39;00m\n\u001b[1;32m    146\u001b[0m smiles, preds \u001b[38;5;241m=\u001b[39m \u001b[38;5;28mself\u001b[39m\u001b[38;5;241m.\u001b[39m_gather_results(directory)\n",
      "File \u001b[0;32m~/dev/chodera/dgym/dgym/envs/oracle.py:152\u001b[0m, in \u001b[0;36mDockingOracle._dock\u001b[0;34m(self, command)\u001b[0m\n\u001b[1;32m    150\u001b[0m \u001b[38;5;28;01mdef\u001b[39;00m \u001b[38;5;21m_dock\u001b[39m(\u001b[38;5;28mself\u001b[39m, command: \u001b[38;5;28mstr\u001b[39m):\n\u001b[1;32m    151\u001b[0m     \u001b[38;5;28;01mimport\u001b[39;00m \u001b[38;5;21;01msubprocess\u001b[39;00m\n\u001b[0;32m--> 152\u001b[0m     \u001b[38;5;28;01mreturn\u001b[39;00m subprocess\u001b[38;5;241m.\u001b[39mrun(\n\u001b[1;32m    153\u001b[0m         command,\n\u001b[1;32m    154\u001b[0m         shell\u001b[38;5;241m=\u001b[39m\u001b[38;5;28;01mTrue\u001b[39;00m, \n\u001b[1;32m    155\u001b[0m         stdout\u001b[38;5;241m=\u001b[39msubprocess\u001b[38;5;241m.\u001b[39mPIPE,\n\u001b[1;32m    156\u001b[0m         stderr\u001b[38;5;241m=\u001b[39msubprocess\u001b[38;5;241m.\u001b[39mPIPE, \n\u001b[1;32m    157\u001b[0m         encoding\u001b[38;5;241m=\u001b[39m\u001b[38;5;124m'\u001b[39m\u001b[38;5;124mutf-8\u001b[39m\u001b[38;5;124m'\u001b[39m\n\u001b[1;32m    158\u001b[0m     )\n",
      "File \u001b[0;32m~/miniconda3/envs/chodera/lib/python3.11/subprocess.py:550\u001b[0m, in \u001b[0;36mrun\u001b[0;34m(input, capture_output, timeout, check, *popenargs, **kwargs)\u001b[0m\n\u001b[1;32m    548\u001b[0m \u001b[38;5;28;01mwith\u001b[39;00m Popen(\u001b[38;5;241m*\u001b[39mpopenargs, \u001b[38;5;241m*\u001b[39m\u001b[38;5;241m*\u001b[39mkwargs) \u001b[38;5;28;01mas\u001b[39;00m process:\n\u001b[1;32m    549\u001b[0m     \u001b[38;5;28;01mtry\u001b[39;00m:\n\u001b[0;32m--> 550\u001b[0m         stdout, stderr \u001b[38;5;241m=\u001b[39m process\u001b[38;5;241m.\u001b[39mcommunicate(\u001b[38;5;28minput\u001b[39m, timeout\u001b[38;5;241m=\u001b[39mtimeout)\n\u001b[1;32m    551\u001b[0m     \u001b[38;5;28;01mexcept\u001b[39;00m TimeoutExpired \u001b[38;5;28;01mas\u001b[39;00m exc:\n\u001b[1;32m    552\u001b[0m         process\u001b[38;5;241m.\u001b[39mkill()\n",
      "File \u001b[0;32m~/miniconda3/envs/chodera/lib/python3.11/subprocess.py:1209\u001b[0m, in \u001b[0;36mPopen.communicate\u001b[0;34m(self, input, timeout)\u001b[0m\n\u001b[1;32m   1206\u001b[0m     endtime \u001b[38;5;241m=\u001b[39m \u001b[38;5;28;01mNone\u001b[39;00m\n\u001b[1;32m   1208\u001b[0m \u001b[38;5;28;01mtry\u001b[39;00m:\n\u001b[0;32m-> 1209\u001b[0m     stdout, stderr \u001b[38;5;241m=\u001b[39m \u001b[38;5;28mself\u001b[39m\u001b[38;5;241m.\u001b[39m_communicate(\u001b[38;5;28minput\u001b[39m, endtime, timeout)\n\u001b[1;32m   1210\u001b[0m \u001b[38;5;28;01mexcept\u001b[39;00m \u001b[38;5;167;01mKeyboardInterrupt\u001b[39;00m:\n\u001b[1;32m   1211\u001b[0m     \u001b[38;5;66;03m# https://bugs.python.org/issue25942\u001b[39;00m\n\u001b[1;32m   1212\u001b[0m     \u001b[38;5;66;03m# See the detailed comment in .wait().\u001b[39;00m\n\u001b[1;32m   1213\u001b[0m     \u001b[38;5;28;01mif\u001b[39;00m timeout \u001b[38;5;129;01mis\u001b[39;00m \u001b[38;5;129;01mnot\u001b[39;00m \u001b[38;5;28;01mNone\u001b[39;00m:\n",
      "File \u001b[0;32m~/miniconda3/envs/chodera/lib/python3.11/subprocess.py:2108\u001b[0m, in \u001b[0;36mPopen._communicate\u001b[0;34m(self, input, endtime, orig_timeout)\u001b[0m\n\u001b[1;32m   2101\u001b[0m     \u001b[38;5;28mself\u001b[39m\u001b[38;5;241m.\u001b[39m_check_timeout(endtime, orig_timeout,\n\u001b[1;32m   2102\u001b[0m                         stdout, stderr,\n\u001b[1;32m   2103\u001b[0m                         skip_check_and_raise\u001b[38;5;241m=\u001b[39m\u001b[38;5;28;01mTrue\u001b[39;00m)\n\u001b[1;32m   2104\u001b[0m     \u001b[38;5;28;01mraise\u001b[39;00m \u001b[38;5;167;01mRuntimeError\u001b[39;00m(  \u001b[38;5;66;03m# Impossible :)\u001b[39;00m\n\u001b[1;32m   2105\u001b[0m         \u001b[38;5;124m'\u001b[39m\u001b[38;5;124m_check_timeout(..., skip_check_and_raise=True) \u001b[39m\u001b[38;5;124m'\u001b[39m\n\u001b[1;32m   2106\u001b[0m         \u001b[38;5;124m'\u001b[39m\u001b[38;5;124mfailed to raise TimeoutExpired.\u001b[39m\u001b[38;5;124m'\u001b[39m)\n\u001b[0;32m-> 2108\u001b[0m ready \u001b[38;5;241m=\u001b[39m selector\u001b[38;5;241m.\u001b[39mselect(timeout)\n\u001b[1;32m   2109\u001b[0m \u001b[38;5;28mself\u001b[39m\u001b[38;5;241m.\u001b[39m_check_timeout(endtime, orig_timeout, stdout, stderr)\n\u001b[1;32m   2111\u001b[0m \u001b[38;5;66;03m# XXX Rewrite these to use non-blocking I/O on the file\u001b[39;00m\n\u001b[1;32m   2112\u001b[0m \u001b[38;5;66;03m# objects; they are no longer using C stdio!\u001b[39;00m\n",
      "File \u001b[0;32m~/miniconda3/envs/chodera/lib/python3.11/selectors.py:415\u001b[0m, in \u001b[0;36m_PollLikeSelector.select\u001b[0;34m(self, timeout)\u001b[0m\n\u001b[1;32m    413\u001b[0m ready \u001b[38;5;241m=\u001b[39m []\n\u001b[1;32m    414\u001b[0m \u001b[38;5;28;01mtry\u001b[39;00m:\n\u001b[0;32m--> 415\u001b[0m     fd_event_list \u001b[38;5;241m=\u001b[39m \u001b[38;5;28mself\u001b[39m\u001b[38;5;241m.\u001b[39m_selector\u001b[38;5;241m.\u001b[39mpoll(timeout)\n\u001b[1;32m    416\u001b[0m \u001b[38;5;28;01mexcept\u001b[39;00m \u001b[38;5;167;01mInterruptedError\u001b[39;00m:\n\u001b[1;32m    417\u001b[0m     \u001b[38;5;28;01mreturn\u001b[39;00m ready\n",
      "\u001b[0;31mKeyboardInterrupt\u001b[0m: "
     ]
    }
   ],
   "source": [
    "from tqdm.notebook import tqdm\n",
    "\n",
    "library_designer.reset_cache()\n",
    "\n",
    "# best_analog = dg.molecule.Molecule(\n",
    "#     'Cc1ccccc1C(=O)Nc1nc(-c2cccc(O)c2)cs1',\n",
    "#     reactants = [\n",
    "#         dg.molecule.Molecule('Cc1ccccc1C(=O)O'),\n",
    "#         dg.molecule.Molecule('Nc1nc(-c2cccc(O)c2)cs1'),\n",
    "#     ]\n",
    "# )\n",
    "# display(best_analog)\n",
    "# print(6.737014029700801)\n",
    "\n",
    "\n",
    "# best_analog = dg.molecule.Molecule(\n",
    "#     'COc1cc(C(=O)OC(C#N)c2cc(F)ccc2F)ccc1Br',\n",
    "#     reactants = [\n",
    "#         dg.molecule.Molecule('COc1cc(C(=O)O)ccc1Br'),\n",
    "#         dg.molecule.Molecule('N#CC(O)c1cc(F)ccc1F'),\n",
    "#     ]\n",
    "# )\n",
    "\n",
    "# display(best_analog)\n",
    "# print(6.921561543699966)\n",
    "\n",
    "# best_analog = dg.molecule.Molecule(\n",
    "#     'N#CN(C(=O)Cc1ccc2cn[nH]c2c1)c1cccc(C(=O)O)c1',\n",
    "#     reactants = [\n",
    "#         dg.molecule.Molecule('O=C(O)Cc1ccc2cn[nH]c2c1'),\n",
    "#         dg.molecule.Molecule('N#CNc1cccc(C(=O)O)c1'),\n",
    "#     ]\n",
    "# )\n",
    "\n",
    "# display(best_analog)\n",
    "# print(7.123005139339721)\n",
    "\n",
    "# best_analog = dg.molecule.Molecule(\n",
    "#     'O=C(c1ccc2c(c1)CC2)c1cnc(F)c(C(=O)O)c1',\n",
    "#     reactants = [\n",
    "#         dg.molecule.Molecule('N#Cc1cnc(F)c(C(=O)O)c1'),\n",
    "#         dg.molecule.Molecule('Brc1ccc2c(c1)CC2'),\n",
    "#     ]\n",
    "# )\n",
    "\n",
    "# display(best_analog)\n",
    "# print(7.244001238124934)\n",
    "\n",
    "\n",
    "# best_analog = dg.molecule.Molecule(\n",
    "#     'O=C(c1ccc2c(c1)CCCC2)c1ccc(F)c(C(=O)O)c1',\n",
    "#     reactants = [\n",
    "#         dg.molecule.Molecule('N#Cc1ccc(F)c(C(=O)O)c1'),\n",
    "#         dg.molecule.Molecule('Brc1ccc2c(c1)CCCC2'),\n",
    "#     ]\n",
    "# )\n",
    "\n",
    "# display(best_analog)\n",
    "# print(7.462370863410115)\n",
    "\n",
    "best_analog = dg.molecule.Molecule(\n",
    "    'O=C(O)c1c(F)ccc(Oc2ccc3c(c2)CCNC3)c1F',\n",
    "    reactants = [\n",
    "        dg.molecule.Molecule('Brc1ccc2c(c1)CCNC2.Cl'),\n",
    "        dg.molecule.Molecule('O=C(O)c1c(F)ccc(O)c1F'),\n",
    "    ]\n",
    ")\n",
    "\n",
    "display(best_analog)\n",
    "print(7.66805169179407)\n",
    "\n",
    "\n",
    "\n",
    "for _ in range(10):\n",
    "\n",
    "    analogs = library_designer.design(\n",
    "        molecule = best_analog,\n",
    "        num_analogs = 50,\n",
    "        temperature = 0.5\n",
    "    )\n",
    "\n",
    "    if analogs:\n",
    "        \n",
    "        results = docking_oracle(analogs)\n",
    "        \n",
    "        best = np.nanargmax(results).item()\n",
    "        best_analog = analogs[best]\n",
    "        best_result = results[best]\n",
    "        \n",
    "        display(best_analog)\n",
    "        print(best_result)"
   ]
  },
  {
   "cell_type": "code",
   "execution_count": 56,
   "id": "30c98395-e806-4eb9-8ad3-cb42601e7c40",
   "metadata": {
    "tags": []
   },
   "outputs": [
    {
     "data": {
      "text/plain": [
       "<Axes: >"
      ]
     },
     "execution_count": 56,
     "metadata": {},
     "output_type": "execute_result"
    },
    {
     "data": {
      "image/png": "[encoded data removed]",
      "text/plain": [
       "<Figure size 640x480 with 1 Axes>"
      ]
     },
     "metadata": {},
     "output_type": "display_data"
    }
   ],
   "source": [
    "import seaborn as sns\n",
    "\n",
    "sns.set()\n",
    "\n",
    "sns.swarmplot(results)"
   ]
  }
 ],
 "metadata": {
  "kernelspec": {
   "display_name": "Python 3 (ipykernel)",
   "language": "python",
   "name": "python3"
  },
  "language_info": {
   "codemirror_mode": {
    "name": "ipython",
    "version": 3
   },
   "file_extension": ".py",
   "mimetype": "text/x-python",
   "name": "python",
   "nbconvert_exporter": "python",
   "pygments_lexer": "ipython3",
   "version": "3.11.5"
  }
 },
 "nbformat": 4,
 "nbformat_minor": 5
}
