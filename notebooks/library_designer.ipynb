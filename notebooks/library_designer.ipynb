{
 "cells": [
  {
   "cell_type": "markdown",
   "id": "6fd8c1ba-6881-4477-a320-c650f6ad95f0",
   "metadata": {},
   "source": [
    "# Create new utility function"
   ]
  },
  {
   "cell_type": "markdown",
   "id": "87a1d278-93b9-43ec-a3a0-8b03e9d5de0e",
   "metadata": {},
   "source": [
    "Import data."
   ]
  },
  {
   "cell_type": "code",
   "execution_count": 1,
   "id": "52791718-50ca-4213-b11a-77770a4b4d5a",
   "metadata": {
    "tags": []
   },
   "outputs": [
    {
     "name": "stdout",
     "output_type": "stream",
     "text": [
      "load data\n"
     ]
    }
   ],
   "source": [
    "%load_ext autoreload\n",
    "%autoreload 2\n",
    "\n",
    "import rdkit\n",
    "rdkit.Chem.Draw.IPythonConsole.ipython_maxProperties = -1\n",
    "\n",
    "import dgym as dg\n",
    "\n",
    "# load all data\n",
    "print('load data')\n",
    "path = '../../dgym-data'\n",
    "\n",
    "deck = dg.MoleculeCollection.load(\n",
    "    f'{path}/DSi-Poised_Library_annotated.sdf',\n",
    "    reactant_names=['reagsmi1', 'reagsmi2', 'reagsmi3']\n",
    ")\n",
    "\n",
    "reactions = dg.ReactionCollection.from_json(\n",
    "    path = f'{path}/All_Rxns_rxn_library.json',\n",
    "    smarts_col = 'reaction_string',\n",
    "    classes_col = 'functional_groups'\n",
    ")"
   ]
  },
  {
   "cell_type": "code",
   "execution_count": 2,
   "id": "a8ab1a72-d039-44d3-8e81-cfe43fd140e7",
   "metadata": {
    "tags": []
   },
   "outputs": [
    {
     "name": "stdout",
     "output_type": "stream",
     "text": [
      "align fingerprints\n",
      "partition building blocks\n"
     ]
    }
   ],
   "source": [
    "building_blocks = dg.datasets.disk_loader(f'{path}/Enamine_Building_Blocks_Stock_262336cmpd_20230630.sdf')\n",
    "fingerprints = dg.datasets.fingerprints(f'{path}/out/Enamine_Building_Blocks_Stock_262336cmpd_20230630.fpb')\n",
    "\n",
    "# align fingerprints to building blocks\n",
    "print('align fingerprints')\n",
    "fingerprints = dg.utils.sort_fingerprints(fingerprints, building_blocks)\n",
    "\n",
    "# partition building blocks according to functional groups\n",
    "print('partition building blocks')\n",
    "templates = dg.utils.get_unique_reactants(reactions)\n",
    "building_blocks = dg.utils.partition_building_blocks(building_blocks, templates, out_dir=path)"
   ]
  },
  {
   "cell_type": "markdown",
   "id": "63b64107-b4fb-4398-8cbb-5bd02aeec5a7",
   "metadata": {},
   "source": [
    "Create inputs to the DrugEnv."
   ]
  },
  {
   "cell_type": "code",
   "execution_count": 3,
   "id": "e261cdac-27d9-49a6-9f26-18bce353034a",
   "metadata": {
    "tags": []
   },
   "outputs": [],
   "source": [
    "import numpy as np\n",
    "from dgym.envs.library_designer import LibraryDesigner\n",
    "from dgym.envs.oracle import DGLOracle, RDKitOracle, DockingOracle\n",
    "from dgym.envs.evaluator import ClassicEvaluator, UtilityFunction\n",
    "\n",
    "# create library designer\n",
    "library_designer = LibraryDesigner(\n",
    "    reactions,\n",
    "    building_blocks,\n",
    "    fingerprints\n",
    ")"
   ]
  },
  {
   "cell_type": "code",
   "execution_count": 4,
   "id": "b3e7ec81-b7fa-43f4-813f-8bd7f905246c",
   "metadata": {
    "tags": []
   },
   "outputs": [],
   "source": [
    "# library = library_designer.design(\n",
    "#     molecules = [deck[414]],\n",
    "#     num_analogs = 600_000,\n",
    "#     fraction_random = 0.0\n",
    "# )\n",
    "# library.annotations.to_csv(f'{path}/out/poised_414_analogs.csv')"
   ]
  },
  {
   "cell_type": "markdown",
   "id": "51188539-653b-419a-b02a-fcc6b71d9cc9",
   "metadata": {},
   "source": [
    "Testing the best performing molecule from docking screen."
   ]
  },
  {
   "cell_type": "code",
   "execution_count": 5,
   "id": "4f472da2-bb0e-4bcc-bb7a-d67d0fc1a372",
   "metadata": {
    "tags": []
   },
   "outputs": [],
   "source": [
    "mol = dg.molecule.Molecule(\n",
    "    'Cc1ccccc1C(=O)Nc1nc(-c2cccc(O)c2)cs1',\n",
    "    reactants = [\n",
    "        dg.molecule.Molecule('Cc1ccccc1C(=O)O'),\n",
    "        dg.molecule.Molecule('Nc1nc(-c2cccc(O)c2)cs1'),\n",
    "    ]\n",
    ")\n",
    "\n",
    "analogs = library_designer.design(\n",
    "    molecules = [mol],\n",
    "    num_analogs = 20,\n",
    "    fraction_random = 0.0\n",
    ")"
   ]
  },
  {
   "cell_type": "code",
   "execution_count": 6,
   "id": "e7b6f2d3-d677-4866-9edc-319dbca1999a",
   "metadata": {
    "tags": []
   },
   "outputs": [
    {
     "data": {
      "image/png": "[encoded data removed]",
      "text/plain": [
       "<dgym.molecule.Molecule at 0x7fd96da5c590>"
      ]
     },
     "execution_count": 6,
     "metadata": {},
     "output_type": "execute_result"
    }
   ],
   "source": [
    "mol"
   ]
  },
  {
   "cell_type": "code",
   "execution_count": 7,
   "id": "2fa87fc6-969c-4370-8530-abbe5a0dc5fc",
   "metadata": {
    "tags": []
   },
   "outputs": [],
   "source": [
    "import numpy as np\n",
    "from dgym.envs.library_designer import LibraryDesigner\n",
    "from dgym.envs.oracle import DGLOracle, RDKitOracle, DockingOracle\n",
    "from dgym.envs.evaluator import ClassicEvaluator, UtilityFunction\n",
    "\n",
    "# create library designer\n",
    "library_designer = LibraryDesigner(\n",
    "    reactions,\n",
    "    building_blocks,\n",
    "    fingerprints\n",
    ")\n",
    "\n",
    "# create molecular properties\n",
    "# log_P_oracle = RDKitOracle('MolLogP')\n",
    "# log_S_oracle = DGLOracle('GCN_canonical_ESOL')\n",
    "\n",
    "# create docking oracle\n",
    "config = {\n",
    "    'center_x': 9.812,\n",
    "    'center_y': -0.257,\n",
    "    'center_z': 20.8485,\n",
    "    'size_x': 14.328,\n",
    "    'size_y': 8.85,\n",
    "    'size_z': 12.539,\n",
    "    'exhaustiveness': 128,\n",
    "    'max_step': 20,\n",
    "    'num_modes': 9,\n",
    "    'scoring': 'vinardo',\n",
    "    'refine_step': 3,\n",
    "    'seed': 5\n",
    "}\n",
    "\n",
    "docking_oracle = DockingOracle(\n",
    "    'Mpro affinity',\n",
    "    receptor_path=f'{path}/Mpro_prepped.pdbqt',\n",
    "    config=config\n",
    ")\n",
    "\n",
    "# create evaluators\n",
    "# log_S_evaluator = ClassicEvaluator(ideal=(-2, 0), acceptable=(-4, 0.5))\n",
    "# log_P_evaluator = ClassicEvaluator(ideal=(1, 4), acceptable=(0, 5))\n",
    "# docking_evaluator = ClassicEvaluator(ideal=(-12, -9), acceptable=(-12, -7))\n",
    "docking_evaluator = ClassicEvaluator(ideal=(9, 12), acceptable=(7, 12))\n",
    "\n",
    "# create utility function\n",
    "utility_function = UtilityFunction(\n",
    "    oracles = [\n",
    "        docking_oracle,\n",
    "        # log_S_oracle,\n",
    "        # log_P_oracle\n",
    "    ],\n",
    "    evaluators = [\n",
    "        docking_evaluator,\n",
    "        # log_S_evaluator,\n",
    "        # log_P_evaluator\n",
    "    ],\n",
    "    strategy = lambda x: np.prod(x, axis=0)\n",
    ")\n",
    "\n",
    "# utility = utility_function(deck)\n",
    "# best_molecules = utility.argsort().tolist()[-25:]"
   ]
  },
  {
   "cell_type": "code",
   "execution_count": 8,
   "id": "bf4f985c-d3e5-482f-9d67-6247836e3cca",
   "metadata": {
    "tags": []
   },
   "outputs": [],
   "source": [
    "results = docking_oracle(analogs)"
   ]
  },
  {
   "cell_type": "code",
   "execution_count": 14,
   "id": "ccfc4c9e-5803-41e4-8893-80608178816b",
   "metadata": {
    "tags": []
   },
   "outputs": [
    {
     "data": {
      "text/plain": [
       "[-27.44,\n",
       " -20.082,\n",
       " -8.65634744713134,\n",
       " -7.479461545005596,\n",
       " -5.905384328022184,\n",
       " -4.07818509259582,\n",
       " -3.0559999999999996,\n",
       " -3.0394791808782577,\n",
       " 1.758414312230397,\n",
       " 2.524,\n",
       " 3.427860500113154,\n",
       " 3.533593082244328,\n",
       " 3.8190852525173926,\n",
       " 4.017432963944856,\n",
       " 4.138969001769973,\n",
       " 4.17993249530314,\n",
       " 4.3758511807617255,\n",
       " 4.471531181697015,\n",
       " 4.523744540086455,\n",
       " 4.586370087721609,\n",
       " 4.666375040351641,\n",
       " 4.777751605006833,\n",
       " 4.893371543264079,\n",
       " 4.929353295749523,\n",
       " 4.990910893236181,\n",
       " 5.069906086124502,\n",
       " 5.202427792408354,\n",
       " 5.227920852156827,\n",
       " 5.253857679880406,\n",
       " 5.273309719784477,\n",
       " 5.335802600653553,\n",
       " 5.343319977767546,\n",
       " 5.354662517358225,\n",
       " 5.355525318041746,\n",
       " 5.362307354864516,\n",
       " 5.389058011992782,\n",
       " 5.499734861419588,\n",
       " 5.514265085797619,\n",
       " 5.538717857931774,\n",
       " 5.567702343553837,\n",
       " 5.611921789964118,\n",
       " 5.644741479506155,\n",
       " 5.647734654108251,\n",
       " 5.6731745959252375,\n",
       " 5.7040692113127385,\n",
       " 5.723109124103094,\n",
       " 5.774515550252566,\n",
       " 5.793204800324832,\n",
       " 5.79395453910346,\n",
       " 5.7945300111411004,\n",
       " 5.809310299935771,\n",
       " 5.81825945036451,\n",
       " 5.881382514004597,\n",
       " 5.894541090399805,\n",
       " 5.904182254515619,\n",
       " 5.907757134850261,\n",
       " 5.912447859034953,\n",
       " 5.925277204310966,\n",
       " 5.9258677068150485,\n",
       " 5.960919698913452,\n",
       " 5.967787556632864,\n",
       " 5.993945173052968,\n",
       " 5.999819916811223,\n",
       " 6.05835203311441,\n",
       " 6.076987391900937,\n",
       " 6.080636899354328,\n",
       " 6.0866681555338635,\n",
       " 6.100972958523785,\n",
       " 6.112323213264746,\n",
       " 6.147780433614343,\n",
       " 6.179046648225438,\n",
       " 6.203016468819575,\n",
       " 6.209191232136497,\n",
       " 6.2575396852868295,\n",
       " 6.258118994091225,\n",
       " 6.265568396054934,\n",
       " 6.277312816281292,\n",
       " 6.302284801196909,\n",
       " 6.355495797979705,\n",
       " 6.459816729743092,\n",
       " 6.698349329365849]"
      ]
     },
     "execution_count": 14,
     "metadata": {},
     "output_type": "execute_result"
    }
   ],
   "source": [
    "sorted(results)"
   ]
  },
  {
   "cell_type": "code",
   "execution_count": 12,
   "id": "904a0bdb-8e36-4e1c-88e4-7931f317965d",
   "metadata": {
    "tags": []
   },
   "outputs": [
    {
     "name": "stderr",
     "output_type": "stream",
     "text": [
      "/home/mrr/miniconda3/envs/chodera/lib/python3.11/site-packages/seaborn/axisgrid.py:118: UserWarning: The figure layout has changed to tight\n",
      "  self._figure.tight_layout(*args, **kwargs)\n"
     ]
    },
    {
     "data": {
      "text/plain": [
       "<seaborn.axisgrid.FacetGrid at 0x7fd972b8a350>"
      ]
     },
     "execution_count": 12,
     "metadata": {},
     "output_type": "execute_result"
    },
    {
     "data": {
      "image/png": "[encoded data removed]",
      "text/plain": [
       "<Figure size 500x500 with 1 Axes>"
      ]
     },
     "metadata": {},
     "output_type": "display_data"
    }
   ],
   "source": [
    "import seaborn as sns\n",
    "\n",
    "sns.displot(results)"
   ]
  }
 ],
 "metadata": {
  "kernelspec": {
   "display_name": "Python 3 (ipykernel)",
   "language": "python",
   "name": "python3"
  },
  "language_info": {
   "codemirror_mode": {
    "name": "ipython",
    "version": 3
   },
   "file_extension": ".py",
   "mimetype": "text/x-python",
   "name": "python",
   "nbconvert_exporter": "python",
   "pygments_lexer": "ipython3",
   "version": "3.11.5"
  }
 },
 "nbformat": 4,
 "nbformat_minor": 5
}
