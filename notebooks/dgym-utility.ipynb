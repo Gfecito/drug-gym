{
 "cells": [
  {
   "cell_type": "markdown",
   "id": "6fd8c1ba-6881-4477-a320-c650f6ad95f0",
   "metadata": {},
   "source": [
    "# Create new utility function"
   ]
  },
  {
   "cell_type": "markdown",
   "id": "87a1d278-93b9-43ec-a3a0-8b03e9d5de0e",
   "metadata": {},
   "source": [
    "Import data."
   ]
  },
  {
   "cell_type": "code",
   "execution_count": 1,
   "id": "52791718-50ca-4213-b11a-77770a4b4d5a",
   "metadata": {
    "tags": []
   },
   "outputs": [
    {
     "name": "stdout",
     "output_type": "stream",
     "text": [
      "load data\n"
     ]
    }
   ],
   "source": [
    "%load_ext autoreload\n",
    "%autoreload 2\n",
    "\n",
    "import rdkit\n",
    "rdkit.Chem.Draw.IPythonConsole.ipython_maxProperties = -1\n",
    "\n",
    "import dgym as dg\n",
    "\n",
    "# load all data\n",
    "print('load data')\n",
    "path = '../../dgym-data'\n",
    "\n",
    "deck = dg.MoleculeCollection.from_sdf(\n",
    "    f'{path}/DSi-Poised_Library_annotated.sdf',\n",
    "    reactant_names=['reagsmi1', 'reagsmi2', 'reagsmi3']\n",
    ")\n",
    "\n",
    "reactions = dg.ReactionCollection.from_json(\n",
    "    path = f'{path}/All_Rxns_rxn_library.json',\n",
    "    smarts_col = 'reaction_string',\n",
    "    classes_col = 'functional_groups'\n",
    ")"
   ]
  },
  {
   "cell_type": "code",
   "execution_count": 2,
   "id": "a8ab1a72-d039-44d3-8e81-cfe43fd140e7",
   "metadata": {
    "tags": []
   },
   "outputs": [
    {
     "name": "stdout",
     "output_type": "stream",
     "text": [
      "align fingerprints\n",
      "partition building blocks\n"
     ]
    }
   ],
   "source": [
    "building_blocks = dg.datasets.enamine(f'{path}/Enamine_Building_Blocks_Stock_262336cmpd_20230630.sdf')\n",
    "fingerprints = dg.datasets.fingerprints(f'{path}/out/Enamine_Building_Blocks_Stock_262336cmpd_20230630.fpb')\n",
    "\n",
    "# align fingerprints to building blocks\n",
    "print('align fingerprints')\n",
    "fingerprints = dg.utils.sort_fingerprints(fingerprints, building_blocks)\n",
    "\n",
    "# partition building blocks according to functional groups\n",
    "print('partition building blocks')\n",
    "templates = dg.utils.get_unique_reactants(reactions)\n",
    "building_blocks = dg.utils.partition_building_blocks(building_blocks, templates, out_dir=path)"
   ]
  },
  {
   "cell_type": "markdown",
   "id": "63b64107-b4fb-4398-8cbb-5bd02aeec5a7",
   "metadata": {},
   "source": [
    "Create inputs to the DrugEnv."
   ]
  },
  {
   "cell_type": "code",
   "execution_count": 1372,
   "id": "e261cdac-27d9-49a6-9f26-18bce353034a",
   "metadata": {
    "tags": []
   },
   "outputs": [],
   "source": [
    "from dgym.envs.library_designer import LibraryDesigner\n",
    "from dgym.envs.oracle import DGLOracle, RDKitOracle\n",
    "from dgym.envs.evaluator import LogisticEvaluator, UtilityFunction\n",
    "\n",
    "# create library designer\n",
    "library_designer = LibraryDesigner(\n",
    "    reactions,\n",
    "    building_blocks,\n",
    "    fingerprints\n",
    ")\n",
    "\n",
    "# create assays\n",
    "log_P_oracle = RDKitOracle('MolLogP')\n",
    "log_S_oracle = DGLOracle('GCN_canonical_ESOL')\n",
    "assays = [log_S_oracle, log_P_oracle]\n",
    "\n",
    "# create utility function\n",
    "log_S_evaluator = LogisticEvaluator(\n",
    "    ideal=(-2, 0), # (-2, 0)\n",
    "    acceptable=(-4, 0.5)\n",
    ")\n",
    "\n",
    "log_P_evaluator = LogisticEvaluator(\n",
    "    ideal=(1, 4), # (1, 4)\n",
    "    acceptable=(0, 5)\n",
    ")\n",
    "\n",
    "utility_function = UtilityFunction(\n",
    "    evaluators = [log_S_evaluator, log_P_evaluator],\n",
    "    strategy = lambda x: np.prod(x)\n",
    ")"
   ]
  },
  {
   "cell_type": "markdown",
   "id": "ee797693-a744-4c97-b9c1-0f415ee0978b",
   "metadata": {},
   "source": [
    "First, set up the environment."
   ]
  },
  {
   "cell_type": "code",
   "execution_count": 1373,
   "id": "abf58a63-5cab-4ce9-b00f-2d8245126e6a",
   "metadata": {
    "tags": []
   },
   "outputs": [],
   "source": [
    "import seaborn as sns\n",
    "\n",
    "# housekeeping\n",
    "assay_results = [assay(deck) for assay in assays]\n",
    "utility = np.array([\n",
    "    utility_function(properties)\n",
    "    for properties in zip(*assay_results)\n",
    "])\n",
    "chosen_molecules = utility.argsort()[[216]].tolist()"
   ]
  },
  {
   "cell_type": "code",
   "execution_count": 1374,
   "id": "8cdaad0c-a1b2-4f41-a46e-36e9e46469e3",
   "metadata": {
    "tags": []
   },
   "outputs": [
    {
     "name": "stdout",
     "output_type": "stream",
     "text": [
      "MoleculeCollection with 1 Molecules\n"
     ]
    }
   ],
   "source": [
    "# instantiate drug_env\n",
    "drug_env = DrugEnv(\n",
    "    library_designer,\n",
    "    library = deck[chosen_molecules],\n",
    "    assays = assays,\n",
    "    budget = 100_000\n",
    ")\n",
    "\n",
    "# housekeeping\n",
    "assay_results = [assay(drug_env.library) for assay in assays]\n",
    "utility = np.array([\n",
    "    utility_function(properties)\n",
    "    for properties in zip(*assay_results)\n",
    "])\n",
    "\n",
    "best_observed = max(utility)\n",
    "dist_over_time = [{'utility': u, 'round': 0} for u in utility]\n",
    "\n",
    "print(drug_env.library)"
   ]
  },
  {
   "cell_type": "code",
   "execution_count": 1375,
   "id": "f559b790-5419-4f25-abbf-4ac9f1d20657",
   "metadata": {
    "tags": []
   },
   "outputs": [
    {
     "name": "stdout",
     "output_type": "stream",
     "text": [
      "1 \t MoleculeCollection with 1 Molecules \t 0.895779640143155\n",
      "2 \t MoleculeCollection with 1 Molecules \t 0.895779640143155\n",
      "3 \t MoleculeCollection with 43 Molecules \t 0.9991771711757441\n",
      "4 \t MoleculeCollection with 277 Molecules \t 1.0\n"
     ]
    }
   ],
   "source": [
    "from dgym.envs import DrugEnv\n",
    "\n",
    "max_rounds = 20\n",
    "round_ = 1\n",
    "while best_observed < 1.0:\n",
    "    \n",
    "    print(round_, '\\t', drug_env.library, '\\t', best_observed)\n",
    "\n",
    "    # ideate\n",
    "    action = {\n",
    "        'design': {\n",
    "            'molecules': chosen_molecules,\n",
    "            'num_analogs': 1, # maps to 10 molecules\n",
    "            'fraction_random': 0.5\n",
    "        }\n",
    "    }\n",
    "    library = drug_env.step(action)[0]\n",
    "\n",
    "    # score\n",
    "    assay_results = [assay(library) for assay in assays]\n",
    "    utility = np.array([\n",
    "        utility_function.score(properties)\n",
    "        for properties in zip(*assay_results)\n",
    "    ])\n",
    "\n",
    "    # triage\n",
    "    chosen_molecules = utility.argsort()[-5:].tolist()\n",
    "    if len(library) > 100:\n",
    "        chosen_molecules.extend(random.sample(range(len(library)), 2))\n",
    "\n",
    "    # housekeeping\n",
    "    best_observed = max([*utility, best_observed])\n",
    "    dist_over_time.extend([\n",
    "        {'utility': u, 'round': round_} for u in utility[chosen_molecules]\n",
    "    ])\n",
    "\n",
    "    # assay\n",
    "    drug_env.step({'order': {'assay': 0, 'molecules': chosen_molecules}})\n",
    "    drug_env.step({'order': {'assay': 1, 'molecules': chosen_molecules}})\n",
    "    \n",
    "    round_ += 1\n",
    "    if round_ == 15:\n",
    "        break\n",
    "\n",
    "    # update model (TODO)\n",
    "    \n",
    "print(round_, '\\t', drug_env.library, '\\t', best_observed)"
   ]
  },
  {
   "cell_type": "code",
   "execution_count": 1376,
   "id": "68f4ce27-8f94-4982-b371-add3c77076b7",
   "metadata": {
    "tags": []
   },
   "outputs": [
    {
     "data": {
      "text/plain": [
       "[(<rdkit.Chem.rdchem.Mol at 0x7f5eb6d22340>, 277)]"
      ]
     },
     "execution_count": 1376,
     "metadata": {},
     "output_type": "execute_result"
    }
   ],
   "source": [
    "from collections import Counter\n",
    "\n",
    "original_inspirations = []\n",
    "for mol in drug_env.library:\n",
    "    while mol.inspiration:\n",
    "        mol = mol.inspiration\n",
    "    original_inspirations.append(mol)\n",
    "    \n",
    "Counter([o.mol for o in original_inspirations]).most_common(20)"
   ]
  },
  {
   "cell_type": "code",
   "execution_count": 1377,
   "id": "5075a037-3494-48c8-bb94-b9cd04d87106",
   "metadata": {
    "tags": []
   },
   "outputs": [
    {
     "data": {
      "image/png": "[encoded data removed]",
      "text/plain": [
       "<IPython.core.display.Image object>"
      ]
     },
     "metadata": {},
     "output_type": "display_data"
    },
    {
     "name": "stdout",
     "output_type": "stream",
     "text": [
      "0.895779640143155\t\t0.9974124933254092\t\t1\n"
     ]
    },
    {
     "data": {
      "text/plain": [
       "(-3.46220326423645, 2.1379)"
      ]
     },
     "metadata": {},
     "output_type": "display_data"
    },
    {
     "data": {
      "text/plain": [
       "(-2.511382579803467, 1.7924)"
      ]
     },
     "metadata": {},
     "output_type": "display_data"
    },
    {
     "data": {
      "text/plain": [
       "(-1.6253154277801514, 1.4404)"
      ]
     },
     "metadata": {},
     "output_type": "display_data"
    }
   ],
   "source": [
    "from rdkit.Chem import Draw\n",
    "\n",
    "index = int(utility.argsort()[-1])\n",
    "\n",
    "mol = drug_env.library[index]\n",
    "lineage = [mol]\n",
    "while mol.inspiration:\n",
    "    mol = mol.inspiration\n",
    "    lineage.insert(0, mol)\n",
    "\n",
    "assay_results = [assay(lineage) for assay in assays]\n",
    "results = [\n",
    "    utility_function.score(properties)\n",
    "    for properties in zip(*assay_results)\n",
    "]\n",
    "\n",
    "display(Draw.MolsToGridImage(\n",
    "    [m.mol for m in lineage],\n",
    "    molsPerRow=8,\n",
    "    maxMols=10_000\n",
    "))\n",
    "\n",
    "print('\\t\\t'.join(map(str, results)))\n",
    "display(*zip(*assay_results))"
   ]
  },
  {
   "cell_type": "code",
   "execution_count": 1378,
   "id": "cdd0bf13-b3f3-4e05-9c58-8832b3675b3e",
   "metadata": {
    "tags": []
   },
   "outputs": [
    {
     "data": {
      "text/plain": [
       "<Axes: xlabel='round', ylabel='utility'>"
      ]
     },
     "execution_count": 1378,
     "metadata": {},
     "output_type": "execute_result"
    },
    {
     "data": {
      "image/png": "[encoded data removed]",
      "text/plain": [
       "<Figure size 640x480 with 1 Axes>"
      ]
     },
     "metadata": {},
     "output_type": "display_data"
    }
   ],
   "source": [
    "import pandas as pd\n",
    "import seaborn as sns\n",
    "\n",
    "sns.boxplot(\n",
    "    pd.DataFrame(dist_over_time),\n",
    "    x='round',\n",
    "    y='utility'\n",
    ")\n",
    "\n",
    "sns.stripplot(\n",
    "    pd.DataFrame(dist_over_time),\n",
    "    x='round',\n",
    "    y='utility',\n",
    "    color='#000'\n",
    ")"
   ]
  },
  {
   "cell_type": "code",
   "execution_count": 32,
   "id": "e3a273e5-0ebc-488e-805f-a526b0dc5e31",
   "metadata": {
    "tags": []
   },
   "outputs": [],
   "source": [
    "from dgym.agents import DrugAgent"
   ]
  },
  {
   "cell_type": "code",
   "execution_count": 33,
   "id": "85d06978-cb8d-4b33-bd27-373dfabe4aa0",
   "metadata": {
    "tags": []
   },
   "outputs": [],
   "source": [
    "drug_agent = DrugAgent(drug_env.action_space)"
   ]
  }
 ],
 "metadata": {
  "kernelspec": {
   "display_name": "Python 3 (ipykernel)",
   "language": "python",
   "name": "python3"
  },
  "language_info": {
   "codemirror_mode": {
    "name": "ipython",
    "version": 3
   },
   "file_extension": ".py",
   "mimetype": "text/x-python",
   "name": "python",
   "nbconvert_exporter": "python",
   "pygments_lexer": "ipython3",
   "version": "3.11.4"
  }
 },
 "nbformat": 4,
 "nbformat_minor": 5
}
