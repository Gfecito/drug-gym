{
 "cells": [
  {
   "cell_type": "code",
   "execution_count": 1,
   "id": "64b75c48-a1fa-468a-93c1-78c96d35ff0f",
   "metadata": {
    "tags": []
   },
   "outputs": [
    {
     "name": "stdout",
     "output_type": "stream",
     "text": [
      "load data\n"
     ]
    }
   ],
   "source": [
    "%reload_ext autoreload\n",
    "%autoreload 2\n",
    "\n",
    "import rdkit\n",
    "rdkit.Chem.Draw.IPythonConsole.ipython_maxProperties = -1\n",
    "\n",
    "import dgym as dg\n",
    "\n",
    "# load all data\n",
    "print('load data')\n",
    "path = '../../dgym-data'\n",
    "\n",
    "deck = dg.MoleculeCollection.load(\n",
    "    f'{path}/DSi-Poised_Library_annotated.sdf',\n",
    "    reactant_names=['reagsmi1', 'reagsmi2', 'reagsmi3']\n",
    ")\n",
    "\n",
    "reactions = dg.ReactionCollection.from_json(\n",
    "    path = f'{path}/All_Rxns_rxn_library.json',\n",
    "    smarts_col = 'reaction_string',\n",
    "    classes_col = 'functional_groups'\n",
    ")"
   ]
  },
  {
   "cell_type": "code",
   "execution_count": 2,
   "id": "93e818bc-c479-4f1e-894f-a9b5e4f582ac",
   "metadata": {
    "tags": []
   },
   "outputs": [
    {
     "name": "stdout",
     "output_type": "stream",
     "text": [
      "align fingerprints\n"
     ]
    }
   ],
   "source": [
    "building_blocks = dg.datasets.disk_loader(f'{path}/Enamine_Building_Blocks_Stock_262336cmpd_20230630.sdf')\n",
    "fingerprints = dg.datasets.fingerprints(f'{path}/out/Enamine_Building_Blocks_Stock_262336cmpd_20230630.fpb')\n",
    "\n",
    "# align fingerprints to building blocks\n",
    "print('align fingerprints')\n",
    "fingerprints = dg.utils.sort_fingerprints(fingerprints, building_blocks)"
   ]
  },
  {
   "cell_type": "code",
   "execution_count": 3,
   "id": "6302c454-1f99-4f52-955b-4b6032a3851c",
   "metadata": {
    "tags": []
   },
   "outputs": [],
   "source": [
    "import numpy as np\n",
    "from dgym.envs.library_designer import LibraryDesigner\n",
    "from dgym.envs.oracle import DGLOracle, RDKitOracle, DockingOracle\n",
    "from dgym.envs.evaluator import ClassicEvaluator, UtilityFunction\n",
    "\n",
    "# create library designer\n",
    "library_designer = LibraryDesigner(\n",
    "    reactions,\n",
    "    building_blocks,\n",
    "    fingerprints\n",
    ")"
   ]
  },
  {
   "cell_type": "code",
   "execution_count": 30,
   "id": "dc6c339a-0367-4328-9100-f43acbfc4b33",
   "metadata": {
    "tags": []
   },
   "outputs": [
    {
     "name": "stdout",
     "output_type": "stream",
     "text": [
      "CPU times: user 27 µs, sys: 0 ns, total: 27 µs\n",
      "Wall time: 31.5 µs\n"
     ]
    }
   ],
   "source": [
    "%%time\n",
    "from rdkit import Chem\n",
    "from dgym.molecule import Molecule\n",
    "from itertools import permutations\n",
    "\n",
    "def unique_sanitize(mol):\n",
    "    \n",
    "    # Sanitize\n",
    "    smiles = Chem.MolToSmiles(mol[0])\n",
    "    product = Chem.MolFromSmiles(smiles)\n",
    "    \n",
    "    # Check unique\n",
    "    if product and smiles not in library_designer.cache:\n",
    "        library_designer.cache.add(smiles)\n",
    "        return smiles"
   ]
  },
  {
   "cell_type": "markdown",
   "id": "56c3a58f-671a-4946-8219-d839c531ce24",
   "metadata": {},
   "source": [
    "Debug finding analogs."
   ]
  },
  {
   "cell_type": "code",
   "execution_count": 31,
   "id": "4723d2ce-7908-474d-9ee3-211f63b7350e",
   "metadata": {
    "tags": []
   },
   "outputs": [],
   "source": [
    "import chemfp\n",
    "\n",
    "def get_analog_indices_and_scores(molecules):\n",
    "    \n",
    "    fingerprint_type = library_designer.fingerprints.get_fingerprint_type()\n",
    "    \n",
    "    fingerprints = [\n",
    "        (m.id, fingerprint_type.from_smi(m.smiles))\n",
    "        for m in molecules\n",
    "    ]\n",
    "    \n",
    "    queries = chemfp.load_fingerprints(\n",
    "        fingerprints,\n",
    "        metadata = fingerprint_type.get_metadata(),\n",
    "        reorder=False\n",
    "    )\n",
    "    \n",
    "    return chemfp.simsearch(\n",
    "        queries = queries,\n",
    "        targets = library_designer.fingerprints,\n",
    "        progress=False,\n",
    "        k=500\n",
    "    )"
   ]
  },
  {
   "cell_type": "code",
   "execution_count": 32,
   "id": "6342d390-38da-4de8-b816-1eb3c8c80d75",
   "metadata": {
    "tags": []
   },
   "outputs": [],
   "source": [
    "import torch\n",
    "\n",
    "def boltzmann(scores, temperature):\n",
    "    \"\"\"\n",
    "    Applies the Boltzmann distribution to the given scores with a specified temperature.\n",
    "\n",
    "    Parameters\n",
    "    ----------\n",
    "    scores : torch.Tensor\n",
    "        The scores to which the Boltzmann distribution is applied.\n",
    "    temperature : float\n",
    "        The temperature parameter of the Boltzmann distribution.\n",
    "\n",
    "    Returns\n",
    "    -------\n",
    "    torch.Tensor\n",
    "        The probabilities resulting from the Boltzmann distribution.\n",
    "    \"\"\"\n",
    "    temperature = max(temperature, 1e-2)  # Ensure temperature is not too low\n",
    "    scaled_scores = scores / temperature\n",
    "    probabilities = torch.softmax(scaled_scores, dim=-1)\n",
    "    return probabilities"
   ]
  },
  {
   "cell_type": "code",
   "execution_count": 394,
   "id": "9924f78d-26f1-4e73-b0f8-72e5b6436a42",
   "metadata": {
    "tags": []
   },
   "outputs": [],
   "source": [
    "def generate_combos(lst, r, k=500):\n",
    "    \n",
    "    if r < 1:\n",
    "        yield [], lst\n",
    "\n",
    "    all_combinations = list(combinations(lst, r))\n",
    "    selected_combinations = choices(all_combinations, k=k)\n",
    "    for combo in selected_combinations:\n",
    "        nonselected_items = tuple(item for item in lst if item not in combo)\n",
    "        yield combo, nonselected_items"
   ]
  },
  {
   "cell_type": "code",
   "execution_count": 395,
   "id": "f991594f-ed53-4ef6-9749-0f76c4f7610c",
   "metadata": {},
   "outputs": [],
   "source": [
    "from random import choices\n",
    "from itertools import combinations\n",
    "\n",
    "original_reactants = deck[414].reactants\n",
    "original_mols = [o.mol for o in original_reactants]\n",
    "\n",
    "# Score analogs of each original reactant\n",
    "analogs = get_analog_indices_and_scores(original_reactants)\n",
    "indices = list(analogs.iter_indices())\n",
    "scores = list(analogs.iter_scores())\n",
    "\n",
    "# Convert scores to probabilities\n",
    "probabilities = boltzmann(torch.tensor(scores), 0.0)\n",
    "\n",
    "# Sample indices\n",
    "samples_idx = torch.multinomial(probabilities, 500)\n",
    "samples = torch.gather(torch.tensor(indices), 1, samples_idx).T\n",
    "\n",
    "def generate_reactants():\n",
    "    \n",
    "    count = 0\n",
    "    while True:\n",
    "        \n",
    "        # Gather constant and variable masks\n",
    "        combos = generate_combos([0, 1], 1)\n",
    "        constant_mask, variable_mask = next(combos)\n",
    "        \n",
    "        # Get variable reactants\n",
    "        variable = samples[count, variable_mask].tolist()\n",
    "        variable_reactants = [library_designer.building_blocks[v] for v in variable]\n",
    "        \n",
    "        # Get constant reactants\n",
    "        constant_reactants = [original_mols[c] for c in constant_mask]\n",
    "        \n",
    "        # Yield reactants\n",
    "        reactants = [*constant_reactants, *variable_reactants]\n",
    "        yield reactants\n",
    "        \n",
    "        # Increment\n",
    "        count += 1"
   ]
  },
  {
   "cell_type": "code",
   "execution_count": 499,
   "id": "179734d8-8250-450c-86d4-3313ce493533",
   "metadata": {
    "tags": []
   },
   "outputs": [],
   "source": [
    "def enumerate_products():\n",
    "\n",
    "    products = []\n",
    "    \n",
    "    # Only run products with reactions of right size\n",
    "    reactions = [\n",
    "        reaction\n",
    "        for reaction in library_designer.reactions\n",
    "        if len(reaction.reactants) == len(original_reactants)\n",
    "    ]\n",
    "    \n",
    "    if reactions:\n",
    "        \n",
    "        # Loop through permutations of reactants\n",
    "        for reactants in generate_reactants():\n",
    "            for reactant_order in permutations(reactants):\n",
    "                for reaction in reactions:\n",
    "\n",
    "                    # Check if completed enumeration\n",
    "                    if len(products) >= num_products:\n",
    "                        return products\n",
    "\n",
    "                    # Verify reactants match\n",
    "                    if len(reactants) == len(reaction.reactants):\n",
    "\n",
    "                        # Perform reaction\n",
    "                        if output := reaction.run(reactant_order):\n",
    "                            for product in output:\n",
    "                                \n",
    "                                # Check if valid molecule\n",
    "                                if smiles := unique_sanitize(product):\n",
    "                                    products += [Molecule(smiles, reactants = reactant_order)]\n",
    "                        else:\n",
    "                            continue"
   ]
  },
  {
   "cell_type": "code",
   "execution_count": 504,
   "id": "a11da363-73ee-4268-85c9-42322e1718e4",
   "metadata": {
    "tags": []
   },
   "outputs": [
    {
     "name": "stdout",
     "output_type": "stream",
     "text": [
      "CPU times: user 164 ms, sys: 9.03 ms, total: 173 ms\n",
      "Wall time: 187 ms\n"
     ]
    }
   ],
   "source": [
    "%%time\n",
    "library_designer.reset_cache()\n",
    "num_products = 100\n",
    "\n",
    "products = enumerate_products()"
   ]
  },
  {
   "cell_type": "code",
   "execution_count": 758,
   "id": "ee93b64b-9c42-463d-b55d-55afa5604a4d",
   "metadata": {
    "tags": []
   },
   "outputs": [
    {
     "name": "stdout",
     "output_type": "stream",
     "text": [
      "CPU times: user 422 ms, sys: 8.72 ms, total: 431 ms\n",
      "Wall time: 47.3 ms\n"
     ]
    },
    {
     "data": {
      "image/png": "[encoded data removed]",
      "text/plain": [
       "<IPython.core.display.Image object>"
      ]
     },
     "execution_count": 758,
     "metadata": {},
     "output_type": "execute_result"
    }
   ],
   "source": [
    "%%time\n",
    "library_designer.reset_cache()\n",
    "products = library_designer.design(\n",
    "    deck[220],\n",
    "    size = 10,\n",
    "    temperature = 0.0\n",
    ")\n",
    "\n",
    "from rdkit.Chem.Draw import MolsToGridImage\n",
    "MolsToGridImage([deck[220].mol, *[p.mol for p in products]], molsPerRow=5)"
   ]
  },
  {
   "cell_type": "code",
   "execution_count": 756,
   "id": "78b7d76e-28f1-4805-aaa9-b59721786029",
   "metadata": {
    "tags": []
   },
   "outputs": [
    {
     "data": {
      "text/plain": [
       "[1.0,\n",
       " 0.8333333333333334,\n",
       " 0.7777777777777778,\n",
       " 0.6756756756756757,\n",
       " 0.7368421052631579,\n",
       " 0.7105263157894737,\n",
       " 0.7058823529411765,\n",
       " 0.6829268292682927,\n",
       " 0.6153846153846154,\n",
       " 0.7297297297297297]"
      ]
     },
     "execution_count": 756,
     "metadata": {},
     "output_type": "execute_result"
    }
   ],
   "source": [
    "[_similarity(deck[220], p) for p in products]"
   ]
  }
 ],
 "metadata": {
  "kernelspec": {
   "display_name": "Python 3 (ipykernel)",
   "language": "python",
   "name": "python3"
  },
  "language_info": {
   "codemirror_mode": {
    "name": "ipython",
    "version": 3
   },
   "file_extension": ".py",
   "mimetype": "text/x-python",
   "name": "python",
   "nbconvert_exporter": "python",
   "pygments_lexer": "ipython3",
   "version": "3.11.5"
  }
 },
 "nbformat": 4,
 "nbformat_minor": 5
}
