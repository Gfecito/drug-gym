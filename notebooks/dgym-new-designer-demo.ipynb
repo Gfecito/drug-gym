{
 "cells": [
  {
   "cell_type": "markdown",
   "id": "15a07512-363a-4c80-87df-b30ced92d88c",
   "metadata": {},
   "source": [
    "# Demonstrating new Designer API"
   ]
  },
  {
   "cell_type": "code",
   "execution_count": 1,
   "id": "cd06e793-5aac-4d2d-80c0-4d175c1afac3",
   "metadata": {
    "tags": []
   },
   "outputs": [],
   "source": [
    "%reload_ext autoreload\n",
    "%autoreload 2\n",
    "\n",
    "import rdkit\n",
    "rdkit.Chem.Draw.IPythonConsole.ipython_maxProperties = -1\n",
    "\n",
    "import dgym as dg\n",
    "\n",
    "# load all data\n",
    "path = '../../dgym-data'\n",
    "\n",
    "deck = dg.MoleculeCollection.load(\n",
    "    f'{path}/DSi-Poised_Library_annotated.sdf',\n",
    "    reactant_names=['reagsmi1', 'reagsmi2', 'reagsmi3']\n",
    ")\n",
    "\n",
    "reactions = dg.ReactionCollection.from_json(\n",
    "    path = f'{path}/All_Rxns_rxn_library_sorted.json',\n",
    "    smarts_col = 'reaction_string',\n",
    "    classes_col = 'functional_groups'\n",
    ")\n",
    "\n",
    "building_blocks = dg.datasets.disk_loader(f'{path}/Enamine_Building_Blocks_Stock_262336cmpd_20230630.sdf')\n",
    "fingerprints = dg.datasets.fingerprints(f'{path}/Enamine_Building_Blocks_Stock_262336cmpd_20230630_atoms.fpb')\n",
    "\n",
    "import torch\n",
    "import pyarrow.parquet as pq\n",
    "table = pq.read_table('../../dgym-data/sizes.parquet')[0]\n",
    "sizes = torch.tensor(table.to_numpy())"
   ]
  },
  {
   "cell_type": "code",
   "execution_count": 204,
   "id": "2b104229-9351-44df-b23d-d106ba9be137",
   "metadata": {
    "tags": []
   },
   "outputs": [],
   "source": [
    "from dgym.envs.designer import Designer, Generator\n",
    "\n",
    "designer = Designer(\n",
    "    Generator(building_blocks, fingerprints, sizes),\n",
    "    reactions,\n",
    "    cache = True\n",
    ")"
   ]
  },
  {
   "cell_type": "markdown",
   "id": "2b14e239-08e1-475c-83c1-f49774f19624",
   "metadata": {},
   "source": [
    "Random molecule from Enamine REAL."
   ]
  },
  {
   "cell_type": "code",
   "execution_count": 325,
   "id": "3b757a51-7233-40ff-ba69-f5d12a4b3b45",
   "metadata": {
    "tags": []
   },
   "outputs": [
    {
     "data": {
      "image/png": "[encoded data removed]",
      "text/plain": [
       "<dgym.molecule.Molecule at 0x7f34a600c350>"
      ]
     },
     "metadata": {},
     "output_type": "display_data"
    },
    {
     "name": "stdout",
     "output_type": "stream",
     "text": [
      "CPU times: user 211 ms, sys: 216 µs, total: 211 ms\n",
      "Wall time: 21.4 ms\n"
     ]
    },
    {
     "data": {
      "text/plain": [
       "'13_Carboxylate_and_Amine'"
      ]
     },
     "execution_count": 325,
     "metadata": {},
     "output_type": "execute_result"
    }
   ],
   "source": [
    "%%time\n",
    "designer.reset_cache()\n",
    "res = designer.design(1)[0]\n",
    "display(res)\n",
    "res.reaction.name"
   ]
  },
  {
   "cell_type": "markdown",
   "id": "163767b9-5094-4261-a8bb-7c7e5ec2e431",
   "metadata": {},
   "source": [
    "Multi-step reaction."
   ]
  },
  {
   "cell_type": "code",
   "execution_count": 294,
   "id": "b16c26d8-bd7d-4c7c-b97a-caa4313bbee0",
   "metadata": {
    "jupyter": {
     "source_hidden": true
    },
    "tags": []
   },
   "outputs": [],
   "source": [
    "# self = designer\n",
    "# res = designer.design(1)[0]\n",
    "# reaction_tree = res.dump()\n",
    "# reaction_tree['reactants'] = [reaction_tree['reactants'][0], {'method': 'random'}]\n",
    "# analogs = self.generate_analogs(reaction_tree, method='grow')\n",
    "# for analog in analogs:\n",
    "#     if "
   ]
  },
  {
   "cell_type": "code",
   "execution_count": 409,
   "id": "cee77b45-10c0-4195-9868-0b996066292c",
   "metadata": {
    "tags": []
   },
   "outputs": [
    {
     "name": "stdout",
     "output_type": "stream",
     "text": [
      "CPU times: user 445 ms, sys: 0 ns, total: 445 ms\n",
      "Wall time: 44.4 ms\n"
     ]
    },
    {
     "data": {
      "text/plain": [
       "1"
      ]
     },
     "execution_count": 409,
     "metadata": {},
     "output_type": "execute_result"
    }
   ],
   "source": [
    "%%time\n",
    "designer.reset_cache()\n",
    "molecule = designer.design(molecule=res, size=1, method='grow')\n",
    "# print(molecule.reaction.name)\n",
    "len(molecule)"
   ]
  },
  {
   "cell_type": "markdown",
   "id": "483dbb99-f031-4e4f-8e25-19ad640b6ad6",
   "metadata": {},
   "source": [
    "Replace reactants in fragment."
   ]
  },
  {
   "cell_type": "code",
   "execution_count": 28,
   "id": "794be780-ad9c-4905-9dd0-83389e41f005",
   "metadata": {
    "tags": []
   },
   "outputs": [
    {
     "ename": "KeyboardInterrupt",
     "evalue": "",
     "output_type": "error",
     "traceback": [
      "\u001b[0;31m---------------------------------------------------------------------------\u001b[0m",
      "\u001b[0;31mKeyboardInterrupt\u001b[0m                         Traceback (most recent call last)",
      "File \u001b[0;32m<timed exec>:1\u001b[0m\n",
      "File \u001b[0;32m~/dev/chodera/dgym/dgym/envs/designer.py:241\u001b[0m, in \u001b[0;36mDesigner.design\u001b[0;34m(self, molecule, size, method, temperature, strict)\u001b[0m\n\u001b[1;32m    238\u001b[0m analogs \u001b[38;5;241m=\u001b[39m \u001b[38;5;28mself\u001b[39m\u001b[38;5;241m.\u001b[39mgenerate_analogs(reaction_tree, method\u001b[38;5;241m=\u001b[39mmethod)\n\u001b[1;32m    240\u001b[0m \u001b[38;5;66;03m# Run reaction\u001b[39;00m\n\u001b[0;32m--> 241\u001b[0m \u001b[38;5;28;01mfor\u001b[39;00m analog \u001b[38;5;129;01min\u001b[39;00m analogs:\n\u001b[1;32m    242\u001b[0m     \n\u001b[1;32m    243\u001b[0m     \u001b[38;5;66;03m# Annotate metadata\u001b[39;00m\n\u001b[1;32m    244\u001b[0m     analog\u001b[38;5;241m.\u001b[39minspiration \u001b[38;5;241m=\u001b[39m molecule\n\u001b[1;32m    245\u001b[0m     \u001b[38;5;28;01mif\u001b[39;00m method \u001b[38;5;241m==\u001b[39m \u001b[38;5;124m'\u001b[39m\u001b[38;5;124mgrow\u001b[39m\u001b[38;5;124m'\u001b[39m:\n",
      "File \u001b[0;32m~/dev/chodera/dgym/dgym/envs/designer.py:289\u001b[0m, in \u001b[0;36mDesigner.generate_analogs\u001b[0;34m(self, reaction_tree, method)\u001b[0m\n\u001b[1;32m    286\u001b[0m num_annotations \u001b[38;5;241m=\u001b[39m \u001b[38;5;241m1\u001b[39m \u001b[38;5;28;01mif\u001b[39;00m method \u001b[38;5;241m==\u001b[39m \u001b[38;5;124m'\u001b[39m\u001b[38;5;124msimilar\u001b[39m\u001b[38;5;124m'\u001b[39m \u001b[38;5;28;01melse\u001b[39;00m \u001b[38;5;241m0\u001b[39m\n\u001b[1;32m    287\u001b[0m variant_trees \u001b[38;5;241m=\u001b[39m \u001b[38;5;28mself\u001b[39m\u001b[38;5;241m.\u001b[39m_annotate_reactants(\n\u001b[1;32m    288\u001b[0m     reaction_tree, method\u001b[38;5;241m=\u001b[39mmethod, num_annotations\u001b[38;5;241m=\u001b[39mnum_annotations)\n\u001b[0;32m--> 289\u001b[0m variant_products \u001b[38;5;241m=\u001b[39m [\u001b[38;5;28mself\u001b[39m\u001b[38;5;241m.\u001b[39m_construct_reaction(v) \u001b[38;5;28;01mfor\u001b[39;00m v \u001b[38;5;129;01min\u001b[39;00m variant_trees]\n\u001b[1;32m    291\u001b[0m \u001b[38;5;66;03m# Choose tree from which to yield product\u001b[39;00m\n\u001b[1;32m    292\u001b[0m \u001b[38;5;28;01mwhile\u001b[39;00m \u001b[38;5;28;01mTrue\u001b[39;00m:\n",
      "File \u001b[0;32m~/dev/chodera/dgym/dgym/envs/designer.py:289\u001b[0m, in \u001b[0;36m<listcomp>\u001b[0;34m(.0)\u001b[0m\n\u001b[1;32m    286\u001b[0m num_annotations \u001b[38;5;241m=\u001b[39m \u001b[38;5;241m1\u001b[39m \u001b[38;5;28;01mif\u001b[39;00m method \u001b[38;5;241m==\u001b[39m \u001b[38;5;124m'\u001b[39m\u001b[38;5;124msimilar\u001b[39m\u001b[38;5;124m'\u001b[39m \u001b[38;5;28;01melse\u001b[39;00m \u001b[38;5;241m0\u001b[39m\n\u001b[1;32m    287\u001b[0m variant_trees \u001b[38;5;241m=\u001b[39m \u001b[38;5;28mself\u001b[39m\u001b[38;5;241m.\u001b[39m_annotate_reactants(\n\u001b[1;32m    288\u001b[0m     reaction_tree, method\u001b[38;5;241m=\u001b[39mmethod, num_annotations\u001b[38;5;241m=\u001b[39mnum_annotations)\n\u001b[0;32m--> 289\u001b[0m variant_products \u001b[38;5;241m=\u001b[39m [\u001b[38;5;28mself\u001b[39m\u001b[38;5;241m.\u001b[39m_construct_reaction(v) \u001b[38;5;28;01mfor\u001b[39;00m v \u001b[38;5;129;01min\u001b[39;00m variant_trees]\n\u001b[1;32m    291\u001b[0m \u001b[38;5;66;03m# Choose tree from which to yield product\u001b[39;00m\n\u001b[1;32m    292\u001b[0m \u001b[38;5;28;01mwhile\u001b[39;00m \u001b[38;5;28;01mTrue\u001b[39;00m:\n",
      "File \u001b[0;32m~/dev/chodera/dgym/dgym/envs/designer.py:398\u001b[0m, in \u001b[0;36mDesigner._construct_reaction\u001b[0;34m(self, reaction_tree)\u001b[0m\n\u001b[1;32m    395\u001b[0m \u001b[38;5;66;03m# Recursive case: Construct reactants and apply reaction\u001b[39;00m\n\u001b[1;32m    396\u001b[0m \u001b[38;5;28;01mif\u001b[39;00m \u001b[38;5;124m'\u001b[39m\u001b[38;5;124mreaction\u001b[39m\u001b[38;5;124m'\u001b[39m \u001b[38;5;129;01min\u001b[39;00m reaction_tree \\\n\u001b[1;32m    397\u001b[0m     \u001b[38;5;129;01mand\u001b[39;00m \u001b[38;5;124m'\u001b[39m\u001b[38;5;124mreactants\u001b[39m\u001b[38;5;124m'\u001b[39m \u001b[38;5;129;01min\u001b[39;00m reaction_tree:\n\u001b[0;32m--> 398\u001b[0m     reactants \u001b[38;5;241m=\u001b[39m [\u001b[38;5;28mself\u001b[39m\u001b[38;5;241m.\u001b[39m_construct_reaction(reactant) \u001b[38;5;28;01mfor\u001b[39;00m reactant \u001b[38;5;129;01min\u001b[39;00m reaction_tree[\u001b[38;5;124m'\u001b[39m\u001b[38;5;124mreactants\u001b[39m\u001b[38;5;124m'\u001b[39m]]\n\u001b[1;32m    399\u001b[0m     reaction \u001b[38;5;241m=\u001b[39m \u001b[38;5;28mself\u001b[39m\u001b[38;5;241m.\u001b[39mreactions[reaction_tree[\u001b[38;5;124m'\u001b[39m\u001b[38;5;124mreaction\u001b[39m\u001b[38;5;124m'\u001b[39m]]\n\u001b[1;32m    400\u001b[0m     \u001b[38;5;28;01mreturn\u001b[39;00m reaction\u001b[38;5;241m.\u001b[39mrun(reactants)\n",
      "File \u001b[0;32m~/dev/chodera/dgym/dgym/envs/designer.py:398\u001b[0m, in \u001b[0;36m<listcomp>\u001b[0;34m(.0)\u001b[0m\n\u001b[1;32m    395\u001b[0m \u001b[38;5;66;03m# Recursive case: Construct reactants and apply reaction\u001b[39;00m\n\u001b[1;32m    396\u001b[0m \u001b[38;5;28;01mif\u001b[39;00m \u001b[38;5;124m'\u001b[39m\u001b[38;5;124mreaction\u001b[39m\u001b[38;5;124m'\u001b[39m \u001b[38;5;129;01min\u001b[39;00m reaction_tree \\\n\u001b[1;32m    397\u001b[0m     \u001b[38;5;129;01mand\u001b[39;00m \u001b[38;5;124m'\u001b[39m\u001b[38;5;124mreactants\u001b[39m\u001b[38;5;124m'\u001b[39m \u001b[38;5;129;01min\u001b[39;00m reaction_tree:\n\u001b[0;32m--> 398\u001b[0m     reactants \u001b[38;5;241m=\u001b[39m [\u001b[38;5;28mself\u001b[39m\u001b[38;5;241m.\u001b[39m_construct_reaction(reactant) \u001b[38;5;28;01mfor\u001b[39;00m reactant \u001b[38;5;129;01min\u001b[39;00m reaction_tree[\u001b[38;5;124m'\u001b[39m\u001b[38;5;124mreactants\u001b[39m\u001b[38;5;124m'\u001b[39m]]\n\u001b[1;32m    399\u001b[0m     reaction \u001b[38;5;241m=\u001b[39m \u001b[38;5;28mself\u001b[39m\u001b[38;5;241m.\u001b[39mreactions[reaction_tree[\u001b[38;5;124m'\u001b[39m\u001b[38;5;124mreaction\u001b[39m\u001b[38;5;124m'\u001b[39m]]\n\u001b[1;32m    400\u001b[0m     \u001b[38;5;28;01mreturn\u001b[39;00m reaction\u001b[38;5;241m.\u001b[39mrun(reactants)\n",
      "File \u001b[0;32m~/dev/chodera/dgym/dgym/envs/designer.py:393\u001b[0m, in \u001b[0;36mDesigner._construct_reaction\u001b[0;34m(self, reaction_tree)\u001b[0m\n\u001b[1;32m    391\u001b[0m \u001b[38;5;28;01mif\u001b[39;00m \u001b[38;5;124m'\u001b[39m\u001b[38;5;124mreactants\u001b[39m\u001b[38;5;124m'\u001b[39m \u001b[38;5;129;01mnot\u001b[39;00m \u001b[38;5;129;01min\u001b[39;00m reaction_tree:\n\u001b[1;32m    392\u001b[0m     product \u001b[38;5;241m=\u001b[39m reaction_tree\u001b[38;5;241m.\u001b[39mget(\u001b[38;5;124m'\u001b[39m\u001b[38;5;124mproduct\u001b[39m\u001b[38;5;124m'\u001b[39m, \u001b[38;5;28;01mNone\u001b[39;00m)\n\u001b[0;32m--> 393\u001b[0m     \u001b[38;5;28;01mreturn\u001b[39;00m \u001b[38;5;28mself\u001b[39m\u001b[38;5;241m.\u001b[39mgenerator(product, \u001b[38;5;241m*\u001b[39m\u001b[38;5;241m*\u001b[39mreaction_tree)\n\u001b[1;32m    395\u001b[0m \u001b[38;5;66;03m# Recursive case: Construct reactants and apply reaction\u001b[39;00m\n\u001b[1;32m    396\u001b[0m \u001b[38;5;28;01mif\u001b[39;00m \u001b[38;5;124m'\u001b[39m\u001b[38;5;124mreaction\u001b[39m\u001b[38;5;124m'\u001b[39m \u001b[38;5;129;01min\u001b[39;00m reaction_tree \\\n\u001b[1;32m    397\u001b[0m     \u001b[38;5;129;01mand\u001b[39;00m \u001b[38;5;124m'\u001b[39m\u001b[38;5;124mreactants\u001b[39m\u001b[38;5;124m'\u001b[39m \u001b[38;5;129;01min\u001b[39;00m reaction_tree:\n",
      "File \u001b[0;32m~/dev/chodera/dgym/dgym/envs/designer.py:77\u001b[0m, in \u001b[0;36mGenerator.__call__\u001b[0;34m(self, molecules, temperature, strict, method, seed, **kwargs)\u001b[0m\n\u001b[1;32m     75\u001b[0m \u001b[38;5;66;03m# Weighted sample of indices\u001b[39;00m\n\u001b[1;32m     76\u001b[0m \u001b[38;5;28;01mif\u001b[39;00m temperature \u001b[38;5;241m==\u001b[39m \u001b[38;5;241m0.0\u001b[39m:\n\u001b[0;32m---> 77\u001b[0m     samples \u001b[38;5;241m=\u001b[39m torch\u001b[38;5;241m.\u001b[39mtopk(scores, \u001b[38;5;28mlen\u001b[39m(\u001b[38;5;28mself\u001b[39m\u001b[38;5;241m.\u001b[39mbuilding_blocks))[\u001b[38;5;241m1\u001b[39m]\u001b[38;5;241m.\u001b[39mtolist()\n\u001b[1;32m     79\u001b[0m \u001b[38;5;66;03m# TODO set random seed\u001b[39;00m\n\u001b[1;32m     80\u001b[0m \u001b[38;5;28;01melse\u001b[39;00m:\n\u001b[1;32m     81\u001b[0m     probabilities \u001b[38;5;241m=\u001b[39m \u001b[38;5;28mself\u001b[39m\u001b[38;5;241m.\u001b[39mboltzmann(scores, temperature)\n",
      "\u001b[0;31mKeyboardInterrupt\u001b[0m: "
     ]
    }
   ],
   "source": [
    "%%time\n",
    "molecule = designer.design(molecule, 1)[0]\n",
    "molecule"
   ]
  }
 ],
 "metadata": {
  "kernelspec": {
   "display_name": "Python 3 (ipykernel)",
   "language": "python",
   "name": "python3"
  },
  "language_info": {
   "codemirror_mode": {
    "name": "ipython",
    "version": 3
   },
   "file_extension": ".py",
   "mimetype": "text/x-python",
   "name": "python",
   "nbconvert_exporter": "python",
   "pygments_lexer": "ipython3",
   "version": "3.11.5"
  }
 },
 "nbformat": 4,
 "nbformat_minor": 5
}
