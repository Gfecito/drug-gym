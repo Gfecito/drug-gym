{
 "cells": [
  {
   "cell_type": "markdown",
   "id": "fe806c21-7737-4132-b6bc-93270ef9e575",
   "metadata": {},
   "source": [
    "# Plot the runtimes of DrugGym"
   ]
  },
  {
   "cell_type": "code",
   "execution_count": 1,
   "id": "94bf38b0-5c1f-40c2-8261-f99de12f10cc",
   "metadata": {
    "tags": []
   },
   "outputs": [],
   "source": [
    "%reload_ext autoreload\n",
    "%autoreload 2\n",
    "import warnings\n",
    "warnings.filterwarnings('ignore') \n",
    "\n",
    "import rdkit\n",
    "import dgym as dg\n",
    "\n",
    "# load all data\n",
    "path = '../../dgym-data'\n",
    "\n",
    "deck = dg.MoleculeCollection.load(\n",
    "    f'{path}/DSi-Poised_Library_annotated.sdf',\n",
    "    reactant_names=['reagsmi1', 'reagsmi2', 'reagsmi3']\n",
    ")\n",
    "\n",
    "reactions = dg.ReactionCollection.from_json(\n",
    "    path = f'{path}/All_Rxns_rxn_library_sorted.json',\n",
    "    smarts_col = 'reaction_string',\n",
    "    classes_col = 'functional_groups'\n",
    ")\n",
    "\n",
    "building_blocks = dg.datasets.disk_loader(f'{path}/Enamine_Building_Blocks_Stock_262336cmpd_20230630.sdf')\n",
    "fingerprints = dg.datasets.fingerprints(f'{path}/Enamine_Building_Blocks_Stock_262336cmpd_20230630_atoms.fpb')\n",
    "\n",
    "import torch\n",
    "import pyarrow.parquet as pq\n",
    "table = pq.read_table('../../dgym-data/sizes.parquet')[0]\n",
    "sizes = torch.tensor(table.to_numpy())"
   ]
  },
  {
   "cell_type": "code",
   "execution_count": 2,
   "id": "c96b6dd4-407f-446e-946c-24c60fb209fe",
   "metadata": {
    "tags": []
   },
   "outputs": [],
   "source": [
    "import os\n",
    "\n",
    "def get_tcp_objectives():\n",
    "\n",
    "    dockstring_dir = f'{path}/dockstring_targets/'\n",
    "    files = os.listdir(dockstring_dir)\n",
    "    configs = sorted([f for f in files if 'conf' in f])\n",
    "    targets = sorted([f for f in files if 'target' in f])\n",
    "\n",
    "    idx = 0\n",
    "    with open(dockstring_dir + configs[idx], 'r') as f:\n",
    "        config_ = f.readlines()\n",
    "        config_ = [c.replace('\\n', '') for c in config_]\n",
    "        config_ = [c.split(' = ') for c in config_ if c]\n",
    "        config_ = {c[0]: float(c[1]) for c in config_}\n",
    "\n",
    "    target = targets[idx]\n",
    "    name = target.split('_')[0]\n",
    "\n",
    "    config_.update({\n",
    "        'size_x': 22.5,\n",
    "        'size_y': 22.5,\n",
    "        'size_z': 22.5,\n",
    "    })\n",
    "\n",
    "    from dgym.envs.oracle import \\\n",
    "        ConstantOracle, RandomOracle, DockingOracle, CatBoostOracle, RDKitOracle, NoisyOracle\n",
    "    from dgym.envs.utility import ClassicUtilityFunction\n",
    "\n",
    "    config = {\n",
    "        'search_mode': 'detailed',\n",
    "        'scoring': 'vina',\n",
    "        'seed': 5,\n",
    "        **config_\n",
    "    }\n",
    "\n",
    "    pIC50_oracle = DockingOracle(\n",
    "        f'{name} pIC50',\n",
    "        receptor_path=f'{path}/dockstring_targets/{name}_target.pdbqt',\n",
    "        config=config\n",
    "    )\n",
    "    constant_oracle = ConstantOracle('Constant', constant=1)\n",
    "    random_oracle = RandomOracle('Random')\n",
    "    log_P_oracle = RDKitOracle('Log P', descriptor='MolLogP')\n",
    "    log_S_oracle = CatBoostOracle(\n",
    "        'Log S', path='../dgym/envs/models/aqsolcb.model')\n",
    "    \n",
    "    return pIC50_oracle, log_P_oracle, log_S_oracle, constant_oracle, random_oracle"
   ]
  },
  {
   "cell_type": "code",
   "execution_count": 5,
   "id": "26f6fe29-ab0b-414b-a3be-9c7d84597c2f",
   "metadata": {
    "tags": []
   },
   "outputs": [],
   "source": [
    "from dgym.envs.utility import ClassicUtilityFunction, Policy\n",
    "\n",
    "# Get objectives\n",
    "pIC50_oracle, log_P_oracle, log_S_oracle, constant_oracle, random_oracle = get_tcp_objectives()\n",
    "\n",
    "# Define utility functions\n",
    "pIC50_utility = ClassicUtilityFunction(\n",
    "    pIC50_oracle, ideal=(9.5, 13), acceptable=(8, 13))\n",
    "log_P_utility = ClassicUtilityFunction(\n",
    "    log_P_oracle, ideal=(0.5, 1.85), acceptable=(-0.5, 3.5))\n",
    "log_S_utility = ClassicUtilityFunction(\n",
    "    log_S_oracle, ideal=(-3, 1), acceptable=(-4, 1))\n",
    "constant_utility = ClassicUtilityFunction(\n",
    "    constant_oracle, ideal=(3, 4), acceptable=(2, 5))\n",
    "random_utility = ClassicUtilityFunction(\n",
    "    random_oracle, ideal=(3, 4), acceptable=(2, 5))\n",
    "\n",
    "# Assemble assays and surrogate models\n",
    "assays = [\n",
    "    pIC50_oracle,\n",
    "    log_P_oracle,\n",
    "    log_S_oracle,\n",
    "    pIC50_oracle.surrogate(sigma=1.0),\n",
    "    log_P_oracle.surrogate(sigma=1.0),\n",
    "    log_S_oracle.surrogate(sigma=1.0),\n",
    "]\n",
    "\n",
    "# Environment tolerates acceptable ADMET\n",
    "from copy import deepcopy\n",
    "utility_agent = Policy(\n",
    "    utility_functions = [pIC50_utility, log_P_utility, log_S_utility],\n",
    "    weights = [0.8, 0.1, 0.1]\n",
    ")\n",
    "utility_env = deepcopy(utility_agent)\n",
    "utility_env.utility_functions[1].ideal = utility_env.utility_functions[1].acceptable\n",
    "utility_env.utility_functions[2].ideal = utility_env.utility_functions[2].acceptable"
   ]
  },
  {
   "cell_type": "code",
   "execution_count": 6,
   "id": "2d8bed40-0366-4377-a07e-2f1f4767475b",
   "metadata": {
    "tags": []
   },
   "outputs": [],
   "source": [
    "from dgym.envs.designer import Designer, Generator\n",
    "\n",
    "designer = Designer(\n",
    "    Generator(building_blocks, fingerprints, sizes),\n",
    "    reactions,\n",
    "    cache = True\n",
    ")"
   ]
  },
  {
   "cell_type": "code",
   "execution_count": null,
   "id": "b4e0a074-9fab-4027-9f9b-d300da8094a6",
   "metadata": {
    "tags": []
   },
   "outputs": [
    {
     "data": {
      "application/vnd.jupyter.widget-view+json": {
       "model_id": "fce2fa0b02784d41a56066f658f9430b",
       "version_major": 2,
       "version_minor": 0
      },
      "text/plain": [
       "  0%|          | 0/10 [00:00<?, ?it/s]"
      ]
     },
     "metadata": {},
     "output_type": "display_data"
    },
    {
     "name": "stderr",
     "output_type": "stream",
     "text": [
      "[15:09:42] Can't kekulize mol.  Unkekulized atoms: 12 13 14 15 16\n",
      "[15:09:45] Can't kekulize mol.  Unkekulized atoms: 10 12 13\n",
      "[15:09:45] Can't kekulize mol.  Unkekulized atoms: 12 14 18\n",
      "[15:09:51] Can't kekulize mol.  Unkekulized atoms: 15 16 18\n",
      "[15:09:51] Can't kekulize mol.  Unkekulized atoms: 14 15 16 17 19\n",
      "[15:10:00] Can't kekulize mol.  Unkekulized atoms: 16 19 20 23 24 25 26\n",
      "[15:10:12] Can't kekulize mol.  Unkekulized atoms: 11 13 15\n",
      "[15:10:12] Can't kekulize mol.  Unkekulized atoms: 9 11 13\n",
      "[15:10:12] Can't kekulize mol.  Unkekulized atoms: 20 22 24\n",
      "[15:10:12] Can't kekulize mol.  Unkekulized atoms: 13 15 18\n",
      "[15:10:12] Can't kekulize mol.  Unkekulized atoms: 10 12 13\n",
      "[15:10:12] Can't kekulize mol.  Unkekulized atoms: 13 14 15 16 17\n",
      "[15:10:12] Can't kekulize mol.  Unkekulized atoms: 11 13 15\n",
      "[15:10:12] Can't kekulize mol.  Unkekulized atoms: 11 13 15\n",
      "[15:10:36] Can't kekulize mol.  Unkekulized atoms: 19 20 21\n",
      "[15:10:36] Can't kekulize mol.  Unkekulized atoms: 9 11 12\n",
      "[15:10:36] Can't kekulize mol.  Unkekulized atoms: 14 16 17\n",
      "[15:10:36] Can't kekulize mol.  Unkekulized atoms: 17 19 20\n",
      "[15:10:36] Can't kekulize mol.  Unkekulized atoms: 19 20 23\n",
      "[15:10:36] Can't kekulize mol.  Unkekulized atoms: 10 12 14\n",
      "[15:10:36] Can't kekulize mol.  Unkekulized atoms: 11 13 16\n",
      "[15:10:36] Can't kekulize mol.  Unkekulized atoms: 15 17 18\n",
      "[15:10:36] Can't kekulize mol.  Unkekulized atoms: 14 15 16 17 18 19 20\n",
      "[15:10:36] Can't kekulize mol.  Unkekulized atoms: 14 15 16 17 18 19 20\n",
      "[15:10:36] Can't kekulize mol.  Unkekulized atoms: 12 13 14 15 16 17 20\n",
      "[15:10:36] Can't kekulize mol.  Unkekulized atoms: 11 13 14\n",
      "[15:10:36] Can't kekulize mol.  Unkekulized atoms: 19 20 23\n",
      "[15:10:40] Can't kekulize mol.  Unkekulized atoms: 11 13 16 17 21 22 24\n",
      "[15:10:41] Can't kekulize mol.  Unkekulized atoms: 13 15 16\n",
      "[15:10:41] Can't kekulize mol.  Unkekulized atoms: 13 15 16\n",
      "[15:10:41] Can't kekulize mol.  Unkekulized atoms: 13 15 16\n",
      "[15:10:41] Can't kekulize mol.  Unkekulized atoms: 13 14 15 16 18\n",
      "[15:10:41] Can't kekulize mol.  Unkekulized atoms: 7 8 9 10 12\n",
      "[15:10:41] Can't kekulize mol.  Unkekulized atoms: 7 8 9 10 12\n",
      "[15:10:41] Can't kekulize mol.  Unkekulized atoms: 12 13 14 15 16 17 18\n",
      "[15:10:41] Can't kekulize mol.  Unkekulized atoms: 13 15 16\n",
      "[15:10:41] Can't kekulize mol.  Unkekulized atoms: 14 15 17\n",
      "[15:10:41] Can't kekulize mol.  Unkekulized atoms: 10 11 13\n",
      "[15:10:45] Can't kekulize mol.  Unkekulized atoms: 15 16 17 18 19\n",
      "[15:10:46] Can't kekulize mol.  Unkekulized atoms: 12 13 14\n",
      "[15:10:46] Can't kekulize mol.  Unkekulized atoms: 16 19 21\n",
      "[15:10:46] Can't kekulize mol.  Unkekulized atoms: 10 12 13 16 18\n",
      "[15:10:46] Can't kekulize mol.  Unkekulized atoms: 9 12 13 14 15 16 18\n",
      "[15:10:46] Can't kekulize mol.  Unkekulized atoms: 15 16 17 18 19 21 24\n",
      "[15:10:46] Can't kekulize mol.  Unkekulized atoms: 11 12 13 14 15\n",
      "[15:10:46] Can't kekulize mol.  Unkekulized atoms: 14 16 18\n",
      "[15:10:46] Can't kekulize mol.  Unkekulized atoms: 9 10 11 12 14\n",
      "[15:10:49] Can't kekulize mol.  Unkekulized atoms: 12 13 14\n",
      "[15:10:58] Can't kekulize mol.  Unkekulized atoms: 12 13 14 15 16\n",
      "[15:10:58] Can't kekulize mol.  Unkekulized atoms: 16 17 19\n",
      "[15:10:58] Can't kekulize mol.  Unkekulized atoms: 17 18 19\n",
      "[15:10:58] Can't kekulize mol.  Unkekulized atoms: 13 15 17\n",
      "[15:10:58] Can't kekulize mol.  Unkekulized atoms: 14 15 16\n",
      "[15:10:58] Can't kekulize mol.  Unkekulized atoms: 14 15 16\n",
      "[15:10:58] Can't kekulize mol.  Unkekulized atoms: 10 12 13\n",
      "[15:10:58] Can't kekulize mol.  Unkekulized atoms: 15 17 18\n",
      "[15:10:58] Can't kekulize mol.  Unkekulized atoms: 11 13 14\n",
      "[15:10:58] Can't kekulize mol.  Unkekulized atoms: 15 16 17 18 20\n",
      "[15:10:58] Can't kekulize mol.  Unkekulized atoms: 15 16 17 18 20\n",
      "[15:10:58] Can't kekulize mol.  Unkekulized atoms: 13 14 15 16 17\n",
      "[15:10:58] Can't kekulize mol.  Unkekulized atoms: 13 14 15 16 17\n",
      "[15:10:58] non-ring atom 5 marked aromatic\n",
      "[15:10:58] Can't kekulize mol.  Unkekulized atoms: 17 18 19 20 21 22 23 25 26\n",
      "[15:10:58] Explicit valence for atom # 0 Cl, 2, is greater than permitted\n",
      "[15:10:58] ERROR: Could not sanitize molecule ending on line 16997413\n",
      "[15:10:58] ERROR: Explicit valence for atom # 0 Cl, 2, is greater than permitted\n",
      "[15:11:02] Explicit valence for atom # 4 N greater than permitted\n",
      "[15:11:02] ERROR: Could not sanitize molecule ending on line 17747682\n",
      "[15:11:02] ERROR: Explicit valence for atom # 4 N greater than permitted\n"
     ]
    },
    {
     "data": {
      "application/vnd.jupyter.widget-view+json": {
       "model_id": "601f488106b544e58d1e2f0c6f6e6330",
       "version_major": 2,
       "version_minor": 0
      },
      "text/plain": [
       "  0%|          | 0/10 [00:00<?, ?it/s]"
      ]
     },
     "metadata": {},
     "output_type": "display_data"
    },
    {
     "name": "stderr",
     "output_type": "stream",
     "text": [
      "[15:11:10] Can't kekulize mol.  Unkekulized atoms: 16 18 21\n",
      "[15:11:12] Can't kekulize mol.  Unkekulized atoms: 13 14 15 16 17\n",
      "[15:11:16] Can't kekulize mol.  Unkekulized atoms: 14 15 17\n",
      "[15:11:16] Can't kekulize mol.  Unkekulized atoms: 14 16 17\n",
      "[15:11:22] Can't kekulize mol.  Unkekulized atoms: 11 13 15\n",
      "[15:11:32] Can't kekulize mol.  Unkekulized atoms: 14 16 18\n",
      "[15:11:32] Can't kekulize mol.  Unkekulized atoms: 12 14 15\n",
      "[15:11:32] Can't kekulize mol.  Unkekulized atoms: 13 15 17\n",
      "[15:11:32] Can't kekulize mol.  Unkekulized atoms: 15 16 17 18 20\n",
      "[15:11:46] Can't kekulize mol.  Unkekulized atoms: 17 19 20\n",
      "[15:11:46] Can't kekulize mol.  Unkekulized atoms: 13 14 15 16 18\n",
      "[15:11:46] Can't kekulize mol.  Unkekulized atoms: 18 21 23 24 27 28 32\n",
      "[15:11:46] Can't kekulize mol.  Unkekulized atoms: 9 11 14\n",
      "[15:11:46] Can't kekulize mol.  Unkekulized atoms: 17 18 19\n",
      "[15:11:46] Can't kekulize mol.  Unkekulized atoms: 13 15 17\n",
      "[15:11:46] Can't kekulize mol.  Unkekulized atoms: 13 15 17\n",
      "[15:11:46] Can't kekulize mol.  Unkekulized atoms: 16 17 18 19 20\n"
     ]
    }
   ],
   "source": [
    "import time\n",
    "from tqdm.auto import tqdm\n",
    "import io\n",
    "from contextlib import redirect_stdout\n",
    "f = io.StringIO()\n",
    "\n",
    "with redirect_stdout(f):\n",
    "    \n",
    "    # design_runtimes = []\n",
    "    # score_runtimes = []\n",
    "    \n",
    "    sizes = [1, 2, 4, 8, 16, 32, 64, 128, 256, 512]\n",
    "    for trial in range(1, 25):\n",
    "        for size in tqdm(sizes):\n",
    "            \n",
    "            # Ideate molecules\n",
    "            t = time.time()\n",
    "            molecules = designer.design(size)\n",
    "            time_elapsed = t - time.time()\n",
    "            design_runtimes.append({\n",
    "                'size': size,\n",
    "                'time': time_elapsed,\n",
    "                'trial': trial\n",
    "            })\n",
    "\n",
    "            # Score molecules\n",
    "            t = time.time()\n",
    "            utility_agent(molecules)\n",
    "            time_elapsed = t - time.time()\n",
    "            score_runtimes.append({\n",
    "                'size': size,\n",
    "                'time': time_elapsed,\n",
    "                'trial': trial\n",
    "            })"
   ]
  },
  {
   "cell_type": "code",
   "execution_count": null,
   "id": "2d893431-40be-42d5-9656-4096d3eaeb39",
   "metadata": {},
   "outputs": [],
   "source": [
    "import seaborn as sns\n",
    "\n",
    "sns.lineplot(size_runtimes, x=')"
   ]
  }
 ],
 "metadata": {
  "kernelspec": {
   "display_name": "Python 3 (ipykernel)",
   "language": "python",
   "name": "python3"
  },
  "language_info": {
   "codemirror_mode": {
    "name": "ipython",
    "version": 3
   },
   "file_extension": ".py",
   "mimetype": "text/x-python",
   "name": "python",
   "nbconvert_exporter": "python",
   "pygments_lexer": "ipython3",
   "version": "3.11.5"
  }
 },
 "nbformat": 4,
 "nbformat_minor": 5
}
