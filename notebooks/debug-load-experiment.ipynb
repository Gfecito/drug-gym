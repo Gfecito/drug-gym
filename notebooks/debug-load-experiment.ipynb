{
 "cells": [
  {
   "cell_type": "markdown",
   "id": "bf578967-8741-49c0-b202-4641c1282e7c",
   "metadata": {},
   "source": [
    "# Testing New Experiment API"
   ]
  },
  {
   "cell_type": "markdown",
   "id": "0e30b740-49b2-4b5a-b87e-b94bd2a031d5",
   "metadata": {},
   "source": [
    "Load data."
   ]
  },
  {
   "cell_type": "code",
   "execution_count": 14,
   "id": "22e58bb4-098f-499b-92f9-b390d6d6540a",
   "metadata": {
    "tags": []
   },
   "outputs": [],
   "source": [
    "%reload_ext autoreload\n",
    "%autoreload 2\n",
    "import warnings\n",
    "warnings.filterwarnings('ignore') \n",
    "\n",
    "import rdkit\n",
    "import dgym as dg\n",
    "\n",
    "# load all data\n",
    "path = '../../dgym-data'\n",
    "\n",
    "deck = dg.MoleculeCollection.load(\n",
    "    f'{path}/DSi-Poised_Library_annotated.sdf',\n",
    "    reactant_names=['reagsmi1', 'reagsmi2', 'reagsmi3']\n",
    ")\n",
    "\n",
    "reactions = dg.ReactionCollection.from_json(\n",
    "    path = f'{path}/All_Rxns_rxn_library_sorted.json',\n",
    "    smarts_col = 'reaction_string',\n",
    "    classes_col = 'functional_groups'\n",
    ")\n",
    "\n",
    "building_blocks = dg.datasets.disk_loader(f'{path}/Enamine_Building_Blocks_Stock_262336cmpd_20230630.sdf')\n",
    "fingerprints = dg.datasets.fingerprints(f'{path}/Enamine_Building_Blocks_Stock_262336cmpd_20230630_atoms.fpb')\n",
    "\n",
    "import torch\n",
    "import pyarrow.parquet as pq\n",
    "table = pq.read_table('../../dgym-data/sizes.parquet')[0]\n",
    "sizes = torch.tensor(table.to_numpy())"
   ]
  },
  {
   "cell_type": "markdown",
   "id": "51744ac8-3b74-415d-a88d-abd31fd9325a",
   "metadata": {},
   "source": [
    "Load assays and utility functions."
   ]
  },
  {
   "cell_type": "code",
   "execution_count": 15,
   "id": "750653ce-6431-4dcb-abd8-cb0a6da39459",
   "metadata": {
    "tags": []
   },
   "outputs": [],
   "source": [
    "import os\n",
    "\n",
    "def get_tcp_objectives():\n",
    "\n",
    "    dockstring_dir = f'{path}/dockstring_targets/'\n",
    "    files = os.listdir(dockstring_dir)\n",
    "    configs = sorted([f for f in files if 'conf' in f])\n",
    "    targets = sorted([f for f in files if 'target' in f])\n",
    "\n",
    "    idx = 0\n",
    "    with open(dockstring_dir + configs[idx], 'r') as f:\n",
    "        config_ = f.readlines()\n",
    "        config_ = [c.replace('\\n', '') for c in config_]\n",
    "        config_ = [c.split(' = ') for c in config_ if c]\n",
    "        config_ = {c[0]: float(c[1]) for c in config_}\n",
    "\n",
    "    target = targets[idx]\n",
    "    name = target.split('_')[0]\n",
    "\n",
    "    config_.update({\n",
    "        'size_x': 22.5,\n",
    "        'size_y': 22.5,\n",
    "        'size_z': 22.5,\n",
    "    })\n",
    "\n",
    "    from dgym.envs.oracle import \\\n",
    "        ConstantOracle, RandomOracle, DockingOracle, CatBoostOracle, RDKitOracle, NoisyOracle\n",
    "    from dgym.envs.utility import ClassicUtilityFunction\n",
    "\n",
    "    config = {\n",
    "        'search_mode': 'detailed',\n",
    "        'scoring': 'vina',\n",
    "        'seed': 5,\n",
    "        **config_\n",
    "    }\n",
    "\n",
    "    pIC50_oracle = DockingOracle(\n",
    "        f'{name} pIC50',\n",
    "        receptor_path=f'{path}/dockstring_targets/{name}_target.pdbqt',\n",
    "        config=config\n",
    "    )\n",
    "    constant_oracle = ConstantOracle('Constant', constant=1)\n",
    "    random_oracle = RandomOracle('Random')\n",
    "    log_P_oracle = RDKitOracle('Log P', descriptor='MolLogP')\n",
    "    log_S_oracle = CatBoostOracle(\n",
    "        'Log S', path='../dgym/envs/models/aqsolcb.model')\n",
    "    \n",
    "    return pIC50_oracle, log_P_oracle, log_S_oracle, constant_oracle, random_oracle"
   ]
  },
  {
   "cell_type": "code",
   "execution_count": 16,
   "id": "b7a22a23-125c-4112-a38a-416b8d53646d",
   "metadata": {
    "tags": []
   },
   "outputs": [],
   "source": [
    "from dgym.envs.utility import ClassicUtilityFunction, MultipleUtilityFunction\n",
    "\n",
    "# Get objectives\n",
    "pIC50_oracle, log_P_oracle, log_S_oracle, constant_oracle, random_oracle = get_tcp_objectives()\n",
    "\n",
    "# Define utility functions\n",
    "pIC50_utility = ClassicUtilityFunction(\n",
    "    pIC50_oracle, ideal=(9.5, 13), acceptable=(8, 13))\n",
    "log_P_utility = ClassicUtilityFunction(\n",
    "    log_P_oracle, ideal=(0.5, 1.85), acceptable=(-0.5, 3.5))\n",
    "log_S_utility = ClassicUtilityFunction(\n",
    "    log_S_oracle, ideal=(-3, 1), acceptable=(-4, 1))\n",
    "constant_utility = ClassicUtilityFunction(\n",
    "    constant_oracle, ideal=(3, 4), acceptable=(2, 5))\n",
    "random_utility = ClassicUtilityFunction(\n",
    "    random_oracle, ideal=(3, 4), acceptable=(2, 5))\n",
    "\n",
    "# Assemble assays and surrogate models\n",
    "from dgym.envs.oracle import GaussianOracle\n",
    "assays = [\n",
    "    pIC50_oracle,\n",
    "    log_P_oracle,\n",
    "    log_S_oracle,\n",
    "    GaussianOracle(f'Noisy {pIC50_oracle.name}', loc=7.460298232446733, scale=100),\n",
    "    GaussianOracle(f'Noisy {log_P_oracle.name}', loc=2.223214738326521, scale=100),\n",
    "    GaussianOracle(f'Noisy {log_S_oracle.name}', loc=-3.752548978069126, scale=100),\n",
    "]\n",
    "\n",
    "# Environment tolerates acceptable ADMET\n",
    "from copy import deepcopy\n",
    "utility_agent = MultipleUtilityFunction(\n",
    "    utility_functions = [pIC50_utility, log_P_utility, log_S_utility],\n",
    "    weights = [0.8, 0.1, 0.1]\n",
    ")\n",
    "utility_env = deepcopy(utility_agent)\n",
    "utility_env.utility_functions[1].ideal = utility_env.utility_functions[1].acceptable\n",
    "utility_env.utility_functions[2].ideal = utility_env.utility_functions[2].acceptable"
   ]
  },
  {
   "cell_type": "markdown",
   "id": "33c88781-ba5b-4e45-98ea-8e25a4639eac",
   "metadata": {},
   "source": [
    "Instantiate designer."
   ]
  },
  {
   "cell_type": "code",
   "execution_count": 17,
   "id": "80f19092-150e-4fb7-87d6-e1c203aa721b",
   "metadata": {
    "tags": []
   },
   "outputs": [],
   "source": [
    "from dgym.envs.designer import Designer, Generator\n",
    "\n",
    "designer = Designer(\n",
    "    Generator(building_blocks, fingerprints, sizes),\n",
    "    reactions,\n",
    "    cache = True\n",
    ")"
   ]
  },
  {
   "cell_type": "markdown",
   "id": "01233a8b-8f11-481b-8154-08b9e234c01d",
   "metadata": {},
   "source": [
    "Pick 5 random starting hits."
   ]
  },
  {
   "cell_type": "code",
   "execution_count": 18,
   "id": "8fcc0795-ebaa-42de-ac4b-dec137e9fc22",
   "metadata": {
    "tags": []
   },
   "outputs": [
    {
     "name": "stderr",
     "output_type": "stream",
     "text": [
      "[18:14:34] mapped atoms in the reactants were not mapped in the products.\n",
      "  unmapped numbers are: 4 \n",
      "[18:14:34] mapped atoms in the reactants were not mapped in the products.\n",
      "  unmapped numbers are: 3 \n",
      "[18:14:34] mapped atoms in the reactants were not mapped in the products.\n",
      "  unmapped numbers are: 3 \n",
      "[18:14:34] mapped atoms in the reactants were not mapped in the products.\n",
      "  unmapped numbers are: 3 \n",
      "[18:14:34] mapped atoms in the reactants were not mapped in the products.\n",
      "  unmapped numbers are: 3 \n",
      "[18:14:34] mapped atoms in the reactants were not mapped in the products.\n",
      "  unmapped numbers are: 4 \n",
      "[18:14:34] product atom-mapping number 15 not found in reactants.\n",
      "[18:14:34] product atom-mapping number 14 not found in reactants.\n",
      "[18:14:34] product atom-mapping number 13 not found in reactants.\n",
      "[18:14:34] reactant 1 has no mapped atoms.\n",
      "[18:14:34] product atom-mapping number 2 not found in reactants.\n",
      "[18:14:34] product atom-mapping number 3 not found in reactants.\n",
      "[18:14:34] product atom-mapping number 6 found multiple times.\n",
      "[18:14:34] product atom-mapping number 4 not found in reactants.\n",
      "[18:14:34] Can't kekulize mol.  Unkekulized atoms: 13 15 17\n"
     ]
    },
    {
     "name": "stdout",
     "output_type": "stream",
     "text": [
      "[]\n",
      "unidock --receptor ../../dgym-data/dockstring_targets/ABL1_target.pdbqt --ligand_index /tmp/tmpcqnzl863/ligands.txt --dir /tmp/tmpcqnzl863 --search_mode detailed --scoring vina --seed 5 --center_x 15.851 --center_y 14.647 --center_z 3.904 --size_x 22.5 --size_y 22.5 --size_z 22.5\n",
      "CompletedProcess(args='unidock --receptor ../../dgym-data/dockstring_targets/ABL1_target.pdbqt --ligand_index /tmp/tmpcqnzl863/ligands.txt --dir /tmp/tmpcqnzl863 --search_mode detailed --scoring vina --seed 5 --center_x 15.851 --center_y 14.647 --center_z 3.904 --size_x 22.5 --size_y 22.5 --size_z 22.5', returncode=0, stdout='Uni-Dock v1.1.0\\n\\nIf you used Uni-Dock in your work, please cite:               \\n \\nYu, Y., Cai, C., Wang, J., Bo, Z., Zhu, Z., & Zheng, H. (2023). \\nUni-Dock: GPU-Accelerated Docking Enables Ultralarge Virtual Screening. \\nJournal of Chemical Theory and Computation.                    \\nhttps://doi.org/10.1021/acs.jctc.2c01145                       \\n\\nTang, S., Chen, R., Lin, M., Lin, Q., Zhu, Y., Ding, J., ... & Wu, J. (2022). \\nAccelerating autodock vina with gpus. Molecules, 27(9), 3041. \\nDOI 10.3390/molecules27093041                                 \\n\\nJ. Eberhardt, D. Santos-Martins, A. F. Tillack, and S. Forli  \\nAutoDock Vina 1.2.0: New Docking Methods, Expanded Force      \\nField, and Python Bindings, J. Chem. Inf. Model. (2021)       \\nDOI 10.1021/acs.jcim.1c00203                                  \\n\\nO. Trott, A. J. Olson,                                        \\nAutoDock Vina: improving the speed and accuracy of docking    \\nwith a new scoring function, efficient optimization and        \\nmultithreading, J. Comp. Chem. (2010)                         \\nDOI 10.1002/jcc.21334                                         \\n\\nPlease refer to https://github.com/dptech-corp/Uni-Dock/ for  \\nbug reporting, license agreements, and more information.      \\n\\nScoring function : vina\\nRigid receptor: ../../dgym-data/dockstring_targets/ABL1_target.pdbqt\\nGrid center: X 15.851 Y 14.647 Z 3.904\\nGrid size  : X 22.5 Y 22.5 Z 22.5\\nGrid space : 0.375\\nExhaustiveness: 512\\nCPU: 0\\nVerbosity: 1\\n\\nComputing Vina grid ... done.\\nTotal ligands: 5\\nSet GPU device id to 0\\nAvailable Memory = 7070MiB   Total Memory = 8187MiB\\nall_ligands.size():5\\nmax_num_atoms20\\nmax_num_torsions:3\\nmax_num_rigids:3\\nmax_num_lig_pairs:93\\nSmall Group:\\nMax num_atoms: 15 Max num_torsions: 1 Max num_rigids: 1 Max num_lig_pairs: 22\\nGroup size: 1\\nMedium Group:\\nMax num_atoms: 13 Max num_torsions: 3 Max num_rigids: 2 Max num_lig_pairs: 19\\nGroup size: 1\\nLarge Group:\\nMax num_atoms: 17 Max num_torsions: 2 Max num_rigids: 2 Max num_lig_pairs: 66\\nGroup size: 1\\nExtra Large Group:\\nMax num_atoms: 20 Max num_torsions: 3 Max num_rigids: 3 Max num_lig_pairs: 93\\nGroup size: 2\\nSmall\\nMax num_atoms: 15 Max num_torsions: 1 Max num_rigids: 1 Max num_lig_pairs: 22\\nGroup size: 1\\nSmall Batch 1 size: 1\\nPerforming docking (random seed: 5) ... Time spend on GPU is 73.337502 ms\\nKernel running time: 164\\n\\nmode |   affinity | dist from best mode\\n     | (kcal/mol) | rmsd l.b.| rmsd u.b.\\n-----+------------+----------+----------\\n   1       -7.123          0          0\\n   2       -6.927      2.749      6.758\\n   3       -6.923      2.583      6.661\\n   4       -6.888      2.136      4.942\\n   5       -6.856      1.935      2.259\\n   6        -6.84      2.643      6.341\\n   7       -6.831      1.448      1.448\\n   8       -6.803      2.486      6.304\\n   9       -6.767      1.255      1.535\\nposes saveing time: 3\\nBatch 1 running time: 430ms\\nMedium\\nMax num_atoms: 13 Max num_torsions: 3 Max num_rigids: 2 Max num_lig_pairs: 19\\nGroup size: 1\\nMedium Batch 1 size: 1\\nPerforming docking (random seed: 5) ... Time spend on GPU is 113.188515 ms\\nKernel running time: 209\\n\\nmode |   affinity | dist from best mode\\n     | (kcal/mol) | rmsd l.b.| rmsd u.b.\\n-----+------------+----------+----------\\n   1       -5.753          0          0\\n   2       -5.716      2.151        4.6\\n   3        -5.67      1.061      1.127\\n   4       -5.663      2.536      4.485\\n   5       -5.632      1.722       4.48\\n   6       -5.598      1.552      1.956\\n   7       -5.593      2.159       4.69\\n   8       -5.561      2.157      4.482\\n   9       -5.553      2.863      4.951\\nposes saveing time: 2\\nBatch 1 running time: 347ms\\nLarge\\nMax num_atoms: 17 Max num_torsions: 2 Max num_rigids: 2 Max num_lig_pairs: 66\\nGroup size: 1\\nLarge Batch 1 size: 1\\nPerforming docking (random seed: 5) ... Time spend on GPU is 114.044510 ms\\nKernel running time: 205\\n\\nmode |   affinity | dist from best mode\\n     | (kcal/mol) | rmsd l.b.| rmsd u.b.\\n-----+------------+----------+----------\\n   1       -9.417          0          0\\n   2       -9.416     0.1323       1.14\\n   3       -9.394      1.227      2.149\\n   4        -9.39     0.2127       1.16\\n   5       -9.385      1.193      1.752\\n   6       -9.346     0.8506      1.535\\n   7       -9.285     0.4207       1.64\\n   8       -9.204      1.241      2.071\\nposes saveing time: 5\\nBatch 1 running time: 465ms\\nExtra Large\\nMax num_atoms: 20 Max num_torsions: 3 Max num_rigids: 3 Max num_lig_pairs: 93\\nGroup size: 2\\nExtra Large Batch 1 size: 2\\nPerforming docking (random seed: 5) ... Time spend on GPU is 263.627258 ms\\nKernel running time: 431\\n\\nmode |   affinity | dist from best mode\\n     | (kcal/mol) | rmsd l.b.| rmsd u.b.\\n-----+------------+----------+----------\\n   1       -6.072          0          0\\n   2       -5.937      1.239      1.468\\n   3       -5.888      1.021      1.092\\n   4        -5.87      2.112      5.091\\n   5       -5.791      2.306      3.158\\n   6       -5.736      1.813       4.84\\n\\nmode |   affinity | dist from best mode\\n     | (kcal/mol) | rmsd l.b.| rmsd u.b.\\n-----+------------+----------+----------\\n   1       -8.822          0          0\\n   2       -8.723      1.304       1.42\\n   3       -8.665      1.327      1.646\\n   4       -8.635      1.696      2.179\\n   5       -8.547      2.983      6.335\\n   6       -8.329     0.8681      1.108\\n   7       -8.273      2.437      5.975\\n   8        -8.26      3.111      6.509\\n   9       -8.149      2.895      6.321\\nposes saveing time: 9\\nBatch 1 running time: 788ms\\n', stderr='')\n"
     ]
    }
   ],
   "source": [
    "import warnings\n",
    "warnings.filterwarnings(\"ignore\")\n",
    "\n",
    "# select first molecule\n",
    "import random\n",
    "def select_molecule(deck):\n",
    "    initial_index = random.randint(0, len(deck) - 1)\n",
    "    initial_molecule = deck[initial_index]\n",
    "    if len(initial_molecule.reactants) == 2 \\\n",
    "        and designer.match_reactions(initial_molecule):\n",
    "        return initial_molecule\n",
    "    else:\n",
    "        return select_molecule(deck)\n",
    "\n",
    "initial_molecules = [select_molecule(deck) for _ in range(5)]\n",
    "library = dg.MoleculeCollection(initial_molecules).update_annotations()\n",
    "\n",
    "# Score molecules\n",
    "for assay in assays:\n",
    "    if 'Noisy' not in assay.name:\n",
    "        results = assay(library)\n",
    "        for molecule, result in zip(library, results):\n",
    "            molecule.update_annotations({assay.name: result})\n",
    "\n",
    "# Set status to tested\n",
    "library.set_status('Tested', step=0)"
   ]
  },
  {
   "cell_type": "markdown",
   "id": "150be54d-31a4-4287-bb31-abcde4e6abc0",
   "metadata": {
    "tags": []
   },
   "source": [
    "Instantiate Environment and Agent."
   ]
  },
  {
   "cell_type": "code",
   "execution_count": 19,
   "id": "7e6d8a3a-1c83-4dde-82ea-d56a04ca1724",
   "metadata": {
    "tags": []
   },
   "outputs": [],
   "source": [
    "from dgym.envs import DrugEnv\n",
    "from dgym.agents import SequentialDrugAgent\n",
    "from dgym.agents.exploration import EpsilonGreedy\n",
    "\n",
    "drug_env = DrugEnv(\n",
    "    designer = designer,\n",
    "    library = library,\n",
    "    assays = assays,\n",
    "    utility_function = utility_env\n",
    ")\n",
    "\n",
    "# Construct sequence\n",
    "design_grow = {'name': 'design', 'batch_size': 8, 'parameters': {'strategy': 'grow', 'size': 5}}\n",
    "design_replace = {'name': 'design', 'batch_size': 8, 'parameters': {'strategy': 'replace', 'size': 5, 'temperature': 0.2}}\n",
    "score = {'name': ['Noisy ABL1 pIC50', 'Noisy Log S', 'Noisy Log P'], 'batch_size': 8 * 5, 'parameters': {'batch_size': 40}}\n",
    "make = {'name': 'make', 'batch_size': 8}\n",
    "test = {'name': ['ABL1 pIC50', 'Log S', 'Log P'], 'batch_size': 8}\n",
    "design_and_score = [design_replace, score]\n",
    "\n",
    "sequence = [design_replace, score, design_grow, score, make, test]\n",
    "\n",
    "drug_agent = SequentialDrugAgent(\n",
    "    sequence = sequence,\n",
    "    exploration_strategy = EpsilonGreedy(epsilon=0.25),\n",
    "    utility_function = utility_agent\n",
    ")"
   ]
  },
  {
   "cell_type": "code",
   "execution_count": 20,
   "id": "a0405181-b818-423f-b2a3-73d9c3916b2b",
   "metadata": {
    "tags": []
   },
   "outputs": [],
   "source": [
    "def display_best(experiment):\n",
    "    import numpy as np\n",
    "    observations = experiment.drug_env.library\n",
    "    utilities = experiment.drug_env.utility_function(\n",
    "        observations, use_precomputed=True, method='average')\n",
    "    for obs, utility in zip(observations, utilities):\n",
    "        obs.update_annotations({'utility': utility})\n",
    "    tested = observations.tested\n",
    "    if tested:\n",
    "        best_tested = (\n",
    "            tested\n",
    "            .annotations\n",
    "            .sort_values('utility', ascending=False)\n",
    "            [['ABL1 pIC50', 'Log S', 'Log P', 'utility']]\n",
    "            .head()\n",
    "        )\n",
    "        display(best_tested)"
   ]
  },
  {
   "cell_type": "markdown",
   "id": "c511e231-34bf-4365-9d84-7242a83f0f86",
   "metadata": {},
   "source": [
    "## Test loading mechanism"
   ]
  },
  {
   "cell_type": "code",
   "execution_count": 21,
   "id": "55a30963-a6d8-483a-bab2-7f3fb96815f3",
   "metadata": {
    "tags": []
   },
   "outputs": [],
   "source": [
    "import warnings\n",
    "warnings.filterwarnings('ignore')\n",
    "\n",
    "import os\n",
    "import json\n",
    "import zipfile\n",
    "import pandas as pd\n",
    "from tqdm.auto import tqdm\n",
    "from io import TextIOWrapper\n",
    "from collections import defaultdict"
   ]
  },
  {
   "cell_type": "code",
   "execution_count": 22,
   "id": "0c9a66cc-701d-447e-8951-7fd77239cc21",
   "metadata": {
    "tags": []
   },
   "outputs": [
    {
     "data": {
      "application/vnd.jupyter.widget-view+json": {
       "model_id": "8e657ed5229e4e01b0c1d70e6aa3011a",
       "version_major": 2,
       "version_minor": 0
      },
      "text/plain": [
       "  0%|          | 0/1 [00:00<?, ?it/s]"
      ]
     },
     "metadata": {},
     "output_type": "display_data"
    }
   ],
   "source": [
    "path = '../../dgym-data/analysis/noise/selection_max_noise_2024-05-19_11-56-02.zip'\n",
    "\n",
    "with zipfile.ZipFile(path, 'r') as z:\n",
    "    for filename in tqdm(z.namelist()[:1]):\n",
    "        if filename.endswith('.json'):\n",
    "            with z.open(filename) as file:\n",
    "                with TextIOWrapper(file, encoding='utf-8') as text_file:\n",
    "                    result = json.load(text_file)"
   ]
  },
  {
   "cell_type": "code",
   "execution_count": 24,
   "id": "44c2951e-fcd5-4790-b26f-b9a8d3d44c4d",
   "metadata": {
    "tags": []
   },
   "outputs": [
    {
     "data": {
      "application/vnd.jupyter.widget-view+json": {
       "model_id": "911fe21bf8c34459a56ff86c4b838120",
       "version_major": 2,
       "version_minor": 0
      },
      "text/plain": [
       "  0%|          | 0/1 [00:00<?, ?it/s]"
      ]
     },
     "metadata": {},
     "output_type": "display_data"
    },
    {
     "name": "stdout",
     "output_type": "stream",
     "text": [
      "MoleculeCollection with 4871 Molecules\n"
     ]
    },
    {
     "data": {
      "application/vnd.jupyter.widget-view+json": {
       "model_id": "66601a3d79d2443281b4307d533d1c81",
       "version_major": 2,
       "version_minor": 0
      },
      "text/plain": [
       "  0%|          | 0/100000 [00:00<?, ?it/s]"
      ]
     },
     "metadata": {},
     "output_type": "display_data"
    },
    {
     "name": "stdout",
     "output_type": "stream",
     "text": [
      "Created action\n",
      "{'name': 'design', 'parameters': {'strategy': 'replace', 'size': 5, 'temperature': 0.2}, 'molecules': [2983, 831, 4798, 3942, 3868, 4335, 3846, 4298]}\n",
      "['Tested', 'Tested', 'Tested', 'Tested', 'Tested', 'Tested', 'Tested', 'Scored']\n",
      "0.7588616636136815\n",
      "Created action\n",
      "{'name': ['Noisy ABL1 pIC50', 'Noisy Log S', 'Noisy Log P'], 'parameters': {'batch_size': 40}, 'molecules': [4871, 4885, 4872, 4873, 4874, 4875, 4876, 4877, 4878, 4891, 4879, 4894, 4880, 4881, 4882, 4883, 4884, 4886, 4887, 4888, 4889, 4896, 4910, 4890, 4904, 4892, 4893, 4899, 4895, 4900, 4897, 4908, 4898, 4901, 4902, 4903, 4905, 4906, 4907, 4909]}\n",
      "['Designed', 'Designed', 'Designed', 'Designed', 'Designed', 'Designed', 'Designed', 'Designed', 'Designed', 'Designed', 'Designed', 'Designed', 'Designed', 'Designed', 'Designed', 'Designed', 'Designed', 'Designed', 'Designed', 'Designed', 'Designed', 'Designed', 'Designed', 'Designed', 'Designed', 'Designed', 'Designed', 'Designed', 'Designed', 'Designed', 'Designed', 'Designed', 'Designed', 'Designed', 'Designed', 'Designed', 'Designed', 'Designed', 'Designed', 'Designed']\n",
      "{'batch_size': 40}\n",
      "[40.6501804752578, 132.91371514445635, -225.32470622411236, -95.7022895150571, -1.7228969687686826, -57.7940219889376, 205.91204999773933, 107.14799231234242, 103.93524864228995, 57.281109779305936, 41.86566246062765, 17.318531531833717, 47.83394125871669, 52.68270921754626, 42.779357558250524, -0.6092781397840215, -29.32191964486733, -85.87434723883422, 215.50001346861956, 18.18243259437161, -45.64485123768623, 95.05563501324959, 40.55868478899585, -78.14478147113684, -8.301677124254166, -89.41486127346029, -29.825470442877602, 84.55051083759226, 71.21103419355936, -61.50371395463938, 38.64534693721058, 205.4124023122119, -82.48814597715842, 86.83032580041193, 192.749398956679, 7.502087109140502, 31.12258089513766, -82.50962018021805, -211.58301608906996, 97.06850468754631]\n",
      "{'batch_size': 40}\n",
      "[-6.210209020104683, -86.87424868564872, 44.94280229250182, -52.01148317953841, -30.905153553507063, -49.166243556620515, 175.7910391699683, 74.5157132870369, -67.29566663071085, 2.0775400323688826, -37.44181532354989, -64.99572289284285, 142.09731079206412, 39.19804052064701, -93.81801929568252, 24.510072479136607, 43.80873235200125, 85.5728958555163, -102.6706441205111, -57.69673076460415, -13.090253126814115, 40.47216689442232, -22.057328551623332, -227.69691884824593, 71.51472490610317, -100.34884826103887, -79.45354825779471, -44.49942997200106, -17.422081872754735, 219.99866104361462, -27.5143206626482, -33.92857450459406, 159.27457357931578, 157.54442355700363, -10.243368450970703, -85.30748985693252, -99.39842401140297, 92.8430329986308, 80.21964587488974, 62.064535697498485]\n",
      "{'batch_size': 40}\n"
     ]
    },
    {
     "name": "stderr",
     "output_type": "stream",
     "text": [
      "[18:15:33] Can't kekulize mol.  Unkekulized atoms: 13 16 17\n",
      "[18:15:33] Can't kekulize mol.  Unkekulized atoms: 9 12 13\n",
      "[18:15:33] Can't kekulize mol.  Unkekulized atoms: 9 12 13\n"
     ]
    },
    {
     "name": "stdout",
     "output_type": "stream",
     "text": [
      "[-176.42287038799287, 40.64303325660858, 59.40733351216957, 177.85456645179923, 68.76198215846317, -59.36637895101163, 155.55538816469223, -9.38538995026137, 77.33203510960702, -39.747542607811255, -113.81603470896033, 28.432989550964614, -82.57165191645701, -93.92077258335468, -98.78717783180508, 75.46607707383566, 88.6541862502111, 67.18613749054457, 23.503428061538912, -23.277588757620745, 132.37804757116814, -65.3640465097929, 158.22799767393315, 36.86726159207217, -24.495483453331147, 14.260276962212794, -62.66210825667298, 53.022994759039236, 117.80671310072779, 151.39676575846966, -166.15049439877794, -123.65424395258655, -56.35770791037097, 9.43026023356952, -46.273005745173116, -1.2449688142012585, 23.690054764722298, -93.89439884999467, 1.4452975781362376, 113.60499413674093]\n",
      "0.7588616636136815\n",
      "Created action\n",
      "{'name': 'design', 'parameters': {'strategy': 'grow', 'size': 5}, 'molecules': [3159, 4798, 3942, 3868, 4335, 3846, 1413, 2758]}\n",
      "['Scored', 'Tested', 'Tested', 'Tested', 'Tested', 'Tested', 'Tested', 'Tested']\n"
     ]
    },
    {
     "name": "stderr",
     "output_type": "stream",
     "text": [
      "[18:15:34] Can't kekulize mol.  Unkekulized atoms: 10 11 14\n",
      "[18:15:34] Can't kekulize mol.  Unkekulized atoms: 9 10 13\n",
      "[18:15:34] Can't kekulize mol.  Unkekulized atoms: 7 9 12\n",
      "[18:15:34] Can't kekulize mol.  Unkekulized atoms: 9 11 14\n"
     ]
    },
    {
     "name": "stdout",
     "output_type": "stream",
     "text": [
      "0.7588616636136815\n",
      "Created action\n",
      "{'name': ['Noisy ABL1 pIC50', 'Noisy Log S', 'Noisy Log P'], 'parameters': {'batch_size': 40}, 'molecules': [4911, 4912, 4913, 4914, 4915, 4916, 4917, 4918, 4919, 4920, 4926, 4921, 4922, 4923, 4924, 4925, 4947, 4927, 4928, 4929, 4930, 4939, 4931, 4933, 4932, 4934, 4935, 4936, 4937, 4938, 4940, 4941, 4948, 4942, 4943, 4949, 4944, 4945, 4946, 4950]}\n",
      "['Designed', 'Designed', 'Designed', 'Designed', 'Designed', 'Designed', 'Designed', 'Designed', 'Designed', 'Designed', 'Designed', 'Designed', 'Designed', 'Designed', 'Designed', 'Designed', 'Designed', 'Designed', 'Designed', 'Designed', 'Designed', 'Designed', 'Designed', 'Designed', 'Designed', 'Designed', 'Designed', 'Designed', 'Designed', 'Designed', 'Designed', 'Designed', 'Designed', 'Designed', 'Designed', 'Designed', 'Designed', 'Designed', 'Designed', 'Designed']\n",
      "{'batch_size': 40}\n",
      "[247.69579645250923, 22.786968939762332, 33.55147098270068, 131.3592489019067, -31.996388884824455, -42.20719304873563, 5.6632342139186775, -52.19783029826805, 125.7213584892405, -32.00417102491611, -84.45159447374073, 237.16497567737312, -21.77950697503882, 104.52803905682286, -38.236020613839614, 37.70773255362753, 57.044404142161206, -77.79166804584663, 86.1403822722504, 54.07042802629516, -42.84948036137492, 131.7572218390773, -65.01080679255232, 69.61477770585168, 54.723048239061946, -15.842447362850567, 166.78091691058748, 50.23133136182072, -162.40361078356636, 221.1881423905664, 69.31807790768683, 174.7637562100488, -43.9106560968429, 28.936157343708913, 137.50814297086168, 95.99283768579366, -130.4573846973949, 234.45088783408096, 150.70827978597862, 43.492211226875284]\n",
      "{'batch_size': 40}\n",
      "[-85.28500183821303, -47.08229911119578, 112.20390650041122, -129.3799640744135, 21.505118075577347, 102.87282928931855, -59.822066395034035, 51.23438338600609, 38.460633137068456, -207.48600465592713, 61.20146610200996, -87.55141293971151, 177.6625293603111, -60.98069481870574, 54.316340535973126, 105.69127436184712, -94.76932535408245, 55.08084554040091, 164.19715635987524, -28.46276914785025, 78.02411703137123, -223.1385194884964, 2.637637157149383, 7.724164496984934, -122.08333122100409, 8.031674402244974, 93.03032666409688, -148.66857305213424, -141.21883363337625, -73.11201066845607, -149.17833244337294, -65.17595624162259, -79.65872187633619, -156.92761639365818, -56.522380052931, -31.811397831363756, -47.593046579575166, 102.82553693605348, -47.84346546847918, 96.62791560278323]\n",
      "{'batch_size': 40}\n",
      "[-376.67591303047936, -127.55297406953058, 46.75127339015062, -186.34811407661914, -5.343249338555605, 53.009000526253836, -18.67972030923978, -1.3581259839807744, 8.907866438782245, 33.9942406472653, 116.20030075788709, -152.72734006349046, 93.68759831638829, -3.619672845013637, 89.98508193927186, -118.32758862014651, 159.18579428528327, 61.55575741981636, -172.94054663271933, 107.86092040247478, -103.00698259060472, -105.00314322757063, 0.9169103840443502, -187.72380590246206, 64.83829967945582, 115.14574588575957, -160.9410747324295, 47.23163008152766, -67.97305649149945, 51.24416318464712, 29.042549386361138, 51.95306993996425, 110.34790082852368, 8.052504546936184, -216.34343221048323, -69.80472032443168, -34.83837624279396, -127.53666819740984, -97.29893495631038, 60.93453272931343]\n",
      "0.7588616636136815\n",
      "Created action\n",
      "{'name': 'make', 'parameters': {}, 'molecules': [4917, 4888, 4874, 4883, 4903, 4506, 4557, 3522]}\n",
      "['Scored', 'Scored', 'Scored', 'Scored', 'Scored', 'Scored', 'Scored', 'Scored']\n",
      "0.7588616636136815\n",
      "Created action\n",
      "{'name': ['ABL1 pIC50', 'Log S', 'Log P'], 'parameters': {}, 'molecules': [4883, 4917, 4888, 4874, 4903, 4506, 4557, 3522]}\n",
      "['Made', 'Made', 'Made', 'Made', 'Made', 'Made', 'Made', 'Made']\n",
      "{}\n",
      "[]\n",
      "unidock --receptor ../../dgym-data/dockstring_targets/ABL1_target.pdbqt --ligand_index /tmp/tmp6cvxmd44/ligands.txt --dir /tmp/tmp6cvxmd44 --search_mode detailed --scoring vina --seed 5 --center_x 15.851 --center_y 14.647 --center_z 3.904 --size_x 22.5 --size_y 22.5 --size_z 22.5\n"
     ]
    },
    {
     "name": "stderr",
     "output_type": "stream",
     "text": [
      "Exception ignored in: <function tqdm.__del__ at 0x7f3d92a8f560>\n",
      "Traceback (most recent call last):\n",
      "  File \"/home/mrr/miniconda3/envs/chodera/lib/python3.11/site-packages/tqdm/std.py\", line 1144, in __del__\n",
      "KeyboardInterrupt: \n"
     ]
    },
    {
     "name": "stdout",
     "output_type": "stream",
     "text": [
      "Unexpected exception formatting exception. Falling back to standard exception\n"
     ]
    },
    {
     "name": "stderr",
     "output_type": "stream",
     "text": [
      "Traceback (most recent call last):\n",
      "  File \"/home/mrr/miniconda3/envs/chodera/lib/python3.11/site-packages/IPython/core/interactiveshell.py\", line 3508, in run_code\n",
      "    exec(code_obj, self.user_global_ns, self.user_ns)\n",
      "  File \"/tmp/ipykernel_635031/600563487.py\", line 9, in <module>\n",
      "    exp_loaded.run()\n",
      "  File \"/home/mrr/dev/chodera/dgym/dgym/experiment.py\", line 47, in run\n",
      "    observations, _, terminated, truncated, _ = self.drug_env.step(action)\n",
      "                                                ^^^^^^^^^^^^^^^^^^^^^^^^^^\n",
      "  File \"/home/mrr/dev/chodera/dgym/dgym/envs/drug_env.py\", line 140, in step\n",
      "    self.library = self.perform_action(action)\n",
      "                   ^^^^^^^^^^^^^^^^^^^^^^^^^^^\n",
      "  File \"/home/mrr/dev/chodera/dgym/dgym/envs/drug_env.py\", line 173, in perform_action\n",
      "    self.test(molecules, test, **parameters)\n",
      "  File \"/home/mrr/dev/chodera/dgym/dgym/envs/drug_env.py\", line 224, in test\n",
      "    results = assay(molecules, **params)\n",
      "              ^^^^^^^^^^^^^^^^^^^^^^^^^^\n",
      "  File \"/home/mrr/dev/chodera/dgym/dgym/envs/oracle.py\", line 41, in __call__\n",
      "    predictions = self.get_predictions(molecules, **kwargs)\n",
      "                  ^^^^^^^^^^^^^^^^^^^^^^^^^^^^^^^^^^^^^^^^^\n",
      "  File \"/home/mrr/dev/chodera/dgym/dgym/envs/oracle.py\", line 65, in get_predictions\n",
      "    return self._get_predictions(molecules, **kwargs)\n",
      "           ^^^^^^^^^^^^^^^^^^^^^^^^^^^^^^^^^^^^^^^^^^\n",
      "  File \"/home/mrr/dev/chodera/dgym/dgym/envs/oracle.py\", line 84, in _get_predictions\n",
      "    smiles, predictions = self.predict(batch, **kwargs)\n",
      "                          ^^^^^^^^^^^^^^^^^^^^^^^^^^^^^\n",
      "  File \"/home/mrr/dev/chodera/dgym/dgym/envs/oracle.py\", line 390, in predict\n",
      "    resp = self._dock(command)\n",
      "           ^^^^^^^^^^^^^^^^^^^\n",
      "  File \"/home/mrr/dev/chodera/dgym/dgym/envs/oracle.py\", line 454, in _dock\n",
      "    return subprocess.run(\n",
      "           ^^^^^^^^^^^^^^^\n",
      "  File \"/home/mrr/miniconda3/envs/chodera/lib/python3.11/subprocess.py\", line 550, in run\n",
      "    stdout, stderr = process.communicate(input, timeout=timeout)\n",
      "                     ^^^^^^^^^^^^^^^^^^^^^^^^^^^^^^^^^^^^^^^^^^^\n",
      "  File \"/home/mrr/miniconda3/envs/chodera/lib/python3.11/subprocess.py\", line 1209, in communicate\n",
      "    stdout, stderr = self._communicate(input, endtime, timeout)\n",
      "                     ^^^^^^^^^^^^^^^^^^^^^^^^^^^^^^^^^^^^^^^^^^\n",
      "  File \"/home/mrr/miniconda3/envs/chodera/lib/python3.11/subprocess.py\", line 2108, in _communicate\n",
      "    ready = selector.select(timeout)\n",
      "            ^^^^^^^^^^^^^^^^^^^^^^^^\n",
      "  File \"/home/mrr/miniconda3/envs/chodera/lib/python3.11/selectors.py\", line 415, in select\n",
      "    fd_event_list = self._selector.poll(timeout)\n",
      "                    ^^^^^^^^^^^^^^^^^^^^^^^^^^^^\n",
      "KeyboardInterrupt\n",
      "\n",
      "During handling of the above exception, another exception occurred:\n",
      "\n",
      "Traceback (most recent call last):\n",
      "  File \"/home/mrr/miniconda3/envs/chodera/lib/python3.11/site-packages/IPython/core/interactiveshell.py\", line 2105, in showtraceback\n",
      "    stb = self.InteractiveTB.structured_traceback(\n",
      "          ^^^^^^^^^^^^^^^^^^^^^^^^^^^^^^^^^^^^^^^^\n",
      "  File \"/home/mrr/miniconda3/envs/chodera/lib/python3.11/site-packages/IPython/core/ultratb.py\", line 1396, in structured_traceback\n",
      "    return FormattedTB.structured_traceback(\n",
      "           ^^^^^^^^^^^^^^^^^^^^^^^^^^^^^^^^^\n",
      "  File \"/home/mrr/miniconda3/envs/chodera/lib/python3.11/site-packages/IPython/core/ultratb.py\", line 1287, in structured_traceback\n",
      "    return VerboseTB.structured_traceback(\n",
      "           ^^^^^^^^^^^^^^^^^^^^^^^^^^^^^^^\n",
      "  File \"/home/mrr/miniconda3/envs/chodera/lib/python3.11/site-packages/IPython/core/ultratb.py\", line 1140, in structured_traceback\n",
      "    formatted_exception = self.format_exception_as_a_whole(etype, evalue, etb, number_of_lines_of_context,\n",
      "                          ^^^^^^^^^^^^^^^^^^^^^^^^^^^^^^^^^^^^^^^^^^^^^^^^^^^^^^^^^^^^^^^^^^^^^^^^^^^^^^^^\n",
      "  File \"/home/mrr/miniconda3/envs/chodera/lib/python3.11/site-packages/IPython/core/ultratb.py\", line 1055, in format_exception_as_a_whole\n",
      "    frames.append(self.format_record(record))\n",
      "                  ^^^^^^^^^^^^^^^^^^^^^^^^^^\n",
      "  File \"/home/mrr/miniconda3/envs/chodera/lib/python3.11/site-packages/IPython/core/ultratb.py\", line 955, in format_record\n",
      "    frame_info.lines, Colors, self.has_colors, lvals\n",
      "    ^^^^^^^^^^^^^^^^\n",
      "  File \"/home/mrr/miniconda3/envs/chodera/lib/python3.11/site-packages/IPython/core/ultratb.py\", line 778, in lines\n",
      "    return self._sd.lines\n",
      "           ^^^^^^^^^^^^^^\n",
      "  File \"/home/mrr/miniconda3/envs/chodera/lib/python3.11/site-packages/stack_data/utils.py\", line 145, in cached_property_wrapper\n",
      "    value = obj.__dict__[self.func.__name__] = self.func(obj)\n",
      "                                               ^^^^^^^^^^^^^^\n",
      "  File \"/home/mrr/miniconda3/envs/chodera/lib/python3.11/site-packages/stack_data/core.py\", line 698, in lines\n",
      "    pieces = self.included_pieces\n",
      "             ^^^^^^^^^^^^^^^^^^^^\n",
      "  File \"/home/mrr/miniconda3/envs/chodera/lib/python3.11/site-packages/stack_data/utils.py\", line 145, in cached_property_wrapper\n",
      "    value = obj.__dict__[self.func.__name__] = self.func(obj)\n",
      "                                               ^^^^^^^^^^^^^^\n",
      "  File \"/home/mrr/miniconda3/envs/chodera/lib/python3.11/site-packages/stack_data/core.py\", line 649, in included_pieces\n",
      "    pos = scope_pieces.index(self.executing_piece)\n",
      "                             ^^^^^^^^^^^^^^^^^^^^\n",
      "  File \"/home/mrr/miniconda3/envs/chodera/lib/python3.11/site-packages/stack_data/utils.py\", line 145, in cached_property_wrapper\n",
      "    value = obj.__dict__[self.func.__name__] = self.func(obj)\n",
      "                                               ^^^^^^^^^^^^^^\n",
      "  File \"/home/mrr/miniconda3/envs/chodera/lib/python3.11/site-packages/stack_data/core.py\", line 628, in executing_piece\n",
      "    return only(\n",
      "           ^^^^^\n",
      "  File \"/home/mrr/miniconda3/envs/chodera/lib/python3.11/site-packages/executing/executing.py\", line 164, in only\n",
      "    raise NotOneValueFound('Expected one value, found 0')\n",
      "executing.executing.NotOneValueFound: Expected one value, found 0\n"
     ]
    }
   ],
   "source": [
    "from dgym.experiment import Experiment\n",
    "\n",
    "experiment = Experiment(\n",
    "    drug_env=drug_env,\n",
    "    drug_agent=drug_agent\n",
    ")\n",
    "\n",
    "exp_loaded = experiment.load(result)\n",
    "exp_loaded.run()"
   ]
  },
  {
   "cell_type": "code",
   "execution_count": 170,
   "id": "24747af7-609c-419d-b9ff-70451b6ba4fb",
   "metadata": {
    "tags": []
   },
   "outputs": [],
   "source": [
    "# # exp_loaded.drug_agent.reset()\n",
    "# # observations, _ = exp_loaded.drug_env.reset()\n",
    "# action = exp_loaded.drug_agent.act(observations)\n",
    "# print(action)\n",
    "# observations, _, _, _, _ = exp_loaded.drug_env.step(action)"
   ]
  }
 ],
 "metadata": {
  "kernelspec": {
   "display_name": "Python 3 (ipykernel)",
   "language": "python",
   "name": "python3"
  },
  "language_info": {
   "codemirror_mode": {
    "name": "ipython",
    "version": 3
   },
   "file_extension": ".py",
   "mimetype": "text/x-python",
   "name": "python",
   "nbconvert_exporter": "python",
   "pygments_lexer": "ipython3",
   "version": "3.11.5"
  }
 },
 "nbformat": 4,
 "nbformat_minor": 5
}
