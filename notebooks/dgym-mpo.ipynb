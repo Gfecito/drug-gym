{
 "cells": [
  {
   "cell_type": "markdown",
   "id": "5ae3be1b-e253-4dac-891c-f6c4d1667a67",
   "metadata": {},
   "source": [
    "# Testing MPO"
   ]
  },
  {
   "cell_type": "code",
   "execution_count": 1,
   "id": "dfd3d727-a292-43cc-b4c4-380ce5803428",
   "metadata": {
    "tags": []
   },
   "outputs": [],
   "source": [
    "%reload_ext autoreload\n",
    "%autoreload 2\n",
    "\n",
    "import rdkit\n",
    "rdkit.Chem.Draw.IPythonConsole.ipython_maxProperties = -1\n",
    "\n",
    "import dgym as dg\n",
    "\n",
    "# load all data\n",
    "path = '../../dgym-data'\n",
    "\n",
    "deck = dg.MoleculeCollection.load(\n",
    "    f'{path}/DSi-Poised_Library_annotated.sdf',\n",
    "    reactant_names=['reagsmi1', 'reagsmi2', 'reagsmi3']\n",
    ")\n",
    "\n",
    "reactions = dg.ReactionCollection.from_json(\n",
    "    path = f'{path}/All_Rxns_rxn_library_sorted.json',\n",
    "    smarts_col = 'reaction_string',\n",
    "    classes_col = 'functional_groups'\n",
    ")\n",
    "\n",
    "building_blocks = dg.datasets.disk_loader(f'{path}/Enamine_Building_Blocks_Stock_262336cmpd_20230630.sdf')\n",
    "fingerprints = dg.datasets.fingerprints(f'{path}/Enamine_Building_Blocks_Stock_262336cmpd_20230630_atoms.fpb')\n",
    "\n",
    "import torch\n",
    "import pyarrow.parquet as pq\n",
    "table = pq.read_table('../../dgym-data/sizes.parquet')[0]\n",
    "sizes = torch.tensor(table.to_numpy())"
   ]
  },
  {
   "cell_type": "markdown",
   "id": "9c898c36-08f7-48c6-ac21-ec0c2b5d6532",
   "metadata": {},
   "source": [
    "Make oracles."
   ]
  },
  {
   "cell_type": "code",
   "execution_count": 38,
   "id": "8c6e4f65-1f25-4f9f-b606-90c8b376dfde",
   "metadata": {
    "tags": []
   },
   "outputs": [],
   "source": [
    "from dgym.envs.oracle import DockingOracle, DGLOracle, RDKitOracle\n",
    "from dgym.envs.utility import ClassicUtilityFunction\n",
    "\n",
    "with open(f'{path}/dockstring_targets/CASP3_conf.txt') as f:\n",
    "    config_ = [r.strip() for r in f.readlines()][:3]\n",
    "    config_ = [c.strip() for term in config_ for c in term.split('=')]\n",
    "    config_ = dict(zip(config_[::2], config_[1::2]))\n",
    "\n",
    "config = {\n",
    "    'size_x': 22.5,\n",
    "    'size_y': 22.5,\n",
    "    'size_z': 22.5,\n",
    "    'search_mode': 'detailed',\n",
    "    'scoring': 'gnina',\n",
    "    'seed': 5,\n",
    "    **config_\n",
    "}\n",
    "\n",
    "docking_oracle = DockingOracle(\n",
    "    'CASP3 affinity',\n",
    "    receptor_path=f'{path}/dockstring_targets/CASP3_target.pdbqt',\n",
    "    config=config\n",
    ")\n",
    "log_P_oracle = RDKitOracle('MolLogP')\n",
    "log_S_oracle = DGLOracle('GCN_canonical_ESOL')\n",
    "\n",
    "# create evaluators\n",
    "docking_cost_function = ClassicUtilityFunction(\n",
    "    docking_oracle,\n",
    "    ideal=(8, 9.5),\n",
    "    acceptable=(7.7, 9.5)\n",
    ")\n",
    "\n",
    "log_P_cost_function = ClassicUtilityFunction(\n",
    "    log_P_oracle,\n",
    "    ideal=(1, 3),\n",
    "    acceptable=(-0.5, 4.5)\n",
    ")\n",
    "\n",
    "log_S_cost_function = ClassicUtilityFunction(\n",
    "    log_S_oracle,\n",
    "    ideal=(-2, 1),\n",
    "    acceptable=(-4, 1)\n",
    ")\n",
    "\n",
    "assays = [docking_oracle, log_P_oracle, log_S_oracle]\n",
    "cost_functions = [docking_cost_function, log_P_cost_function, log_S_cost_function]"
   ]
  },
  {
   "cell_type": "markdown",
   "id": "4b894b54-8315-4583-a6e3-3f7a31bb3e89",
   "metadata": {},
   "source": [
    "Instantiate designer."
   ]
  },
  {
   "cell_type": "code",
   "execution_count": 28,
   "id": "da0ac5c0-9156-4400-a66a-37ca0ad6e6fc",
   "metadata": {
    "tags": []
   },
   "outputs": [],
   "source": [
    "from dgym.envs.designer import Designer, Generator\n",
    "\n",
    "designer = Designer(\n",
    "    Generator(building_blocks, fingerprints, sizes),\n",
    "    reactions,\n",
    "    cache = True\n",
    ")"
   ]
  },
  {
   "cell_type": "markdown",
   "id": "d5930554-2d69-4e7a-a070-aa1fb00fc6ab",
   "metadata": {},
   "source": [
    "Pick 5 random starting hits."
   ]
  },
  {
   "cell_type": "code",
   "execution_count": 29,
   "id": "f07f0b41-8cfb-4b0d-b642-bff1f678c67e",
   "metadata": {
    "tags": []
   },
   "outputs": [],
   "source": [
    "# select first molecule\n",
    "import random\n",
    "def select_molecule(deck):\n",
    "    initial_index = random.randint(0, len(deck) - 1)\n",
    "    initial_molecule = deck[initial_index]\n",
    "    if len(initial_molecule.reactants) == 2 \\\n",
    "        and designer.match_reactions(initial_molecule):\n",
    "        return initial_molecule\n",
    "    else:\n",
    "        return select_molecule(deck)\n",
    "\n",
    "initial_molecules = [select_molecule(deck) for _ in range(5)]\n",
    "initial_library = dg.MoleculeCollection(initial_molecules)\n",
    "initial_library.update_annotations()\n",
    "library = initial_library"
   ]
  },
  {
   "cell_type": "code",
   "execution_count": null,
   "id": "c445fd17-54de-4a23-9a10-b2c05f3ddaef",
   "metadata": {
    "tags": []
   },
   "outputs": [],
   "source": [
    "[cost(library[0]) for cost in cost_functions]"
   ]
  },
  {
   "cell_type": "code",
   "execution_count": 27,
   "id": "2f12c4fd-2db7-42f3-9b9e-da4674dd42f7",
   "metadata": {
    "tags": []
   },
   "outputs": [
    {
     "data": {
      "text/plain": [
       "0.0"
      ]
     },
     "execution_count": 27,
     "metadata": {},
     "output_type": "execute_result"
    }
   ],
   "source": [
    "log_S_cost_function(1)"
   ]
  }
 ],
 "metadata": {
  "kernelspec": {
   "display_name": "Python 3 (ipykernel)",
   "language": "python",
   "name": "python3"
  },
  "language_info": {
   "codemirror_mode": {
    "name": "ipython",
    "version": 3
   },
   "file_extension": ".py",
   "mimetype": "text/x-python",
   "name": "python",
   "nbconvert_exporter": "python",
   "pygments_lexer": "ipython3",
   "version": "3.11.5"
  }
 },
 "nbformat": 4,
 "nbformat_minor": 5
}
