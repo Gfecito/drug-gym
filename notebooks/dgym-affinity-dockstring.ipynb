{
 "cells": [
  {
   "cell_type": "code",
   "execution_count": 1,
   "id": "ce8dbb89-970e-44e4-9208-81012b97c7ab",
   "metadata": {
    "tags": []
   },
   "outputs": [],
   "source": [
    "%reload_ext autoreload\n",
    "%autoreload 2\n",
    "\n",
    "import rdkit\n",
    "rdkit.Chem.Draw.IPythonConsole.ipython_maxProperties = -1\n",
    "\n",
    "import dgym as dg\n",
    "\n",
    "# load all data\n",
    "path = '../../dgym-data'\n",
    "\n",
    "deck = dg.MoleculeCollection.load(\n",
    "    f'{path}/DSi-Poised_Library_annotated.sdf',\n",
    "    reactant_names=['reagsmi1', 'reagsmi2', 'reagsmi3']\n",
    ")\n",
    "\n",
    "reactions = dg.ReactionCollection.from_json(\n",
    "    path = f'{path}/All_Rxns_rxn_library.json',\n",
    "    smarts_col = 'reaction_string',\n",
    "    classes_col = 'functional_groups'\n",
    ")\n",
    "\n",
    "building_blocks = dg.datasets.disk_loader(f'{path}/Enamine_Building_Blocks_Stock_262336cmpd_20230630.sdf')\n",
    "fingerprints = dg.datasets.fingerprints(f'{path}/out/Enamine_Building_Blocks_Stock_262336cmpd_20230630_atoms.fpb')"
   ]
  },
  {
   "cell_type": "markdown",
   "id": "d0d1c445-04a2-4122-a2a9-a4674b0e260c",
   "metadata": {},
   "source": [
    "Working on new docking oracles."
   ]
  },
  {
   "cell_type": "code",
   "execution_count": 345,
   "id": "724ac98f-27af-4c07-af56-f13090606264",
   "metadata": {
    "tags": []
   },
   "outputs": [],
   "source": [
    "from dgym.envs.oracle import DockingOracle\n",
    "from dgym.envs.utility import ClassicUtilityFunction\n",
    "from dgym.envs.designer import Designer, Generator\n",
    "\n",
    "config = {\n",
    "    'center_x': 44.294,\n",
    "    'center_y': 28.123,\n",
    "    'center_z': 2.617,\n",
    "    'size_x': 30.,\n",
    "    'size_y': 30.,\n",
    "    'size_z': 30.,\n",
    "    'exhaustiveness': 64,\n",
    "    'max_step': 20,\n",
    "    'num_modes': 9,\n",
    "    'scoring': 'vinardo',\n",
    "    'refine_step': 3,\n",
    "    'seed': 5\n",
    "}\n",
    "\n",
    "docking_oracle = DockingOracle(\n",
    "    'ADAM17 affinity',\n",
    "    receptor_path=f'../../dgym-data/ADAM17.pdbqt',\n",
    "    config=config\n",
    ")\n",
    "\n",
    "# create evaluators\n",
    "docking_utility = ClassicUtilityFunction(\n",
    "    docking_oracle,\n",
    "    ideal=(8.5, 10_000),\n",
    "    acceptable=(6, 10_000)\n",
    ")"
   ]
  },
  {
   "cell_type": "markdown",
   "id": "d68ab6d5-bbcc-48de-9f51-d909f92264c5",
   "metadata": {},
   "source": [
    "Create selection loop."
   ]
  },
  {
   "cell_type": "code",
   "execution_count": 346,
   "id": "8ead28fb-af8e-4fc8-aef7-58a1436ac335",
   "metadata": {
    "tags": []
   },
   "outputs": [],
   "source": [
    "from tqdm.notebook import tqdm\n",
    "\n",
    "class Experiment:\n",
    "    \n",
    "    def __init__(self, drug_agent, drug_env):\n",
    "        \n",
    "        self.drug_agent = drug_agent\n",
    "        self.drug_env = drug_env\n",
    "    \n",
    "    def run(self, num_trials, progress=False):\n",
    "        \n",
    "        results = []\n",
    "        for trial in tqdm(range(num_trials)):\n",
    "\n",
    "            observations, info = drug_env.reset()\n",
    "\n",
    "            if progress:\n",
    "                pbar = tqdm(total = drug_env.budget)\n",
    "            \n",
    "            while True:\n",
    "                action = drug_agent.act(observations)\n",
    "                observations, _, terminated, truncated, _ = drug_env.step(action)\n",
    "                try:\n",
    "                    print(max(observations.annotations['ADAM17 affinity']))\n",
    "                except:\n",
    "                    pass\n",
    "                \n",
    "                if progress:\n",
    "                    pbar.n = len(drug_env.library.annotated)\n",
    "                    pbar.update()\n",
    "                \n",
    "                if terminated or truncated:\n",
    "                    break\n",
    "\n",
    "            result = {\n",
    "                'trial': trial,\n",
    "                **vars(drug_agent)\n",
    "            }\n",
    "\n",
    "            if terminated:\n",
    "                cost = len(drug_env.library.annotated)\n",
    "                result.update({'cost': cost, 'outcome': 1})\n",
    "\n",
    "            if truncated:\n",
    "                result.update({'outcome': 0})\n",
    "\n",
    "            results.append(result)\n",
    "\n",
    "        return results"
   ]
  },
  {
   "cell_type": "markdown",
   "id": "dc0c785a-8a9d-49d3-b4a9-e6624cdd1e39",
   "metadata": {},
   "source": [
    "Run experiment."
   ]
  },
  {
   "cell_type": "code",
   "execution_count": 338,
   "id": "4ce4dd16-5326-4c6a-b845-ccf782dee554",
   "metadata": {
    "tags": []
   },
   "outputs": [
    {
     "data": {
      "application/vnd.jupyter.widget-view+json": {
       "model_id": "91e1e027fba34553a1064e5f80b45be3",
       "version_major": 2,
       "version_minor": 0
      },
      "text/plain": [
       "  0%|          | 0/1 [00:00<?, ?it/s]"
      ]
     },
     "metadata": {},
     "output_type": "display_data"
    },
    {
     "data": {
      "application/vnd.jupyter.widget-view+json": {
       "model_id": "7e0c5a17834d49a0b66f6d410f060a5d",
       "version_major": 2,
       "version_minor": 0
      },
      "text/plain": [
       "  0%|          | 0/50 [00:00<?, ?it/s]"
      ]
     },
     "metadata": {},
     "output_type": "display_data"
    },
    {
     "name": "stdout",
     "output_type": "stream",
     "text": [
      "[0]\n",
      "[8, 18, 0, 17, 7]\n",
      "6.305940842185261\n",
      "[8, 18, 0, 17, 7]\n",
      "6.305940842185261\n",
      "[62, 80, 119, 67, 83]\n",
      "6.815896953659575\n",
      "[62, 80, 119, 67, 83]\n",
      "6.815896953659575\n",
      "[62, 80, 119, 67, 210]\n",
      "6.815896953659575\n",
      "[62, 80, 119, 67, 210]\n",
      "6.815896953659575\n",
      "[206, 62, 289, 80, 318]\n",
      "6.815896953659575\n",
      "[206, 62, 289, 80, 318]\n",
      "6.815896953659575\n",
      "[328, 330, 332, 340, 62]\n",
      "6.815896953659575\n",
      "[340, 330, 328, 206, 332]\n",
      "6.815896953659575\n",
      "Unexpected exception formatting exception. Falling back to standard exception\n"
     ]
    },
    {
     "name": "stderr",
     "output_type": "stream",
     "text": [
      "Traceback (most recent call last):\n",
      "  File \"/home/mrr/miniconda3/envs/chodera/lib/python3.11/site-packages/IPython/core/interactiveshell.py\", line 3508, in run_code\n",
      "    exec(code_obj, self.user_global_ns, self.user_ns)\n",
      "  File \"/tmp/ipykernel_699674/2601469995.py\", line 38, in <module>\n",
      "    result = experiment.run(1, progress=True)\n",
      "             ^^^^^^^^^^^^^^^^^^^^^^^^^^^^^^^^\n",
      "  File \"/tmp/ipykernel_699674/2638332505.py\", line 21, in run\n",
      "    action = drug_agent.act(observations)\n",
      "             ^^^^^^^^^^^^^^^^^^^^^^^^^^^^\n",
      "  File \"/home/mrr/dev/chodera/dgym/dgym/agents/drug_agent.py\", line 47, in act\n",
      "    utility = self.policy(observations)\n",
      "              ^^^^^^^^^^^^^^^^^^^^^^^^^\n",
      "  File \"/home/mrr/dev/chodera/dgym/dgym/agents/drug_agent.py\", line 92, in policy\n",
      "    return self.utility_function(observations)\n",
      "           ^^^^^^^^^^^^^^^^^^^^^^^^^^^^^^^^^^^\n",
      "  File \"/home/mrr/dev/chodera/dgym/dgym/envs/utility.py\", line 16, in __call__\n",
      "    return self.score(self.oracle(molecules))\n",
      "                      ^^^^^^^^^^^^^^^^^^^^^^\n",
      "  File \"/home/mrr/dev/chodera/dgym/dgym/envs/oracle.py\", line 29, in __call__\n",
      "    return self.get_predictions(molecules, **kwargs)\n",
      "           ^^^^^^^^^^^^^^^^^^^^^^^^^^^^^^^^^^^^^^^^^\n",
      "  File \"/home/mrr/dev/chodera/dgym/dgym/envs/oracle.py\", line 49, in get_predictions\n",
      "    smiles, scores = self.predict(uncached_molecules, **kwargs)\n",
      "                     ^^^^^^^^^^^^^^^^^^^^^^^^^^^^^^^^^^^^^^^^^^\n",
      "  File \"/home/mrr/dev/chodera/dgym/dgym/envs/oracle.py\", line 147, in predict\n",
      "    resp = self._dock(command)\n",
      "           ^^^^^^^^^^^^^^^^^^^\n",
      "  File \"/home/mrr/dev/chodera/dgym/dgym/envs/oracle.py\", line 209, in _dock\n",
      "    return subprocess.run(\n",
      "           ^^^^^^^^^^^^^^^\n",
      "  File \"/home/mrr/miniconda3/envs/chodera/lib/python3.11/subprocess.py\", line 550, in run\n",
      "    stdout, stderr = process.communicate(input, timeout=timeout)\n",
      "                     ^^^^^^^^^^^^^^^^^^^^^^^^^^^^^^^^^^^^^^^^^^^\n",
      "  File \"/home/mrr/miniconda3/envs/chodera/lib/python3.11/subprocess.py\", line 1209, in communicate\n",
      "    stdout, stderr = self._communicate(input, endtime, timeout)\n",
      "                     ^^^^^^^^^^^^^^^^^^^^^^^^^^^^^^^^^^^^^^^^^^\n",
      "  File \"/home/mrr/miniconda3/envs/chodera/lib/python3.11/subprocess.py\", line 2108, in _communicate\n",
      "    ready = selector.select(timeout)\n",
      "            ^^^^^^^^^^^^^^^^^^^^^^^^\n",
      "  File \"/home/mrr/miniconda3/envs/chodera/lib/python3.11/selectors.py\", line 415, in select\n",
      "    fd_event_list = self._selector.poll(timeout)\n",
      "                    ^^^^^^^^^^^^^^^^^^^^^^^^^^^^\n",
      "KeyboardInterrupt\n",
      "\n",
      "During handling of the above exception, another exception occurred:\n",
      "\n",
      "Traceback (most recent call last):\n",
      "  File \"/home/mrr/miniconda3/envs/chodera/lib/python3.11/site-packages/IPython/core/interactiveshell.py\", line 2105, in showtraceback\n",
      "    stb = self.InteractiveTB.structured_traceback(\n",
      "          ^^^^^^^^^^^^^^^^^^^^^^^^^^^^^^^^^^^^^^^^\n",
      "  File \"/home/mrr/miniconda3/envs/chodera/lib/python3.11/site-packages/IPython/core/ultratb.py\", line 1396, in structured_traceback\n",
      "    return FormattedTB.structured_traceback(\n",
      "           ^^^^^^^^^^^^^^^^^^^^^^^^^^^^^^^^^\n",
      "  File \"/home/mrr/miniconda3/envs/chodera/lib/python3.11/site-packages/IPython/core/ultratb.py\", line 1287, in structured_traceback\n",
      "    return VerboseTB.structured_traceback(\n",
      "           ^^^^^^^^^^^^^^^^^^^^^^^^^^^^^^^\n",
      "  File \"/home/mrr/miniconda3/envs/chodera/lib/python3.11/site-packages/IPython/core/ultratb.py\", line 1140, in structured_traceback\n",
      "    formatted_exception = self.format_exception_as_a_whole(etype, evalue, etb, number_of_lines_of_context,\n",
      "                          ^^^^^^^^^^^^^^^^^^^^^^^^^^^^^^^^^^^^^^^^^^^^^^^^^^^^^^^^^^^^^^^^^^^^^^^^^^^^^^^^\n",
      "  File \"/home/mrr/miniconda3/envs/chodera/lib/python3.11/site-packages/IPython/core/ultratb.py\", line 1055, in format_exception_as_a_whole\n",
      "    frames.append(self.format_record(record))\n",
      "                  ^^^^^^^^^^^^^^^^^^^^^^^^^^\n",
      "  File \"/home/mrr/miniconda3/envs/chodera/lib/python3.11/site-packages/IPython/core/ultratb.py\", line 955, in format_record\n",
      "    frame_info.lines, Colors, self.has_colors, lvals\n",
      "    ^^^^^^^^^^^^^^^^\n",
      "  File \"/home/mrr/miniconda3/envs/chodera/lib/python3.11/site-packages/IPython/core/ultratb.py\", line 778, in lines\n",
      "    return self._sd.lines\n",
      "           ^^^^^^^^^^^^^^\n",
      "  File \"/home/mrr/miniconda3/envs/chodera/lib/python3.11/site-packages/stack_data/utils.py\", line 145, in cached_property_wrapper\n",
      "    value = obj.__dict__[self.func.__name__] = self.func(obj)\n",
      "                                               ^^^^^^^^^^^^^^\n",
      "  File \"/home/mrr/miniconda3/envs/chodera/lib/python3.11/site-packages/stack_data/core.py\", line 698, in lines\n",
      "    pieces = self.included_pieces\n",
      "             ^^^^^^^^^^^^^^^^^^^^\n",
      "  File \"/home/mrr/miniconda3/envs/chodera/lib/python3.11/site-packages/stack_data/utils.py\", line 145, in cached_property_wrapper\n",
      "    value = obj.__dict__[self.func.__name__] = self.func(obj)\n",
      "                                               ^^^^^^^^^^^^^^\n",
      "  File \"/home/mrr/miniconda3/envs/chodera/lib/python3.11/site-packages/stack_data/core.py\", line 649, in included_pieces\n",
      "    pos = scope_pieces.index(self.executing_piece)\n",
      "                             ^^^^^^^^^^^^^^^^^^^^\n",
      "  File \"/home/mrr/miniconda3/envs/chodera/lib/python3.11/site-packages/stack_data/utils.py\", line 145, in cached_property_wrapper\n",
      "    value = obj.__dict__[self.func.__name__] = self.func(obj)\n",
      "                                               ^^^^^^^^^^^^^^\n",
      "  File \"/home/mrr/miniconda3/envs/chodera/lib/python3.11/site-packages/stack_data/core.py\", line 628, in executing_piece\n",
      "    return only(\n",
      "           ^^^^^\n",
      "  File \"/home/mrr/miniconda3/envs/chodera/lib/python3.11/site-packages/executing/executing.py\", line 164, in only\n",
      "    raise NotOneValueFound('Expected one value, found 0')\n",
      "executing.executing.NotOneValueFound: Expected one value, found 0\n"
     ]
    }
   ],
   "source": [
    "from dgym.molecule import Molecule\n",
    "from dgym.envs.drug_env import DrugEnv\n",
    "from dgym.agents import SequentialDrugAgent\n",
    "from dgym.agents.exploration import EpsilonGreedy\n",
    "\n",
    "molecule = Molecule(\n",
    "    'Cc1cccc(-c2cccc(C(=O)NCc3ccc(F)cc3)c2)c1',\n",
    "    reactants = ['NCc1ccc(F)cc1', 'Cc1cccc(-c2cccc(C(=O)O)c2)c1']\n",
    ")\n",
    "\n",
    "designer = Designer(\n",
    "    Generator(building_blocks, fingerprints),\n",
    "    reactions,\n",
    "    cache = True\n",
    ")\n",
    "\n",
    "drug_env = DrugEnv(\n",
    "    designer,\n",
    "    library = dg.collection.MoleculeCollection([molecule]).update_annotations(),\n",
    "    assays = [docking_utility.oracle],\n",
    "    budget = 50,\n",
    "    utility_function = docking_utility,\n",
    ")\n",
    "\n",
    "sequence = [\n",
    "    {'name': 'ideate', 'parameters': {'temperature': 0.1, 'size': 10}},\n",
    "    {'name': 'ADAM17 affinity'},\n",
    "]\n",
    "\n",
    "drug_agent = SequentialDrugAgent(\n",
    "    sequence = sequence,\n",
    "    utility_function = docking_utility,\n",
    "    exploration_strategy = EpsilonGreedy(epsilon = 0.0),\n",
    "    branch_factor = 10\n",
    ")\n",
    "\n",
    "experiment = Experiment(drug_agent, drug_env)\n",
    "result = experiment.run(1, progress=True)"
   ]
  },
  {
   "cell_type": "code",
   "execution_count": 339,
   "id": "d569844e-d508-4107-8647-addedf2e342c",
   "metadata": {
    "tags": []
   },
   "outputs": [
    {
     "name": "stdout",
     "output_type": "stream",
     "text": [
      "CPU times: user 332 µs, sys: 6 µs, total: 338 µs\n",
      "Wall time: 376 µs\n"
     ]
    },
    {
     "data": {
      "text/plain": [
       "[6.114480069178815,\n",
       " 6.062978674891563,\n",
       " 6.305940842185261,\n",
       " 6.087282696254456,\n",
       " 6.118788234251968,\n",
       " 6.815896953659575,\n",
       " 6.457235450167841,\n",
       " 6.559720191056926,\n",
       " 6.331973570279699,\n",
       " 6.5005375603518605,\n",
       " nan,\n",
       " 6.420119513132132,\n",
       " 6.594542451437854,\n",
       " 6.555594529137797,\n",
       " nan,\n",
       " nan,\n",
       " nan,\n",
       " nan]"
      ]
     },
     "execution_count": 339,
     "metadata": {},
     "output_type": "execute_result"
    }
   ],
   "source": [
    "%%time\n",
    "docking_utility.oracle(drug_env.library.annotated)"
   ]
  },
  {
   "cell_type": "code",
   "execution_count": 340,
   "id": "5342effd-9f9d-4617-bcf3-1753b502846c",
   "metadata": {
    "tags": []
   },
   "outputs": [
    {
     "name": "stderr",
     "output_type": "stream",
     "text": [
      "/home/mrr/miniconda3/envs/chodera/lib/python3.11/site-packages/seaborn/axisgrid.py:118: UserWarning: The figure layout has changed to tight\n",
      "  self._figure.tight_layout(*args, **kwargs)\n"
     ]
    },
    {
     "data": {
      "text/plain": [
       "<seaborn.axisgrid.FacetGrid at 0x7f5ec9649810>"
      ]
     },
     "execution_count": 340,
     "metadata": {},
     "output_type": "execute_result"
    },
    {
     "data": {
      "image/png": "[encoded data removed]",
      "text/plain": [
       "<Figure size 558.875x500 with 1 Axes>"
      ]
     },
     "metadata": {},
     "output_type": "display_data"
    }
   ],
   "source": [
    "sns.displot(docking_utility.oracle.cache.values())"
   ]
  },
  {
   "cell_type": "code",
   "execution_count": 344,
   "id": "e306249a-57c2-426e-b9d0-f150c2aa42a9",
   "metadata": {
    "tags": []
   },
   "outputs": [
    {
     "data": {
      "text/plain": [
       "<Axes: >"
      ]
     },
     "execution_count": 344,
     "metadata": {},
     "output_type": "execute_result"
    },
    {
     "data": {
      "image/png": "[encoded data removed]",
      "text/plain": [
       "<Figure size 640x480 with 1 Axes>"
      ]
     },
     "metadata": {},
     "output_type": "display_data"
    }
   ],
   "source": [
    "import seaborn as sns\n",
    "\n",
    "annotated = drug_env.library.annotations['ADAM17 affinity'].dropna().index\n",
    "annotated_molecules = drug_env.library[annotated]\n",
    "sns.stripplot(\n",
    "    x = [molecule.design_cycle, *[a.design_cycle for a in annotated_molecules]],\n",
    "    y = docking_utility.oracle([molecule, *annotated_molecules]),\n",
    ")"
   ]
  }
 ],
 "metadata": {
  "kernelspec": {
   "display_name": "Python 3 (ipykernel)",
   "language": "python",
   "name": "python3"
  },
  "language_info": {
   "codemirror_mode": {
    "name": "ipython",
    "version": 3
   },
   "file_extension": ".py",
   "mimetype": "text/x-python",
   "name": "python",
   "nbconvert_exporter": "python",
   "pygments_lexer": "ipython3",
   "version": "3.11.5"
  }
 },
 "nbformat": 4,
 "nbformat_minor": 5
}
