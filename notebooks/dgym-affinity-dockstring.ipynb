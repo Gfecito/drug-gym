{
 "cells": [
  {
   "cell_type": "code",
   "execution_count": 5,
   "id": "ce8dbb89-970e-44e4-9208-81012b97c7ab",
   "metadata": {
    "tags": []
   },
   "outputs": [],
   "source": [
    "%reload_ext autoreload\n",
    "%autoreload 2\n",
    "\n",
    "import rdkit\n",
    "rdkit.Chem.Draw.IPythonConsole.ipython_maxProperties = -1\n",
    "\n",
    "import dgym as dg\n",
    "\n",
    "# load all data\n",
    "path = '../../dgym-data'\n",
    "\n",
    "deck = dg.MoleculeCollection.load(\n",
    "    f'{path}/DSi-Poised_Library_annotated.sdf',\n",
    "    reactant_names=['reagsmi1', 'reagsmi2', 'reagsmi3']\n",
    ")\n",
    "\n",
    "reactions = dg.ReactionCollection.from_json(\n",
    "    path = f'{path}/All_Rxns_rxn_library.json',\n",
    "    smarts_col = 'reaction_string',\n",
    "    classes_col = 'functional_groups'\n",
    ")\n",
    "\n",
    "building_blocks = dg.datasets.disk_loader(f'{path}/Enamine_Building_Blocks_Stock_262336cmpd_20230630.sdf')\n",
    "fingerprints = dg.datasets.fingerprints(f'{path}/out/Enamine_Building_Blocks_Stock_262336cmpd_20230630_atoms.fpb')"
   ]
  },
  {
   "cell_type": "markdown",
   "id": "d0d1c445-04a2-4122-a2a9-a4674b0e260c",
   "metadata": {},
   "source": [
    "Working on new docking oracles."
   ]
  },
  {
   "cell_type": "code",
   "execution_count": 6,
   "id": "724ac98f-27af-4c07-af56-f13090606264",
   "metadata": {
    "tags": []
   },
   "outputs": [],
   "source": [
    "from dgym.envs.oracle import DockingOracle\n",
    "from dgym.envs.utility import ClassicUtilityFunction\n",
    "\n",
    "config = {\n",
    "    'center_x': 44.294,\n",
    "    'center_y': 28.123,\n",
    "    'center_z': 2.617,\n",
    "    'size_x': 30.,\n",
    "    'size_y': 30.,\n",
    "    'size_z': 30.,\n",
    "    'exhaustiveness': 128,\n",
    "    'max_step': 20,\n",
    "    'num_modes': 9,\n",
    "    'scoring': 'vinardo',\n",
    "    'refine_step': 3,\n",
    "    'seed': 5\n",
    "}\n",
    "\n",
    "docking_oracle = DockingOracle(\n",
    "    'ADAM17 affinity',\n",
    "    receptor_path=f'../../dgym-data/ADAM17.pdbqt',\n",
    "    config=config\n",
    ")\n",
    "\n",
    "# create evaluators\n",
    "docking_utility = ClassicUtilityFunction(\n",
    "    docking_oracle,\n",
    "    ideal=(8.5, 10_000),\n",
    "    acceptable=(6, 10_000)\n",
    ")"
   ]
  },
  {
   "cell_type": "markdown",
   "id": "d68ab6d5-bbcc-48de-9f51-d909f92264c5",
   "metadata": {},
   "source": [
    "Create selection loop."
   ]
  },
  {
   "cell_type": "code",
   "execution_count": 7,
   "id": "8ead28fb-af8e-4fc8-aef7-58a1436ac335",
   "metadata": {
    "tags": []
   },
   "outputs": [],
   "source": [
    "from tqdm.notebook import tqdm\n",
    "\n",
    "class Experiment:\n",
    "    \n",
    "    def __init__(self, drug_agent, drug_env):\n",
    "        \n",
    "        self.drug_agent = drug_agent\n",
    "        self.drug_env = drug_env\n",
    "    \n",
    "    def run(self, num_trials, progress=False):\n",
    "        \n",
    "        results = []\n",
    "        for trial in tqdm(range(num_trials)):\n",
    "\n",
    "            observations, info = drug_env.reset()\n",
    "\n",
    "            if progress:\n",
    "                pbar = tqdm(total = drug_env.budget)\n",
    "            \n",
    "            while True:\n",
    "                action = drug_agent.act(observations)\n",
    "                observations, _, terminated, truncated, _ = drug_env.step(action)\n",
    "                try:\n",
    "                    print(np.nanmax(observations.annotations['ADAM17 affinity']))\n",
    "                except:\n",
    "                    pass\n",
    "                \n",
    "                if progress:\n",
    "                    pbar.n = len(drug_env.library.annotated)\n",
    "                    pbar.update()\n",
    "                \n",
    "                if terminated or truncated:\n",
    "                    break\n",
    "\n",
    "            result = {\n",
    "                'trial': trial,\n",
    "                **vars(drug_agent)\n",
    "            }\n",
    "\n",
    "            if terminated:\n",
    "                cost = len(drug_env.library.annotated)\n",
    "                result.update({'cost': cost, 'outcome': 1})\n",
    "\n",
    "            if truncated:\n",
    "                result.update({'outcome': 0})\n",
    "\n",
    "            results.append(result)\n",
    "\n",
    "        return results"
   ]
  },
  {
   "cell_type": "markdown",
   "id": "dc0c785a-8a9d-49d3-b4a9-e6624cdd1e39",
   "metadata": {},
   "source": [
    "Run experiment."
   ]
  },
  {
   "cell_type": "code",
   "execution_count": 9,
   "id": "49012a50-b7d6-4183-b4f8-26774769abe4",
   "metadata": {
    "tags": []
   },
   "outputs": [],
   "source": [
    "import numpy as np\n",
    "best = np.argsort(docking_utility.oracle(deck))[-5:]\n",
    "best_molecules = deck[best]"
   ]
  },
  {
   "cell_type": "code",
   "execution_count": 10,
   "id": "4ce4dd16-5326-4c6a-b845-ccf782dee554",
   "metadata": {
    "tags": []
   },
   "outputs": [
    {
     "data": {
      "application/vnd.jupyter.widget-view+json": {
       "model_id": "439af48b247a4ef0ac5c8d4310c4fe35",
       "version_major": 2,
       "version_minor": 0
      },
      "text/plain": [
       "  0%|          | 0/1 [00:00<?, ?it/s]"
      ]
     },
     "metadata": {},
     "output_type": "display_data"
    },
    {
     "data": {
      "application/vnd.jupyter.widget-view+json": {
       "model_id": "ab298118d9fb4f9dbb427aff9aa7597c",
       "version_major": 2,
       "version_minor": 0
      },
      "text/plain": [
       "  0%|          | 0/100 [00:00<?, ?it/s]"
      ]
     },
     "metadata": {},
     "output_type": "display_data"
    },
    {
     "name": "stdout",
     "output_type": "stream",
     "text": [
      "[4, 3, 2, 1, 0]\n",
      "[27, 14, 6, 30, 15]\n",
      "6.209762467614345\n",
      "[27, 14, 6, 30, 15]\n",
      "6.209762467614345\n",
      "[127, 27, 142, 14, 138]\n",
      "6.428591315076909\n",
      "[127, 27, 142, 14, 138]\n",
      "6.428591315076909\n",
      "[281, 127, 276, 269, 27]\n",
      "6.840309801753892\n",
      "[281, 127, 276, 269, 27]\n",
      "6.840309801753892\n",
      "[281, 127, 276, 269, 27]\n",
      "6.840309801753892\n",
      "[281, 127, 276, 269, 27]\n",
      "6.840309801753892\n",
      "[281, 430, 413, 328, 127]\n",
      "6.840309801753892\n",
      "[281, 430, 413, 328, 127]\n",
      "6.840309801753892\n",
      "[281, 430, 413, 328, 475]\n",
      "6.840309801753892\n",
      "[281, 430, 413, 328, 475]\n",
      "6.840309801753892\n",
      "[618, 611, 613, 281, 584]\n",
      "7.078905812969729\n",
      "[618, 611, 613, 281, 584]\n",
      "7.078905812969729\n",
      "[618, 611, 613, 281, 584]\n",
      "7.078905812969729\n",
      "[618, 611, 613, 281, 584]\n",
      "7.078905812969729\n",
      "[632, 733, 618, 611, 752]\n",
      "7.133069658917887\n",
      "[632, 733, 618, 611, 752]\n",
      "7.133069658917887\n",
      "[632, 733, 618, 611, 752]\n",
      "7.133069658917887\n",
      "[632, 733, 618, 611, 752]\n",
      "7.133069658917887\n",
      "[632, 733, 618, 611, 752]\n",
      "7.133069658917887\n",
      "[632, 733, 618, 611, 752]\n",
      "7.133069658917887\n",
      "[632, 733, 618, 611, 752]\n",
      "7.133069658917887\n",
      "[632, 733, 618, 611, 752]\n",
      "7.133069658917887\n",
      "[1082, 632, 733, 618, 611]\n",
      "7.267434813696992\n",
      "[1082, 632, 733, 618, 611]\n",
      "7.267434813696992\n",
      "[1082, 632, 733, 618, 611]\n",
      "7.267434813696992\n",
      "[1082, 632, 733, 618, 611]\n",
      "7.267434813696992\n",
      "[1082, 1210, 632, 733, 618]\n",
      "7.267434813696992\n",
      "[1082, 1210, 632, 733, 618]\n",
      "7.267434813696992\n",
      "[1082, 1210, 632, 733, 618]\n",
      "7.267434813696992\n",
      "[1082, 1210, 632, 733, 618]\n",
      "7.267434813696992\n"
     ]
    },
    {
     "ename": "KeyboardInterrupt",
     "evalue": "",
     "output_type": "error",
     "traceback": [
      "\u001b[0;31m---------------------------------------------------------------------------\u001b[0m",
      "\u001b[0;31mKeyboardInterrupt\u001b[0m                         Traceback (most recent call last)",
      "Cell \u001b[0;32mIn[10], line 41\u001b[0m\n\u001b[1;32m     33\u001b[0m drug_agent \u001b[38;5;241m=\u001b[39m SequentialDrugAgent(\n\u001b[1;32m     34\u001b[0m     sequence \u001b[38;5;241m=\u001b[39m sequence,\n\u001b[1;32m     35\u001b[0m     utility_function \u001b[38;5;241m=\u001b[39m docking_utility,\n\u001b[1;32m     36\u001b[0m     exploration_strategy \u001b[38;5;241m=\u001b[39m EpsilonGreedy(epsilon \u001b[38;5;241m=\u001b[39m \u001b[38;5;241m0.0\u001b[39m),\n\u001b[1;32m     37\u001b[0m     branch_factor \u001b[38;5;241m=\u001b[39m \u001b[38;5;241m5\u001b[39m\n\u001b[1;32m     38\u001b[0m )\n\u001b[1;32m     40\u001b[0m experiment \u001b[38;5;241m=\u001b[39m Experiment(drug_agent, drug_env)\n\u001b[0;32m---> 41\u001b[0m result \u001b[38;5;241m=\u001b[39m experiment\u001b[38;5;241m.\u001b[39mrun(\u001b[38;5;241m1\u001b[39m, progress\u001b[38;5;241m=\u001b[39m\u001b[38;5;28;01mTrue\u001b[39;00m)\n",
      "Cell \u001b[0;32mIn[7], line 21\u001b[0m, in \u001b[0;36mExperiment.run\u001b[0;34m(self, num_trials, progress)\u001b[0m\n\u001b[1;32m     18\u001b[0m     pbar \u001b[38;5;241m=\u001b[39m tqdm(total \u001b[38;5;241m=\u001b[39m drug_env\u001b[38;5;241m.\u001b[39mbudget)\n\u001b[1;32m     20\u001b[0m \u001b[38;5;28;01mwhile\u001b[39;00m \u001b[38;5;28;01mTrue\u001b[39;00m:\n\u001b[0;32m---> 21\u001b[0m     action \u001b[38;5;241m=\u001b[39m drug_agent\u001b[38;5;241m.\u001b[39mact(observations)\n\u001b[1;32m     22\u001b[0m     observations, _, terminated, truncated, _ \u001b[38;5;241m=\u001b[39m drug_env\u001b[38;5;241m.\u001b[39mstep(action)\n\u001b[1;32m     23\u001b[0m     \u001b[38;5;28;01mtry\u001b[39;00m:\n",
      "File \u001b[0;32m~/dev/chodera/dgym/dgym/agents/drug_agent.py:47\u001b[0m, in \u001b[0;36mDrugAgent.act\u001b[0;34m(self, observations, mask)\u001b[0m\n\u001b[1;32m     44\u001b[0m     indices \u001b[38;5;241m=\u001b[39m \u001b[38;5;28mlist\u001b[39m(\u001b[38;5;28mrange\u001b[39m(\u001b[38;5;28mlen\u001b[39m(observations)))\n\u001b[1;32m     46\u001b[0m \u001b[38;5;66;03m# Extract action utility from the policy\u001b[39;00m\n\u001b[0;32m---> 47\u001b[0m utility \u001b[38;5;241m=\u001b[39m \u001b[38;5;28mself\u001b[39m\u001b[38;5;241m.\u001b[39mpolicy(observations)\n\u001b[1;32m     49\u001b[0m \u001b[38;5;66;03m# Apply negative bias to utility of masked actions (True = valid)\u001b[39;00m\n\u001b[1;32m     50\u001b[0m \u001b[38;5;28;01mif\u001b[39;00m mask:\n",
      "File \u001b[0;32m~/dev/chodera/dgym/dgym/agents/drug_agent.py:92\u001b[0m, in \u001b[0;36mSequentialDrugAgent.policy\u001b[0;34m(self, observations)\u001b[0m\n\u001b[1;32m     89\u001b[0m \u001b[38;5;250m\u001b[39m\u001b[38;5;124;03m\"\"\"\u001b[39;00m\n\u001b[1;32m     90\u001b[0m \u001b[38;5;124;03m\"\"\"\u001b[39;00m\n\u001b[1;32m     91\u001b[0m \u001b[38;5;66;03m# convert scores to utility\u001b[39;00m\n\u001b[0;32m---> 92\u001b[0m \u001b[38;5;28;01mreturn\u001b[39;00m \u001b[38;5;28mself\u001b[39m\u001b[38;5;241m.\u001b[39mutility_function(observations)\n",
      "File \u001b[0;32m~/dev/chodera/dgym/dgym/envs/utility.py:16\u001b[0m, in \u001b[0;36mUtilityFunction.__call__\u001b[0;34m(self, molecules)\u001b[0m\n\u001b[1;32m     15\u001b[0m \u001b[38;5;28;01mdef\u001b[39;00m \u001b[38;5;21m__call__\u001b[39m(\u001b[38;5;28mself\u001b[39m, molecules):\n\u001b[0;32m---> 16\u001b[0m     \u001b[38;5;28;01mreturn\u001b[39;00m \u001b[38;5;28mself\u001b[39m\u001b[38;5;241m.\u001b[39mscore(\u001b[38;5;28mself\u001b[39m\u001b[38;5;241m.\u001b[39moracle(molecules))\n",
      "File \u001b[0;32m~/dev/chodera/dgym/dgym/envs/oracle.py:29\u001b[0m, in \u001b[0;36mOracle.__call__\u001b[0;34m(self, molecules, **kwargs)\u001b[0m\n\u001b[1;32m     28\u001b[0m \u001b[38;5;28;01mdef\u001b[39;00m \u001b[38;5;21m__call__\u001b[39m(\u001b[38;5;28mself\u001b[39m, molecules: Union[MoleculeCollection, \u001b[38;5;28mlist\u001b[39m], \u001b[38;5;241m*\u001b[39m\u001b[38;5;241m*\u001b[39mkwargs):\n\u001b[0;32m---> 29\u001b[0m     \u001b[38;5;28;01mreturn\u001b[39;00m \u001b[38;5;28mself\u001b[39m\u001b[38;5;241m.\u001b[39mget_predictions(molecules, \u001b[38;5;241m*\u001b[39m\u001b[38;5;241m*\u001b[39mkwargs)\n",
      "File \u001b[0;32m~/dev/chodera/dgym/dgym/envs/oracle.py:49\u001b[0m, in \u001b[0;36mOracle.get_predictions\u001b[0;34m(self, molecules, **kwargs)\u001b[0m\n\u001b[1;32m     45\u001b[0m not_in_cache \u001b[38;5;241m=\u001b[39m \u001b[38;5;28;01mlambda\u001b[39;00m m: m\u001b[38;5;241m.\u001b[39msmiles \u001b[38;5;129;01mnot\u001b[39;00m \u001b[38;5;129;01min\u001b[39;00m \u001b[38;5;28mself\u001b[39m\u001b[38;5;241m.\u001b[39mcache\n\u001b[1;32m     46\u001b[0m \u001b[38;5;28;01mif\u001b[39;00m uncached_molecules \u001b[38;5;241m:=\u001b[39m \u001b[38;5;28mset\u001b[39m(\u001b[38;5;28mfilter\u001b[39m(not_in_cache, molecules)):\n\u001b[1;32m     47\u001b[0m \n\u001b[1;32m     48\u001b[0m     \u001b[38;5;66;03m# make predictions\u001b[39;00m\n\u001b[0;32m---> 49\u001b[0m     smiles, scores \u001b[38;5;241m=\u001b[39m \u001b[38;5;28mself\u001b[39m\u001b[38;5;241m.\u001b[39mpredict(uncached_molecules, \u001b[38;5;241m*\u001b[39m\u001b[38;5;241m*\u001b[39mkwargs)\n\u001b[1;32m     51\u001b[0m     \u001b[38;5;66;03m# cache results\u001b[39;00m\n\u001b[1;32m     52\u001b[0m     \u001b[38;5;28mself\u001b[39m\u001b[38;5;241m.\u001b[39mcache\u001b[38;5;241m.\u001b[39mupdate(\u001b[38;5;28mzip\u001b[39m(smiles, scores))\n",
      "File \u001b[0;32m~/dev/chodera/dgym/dgym/envs/oracle.py:147\u001b[0m, in \u001b[0;36mDockingOracle.predict\u001b[0;34m(self, molecules, path, units)\u001b[0m\n\u001b[1;32m    144\u001b[0m command \u001b[38;5;241m=\u001b[39m \u001b[38;5;28mself\u001b[39m\u001b[38;5;241m.\u001b[39m_prepare_command(\u001b[38;5;28mself\u001b[39m\u001b[38;5;241m.\u001b[39mconfig, directory)\n\u001b[1;32m    146\u001b[0m \u001b[38;5;66;03m# run docking\u001b[39;00m\n\u001b[0;32m--> 147\u001b[0m resp \u001b[38;5;241m=\u001b[39m \u001b[38;5;28mself\u001b[39m\u001b[38;5;241m.\u001b[39m_dock(command)\n\u001b[1;32m    149\u001b[0m \u001b[38;5;66;03m# gather results\u001b[39;00m\n\u001b[1;32m    150\u001b[0m smiles, scores \u001b[38;5;241m=\u001b[39m \u001b[38;5;28mself\u001b[39m\u001b[38;5;241m.\u001b[39m_gather_results(directory)\n",
      "File \u001b[0;32m~/dev/chodera/dgym/dgym/envs/oracle.py:209\u001b[0m, in \u001b[0;36mDockingOracle._dock\u001b[0;34m(self, command)\u001b[0m\n\u001b[1;32m    207\u001b[0m \u001b[38;5;28;01mdef\u001b[39;00m \u001b[38;5;21m_dock\u001b[39m(\u001b[38;5;28mself\u001b[39m, command: \u001b[38;5;28mstr\u001b[39m):\n\u001b[1;32m    208\u001b[0m     \u001b[38;5;28;01mimport\u001b[39;00m \u001b[38;5;21;01msubprocess\u001b[39;00m\n\u001b[0;32m--> 209\u001b[0m     \u001b[38;5;28;01mreturn\u001b[39;00m subprocess\u001b[38;5;241m.\u001b[39mrun(\n\u001b[1;32m    210\u001b[0m         command,\n\u001b[1;32m    211\u001b[0m         shell\u001b[38;5;241m=\u001b[39m\u001b[38;5;28;01mTrue\u001b[39;00m, \n\u001b[1;32m    212\u001b[0m         stdout\u001b[38;5;241m=\u001b[39msubprocess\u001b[38;5;241m.\u001b[39mPIPE,\n\u001b[1;32m    213\u001b[0m         stderr\u001b[38;5;241m=\u001b[39msubprocess\u001b[38;5;241m.\u001b[39mPIPE, \n\u001b[1;32m    214\u001b[0m         encoding\u001b[38;5;241m=\u001b[39m\u001b[38;5;124m'\u001b[39m\u001b[38;5;124mutf-8\u001b[39m\u001b[38;5;124m'\u001b[39m\n\u001b[1;32m    215\u001b[0m     )\n",
      "File \u001b[0;32m~/miniconda3/envs/chodera/lib/python3.11/subprocess.py:550\u001b[0m, in \u001b[0;36mrun\u001b[0;34m(input, capture_output, timeout, check, *popenargs, **kwargs)\u001b[0m\n\u001b[1;32m    548\u001b[0m \u001b[38;5;28;01mwith\u001b[39;00m Popen(\u001b[38;5;241m*\u001b[39mpopenargs, \u001b[38;5;241m*\u001b[39m\u001b[38;5;241m*\u001b[39mkwargs) \u001b[38;5;28;01mas\u001b[39;00m process:\n\u001b[1;32m    549\u001b[0m     \u001b[38;5;28;01mtry\u001b[39;00m:\n\u001b[0;32m--> 550\u001b[0m         stdout, stderr \u001b[38;5;241m=\u001b[39m process\u001b[38;5;241m.\u001b[39mcommunicate(\u001b[38;5;28minput\u001b[39m, timeout\u001b[38;5;241m=\u001b[39mtimeout)\n\u001b[1;32m    551\u001b[0m     \u001b[38;5;28;01mexcept\u001b[39;00m TimeoutExpired \u001b[38;5;28;01mas\u001b[39;00m exc:\n\u001b[1;32m    552\u001b[0m         process\u001b[38;5;241m.\u001b[39mkill()\n",
      "File \u001b[0;32m~/miniconda3/envs/chodera/lib/python3.11/subprocess.py:1209\u001b[0m, in \u001b[0;36mPopen.communicate\u001b[0;34m(self, input, timeout)\u001b[0m\n\u001b[1;32m   1206\u001b[0m     endtime \u001b[38;5;241m=\u001b[39m \u001b[38;5;28;01mNone\u001b[39;00m\n\u001b[1;32m   1208\u001b[0m \u001b[38;5;28;01mtry\u001b[39;00m:\n\u001b[0;32m-> 1209\u001b[0m     stdout, stderr \u001b[38;5;241m=\u001b[39m \u001b[38;5;28mself\u001b[39m\u001b[38;5;241m.\u001b[39m_communicate(\u001b[38;5;28minput\u001b[39m, endtime, timeout)\n\u001b[1;32m   1210\u001b[0m \u001b[38;5;28;01mexcept\u001b[39;00m \u001b[38;5;167;01mKeyboardInterrupt\u001b[39;00m:\n\u001b[1;32m   1211\u001b[0m     \u001b[38;5;66;03m# https://bugs.python.org/issue25942\u001b[39;00m\n\u001b[1;32m   1212\u001b[0m     \u001b[38;5;66;03m# See the detailed comment in .wait().\u001b[39;00m\n\u001b[1;32m   1213\u001b[0m     \u001b[38;5;28;01mif\u001b[39;00m timeout \u001b[38;5;129;01mis\u001b[39;00m \u001b[38;5;129;01mnot\u001b[39;00m \u001b[38;5;28;01mNone\u001b[39;00m:\n",
      "File \u001b[0;32m~/miniconda3/envs/chodera/lib/python3.11/subprocess.py:2108\u001b[0m, in \u001b[0;36mPopen._communicate\u001b[0;34m(self, input, endtime, orig_timeout)\u001b[0m\n\u001b[1;32m   2101\u001b[0m     \u001b[38;5;28mself\u001b[39m\u001b[38;5;241m.\u001b[39m_check_timeout(endtime, orig_timeout,\n\u001b[1;32m   2102\u001b[0m                         stdout, stderr,\n\u001b[1;32m   2103\u001b[0m                         skip_check_and_raise\u001b[38;5;241m=\u001b[39m\u001b[38;5;28;01mTrue\u001b[39;00m)\n\u001b[1;32m   2104\u001b[0m     \u001b[38;5;28;01mraise\u001b[39;00m \u001b[38;5;167;01mRuntimeError\u001b[39;00m(  \u001b[38;5;66;03m# Impossible :)\u001b[39;00m\n\u001b[1;32m   2105\u001b[0m         \u001b[38;5;124m'\u001b[39m\u001b[38;5;124m_check_timeout(..., skip_check_and_raise=True) \u001b[39m\u001b[38;5;124m'\u001b[39m\n\u001b[1;32m   2106\u001b[0m         \u001b[38;5;124m'\u001b[39m\u001b[38;5;124mfailed to raise TimeoutExpired.\u001b[39m\u001b[38;5;124m'\u001b[39m)\n\u001b[0;32m-> 2108\u001b[0m ready \u001b[38;5;241m=\u001b[39m selector\u001b[38;5;241m.\u001b[39mselect(timeout)\n\u001b[1;32m   2109\u001b[0m \u001b[38;5;28mself\u001b[39m\u001b[38;5;241m.\u001b[39m_check_timeout(endtime, orig_timeout, stdout, stderr)\n\u001b[1;32m   2111\u001b[0m \u001b[38;5;66;03m# XXX Rewrite these to use non-blocking I/O on the file\u001b[39;00m\n\u001b[1;32m   2112\u001b[0m \u001b[38;5;66;03m# objects; they are no longer using C stdio!\u001b[39;00m\n",
      "File \u001b[0;32m~/miniconda3/envs/chodera/lib/python3.11/selectors.py:415\u001b[0m, in \u001b[0;36m_PollLikeSelector.select\u001b[0;34m(self, timeout)\u001b[0m\n\u001b[1;32m    413\u001b[0m ready \u001b[38;5;241m=\u001b[39m []\n\u001b[1;32m    414\u001b[0m \u001b[38;5;28;01mtry\u001b[39;00m:\n\u001b[0;32m--> 415\u001b[0m     fd_event_list \u001b[38;5;241m=\u001b[39m \u001b[38;5;28mself\u001b[39m\u001b[38;5;241m.\u001b[39m_selector\u001b[38;5;241m.\u001b[39mpoll(timeout)\n\u001b[1;32m    416\u001b[0m \u001b[38;5;28;01mexcept\u001b[39;00m \u001b[38;5;167;01mInterruptedError\u001b[39;00m:\n\u001b[1;32m    417\u001b[0m     \u001b[38;5;28;01mreturn\u001b[39;00m ready\n",
      "\u001b[0;31mKeyboardInterrupt\u001b[0m: "
     ]
    }
   ],
   "source": [
    "from dgym.molecule import Molecule\n",
    "from dgym.envs.designer import Designer, Generator\n",
    "from dgym.envs.drug_env import DrugEnv\n",
    "from dgym.agents import SequentialDrugAgent\n",
    "from dgym.agents.exploration import EpsilonGreedy\n",
    "\n",
    "molecule = Molecule(\n",
    "    'Cc1cccc(-c2cccc(C(=O)NCc3ccc(F)cc3)c2)c1',\n",
    "    reactants = ['NCc1ccc(F)cc1', 'Cc1cccc(-c2cccc(C(=O)O)c2)c1']\n",
    ")\n",
    "\n",
    "designer = Designer(\n",
    "    Generator(building_blocks, fingerprints),\n",
    "    reactions,\n",
    "    cache = True\n",
    ")\n",
    "\n",
    "drug_env = DrugEnv(\n",
    "    designer,\n",
    "    library = best_molecules.update_annotations(),\n",
    "    assays = [docking_utility.oracle],\n",
    "    budget = 100,\n",
    "    utility_function = docking_utility,\n",
    ")\n",
    "\n",
    "sequence = [\n",
    "    {'name': 'ideate', 'parameters': {'temperature': 0.3, 'size': 30, 'strict': False}},\n",
    "    {'name': 'ADAM17 affinity'},\n",
    "    {'name': 'ideate', 'parameters': {'temperature': 0.3, 'size': 30, 'strict': True}},\n",
    "    {'name': 'ADAM17 affinity'},\n",
    "]\n",
    "\n",
    "drug_agent = SequentialDrugAgent(\n",
    "    sequence = sequence,\n",
    "    utility_function = docking_utility,\n",
    "    exploration_strategy = EpsilonGreedy(epsilon = 0.0),\n",
    "    branch_factor = 5\n",
    ")\n",
    "\n",
    "experiment = Experiment(drug_agent, drug_env)\n",
    "result = experiment.run(1, progress=True)"
   ]
  },
  {
   "cell_type": "code",
   "execution_count": 11,
   "id": "e306249a-57c2-426e-b9d0-f150c2aa42a9",
   "metadata": {
    "tags": []
   },
   "outputs": [
    {
     "data": {
      "image/png": "[encoded data removed]",
      "text/plain": [
       "<Figure size 960x720 with 1 Axes>"
      ]
     },
     "metadata": {},
     "output_type": "display_data"
    }
   ],
   "source": [
    "import matplotlib.pyplot as plt\n",
    "import seaborn as sns\n",
    "\n",
    "annotated_molecules = drug_env.library.annotated\n",
    "g = sns.boxplot(\n",
    "    x = [a.design_cycle for a in annotated_molecules],\n",
    "    y = docking_utility.oracle(annotated_molecules),\n",
    ")\n",
    "\n",
    "g.set_title('Successive design cycles improve affinity')\n",
    "g.set_xlabel('Design cycle')\n",
    "g.set_ylabel('pIC50 (ADAM17)')\n",
    "\n",
    "plt.gcf().set_dpi(150)\n",
    "plt.show()"
   ]
  },
  {
   "cell_type": "code",
   "execution_count": 19,
   "id": "e298447a-97a0-450a-807a-719d2e138a18",
   "metadata": {
    "tags": []
   },
   "outputs": [
    {
     "data": {
      "text/plain": [
       "MoleculeCollection with 1385 Molecules"
      ]
     },
     "execution_count": 19,
     "metadata": {},
     "output_type": "execute_result"
    }
   ],
   "source": [
    "drug_env.library"
   ]
  },
  {
   "cell_type": "code",
   "execution_count": 16,
   "id": "a0947dd2-f913-4114-a61b-51fd5a1802ea",
   "metadata": {
    "tags": []
   },
   "outputs": [
    {
     "data": {
      "text/plain": [
       "[5.950296641622366]"
      ]
     },
     "execution_count": 16,
     "metadata": {},
     "output_type": "execute_result"
    }
   ],
   "source": [
    "docking_utility.oracle([annotated_molecules[-20]])"
   ]
  },
  {
   "cell_type": "code",
   "execution_count": 12,
   "id": "7b610b3a-ccfc-4902-9abd-397d3b2a151c",
   "metadata": {
    "tags": []
   },
   "outputs": [
    {
     "ename": "TypeError",
     "evalue": "'NoneType' object is not iterable",
     "output_type": "error",
     "traceback": [
      "\u001b[0;31m---------------------------------------------------------------------------\u001b[0m",
      "\u001b[0;31mTypeError\u001b[0m                                 Traceback (most recent call last)",
      "Cell \u001b[0;32mIn[12], line 1\u001b[0m\n\u001b[0;32m----> 1\u001b[0m docking_utility\u001b[38;5;241m.\u001b[39moracle(designer\u001b[38;5;241m.\u001b[39mdesign(annotated_molecules[\u001b[38;5;241m-\u001b[39m\u001b[38;5;241m6\u001b[39m], mode\u001b[38;5;241m=\u001b[39m\u001b[38;5;124m'\u001b[39m\u001b[38;5;124mexpand\u001b[39m\u001b[38;5;124m'\u001b[39m, size\u001b[38;5;241m=\u001b[39m\u001b[38;5;241m50\u001b[39m))\n",
      "File \u001b[0;32m~/dev/chodera/dgym/dgym/envs/designer.py:214\u001b[0m, in \u001b[0;36mDesigner.design\u001b[0;34m(self, molecule, size, mode, temperature, strict, config)\u001b[0m\n\u001b[1;32m    212\u001b[0m \u001b[38;5;28;01melif\u001b[39;00m mode \u001b[38;5;241m==\u001b[39m \u001b[38;5;124m'\u001b[39m\u001b[38;5;124mexpand\u001b[39m\u001b[38;5;124m'\u001b[39m:\n\u001b[1;32m    213\u001b[0m     reactions \u001b[38;5;241m=\u001b[39m \u001b[38;5;28mself\u001b[39m\u001b[38;5;241m.\u001b[39mreactions\n\u001b[0;32m--> 214\u001b[0m     reactants \u001b[38;5;241m=\u001b[39m [molecule, \u001b[38;5;28mself\u001b[39m\u001b[38;5;241m.\u001b[39mgenerator()]\n\u001b[1;32m    215\u001b[0m     max_depth \u001b[38;5;241m=\u001b[39m \u001b[38;5;241m1\u001b[39m\n\u001b[1;32m    217\u001b[0m \u001b[38;5;66;03m# Perform reactions\u001b[39;00m\n",
      "File \u001b[0;32m~/dev/chodera/dgym/dgym/envs/designer.py:68\u001b[0m, in \u001b[0;36mGenerator.__call__\u001b[0;34m(self, molecules, temperature, strict)\u001b[0m\n\u001b[1;32m     62\u001b[0m         samples_idx \u001b[38;5;241m=\u001b[39m torch\u001b[38;5;241m.\u001b[39mmultinomial(probabilities, \u001b[38;5;241m200\u001b[39m)\n\u001b[1;32m     64\u001b[0m     samples \u001b[38;5;241m=\u001b[39m torch\u001b[38;5;241m.\u001b[39mgather(indices, \u001b[38;5;241m1\u001b[39m, samples_idx)\u001b[38;5;241m.\u001b[39mtolist()\n\u001b[1;32m     66\u001b[0m generators \u001b[38;5;241m=\u001b[39m [\n\u001b[1;32m     67\u001b[0m     \u001b[38;5;28mself\u001b[39m\u001b[38;5;241m.\u001b[39m_generator_factory(sampler, molecule, strict\u001b[38;5;241m=\u001b[39mstrict)\n\u001b[0;32m---> 68\u001b[0m     \u001b[38;5;28;01mfor\u001b[39;00m sampler, molecule \u001b[38;5;129;01min\u001b[39;00m \u001b[38;5;28mzip\u001b[39m(samples, molecules)\n\u001b[1;32m     69\u001b[0m ]\n\u001b[1;32m     71\u001b[0m \u001b[38;5;28;01mreturn\u001b[39;00m generators \u001b[38;5;28;01mif\u001b[39;00m return_list \u001b[38;5;28;01melse\u001b[39;00m generators[\u001b[38;5;241m0\u001b[39m]\n",
      "\u001b[0;31mTypeError\u001b[0m: 'NoneType' object is not iterable"
     ]
    }
   ],
   "source": [
    "docking_utility.oracle(designer.design(annotated_molecules[-6], mode='expand', size=50))"
   ]
  }
 ],
 "metadata": {
  "kernelspec": {
   "display_name": "Python 3 (ipykernel)",
   "language": "python",
   "name": "python3"
  },
  "language_info": {
   "codemirror_mode": {
    "name": "ipython",
    "version": 3
   },
   "file_extension": ".py",
   "mimetype": "text/x-python",
   "name": "python",
   "nbconvert_exporter": "python",
   "pygments_lexer": "ipython3",
   "version": "3.11.5"
  }
 },
 "nbformat": 4,
 "nbformat_minor": 5
}
