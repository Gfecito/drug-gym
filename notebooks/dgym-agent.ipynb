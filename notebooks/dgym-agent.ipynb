{
 "cells": [
  {
   "cell_type": "markdown",
   "id": "6fd8c1ba-6881-4477-a320-c650f6ad95f0",
   "metadata": {},
   "source": [
    "# Create new utility function"
   ]
  },
  {
   "cell_type": "markdown",
   "id": "87a1d278-93b9-43ec-a3a0-8b03e9d5de0e",
   "metadata": {},
   "source": [
    "Import data."
   ]
  },
  {
   "cell_type": "code",
   "execution_count": 1,
   "id": "52791718-50ca-4213-b11a-77770a4b4d5a",
   "metadata": {
    "tags": []
   },
   "outputs": [
    {
     "name": "stdout",
     "output_type": "stream",
     "text": [
      "load data\n"
     ]
    }
   ],
   "source": [
    "%load_ext autoreload\n",
    "%autoreload 2\n",
    "\n",
    "import rdkit\n",
    "rdkit.Chem.Draw.IPythonConsole.ipython_maxProperties = -1\n",
    "\n",
    "import dgym as dg\n",
    "\n",
    "# load all data\n",
    "print('load data')\n",
    "path = '../../dgym-data'\n",
    "\n",
    "deck = dg.MoleculeCollection.from_sdf(\n",
    "    f'{path}/DSi-Poised_Library_annotated.sdf',\n",
    "    reactant_names=['reagsmi1', 'reagsmi2', 'reagsmi3']\n",
    ")\n",
    "\n",
    "reactions = dg.ReactionCollection.from_json(\n",
    "    path = f'{path}/All_Rxns_rxn_library.json',\n",
    "    smarts_col = 'reaction_string',\n",
    "    classes_col = 'functional_groups'\n",
    ")"
   ]
  },
  {
   "cell_type": "code",
   "execution_count": 2,
   "id": "a8ab1a72-d039-44d3-8e81-cfe43fd140e7",
   "metadata": {
    "tags": []
   },
   "outputs": [
    {
     "name": "stdout",
     "output_type": "stream",
     "text": [
      "align fingerprints\n",
      "partition building blocks\n"
     ]
    }
   ],
   "source": [
    "building_blocks = dg.datasets.enamine(f'{path}/Enamine_Building_Blocks_Stock_262336cmpd_20230630.sdf')\n",
    "fingerprints = dg.datasets.fingerprints(f'{path}/out/Enamine_Building_Blocks_Stock_262336cmpd_20230630.fpb')\n",
    "\n",
    "# align fingerprints to building blocks\n",
    "print('align fingerprints')\n",
    "fingerprints = dg.utils.sort_fingerprints(fingerprints, building_blocks)\n",
    "\n",
    "# partition building blocks according to functional groups\n",
    "print('partition building blocks')\n",
    "templates = dg.utils.get_unique_reactants(reactions)\n",
    "building_blocks = dg.utils.partition_building_blocks(building_blocks, templates, out_dir=path)"
   ]
  },
  {
   "cell_type": "markdown",
   "id": "63b64107-b4fb-4398-8cbb-5bd02aeec5a7",
   "metadata": {},
   "source": [
    "Create inputs to the DrugEnv."
   ]
  },
  {
   "cell_type": "code",
   "execution_count": 398,
   "id": "e261cdac-27d9-49a6-9f26-18bce353034a",
   "metadata": {
    "tags": []
   },
   "outputs": [],
   "source": [
    "import numpy as np\n",
    "from dgym.envs.library_designer import LibraryDesigner\n",
    "from dgym.envs.oracle import DGLOracle, RDKitOracle\n",
    "from dgym.envs.evaluator import ClassicEvaluator, UtilityFunction\n",
    "\n",
    "# create library designer\n",
    "library_designer = LibraryDesigner(\n",
    "    reactions,\n",
    "    building_blocks,\n",
    "    fingerprints\n",
    ")\n",
    "\n",
    "# create assays\n",
    "log_P_oracle = RDKitOracle('MolLogP')\n",
    "log_S_oracle = DGLOracle('GCN_canonical_ESOL')\n",
    "assays = [log_S_oracle, log_P_oracle]\n",
    "\n",
    "# create evaluators\n",
    "# ideal = (-2, 0)\n",
    "log_S_evaluator = ClassicEvaluator(ideal=(-2, 0), acceptable=(-4, 0.5))\n",
    "# ideal = (1, 4)\n",
    "log_P_evaluator = ClassicEvaluator(ideal=(1, 4), acceptable=(0, 5))\n",
    "\n",
    "# create utility function\n",
    "utility_function = UtilityFunction(\n",
    "    evaluators = [log_S_evaluator, log_P_evaluator],\n",
    "    strategy = lambda x: np.prod(x)\n",
    ")\n",
    "\n",
    "worst_molecules = np.argsort(drug_agent.policy(deck))[:25].tolist()"
   ]
  },
  {
   "cell_type": "markdown",
   "id": "ee797693-a744-4c97-b9c1-0f415ee0978b",
   "metadata": {},
   "source": [
    "First, set up the environment."
   ]
  },
  {
   "cell_type": "code",
   "execution_count": 399,
   "id": "8cdaad0c-a1b2-4f41-a46e-36e9e46469e3",
   "metadata": {
    "tags": []
   },
   "outputs": [
    {
     "name": "stdout",
     "output_type": "stream",
     "text": [
      "Budget:\t 10\n"
     ]
    },
    {
     "data": {
      "application/vnd.jupyter.widget-view+json": {
       "model_id": "5ac4b69eab624568ab01fd7d76cc47ad",
       "version_major": 2,
       "version_minor": 0
      },
      "text/plain": [
       "  0%|          | 0/20 [00:00<?, ?it/s]"
      ]
     },
     "metadata": {},
     "output_type": "display_data"
    },
    {
     "name": "stdout",
     "output_type": "stream",
     "text": [
      "Budget:\t 20\n"
     ]
    },
    {
     "data": {
      "application/vnd.jupyter.widget-view+json": {
       "model_id": "c1abd062dbf245f99df03387f975b0eb",
       "version_major": 2,
       "version_minor": 0
      },
      "text/plain": [
       "  0%|          | 0/20 [00:00<?, ?it/s]"
      ]
     },
     "metadata": {},
     "output_type": "display_data"
    },
    {
     "name": "stdout",
     "output_type": "stream",
     "text": [
      "Budget:\t 30\n"
     ]
    },
    {
     "data": {
      "application/vnd.jupyter.widget-view+json": {
       "model_id": "c594a8c87c7f4601ac5c6fd9303df792",
       "version_major": 2,
       "version_minor": 0
      },
      "text/plain": [
       "  0%|          | 0/20 [00:00<?, ?it/s]"
      ]
     },
     "metadata": {},
     "output_type": "display_data"
    },
    {
     "name": "stdout",
     "output_type": "stream",
     "text": [
      "Budget:\t 40\n"
     ]
    },
    {
     "data": {
      "application/vnd.jupyter.widget-view+json": {
       "model_id": "52bb0ebca82643e0a48e9e47f41790ad",
       "version_major": 2,
       "version_minor": 0
      },
      "text/plain": [
       "  0%|          | 0/20 [00:00<?, ?it/s]"
      ]
     },
     "metadata": {},
     "output_type": "display_data"
    },
    {
     "name": "stdout",
     "output_type": "stream",
     "text": [
      "Budget:\t 50\n"
     ]
    },
    {
     "data": {
      "application/vnd.jupyter.widget-view+json": {
       "model_id": "ee9506e49e084cee86c167682f84d637",
       "version_major": 2,
       "version_minor": 0
      },
      "text/plain": [
       "  0%|          | 0/20 [00:00<?, ?it/s]"
      ]
     },
     "metadata": {},
     "output_type": "display_data"
    },
    {
     "name": "stdout",
     "output_type": "stream",
     "text": [
      "Budget:\t 100\n"
     ]
    },
    {
     "data": {
      "application/vnd.jupyter.widget-view+json": {
       "model_id": "490aa0c636934374b126eb22a51e6b48",
       "version_major": 2,
       "version_minor": 0
      },
      "text/plain": [
       "  0%|          | 0/20 [00:00<?, ?it/s]"
      ]
     },
     "metadata": {},
     "output_type": "display_data"
    },
    {
     "name": "stdout",
     "output_type": "stream",
     "text": [
      "Budget:\t 150\n"
     ]
    },
    {
     "data": {
      "application/vnd.jupyter.widget-view+json": {
       "model_id": "0b1bb5fe4573445b9a3d41e4698a52b3",
       "version_major": 2,
       "version_minor": 0
      },
      "text/plain": [
       "  0%|          | 0/20 [00:00<?, ?it/s]"
      ]
     },
     "metadata": {},
     "output_type": "display_data"
    },
    {
     "name": "stdout",
     "output_type": "stream",
     "text": [
      "Budget:\t 200\n"
     ]
    },
    {
     "data": {
      "application/vnd.jupyter.widget-view+json": {
       "model_id": "8a2070ba6cdf43bc94747dd703e1416f",
       "version_major": 2,
       "version_minor": 0
      },
      "text/plain": [
       "  0%|          | 0/20 [00:00<?, ?it/s]"
      ]
     },
     "metadata": {},
     "output_type": "display_data"
    },
    {
     "name": "stdout",
     "output_type": "stream",
     "text": [
      "Budget:\t 300\n"
     ]
    },
    {
     "data": {
      "application/vnd.jupyter.widget-view+json": {
       "model_id": "45db0fa372af42ac997b81f1eccd612c",
       "version_major": 2,
       "version_minor": 0
      },
      "text/plain": [
       "  0%|          | 0/20 [00:00<?, ?it/s]"
      ]
     },
     "metadata": {},
     "output_type": "display_data"
    },
    {
     "name": "stdout",
     "output_type": "stream",
     "text": [
      "Unexpected exception formatting exception. Falling back to standard exception\n"
     ]
    },
    {
     "name": "stderr",
     "output_type": "stream",
     "text": [
      "Traceback (most recent call last):\n",
      "  File \"/home/mrr/miniconda3/envs/chodera/lib/python3.11/site-packages/IPython/core/interactiveshell.py\", line 3505, in run_code\n",
      "    exec(code_obj, self.user_global_ns, self.user_ns)\n",
      "  File \"/tmp/ipykernel_488/3160607556.py\", line 37, in <module>\n",
      "    observations, reward, terminated, truncated, info = drug_env.step(action)\n",
      "                                                        ^^^^^^^^^^^^^^^^^^^^^\n",
      "  File \"/home/mrr/dev/chodera/dgym/dgym/envs/drug_env.py\", line 145, in step\n",
      "    self.orders.append(self.perform_order(action_type, molecules, *parameters))\n",
      "                       ^^^^^^^^^^^^^^^^^^^^^^^^^^^^^^^^^^^^^^^^^^^^^^^^^^^^^^^\n",
      "  File \"/home/mrr/dev/chodera/dgym/dgym/envs/drug_env.py\", line 179, in perform_order\n",
      "    valid_indices = [m for m in molecule_indices if self.valid_actions[m]]\n",
      "                    ^^^^^^^^^^^^^^^^^^^^^^^^^^^^^^^^^^^^^^^^^^^^^^^^^^^^^^\n",
      "  File \"/home/mrr/dev/chodera/dgym/dgym/envs/drug_env.py\", line 179, in <listcomp>\n",
      "    valid_indices = [m for m in molecule_indices if self.valid_actions[m]]\n",
      "                                                    ~~~~~~~~~~~~~~~~~~^^^\n",
      "IndexError: index 103 is out of bounds for axis 0 with size 25\n",
      "\n",
      "During handling of the above exception, another exception occurred:\n",
      "\n",
      "Traceback (most recent call last):\n",
      "  File \"/home/mrr/miniconda3/envs/chodera/lib/python3.11/site-packages/IPython/core/interactiveshell.py\", line 2102, in showtraceback\n",
      "    stb = self.InteractiveTB.structured_traceback(\n",
      "          ^^^^^^^^^^^^^^^^^^^^^^^^^^^^^^^^^^^^^^^^\n",
      "  File \"/home/mrr/miniconda3/envs/chodera/lib/python3.11/site-packages/IPython/core/ultratb.py\", line 1310, in structured_traceback\n",
      "    return FormattedTB.structured_traceback(\n",
      "           ^^^^^^^^^^^^^^^^^^^^^^^^^^^^^^^^^\n",
      "  File \"/home/mrr/miniconda3/envs/chodera/lib/python3.11/site-packages/IPython/core/ultratb.py\", line 1199, in structured_traceback\n",
      "    return VerboseTB.structured_traceback(\n",
      "           ^^^^^^^^^^^^^^^^^^^^^^^^^^^^^^^\n",
      "  File \"/home/mrr/miniconda3/envs/chodera/lib/python3.11/site-packages/IPython/core/ultratb.py\", line 1052, in structured_traceback\n",
      "    formatted_exception = self.format_exception_as_a_whole(etype, evalue, etb, number_of_lines_of_context,\n",
      "                          ^^^^^^^^^^^^^^^^^^^^^^^^^^^^^^^^^^^^^^^^^^^^^^^^^^^^^^^^^^^^^^^^^^^^^^^^^^^^^^^^\n",
      "  File \"/home/mrr/miniconda3/envs/chodera/lib/python3.11/site-packages/IPython/core/ultratb.py\", line 978, in format_exception_as_a_whole\n",
      "    frames.append(self.format_record(record))\n",
      "                  ^^^^^^^^^^^^^^^^^^^^^^^^^^\n",
      "  File \"/home/mrr/miniconda3/envs/chodera/lib/python3.11/site-packages/IPython/core/ultratb.py\", line 878, in format_record\n",
      "    frame_info.lines, Colors, self.has_colors, lvals\n",
      "    ^^^^^^^^^^^^^^^^\n",
      "  File \"/home/mrr/miniconda3/envs/chodera/lib/python3.11/site-packages/IPython/core/ultratb.py\", line 712, in lines\n",
      "    return self._sd.lines\n",
      "           ^^^^^^^^^^^^^^\n",
      "  File \"/home/mrr/miniconda3/envs/chodera/lib/python3.11/site-packages/stack_data/utils.py\", line 145, in cached_property_wrapper\n",
      "    value = obj.__dict__[self.func.__name__] = self.func(obj)\n",
      "                                               ^^^^^^^^^^^^^^\n",
      "  File \"/home/mrr/miniconda3/envs/chodera/lib/python3.11/site-packages/stack_data/core.py\", line 698, in lines\n",
      "    pieces = self.included_pieces\n",
      "             ^^^^^^^^^^^^^^^^^^^^\n",
      "  File \"/home/mrr/miniconda3/envs/chodera/lib/python3.11/site-packages/stack_data/utils.py\", line 145, in cached_property_wrapper\n",
      "    value = obj.__dict__[self.func.__name__] = self.func(obj)\n",
      "                                               ^^^^^^^^^^^^^^\n",
      "  File \"/home/mrr/miniconda3/envs/chodera/lib/python3.11/site-packages/stack_data/core.py\", line 649, in included_pieces\n",
      "    pos = scope_pieces.index(self.executing_piece)\n",
      "                             ^^^^^^^^^^^^^^^^^^^^\n",
      "  File \"/home/mrr/miniconda3/envs/chodera/lib/python3.11/site-packages/stack_data/utils.py\", line 145, in cached_property_wrapper\n",
      "    value = obj.__dict__[self.func.__name__] = self.func(obj)\n",
      "                                               ^^^^^^^^^^^^^^\n",
      "  File \"/home/mrr/miniconda3/envs/chodera/lib/python3.11/site-packages/stack_data/core.py\", line 628, in executing_piece\n",
      "    return only(\n",
      "           ^^^^^\n",
      "  File \"/home/mrr/miniconda3/envs/chodera/lib/python3.11/site-packages/executing/executing.py\", line 164, in only\n",
      "    raise NotOneValueFound('Expected one value, found 0')\n",
      "executing.executing.NotOneValueFound: Expected one value, found 0\n"
     ]
    }
   ],
   "source": [
    "from dgym.envs.drug_env import DrugEnv\n",
    "from dgym.agents import HardcodedDrugAgent\n",
    "from tqdm.notebook import tqdm\n",
    "\n",
    "results = []\n",
    "budgets = [10, 20, 30, 40, 50, 100, 150,\n",
    "           200, 300, 400, 500, 1_000]\n",
    "for budget in budgets:\n",
    "    \n",
    "    print('Budget:\\t', budget)\n",
    "    \n",
    "    for trial in tqdm(range(20)):\n",
    "        \n",
    "        drug_env = DrugEnv(\n",
    "            library_designer,\n",
    "            library = deck[worst_molecules],\n",
    "            assays = assays,\n",
    "            budget = budget,\n",
    "            utility_function=utility_function,\n",
    "        )\n",
    "\n",
    "        drug_agent = HardcodedDrugAgent(\n",
    "            action_space=drug_env.action_space,\n",
    "            scoring_functions=assays,\n",
    "            utility_function=utility_function,\n",
    "            epsilon=0.33,\n",
    "            fraction_random=0.2,\n",
    "            num_analogs=1,\n",
    "            branch_factor=5\n",
    "        )\n",
    "\n",
    "        observations, info = drug_env.reset()\n",
    "\n",
    "        while True:\n",
    "            \n",
    "            action = drug_agent.act(observations)\n",
    "            observations, reward, terminated, truncated, info = drug_env.step(action)\n",
    "            result = {'budget': budget, 'trial': trial}\n",
    "\n",
    "            if terminated:\n",
    "                result.update({'outcome': 1})\n",
    "                break\n",
    "            if truncated:\n",
    "                result.update({'outcome': 0})\n",
    "                break\n",
    "\n",
    "        results.append(result)"
   ]
  },
  {
   "cell_type": "code",
   "execution_count": 400,
   "id": "7d4be0e1-e703-4582-9be1-c0649b2da51b",
   "metadata": {
    "tags": []
   },
   "outputs": [
    {
     "data": {
      "text/plain": [
       "{'type': 1, 'molecules': [103, 106, 116, 57, 101], 'parameters': {}}"
      ]
     },
     "execution_count": 400,
     "metadata": {},
     "output_type": "execute_result"
    }
   ],
   "source": [
    "action"
   ]
  },
  {
   "cell_type": "code",
   "execution_count": 406,
   "id": "2990986c-4e58-450b-83ea-be8daf3860c6",
   "metadata": {
    "tags": []
   },
   "outputs": [
    {
     "data": {
      "text/plain": [
       "<Axes: xlabel='budget', ylabel='outcome'>"
      ]
     },
     "execution_count": 406,
     "metadata": {},
     "output_type": "execute_result"
    },
    {
     "data": {
      "image/png": "[encoded data removed]",
      "text/plain": [
       "<Figure size 640x480 with 1 Axes>"
      ]
     },
     "metadata": {},
     "output_type": "display_data"
    }
   ],
   "source": [
    "import pandas as pd\n",
    "sns.lineplot(\n",
    "    pd.DataFrame(results),\n",
    "    x='budget',\n",
    "    y='outcome',\n",
    "    # errorbar='sd'\n",
    ")"
   ]
  },
  {
   "cell_type": "markdown",
   "id": "84e34e51-4304-41af-b3e0-1278e5db10f1",
   "metadata": {},
   "source": [
    "Draw lineage of best molecule."
   ]
  },
  {
   "cell_type": "code",
   "execution_count": 339,
   "id": "0efea863-e1a2-441c-bd73-7cf55ac81bca",
   "metadata": {
    "tags": []
   },
   "outputs": [
    {
     "data": {
      "image/png": "[encoded data removed]",
      "text/plain": [
       "<IPython.core.display.Image object>"
      ]
     },
     "metadata": {},
     "output_type": "display_data"
    },
    {
     "name": "stdout",
     "output_type": "stream",
     "text": [
      "0.6207067290842531\t\t0.6106847879787286\t\t1\n"
     ]
    },
    {
     "data": {
      "text/plain": [
       "(-1.2017120122909546, 0.2845999999999995)"
      ]
     },
     "metadata": {},
     "output_type": "display_data"
    },
    {
     "data": {
      "text/plain": [
       "(-2.2398717403411865, 0.5394999999999999)"
      ]
     },
     "metadata": {},
     "output_type": "display_data"
    },
    {
     "data": {
      "text/plain": [
       "(-0.9800273180007935, 1.1551999999999998)"
      ]
     },
     "metadata": {},
     "output_type": "display_data"
    }
   ],
   "source": [
    "from rdkit.Chem import Draw\n",
    "\n",
    "utility = drug_agent.policy(observations)\n",
    "index = int(np.argsort(utility)[-1])\n",
    "\n",
    "mol = drug_env.library[index]\n",
    "lineage = [mol]\n",
    "while mol.inspiration:\n",
    "    mol = mol.inspiration\n",
    "    lineage.insert(0, mol)\n",
    "\n",
    "assay_results = [assay(lineage) for assay in assays]\n",
    "results = [\n",
    "    utility_function.score(properties)\n",
    "    for properties in zip(*assay_results)\n",
    "]\n",
    "\n",
    "display(Draw.MolsToGridImage(\n",
    "    [m.mol for m in lineage],\n",
    "    molsPerRow=8,\n",
    "    maxMols=10_000\n",
    "))\n",
    "\n",
    "print('\\t\\t'.join(map(str, results)))\n",
    "display(*zip(*assay_results))"
   ]
  }
 ],
 "metadata": {
  "kernelspec": {
   "display_name": "Python 3 (ipykernel)",
   "language": "python",
   "name": "python3"
  },
  "language_info": {
   "codemirror_mode": {
    "name": "ipython",
    "version": 3
   },
   "file_extension": ".py",
   "mimetype": "text/x-python",
   "name": "python",
   "nbconvert_exporter": "python",
   "pygments_lexer": "ipython3",
   "version": "3.11.4"
  }
 },
 "nbformat": 4,
 "nbformat_minor": 5
}
