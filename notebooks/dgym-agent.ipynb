{
 "cells": [
  {
   "cell_type": "markdown",
   "id": "6fd8c1ba-6881-4477-a320-c650f6ad95f0",
   "metadata": {},
   "source": [
    "# Create new utility function"
   ]
  },
  {
   "cell_type": "markdown",
   "id": "87a1d278-93b9-43ec-a3a0-8b03e9d5de0e",
   "metadata": {},
   "source": [
    "Import data."
   ]
  },
  {
   "cell_type": "code",
   "execution_count": 1,
   "id": "52791718-50ca-4213-b11a-77770a4b4d5a",
   "metadata": {
    "tags": []
   },
   "outputs": [
    {
     "name": "stdout",
     "output_type": "stream",
     "text": [
      "load data\n"
     ]
    }
   ],
   "source": [
    "%load_ext autoreload\n",
    "%autoreload 2\n",
    "\n",
    "import rdkit\n",
    "rdkit.Chem.Draw.IPythonConsole.ipython_maxProperties = -1\n",
    "\n",
    "import dgym as dg\n",
    "\n",
    "# load all data\n",
    "print('load data')\n",
    "path = '../../dgym-data'\n",
    "\n",
    "deck = dg.MoleculeCollection.from_sdf(\n",
    "    f'{path}/DSi-Poised_Library_annotated.sdf',\n",
    "    reactant_names=['reagsmi1', 'reagsmi2', 'reagsmi3']\n",
    ")\n",
    "\n",
    "reactions = dg.ReactionCollection.from_json(\n",
    "    path = f'{path}/All_Rxns_rxn_library.json',\n",
    "    smarts_col = 'reaction_string',\n",
    "    classes_col = 'functional_groups'\n",
    ")"
   ]
  },
  {
   "cell_type": "code",
   "execution_count": 2,
   "id": "a8ab1a72-d039-44d3-8e81-cfe43fd140e7",
   "metadata": {
    "tags": []
   },
   "outputs": [
    {
     "name": "stdout",
     "output_type": "stream",
     "text": [
      "align fingerprints\n",
      "partition building blocks\n"
     ]
    }
   ],
   "source": [
    "building_blocks = dg.datasets.enamine(f'{path}/Enamine_Building_Blocks_Stock_262336cmpd_20230630.sdf')\n",
    "fingerprints = dg.datasets.fingerprints(f'{path}/out/Enamine_Building_Blocks_Stock_262336cmpd_20230630.fpb')\n",
    "\n",
    "# align fingerprints to building blocks\n",
    "print('align fingerprints')\n",
    "fingerprints = dg.utils.sort_fingerprints(fingerprints, building_blocks)\n",
    "\n",
    "# partition building blocks according to functional groups\n",
    "print('partition building blocks')\n",
    "templates = dg.utils.get_unique_reactants(reactions)\n",
    "building_blocks = dg.utils.partition_building_blocks(building_blocks, templates, out_dir=path)"
   ]
  },
  {
   "cell_type": "markdown",
   "id": "63b64107-b4fb-4398-8cbb-5bd02aeec5a7",
   "metadata": {},
   "source": [
    "Create inputs to the DrugEnv."
   ]
  },
  {
   "cell_type": "code",
   "execution_count": 323,
   "id": "e261cdac-27d9-49a6-9f26-18bce353034a",
   "metadata": {
    "tags": []
   },
   "outputs": [],
   "source": [
    "import numpy as np\n",
    "from dgym.envs.library_designer import LibraryDesigner\n",
    "from dgym.envs.oracle import DGLOracle, RDKitOracle\n",
    "from dgym.envs.evaluator import ClassicEvaluator, UtilityFunction\n",
    "\n",
    "# create library designer\n",
    "library_designer = LibraryDesigner(\n",
    "    reactions,\n",
    "    building_blocks,\n",
    "    fingerprints\n",
    ")\n",
    "\n",
    "# create assays\n",
    "log_P_oracle = RDKitOracle('MolLogP')\n",
    "log_S_oracle = DGLOracle('GCN_canonical_ESOL')\n",
    "assays = [log_S_oracle, log_P_oracle]\n",
    "\n",
    "# create evaluators\n",
    "# ideal = (-2, 0)\n",
    "log_S_evaluator = ClassicEvaluator(ideal=(-1, 0), acceptable=(-4, 0.5))\n",
    "# ideal = (1, 4)\n",
    "log_P_evaluator = ClassicEvaluator(ideal=(1, 3), acceptable=(0, 5))\n",
    "\n",
    "# create utility function\n",
    "utility_function = UtilityFunction(\n",
    "    evaluators = [log_S_evaluator, log_P_evaluator],\n",
    "    strategy = lambda x: np.prod(x)\n",
    ")"
   ]
  },
  {
   "cell_type": "markdown",
   "id": "ee797693-a744-4c97-b9c1-0f415ee0978b",
   "metadata": {},
   "source": [
    "First, set up the environment."
   ]
  },
  {
   "cell_type": "code",
   "execution_count": null,
   "id": "8cdaad0c-a1b2-4f41-a46e-36e9e46469e3",
   "metadata": {
    "tags": []
   },
   "outputs": [
    {
     "name": "stdout",
     "output_type": "stream",
     "text": [
      "10\n"
     ]
    },
    {
     "data": {
      "application/vnd.jupyter.widget-view+json": {
       "model_id": "eebffcdf75294543bf91c8be7e96f2a9",
       "version_major": 2,
       "version_minor": 0
      },
      "text/plain": [
       "  0%|          | 0/20 [00:00<?, ?it/s]"
      ]
     },
     "metadata": {},
     "output_type": "display_data"
    },
    {
     "name": "stdout",
     "output_type": "stream",
     "text": [
      "20\n"
     ]
    },
    {
     "data": {
      "application/vnd.jupyter.widget-view+json": {
       "model_id": "e5b50dab482a4a4796ec78a2f9efbd5b",
       "version_major": 2,
       "version_minor": 0
      },
      "text/plain": [
       "  0%|          | 0/20 [00:00<?, ?it/s]"
      ]
     },
     "metadata": {},
     "output_type": "display_data"
    },
    {
     "name": "stdout",
     "output_type": "stream",
     "text": [
      "50\n"
     ]
    },
    {
     "data": {
      "application/vnd.jupyter.widget-view+json": {
       "model_id": "a22f8a55fbbb4502affa49ca16b3dc3d",
       "version_major": 2,
       "version_minor": 0
      },
      "text/plain": [
       "  0%|          | 0/20 [00:00<?, ?it/s]"
      ]
     },
     "metadata": {},
     "output_type": "display_data"
    },
    {
     "name": "stdout",
     "output_type": "stream",
     "text": [
      "100\n"
     ]
    },
    {
     "data": {
      "application/vnd.jupyter.widget-view+json": {
       "model_id": "e39aa434865e47c3947dbc08fd723052",
       "version_major": 2,
       "version_minor": 0
      },
      "text/plain": [
       "  0%|          | 0/20 [00:00<?, ?it/s]"
      ]
     },
     "metadata": {},
     "output_type": "display_data"
    },
    {
     "name": "stdout",
     "output_type": "stream",
     "text": [
      "150\n"
     ]
    },
    {
     "data": {
      "application/vnd.jupyter.widget-view+json": {
       "model_id": "c83da8d2a6844e04bd22cab4c4f97b11",
       "version_major": 2,
       "version_minor": 0
      },
      "text/plain": [
       "  0%|          | 0/20 [00:00<?, ?it/s]"
      ]
     },
     "metadata": {},
     "output_type": "display_data"
    }
   ],
   "source": [
    "from dgym.envs.drug_env import DrugEnv\n",
    "from dgym.agents import HardcodedDrugAgent\n",
    "from tqdm.notebook import tqdm\n",
    "\n",
    "drug_agent = HardcodedDrugAgent(\n",
    "    action_space=drug_env.action_space,\n",
    "    scoring_functions=assays,\n",
    "    utility_function=utility_function,\n",
    "    epsilon=0.33,\n",
    "    fraction_random=0.2,\n",
    "    num_analogs=1,\n",
    "    branch_factor=5\n",
    ")\n",
    "\n",
    "results = []\n",
    "budgets = [10, 20, 50, 100, 150,\n",
    "           200, 300, 400, 500, 1_000]\n",
    "for budget in budgets:\n",
    "    \n",
    "    print('Budget:\\t', budget)\n",
    "    \n",
    "    for trial in tqdm(range(20)):\n",
    "        \n",
    "        drug_env = DrugEnv(\n",
    "            library_designer,\n",
    "            library = deck[[42]],\n",
    "            assays = assays,\n",
    "            budget = budget,\n",
    "            utility_function=utility_function,\n",
    "        )\n",
    "\n",
    "        observations, info = drug_env.reset()\n",
    "\n",
    "        while True:\n",
    "            \n",
    "            action = drug_agent.act(observations)\n",
    "            observations, reward, terminated, truncated, info = drug_env.step(action)\n",
    "            result = {'budget': budget, 'trial': trial}\n",
    "\n",
    "            if terminated:\n",
    "                result.update({'outcome': 1})\n",
    "                break\n",
    "            if truncated:\n",
    "                result.update({'outcome': 0})\n",
    "                break\n",
    "\n",
    "        results.append(result)"
   ]
  },
  {
   "cell_type": "code",
   "execution_count": 356,
   "id": "2990986c-4e58-450b-83ea-be8daf3860c6",
   "metadata": {
    "tags": []
   },
   "outputs": [
    {
     "data": {
      "text/plain": [
       "<Axes: xlabel='budget', ylabel='outcome'>"
      ]
     },
     "execution_count": 356,
     "metadata": {},
     "output_type": "execute_result"
    },
    {
     "data": {
      "image/png": "[encoded data removed]",
      "text/plain": [
       "<Figure size 640x480 with 1 Axes>"
      ]
     },
     "metadata": {},
     "output_type": "display_data"
    }
   ],
   "source": [
    "import pandas as pd\n",
    "sns.lineplot(\n",
    "    pd.DataFrame(results),\n",
    "    x='budget',\n",
    "    y='outcome'\n",
    ")"
   ]
  },
  {
   "cell_type": "markdown",
   "id": "84e34e51-4304-41af-b3e0-1278e5db10f1",
   "metadata": {},
   "source": [
    "Draw lineage of best molecule."
   ]
  },
  {
   "cell_type": "code",
   "execution_count": 339,
   "id": "0efea863-e1a2-441c-bd73-7cf55ac81bca",
   "metadata": {
    "tags": []
   },
   "outputs": [
    {
     "data": {
      "image/png": "[encoded data removed]",
      "text/plain": [
       "<IPython.core.display.Image object>"
      ]
     },
     "metadata": {},
     "output_type": "display_data"
    },
    {
     "name": "stdout",
     "output_type": "stream",
     "text": [
      "0.6207067290842531\t\t0.6106847879787286\t\t1\n"
     ]
    },
    {
     "data": {
      "text/plain": [
       "(-1.2017120122909546, 0.2845999999999995)"
      ]
     },
     "metadata": {},
     "output_type": "display_data"
    },
    {
     "data": {
      "text/plain": [
       "(-2.2398717403411865, 0.5394999999999999)"
      ]
     },
     "metadata": {},
     "output_type": "display_data"
    },
    {
     "data": {
      "text/plain": [
       "(-0.9800273180007935, 1.1551999999999998)"
      ]
     },
     "metadata": {},
     "output_type": "display_data"
    }
   ],
   "source": [
    "from rdkit.Chem import Draw\n",
    "\n",
    "utility = drug_agent.policy(observations)\n",
    "index = int(np.argsort(utility)[-1])\n",
    "\n",
    "mol = drug_env.library[index]\n",
    "lineage = [mol]\n",
    "while mol.inspiration:\n",
    "    mol = mol.inspiration\n",
    "    lineage.insert(0, mol)\n",
    "\n",
    "assay_results = [assay(lineage) for assay in assays]\n",
    "results = [\n",
    "    utility_function.score(properties)\n",
    "    for properties in zip(*assay_results)\n",
    "]\n",
    "\n",
    "display(Draw.MolsToGridImage(\n",
    "    [m.mol for m in lineage],\n",
    "    molsPerRow=8,\n",
    "    maxMols=10_000\n",
    "))\n",
    "\n",
    "print('\\t\\t'.join(map(str, results)))\n",
    "display(*zip(*assay_results))"
   ]
  }
 ],
 "metadata": {
  "kernelspec": {
   "display_name": "Python 3 (ipykernel)",
   "language": "python",
   "name": "python3"
  },
  "language_info": {
   "codemirror_mode": {
    "name": "ipython",
    "version": 3
   },
   "file_extension": ".py",
   "mimetype": "text/x-python",
   "name": "python",
   "nbconvert_exporter": "python",
   "pygments_lexer": "ipython3",
   "version": "3.11.4"
  }
 },
 "nbformat": 4,
 "nbformat_minor": 5
}
