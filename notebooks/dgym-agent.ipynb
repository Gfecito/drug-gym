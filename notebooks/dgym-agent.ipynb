{
 "cells": [
  {
   "cell_type": "markdown",
   "id": "6fd8c1ba-6881-4477-a320-c650f6ad95f0",
   "metadata": {},
   "source": [
    "# Create new utility function"
   ]
  },
  {
   "cell_type": "markdown",
   "id": "87a1d278-93b9-43ec-a3a0-8b03e9d5de0e",
   "metadata": {},
   "source": [
    "Import data."
   ]
  },
  {
   "cell_type": "code",
   "execution_count": 444,
   "id": "52791718-50ca-4213-b11a-77770a4b4d5a",
   "metadata": {
    "tags": []
   },
   "outputs": [
    {
     "name": "stdout",
     "output_type": "stream",
     "text": [
      "The autoreload extension is already loaded. To reload it, use:\n",
      "  %reload_ext autoreload\n",
      "load data\n"
     ]
    }
   ],
   "source": [
    "%load_ext autoreload\n",
    "%autoreload 2\n",
    "\n",
    "import rdkit\n",
    "rdkit.Chem.Draw.IPythonConsole.ipython_maxProperties = -1\n",
    "\n",
    "import dgym as dg\n",
    "\n",
    "# load all data\n",
    "print('load data')\n",
    "path = '../../dgym-data'\n",
    "\n",
    "deck = dg.MoleculeCollection.from_sdf(\n",
    "    f'{path}/DSi-Poised_Library_annotated.sdf',\n",
    "    reactant_names=['reagsmi1', 'reagsmi2', 'reagsmi3']\n",
    ")\n",
    "\n",
    "reactions = dg.ReactionCollection.from_json(\n",
    "    path = f'{path}/All_Rxns_rxn_library.json',\n",
    "    smarts_col = 'reaction_string',\n",
    "    classes_col = 'functional_groups'\n",
    ")"
   ]
  },
  {
   "cell_type": "code",
   "execution_count": 2,
   "id": "a8ab1a72-d039-44d3-8e81-cfe43fd140e7",
   "metadata": {
    "tags": []
   },
   "outputs": [
    {
     "name": "stdout",
     "output_type": "stream",
     "text": [
      "align fingerprints\n",
      "partition building blocks\n"
     ]
    }
   ],
   "source": [
    "building_blocks = dg.datasets.enamine(f'{path}/Enamine_Building_Blocks_Stock_262336cmpd_20230630.sdf')\n",
    "fingerprints = dg.datasets.fingerprints(f'{path}/out/Enamine_Building_Blocks_Stock_262336cmpd_20230630.fpb')\n",
    "\n",
    "# align fingerprints to building blocks\n",
    "print('align fingerprints')\n",
    "fingerprints = dg.utils.sort_fingerprints(fingerprints, building_blocks)\n",
    "\n",
    "# partition building blocks according to functional groups\n",
    "print('partition building blocks')\n",
    "templates = dg.utils.get_unique_reactants(reactions)\n",
    "building_blocks = dg.utils.partition_building_blocks(building_blocks, templates, out_dir=path)"
   ]
  },
  {
   "cell_type": "markdown",
   "id": "63b64107-b4fb-4398-8cbb-5bd02aeec5a7",
   "metadata": {},
   "source": [
    "Create inputs to the DrugEnv."
   ]
  },
  {
   "cell_type": "code",
   "execution_count": 445,
   "id": "e261cdac-27d9-49a6-9f26-18bce353034a",
   "metadata": {
    "tags": []
   },
   "outputs": [],
   "source": [
    "import numpy as np\n",
    "from dgym.envs.library_designer import LibraryDesigner\n",
    "from dgym.envs.oracle import DGLOracle, RDKitOracle\n",
    "from dgym.envs.evaluator import ClassicEvaluator, UtilityFunction\n",
    "\n",
    "# create library designer\n",
    "library_designer = LibraryDesigner(\n",
    "    reactions,\n",
    "    building_blocks,\n",
    "    fingerprints\n",
    ")\n",
    "\n",
    "# create assays\n",
    "log_P_oracle = RDKitOracle('MolLogP')\n",
    "log_S_oracle = DGLOracle('GCN_canonical_ESOL')\n",
    "assays = [log_S_oracle, log_P_oracle]\n",
    "\n",
    "# create evaluators\n",
    "# ideal = (-2, 0)\n",
    "log_S_evaluator = ClassicEvaluator(ideal=(-2, 0), acceptable=(-4, 0.5))\n",
    "# ideal = (1, 4)\n",
    "log_P_evaluator = ClassicEvaluator(ideal=(1, 4), acceptable=(0, 5))\n",
    "\n",
    "# create utility function\n",
    "utility_function = UtilityFunction(\n",
    "    evaluators = [log_S_evaluator, log_P_evaluator],\n",
    "    strategy = lambda x: np.prod(x)\n",
    ")\n",
    "\n",
    "worst_molecules = np.argsort(drug_agent.policy(deck))[:25].tolist()"
   ]
  },
  {
   "cell_type": "markdown",
   "id": "ee797693-a744-4c97-b9c1-0f415ee0978b",
   "metadata": {},
   "source": [
    "First, set up the environment."
   ]
  },
  {
   "cell_type": "code",
   "execution_count": 500,
   "id": "8cdaad0c-a1b2-4f41-a46e-36e9e46469e3",
   "metadata": {
    "tags": []
   },
   "outputs": [
    {
     "data": {
      "application/vnd.jupyter.widget-view+json": {
       "model_id": "cdc91504e5bd4564925a98d225534c60",
       "version_major": 2,
       "version_minor": 0
      },
      "text/plain": [
       "  0%|          | 0/900 [00:00<?, ?it/s]"
      ]
     },
     "metadata": {},
     "output_type": "display_data"
    }
   ],
   "source": [
    "from dgym.envs.drug_env import DrugEnv\n",
    "from dgym.agents import HardcodedDrugAgent\n",
    "from tqdm.notebook import tqdm\n",
    "\n",
    "# results = []\n",
    "for _ in tqdm(range(900)):\n",
    "    \n",
    "    drug_env = DrugEnv(\n",
    "        library_designer,\n",
    "        library = deck[worst_molecules],\n",
    "        assays = assays,\n",
    "        budget = 10_000,\n",
    "        utility_function=utility_function,\n",
    "    )\n",
    "\n",
    "    drug_agent = HardcodedDrugAgent(\n",
    "        action_space=drug_env.action_space,\n",
    "        scoring_functions=assays,\n",
    "        utility_function=utility_function,\n",
    "        epsilon=0.33,\n",
    "        fraction_random=0.2,\n",
    "        num_analogs=1,\n",
    "        branch_factor=5\n",
    "    )\n",
    "\n",
    "    observations, info = drug_env.reset()\n",
    "\n",
    "    while True:\n",
    "        action = drug_agent.act(observations)\n",
    "        observations, reward, terminated, truncated, info = drug_env.step(action)\n",
    "        result = {'budget': budget, 'trial': trial}\n",
    "\n",
    "        if terminated:\n",
    "            result.update({'cost': len(drug_env.library) - len(drug_env.library_0), 'outcome': 1})\n",
    "            break\n",
    "\n",
    "        if truncated:\n",
    "            result.update({'outcome': 0})\n",
    "            break\n",
    "\n",
    "    results.append(result)"
   ]
  },
  {
   "cell_type": "code",
   "execution_count": 529,
   "id": "04373311-dabf-44b3-bdf9-789b19d58f44",
   "metadata": {
    "tags": []
   },
   "outputs": [
    {
     "data": {
      "text/plain": [
       "True"
      ]
     },
     "execution_count": 529,
     "metadata": {},
     "output_type": "execute_result"
    }
   ],
   "source": [
    "drug_env.library[-4].smiles == drug_env.library[-5].smiles"
   ]
  },
  {
   "cell_type": "code",
   "execution_count": 503,
   "id": "f6c46395-3d90-4cb3-b6e5-0dcd4e690c4d",
   "metadata": {
    "tags": []
   },
   "outputs": [
    {
     "data": {
      "text/plain": [
       "(0.0, 882.0)"
      ]
     },
     "execution_count": 503,
     "metadata": {},
     "output_type": "execute_result"
    },
    {
     "data": {
      "image/png": "[encoded data removed]",
      "text/plain": [
       "<Figure size 640x480 with 1 Axes>"
      ]
     },
     "metadata": {},
     "output_type": "display_data"
    }
   ],
   "source": [
    "costs = np.array([r['cost'] for r in results])\n",
    "costs_sorted = np.sort(costs)\n",
    "probs = 1. * np.arange(1, len(costs) + 1) / len(costs)\n",
    "\n",
    "costs_sorted = np.concatenate([[0.0], costs_sorted])\n",
    "probs = np.concatenate([[0.0], probs])\n",
    "\n",
    "sns.set()\n",
    "g = sns.lineplot(x=costs_sorted, y=probs)\n",
    "g.set_title('Hardcoded | num_analogs = 10 | branch_factor = 5')\n",
    "g.set_xlabel('# Molecules')\n",
    "g.set_ylabel('Probability of Reaching Goal')\n",
    "g.set_ylim([0, 1])\n",
    "g.set_xlim(0)"
   ]
  },
  {
   "cell_type": "markdown",
   "id": "84e34e51-4304-41af-b3e0-1278e5db10f1",
   "metadata": {},
   "source": [
    "Draw lineage of best molecule."
   ]
  },
  {
   "cell_type": "code",
   "execution_count": 339,
   "id": "0efea863-e1a2-441c-bd73-7cf55ac81bca",
   "metadata": {
    "tags": []
   },
   "outputs": [
    {
     "data": {
      "image/png": "[encoded data removed]",
      "text/plain": [
       "<IPython.core.display.Image object>"
      ]
     },
     "metadata": {},
     "output_type": "display_data"
    },
    {
     "name": "stdout",
     "output_type": "stream",
     "text": [
      "0.6207067290842531\t\t0.6106847879787286\t\t1\n"
     ]
    },
    {
     "data": {
      "text/plain": [
       "(-1.2017120122909546, 0.2845999999999995)"
      ]
     },
     "metadata": {},
     "output_type": "display_data"
    },
    {
     "data": {
      "text/plain": [
       "(-2.2398717403411865, 0.5394999999999999)"
      ]
     },
     "metadata": {},
     "output_type": "display_data"
    },
    {
     "data": {
      "text/plain": [
       "(-0.9800273180007935, 1.1551999999999998)"
      ]
     },
     "metadata": {},
     "output_type": "display_data"
    }
   ],
   "source": [
    "from rdkit.Chem import Draw\n",
    "\n",
    "utility = drug_agent.policy(observations)\n",
    "index = int(np.argsort(utility)[-1])\n",
    "\n",
    "mol = drug_env.library[index]\n",
    "lineage = [mol]\n",
    "while mol.inspiration:\n",
    "    mol = mol.inspiration\n",
    "    lineage.insert(0, mol)\n",
    "\n",
    "assay_results = [assay(lineage) for assay in assays]\n",
    "results = [\n",
    "    utility_function.score(properties)\n",
    "    for properties in zip(*assay_results)\n",
    "]\n",
    "\n",
    "display(Draw.MolsToGridImage(\n",
    "    [m.mol for m in lineage],\n",
    "    molsPerRow=8,\n",
    "    maxMols=10_000\n",
    "))\n",
    "\n",
    "print('\\t\\t'.join(map(str, results)))\n",
    "display(*zip(*assay_results))"
   ]
  }
 ],
 "metadata": {
  "kernelspec": {
   "display_name": "Python 3 (ipykernel)",
   "language": "python",
   "name": "python3"
  },
  "language_info": {
   "codemirror_mode": {
    "name": "ipython",
    "version": 3
   },
   "file_extension": ".py",
   "mimetype": "text/x-python",
   "name": "python",
   "nbconvert_exporter": "python",
   "pygments_lexer": "ipython3",
   "version": "3.11.4"
  }
 },
 "nbformat": 4,
 "nbformat_minor": 5
}
