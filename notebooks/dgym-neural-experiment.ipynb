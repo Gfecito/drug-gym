{
 "cells": [
  {
   "cell_type": "markdown",
   "id": "23ecb699-716a-431a-8516-5feb8d915984",
   "metadata": {},
   "source": [
    "## Using a GAT neural surrogate of potency"
   ]
  },
  {
   "cell_type": "markdown",
   "id": "f1d34a08-2127-4c25-9833-0671586c2b1a",
   "metadata": {},
   "source": [
    "Instantiate model structure."
   ]
  },
  {
   "cell_type": "code",
   "execution_count": 1,
   "id": "572cf43a-4bbc-47d5-8418-8544e2d7fc15",
   "metadata": {
    "tags": []
   },
   "outputs": [],
   "source": [
    "import torch\n",
    "device = torch.device(\"cuda\" if torch.cuda.is_available() else \"cpu\")\n",
    "\n",
    "import dgym as dg\n",
    "from dgym.envs import oracle\n",
    "\n",
    "config = {\n",
    "    \"dropout\": 0.05,\n",
    "    \"gnn_hidden_feats\": 64,\n",
    "    \"num_heads\": 8,\n",
    "    \"alpha\": 0.06,\n",
    "    \"predictor_hidden_feats\": 128,\n",
    "    \"num_gnn_layers\": 5,\n",
    "    \"residual\": True\n",
    "}\n",
    "\n",
    "model = oracle.build_model_2d(config=config)"
   ]
  },
  {
   "cell_type": "markdown",
   "id": "f7b6cab9-5c78-41c4-9f8b-72ed50b0beb7",
   "metadata": {},
   "source": [
    "Load state dict from disk."
   ]
  },
  {
   "cell_type": "code",
   "execution_count": 3,
   "id": "da6f70bf-dfba-4446-999d-4d796e2c3f16",
   "metadata": {
    "tags": []
   },
   "outputs": [],
   "source": [
    "root_dir = '../../dgym-data/neural/'\n",
    "file_name = 'asapdiscovery-SARS-CoV-2-Mpro-GAT-2023.08.25.th'\n",
    "path = f'{root_dir}/{file_name}'\n",
    "\n",
    "preloaded_state_dict = torch.load(path)\n",
    "state_dict = dict(zip(\n",
    "    model.state_dict().keys(),\n",
    "    preloaded_state_dict.values()\n",
    "))\n",
    "\n",
    "model.load_state_dict(state_dict)\n",
    "model.eval()\n",
    "model = model.to(device)"
   ]
  },
  {
   "cell_type": "markdown",
   "id": "30f0c711-2899-4e01-96c6-dbbd0cc150d6",
   "metadata": {},
   "source": [
    "Import data."
   ]
  },
  {
   "cell_type": "code",
   "execution_count": 5,
   "id": "dd317a9a-accc-44fb-b3ce-4d2b025a0ac7",
   "metadata": {
    "tags": []
   },
   "outputs": [],
   "source": [
    "import dgym as dg\n",
    "\n",
    "deck = dg.MoleculeCollection.from_sdf(\n",
    "    # f'{root_dir}/DSi-Poised_Library_annotated.sdf',\n",
    "    f'{root_dir}/Mpro_combined_aminopyridine.sdf',\n",
    "    reactant_names=['reagsmi1', 'reagsmi2', 'reagsmi3']\n",
    ")"
   ]
  },
  {
   "cell_type": "markdown",
   "id": "2d3ff531-1fe5-427a-bae4-8550bdbd7036",
   "metadata": {},
   "source": [
    "Try predicting."
   ]
  },
  {
   "cell_type": "code",
   "execution_count": 48,
   "id": "a3db9772-77db-442e-aad6-ebded8cdc7e3",
   "metadata": {
    "tags": []
   },
   "outputs": [],
   "source": [
    "import pandas as pd\n",
    "import dgl\n",
    "import dgllife\n",
    "\n",
    "def predict(molecules):\n",
    "    \n",
    "    # make mol_to_graph util\n",
    "    mol_to_graph = dgllife.utils.MolToBigraph(\n",
    "        add_self_loop=True,\n",
    "        node_featurizer=dgllife.utils.CanonicalAtomFeaturizer()\n",
    "    )\n",
    "\n",
    "    # featurize\n",
    "    graphs = [\n",
    "        mol_to_graph(m.update_cache().mol)\n",
    "        for m in molecules\n",
    "    ]\n",
    "\n",
    "    # batch\n",
    "    graph_batch = dgl.batch(graphs).to(device)\n",
    "\n",
    "    # perform inference\n",
    "    with torch.no_grad():\n",
    "        preds = model({'g': graph_batch})\n",
    "    \n",
    "    return preds.ravel().tolist()\n",
    "\n",
    "preds = predict(deck)\n",
    "\n",
    "# convert to dataframe\n",
    "aff_pred = pd.DataFrame.from_dict({\n",
    "    'smiles': deck.smiles,\n",
    "    'pIC50_pred': preds}\n",
    ")"
   ]
  },
  {
   "cell_type": "markdown",
   "id": "5bfe9329-6fa0-4b91-a298-ffdbc13b9d11",
   "metadata": {},
   "source": [
    "Comparing to actuals."
   ]
  },
  {
   "cell_type": "code",
   "execution_count": 160,
   "id": "c912c606-22c7-4645-aaa3-c9f49fa45961",
   "metadata": {
    "tags": []
   },
   "outputs": [],
   "source": [
    "import pandas as pd\n",
    "\n",
    "# import data\n",
    "aff_actual = pd.read_csv(f'{root_dir}/CDD CSV Export - 2023-09-11 11h31m13s.csv')\n",
    "aff_actual = aff_actual[[\n",
    "    'suspected_SMILES',\n",
    "    'Canonical PostEra ID',\n",
    "    'ProteaseAssay_Fluorescence_Dose-Response_Weizmann: IC50 (µM)'\n",
    "]].copy()\n",
    "aff_actual.columns = ['smiles', 'compound_id', 'IC50']\n",
    "\n",
    "# convert affinity to numeric\n",
    "aff_actual = aff_actual.dropna(subset='IC50')\n",
    "aff_actual['IC50'] = pd.to_numeric(aff_actual['IC50'], errors='coerce').fillna(99.5)\n",
    "\n",
    "# transform to pIC50\n",
    "import numpy as np\n",
    "aff_actual['pIC50'] = -np.log10(aff_actual['IC50'] * 1e-6)"
   ]
  },
  {
   "cell_type": "code",
   "execution_count": 163,
   "id": "ec435e63-d591-47f8-b15e-dfcc02cafcd4",
   "metadata": {
    "tags": []
   },
   "outputs": [
    {
     "name": "stderr",
     "output_type": "stream",
     "text": [
      "/home/mrr/miniconda3/envs/chodera/lib/python3.11/site-packages/seaborn/axisgrid.py:118: UserWarning: The figure layout has changed to tight\n",
      "  self._figure.tight_layout(*args, **kwargs)\n"
     ]
    },
    {
     "data": {
      "text/plain": [
       "<seaborn.axisgrid.FacetGrid at 0x7f45ae17f9d0>"
      ]
     },
     "execution_count": 163,
     "metadata": {},
     "output_type": "execute_result"
    },
    {
     "data": {
      "image/png": "[encoded data removed]",
      "text/plain": [
       "<Figure size 500x500 with 1 Axes>"
      ]
     },
     "metadata": {},
     "output_type": "display_data"
    }
   ],
   "source": [
    "sns.displot(\n",
    "    aff_actual['pIC50']\n",
    ")"
   ]
  },
  {
   "cell_type": "code",
   "execution_count": 125,
   "id": "cd2d7be9-fde8-4eb8-945f-9cb4679abc91",
   "metadata": {
    "tags": []
   },
   "outputs": [],
   "source": [
    "from dgym.molecule import Molecule\n",
    "from dgym.collection import Collection\n",
    "\n",
    "# create collection\n",
    "data = Collection([\n",
    "    Molecule(Chem.MolFromSmiles(s)) for s in aff_actual['smiles']\n",
    "])\n",
    "\n",
    "aff_actual['pIC50_pred'] = np.clip(predict(data), 4, np.inf)"
   ]
  },
  {
   "cell_type": "markdown",
   "id": "870019ed-4ab6-40d0-b13c-8fc397d9553d",
   "metadata": {},
   "source": [
    "Quantitative metrics."
   ]
  },
  {
   "cell_type": "code",
   "execution_count": 142,
   "id": "479a6644-67ef-48fd-96c2-403449f2a52c",
   "metadata": {
    "tags": []
   },
   "outputs": [],
   "source": [
    "from rdkit import Chem\n",
    "from dgym.molecule import Molecule\n",
    "from dgym.collection import Collection\n",
    "\n",
    "import json\n",
    "\n",
    "# import data\n",
    "data = json.load(open('../../dgym-data/neural/test.table.json'))\n",
    "train = pd.DataFrame(data['data'], columns=data['columns'])\n",
    "\n",
    "# merge with affinities\n",
    "aff = aff_actual.merge(train, on='compound_id')\n",
    "\n",
    "# create collection\n",
    "data = Collection([\n",
    "    Molecule(Chem.MolFromSmiles(s)) for s in aff['smiles']\n",
    "])\n",
    "\n",
    "# predict\n",
    "aff['pIC50_pred'] = np.clip(predict(data), 4, np.inf)"
   ]
  },
  {
   "cell_type": "code",
   "execution_count": 143,
   "id": "7dcad0ce-bcba-4527-8ba1-c9a2a60f25a0",
   "metadata": {
    "tags": []
   },
   "outputs": [
    {
     "name": "stdout",
     "output_type": "stream",
     "text": [
      "Pearson r:\t 0.8258321388319217\n",
      "RMSE:\t\t 0.7684321318984335\n"
     ]
    }
   ],
   "source": [
    "from scipy.stats import pearsonr\n",
    "from sklearn.metrics import mean_squared_error\n",
    "\n",
    "print('Pearson r:\\t', pearsonr(aff['pIC50_y'], aff['pIC50_pred']).statistic)\n",
    "print('RMSE:\\t\\t', mean_squared_error(aff['pIC50_y'], aff['pIC50_pred'], squared=False))"
   ]
  },
  {
   "cell_type": "code",
   "execution_count": 158,
   "id": "936744a3-705f-4384-bcb5-2c146b60c057",
   "metadata": {
    "tags": []
   },
   "outputs": [
    {
     "data": {
      "text/plain": [
       "<seaborn.axisgrid.JointGrid at 0x7f45ae0ef350>"
      ]
     },
     "execution_count": 158,
     "metadata": {},
     "output_type": "execute_result"
    },
    {
     "data": {
      "image/png": "[encoded data removed]",
      "text/plain": [
       "<Figure size 600x600 with 3 Axes>"
      ]
     },
     "metadata": {},
     "output_type": "display_data"
    }
   ],
   "source": [
    "import seaborn as sns\n",
    "\n",
    "sns.jointplot(\n",
    "    data=aff,\n",
    "    x='pIC50_pred',\n",
    "    y='pIC50_x',\n",
    "    kind=\"scatter\"\n",
    ")"
   ]
  }
 ],
 "metadata": {
  "kernelspec": {
   "display_name": "Python 3 (ipykernel)",
   "language": "python",
   "name": "python3"
  },
  "language_info": {
   "codemirror_mode": {
    "name": "ipython",
    "version": 3
   },
   "file_extension": ".py",
   "mimetype": "text/x-python",
   "name": "python",
   "nbconvert_exporter": "python",
   "pygments_lexer": "ipython3",
   "version": "3.11.5"
  }
 },
 "nbformat": 4,
 "nbformat_minor": 5
}
