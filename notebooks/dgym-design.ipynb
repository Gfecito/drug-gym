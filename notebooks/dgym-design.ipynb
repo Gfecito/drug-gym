{
 "cells": [
  {
   "cell_type": "markdown",
   "id": "6fd8c1ba-6881-4477-a320-c650f6ad95f0",
   "metadata": {},
   "source": [
    "# Refactor dgym library designer"
   ]
  },
  {
   "cell_type": "markdown",
   "id": "87a1d278-93b9-43ec-a3a0-8b03e9d5de0e",
   "metadata": {},
   "source": [
    "Import data."
   ]
  },
  {
   "cell_type": "code",
   "execution_count": 1,
   "id": "52791718-50ca-4213-b11a-77770a4b4d5a",
   "metadata": {
    "tags": []
   },
   "outputs": [
    {
     "name": "stdout",
     "output_type": "stream",
     "text": [
      "load data\n"
     ]
    }
   ],
   "source": [
    "%load_ext autoreload\n",
    "%autoreload 2\n",
    "\n",
    "import rdkit\n",
    "rdkit.Chem.Draw.IPythonConsole.ipython_maxProperties = -1\n",
    "\n",
    "import dgym as dg\n",
    "\n",
    "# load all data\n",
    "print('load data')\n",
    "path = '../../dgym-data'\n",
    "\n",
    "deck = dg.MoleculeCollection.from_sdf(\n",
    "    f'{path}/DSi-Poised_Library_annotated.sdf',\n",
    "    reactant_names=['reagsmi1', 'reagsmi2', 'reagsmi3']\n",
    ")\n",
    "\n",
    "reactions = dg.ReactionCollection.from_json(\n",
    "    path = f'{path}/All_Rxns_rxn_library.json',\n",
    "    smarts_col = 'reaction_string',\n",
    "    classes_col = 'functional_groups'\n",
    ")"
   ]
  },
  {
   "cell_type": "code",
   "execution_count": null,
   "id": "a8ab1a72-d039-44d3-8e81-cfe43fd140e7",
   "metadata": {
    "tags": []
   },
   "outputs": [
    {
     "name": "stdout",
     "output_type": "stream",
     "text": [
      "align fingerprints\n",
      "partition building blocks\n"
     ]
    }
   ],
   "source": [
    "building_blocks = dg.datasets.enamine(f'{path}/Enamine_Building_Blocks_Stock_262336cmpd_20230630.sdf')\n",
    "fingerprints = dg.datasets.fingerprints(f'{path}/out/Enamine_Building_Blocks_Stock_262336cmpd_20230630.fpb')\n",
    "\n",
    "# align fingerprints to building blocks\n",
    "print('align fingerprints')\n",
    "fingerprints = dg.utils.sort_fingerprints(fingerprints, building_blocks)\n",
    "\n",
    "# partition building blocks according to functional groups\n",
    "print('partition building blocks')\n",
    "templates = dg.utils.get_unique_reactants(reactions)\n",
    "building_blocks = dg.utils.partition_building_blocks(building_blocks, templates, out_dir=path)"
   ]
  },
  {
   "cell_type": "code",
   "execution_count": null,
   "id": "e261cdac-27d9-49a6-9f26-18bce353034a",
   "metadata": {
    "tags": []
   },
   "outputs": [],
   "source": [
    "from dgym.envs.library_designer import LibraryDesigner\n",
    "from dgym.envs.oracle import DGLOracle\n",
    "\n",
    "library_designer = LibraryDesigner(\n",
    "    reactions,\n",
    "    building_blocks,\n",
    "    fingerprints\n",
    ")\n",
    "\n",
    "lipo_oracle = DGLOracle('GCN_canonical_Lipophilicity')\n",
    "esol_oracle = DGLOracle('GCN_canonical_ESOL')"
   ]
  },
  {
   "cell_type": "code",
   "execution_count": 69,
   "id": "68f4ce27-8f94-4982-b371-add3c77076b7",
   "metadata": {
    "tags": []
   },
   "outputs": [
    {
     "data": {
      "text/plain": [
       "[(<rdkit.Chem.rdchem.Mol at 0x7fe409f69bd0>, 2495),\n",
       " (<rdkit.Chem.rdchem.Mol at 0x7fe40a196a40>, 187),\n",
       " (<rdkit.Chem.rdchem.Mol at 0x7fe40a1d1540>, 156),\n",
       " (<rdkit.Chem.rdchem.Mol at 0x7fe40a140200>, 145),\n",
       " (<rdkit.Chem.rdchem.Mol at 0x7fe40a1fa490>, 96),\n",
       " (<rdkit.Chem.rdchem.Mol at 0x7fe428ffbe60>, 83),\n",
       " (<rdkit.Chem.rdchem.Mol at 0x7fe40a1614d0>, 81),\n",
       " (<rdkit.Chem.rdchem.Mol at 0x7fe40a160cf0>, 77),\n",
       " (<rdkit.Chem.rdchem.Mol at 0x7fe40a10bed0>, 62),\n",
       " (<rdkit.Chem.rdchem.Mol at 0x7fe40a1433e0>, 50),\n",
       " (<rdkit.Chem.rdchem.Mol at 0x7fe40a1d26c0>, 50),\n",
       " (<rdkit.Chem.rdchem.Mol at 0x7fe40a1f9070>, 49),\n",
       " (<rdkit.Chem.rdchem.Mol at 0x7fe409f690e0>, 47),\n",
       " (<rdkit.Chem.rdchem.Mol at 0x7fe40a162180>, 45),\n",
       " (<rdkit.Chem.rdchem.Mol at 0x7fe40a195f50>, 45),\n",
       " (<rdkit.Chem.rdchem.Mol at 0x7fe40a1b6a40>, 45),\n",
       " (<rdkit.Chem.rdchem.Mol at 0x7fe40a1f8430>, 45),\n",
       " (<rdkit.Chem.rdchem.Mol at 0x7fe40a1d0040>, 43),\n",
       " (<rdkit.Chem.rdchem.Mol at 0x7fe40a1082e0>, 39),\n",
       " (<rdkit.Chem.rdchem.Mol at 0x7fe42ad5c6d0>, 1)]"
      ]
     },
     "execution_count": 69,
     "metadata": {},
     "output_type": "execute_result"
    }
   ],
   "source": [
    "from collections import Counter\n",
    "\n",
    "original_inspirations = []\n",
    "for mol in drug_env.library:\n",
    "    while mol.inspiration:\n",
    "        mol = mol.inspiration\n",
    "    original_inspirations.append(mol)\n",
    "    \n",
    "Counter([o.mol for o in original_inspirations]).most_common(20)"
   ]
  },
  {
   "cell_type": "code",
   "execution_count": 130,
   "id": "5075a037-3494-48c8-bb94-b9cd04d87106",
   "metadata": {
    "tags": []
   },
   "outputs": [
    {
     "data": {
      "image/png": "[encoded data removed]",
      "text/plain": [
       "<IPython.core.display.Image object>"
      ]
     },
     "metadata": {},
     "output_type": "display_data"
    }
   ],
   "source": [
    "from rdkit.Chem import Draw\n",
    "\n",
    "mol = drug_env.library[4]\n",
    "\n",
    "lineage = [mol]\n",
    "results = []\n",
    "while mol.inspiration:\n",
    "    mol = mol.inspiration\n",
    "    lineage.append(mol)\n",
    "    try:\n",
    "        results.append(\n",
    "            utility_function(\n",
    "                mol.annotations['GCN_canonical_Lipophilicity'],\n",
    "                mol.annotations['GCN_canonical_ESOL']\n",
    "            )\n",
    "        )\n",
    "    except:\n",
    "        pass\n",
    "\n",
    "display(*results[::-1])\n",
    "display(Draw.MolsToGridImage(\n",
    "    [m.mol for m in lineage][::-1],\n",
    "    molsPerRow=8,\n",
    "    maxMols=10_000\n",
    "))"
   ]
  }
 ],
 "metadata": {
  "kernelspec": {
   "display_name": "Python 3 (ipykernel)",
   "language": "python",
   "name": "python3"
  },
  "language_info": {
   "codemirror_mode": {
    "name": "ipython",
    "version": 3
   },
   "file_extension": ".py",
   "mimetype": "text/x-python",
   "name": "python",
   "nbconvert_exporter": "python",
   "pygments_lexer": "ipython3",
   "version": "3.11.4"
  }
 },
 "nbformat": 4,
 "nbformat_minor": 5
}
