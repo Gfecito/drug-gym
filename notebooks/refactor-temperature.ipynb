{
 "cells": [
  {
   "cell_type": "markdown",
   "id": "40480a08-b17c-4f60-99d1-fb3d9f1863fd",
   "metadata": {},
   "source": [
    "# Refactoring temperature"
   ]
  },
  {
   "cell_type": "markdown",
   "id": "7cc17cfe-1d9a-4506-a370-dedeba7dcce2",
   "metadata": {},
   "source": [
    "Basic data and imports."
   ]
  },
  {
   "cell_type": "code",
   "execution_count": 2,
   "id": "07053810-be38-4d72-ac3d-bf046ea0b322",
   "metadata": {
    "tags": []
   },
   "outputs": [],
   "source": [
    "%reload_ext autoreload\n",
    "%autoreload 2\n",
    "\n",
    "import rdkit\n",
    "rdkit.Chem.Draw.IPythonConsole.ipython_maxProperties = -1\n",
    "\n",
    "import dgym as dg\n",
    "\n",
    "# load all data\n",
    "path = '../../dgym-data'\n",
    "\n",
    "deck = dg.MoleculeCollection.load(\n",
    "    f'{path}/DSi-Poised_Library_annotated.sdf',\n",
    "    reactant_names=['reagsmi1', 'reagsmi2', 'reagsmi3']\n",
    ")\n",
    "\n",
    "reactions = dg.ReactionCollection.from_json(\n",
    "    path = f'{path}/All_Rxns_rxn_library.json',\n",
    "    smarts_col = 'reaction_string',\n",
    "    classes_col = 'functional_groups'\n",
    ")\n",
    "\n",
    "building_blocks = dg.datasets.disk_loader(f'{path}/Enamine_Building_Blocks_Stock_262336cmpd_20230630.sdf')\n",
    "fingerprints = dg.datasets.fingerprints(f'{path}/Enamine_Building_Blocks_Stock_262336cmpd_20230630_atoms.fpb')"
   ]
  },
  {
   "cell_type": "markdown",
   "id": "805b444c-4d80-4f9d-850f-ff5ae402ad66",
   "metadata": {},
   "source": [
    "Make designer."
   ]
  },
  {
   "cell_type": "code",
   "execution_count": 5,
   "id": "1696e757-1146-46aa-8a16-f15e2690b389",
   "metadata": {
    "tags": []
   },
   "outputs": [],
   "source": [
    "import numpy as np\n",
    "from dgym.molecule import Molecule\n",
    "from dgym.envs.designer import Designer, Generator\n",
    "\n",
    "designer = Designer(\n",
    "    Generator(building_blocks, fingerprints),\n",
    "    reactions,\n",
    "    cache = True\n",
    ")"
   ]
  },
  {
   "cell_type": "code",
   "execution_count": 435,
   "id": "569a84ff-a054-483e-ab80-39bd64e12b9f",
   "metadata": {
    "tags": []
   },
   "outputs": [],
   "source": [
    "self = designer.generator"
   ]
  },
  {
   "cell_type": "code",
   "execution_count": 436,
   "id": "76122e9f-db14-4530-bb88-7b84935d171b",
   "metadata": {
    "tags": []
   },
   "outputs": [
    {
     "name": "stdout",
     "output_type": "stream",
     "text": [
      "CPU times: user 77.4 ms, sys: 177 µs, total: 77.5 ms\n",
      "Wall time: 83.8 ms\n"
     ]
    }
   ],
   "source": [
    "%%time\n",
    "sizes = get_size(self.fingerprints.ids)\n",
    "sizes = torch.tensor([sizes])"
   ]
  },
  {
   "cell_type": "code",
   "execution_count": 564,
   "id": "9af06b2b-a4e0-4065-818c-661a8792b9ab",
   "metadata": {
    "tags": []
   },
   "outputs": [
    {
     "name": "stdout",
     "output_type": "stream",
     "text": [
      "CPU times: user 5.65 ms, sys: 0 ns, total: 5.65 ms\n",
      "Wall time: 5.64 ms\n"
     ]
    }
   ],
   "source": [
    "%%time\n",
    "import torch\n",
    "\n",
    "temperature = 1.0\n",
    "\n",
    "molecules = [deck[0].reactants[0]]\n",
    "fingerprint_type = self.fingerprints.get_fingerprint_type()\n",
    "fingerprints = [\n",
    "    (m.name, fingerprint_type.from_smi(m.smiles))\n",
    "    for m in molecules\n",
    "]\n",
    "\n",
    "queries = chemfp.load_fingerprints(\n",
    "    fingerprints,\n",
    "    metadata = fingerprint_type.get_metadata(),\n",
    "    reorder=False\n",
    ")\n",
    "\n",
    "results = chemfp.simsearch(\n",
    "    queries = queries,\n",
    "    targets = self.fingerprints,\n",
    "    progress = False,\n",
    "    threshold = 0.0,\n",
    "    # k = 500\n",
    ")"
   ]
  },
  {
   "cell_type": "code",
   "execution_count": 636,
   "id": "1ce55e0b-8cca-4241-bf52-e5cca4f5216e",
   "metadata": {
    "tags": []
   },
   "outputs": [
    {
     "name": "stdout",
     "output_type": "stream",
     "text": [
      "CPU times: user 3.51 ms, sys: 0 ns, total: 3.51 ms\n",
      "Wall time: 1.76 ms\n"
     ]
    }
   ],
   "source": [
    "%%time\n",
    "scores = torch.tensor(results.to_csr().A)"
   ]
  },
  {
   "cell_type": "code",
   "execution_count": 637,
   "id": "a8983abc-a4f7-4a67-9291-bcbf4a3580c8",
   "metadata": {
    "tags": []
   },
   "outputs": [],
   "source": [
    "scores += self.size_similarity(molecules, sizes)"
   ]
  },
  {
   "cell_type": "code",
   "execution_count": 638,
   "id": "bdf01bf4-6f31-4642-a7bd-e6b4d69b8148",
   "metadata": {
    "tags": []
   },
   "outputs": [
    {
     "name": "stdout",
     "output_type": "stream",
     "text": [
      "CPU times: user 19.5 ms, sys: 1.67 ms, total: 21.2 ms\n",
      "Wall time: 2.53 ms\n"
     ]
    }
   ],
   "source": [
    "%%time\n",
    "temperature = 0.0\n",
    "probabilities = self.boltzmann(scores, temperature)\n",
    "samples_idx = torch.multinomial(probabilities, 200)\n",
    "samples = torch.gather(indices, 1, samples_idx).tolist()"
   ]
  },
  {
   "cell_type": "code",
   "execution_count": 639,
   "id": "a1801cf0-54cd-4e15-897a-f5beff19c5e9",
   "metadata": {
    "tags": []
   },
   "outputs": [],
   "source": [
    "strict = False\n",
    "generators = [\n",
    "    self._generator_factory(sampler, molecule, strict=strict)\n",
    "    for sampler, molecule in zip(samples, molecules)\n",
    "]"
   ]
  },
  {
   "cell_type": "code",
   "execution_count": 719,
   "id": "124bf857-bc83-42a4-9b9d-e0b2e4fe3a1a",
   "metadata": {
    "tags": []
   },
   "outputs": [
    {
     "data": {
      "image/png": "[encoded data removed]",
      "text/html": [
       "<table><tr><td colspan=\"2\" style=\"text-align: center;\"><image src=\"data:image/png;base64,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\"></td></tr>\n",
       "<tr><th style=\"text-align: right\">Mw</th><td style=\"text-align: left\">100.08</td></tr>\n",
       "<tr><th style=\"text-align: right\">ID</th><td style=\"text-align: left\">EN300-7096181</td></tr>\n",
       "<tr><th style=\"text-align: right\">IUPAC Name</th><td style=\"text-align: left\">(1,2,4-oxadiazol-3-yl)methanol</td></tr>\n",
       "<tr><th style=\"text-align: right\">URL</th><td style=\"text-align: left\">https://www.enaminestore.com/catalog/EN300-7096181</td></tr>\n",
       "<tr><th style=\"text-align: right\">Stock_weight_G</th><td style=\"text-align: left\">30</td></tr>\n",
       "<tr><th style=\"text-align: right\">Class</th><td style=\"text-align: left\">Alcohols, Reagents</td></tr>\n",
       "<tr><th style=\"text-align: right\">Subclass</th><td style=\"text-align: left\">aliphatic_alcohols, Minisci_CHpartners</td></tr></table>"
      ],
      "text/plain": [
       "<dgym.molecule.Molecule at 0x7f2b6c174490>"
      ]
     },
     "execution_count": 719,
     "metadata": {},
     "output_type": "execute_result"
    }
   ],
   "source": [
    "next(generators[0])"
   ]
  }
 ],
 "metadata": {
  "kernelspec": {
   "display_name": "Python 3 (ipykernel)",
   "language": "python",
   "name": "python3"
  },
  "language_info": {
   "codemirror_mode": {
    "name": "ipython",
    "version": 3
   },
   "file_extension": ".py",
   "mimetype": "text/x-python",
   "name": "python",
   "nbconvert_exporter": "python",
   "pygments_lexer": "ipython3",
   "version": "3.11.5"
  }
 },
 "nbformat": 4,
 "nbformat_minor": 5
}
