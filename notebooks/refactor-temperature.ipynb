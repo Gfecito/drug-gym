{
 "cells": [
  {
   "cell_type": "markdown",
   "id": "40480a08-b17c-4f60-99d1-fb3d9f1863fd",
   "metadata": {},
   "source": [
    "# Refactoring temperature"
   ]
  },
  {
   "cell_type": "markdown",
   "id": "7cc17cfe-1d9a-4506-a370-dedeba7dcce2",
   "metadata": {},
   "source": [
    "Basic data and imports."
   ]
  },
  {
   "cell_type": "code",
   "execution_count": 2,
   "id": "07053810-be38-4d72-ac3d-bf046ea0b322",
   "metadata": {
    "tags": []
   },
   "outputs": [],
   "source": [
    "%reload_ext autoreload\n",
    "%autoreload 2\n",
    "\n",
    "import rdkit\n",
    "rdkit.Chem.Draw.IPythonConsole.ipython_maxProperties = -1\n",
    "\n",
    "import dgym as dg\n",
    "\n",
    "# load all data\n",
    "path = '../../dgym-data'\n",
    "\n",
    "deck = dg.MoleculeCollection.load(\n",
    "    f'{path}/DSi-Poised_Library_annotated.sdf',\n",
    "    reactant_names=['reagsmi1', 'reagsmi2', 'reagsmi3']\n",
    ")\n",
    "\n",
    "reactions = dg.ReactionCollection.from_json(\n",
    "    path = f'{path}/All_Rxns_rxn_library.json',\n",
    "    smarts_col = 'reaction_string',\n",
    "    classes_col = 'functional_groups'\n",
    ")\n",
    "\n",
    "building_blocks = dg.datasets.disk_loader(f'{path}/Enamine_Building_Blocks_Stock_262336cmpd_20230630.sdf')\n",
    "fingerprints = dg.datasets.fingerprints(f'{path}/Enamine_Building_Blocks_Stock_262336cmpd_20230630_atoms.fpb')"
   ]
  },
  {
   "cell_type": "markdown",
   "id": "805b444c-4d80-4f9d-850f-ff5ae402ad66",
   "metadata": {},
   "source": [
    "Make designer."
   ]
  },
  {
   "cell_type": "code",
   "execution_count": 5,
   "id": "1696e757-1146-46aa-8a16-f15e2690b389",
   "metadata": {
    "tags": []
   },
   "outputs": [],
   "source": [
    "import numpy as np\n",
    "from dgym.molecule import Molecule\n",
    "from dgym.envs.designer import Designer, Generator\n",
    "\n",
    "designer = Designer(\n",
    "    Generator(building_blocks, fingerprints),\n",
    "    reactions,\n",
    "    cache = True\n",
    ")"
   ]
  },
  {
   "cell_type": "code",
   "execution_count": 435,
   "id": "569a84ff-a054-483e-ab80-39bd64e12b9f",
   "metadata": {
    "tags": []
   },
   "outputs": [],
   "source": [
    "self = designer.generator"
   ]
  },
  {
   "cell_type": "code",
   "execution_count": 1009,
   "id": "76122e9f-db14-4530-bb88-7b84935d171b",
   "metadata": {
    "tags": []
   },
   "outputs": [
    {
     "name": "stdout",
     "output_type": "stream",
     "text": [
      "CPU times: user 15.3 ms, sys: 793 µs, total: 16.1 ms\n",
      "Wall time: 4.9 ms\n"
     ]
    }
   ],
   "source": [
    "%%time\n",
    "import pyarrow.parquet as pq\n",
    "\n",
    "table = pq.read_table('../../dgym-data/sizes.parquet')\n",
    "sizes = torch.tensor(table[0].to_numpy())"
   ]
  },
  {
   "cell_type": "code",
   "execution_count": 1006,
   "id": "9af06b2b-a4e0-4065-818c-661a8792b9ab",
   "metadata": {
    "tags": []
   },
   "outputs": [
    {
     "name": "stdout",
     "output_type": "stream",
     "text": [
      "CPU times: user 0 ns, sys: 7.72 ms, total: 7.72 ms\n",
      "Wall time: 6.29 ms\n"
     ]
    }
   ],
   "source": [
    "%%time\n",
    "import torch\n",
    "\n",
    "molecules = [deck[10].reactants[1]]\n",
    "fingerprint_type = self.fingerprints.get_fingerprint_type()\n",
    "fingerprints = [\n",
    "    (m.name, fingerprint_type.from_smi(m.smiles))\n",
    "    for m in molecules\n",
    "]\n",
    "\n",
    "queries = chemfp.load_fingerprints(\n",
    "    fingerprints,\n",
    "    metadata = fingerprint_type.get_metadata(),\n",
    "    reorder=False\n",
    ")\n",
    "\n",
    "results = chemfp.simsearch(\n",
    "    queries = queries,\n",
    "    targets = self.fingerprints,\n",
    "    progress = False,\n",
    "    threshold = 0.0,\n",
    ")\n",
    "\n",
    "scores = torch.tensor(results.to_csr().A)"
   ]
  },
  {
   "cell_type": "code",
   "execution_count": 1010,
   "id": "a8983abc-a4f7-4a67-9291-bcbf4a3580c8",
   "metadata": {
    "tags": []
   },
   "outputs": [],
   "source": [
    "scores += self.size_similarity(molecules, sizes)"
   ]
  },
  {
   "cell_type": "code",
   "execution_count": 1182,
   "id": "bdf01bf4-6f31-4642-a7bd-e6b4d69b8148",
   "metadata": {
    "tags": []
   },
   "outputs": [
    {
     "name": "stdout",
     "output_type": "stream",
     "text": [
      "CPU times: user 23.9 ms, sys: 787 µs, total: 24.7 ms\n",
      "Wall time: 2.89 ms\n"
     ]
    }
   ],
   "source": [
    "%%time\n",
    "temperature = 0.05\n",
    "probabilities = self.boltzmann(scores, temperature)\n",
    "samples_idx = torch.multinomial(probabilities, 200)\n",
    "samples = torch.gather(indices, 1, samples_idx).tolist()"
   ]
  },
  {
   "cell_type": "code",
   "execution_count": 1203,
   "id": "75afa04c-23e4-4e1a-9f00-c38ded6be0f6",
   "metadata": {
    "tags": []
   },
   "outputs": [
    {
     "data": {
      "text/plain": [
       "tensor([[     0,      1,      2,  ..., 262333, 262334, 262335]])"
      ]
     },
     "execution_count": 1203,
     "metadata": {},
     "output_type": "execute_result"
    }
   ],
   "source": [
    "indices"
   ]
  },
  {
   "cell_type": "code",
   "execution_count": 1183,
   "id": "a1801cf0-54cd-4e15-897a-f5beff19c5e9",
   "metadata": {
    "tags": []
   },
   "outputs": [],
   "source": [
    "strict = False\n",
    "generators = [\n",
    "    self._generator_factory(sampler, molecule, strict=strict)\n",
    "    for sampler, molecule in zip(samples, molecules)\n",
    "]"
   ]
  },
  {
   "cell_type": "code",
   "execution_count": 1202,
   "id": "dfb30999-200b-443a-a17d-b408ba8cd6d3",
   "metadata": {
    "tags": []
   },
   "outputs": [
    {
     "data": {
      "image/png": "[encoded data removed]",
      "text/html": [
       "<table><tr><td colspan=\"2\" style=\"text-align: center;\"><image src=\"data:image/png;base64,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\"></td></tr>\n",
       "<tr><th style=\"text-align: right\">Mw</th><td style=\"text-align: left\">85.1</td></tr>\n",
       "<tr><th style=\"text-align: right\">ID</th><td style=\"text-align: left\">EN300-1180022</td></tr>\n",
       "<tr><th style=\"text-align: right\">IUPAC Name</th><td style=\"text-align: left\">(2E)-but-2-enamide</td></tr>\n",
       "<tr><th style=\"text-align: right\">URL</th><td style=\"text-align: left\">https://www.enaminestore.com/catalog/EN300-1180022</td></tr>\n",
       "<tr><th style=\"text-align: right\">Stock_weight_G</th><td style=\"text-align: left\">21.123</td></tr>\n",
       "<tr><th style=\"text-align: right\">Class</th><td style=\"text-align: left\">Alkenes, Amides, Reagents</td></tr>\n",
       "<tr><th style=\"text-align: right\">Subclass</th><td style=\"text-align: left\">Alkenes, Amides, Michael_Acceptors</td></tr></table>"
      ],
      "text/plain": [
       "<dgym.molecule.Molecule at 0x7f2b0e490350>"
      ]
     },
     "execution_count": 1202,
     "metadata": {},
     "output_type": "execute_result"
    }
   ],
   "source": [
    "next(generators[0])"
   ]
  }
 ],
 "metadata": {
  "kernelspec": {
   "display_name": "Python 3 (ipykernel)",
   "language": "python",
   "name": "python3"
  },
  "language_info": {
   "codemirror_mode": {
    "name": "ipython",
    "version": 3
   },
   "file_extension": ".py",
   "mimetype": "text/x-python",
   "name": "python",
   "nbconvert_exporter": "python",
   "pygments_lexer": "ipython3",
   "version": "3.11.5"
  }
 },
 "nbformat": 4,
 "nbformat_minor": 5
}
