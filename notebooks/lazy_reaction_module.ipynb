{
 "cells": [
  {
   "cell_type": "markdown",
   "id": "de845017-f22a-41e8-bd47-0c620a311324",
   "metadata": {},
   "source": [
    "Imports and data."
   ]
  },
  {
   "cell_type": "code",
   "execution_count": 1,
   "id": "0f5c7544-5aad-4da5-a4f2-43e48025bcee",
   "metadata": {
    "tags": []
   },
   "outputs": [
    {
     "name": "stdout",
     "output_type": "stream",
     "text": [
      "load data\n"
     ]
    }
   ],
   "source": [
    "%reload_ext autoreload\n",
    "%autoreload 2\n",
    "\n",
    "import rdkit\n",
    "rdkit.Chem.Draw.IPythonConsole.ipython_maxProperties = -1\n",
    "\n",
    "import dgym as dg\n",
    "\n",
    "# load all data\n",
    "print('load data')\n",
    "path = '../../dgym-data'\n",
    "\n",
    "deck = dg.MoleculeCollection.load(\n",
    "    f'{path}/DSi-Poised_Library_annotated.sdf',\n",
    "    reactant_names=['reagsmi1', 'reagsmi2', 'reagsmi3']\n",
    ")\n",
    "\n",
    "reactions = dg.ReactionCollection.from_json(\n",
    "    path = f'{path}/All_Rxns_rxn_library.json',\n",
    "    smarts_col = 'reaction_string',\n",
    "    classes_col = 'functional_groups'\n",
    ")\n",
    "reactions = dg.collection.ReactionCollection([dg.reaction.LazyReaction(r.template, id=r.id) for r in reactions])\n",
    "\n",
    "building_blocks = dg.datasets.disk_loader(f'{path}/Enamine_Building_Blocks_Stock_262336cmpd_20230630.sdf')\n",
    "fingerprints = dg.datasets.fingerprints(f'{path}/out/Enamine_Building_Blocks_Stock_262336cmpd_20230630_atoms.fpb')"
   ]
  },
  {
   "cell_type": "markdown",
   "id": "e4ca50c0-2546-4a77-ac03-feb813e06c70",
   "metadata": {},
   "source": [
    "Define library designer."
   ]
  },
  {
   "cell_type": "code",
   "execution_count": 2,
   "id": "ae3efbc0-388c-4d86-a513-53d576ee4792",
   "metadata": {
    "tags": []
   },
   "outputs": [],
   "source": [
    "from dgym.envs.library_designer import LibraryDesigner\n",
    "\n",
    "library_designer = LibraryDesigner(\n",
    "    reactions,\n",
    "    building_blocks,\n",
    "    fingerprints\n",
    ")"
   ]
  },
  {
   "cell_type": "markdown",
   "id": "5f0db341-3996-4a91-8376-f2d1675f0d23",
   "metadata": {},
   "source": [
    "Reconstruct a molecule as a generator."
   ]
  },
  {
   "cell_type": "markdown",
   "id": "4c58fdc2-4101-45fd-a74c-59e7eea1b0a9",
   "metadata": {},
   "source": [
    "### Construct logic of new Library Designer"
   ]
  },
  {
   "cell_type": "code",
   "execution_count": 108,
   "id": "0eea6928-2348-45cc-9a8d-43f03a99906f",
   "metadata": {
    "tags": []
   },
   "outputs": [],
   "source": [
    "import inspect\n",
    "\n",
    "def retrosynthesize(molecule, protect=False):\n",
    "    \n",
    "    # Base cases\n",
    "    if inspect.isgenerator(molecule):\n",
    "        return molecule\n",
    "    \n",
    "    elif not molecule.reactants:\n",
    "        return molecule\n",
    "    \n",
    "    # Recursive case: Retrosynthesize each reactant\n",
    "    retrosynthesized_reactants = [retrosynthesize(reactant) for reactant in molecule.reactants]\n",
    "        \n",
    "    # Use the reaction to reconstruct the original molecule from its reactants\n",
    "    output = molecule.reaction.run(retrosynthesized_reactants, protect=protect)\n",
    "    \n",
    "    return output"
   ]
  },
  {
   "cell_type": "code",
   "execution_count": 149,
   "id": "41bee809-d584-4cbd-b8bd-661d210a53ae",
   "metadata": {
    "tags": []
   },
   "outputs": [],
   "source": [
    "from dgym.envs.library_designer import AnalogGenerator\n",
    "\n",
    "generator = AnalogGenerator(building_blocks, fingerprints)"
   ]
  },
  {
   "cell_type": "code",
   "execution_count": 277,
   "id": "d8bc0b93-7bb5-4197-82bf-d7d92bd3e50e",
   "metadata": {
    "tags": []
   },
   "outputs": [
    {
     "name": "stdout",
     "output_type": "stream",
     "text": [
      "CPU times: user 19.3 ms, sys: 22 µs, total: 19.3 ms\n",
      "Wall time: 20.4 ms\n"
     ]
    }
   ],
   "source": [
    "%%time\n",
    "import itertools\n",
    "\n",
    "# # Deepcopy original molecule\n",
    "from copy import deepcopy\n",
    "molecule = deepcopy(deck[31])\n",
    "\n",
    "# Perform reactions\n",
    "size = 20\n",
    "products = []\n",
    "for reaction in library_designer.match_reactions(molecule):\n",
    "    \n",
    "    # Replace reactants with analog generators\n",
    "    molecule.reaction = reaction\n",
    "    molecule.reactants[1] = generator(deck[31].reactants[1], temperature=0.0)[0]\n",
    "    \n",
    "    # Create lazy loader for molecule analogs\n",
    "    analogs = retrosynthesize(molecule, protect=False)\n",
    "    \n",
    "    # Run reaction\n",
    "    while len(products) < size:\n",
    "        products.append(next(analogs))\n",
    "\n",
    "from rdkit.Chem.Draw import MolsToGridImage\n",
    "MolsToGridImage([p.mol for p in products], molsPerRow=5)"
   ]
  },
  {
   "cell_type": "code",
   "execution_count": 515,
   "id": "d703b1d8-9e9d-486d-a143-30f57e8a97be",
   "metadata": {
    "tags": []
   },
   "outputs": [
    {
     "data": {
      "image/png": "[encoded data removed]",
      "text/plain": [
       "<PIL.PngImagePlugin.PngImageFile image mode=RGB size=350x300>"
      ]
     },
     "execution_count": 515,
     "metadata": {},
     "output_type": "execute_result"
    }
   ],
   "source": [
    "from rdkit.Chem import Draw\n",
    "from io import BytesIO\n",
    "from PIL import Image\n",
    "\n",
    "d2d = Draw.MolDraw2DCairo(350, 300)\n",
    "\n",
    "d2d.DrawMolecule(products[0].reactants[1].mol, legend='', highlightAtoms=[5])\n",
    "d2d.FinishDrawing()\n",
    "bio = BytesIO(d2d.GetDrawingText())\n",
    "Image.open(bio)"
   ]
  }
 ],
 "metadata": {
  "kernelspec": {
   "display_name": "Python 3 (ipykernel)",
   "language": "python",
   "name": "python3"
  },
  "language_info": {
   "codemirror_mode": {
    "name": "ipython",
    "version": 3
   },
   "file_extension": ".py",
   "mimetype": "text/x-python",
   "name": "python",
   "nbconvert_exporter": "python",
   "pygments_lexer": "ipython3",
   "version": "3.11.5"
  }
 },
 "nbformat": 4,
 "nbformat_minor": 5
}
