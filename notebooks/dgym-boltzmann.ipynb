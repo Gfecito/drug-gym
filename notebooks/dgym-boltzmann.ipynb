{
 "cells": [
  {
   "cell_type": "markdown",
   "id": "444e65e8-099e-4c39-b59f-e0efe582d4c6",
   "metadata": {},
   "source": [
    "## Fixing Gibbs free energy calculation"
   ]
  },
  {
   "cell_type": "code",
   "execution_count": 23,
   "id": "1e3074a2-20cc-4195-b438-2faabd4971b1",
   "metadata": {
    "tags": []
   },
   "outputs": [],
   "source": [
    "from dgym.envs.oracle import DockingOracle, NeuralOracle, NoisyOracle\n",
    "from dgym.envs.utility import ClassicUtilityFunction\n",
    "\n",
    "config = {\n",
    "    'search_mode': 'balanced',\n",
    "    'scoring': 'gnina',\n",
    "    'seed': 5,\n",
    "}\n",
    "\n",
    "# Create noiseless evaluators\n",
    "docking_oracle = DockingOracle(\n",
    "    '.',\n",
    "    receptor_path='.',\n",
    "    config=config\n",
    ")"
   ]
  },
  {
   "cell_type": "code",
   "execution_count": 24,
   "id": "1b9aea4a-a13d-4dfd-96f7-e4e4212fefc0",
   "metadata": {
    "tags": []
   },
   "outputs": [
    {
     "data": {
      "text/plain": [
       "-11.968842693483365"
      ]
     },
     "execution_count": 24,
     "metadata": {},
     "output_type": "execute_result"
    }
   ],
   "source": [
    "import numpy as np\n",
    "\n",
    "energies = np.array([\n",
    "    -4.6809706907805495,\n",
    "    -4.582530608215813,\n",
    "    -4.7099236562407665,\n",
    "    -4.492052591152635,\n",
    "    -4.615102694358557,\n",
    "    -4.594835618536405,\n",
    "    -4.684589811463077,\n",
    "    -4.502186129063711,\n",
    "    -4.617274166768072,\n",
    "    -4.521005556612852\n",
    "])\n",
    "\n",
    "energies = [e - 6 for e in energies]\n",
    "\n",
    "docking_oracle._compute_deltaG(energies=energies)"
   ]
  },
  {
   "cell_type": "code",
   "execution_count": 27,
   "id": "cb37b25b-941f-4cc4-9939-f0d85f9f4c6a",
   "metadata": {
    "tags": []
   },
   "outputs": [],
   "source": [
    "energies = [\n",
    "    -14.62,\n",
    "    -13.13,\n",
    "    -12.26,\n",
    "    -11.91,\n",
    "    -11.89,\n",
    "    -11.47,\n",
    "    -11.33,\n",
    "    -10.85,\n",
    "    -10.23,\n",
    "]"
   ]
  },
  {
   "cell_type": "code",
   "execution_count": 28,
   "id": "0841a4ef-eb29-4845-a476-3c7deb11f796",
   "metadata": {
    "tags": []
   },
   "outputs": [
    {
     "data": {
      "text/plain": [
       "-14.692888550453205"
      ]
     },
     "execution_count": 28,
     "metadata": {},
     "output_type": "execute_result"
    }
   ],
   "source": [
    "docking_oracle._compute_deltaG(energies=energies)"
   ]
  }
 ],
 "metadata": {
  "kernelspec": {
   "display_name": "Python 3 (ipykernel)",
   "language": "python",
   "name": "python3"
  },
  "language_info": {
   "codemirror_mode": {
    "name": "ipython",
    "version": 3
   },
   "file_extension": ".py",
   "mimetype": "text/x-python",
   "name": "python",
   "nbconvert_exporter": "python",
   "pygments_lexer": "ipython3",
   "version": "3.11.5"
  }
 },
 "nbformat": 4,
 "nbformat_minor": 5
}
