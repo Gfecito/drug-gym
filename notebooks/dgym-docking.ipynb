{
 "cells": [
  {
   "cell_type": "code",
   "execution_count": 1,
   "id": "8987f1c2-e7a9-446b-802d-334b213e8a14",
   "metadata": {
    "tags": []
   },
   "outputs": [
    {
     "name": "stdout",
     "output_type": "stream",
     "text": [
      "load data\n"
     ]
    }
   ],
   "source": [
    "%load_ext autoreload\n",
    "%autoreload 2\n",
    "\n",
    "import rdkit\n",
    "rdkit.Chem.Draw.IPythonConsole.ipython_maxProperties = -1\n",
    "\n",
    "import dgym as dg\n",
    "\n",
    "# load all data\n",
    "print('load data')\n",
    "path = '../../dgym-data'\n",
    "\n",
    "deck = dg.MoleculeCollection.from_sdf(\n",
    "    f'{path}/DSi-Poised_Library_annotated.sdf',\n",
    "    reactant_names=['reagsmi1', 'reagsmi2', 'reagsmi3']\n",
    ")"
   ]
  },
  {
   "cell_type": "code",
   "execution_count": 2,
   "id": "69f5e674-e64f-42a7-99a6-a581999c1e54",
   "metadata": {
    "tags": []
   },
   "outputs": [],
   "source": [
    "from meeko import MoleculePreparation\n",
    "from meeko import PDBQTWriterLegacy\n",
    "\n",
    "def get_pdbqt(mol):\n",
    "\n",
    "    # add hydrogens (without regard to pH)\n",
    "    protonated_mol = rdkit.Chem.AddHs(mol)\n",
    "\n",
    "    # generate 3D coordinates for the ligand. \n",
    "    rdkit.Chem.AllChem.EmbedMolecule(protonated_mol)\n",
    "\n",
    "    # intialize preparation\n",
    "    preparator = MoleculePreparation()\n",
    "    mol_setups = preparator.prepare(protonated_mol)\n",
    "    \n",
    "    for setup in mol_setups:\n",
    "        pdbqt_string, is_ok, error_msg = PDBQTWriterLegacy.write_string(setup)\n",
    "        if is_ok:\n",
    "            return pdbqt_string"
   ]
  },
  {
   "cell_type": "markdown",
   "id": "af4bad0f-5bba-4a1f-84e6-db40bf3fcad0",
   "metadata": {},
   "source": [
    "Create ligand PDBQTs."
   ]
  },
  {
   "cell_type": "code",
   "execution_count": 3,
   "id": "c79212ed-b814-4b27-8aa1-f55b74bcaf7d",
   "metadata": {
    "tags": []
   },
   "outputs": [
    {
     "data": {
      "application/vnd.jupyter.widget-view+json": {
       "model_id": "b636668aee21428196d4a3a8c3867667",
       "version_major": 2,
       "version_minor": 0
      },
      "text/plain": [
       "  0%|          | 0/96 [00:00<?, ?it/s]"
      ]
     },
     "metadata": {},
     "output_type": "display_data"
    }
   ],
   "source": [
    "import os\n",
    "from tqdm.notebook import tqdm\n",
    "\n",
    "out_dir = '../../dgym-data/out/ligands_temp/'\n",
    "\n",
    "paths = []\n",
    "for mol in tqdm(deck[-96:]):\n",
    "    path = os.path.join(out_dir, f'{mol.name}.pdbqt')\n",
    "    paths.append(path)\n",
    "    pdbqt = get_pdbqt(mol.mol)\n",
    "    \n",
    "    with open(path, 'w') as file:\n",
    "        file.write(pdbqt)\n",
    "\n",
    "ligands_txt = ' '.join(paths)\n",
    "path = os.path.join(out_dir, 'ligands.txt')\n",
    "with open(path, 'w') as file:\n",
    "    file.write(ligands_txt)"
   ]
  },
  {
   "cell_type": "markdown",
   "id": "2b7ac270-9827-43d7-baa1-d7d3987a7cba",
   "metadata": {},
   "source": [
    "Create ligand txt summary file."
   ]
  },
  {
   "cell_type": "code",
   "execution_count": 4,
   "id": "44959654-8f6f-43dd-a747-c431e751d93f",
   "metadata": {
    "tags": []
   },
   "outputs": [],
   "source": [
    "# import subprocess\n",
    "# import tempfile\n",
    "\n",
    "# with tempfile.TemporaryDirectory() as tempdir:\n",
    "#     print(f\"Temporary directory created at {tempdir}\")"
   ]
  },
  {
   "cell_type": "code",
   "execution_count": 5,
   "id": "9d5f009d-5116-44c1-8d49-ef0fe74b95c9",
   "metadata": {
    "tags": []
   },
   "outputs": [],
   "source": [
    "import subprocess\n",
    "\n",
    "command = 'unidock --receptor ../../dgym-data/Mpro_prepped.pdbqt --ligand_index ../../dgym-data/out/ligands_temp/ligands.txt --center_x 9.812 --center_y -0.257 --center_z 20.8485 --size_x 14.328 --size_y 8.85 --size_z 12.539 --dir ../../dgym-data/out --exhaustiveness 128 --max_step 20 --num_modes 9 --scoring vina --refine_step 3 --seed 5'\n",
    "resp = subprocess.run(\n",
    "    command,\n",
    "    shell=True, \n",
    "    stdout=subprocess.PIPE,\n",
    "    stderr=subprocess.PIPE, \n",
    "    encoding='utf-8'\n",
    ")"
   ]
  },
  {
   "cell_type": "code",
   "execution_count": 14,
   "id": "b2d6b20f-4c74-422c-b488-f9f03ebbb517",
   "metadata": {
    "tags": []
   },
   "outputs": [],
   "source": [
    "import glob\n",
    "from itertools import islice\n",
    "from operator import itemgetter\n",
    "\n",
    "affinities = []\n",
    "paths = glob.glob('../../dgym-data/out/*.pdbqt')\n",
    "for path in paths:\n",
    "    with open(path, 'r') as file:\n",
    "        # get relevant lines from file\n",
    "        lines = list(islice(file, 7))\n",
    "        affinity_str, smiles_str = itemgetter(1, 6)(lines)\n",
    "        \n",
    "        # extract affinity\n",
    "        affinity = affinity_str.split('    ')[1].split('    ')[0]\n",
    "        smiles = smiles_str.split(' ')[-1].split('\\n')[0]\n",
    "\n",
    "        # append to affinities\n",
    "        affinities.append(\n",
    "            {'smiles': smiles, 'affinity': float(affinity)}\n",
    "        )"
   ]
  },
  {
   "cell_type": "code",
   "execution_count": 20,
   "id": "2e4551d0-a2fa-48d7-96ad-463aba093d95",
   "metadata": {
    "tags": []
   },
   "outputs": [],
   "source": [
    "import numpy as np\n",
    "\n",
    "def boltzmann_sum(energies, temperature=298.15):\n",
    "    kT = 0.0019872041 * temperature  # Boltzmann constant in kcal/(mol·K) multiplied by temperature in K\n",
    "    energies = np.array(energies)  # Energies should be in kcal/mol\n",
    "\n",
    "    # Use logsumexp for numerical stability\n",
    "    return -kT * np.log(np.sum(np.exp(-energies / kT)))"
   ]
  },
  {
   "cell_type": "code",
   "execution_count": 38,
   "id": "ae1f6a03-7d39-4a51-95d5-6796c6b2d273",
   "metadata": {
    "tags": []
   },
   "outputs": [],
   "source": [
    "import glob\n",
    "from itertools import islice\n",
    "from operator import itemgetter\n",
    "\n",
    "affinities = []\n",
    "paths = glob.glob('../../dgym-data/out/*.pdbqt')\n",
    "\n",
    "for path in paths:\n",
    "    with open(path, 'r') as file:\n",
    "        \n",
    "        # get relevant lines from file\n",
    "        smiles_str = list(islice(file, 7))[-1]\n",
    "        smiles = smiles_str.split(' ')[-1].split('\\n')[0]\n",
    "\n",
    "        # extract affinities\n",
    "        affinity_strs = [line for line in file\n",
    "                         if line.startswith('REMARK VINA RESULT')]\n",
    "        process_affinity = lambda s: s.split('    ')[1].split('    ')[0]\n",
    "        affinity_scores = [float(process_affinity(a)) for a in affinity_strs]\n",
    "        \n",
    "        # compute boltzmann sum\n",
    "        affinity = boltzmann_sum(affinity_scores)\n",
    "\n",
    "        # append to affinities\n",
    "        affinities.append(\n",
    "            {'smiles': smiles, 'affinity': affinity}\n",
    "        )\n",
    "\n",
    "affinities = pd.DataFrame(affinities)"
   ]
  },
  {
   "cell_type": "code",
   "execution_count": 39,
   "id": "89e0fcba-9597-4b80-8603-e5294a5b9f99",
   "metadata": {},
   "outputs": [
    {
     "data": {
      "text/html": [
       "<div>\n",
       "<style scoped>\n",
       "    .dataframe tbody tr th:only-of-type {\n",
       "        vertical-align: middle;\n",
       "    }\n",
       "\n",
       "    .dataframe tbody tr th {\n",
       "        vertical-align: top;\n",
       "    }\n",
       "\n",
       "    .dataframe thead th {\n",
       "        text-align: right;\n",
       "    }\n",
       "</style>\n",
       "<table border=\"1\" class=\"dataframe\">\n",
       "  <thead>\n",
       "    <tr style=\"text-align: right;\">\n",
       "      <th></th>\n",
       "      <th>smiles</th>\n",
       "      <th>affinity</th>\n",
       "    </tr>\n",
       "  </thead>\n",
       "  <tbody>\n",
       "    <tr>\n",
       "      <th>1</th>\n",
       "      <td>Cc1cccc(Nc2ncnc3c2cnn3C)c1</td>\n",
       "      <td>-7.453299</td>\n",
       "    </tr>\n",
       "    <tr>\n",
       "      <th>56</th>\n",
       "      <td>Cc1ccc(NC(=O)c2cccc(F)c2)cc1O</td>\n",
       "      <td>-7.231530</td>\n",
       "    </tr>\n",
       "    <tr>\n",
       "      <th>19</th>\n",
       "      <td>O=C(NCCc1ccncc1)c1ccccc1F</td>\n",
       "      <td>-7.194071</td>\n",
       "    </tr>\n",
       "    <tr>\n",
       "      <th>6</th>\n",
       "      <td>Oc1ncc(NCCc2ccccc2)c(O)n1</td>\n",
       "      <td>-7.167499</td>\n",
       "    </tr>\n",
       "    <tr>\n",
       "      <th>82</th>\n",
       "      <td>O=C(NCCc1ccc(O)cc1)c1ccccn1</td>\n",
       "      <td>-7.161006</td>\n",
       "    </tr>\n",
       "    <tr>\n",
       "      <th>...</th>\n",
       "      <td>...</td>\n",
       "      <td>...</td>\n",
       "    </tr>\n",
       "    <tr>\n",
       "      <th>84</th>\n",
       "      <td>CNC(C)c1cnn(C)c1</td>\n",
       "      <td>-5.039811</td>\n",
       "    </tr>\n",
       "    <tr>\n",
       "      <th>88</th>\n",
       "      <td>CN(C)Cc1nc(C2(N)CCCC2)no1.Cl.Cl</td>\n",
       "      <td>-1.914013</td>\n",
       "    </tr>\n",
       "    <tr>\n",
       "      <th>44</th>\n",
       "      <td>CS(=O)(=O)Nc1ccc(CN)cc1.Cl</td>\n",
       "      <td>-1.912712</td>\n",
       "    </tr>\n",
       "    <tr>\n",
       "      <th>78</th>\n",
       "      <td>CS(=O)(=O)NC1CCNCC1.Cl</td>\n",
       "      <td>-1.908687</td>\n",
       "    </tr>\n",
       "    <tr>\n",
       "      <th>4</th>\n",
       "      <td>CNC(=O)CN(C)C1CCCCCC1</td>\n",
       "      <td>2.621599</td>\n",
       "    </tr>\n",
       "  </tbody>\n",
       "</table>\n",
       "<p>96 rows × 2 columns</p>\n",
       "</div>"
      ],
      "text/plain": [
       "                             smiles  affinity\n",
       "1        Cc1cccc(Nc2ncnc3c2cnn3C)c1 -7.453299\n",
       "56    Cc1ccc(NC(=O)c2cccc(F)c2)cc1O -7.231530\n",
       "19        O=C(NCCc1ccncc1)c1ccccc1F -7.194071\n",
       "6         Oc1ncc(NCCc2ccccc2)c(O)n1 -7.167499\n",
       "82      O=C(NCCc1ccc(O)cc1)c1ccccn1 -7.161006\n",
       "..                              ...       ...\n",
       "84                 CNC(C)c1cnn(C)c1 -5.039811\n",
       "88  CN(C)Cc1nc(C2(N)CCCC2)no1.Cl.Cl -1.914013\n",
       "44       CS(=O)(=O)Nc1ccc(CN)cc1.Cl -1.912712\n",
       "78           CS(=O)(=O)NC1CCNCC1.Cl -1.908687\n",
       "4             CNC(=O)CN(C)C1CCCCCC1  2.621599\n",
       "\n",
       "[96 rows x 2 columns]"
      ]
     },
     "execution_count": 39,
     "metadata": {},
     "output_type": "execute_result"
    }
   ],
   "source": [
    "import pandas as pd\n",
    "\n",
    "affinities.sort_values('affinity')"
   ]
  }
 ],
 "metadata": {
  "kernelspec": {
   "display_name": "Python 3 (ipykernel)",
   "language": "python",
   "name": "python3"
  },
  "language_info": {
   "codemirror_mode": {
    "name": "ipython",
    "version": 3
   },
   "file_extension": ".py",
   "mimetype": "text/x-python",
   "name": "python",
   "nbconvert_exporter": "python",
   "pygments_lexer": "ipython3",
   "version": "3.11.4"
  }
 },
 "nbformat": 4,
 "nbformat_minor": 5
}
