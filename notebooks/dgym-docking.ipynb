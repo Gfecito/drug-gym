{
 "cells": [
  {
   "cell_type": "code",
   "execution_count": 2,
   "id": "8987f1c2-e7a9-446b-802d-334b213e8a14",
   "metadata": {
    "tags": []
   },
   "outputs": [
    {
     "name": "stdout",
     "output_type": "stream",
     "text": [
      "load data\n"
     ]
    }
   ],
   "source": [
    "%load_ext autoreload\n",
    "%autoreload 2\n",
    "\n",
    "import rdkit\n",
    "rdkit.Chem.Draw.IPythonConsole.ipython_maxProperties = -1\n",
    "\n",
    "import dgym as dg\n",
    "\n",
    "# load all data\n",
    "print('load data')\n",
    "path = '../../dgym-data'\n",
    "\n",
    "deck = dg.MoleculeCollection.from_sdf(\n",
    "    f'{path}/DSi-Poised_Library_annotated.sdf',\n",
    "    reactant_names=['reagsmi1', 'reagsmi2', 'reagsmi3']\n",
    ")"
   ]
  },
  {
   "cell_type": "code",
   "execution_count": 38,
   "id": "69f5e674-e64f-42a7-99a6-a581999c1e54",
   "metadata": {
    "tags": []
   },
   "outputs": [],
   "source": [
    "from meeko import MoleculePreparation\n",
    "from meeko import PDBQTWriterLegacy\n",
    "\n",
    "def get_pdbqt(mol):\n",
    "\n",
    "    # add hydrogens (without regard to pH)\n",
    "    protonated_mol = rdkit.Chem.AddHs(mol)\n",
    "\n",
    "    # generate 3D coordinates for the ligand. \n",
    "    rdkit.Chem.AllChem.EmbedMolecule(protonated_mol)\n",
    "\n",
    "    preparator = MoleculePreparation()\n",
    "    mol_setups = preparator.prepare(protonated_mol)\n",
    "    for setup in mol_setups:\n",
    "        pdbqt_string, is_ok, error_msg = PDBQTWriterLegacy.write_string(setup)\n",
    "        if is_ok:\n",
    "            return pdbqt_string"
   ]
  },
  {
   "cell_type": "code",
   "execution_count": 42,
   "id": "c79212ed-b814-4b27-8aa1-f55b74bcaf7d",
   "metadata": {
    "tags": []
   },
   "outputs": [
    {
     "name": "stderr",
     "output_type": "stream",
     "text": [
      "/tmp/ipykernel_747/2527480052.py:3: TqdmDeprecationWarning: This function will be removed in tqdm==5.0.0\n",
      "Please use `tqdm.notebook.tqdm` instead of `tqdm.tqdm_notebook`\n",
      "  for mol in tqdm(deck[:96]):\n"
     ]
    },
    {
     "data": {
      "application/vnd.jupyter.widget-view+json": {
       "model_id": "dd326d08d6304ae29946e5c468017ae2",
       "version_major": 2,
       "version_minor": 0
      },
      "text/plain": [
       "  0%|          | 0/96 [00:00<?, ?it/s]"
      ]
     },
     "metadata": {},
     "output_type": "display_data"
    }
   ],
   "source": [
    "from tqdm import tqdm_notebook as tqdm\n",
    "\n",
    "for mol in tqdm(deck[:96]):\n",
    "    f = get_pdbqt(mol.mol)"
   ]
  }
 ],
 "metadata": {
  "kernelspec": {
   "display_name": "Python 3 (ipykernel)",
   "language": "python",
   "name": "python3"
  },
  "language_info": {
   "codemirror_mode": {
    "name": "ipython",
    "version": 3
   },
   "file_extension": ".py",
   "mimetype": "text/x-python",
   "name": "python",
   "nbconvert_exporter": "python",
   "pygments_lexer": "ipython3",
   "version": "3.11.4"
  }
 },
 "nbformat": 4,
 "nbformat_minor": 5
}
