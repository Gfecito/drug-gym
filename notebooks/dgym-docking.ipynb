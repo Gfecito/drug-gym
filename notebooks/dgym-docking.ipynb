{
 "cells": [
  {
   "cell_type": "code",
   "execution_count": 2,
   "id": "8987f1c2-e7a9-446b-802d-334b213e8a14",
   "metadata": {
    "tags": []
   },
   "outputs": [
    {
     "name": "stdout",
     "output_type": "stream",
     "text": [
      "load data\n"
     ]
    }
   ],
   "source": [
    "%load_ext autoreload\n",
    "%autoreload 2\n",
    "\n",
    "import rdkit\n",
    "rdkit.Chem.Draw.IPythonConsole.ipython_maxProperties = -1\n",
    "\n",
    "import dgym as dg\n",
    "\n",
    "# load all data\n",
    "print('load data')\n",
    "path = '../../dgym-data'\n",
    "\n",
    "deck = dg.MoleculeCollection.from_sdf(\n",
    "    f'{path}/DSi-Poised_Library_annotated.sdf',\n",
    "    reactant_names=['reagsmi1', 'reagsmi2', 'reagsmi3']\n",
    ")"
   ]
  },
  {
   "cell_type": "code",
   "execution_count": 26,
   "id": "d73f7f81-5033-438f-9742-ed18e3b471fb",
   "metadata": {
    "tags": []
   },
   "outputs": [
    {
     "name": "stdout",
     "output_type": "stream",
     "text": [
      "The autoreload extension is already loaded. To reload it, use:\n",
      "  %reload_ext autoreload\n",
      "load data\n"
     ]
    }
   ],
   "source": [
    "%load_ext autoreload\n",
    "%autoreload 2\n",
    "\n",
    "import rdkit\n",
    "rdkit.Chem.Draw.IPythonConsole.ipython_maxProperties = -1\n",
    "\n",
    "import dgym as dg\n",
    "\n",
    "# load all data\n",
    "print('load data')\n",
    "path = '../../dgym-data'\n",
    "\n",
    "deck = dg.MoleculeCollection.from_sdf(\n",
    "    f'{path}/Mpro_combined_aminopyridine.sdf',\n",
    "    reactant_names=['reagsmi1', 'reagsmi2', 'reagsmi3']\n",
    ")"
   ]
  },
  {
   "cell_type": "code",
   "execution_count": 27,
   "id": "69f5e674-e64f-42a7-99a6-a581999c1e54",
   "metadata": {
    "tags": []
   },
   "outputs": [],
   "source": [
    "from meeko import MoleculePreparation\n",
    "from meeko import PDBQTWriterLegacy\n",
    "\n",
    "def get_pdbqt(mol):\n",
    "\n",
    "    # add hydrogens (without regard to pH)\n",
    "    protonated_mol = rdkit.Chem.AddHs(mol)\n",
    "\n",
    "    # generate 3D coordinates for the ligand. \n",
    "    rdkit.Chem.AllChem.EmbedMolecule(protonated_mol)\n",
    "\n",
    "    # intialize preparation\n",
    "    preparator = MoleculePreparation(\n",
    "        # keep_chorded_rings=True,\n",
    "        # keep_equivalent_rings=True,\n",
    "        rigid_macrocycles=True\n",
    "    )\n",
    "    mol_setups = preparator.prepare(protonated_mol)\n",
    "    \n",
    "    for setup in mol_setups:\n",
    "        pdbqt_string, is_ok, error_msg = PDBQTWriterLegacy.write_string(setup)\n",
    "        if is_ok:\n",
    "            return pdbqt_string"
   ]
  },
  {
   "cell_type": "markdown",
   "id": "af4bad0f-5bba-4a1f-84e6-db40bf3fcad0",
   "metadata": {},
   "source": [
    "Create ligand PDBQTs."
   ]
  },
  {
   "cell_type": "code",
   "execution_count": 28,
   "id": "c79212ed-b814-4b27-8aa1-f55b74bcaf7d",
   "metadata": {
    "tags": []
   },
   "outputs": [
    {
     "data": {
      "application/vnd.jupyter.widget-view+json": {
       "model_id": "9c923173f11340d2bb0eacac52be2e92",
       "version_major": 2,
       "version_minor": 0
      },
      "text/plain": [
       "  0%|          | 0/158 [00:00<?, ?it/s]"
      ]
     },
     "metadata": {},
     "output_type": "display_data"
    }
   ],
   "source": [
    "import os\n",
    "from tqdm.notebook import tqdm\n",
    "\n",
    "out_dir = '../../dgym-data/out/ligands_temp/'\n",
    "\n",
    "paths = []\n",
    "for mol in tqdm(deck[:]):\n",
    "    path = os.path.join(out_dir, f'{mol.name}.pdbqt')\n",
    "    paths.append(path)\n",
    "    pdbqt = get_pdbqt(mol.mol)\n",
    "    \n",
    "    with open(path, 'w') as file:\n",
    "        file.write(pdbqt)\n",
    "\n",
    "ligands_txt = ' '.join(paths)\n",
    "path = os.path.join(out_dir, 'ligands.txt')\n",
    "with open(path, 'w') as file:\n",
    "    file.write(ligands_txt)"
   ]
  },
  {
   "cell_type": "markdown",
   "id": "2b7ac270-9827-43d7-baa1-d7d3987a7cba",
   "metadata": {},
   "source": [
    "Create ligand txt summary file."
   ]
  },
  {
   "cell_type": "code",
   "execution_count": 29,
   "id": "44959654-8f6f-43dd-a747-c431e751d93f",
   "metadata": {
    "tags": []
   },
   "outputs": [],
   "source": [
    "# import subprocess\n",
    "# import tempfile\n",
    "\n",
    "# with tempfile.TemporaryDirectory() as tempdir:\n",
    "#     print(f\"Temporary directory created at {tempdir}\")"
   ]
  },
  {
   "cell_type": "code",
   "execution_count": 192,
   "id": "9d5f009d-5116-44c1-8d49-ef0fe74b95c9",
   "metadata": {
    "tags": []
   },
   "outputs": [],
   "source": [
    "%%time\n",
    "import subprocess\n",
    "\n",
    "command = 'unidock --receptor ../../dgym-data/Mpro_prepped.pdbqt --ligand_index ../../dgym-data/out/ligands_temp/ligands.txt --center_x 9.812 --center_y -0.257 --center_z 20.8485 --size_x 14.328 --size_y 8.85 --size_z 12.539 --dir ../../dgym-data/out/docking_results --exhaustiveness 128 --max_step 20 --num_modes 9 --scoring vinardo --refine_step 3 --seed 5'\n",
    "resp = subprocess.run(\n",
    "    command,\n",
    "    shell=True, \n",
    "    stdout=subprocess.PIPE,\n",
    "    stderr=subprocess.PIPE, \n",
    "    encoding='utf-8'\n",
    ")"
   ]
  },
  {
   "cell_type": "code",
   "execution_count": 193,
   "id": "2e4551d0-a2fa-48d7-96ad-463aba093d95",
   "metadata": {
    "tags": []
   },
   "outputs": [],
   "source": [
    "import numpy as np\n",
    "\n",
    "def boltzmann_sum(energies, temperature=298.15):\n",
    "    kT = 0.0019872041 * temperature  # Boltzmann constant in kcal/(mol·K) multiplied by temperature in K\n",
    "    energies = np.array(energies)  # Energies should be in kcal/mol\n",
    "\n",
    "    # Use logsumexp for numerical stability\n",
    "    return -kT * np.log(np.sum(np.exp(-energies / kT)))"
   ]
  },
  {
   "cell_type": "code",
   "execution_count": 194,
   "id": "ae1f6a03-7d39-4a51-95d5-6796c6b2d273",
   "metadata": {
    "tags": []
   },
   "outputs": [],
   "source": [
    "import pandas as pd\n",
    "import re\n",
    "import glob\n",
    "from itertools import islice\n",
    "from operator import itemgetter\n",
    "\n",
    "affinities = []\n",
    "paths = glob.glob('../../dgym-data/out/docking_results/*.pdbqt')\n",
    "\n",
    "for idx, path in enumerate(paths):\n",
    "    with open(path, 'r') as file:\n",
    "\n",
    "        # extract SMILES from the file\n",
    "        smiles_str = list(islice(file, 7))[-1]\n",
    "        smiles = smiles_str.split(' ')[-1].split('\\n')[0]\n",
    "        file.seek(0)\n",
    "\n",
    "        # extract affinities\n",
    "        affinity_strs = [line for line in file\n",
    "                         if line.startswith('REMARK VINA RESULT')]\n",
    "        process_affinity = lambda s: re.search(r'-?\\d+\\.\\d+', s).group()\n",
    "        affinity = [float(process_affinity(a)) for a in affinity_strs]\n",
    "\n",
    "        # compute boltzmann sum\n",
    "        affinity = boltzmann_sum(affinity)\n",
    "\n",
    "        # append to affinities\n",
    "        affinities.append(\n",
    "            {'smiles': smiles, 'aff_pred': affinity}\n",
    "        )\n",
    "\n",
    "affinities = pd.DataFrame(affinities)"
   ]
  },
  {
   "cell_type": "code",
   "execution_count": 195,
   "id": "90c567e2-5465-422d-965b-a5240770e191",
   "metadata": {
    "tags": []
   },
   "outputs": [],
   "source": [
    "emp_aff = pd.read_csv('../../dgym-data/CDD CSV Export - 2023-09-11 11h31m13s.csv')\n",
    "emp_aff = emp_aff[[\n",
    "    'suspected_SMILES',\n",
    "    'Canonical PostEra ID',\n",
    "    'ProteaseAssay_Fluorescence_Dose-Response_Weizmann: IC50 (µM)'\n",
    "]].copy()\n",
    "emp_aff.columns = ['smiles', 'postera_id', 'ic50_str']\n",
    "xray_aff = emp_aff[\n",
    "    emp_aff['postera_id']\n",
    "    .isin([m.mol.GetProp('_Name') for m in deck])\n",
    "].copy()\n",
    "\n",
    "xray_aff['aff_actual'] = pd.to_numeric(xray_aff['ic50_str'], errors='coerce')\n",
    "affs = xray_aff.merge(affinities, on='smiles')"
   ]
  },
  {
   "cell_type": "code",
   "execution_count": 196,
   "id": "cd11f427-5528-4564-a69c-8277842285de",
   "metadata": {
    "tags": []
   },
   "outputs": [],
   "source": [
    "ic50 = affs.dropna()['aff_actual']\n",
    "affinity = affs.dropna()['aff_pred']"
   ]
  },
  {
   "cell_type": "code",
   "execution_count": 197,
   "id": "7e422f26-7e7f-4cc3-854b-7eef108cc326",
   "metadata": {
    "tags": []
   },
   "outputs": [
    {
     "data": {
      "text/plain": [
       "PearsonRResult(statistic=-0.1320200557109008, pvalue=0.4789712714147606)"
      ]
     },
     "execution_count": 197,
     "metadata": {},
     "output_type": "execute_result"
    }
   ],
   "source": [
    "from scipy.stats import pearsonr\n",
    "\n",
    "pearsonr(ic50, affinity)"
   ]
  },
  {
   "cell_type": "code",
   "execution_count": 198,
   "id": "9c45fb08-1384-4356-ab77-a01dcf857c02",
   "metadata": {
    "tags": []
   },
   "outputs": [
    {
     "data": {
      "text/plain": [
       "<Axes: xlabel='aff_pred', ylabel='aff_actual'>"
      ]
     },
     "execution_count": 198,
     "metadata": {},
     "output_type": "execute_result"
    },
    {
     "data": {
      "image/png": "[encoded data removed]",
      "text/plain": [
       "<Figure size 640x480 with 1 Axes>"
      ]
     },
     "metadata": {},
     "output_type": "display_data"
    }
   ],
   "source": [
    "import seaborn as sns\n",
    "\n",
    "sns.scatterplot(\n",
    "    data=affs,\n",
    "    x='aff_pred',\n",
    "    y='aff_actual'\n",
    ")"
   ]
  }
 ],
 "metadata": {
  "kernelspec": {
   "display_name": "Python 3 (ipykernel)",
   "language": "python",
   "name": "python3"
  },
  "language_info": {
   "codemirror_mode": {
    "name": "ipython",
    "version": 3
   },
   "file_extension": ".py",
   "mimetype": "text/x-python",
   "name": "python",
   "nbconvert_exporter": "python",
   "pygments_lexer": "ipython3",
   "version": "3.11.4"
  }
 },
 "nbformat": 4,
 "nbformat_minor": 5
}
