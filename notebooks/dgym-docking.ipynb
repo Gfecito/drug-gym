{
 "cells": [
  {
   "cell_type": "code",
   "execution_count": 2,
   "id": "8987f1c2-e7a9-446b-802d-334b213e8a14",
   "metadata": {
    "tags": []
   },
   "outputs": [
    {
     "name": "stdout",
     "output_type": "stream",
     "text": [
      "load data\n"
     ]
    }
   ],
   "source": [
    "%load_ext autoreload\n",
    "%autoreload 2\n",
    "\n",
    "import rdkit\n",
    "rdkit.Chem.Draw.IPythonConsole.ipython_maxProperties = -1\n",
    "\n",
    "import dgym as dg\n",
    "\n",
    "# load all data\n",
    "print('load data')\n",
    "path = '../../dgym-data'\n",
    "\n",
    "deck = dg.MoleculeCollection.from_sdf(\n",
    "    f'{path}/DSi-Poised_Library_annotated.sdf',\n",
    "    reactant_names=['reagsmi1', 'reagsmi2', 'reagsmi3']\n",
    ")"
   ]
  },
  {
   "cell_type": "code",
   "execution_count": 26,
   "id": "d73f7f81-5033-438f-9742-ed18e3b471fb",
   "metadata": {
    "tags": []
   },
   "outputs": [
    {
     "name": "stdout",
     "output_type": "stream",
     "text": [
      "The autoreload extension is already loaded. To reload it, use:\n",
      "  %reload_ext autoreload\n",
      "load data\n"
     ]
    }
   ],
   "source": [
    "%load_ext autoreload\n",
    "%autoreload 2\n",
    "\n",
    "import rdkit\n",
    "rdkit.Chem.Draw.IPythonConsole.ipython_maxProperties = -1\n",
    "\n",
    "import dgym as dg\n",
    "\n",
    "# load all data\n",
    "print('load data')\n",
    "path = '../../dgym-data'\n",
    "\n",
    "deck = dg.MoleculeCollection.from_sdf(\n",
    "    f'{path}/Mpro_combined_aminopyridine.sdf',\n",
    "    reactant_names=['reagsmi1', 'reagsmi2', 'reagsmi3']\n",
    ")"
   ]
  },
  {
   "cell_type": "code",
   "execution_count": 27,
   "id": "69f5e674-e64f-42a7-99a6-a581999c1e54",
   "metadata": {
    "tags": []
   },
   "outputs": [],
   "source": [
    "from meeko import MoleculePreparation\n",
    "from meeko import PDBQTWriterLegacy\n",
    "\n",
    "def get_pdbqt(mol):\n",
    "\n",
    "    # add hydrogens (without regard to pH)\n",
    "    protonated_mol = rdkit.Chem.AddHs(mol)\n",
    "\n",
    "    # generate 3D coordinates for the ligand. \n",
    "    rdkit.Chem.AllChem.EmbedMolecule(protonated_mol)\n",
    "\n",
    "    # intialize preparation\n",
    "    preparator = MoleculePreparation(\n",
    "        # keep_chorded_rings=True,\n",
    "        # keep_equivalent_rings=True,\n",
    "        rigid_macrocycles=True\n",
    "    )\n",
    "    mol_setups = preparator.prepare(protonated_mol)\n",
    "    \n",
    "    for setup in mol_setups:\n",
    "        pdbqt_string, is_ok, error_msg = PDBQTWriterLegacy.write_string(setup)\n",
    "        if is_ok:\n",
    "            return pdbqt_string"
   ]
  },
  {
   "cell_type": "markdown",
   "id": "af4bad0f-5bba-4a1f-84e6-db40bf3fcad0",
   "metadata": {},
   "source": [
    "Create ligand PDBQTs."
   ]
  },
  {
   "cell_type": "code",
   "execution_count": 28,
   "id": "c79212ed-b814-4b27-8aa1-f55b74bcaf7d",
   "metadata": {
    "tags": []
   },
   "outputs": [
    {
     "data": {
      "application/vnd.jupyter.widget-view+json": {
       "model_id": "9c923173f11340d2bb0eacac52be2e92",
       "version_major": 2,
       "version_minor": 0
      },
      "text/plain": [
       "  0%|          | 0/158 [00:00<?, ?it/s]"
      ]
     },
     "metadata": {},
     "output_type": "display_data"
    }
   ],
   "source": [
    "import os\n",
    "from tqdm.notebook import tqdm\n",
    "\n",
    "out_dir = '../../dgym-data/out/ligands_temp/'\n",
    "\n",
    "paths = []\n",
    "for mol in tqdm(deck[:]):\n",
    "    path = os.path.join(out_dir, f'{mol.name}.pdbqt')\n",
    "    paths.append(path)\n",
    "    pdbqt = get_pdbqt(mol.mol)\n",
    "    \n",
    "    with open(path, 'w') as file:\n",
    "        file.write(pdbqt)\n",
    "\n",
    "ligands_txt = ' '.join(paths)\n",
    "path = os.path.join(out_dir, 'ligands.txt')\n",
    "with open(path, 'w') as file:\n",
    "    file.write(ligands_txt)"
   ]
  },
  {
   "cell_type": "markdown",
   "id": "2b7ac270-9827-43d7-baa1-d7d3987a7cba",
   "metadata": {},
   "source": [
    "Create ligand txt summary file."
   ]
  },
  {
   "cell_type": "code",
   "execution_count": 29,
   "id": "44959654-8f6f-43dd-a747-c431e751d93f",
   "metadata": {
    "tags": []
   },
   "outputs": [],
   "source": [
    "# import subprocess\n",
    "# import tempfile\n",
    "\n",
    "# with tempfile.TemporaryDirectory() as tempdir:\n",
    "#     print(f\"Temporary directory created at {tempdir}\")"
   ]
  },
  {
   "cell_type": "code",
   "execution_count": 192,
   "id": "9d5f009d-5116-44c1-8d49-ef0fe74b95c9",
   "metadata": {
    "tags": []
   },
   "outputs": [],
   "source": [
    "%%time\n",
    "import subprocess\n",
    "\n",
    "command = 'unidock --receptor ../../dgym-data/Mpro_prepped.pdbqt --ligand_index ../../dgym-data/out/ligands_temp/ligands.txt --center_x 9.812 --center_y -0.257 --center_z 20.8485 --size_x 14.328 --size_y 8.85 --size_z 12.539 --dir ../../dgym-data/out/docking_results --exhaustiveness 128 --max_step 20 --num_modes 9 --scoring vinardo --refine_step 3 --seed 5'\n",
    "resp = subprocess.run(\n",
    "    command,\n",
    "    shell=True, \n",
    "    stdout=subprocess.PIPE,\n",
    "    stderr=subprocess.PIPE, \n",
    "    encoding='utf-8'\n",
    ")"
   ]
  },
  {
   "cell_type": "code",
   "execution_count": 193,
   "id": "2e4551d0-a2fa-48d7-96ad-463aba093d95",
   "metadata": {
    "tags": []
   },
   "outputs": [],
   "source": [
    "import numpy as np\n",
    "\n",
    "def boltzmann_sum(energies, temperature=298.15):\n",
    "    kT = 0.0019872041 * temperature  # Boltzmann constant in kcal/(mol·K) multiplied by temperature in K\n",
    "    energies = np.array(energies)  # Energies should be in kcal/mol\n",
    "\n",
    "    # Use logsumexp for numerical stability\n",
    "    return -kT * np.log(np.sum(np.exp(-energies / kT)))"
   ]
  },
  {
   "cell_type": "code",
   "execution_count": 194,
   "id": "ae1f6a03-7d39-4a51-95d5-6796c6b2d273",
   "metadata": {
    "tags": []
   },
   "outputs": [],
   "source": [
    "import pandas as pd\n",
    "import re\n",
    "import glob\n",
    "from itertools import islice\n",
    "from operator import itemgetter\n",
    "\n",
    "affinities = []\n",
    "paths = glob.glob('../../dgym-data/out/docking_results/*.pdbqt')\n",
    "\n",
    "for idx, path in enumerate(paths):\n",
    "    with open(path, 'r') as file:\n",
    "\n",
    "        # extract SMILES from the file\n",
    "        smiles_str = list(islice(file, 7))[-1]\n",
    "        smiles = smiles_str.split(' ')[-1].split('\\n')[0]\n",
    "        file.seek(0)\n",
    "\n",
    "        # extract affinities\n",
    "        affinity_strs = [line for line in file\n",
    "                         if line.startswith('REMARK VINA RESULT')]\n",
    "        process_affinity = lambda s: re.search(r'-?\\d+\\.\\d+', s).group()\n",
    "        affinity = [float(process_affinity(a)) for a in affinity_strs]\n",
    "\n",
    "        # compute boltzmann sum\n",
    "        affinity = boltzmann_sum(affinity)\n",
    "\n",
    "        # append to affinities\n",
    "        affinities.append(\n",
    "            {'smiles': smiles, 'aff_pred': affinity}\n",
    "        )\n",
    "\n",
    "affinities = pd.DataFrame(affinities)"
   ]
  },
  {
   "cell_type": "code",
   "execution_count": 199,
   "id": "f31a1177-b378-4025-b010-ee7c4b46f646",
   "metadata": {
    "tags": []
   },
   "outputs": [
    {
     "data": {
      "text/html": [
       "<div>\n",
       "<style scoped>\n",
       "    .dataframe tbody tr th:only-of-type {\n",
       "        vertical-align: middle;\n",
       "    }\n",
       "\n",
       "    .dataframe tbody tr th {\n",
       "        vertical-align: top;\n",
       "    }\n",
       "\n",
       "    .dataframe thead th {\n",
       "        text-align: right;\n",
       "    }\n",
       "</style>\n",
       "<table border=\"1\" class=\"dataframe\">\n",
       "  <thead>\n",
       "    <tr style=\"text-align: right;\">\n",
       "      <th></th>\n",
       "      <th>smiles</th>\n",
       "      <th>aff_pred</th>\n",
       "    </tr>\n",
       "  </thead>\n",
       "  <tbody>\n",
       "    <tr>\n",
       "      <th>0</th>\n",
       "      <td>COc1cc(Cl)cc(CC(=O)Nc2cnccc2C)c1</td>\n",
       "      <td>-5.472481</td>\n",
       "    </tr>\n",
       "    <tr>\n",
       "      <th>1</th>\n",
       "      <td>N#Cc1cncc(NC(=O)Cc2cccnc2)c1</td>\n",
       "      <td>-6.219125</td>\n",
       "    </tr>\n",
       "    <tr>\n",
       "      <th>2</th>\n",
       "      <td>Cn1ncc2cncc(NC(=O)Cc3cccc(Cl)c3)c21</td>\n",
       "      <td>-6.528216</td>\n",
       "    </tr>\n",
       "    <tr>\n",
       "      <th>3</th>\n",
       "      <td>CC(=O)N1CC[NH+](CC(=O)Nc2cnccc2C)CC1</td>\n",
       "      <td>-5.963856</td>\n",
       "    </tr>\n",
       "    <tr>\n",
       "      <th>4</th>\n",
       "      <td>N#Cc1cncc(CC(=O)Nc2cccnc2)c1</td>\n",
       "      <td>-6.114066</td>\n",
       "    </tr>\n",
       "    <tr>\n",
       "      <th>...</th>\n",
       "      <td>...</td>\n",
       "      <td>...</td>\n",
       "    </tr>\n",
       "    <tr>\n",
       "      <th>140</th>\n",
       "      <td>Cc1ccncc1NC(=O)Cc1cc(Cl)cc(N[C@H]2C[C@H]2C(F)(...</td>\n",
       "      <td>-4.473278</td>\n",
       "    </tr>\n",
       "    <tr>\n",
       "      <th>141</th>\n",
       "      <td>Cc1ccncc1NC(=O)C[NH+]1CCCCC1</td>\n",
       "      <td>-5.333700</td>\n",
       "    </tr>\n",
       "    <tr>\n",
       "      <th>142</th>\n",
       "      <td>CC(=O)NCc1cc(Cl)cc(CC(=O)Nc2cnccc2C)c1</td>\n",
       "      <td>-4.940242</td>\n",
       "    </tr>\n",
       "    <tr>\n",
       "      <th>143</th>\n",
       "      <td>Cc1ccncc1NC(=O)Cc1cccc(C(F)(F)F)c1</td>\n",
       "      <td>-5.968522</td>\n",
       "    </tr>\n",
       "    <tr>\n",
       "      <th>144</th>\n",
       "      <td>Cc1cc(C)cc(CC(=O)Nc2nncn2C)c1</td>\n",
       "      <td>-5.939934</td>\n",
       "    </tr>\n",
       "  </tbody>\n",
       "</table>\n",
       "<p>145 rows × 2 columns</p>\n",
       "</div>"
      ],
      "text/plain": [
       "                                                smiles  aff_pred\n",
       "0                     COc1cc(Cl)cc(CC(=O)Nc2cnccc2C)c1 -5.472481\n",
       "1                         N#Cc1cncc(NC(=O)Cc2cccnc2)c1 -6.219125\n",
       "2                  Cn1ncc2cncc(NC(=O)Cc3cccc(Cl)c3)c21 -6.528216\n",
       "3                 CC(=O)N1CC[NH+](CC(=O)Nc2cnccc2C)CC1 -5.963856\n",
       "4                         N#Cc1cncc(CC(=O)Nc2cccnc2)c1 -6.114066\n",
       "..                                                 ...       ...\n",
       "140  Cc1ccncc1NC(=O)Cc1cc(Cl)cc(N[C@H]2C[C@H]2C(F)(... -4.473278\n",
       "141                       Cc1ccncc1NC(=O)C[NH+]1CCCCC1 -5.333700\n",
       "142             CC(=O)NCc1cc(Cl)cc(CC(=O)Nc2cnccc2C)c1 -4.940242\n",
       "143                 Cc1ccncc1NC(=O)Cc1cccc(C(F)(F)F)c1 -5.968522\n",
       "144                      Cc1cc(C)cc(CC(=O)Nc2nncn2C)c1 -5.939934\n",
       "\n",
       "[145 rows x 2 columns]"
      ]
     },
     "execution_count": 199,
     "metadata": {},
     "output_type": "execute_result"
    }
   ],
   "source": [
    "affinities"
   ]
  },
  {
   "cell_type": "code",
   "execution_count": 240,
   "id": "3d782cb3-f5b7-4db2-8080-5c9e7dcd0557",
   "metadata": {
    "tags": []
   },
   "outputs": [],
   "source": [
    "from dgym.envs.oracle import DockingOracle\n",
    "\n",
    "config = {\n",
    "    'center_x': 9.812,\n",
    "    'center_y': -0.257,\n",
    "    'center_z': 20.8485,\n",
    "    'size_x': 14.328,\n",
    "    'size_y': 8.85,\n",
    "    'size_z': 12.539,\n",
    "    'exhaustiveness': 128,\n",
    "    'max_step': 20,\n",
    "    'num_modes': 9,\n",
    "    'scoring': 'vinardo',\n",
    "    'refine_step': 3,\n",
    "    'seed': 5\n",
    "}\n",
    "\n",
    "docking_oracle = DockingOracle(\n",
    "    'Mpro',\n",
    "    receptor_path='../../dgym-data/Mpro_prepped.pdbqt',\n",
    "    config=config\n",
    ")"
   ]
  },
  {
   "cell_type": "code",
   "execution_count": 245,
   "id": "5b826514-222b-40d7-89a9-893af7f90c52",
   "metadata": {
    "tags": []
   },
   "outputs": [
    {
     "data": {
      "text/plain": [
       "[-6.363591366337899,\n",
       " -6.803148314309183,\n",
       " -5.476738357087498,\n",
       " -5.906628311679397,\n",
       " -5.55992511119615]"
      ]
     },
     "execution_count": 245,
     "metadata": {},
     "output_type": "execute_result"
    }
   ],
   "source": [
    "docking_oracle.predict(deck[:96])"
   ]
  }
 ],
 "metadata": {
  "kernelspec": {
   "display_name": "Python 3 (ipykernel)",
   "language": "python",
   "name": "python3"
  },
  "language_info": {
   "codemirror_mode": {
    "name": "ipython",
    "version": 3
   },
   "file_extension": ".py",
   "mimetype": "text/x-python",
   "name": "python",
   "nbconvert_exporter": "python",
   "pygments_lexer": "ipython3",
   "version": "3.11.4"
  }
 },
 "nbformat": 4,
 "nbformat_minor": 5
}
