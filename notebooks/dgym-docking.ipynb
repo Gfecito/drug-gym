{
 "cells": [
  {
   "cell_type": "code",
   "execution_count": 2,
   "id": "09f363d8-2384-4d7d-a14f-081a20c4a209",
   "metadata": {},
   "outputs": [
    {
     "name": "stdout",
     "output_type": "stream",
     "text": [
      "Computing Vina grid ... Score before minimization: -12.513 (kcal/mol)\n",
      "Score after minimization : -13.249 (kcal/mol)\n",
      "done.\n",
      "Performing local search ... done.\n",
      "Performing docking (random seed: -1708539341) ... \n",
      "0%   10   20   30   40   50   60   70   80   90   100%\n",
      "|----|----|----|----|----|----|----|----|----|----|\n",
      "***************************************************\n"
     ]
    }
   ],
   "source": [
    "from vina import Vina\n",
    "\n",
    "path = '../../vina'\n",
    "\n",
    "v = Vina(sf_name='vina')\n",
    "\n",
    "v.set_receptor(f'{path}/1iep_receptor.pdbqt')\n",
    "\n",
    "v.set_ligand_from_file(f'{path}/1iep_ligand.pdbqt')\n",
    "v.compute_vina_maps(center=[15.190, 53.903, 16.917], box_size=[20, 20, 20])\n",
    "\n",
    "# Score the current pose\n",
    "energy = v.score()\n",
    "print('Score before minimization: %.3f (kcal/mol)' % energy[0])\n",
    "\n",
    "# Minimized locally the current pose\n",
    "energy_minimized = v.optimize()\n",
    "print('Score after minimization : %.3f (kcal/mol)' % energy_minimized[0])\n",
    "v.write_pose('1iep_ligand_minimized.pdbqt', overwrite=True)\n",
    "\n",
    "# Dock the ligand\n",
    "v.dock(exhaustiveness=32, n_poses=20)"
   ]
  },
  {
   "cell_type": "code",
   "execution_count": 36,
   "id": "62c1badd-3582-4b5c-9036-8d6432222f66",
   "metadata": {},
   "outputs": [],
   "source": [
    "# %%time\n",
    "\n",
    "# from vina import Vina\n",
    "\n",
    "# path = '../../vina'\n",
    "\n",
    "# v = Vina(sf_name='vina')\n",
    "\n",
    "# v.set_receptor(f'{path}/1iep_receptor.pdbqt')\n",
    "\n",
    "# v.set_ligand_from_file(f'{path}/1iep_ligand.pdbqt')\n",
    "# v.compute_vina_maps(center=[15.190, 53.903, 16.917], box_size=[20, 20, 20])\n",
    "\n",
    "# # Score the current pose\n",
    "# energy = v.score()"
   ]
  },
  {
   "cell_type": "code",
   "execution_count": 55,
   "id": "929ed32d-0e93-4dd7-a096-fd3ad94b9a21",
   "metadata": {},
   "outputs": [
    {
     "name": "stdout",
     "output_type": "stream",
     "text": [
      "REMARK  Name = \n",
      "REMARK  2 active torsions:\n",
      "REMARK  status: ('A' for Active; 'I' for Inactive)\n",
      "REMARK    1  A    between atoms: C_1  and  C_2\n",
      "REMARK    2  A    between atoms: C_2  and  O_3\n",
      "REMARK                            x       y       z     vdW  Elec       q    Type\n",
      "REMARK                         _______ _______ _______ _____ _____    ______ ____\n",
      "ROOT\n",
      "ATOM      1  C   UNL     1      -0.888  -0.166   0.035  0.00  0.00    +0.034 C \n",
      "ATOM      2  C   UNL     1       0.488   0.436   0.226  0.00  0.00    +0.152 C \n",
      "ENDROOT\n",
      "BRANCH   2   3\n",
      "ATOM      3  O   UNL     1       1.486  -0.534  -0.057  0.00  0.00    -0.397 OA\n",
      "ATOM      4  H   UNL     1       1.366  -0.817  -0.980  0.00  0.00    +0.210 HD\n",
      "ENDBRANCH   2   3\n",
      "TORSDOF 1\n",
      "\n"
     ]
    }
   ],
   "source": [
    "from rdkit import Chem\n",
    "from rdkit.Chem import AllChem\n",
    "from openbabel import openbabel\n",
    "import io\n",
    "\n",
    "def smiles_to_pdbqt(smiles):\n",
    "    \n",
    "    # Convert SMILES to RDKit molecule\n",
    "    mol = Chem.MolFromSmiles(smiles)\n",
    "    if not mol:\n",
    "        raise ValueError(\"Invalid SMILES string\")\n",
    "    \n",
    "    # Generate 3D coordinates\n",
    "    mol = Chem.AddHs(mol)\n",
    "    AllChem.EmbedMolecule(mol, AllChem.ETKDG())\n",
    "    AllChem.MMFFOptimizeMolecule(mol)\n",
    "    \n",
    "    # Compute Gasteiger charges\n",
    "    AllChem.ComputeGasteigerCharges(mol)\n",
    "\n",
    "    # Convert RDKit molecule to SDF format in memory\n",
    "    sdf_stream = io.StringIO()\n",
    "    writer = Chem.SDWriter(sdf_stream)\n",
    "    writer.write(mol)\n",
    "    writer.close()\n",
    "\n",
    "    # Convert in-memory SDF to Open Babel molecule\n",
    "    obConversion = openbabel.OBConversion()\n",
    "    obConversion.SetInAndOutFormats(\"sdf\", \"pdbqt\")\n",
    "    mol_ob = openbabel.OBMol()\n",
    "    obConversion.ReadString(mol_ob, sdf_stream.getvalue())\n",
    "    \n",
    "    # Update Open Babel molecule with Gasteiger charges from RDKit molecule\n",
    "    for atom, atom_ob in zip(mol.GetAtoms(), openbabel.OBMolAtomIter(mol_ob)):\n",
    "        charge = atom.GetProp(\"_GasteigerCharge\")\n",
    "        atom_ob.SetPartialCharge(float(charge))\n",
    "\n",
    "    pdbqt_data = obConversion.WriteString(mol_ob)\n",
    "    \n",
    "    return pdbqt_data\n",
    "\n",
    "# Test\n",
    "smiles_string = \"CCO\"  # Ethanol\n",
    "pdbqt_data = smiles_to_pdbqt(smiles_string)\n",
    "print(pdbqt_data)"
   ]
  },
  {
   "cell_type": "code",
   "execution_count": 56,
   "id": "8987f1c2-e7a9-446b-802d-334b213e8a14",
   "metadata": {},
   "outputs": [
    {
     "name": "stdout",
     "output_type": "stream",
     "text": [
      "load data\n"
     ]
    }
   ],
   "source": [
    "%load_ext autoreload\n",
    "%autoreload 2\n",
    "\n",
    "import rdkit\n",
    "rdkit.Chem.Draw.IPythonConsole.ipython_maxProperties = -1\n",
    "\n",
    "import dgym as dg\n",
    "\n",
    "# load all data\n",
    "print('load data')\n",
    "path = '../../dgym-data'\n",
    "\n",
    "deck = dg.MoleculeCollection.from_sdf(\n",
    "    f'{path}/DSi-Poised_Library_annotated.sdf',\n",
    "    reactant_names=['reagsmi1', 'reagsmi2', 'reagsmi3']\n",
    ")"
   ]
  },
  {
   "cell_type": "code",
   "execution_count": 60,
   "id": "640f56ae-b743-474c-847a-80f62aa6c0f3",
   "metadata": {},
   "outputs": [
    {
     "data": {
      "text/plain": [
       "'c1ccc(SCCN2CCOCC2)cc1'"
      ]
     },
     "execution_count": 60,
     "metadata": {},
     "output_type": "execute_result"
    }
   ],
   "source": [
    "deck[0].smiles"
   ]
  },
  {
   "cell_type": "code",
   "execution_count": 59,
   "id": "afa68953-6cdd-4a6e-8580-b9cc2aed8ab7",
   "metadata": {},
   "outputs": [
    {
     "name": "stdout",
     "output_type": "stream",
     "text": [
      "REMARK  Name = \n",
      "REMARK  4 active torsions:\n",
      "REMARK  status: ('A' for Active; 'I' for Inactive)\n",
      "REMARK    1  A    between atoms: C_4  and  S_5\n",
      "REMARK    2  A    between atoms: S_5  and  C_6\n",
      "REMARK    3  A    between atoms: C_6  and  C_7\n",
      "REMARK    4  A    between atoms: C_7  and  N_8\n",
      "REMARK                            x       y       z     vdW  Elec       q    Type\n",
      "REMARK                         _______ _______ _______ _____ _____    ______ ____\n",
      "ROOT\n",
      "ATOM      1  C   UNL     1       0.165   0.270  -1.799  0.00  0.00    +0.090 C \n",
      "ENDROOT\n",
      "BRANCH   1   2\n",
      "ATOM      2  S   UNL     1       1.759   1.103  -2.152  0.00  0.00    -0.125 S \n",
      "BRANCH   2   6\n",
      "ATOM      3  C   UNL     1       4.550  -0.894   0.889  0.00  0.00    +0.000 A \n",
      "ATOM      4  C   UNL     1       4.408   0.492   0.860  0.00  0.00    +0.001 A \n",
      "ATOM      5  C   UNL     1       3.555   1.088  -0.072  0.00  0.00    +0.015 A \n",
      "ATOM      6  C   UNL     1       2.832   0.300  -0.974  0.00  0.00    +0.007 A \n",
      "ATOM      7  C   UNL     1       2.992  -1.088  -0.949  0.00  0.00    +0.015 A \n",
      "ATOM      8  C   UNL     1       3.845  -1.684  -0.017  0.00  0.00    +0.001 A \n",
      "ENDBRANCH   2   6\n",
      "ENDBRANCH   1   2\n",
      "BRANCH   1   9\n",
      "ATOM      9  C   UNL     1      -0.405   0.669  -0.428  0.00  0.00    +0.096 C \n",
      "BRANCH   9  10\n",
      "ATOM     10  N   UNL     1      -1.680  -0.010  -0.112  0.00  0.00    -0.298 NA\n",
      "ATOM     11  C   UNL     1      -2.026   0.206   1.313  0.00  0.00    +0.113 C \n",
      "ATOM     12  C   UNL     1      -3.377  -0.432   1.670  0.00  0.00    +0.175 C \n",
      "ATOM     13  O   UNL     1      -4.428   0.094   0.850  0.00  0.00    -0.379 OA\n",
      "ATOM     14  C   UNL     1      -4.136  -0.151  -0.532  0.00  0.00    +0.175 C \n",
      "ATOM     15  C   UNL     1      -2.799   0.488  -0.943  0.00  0.00    +0.113 C \n",
      "ENDBRANCH   9  10\n",
      "ENDBRANCH   1   9\n",
      "TORSDOF 4\n",
      "\n"
     ]
    }
   ],
   "source": [
    "print(smiles_to_pdbqt(deck[0].smiles))"
   ]
  }
 ],
 "metadata": {
  "kernelspec": {
   "display_name": "Python 3 (ipykernel)",
   "language": "python",
   "name": "python3"
  },
  "language_info": {
   "codemirror_mode": {
    "name": "ipython",
    "version": 3
   },
   "file_extension": ".py",
   "mimetype": "text/x-python",
   "name": "python",
   "nbconvert_exporter": "python",
   "pygments_lexer": "ipython3",
   "version": "3.11.4"
  }
 },
 "nbformat": 4,
 "nbformat_minor": 5
}
