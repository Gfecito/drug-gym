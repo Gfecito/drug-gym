{
 "cells": [
  {
   "cell_type": "code",
   "execution_count": 1,
   "id": "8987f1c2-e7a9-446b-802d-334b213e8a14",
   "metadata": {
    "tags": []
   },
   "outputs": [
    {
     "name": "stdout",
     "output_type": "stream",
     "text": [
      "load data\n"
     ]
    }
   ],
   "source": [
    "%load_ext autoreload\n",
    "%autoreload 2\n",
    "\n",
    "import rdkit\n",
    "rdkit.Chem.Draw.IPythonConsole.ipython_maxProperties = -1\n",
    "\n",
    "import dgym as dg\n",
    "\n",
    "# load all data\n",
    "print('load data')\n",
    "path = '../../dgym-data'\n",
    "\n",
    "deck = dg.MoleculeCollection.from_sdf(\n",
    "    f'{path}/DSi-Poised_Library_annotated.sdf',\n",
    "    reactant_names=['reagsmi1', 'reagsmi2', 'reagsmi3']\n",
    ")"
   ]
  },
  {
   "cell_type": "code",
   "execution_count": 2,
   "id": "69f5e674-e64f-42a7-99a6-a581999c1e54",
   "metadata": {
    "tags": []
   },
   "outputs": [],
   "source": [
    "from meeko import MoleculePreparation\n",
    "from meeko import PDBQTWriterLegacy\n",
    "\n",
    "def get_pdbqt(mol):\n",
    "\n",
    "    # add hydrogens (without regard to pH)\n",
    "    protonated_mol = rdkit.Chem.AddHs(mol)\n",
    "\n",
    "    # generate 3D coordinates for the ligand. \n",
    "    rdkit.Chem.AllChem.EmbedMolecule(protonated_mol)\n",
    "\n",
    "    # intialize preparation\n",
    "    preparator = MoleculePreparation()\n",
    "    mol_setups = preparator.prepare(protonated_mol)\n",
    "    \n",
    "    for setup in mol_setups:\n",
    "        pdbqt_string, is_ok, error_msg = PDBQTWriterLegacy.write_string(setup)\n",
    "        if is_ok:\n",
    "            return pdbqt_string"
   ]
  },
  {
   "cell_type": "markdown",
   "id": "af4bad0f-5bba-4a1f-84e6-db40bf3fcad0",
   "metadata": {},
   "source": [
    "Create ligand PDBQTs."
   ]
  },
  {
   "cell_type": "code",
   "execution_count": 40,
   "id": "c79212ed-b814-4b27-8aa1-f55b74bcaf7d",
   "metadata": {
    "tags": []
   },
   "outputs": [
    {
     "data": {
      "application/vnd.jupyter.widget-view+json": {
       "model_id": "45dfab5b9292486bb440493bbe4b8fa6",
       "version_major": 2,
       "version_minor": 0
      },
      "text/plain": [
       "  0%|          | 0/860 [00:00<?, ?it/s]"
      ]
     },
     "metadata": {},
     "output_type": "display_data"
    }
   ],
   "source": [
    "import os\n",
    "from tqdm.notebook import tqdm\n",
    "\n",
    "out_dir = '../../dgym-data/out/ligands_temp/'\n",
    "\n",
    "paths = []\n",
    "for mol in tqdm(deck[:]):\n",
    "    path = os.path.join(out_dir, f'{mol.name}.pdbqt')\n",
    "    paths.append(path)\n",
    "    pdbqt = get_pdbqt(mol.mol)\n",
    "    \n",
    "    with open(path, 'w') as file:\n",
    "        file.write(pdbqt)\n",
    "\n",
    "ligands_txt = ' '.join(paths)\n",
    "path = os.path.join(out_dir, 'ligands.txt')\n",
    "with open(path, 'w') as file:\n",
    "    file.write(ligands_txt)"
   ]
  },
  {
   "cell_type": "markdown",
   "id": "2b7ac270-9827-43d7-baa1-d7d3987a7cba",
   "metadata": {},
   "source": [
    "Create ligand txt summary file."
   ]
  },
  {
   "cell_type": "code",
   "execution_count": 41,
   "id": "44959654-8f6f-43dd-a747-c431e751d93f",
   "metadata": {
    "tags": []
   },
   "outputs": [],
   "source": [
    "# import subprocess\n",
    "# import tempfile\n",
    "\n",
    "# with tempfile.TemporaryDirectory() as tempdir:\n",
    "#     print(f\"Temporary directory created at {tempdir}\")"
   ]
  },
  {
   "cell_type": "code",
   "execution_count": 62,
   "id": "9d5f009d-5116-44c1-8d49-ef0fe74b95c9",
   "metadata": {
    "tags": []
   },
   "outputs": [
    {
     "name": "stdout",
     "output_type": "stream",
     "text": [
      "CPU times: user 10.9 ms, sys: 673 µs, total: 11.6 ms\n",
      "Wall time: 33 s\n"
     ]
    }
   ],
   "source": [
    "%%time\n",
    "import subprocess\n",
    "\n",
    "command = 'unidock --receptor ../../dgym-data/Mpro_prepped.pdbqt --ligand_index ../../dgym-data/out/ligands_temp/ligands.txt --center_x 9.812 --center_y -0.257 --center_z 20.8485 --size_x 14.328 --size_y 8.85 --size_z 12.539 --dir ../../dgym-data/out --exhaustiveness 128 --max_step 20 --num_modes 9 --scoring vina --refine_step 3 --seed 5'\n",
    "resp = subprocess.run(\n",
    "    command,\n",
    "    shell=True, \n",
    "    stdout=subprocess.PIPE,\n",
    "    stderr=subprocess.PIPE, \n",
    "    encoding='utf-8'\n",
    ")"
   ]
  },
  {
   "cell_type": "code",
   "execution_count": 43,
   "id": "b2d6b20f-4c74-422c-b488-f9f03ebbb517",
   "metadata": {
    "tags": []
   },
   "outputs": [],
   "source": [
    "import glob\n",
    "from itertools import islice\n",
    "from operator import itemgetter\n",
    "\n",
    "affinities = []\n",
    "paths = glob.glob('../../dgym-data/out/*.pdbqt')\n",
    "for path in paths:\n",
    "    with open(path, 'r') as file:\n",
    "        # get relevant lines from file\n",
    "        lines = list(islice(file, 7))\n",
    "        affinity_str, smiles_str = itemgetter(1, 6)(lines)\n",
    "        \n",
    "        # extract affinity\n",
    "        affinity = affinity_str.split('    ')[1].split('    ')[0]\n",
    "        smiles = smiles_str.split(' ')[-1].split('\\n')[0]\n",
    "\n",
    "        # append to affinities\n",
    "        affinities.append(\n",
    "            {'smiles': smiles, 'affinity': float(affinity)}\n",
    "        )"
   ]
  },
  {
   "cell_type": "code",
   "execution_count": 44,
   "id": "2e4551d0-a2fa-48d7-96ad-463aba093d95",
   "metadata": {
    "tags": []
   },
   "outputs": [],
   "source": [
    "import numpy as np\n",
    "\n",
    "def boltzmann_sum(energies, temperature=298.15):\n",
    "    kT = 0.0019872041 * temperature  # Boltzmann constant in kcal/(mol·K) multiplied by temperature in K\n",
    "    energies = np.array(energies)  # Energies should be in kcal/mol\n",
    "\n",
    "    # Use logsumexp for numerical stability\n",
    "    return -kT * np.log(np.sum(np.exp(-energies / kT)))"
   ]
  },
  {
   "cell_type": "code",
   "execution_count": 121,
   "id": "ae1f6a03-7d39-4a51-95d5-6796c6b2d273",
   "metadata": {
    "tags": []
   },
   "outputs": [],
   "source": [
    "import re\n",
    "import glob\n",
    "from itertools import islice\n",
    "from operator import itemgetter\n",
    "\n",
    "affinities = []\n",
    "paths = glob.glob('../../dgym-data/out/*.pdbqt')\n",
    "\n",
    "for idx, path in enumerate(paths):\n",
    "    with open(path, 'r') as file:\n",
    "\n",
    "        # extract SMILES from the file\n",
    "        smiles_str = list(islice(file, 7))[-1]\n",
    "        smiles = smiles_str.split(' ')[-1].split('\\n')[0]\n",
    "        file.seek(0)\n",
    "\n",
    "        # extract affinities\n",
    "        affinity_strs = [line for line in file\n",
    "                         if line.startswith('REMARK VINA RESULT')]\n",
    "        process_affinity = lambda s: re.search(r'-?\\d+\\.\\d+', s).group()\n",
    "        affinity = [float(process_affinity(a)) for a in affinity_strs]\n",
    "\n",
    "        # compute boltzmann sum\n",
    "        affinity = boltzmann_sum(affinity)\n",
    "\n",
    "        # append to affinities\n",
    "        affinities.append(\n",
    "            {'smiles': smiles, 'affinity': affinity}\n",
    "        )\n",
    "\n",
    "affinities = pd.DataFrame(affinities)"
   ]
  },
  {
   "cell_type": "code",
   "execution_count": 125,
   "id": "d2ca98d8-c1a7-4b86-9396-043c2135a9e4",
   "metadata": {
    "tags": []
   },
   "outputs": [
    {
     "data": {
      "text/html": [
       "<div>\n",
       "<style scoped>\n",
       "    .dataframe tbody tr th:only-of-type {\n",
       "        vertical-align: middle;\n",
       "    }\n",
       "\n",
       "    .dataframe tbody tr th {\n",
       "        vertical-align: top;\n",
       "    }\n",
       "\n",
       "    .dataframe thead th {\n",
       "        text-align: right;\n",
       "    }\n",
       "</style>\n",
       "<table border=\"1\" class=\"dataframe\">\n",
       "  <thead>\n",
       "    <tr style=\"text-align: right;\">\n",
       "      <th></th>\n",
       "      <th>smiles</th>\n",
       "      <th>affinity</th>\n",
       "    </tr>\n",
       "  </thead>\n",
       "  <tbody>\n",
       "    <tr>\n",
       "      <th>349</th>\n",
       "      <td>O=C(c1nc(=O)[nH][nH]1)N1CCCCCC1</td>\n",
       "      <td>-222.228000</td>\n",
       "    </tr>\n",
       "    <tr>\n",
       "      <th>663</th>\n",
       "      <td>CC(=O)N1CCCNCC1</td>\n",
       "      <td>-170.666000</td>\n",
       "    </tr>\n",
       "    <tr>\n",
       "      <th>380</th>\n",
       "      <td>N#Cc1ccc(N2CCCOCC2)cn1</td>\n",
       "      <td>-158.538881</td>\n",
       "    </tr>\n",
       "    <tr>\n",
       "      <th>53</th>\n",
       "      <td>c1cnc(NC2CCCCCC2)nc1</td>\n",
       "      <td>-155.617000</td>\n",
       "    </tr>\n",
       "    <tr>\n",
       "      <th>473</th>\n",
       "      <td>Fc1cccnc1NC1CCCOCC1</td>\n",
       "      <td>-143.228000</td>\n",
       "    </tr>\n",
       "    <tr>\n",
       "      <th>510</th>\n",
       "      <td>Cc1nsc(N2CCCNCC2)n1</td>\n",
       "      <td>-113.841847</td>\n",
       "    </tr>\n",
       "    <tr>\n",
       "      <th>297</th>\n",
       "      <td>CN(C)S(=O)(=O)NC1CCCCNC1=O</td>\n",
       "      <td>-103.099000</td>\n",
       "    </tr>\n",
       "    <tr>\n",
       "      <th>653</th>\n",
       "      <td>O=C(c1c(F)cccc1F)N1CCCCCC1</td>\n",
       "      <td>-96.027000</td>\n",
       "    </tr>\n",
       "    <tr>\n",
       "      <th>210</th>\n",
       "      <td>CC(=O)N1CCCC2(CCCCCC2)C1</td>\n",
       "      <td>-94.072000</td>\n",
       "    </tr>\n",
       "    <tr>\n",
       "      <th>342</th>\n",
       "      <td>CC(=O)NC(C)C(=O)N1CCCCCC1</td>\n",
       "      <td>-86.757000</td>\n",
       "    </tr>\n",
       "    <tr>\n",
       "      <th>371</th>\n",
       "      <td>COc1cccc2c1CCCC(=O)N2</td>\n",
       "      <td>-86.161680</td>\n",
       "    </tr>\n",
       "    <tr>\n",
       "      <th>24</th>\n",
       "      <td>CNC(=O)CN(C)C1CCCCCC1</td>\n",
       "      <td>-84.240000</td>\n",
       "    </tr>\n",
       "    <tr>\n",
       "      <th>138</th>\n",
       "      <td>O=C(c1ccc2c(c1)OCO2)N1CCCCCC1</td>\n",
       "      <td>-80.976000</td>\n",
       "    </tr>\n",
       "    <tr>\n",
       "      <th>581</th>\n",
       "      <td>CC1CCCN(C(=O)c2cscn2)CC1</td>\n",
       "      <td>-43.230000</td>\n",
       "    </tr>\n",
       "    <tr>\n",
       "      <th>143</th>\n",
       "      <td>CC(=O)N1CCOc2ccccc2C1</td>\n",
       "      <td>-41.699000</td>\n",
       "    </tr>\n",
       "    <tr>\n",
       "      <th>312</th>\n",
       "      <td>O=C(Nc1ccc(F)cc1)Nc1cccc(O)c1</td>\n",
       "      <td>-8.065214</td>\n",
       "    </tr>\n",
       "    <tr>\n",
       "      <th>303</th>\n",
       "      <td>Cc1cc(C)nc(NC(=O)Nc2ccccc2)c1</td>\n",
       "      <td>-7.966410</td>\n",
       "    </tr>\n",
       "    <tr>\n",
       "      <th>57</th>\n",
       "      <td>Oc1ccccc1CNc1nc2ccccc2[nH]1</td>\n",
       "      <td>-7.885429</td>\n",
       "    </tr>\n",
       "    <tr>\n",
       "      <th>763</th>\n",
       "      <td>Cc1cc(C(=O)Nc2ccc3[nH]ccc3c2)no1</td>\n",
       "      <td>-7.819345</td>\n",
       "    </tr>\n",
       "    <tr>\n",
       "      <th>107</th>\n",
       "      <td>O=C(NCc1ccc(F)cc1)Nc1ccccc1</td>\n",
       "      <td>-7.762660</td>\n",
       "    </tr>\n",
       "  </tbody>\n",
       "</table>\n",
       "</div>"
      ],
      "text/plain": [
       "                               smiles    affinity\n",
       "349   O=C(c1nc(=O)[nH][nH]1)N1CCCCCC1 -222.228000\n",
       "663                   CC(=O)N1CCCNCC1 -170.666000\n",
       "380            N#Cc1ccc(N2CCCOCC2)cn1 -158.538881\n",
       "53               c1cnc(NC2CCCCCC2)nc1 -155.617000\n",
       "473               Fc1cccnc1NC1CCCOCC1 -143.228000\n",
       "510               Cc1nsc(N2CCCNCC2)n1 -113.841847\n",
       "297        CN(C)S(=O)(=O)NC1CCCCNC1=O -103.099000\n",
       "653        O=C(c1c(F)cccc1F)N1CCCCCC1  -96.027000\n",
       "210          CC(=O)N1CCCC2(CCCCCC2)C1  -94.072000\n",
       "342         CC(=O)NC(C)C(=O)N1CCCCCC1  -86.757000\n",
       "371             COc1cccc2c1CCCC(=O)N2  -86.161680\n",
       "24              CNC(=O)CN(C)C1CCCCCC1  -84.240000\n",
       "138     O=C(c1ccc2c(c1)OCO2)N1CCCCCC1  -80.976000\n",
       "581          CC1CCCN(C(=O)c2cscn2)CC1  -43.230000\n",
       "143             CC(=O)N1CCOc2ccccc2C1  -41.699000\n",
       "312     O=C(Nc1ccc(F)cc1)Nc1cccc(O)c1   -8.065214\n",
       "303     Cc1cc(C)nc(NC(=O)Nc2ccccc2)c1   -7.966410\n",
       "57        Oc1ccccc1CNc1nc2ccccc2[nH]1   -7.885429\n",
       "763  Cc1cc(C(=O)Nc2ccc3[nH]ccc3c2)no1   -7.819345\n",
       "107       O=C(NCc1ccc(F)cc1)Nc1ccccc1   -7.762660"
      ]
     },
     "execution_count": 125,
     "metadata": {},
     "output_type": "execute_result"
    }
   ],
   "source": [
    "affinities.sort_values('affinity').head(20)"
   ]
  },
  {
   "cell_type": "code",
   "execution_count": 131,
   "id": "e4651fa3-24aa-43ed-977f-a75c32fdbaa3",
   "metadata": {
    "tags": []
   },
   "outputs": [
    {
     "data": {
      "image/png": "[encoded data removed]",
      "text/html": [
       "<table><tr><td colspan=\"2\" style=\"text-align: center;\"><image src=\"data:image/png;base64,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\"></td></tr>\n",
       "<tr><th style=\"text-align: right\">HBA</th><td style=\"text-align: left\">4</td></tr>\n",
       "<tr><th style=\"text-align: right\">TPSA</th><td style=\"text-align: left\">73.8</td></tr>\n",
       "<tr><th style=\"text-align: right\">RotBonds</th><td style=\"text-align: left\">1</td></tr>\n",
       "<tr><th style=\"text-align: right\">reagsmi1</th><td style=\"text-align: left\">C1CCCNCC1</td></tr>\n",
       "<tr><th style=\"text-align: right\">reagsmi2</th><td style=\"text-align: left\">OC(=O)C1=NC(=O)NN1</td></tr>\n",
       "<tr><th style=\"text-align: right\">reag1</th><td style=\"text-align: left\">EN300-18063</td></tr>\n",
       "<tr><th style=\"text-align: right\">Catalog ID</th><td style=\"text-align: left\">Z755016692</td></tr>\n",
       "<tr><th style=\"text-align: right\">MW</th><td style=\"text-align: left\">210.233</td></tr>\n",
       "<tr><th style=\"text-align: right\">MW (desalted)</th><td style=\"text-align: left\">210.233</td></tr>\n",
       "<tr><th style=\"text-align: right\">ClogP</th><td style=\"text-align: left\">-0.205</td></tr>\n",
       "<tr><th style=\"text-align: right\">logS</th><td style=\"text-align: left\">-1.98</td></tr>\n",
       "<tr><th style=\"text-align: right\">HBD</th><td style=\"text-align: left\">2</td></tr>\n",
       "<tr><th style=\"text-align: right\">reag2</th><td style=\"text-align: left\">EN300-35843</td></tr>\n",
       "<tr><th style=\"text-align: right\">reaction</th><td style=\"text-align: left\">AMIDE1</td></tr>\n",
       "<tr><th style=\"text-align: right\">RDB type</th><td style=\"text-align: left\">sRDB</td></tr></table>"
      ],
      "text/plain": [
       "<dgym.molecule.Molecule at 0x7f5a66b0fb90>"
      ]
     },
     "execution_count": 131,
     "metadata": {},
     "output_type": "execute_result"
    }
   ],
   "source": [
    "deck.lookup['O=C(c1nc(=O)[nH][nH]1)N1CCCCCC1']"
   ]
  }
 ],
 "metadata": {
  "kernelspec": {
   "display_name": "Python 3 (ipykernel)",
   "language": "python",
   "name": "python3"
  },
  "language_info": {
   "codemirror_mode": {
    "name": "ipython",
    "version": 3
   },
   "file_extension": ".py",
   "mimetype": "text/x-python",
   "name": "python",
   "nbconvert_exporter": "python",
   "pygments_lexer": "ipython3",
   "version": "3.11.4"
  }
 },
 "nbformat": 4,
 "nbformat_minor": 5
}
