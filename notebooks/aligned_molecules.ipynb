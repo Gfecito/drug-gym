{
 "cells": [
  {
   "cell_type": "markdown",
   "id": "cae0c7d4-d498-4494-8190-dfd49ef30ff3",
   "metadata": {},
   "source": [
    "# Aligning molecule plots"
   ]
  },
  {
   "cell_type": "markdown",
   "id": "c3f66a42-e50f-4a42-b664-7c7040e1f4a4",
   "metadata": {},
   "source": [
    "Create lineage."
   ]
  },
  {
   "cell_type": "code",
   "execution_count": 14,
   "id": "5ba46809-bae9-4cd2-b78f-7a18dfeb421b",
   "metadata": {
    "tags": []
   },
   "outputs": [],
   "source": [
    "import dgym as dg\n",
    "from dgym.molecule import Molecule\n",
    "\n",
    "lineage_routes = [\n",
    " {'product': 'O=C(O)C1CCCN(C(=O)Cc2ccc(F)cc2)C1',\n",
    "  'reactants': [{'product': 'COC(=O)C1CCCNC1.Cl'},\n",
    "   {'product': 'O=C(O)Cc1ccc(F)cc1'}]},\n",
    " {'product': 'COC(=O)C1CCCN(C(=O)C2CCCCC23CCC3)C1',\n",
    "  'reaction': '13_Carboxylate_and_Amine',\n",
    "  'reactants': [{'product': 'COC(=O)C1CCCNC1.Cl'},\n",
    "   {'product': 'O=C(O)C1CCCCC12CCC2'}]},\n",
    " {'product': 'COC(=O)C1CCCN(C(=O)c2ccc3nc(-c4ccc(F)cc4)[nH]c3c2)C1',\n",
    "  'reaction': '13_Carboxylate_and_Amine',\n",
    "  'reactants': [{'product': 'COC(=O)C1CCCNC1.Cl'},\n",
    "   {'product': 'O=C(O)c1ccc2nc(-c3ccc(F)cc3)[nH]c2c1'}]},\n",
    " {'product': 'O=C(O)C1CCCCN(C(=O)c2ccc3nc(-c4ccc(F)cc4)[nH]c3c2)C1=O',\n",
    "  'reaction': '13_Carboxylate_and_Amine',\n",
    "  'reactants': [{'product': 'O=C(O)C1CCCCNC1=O'},\n",
    "   {'product': 'O=C(O)c1ccc2nc(-c3ccc(F)cc3)[nH]c2c1'}]},\n",
    " {'product': 'O=C(c1ccc2nc(-c3ccc(F)cc3)[nH]c2c1)N1CCC2(CCOCC2)C1=O',\n",
    "  'reaction': '13_Carboxylate_and_Amine',\n",
    "  'reactants': [{'product': 'O=C1NCCC12CCOCC2'},\n",
    "   {'product': 'O=C(O)c1ccc2nc(-c3ccc(F)cc3)[nH]c2c1'}]},\n",
    " {'product': 'CNc1ccc2cc(C(=O)N3CCC4(CCOCC4)C3=O)ccc2c1',\n",
    "  'reaction': '13_Carboxylate_and_Amine',\n",
    "  'reactants': [{'product': 'O=C1NCCC12CCOCC2'},\n",
    "   {'product': 'CNc1ccc2cc(C(=O)O)ccc2c1.Cl'}]},\n",
    " {'product': 'CN(c1ccc2cc(C(=O)N3CCC4(CCOCC4)C3=O)ccc2c1)c1ccc(N)c(I)n1',\n",
    "  'reaction': '18_Halide_and_Amine',\n",
    "  'reactants': [{'product': 'CNc1ccc2cc(C(=O)N3CCC4(CCOCC4)C3=O)ccc2c1',\n",
    "    'reaction': '13_Carboxylate_and_Amine',\n",
    "    'reactants': [{'product': 'O=C1NCCC12CCOCC2'},\n",
    "     {'product': 'CNc1ccc2cc(C(=O)O)ccc2c1.Cl'}]},\n",
    "   {'product': 'Nc1ccc(I)nc1I'}]},\n",
    " {'product': 'CN(c1ccc2cc(C(=O)N3CC4COCC(C3)C(=O)N4)ccc2c1)c1ccc(N)c(I)n1',\n",
    "  'reaction': '18_Halide_and_Amine',\n",
    "  'reactants': [{'product': 'CNc1ccc2cc(C(=O)N3CC4COCC(C3)C(=O)N4)ccc2c1',\n",
    "    'reaction': '13_Carboxylate_and_Amine',\n",
    "    'reactants': [{'product': 'O=C1NC2CNCC1COC2'},\n",
    "     {'product': 'CNc1ccc2cc(C(=O)O)ccc2c1.Cl'}]},\n",
    "   {'product': 'Nc1ccc(I)nc1I'}]}]\n",
    "\n",
    "class FakeMolecule:\n",
    "    def __init__(self, lineage):\n",
    "        self.lineage = lineage\n",
    "        \n",
    "lineage = [Molecule.load(l) for l in lineage_routes]\n",
    "molecule = FakeMolecule(lineage)"
   ]
  },
  {
   "cell_type": "code",
   "execution_count": 15,
   "id": "07da6896-c34a-4a4c-8b26-9c01e9d2304b",
   "metadata": {
    "tags": []
   },
   "outputs": [],
   "source": [
    "def plot_aligned_molecules(molecules):\n",
    "    \"\"\"\n",
    "    Plots a list of RDKit molecules.\n",
    "\n",
    "    Parameters\n",
    "    ----------\n",
    "    molecules : list\n",
    "        A list of RDKit molecule objects.\n",
    "    \"\"\"\n",
    "    mols = [m.mol for m in molecules]\n",
    "    img = Draw.MolsToGridImage(\n",
    "        mols,\n",
    "        subImgSize=(500, 500),\n",
    "        molsPerRow=3,\n",
    "    )\n",
    "    return img"
   ]
  },
  {
   "cell_type": "code",
   "execution_count": null,
   "id": "bdb724b7-8292-4358-9f84-f769f8e77820",
   "metadata": {},
   "outputs": [],
   "source": [
    "lineage = dg.utils.align_lineage(molecule)\n",
    "plot_aligned_molecules(lineage)"
   ]
  }
 ],
 "metadata": {
  "kernelspec": {
   "display_name": "Python 3 (ipykernel)",
   "language": "python",
   "name": "python3"
  },
  "language_info": {
   "codemirror_mode": {
    "name": "ipython",
    "version": 3
   },
   "file_extension": ".py",
   "mimetype": "text/x-python",
   "name": "python",
   "nbconvert_exporter": "python",
   "pygments_lexer": "ipython3",
   "version": "3.11.5"
  }
 },
 "nbformat": 4,
 "nbformat_minor": 5
}
