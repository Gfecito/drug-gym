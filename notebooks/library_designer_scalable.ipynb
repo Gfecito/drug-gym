{
 "cells": [
  {
   "cell_type": "code",
   "execution_count": 1,
   "id": "64b75c48-a1fa-468a-93c1-78c96d35ff0f",
   "metadata": {
    "tags": []
   },
   "outputs": [
    {
     "name": "stdout",
     "output_type": "stream",
     "text": [
      "load data\n"
     ]
    }
   ],
   "source": [
    "%reload_ext autoreload\n",
    "%autoreload 2\n",
    "\n",
    "import rdkit\n",
    "rdkit.Chem.Draw.IPythonConsole.ipython_maxProperties = -1\n",
    "\n",
    "import dgym as dg\n",
    "\n",
    "# load all data\n",
    "print('load data')\n",
    "path = '../../dgym-data'\n",
    "\n",
    "deck = dg.MoleculeCollection.load(\n",
    "    f'{path}/DSi-Poised_Library_annotated.sdf',\n",
    "    reactant_names=['reagsmi1', 'reagsmi2', 'reagsmi3']\n",
    ")\n",
    "\n",
    "reactions = dg.ReactionCollection.from_json(\n",
    "    path = f'{path}/All_Rxns_rxn_library.json',\n",
    "    smarts_col = 'reaction_string',\n",
    "    classes_col = 'functional_groups'\n",
    ")"
   ]
  },
  {
   "cell_type": "code",
   "execution_count": 2,
   "id": "93e818bc-c479-4f1e-894f-a9b5e4f582ac",
   "metadata": {
    "tags": []
   },
   "outputs": [
    {
     "name": "stdout",
     "output_type": "stream",
     "text": [
      "align fingerprints\n"
     ]
    }
   ],
   "source": [
    "building_blocks = dg.datasets.disk_loader(f'{path}/Enamine_Building_Blocks_Stock_262336cmpd_20230630.sdf')\n",
    "fingerprints = dg.datasets.fingerprints(f'{path}/out/Enamine_Building_Blocks_Stock_262336cmpd_20230630.fpb')\n",
    "\n",
    "# align fingerprints to building blocks\n",
    "print('align fingerprints')\n",
    "fingerprints = dg.utils.sort_fingerprints(fingerprints, building_blocks)"
   ]
  },
  {
   "cell_type": "code",
   "execution_count": 3,
   "id": "6302c454-1f99-4f52-955b-4b6032a3851c",
   "metadata": {
    "tags": []
   },
   "outputs": [],
   "source": [
    "import numpy as np\n",
    "from dgym.envs.library_designer import LibraryDesigner\n",
    "from dgym.envs.oracle import DGLOracle, RDKitOracle, DockingOracle\n",
    "from dgym.envs.evaluator import ClassicEvaluator, UtilityFunction\n",
    "\n",
    "# create library designer\n",
    "library_designer = LibraryDesigner(\n",
    "    reactions,\n",
    "    building_blocks,\n",
    "    fingerprints\n",
    ")"
   ]
  },
  {
   "cell_type": "code",
   "execution_count": 8,
   "id": "bc5186a9-7080-48cd-9e86-338304c423d3",
   "metadata": {
    "tags": []
   },
   "outputs": [],
   "source": [
    "mol = dg.molecule.Molecule(\n",
    "    'Cc1ccccc1C(=O)Nc1nc(-c2cccc(O)c2)cs1',\n",
    "    reactants = [\n",
    "        dg.molecule.Molecule('Cc1ccccc1C(=O)O'),\n",
    "        dg.molecule.Molecule('Nc1nc(-c2cccc(O)c2)cs1'),\n",
    "    ]\n",
    ")\n",
    "\n",
    "library_designer.reset_cache()\n",
    "\n",
    "analogs = library_designer.design(\n",
    "    molecule = deck[649],\n",
    "    num_analogs = 20,\n",
    "    temperature = 0.0\n",
    ")"
   ]
  },
  {
   "cell_type": "code",
   "execution_count": null,
   "id": "22c05486-b2b3-4512-a7ef-5047817aad11",
   "metadata": {},
   "outputs": [],
   "source": [
    "def _boltzmann_sampling(self, array, probabilities, temperature, size=1):\n",
    "    \"\"\"\n",
    "    Perform sampling based on Boltzmann probabilities with a temperature parameter.\n",
    "\n",
    "    Parameters:\n",
    "    probabilities (list of float): Original probabilities derived from Tanimoto similarity.\n",
    "    temperature (float): Temperature parameter controlling the randomness of the sampling.\n",
    "    size (int, optional): Number of samples to draw. Defaults to 1.\n",
    "\n",
    "    Returns:\n",
    "    numpy.ndarray: Indices of the sampled elements.\n",
    "    \"\"\"\n",
    "    assert len(array) == len(probabilities)\n",
    "\n",
    "    # Avoid dividing by zero\n",
    "    temperature += 1e-2\n",
    "\n",
    "    # Adjust probabilities using the Boltzmann distribution and temperature\n",
    "    adjusted_probs = np.exp(np.log(probabilities) / temperature)\n",
    "    adjusted_probs /= np.sum(adjusted_probs)\n",
    "\n",
    "    # Perform the sampling\n",
    "    rng = np.random.default_rng()\n",
    "    choices = rng.choice(array, size=size, p=adjusted_probs, replace=False)\n",
    "\n",
    "    # Shuffle sample\n",
    "    choices = rng.permutation(choices)\n",
    "\n",
    "    return choices.tolist()"
   ]
  },
  {
   "cell_type": "code",
   "execution_count": 3906,
   "id": "836ef126-bb65-4002-8487-60dbd243dbc5",
   "metadata": {
    "tags": []
   },
   "outputs": [],
   "source": [
    "import chemfp\n",
    "\n",
    "self = library_designer\n",
    "\n",
    "class Generator:\n",
    "    \n",
    "    def __init__(self, molecule):\n",
    "        self.molecule = molecule\n",
    "        self.fingerprints = library_designer.fingerprints\n",
    "        self.building_blocks = library_designer.building_blocks\n",
    "        self.indices = None\n",
    "        self.scores = None\n",
    "    \n",
    "    @staticmethod\n",
    "    def boltzmann(scores, temperature):\n",
    "        from scipy.special import softmax\n",
    "        temperature += 1e-2\n",
    "        probabilities = softmax(np.log(scores) / temperature)\n",
    "        return probabilities\n",
    "\n",
    "    def transform_and_choose(self, indices, scores, temperature, size):\n",
    "\n",
    "        # # Convert probabilities\n",
    "        probabilities = self.boltzmann(scores, temperature)\n",
    "\n",
    "        # Sample choice\n",
    "        choice = np.random.choice(indices, p=probabilities, size=size)\n",
    "\n",
    "        return choice\n",
    "\n",
    "    def score_analogs(self, molecule):\n",
    "        \n",
    "        # Perform similarity search\n",
    "        result = chemfp.simsearch(\n",
    "            k = 1_000,\n",
    "            query = molecule.smiles,\n",
    "            targets = self.fingerprints\n",
    "        )\n",
    "\n",
    "        # Collect scores\n",
    "        indices, scores = zip(*result.get_indices_and_scores())\n",
    "        \n",
    "        return indices, scores\n",
    "        \n",
    "    def generate(self, temperature=0.1, size=1):\n",
    "\n",
    "        if not self.indices:\n",
    "            self.indices, self.scores = self.score_analogs(self.molecule)\n",
    "        \n",
    "        # Choose analog\n",
    "        choices = self.transform_and_choose(self.indices, self.scores, temperature, size)\n",
    "        analogs = [self.building_blocks[choice.item()] for choice in choices]\n",
    "\n",
    "        return analogs\n",
    "    \n",
    "    def __repr__(self):\n",
    "        return f'Generator({self.molecule.smiles})'"
   ]
  },
  {
   "cell_type": "code",
   "execution_count": 3907,
   "id": "c89804af-3f2c-4ba8-9985-9f0cae1146aa",
   "metadata": {
    "tags": []
   },
   "outputs": [],
   "source": [
    "from rdkit.Chem import AllChem, DataStructs\n",
    "\n",
    "def _similarity(self, mol1, mol2):\n",
    "    \"\"\"\n",
    "    Calculate the Tanimoto similarity between two molecules represented by their SMILES strings.\n",
    "\n",
    "    Parameters\n",
    "    ----------\n",
    "    smiles1 : str\n",
    "        The SMILES representation of the first molecule.\n",
    "    smiles2 : str\n",
    "        The SMILES representation of the second molecule.\n",
    "\n",
    "    Returns\n",
    "    -------\n",
    "    float\n",
    "        The Tanimoto similarity between the two molecules.\n",
    "    \"\"\"    \n",
    "    # Generate Morgan fingerprints\n",
    "    fp1 = AllChem.GetMorganFingerprintAsBitVect(mol1, 2)\n",
    "    fp2 = AllChem.GetMorganFingerprintAsBitVect(mol2, 2)\n",
    "\n",
    "    # Calculate Tanimoto similarity\n",
    "    similarity = DataStructs.FingerprintSimilarity(fp1, fp2)\n",
    "\n",
    "    return similarity"
   ]
  },
  {
   "cell_type": "code",
   "execution_count": 3941,
   "id": "dc6c339a-0367-4328-9100-f43acbfc4b33",
   "metadata": {
    "tags": []
   },
   "outputs": [
    {
     "name": "stdout",
     "output_type": "stream",
     "text": [
      "c1ccc(SCCN2CCCCC2)cc1\n",
      "c1ccc(SCCCN2CCOCC2)cc1\n",
      "c1ccc(SCCN2CCOCC2)cc1\n",
      "O=C(CCCN1CCOCC1)Sc1ccccc1\n",
      "c1ccc(SCCN2CC3CCC(C2)O3)cc1\n",
      "0.7205263157894737\n",
      "CPU times: user 20.7 ms, sys: 0 ns, total: 20.7 ms\n",
      "Wall time: 21.9 ms\n"
     ]
    },
    {
     "data": {
      "text/plain": [
       "5"
      ]
     },
     "execution_count": 3941,
     "metadata": {},
     "output_type": "execute_result"
    }
   ],
   "source": [
    "%%time\n",
    "from rdkit import Chem\n",
    "from dgym.molecule import Molecule\n",
    "from itertools import permutations\n",
    "\n",
    "def unique_sanitize(mol):\n",
    "    \n",
    "    # Sanitize\n",
    "    smiles = Chem.MolToSmiles(mol[0])\n",
    "    product = Chem.MolFromSmiles(smiles)\n",
    "    \n",
    "    # Check unique\n",
    "    if product and smiles not in self.cache:\n",
    "        self.cache.add(smiles)\n",
    "        return smiles\n",
    "\n",
    "def make_products(self, analogs, num_products, temperature):\n",
    "\n",
    "    products = []\n",
    "    for analogs_ in analogs:\n",
    "        for reactants in permutations(analogs_):\n",
    "            for reaction in self.reactions:\n",
    "                \n",
    "                # Check if completed enumeration\n",
    "                if len(products) == num_products:\n",
    "                    return products\n",
    "                \n",
    "                # Verify reactants match\n",
    "                if len(reactants) == len(reaction.reactants):\n",
    "                    \n",
    "                    # Perform reaction\n",
    "                    if output := reaction.run(reactants):\n",
    "                        for product in output:\n",
    "                            if smiles := unique_sanitize(product):\n",
    "                                print(smiles)\n",
    "                                products += [Molecule(smiles, reactants=reactants)]\n",
    "                    else:\n",
    "                        continue\n",
    "    return products\n",
    "\n",
    "self.reset_cache()\n",
    "num_products = 10\n",
    "mol = deck[0]\n",
    "reactants = mol.reactants\n",
    "analogs = [\n",
    "    Generator(r).generate(size = num_products, temperature=0.1)\n",
    "    for r in reactants\n",
    "]\n",
    "analogs = list(zip(*analogs))\n",
    "\n",
    "products = make_products(self, analogs, num_products, temperature)\n",
    "print(np.mean([_similarity(self, p.mol, mol.mol) for p in products]))\n",
    "len(products)"
   ]
  },
  {
   "cell_type": "code",
   "execution_count": null,
   "id": "67feed5c-3226-479b-95ec-321ea6fb9de6",
   "metadata": {},
   "outputs": [],
   "source": []
  },
  {
   "cell_type": "code",
   "execution_count": 3953,
   "id": "b92fbd38-8b23-4ec1-ad9f-fd81751e059b",
   "metadata": {
    "tags": []
   },
   "outputs": [
    {
     "data": {
      "image/png": "[encoded data removed]",
      "text/plain": [
       "<dgym.molecule.Molecule at 0x7f993c7dde50>"
      ]
     },
     "execution_count": 3953,
     "metadata": {},
     "output_type": "execute_result"
    }
   ],
   "source": [
    "products[4]"
   ]
  },
  {
   "cell_type": "code",
   "execution_count": 3842,
   "id": "c12364b1-6379-4a4c-b263-ea5f9295859f",
   "metadata": {
    "tags": []
   },
   "outputs": [
    {
     "name": "stdout",
     "output_type": "stream",
     "text": [
      "CPU times: user 50.2 ms, sys: 0 ns, total: 50.2 ms\n",
      "Wall time: 53.5 ms\n"
     ]
    }
   ],
   "source": [
    "%%time\n",
    "designs = library_designer.design(deck[0], num_analogs=10, temperature=0.0)"
   ]
  }
 ],
 "metadata": {
  "kernelspec": {
   "display_name": "Python 3 (ipykernel)",
   "language": "python",
   "name": "python3"
  },
  "language_info": {
   "codemirror_mode": {
    "name": "ipython",
    "version": 3
   },
   "file_extension": ".py",
   "mimetype": "text/x-python",
   "name": "python",
   "nbconvert_exporter": "python",
   "pygments_lexer": "ipython3",
   "version": "3.11.5"
  }
 },
 "nbformat": 4,
 "nbformat_minor": 5
}
