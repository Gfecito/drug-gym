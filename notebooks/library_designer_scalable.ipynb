{
 "cells": [
  {
   "cell_type": "code",
   "execution_count": 1,
   "id": "64b75c48-a1fa-468a-93c1-78c96d35ff0f",
   "metadata": {
    "tags": []
   },
   "outputs": [
    {
     "name": "stdout",
     "output_type": "stream",
     "text": [
      "load data\n"
     ]
    }
   ],
   "source": [
    "%reload_ext autoreload\n",
    "%autoreload 2\n",
    "\n",
    "import rdkit\n",
    "rdkit.Chem.Draw.IPythonConsole.ipython_maxProperties = -1\n",
    "\n",
    "import dgym as dg\n",
    "\n",
    "# load all data\n",
    "print('load data')\n",
    "path = '../../dgym-data'\n",
    "\n",
    "deck = dg.MoleculeCollection.load(\n",
    "    f'{path}/DSi-Poised_Library_annotated.sdf',\n",
    "    reactant_names=['reagsmi1', 'reagsmi2', 'reagsmi3']\n",
    ")\n",
    "\n",
    "reactions = dg.ReactionCollection.from_json(\n",
    "    path = f'{path}/All_Rxns_rxn_library.json',\n",
    "    smarts_col = 'reaction_string',\n",
    "    classes_col = 'functional_groups'\n",
    ")"
   ]
  },
  {
   "cell_type": "code",
   "execution_count": 2,
   "id": "93e818bc-c479-4f1e-894f-a9b5e4f582ac",
   "metadata": {
    "tags": []
   },
   "outputs": [
    {
     "name": "stdout",
     "output_type": "stream",
     "text": [
      "align fingerprints\n"
     ]
    }
   ],
   "source": [
    "building_blocks = dg.datasets.disk_loader(f'{path}/Enamine_Building_Blocks_Stock_262336cmpd_20230630.sdf')\n",
    "fingerprints = dg.datasets.fingerprints(f'{path}/out/Enamine_Building_Blocks_Stock_262336cmpd_20230630.fpb')\n",
    "\n",
    "# align fingerprints to building blocks\n",
    "print('align fingerprints')\n",
    "fingerprints = dg.utils.sort_fingerprints(fingerprints, building_blocks)"
   ]
  },
  {
   "cell_type": "code",
   "execution_count": 3,
   "id": "6302c454-1f99-4f52-955b-4b6032a3851c",
   "metadata": {
    "tags": []
   },
   "outputs": [],
   "source": [
    "import numpy as np\n",
    "from dgym.envs.library_designer import LibraryDesigner\n",
    "from dgym.envs.oracle import DGLOracle, RDKitOracle, DockingOracle\n",
    "from dgym.envs.evaluator import ClassicEvaluator, UtilityFunction\n",
    "\n",
    "# create library designer\n",
    "library_designer = LibraryDesigner(\n",
    "    reactions,\n",
    "    building_blocks,\n",
    "    fingerprints\n",
    ")"
   ]
  },
  {
   "cell_type": "code",
   "execution_count": null,
   "id": "836ef126-bb65-4002-8487-60dbd243dbc5",
   "metadata": {
    "tags": []
   },
   "outputs": [],
   "source": [
    "import chemfp\n",
    "\n",
    "self = library_designer\n",
    "\n",
    "class Generator:\n",
    "    \n",
    "    def __init__(self, molecule):\n",
    "        self.molecule = molecule\n",
    "        self.fingerprints = library_designer.fingerprints\n",
    "        self.building_blocks = library_designer.building_blocks\n",
    "        self.indices = None\n",
    "        self.scores = None\n",
    "    \n",
    "    @staticmethod\n",
    "    def boltzmann(scores, temperature):\n",
    "        from scipy.special import softmax\n",
    "        temperature += 1e-2\n",
    "        probabilities = softmax(np.log(scores) / temperature)\n",
    "        return probabilities\n",
    "\n",
    "    def transform_and_choose(self, indices, scores, temperature, size):\n",
    "\n",
    "        # # Convert probabilities\n",
    "        probabilities = self.boltzmann(scores, temperature)\n",
    "\n",
    "        # Sample choice\n",
    "        choice = np.random.choice(indices, p=probabilities, size=size, replace=False)\n",
    "\n",
    "        return choice\n",
    "\n",
    "    def score_analogs(self, molecule):\n",
    "        \n",
    "        # Perform similarity search\n",
    "        result = chemfp.simsearch(\n",
    "            k = 2_000,\n",
    "            query = molecule.smiles,\n",
    "            targets = self.fingerprints\n",
    "        )\n",
    "\n",
    "        # Collect scores\n",
    "        indices, scores = zip(*result.get_indices_and_scores())\n",
    "        \n",
    "        return indices, scores\n",
    "        \n",
    "    def generate(self, temperature=0.1, size=1):\n",
    "\n",
    "        if not self.indices:\n",
    "            self.indices, self.scores = self.score_analogs(self.molecule)\n",
    "        \n",
    "        # Choose analog\n",
    "        choices = self.transform_and_choose(self.indices, self.scores, temperature, size)\n",
    "        analogs = [self.building_blocks[choice.item()] for choice in choices]\n",
    "\n",
    "        return analogs\n",
    "    \n",
    "    def __repr__(self):\n",
    "        return f'Generator({self.molecule.smiles})'"
   ]
  },
  {
   "cell_type": "code",
   "execution_count": 30,
   "id": "dc6c339a-0367-4328-9100-f43acbfc4b33",
   "metadata": {
    "tags": []
   },
   "outputs": [
    {
     "name": "stdout",
     "output_type": "stream",
     "text": [
      "CPU times: user 27 µs, sys: 0 ns, total: 27 µs\n",
      "Wall time: 31.5 µs\n"
     ]
    }
   ],
   "source": [
    "%%time\n",
    "from rdkit import Chem\n",
    "from dgym.molecule import Molecule\n",
    "from itertools import permutations\n",
    "\n",
    "def unique_sanitize(mol):\n",
    "    \n",
    "    # Sanitize\n",
    "    smiles = Chem.MolToSmiles(mol[0])\n",
    "    product = Chem.MolFromSmiles(smiles)\n",
    "    \n",
    "    # Check unique\n",
    "    if product and smiles not in library_designer.cache:\n",
    "        library_designer.cache.add(smiles)\n",
    "        return smiles"
   ]
  },
  {
   "cell_type": "markdown",
   "id": "56c3a58f-671a-4946-8219-d839c531ce24",
   "metadata": {},
   "source": [
    "Debug finding analogs."
   ]
  },
  {
   "cell_type": "code",
   "execution_count": 31,
   "id": "4723d2ce-7908-474d-9ee3-211f63b7350e",
   "metadata": {
    "tags": []
   },
   "outputs": [],
   "source": [
    "import chemfp\n",
    "\n",
    "def get_analog_indices_and_scores(molecules):\n",
    "    \n",
    "    fingerprint_type = library_designer.fingerprints.get_fingerprint_type()\n",
    "    \n",
    "    fingerprints = [\n",
    "        (m.id, fingerprint_type.from_smi(m.smiles))\n",
    "        for m in molecules\n",
    "    ]\n",
    "    \n",
    "    queries = chemfp.load_fingerprints(\n",
    "        fingerprints,\n",
    "        metadata = fingerprint_type.get_metadata(),\n",
    "        reorder=False\n",
    "    )\n",
    "    \n",
    "    return chemfp.simsearch(\n",
    "        queries = queries,\n",
    "        targets = library_designer.fingerprints,\n",
    "        progress=False,\n",
    "        k=500\n",
    "    )"
   ]
  },
  {
   "cell_type": "code",
   "execution_count": 32,
   "id": "6342d390-38da-4de8-b816-1eb3c8c80d75",
   "metadata": {
    "tags": []
   },
   "outputs": [],
   "source": [
    "import torch\n",
    "\n",
    "def boltzmann(scores, temperature):\n",
    "    \"\"\"\n",
    "    Applies the Boltzmann distribution to the given scores with a specified temperature.\n",
    "\n",
    "    Parameters\n",
    "    ----------\n",
    "    scores : torch.Tensor\n",
    "        The scores to which the Boltzmann distribution is applied.\n",
    "    temperature : float\n",
    "        The temperature parameter of the Boltzmann distribution.\n",
    "\n",
    "    Returns\n",
    "    -------\n",
    "    torch.Tensor\n",
    "        The probabilities resulting from the Boltzmann distribution.\n",
    "    \"\"\"\n",
    "    temperature = max(temperature, 1e-2)  # Ensure temperature is not too low\n",
    "    scaled_scores = scores / temperature\n",
    "    probabilities = torch.softmax(scaled_scores, dim=-1)\n",
    "    return probabilities"
   ]
  },
  {
   "cell_type": "code",
   "execution_count": 33,
   "id": "9924f78d-26f1-4e73-b0f8-72e5b6436a42",
   "metadata": {
    "tags": []
   },
   "outputs": [],
   "source": [
    "def generate_combos(lst, r, k=500):\n",
    "    \n",
    "    if r < 1:\n",
    "        yield [], lst\n",
    "\n",
    "    all_combinations = list(combinations(lst, r))\n",
    "    selected_combinations = choices(all_combinations, k=k)\n",
    "    for combo in selected_combinations:\n",
    "        nonselected_items = tuple(item for item in lst if item not in combo)\n",
    "        yield combo, nonselected_items"
   ]
  },
  {
   "cell_type": "code",
   "execution_count": 34,
   "id": "f991594f-ed53-4ef6-9749-0f76c4f7610c",
   "metadata": {},
   "outputs": [],
   "source": [
    "from random import choices\n",
    "from itertools import combinations\n",
    "\n",
    "original_reactants = deck[100].reactants\n",
    "original_mols = [o.mol for o in original_reactants]\n",
    "\n",
    "# score analogs of each original reactant\n",
    "analogs = get_analog_indices_and_scores(original_reactants)\n",
    "indices = np.array(list(analogs.iter_indices()))\n",
    "scores = list(analogs.iter_scores())\n",
    "\n",
    "# convert scores to probabilities\n",
    "probabilities = boltzmann(torch.tensor(scores), 0.0)\n",
    "\n",
    "# sample indices\n",
    "samples_idx = torch.multinomial(probabilities, 500)\n",
    "samples = torch.gather(torch.tensor(indices), 1, samples_idx).T\n",
    "\n",
    "def generate_reactants():\n",
    "    \n",
    "    count = 0\n",
    "    while True:\n",
    "        \n",
    "        # Gather constant and variable masks\n",
    "        combos = generate_combos([0, 1], 1)\n",
    "        constant_mask, variable_mask = next(combos)\n",
    "        \n",
    "        # Get variable reactants\n",
    "        variable = samples[count, variable_mask].tolist()\n",
    "        variable_reactants = [library_designer.building_blocks[v] for v in variable]\n",
    "        \n",
    "        # Get constant reactants\n",
    "        constant_reactants = [original_mols[c] for c in constant_mask]\n",
    "        \n",
    "        # Yield reactants\n",
    "        reactants = [*constant_reactants, *variable_reactants]\n",
    "        yield reactants\n",
    "        \n",
    "        # Increment\n",
    "        count += 1"
   ]
  },
  {
   "cell_type": "code",
   "execution_count": 35,
   "id": "179734d8-8250-450c-86d4-3313ce493533",
   "metadata": {
    "tags": []
   },
   "outputs": [],
   "source": [
    "def enumerate_products():\n",
    "\n",
    "    products = []\n",
    "    \n",
    "    # Only run products with reactions that are the right size\n",
    "    reactions = [\n",
    "        reaction\n",
    "        for reaction in library_designer.reactions\n",
    "        if len(reaction.reactants) == len(original_reactants)\n",
    "    ]\n",
    "    \n",
    "    if reactions:\n",
    "        for reactants in generate_reactants():\n",
    "            for reactant_order in permutations(reactants):\n",
    "                for reaction in reactions:\n",
    "\n",
    "                    # Check if completed enumeration\n",
    "                    if len(products) >= num_products:\n",
    "                        return products\n",
    "\n",
    "                    # Verify reactants match\n",
    "                    if len(reactants) == len(reaction.reactants):\n",
    "\n",
    "                        # Perform reaction\n",
    "                        if output := reaction.run(reactant_order):\n",
    "                            for product in output:\n",
    "                                \n",
    "                                # Check if valid molecule\n",
    "                                if smiles := unique_sanitize(product):\n",
    "                                    products += [Molecule(smiles, reactants = reactant_order)]\n",
    "                        else:\n",
    "                            continue"
   ]
  },
  {
   "cell_type": "code",
   "execution_count": 65,
   "id": "a11da363-73ee-4268-85c9-42322e1718e4",
   "metadata": {
    "tags": []
   },
   "outputs": [
    {
     "name": "stdout",
     "output_type": "stream",
     "text": [
      "CPU times: user 21.3 ms, sys: 0 ns, total: 21.3 ms\n",
      "Wall time: 22.8 ms\n"
     ]
    }
   ],
   "source": [
    "%%time\n",
    "library_designer.reset_cache()\n",
    "num_products = 10\n",
    "\n",
    "products = enumerate_products()"
   ]
  },
  {
   "cell_type": "code",
   "execution_count": 74,
   "id": "b3f0282d-1059-4128-9760-dd0e619b8ca6",
   "metadata": {
    "tags": []
   },
   "outputs": [
    {
     "data": {
      "text/plain": [
       "array([ 1348, 15863,  2751, ...,  3729,  1641,  1914], dtype=int32)"
      ]
     },
     "execution_count": 74,
     "metadata": {},
     "output_type": "execute_result"
    }
   ],
   "source": [
    "library_designer.fingerprints.get_bit_counts_as_numpy()"
   ]
  },
  {
   "cell_type": "code",
   "execution_count": 85,
   "id": "afbdb998-98fe-4bdb-a16f-9be067d60cc8",
   "metadata": {
    "tags": []
   },
   "outputs": [
    {
     "data": {
      "text/plain": [
       "array([124049,  34963, 136105, 136106, 254700, 130173,   7846, 250385])"
      ]
     },
     "execution_count": 85,
     "metadata": {},
     "output_type": "execute_result"
    }
   ],
   "source": [
    "library_designer.fingerprints.to_numpy_bitarray().sum(axis=1).argsort()[12:20]"
   ]
  },
  {
   "cell_type": "code",
   "execution_count": 90,
   "id": "dc3e31ce-b2dc-4d5c-a390-3202048ebb58",
   "metadata": {
    "tags": []
   },
   "outputs": [
    {
     "data": {
      "image/png": "[encoded data removed]",
      "text/html": [
       "<table><tr><td colspan=\"2\" style=\"text-align: center;\"><image src=\"data:image/png;base64,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\"></td></tr>\n",
       "<tr><th style=\"text-align: right\">Mw</th><td style=\"text-align: left\">68.14</td></tr>\n",
       "<tr><th style=\"text-align: right\">ID</th><td style=\"text-align: left\">EN300-202987</td></tr>\n",
       "<tr><th style=\"text-align: right\">IUPAC Name</th><td style=\"text-align: left\">diammonium sulfanediide</td></tr>\n",
       "<tr><th style=\"text-align: right\">URL</th><td style=\"text-align: left\">https://www.enaminestore.com/catalog/EN300-202987</td></tr>\n",
       "<tr><th style=\"text-align: right\">Stock_weight_G</th><td style=\"text-align: left\">30</td></tr>\n",
       "<tr><th style=\"text-align: right\">Class</th><td style=\"text-align: left\">other</td></tr>\n",
       "<tr><th style=\"text-align: right\">Subclass</th><td style=\"text-align: left\">other</td></tr></table>"
      ],
      "text/plain": [
       "<rdkit.Chem.rdchem.Mol at 0x7fd88a66c820>"
      ]
     },
     "execution_count": 90,
     "metadata": {},
     "output_type": "execute_result"
    }
   ],
   "source": [
    "library_designer.building_blocks[250385]"
   ]
  },
  {
   "cell_type": "code",
   "execution_count": 39,
   "id": "b5510d9a-9e84-443e-9edc-1df57c57258b",
   "metadata": {},
   "outputs": [
    {
     "data": {
      "image/png": "[encoded data removed]",
      "text/plain": [
       "<IPython.core.display.Image object>"
      ]
     },
     "execution_count": 39,
     "metadata": {},
     "output_type": "execute_result"
    }
   ],
   "source": [
    "from rdkit.Chem.Draw import MolsToGridImage\n",
    "MolsToGridImage([deck[100].mol, *[p.mol for p in products]], molsPerRow=5)"
   ]
  }
 ],
 "metadata": {
  "kernelspec": {
   "display_name": "Python 3 (ipykernel)",
   "language": "python",
   "name": "python3"
  },
  "language_info": {
   "codemirror_mode": {
    "name": "ipython",
    "version": 3
   },
   "file_extension": ".py",
   "mimetype": "text/x-python",
   "name": "python",
   "nbconvert_exporter": "python",
   "pygments_lexer": "ipython3",
   "version": "3.11.5"
  }
 },
 "nbformat": 4,
 "nbformat_minor": 5
}
