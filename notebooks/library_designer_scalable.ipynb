{
 "cells": [
  {
   "cell_type": "code",
   "execution_count": 1,
   "id": "64b75c48-a1fa-468a-93c1-78c96d35ff0f",
   "metadata": {
    "tags": []
   },
   "outputs": [
    {
     "name": "stdout",
     "output_type": "stream",
     "text": [
      "load data\n"
     ]
    }
   ],
   "source": [
    "%reload_ext autoreload\n",
    "%autoreload 2\n",
    "\n",
    "import rdkit\n",
    "rdkit.Chem.Draw.IPythonConsole.ipython_maxProperties = -1\n",
    "\n",
    "import dgym as dg\n",
    "\n",
    "# load all data\n",
    "print('load data')\n",
    "path = '../../dgym-data'\n",
    "\n",
    "deck = dg.MoleculeCollection.load(\n",
    "    f'{path}/DSi-Poised_Library_annotated.sdf',\n",
    "    reactant_names=['reagsmi1', 'reagsmi2', 'reagsmi3']\n",
    ")\n",
    "\n",
    "reactions = dg.ReactionCollection.from_json(\n",
    "    path = f'{path}/All_Rxns_rxn_library.json',\n",
    "    smarts_col = 'reaction_string',\n",
    "    classes_col = 'functional_groups'\n",
    ")"
   ]
  },
  {
   "cell_type": "code",
   "execution_count": 2,
   "id": "93e818bc-c479-4f1e-894f-a9b5e4f582ac",
   "metadata": {
    "tags": []
   },
   "outputs": [
    {
     "name": "stdout",
     "output_type": "stream",
     "text": [
      "align fingerprints\n"
     ]
    }
   ],
   "source": [
    "building_blocks = dg.datasets.disk_loader(f'{path}/Enamine_Building_Blocks_Stock_262336cmpd_20230630.sdf')\n",
    "fingerprints = dg.datasets.fingerprints(f'{path}/out/Enamine_Building_Blocks_Stock_262336cmpd_20230630.fpb')\n",
    "\n",
    "# align fingerprints to building blocks\n",
    "print('align fingerprints')\n",
    "fingerprints = dg.utils.sort_fingerprints(fingerprints, building_blocks)"
   ]
  },
  {
   "cell_type": "code",
   "execution_count": 3,
   "id": "6302c454-1f99-4f52-955b-4b6032a3851c",
   "metadata": {
    "tags": []
   },
   "outputs": [],
   "source": [
    "import numpy as np\n",
    "from dgym.envs.library_designer import LibraryDesigner\n",
    "from dgym.envs.oracle import DGLOracle, RDKitOracle, DockingOracle\n",
    "from dgym.envs.evaluator import ClassicEvaluator, UtilityFunction\n",
    "\n",
    "# create library designer\n",
    "library_designer = LibraryDesigner(\n",
    "    reactions,\n",
    "    building_blocks,\n",
    "    fingerprints\n",
    ")"
   ]
  },
  {
   "cell_type": "code",
   "execution_count": null,
   "id": "836ef126-bb65-4002-8487-60dbd243dbc5",
   "metadata": {
    "tags": []
   },
   "outputs": [],
   "source": [
    "import chemfp\n",
    "\n",
    "self = library_designer\n",
    "\n",
    "class Generator:\n",
    "    \n",
    "    def __init__(self, molecule):\n",
    "        self.molecule = molecule\n",
    "        self.fingerprints = library_designer.fingerprints\n",
    "        self.building_blocks = library_designer.building_blocks\n",
    "        self.indices = None\n",
    "        self.scores = None\n",
    "    \n",
    "    @staticmethod\n",
    "    def boltzmann(scores, temperature):\n",
    "        from scipy.special import softmax\n",
    "        temperature += 1e-2\n",
    "        probabilities = softmax(np.log(scores) / temperature)\n",
    "        return probabilities\n",
    "\n",
    "    def transform_and_choose(self, indices, scores, temperature, size):\n",
    "\n",
    "        # # Convert probabilities\n",
    "        probabilities = self.boltzmann(scores, temperature)\n",
    "\n",
    "        # Sample choice\n",
    "        choice = np.random.choice(indices, p=probabilities, size=size, replace=False)\n",
    "\n",
    "        return choice\n",
    "\n",
    "    def score_analogs(self, molecule):\n",
    "        \n",
    "        # Perform similarity search\n",
    "        result = chemfp.simsearch(\n",
    "            k = 2_000,\n",
    "            query = molecule.smiles,\n",
    "            targets = self.fingerprints\n",
    "        )\n",
    "\n",
    "        # Collect scores\n",
    "        indices, scores = zip(*result.get_indices_and_scores())\n",
    "        \n",
    "        return indices, scores\n",
    "        \n",
    "    def generate(self, temperature=0.1, size=1):\n",
    "\n",
    "        if not self.indices:\n",
    "            self.indices, self.scores = self.score_analogs(self.molecule)\n",
    "        \n",
    "        # Choose analog\n",
    "        choices = self.transform_and_choose(self.indices, self.scores, temperature, size)\n",
    "        analogs = [self.building_blocks[choice.item()] for choice in choices]\n",
    "\n",
    "        return analogs\n",
    "    \n",
    "    def __repr__(self):\n",
    "        return f'Generator({self.molecule.smiles})'"
   ]
  },
  {
   "cell_type": "code",
   "execution_count": 30,
   "id": "dc6c339a-0367-4328-9100-f43acbfc4b33",
   "metadata": {
    "tags": []
   },
   "outputs": [
    {
     "name": "stdout",
     "output_type": "stream",
     "text": [
      "CPU times: user 27 µs, sys: 0 ns, total: 27 µs\n",
      "Wall time: 31.5 µs\n"
     ]
    }
   ],
   "source": [
    "%%time\n",
    "from rdkit import Chem\n",
    "from dgym.molecule import Molecule\n",
    "from itertools import permutations\n",
    "\n",
    "def unique_sanitize(mol):\n",
    "    \n",
    "    # Sanitize\n",
    "    smiles = Chem.MolToSmiles(mol[0])\n",
    "    product = Chem.MolFromSmiles(smiles)\n",
    "    \n",
    "    # Check unique\n",
    "    if product and smiles not in library_designer.cache:\n",
    "        library_designer.cache.add(smiles)\n",
    "        return smiles"
   ]
  },
  {
   "cell_type": "markdown",
   "id": "56c3a58f-671a-4946-8219-d839c531ce24",
   "metadata": {},
   "source": [
    "Debug finding analogs."
   ]
  },
  {
   "cell_type": "code",
   "execution_count": 31,
   "id": "4723d2ce-7908-474d-9ee3-211f63b7350e",
   "metadata": {
    "tags": []
   },
   "outputs": [],
   "source": [
    "import chemfp\n",
    "\n",
    "def get_analog_indices_and_scores(molecules):\n",
    "    \n",
    "    fingerprint_type = library_designer.fingerprints.get_fingerprint_type()\n",
    "    \n",
    "    fingerprints = [\n",
    "        (m.id, fingerprint_type.from_smi(m.smiles))\n",
    "        for m in molecules\n",
    "    ]\n",
    "    \n",
    "    queries = chemfp.load_fingerprints(\n",
    "        fingerprints,\n",
    "        metadata = fingerprint_type.get_metadata(),\n",
    "        reorder=False\n",
    "    )\n",
    "    \n",
    "    return chemfp.simsearch(\n",
    "        queries = queries,\n",
    "        targets = library_designer.fingerprints,\n",
    "        progress=False,\n",
    "        k=500\n",
    "    )"
   ]
  },
  {
   "cell_type": "code",
   "execution_count": 32,
   "id": "6342d390-38da-4de8-b816-1eb3c8c80d75",
   "metadata": {
    "tags": []
   },
   "outputs": [],
   "source": [
    "import torch\n",
    "\n",
    "def boltzmann(scores, temperature):\n",
    "    \"\"\"\n",
    "    Applies the Boltzmann distribution to the given scores with a specified temperature.\n",
    "\n",
    "    Parameters\n",
    "    ----------\n",
    "    scores : torch.Tensor\n",
    "        The scores to which the Boltzmann distribution is applied.\n",
    "    temperature : float\n",
    "        The temperature parameter of the Boltzmann distribution.\n",
    "\n",
    "    Returns\n",
    "    -------\n",
    "    torch.Tensor\n",
    "        The probabilities resulting from the Boltzmann distribution.\n",
    "    \"\"\"\n",
    "    temperature = max(temperature, 1e-2)  # Ensure temperature is not too low\n",
    "    scaled_scores = scores / temperature\n",
    "    probabilities = torch.softmax(scaled_scores, dim=-1)\n",
    "    return probabilities"
   ]
  },
  {
   "cell_type": "code",
   "execution_count": 33,
   "id": "9924f78d-26f1-4e73-b0f8-72e5b6436a42",
   "metadata": {
    "tags": []
   },
   "outputs": [],
   "source": [
    "def generate_combos(lst, r, k=500):\n",
    "    \n",
    "    if r < 1:\n",
    "        yield [], lst\n",
    "\n",
    "    all_combinations = list(combinations(lst, r))\n",
    "    selected_combinations = choices(all_combinations, k=k)\n",
    "    for combo in selected_combinations:\n",
    "        nonselected_items = tuple(item for item in lst if item not in combo)\n",
    "        yield combo, nonselected_items"
   ]
  },
  {
   "cell_type": "code",
   "execution_count": 216,
   "id": "f991594f-ed53-4ef6-9749-0f76c4f7610c",
   "metadata": {},
   "outputs": [],
   "source": [
    "from random import choices\n",
    "from itertools import combinations\n",
    "\n",
    "original_reactants = deck[414].reactants\n",
    "original_mols = [o.mol for o in original_reactants]\n",
    "\n",
    "# Score analogs of each original reactant\n",
    "analogs = get_analog_indices_and_scores(original_reactants)\n",
    "indices = np.array(list(analogs.iter_indices()))\n",
    "scores = list(analogs.iter_scores())\n",
    "\n",
    "# Convert scores to probabilities\n",
    "probabilities = boltzmann(torch.tensor(scores), 0.0)\n",
    "\n",
    "# Sample indices\n",
    "samples_idx = torch.multinomial(probabilities, 500)\n",
    "samples = torch.gather(torch.tensor(indices), 1, samples_idx).T\n",
    "\n",
    "def generate_reactants():\n",
    "    \n",
    "    count = 0\n",
    "    while True:\n",
    "        \n",
    "        # Gather constant and variable masks\n",
    "        combos = generate_combos([0, 1], 1)\n",
    "        constant_mask, variable_mask = next(combos)\n",
    "        \n",
    "        # Get variable reactants\n",
    "        variable = samples[count, variable_mask].tolist()\n",
    "        variable_reactants = [library_designer.building_blocks[v] for v in variable]\n",
    "        \n",
    "        # Get constant reactants\n",
    "        constant_reactants = [original_mols[c] for c in constant_mask]\n",
    "        \n",
    "        # Yield reactants\n",
    "        reactants = [*constant_reactants, *variable_reactants]\n",
    "        yield reactants\n",
    "        \n",
    "        # Increment\n",
    "        count += 1"
   ]
  },
  {
   "cell_type": "code",
   "execution_count": 217,
   "id": "179734d8-8250-450c-86d4-3313ce493533",
   "metadata": {
    "tags": []
   },
   "outputs": [],
   "source": [
    "def enumerate_products():\n",
    "\n",
    "    products = []\n",
    "    \n",
    "    # Only run products with reactions of right size\n",
    "    reactions = [\n",
    "        reaction\n",
    "        for reaction in library_designer.reactions\n",
    "        if len(reaction.reactants) == len(original_reactants)\n",
    "    ]\n",
    "    \n",
    "    if reactions:\n",
    "        \n",
    "        # Loop through permutations of reactants\n",
    "        for reactants in generate_reactants():\n",
    "            for reactant_order in permutations(reactants):\n",
    "                for reaction in reactions:\n",
    "\n",
    "                    # Check if completed enumeration\n",
    "                    if len(products) >= num_products:\n",
    "                        return products\n",
    "\n",
    "                    # Verify reactants match\n",
    "                    if len(reactants) == len(reaction.reactants):\n",
    "\n",
    "                        # Perform reaction\n",
    "                        if output := reaction.run(reactant_order):\n",
    "                            for product in output:\n",
    "                                \n",
    "                                # Check if valid molecule\n",
    "                                if smiles := unique_sanitize(product):\n",
    "                                    products += [Molecule(smiles, reactants = reactant_order)]\n",
    "                        else:\n",
    "                            continue"
   ]
  },
  {
   "cell_type": "code",
   "execution_count": 218,
   "id": "a11da363-73ee-4268-85c9-42322e1718e4",
   "metadata": {
    "tags": []
   },
   "outputs": [
    {
     "name": "stdout",
     "output_type": "stream",
     "text": [
      "CPU times: user 20.3 ms, sys: 76 µs, total: 20.4 ms\n",
      "Wall time: 21.8 ms\n"
     ]
    }
   ],
   "source": [
    "%%time\n",
    "library_designer.reset_cache()\n",
    "num_products = 10\n",
    "\n",
    "products = enumerate_products()"
   ]
  },
  {
   "cell_type": "code",
   "execution_count": 219,
   "id": "b5510d9a-9e84-443e-9edc-1df57c57258b",
   "metadata": {},
   "outputs": [
    {
     "data": {
      "image/png": "[encoded data removed]",
      "text/plain": [
       "<IPython.core.display.Image object>"
      ]
     },
     "execution_count": 219,
     "metadata": {},
     "output_type": "execute_result"
    }
   ],
   "source": [
    "from rdkit.Chem.Draw import MolsToGridImage\n",
    "MolsToGridImage([deck[414].mol, *[p.mol for p in products]], molsPerRow=5)"
   ]
  },
  {
   "cell_type": "code",
   "execution_count": 220,
   "id": "fe2a2cff-ee75-4ff8-bb0c-3e15387aaade",
   "metadata": {
    "tags": []
   },
   "outputs": [
    {
     "data": {
      "text/plain": [
       "0.7671780861415007"
      ]
     },
     "execution_count": 220,
     "metadata": {},
     "output_type": "execute_result"
    }
   ],
   "source": [
    "np.mean([_similarity(deck[414], p) for p in products])"
   ]
  },
  {
   "cell_type": "code",
   "execution_count": 194,
   "id": "e1e04507-dfb3-43e5-91f9-dbc5a2a5ad9b",
   "metadata": {
    "tags": []
   },
   "outputs": [
    {
     "data": {
      "text/plain": [
       "0.6011764319219199"
      ]
     },
     "execution_count": 194,
     "metadata": {},
     "output_type": "execute_result"
    }
   ],
   "source": [
    "np.mean([_similarity(deck[414], p) for p in products])"
   ]
  },
  {
   "cell_type": "code",
   "execution_count": 184,
   "id": "2be75555-d090-4087-b29a-1910a5cb405a",
   "metadata": {
    "tags": []
   },
   "outputs": [],
   "source": [
    "from rdkit.Chem import AllChem, DataStructs\n",
    "\n",
    "def _similarity(mol1, mol2):\n",
    "    \"\"\"\n",
    "    Calculate the Tanimoto similarity between two molecules represented by their SMILES strings.\n",
    "\n",
    "    Parameters\n",
    "    ----------\n",
    "    smiles1 : str\n",
    "        The SMILES representation of the first molecule.\n",
    "    smiles2 : str\n",
    "        The SMILES representation of the second molecule.\n",
    "\n",
    "    Returns\n",
    "    -------\n",
    "    float\n",
    "        The Tanimoto similarity between the two molecules.\n",
    "    \"\"\"    \n",
    "    # Generate Morgan fingerprints\n",
    "    fp1 = AllChem.GetMorganFingerprintAsBitVect(mol1.mol, 2)\n",
    "    fp2 = AllChem.GetMorganFingerprintAsBitVect(mol2.mol, 2)\n",
    "\n",
    "    # Calculate Tanimoto similarity\n",
    "    similarity = DataStructs.FingerprintSimilarity(fp1, fp2)\n",
    "\n",
    "    return similarity\n"
   ]
  }
 ],
 "metadata": {
  "kernelspec": {
   "display_name": "Python 3 (ipykernel)",
   "language": "python",
   "name": "python3"
  },
  "language_info": {
   "codemirror_mode": {
    "name": "ipython",
    "version": 3
   },
   "file_extension": ".py",
   "mimetype": "text/x-python",
   "name": "python",
   "nbconvert_exporter": "python",
   "pygments_lexer": "ipython3",
   "version": "3.11.5"
  }
 },
 "nbformat": 4,
 "nbformat_minor": 5
}
