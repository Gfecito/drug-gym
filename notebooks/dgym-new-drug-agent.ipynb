{
 "cells": [
  {
   "cell_type": "markdown",
   "id": "bf578967-8741-49c0-b202-4641c1282e7c",
   "metadata": {},
   "source": [
    "# Testing DrugAgent and DrugEnv APIs"
   ]
  },
  {
   "cell_type": "markdown",
   "id": "0e30b740-49b2-4b5a-b87e-b94bd2a031d5",
   "metadata": {},
   "source": [
    "Load data."
   ]
  },
  {
   "cell_type": "code",
   "execution_count": 1,
   "id": "22e58bb4-098f-499b-92f9-b390d6d6540a",
   "metadata": {
    "tags": []
   },
   "outputs": [],
   "source": [
    "%reload_ext autoreload\n",
    "%autoreload 2\n",
    "import warnings\n",
    "warnings.filterwarnings('ignore') \n",
    "\n",
    "import rdkit\n",
    "import dgym as dg\n",
    "\n",
    "# load all data\n",
    "path = '../../dgym-data'\n",
    "\n",
    "deck = dg.MoleculeCollection.load(\n",
    "    f'{path}/DSi-Poised_Library_annotated.sdf',\n",
    "    reactant_names=['reagsmi1', 'reagsmi2', 'reagsmi3']\n",
    ")\n",
    "\n",
    "reactions = dg.ReactionCollection.from_json(\n",
    "    path = f'{path}/All_Rxns_rxn_library_sorted.json',\n",
    "    smarts_col = 'reaction_string',\n",
    "    classes_col = 'functional_groups'\n",
    ")\n",
    "\n",
    "building_blocks = dg.datasets.disk_loader(f'{path}/Enamine_Building_Blocks_Stock_262336cmpd_20230630.sdf')\n",
    "fingerprints = dg.datasets.fingerprints(f'{path}/Enamine_Building_Blocks_Stock_262336cmpd_20230630_atoms.fpb')\n",
    "\n",
    "import torch\n",
    "import pyarrow.parquet as pq\n",
    "table = pq.read_table('../../dgym-data/sizes.parquet')[0]\n",
    "sizes = torch.tensor(table.to_numpy())"
   ]
  },
  {
   "cell_type": "markdown",
   "id": "87fdc8b9-6124-4619-80a8-5df068535f32",
   "metadata": {},
   "source": [
    "Load assays and utility functions."
   ]
  },
  {
   "cell_type": "code",
   "execution_count": 2,
   "id": "750653ce-6431-4dcb-abd8-cb0a6da39459",
   "metadata": {
    "tags": []
   },
   "outputs": [],
   "source": [
    "import os\n",
    "\n",
    "def get_tcp_objectives():\n",
    "\n",
    "    dockstring_dir = f'{path}/dockstring_targets/'\n",
    "    files = os.listdir(dockstring_dir)\n",
    "    configs = sorted([f for f in files if 'conf' in f])\n",
    "    targets = sorted([f for f in files if 'target' in f])\n",
    "\n",
    "    idx = 0\n",
    "    with open(dockstring_dir + configs[idx], 'r') as f:\n",
    "        config_ = f.readlines()\n",
    "        config_ = [c.replace('\\n', '') for c in config_]\n",
    "        config_ = [c.split(' = ') for c in config_ if c]\n",
    "        config_ = {c[0]: float(c[1]) for c in config_}\n",
    "\n",
    "    target = targets[idx]\n",
    "    name = target.split('_')[0]\n",
    "\n",
    "    config_.update({\n",
    "        'size_x': 22.5,\n",
    "        'size_y': 22.5,\n",
    "        'size_z': 22.5,\n",
    "    })\n",
    "\n",
    "    from dgym.envs.oracle import \\\n",
    "        DockingOracle, CatBoostOracle, RDKitOracle, NoisyOracle\n",
    "    from dgym.envs.utility import ClassicUtilityFunction\n",
    "\n",
    "    config = {\n",
    "        'search_mode': 'detailed',\n",
    "        'scoring': 'vina',\n",
    "        'seed': 5,\n",
    "        **config_\n",
    "    }\n",
    "\n",
    "    pIC50_oracle = DockingOracle(\n",
    "        f'{name} pIC50',\n",
    "        receptor_path=f'{path}/dockstring_targets/{name}_target.pdbqt',\n",
    "        config=config\n",
    "    )\n",
    "    log_P_oracle = RDKitOracle('Log P', descriptor='MolLogP')\n",
    "    log_S_oracle = CatBoostOracle(\n",
    "        'Log S', path='../dgym/envs/models/aqsolcb.model')\n",
    "    \n",
    "    return pIC50_oracle, log_P_oracle, log_S_oracle"
   ]
  },
  {
   "cell_type": "code",
   "execution_count": 3,
   "id": "b7a22a23-125c-4112-a38a-416b8d53646d",
   "metadata": {
    "tags": []
   },
   "outputs": [],
   "source": [
    "from dgym.envs.utility import ClassicUtilityFunction, MultipleUtilityFunction\n",
    "\n",
    "# Get objectives\n",
    "pIC50_oracle, log_P_oracle, log_S_oracle = get_tcp_objectives()\n",
    "\n",
    "# Define utility functions\n",
    "pIC50_utility = ClassicUtilityFunction(\n",
    "    pIC50_oracle, ideal=(9.5, 13), acceptable=(8, 13))\n",
    "log_P_utility = ClassicUtilityFunction(\n",
    "    log_P_oracle, ideal=(0.5, 1.85), acceptable=(-0.5, 3.5))\n",
    "log_S_utility = ClassicUtilityFunction(\n",
    "    log_S_oracle, ideal=(-3, 1), acceptable=(-4, 1))\n",
    "\n",
    "# Assemble assays and surrogate models\n",
    "assays = [\n",
    "    pIC50_oracle,\n",
    "    log_P_oracle,\n",
    "    log_S_oracle,\n",
    "    pIC50_oracle.surrogate(sigma=1.0),\n",
    "    log_P_oracle.surrogate(sigma=1.0),\n",
    "    log_S_oracle.surrogate(sigma=1.0),\n",
    "]\n",
    "\n",
    "# Environment tolerates acceptable ADMET\n",
    "from copy import deepcopy\n",
    "utility_agent = MultipleUtilityFunction(\n",
    "    utility_functions = [pIC50_utility, log_P_utility, log_S_utility],\n",
    "    weights = [0.8, 0.1, 0.1]\n",
    ")\n",
    "utility_env = deepcopy(utility_agent)\n",
    "utility_env.utility_functions[1].ideal = utility_env.utility_functions[1].acceptable\n",
    "utility_env.utility_functions[2].ideal = utility_env.utility_functions[2].acceptable"
   ]
  },
  {
   "cell_type": "markdown",
   "id": "33c88781-ba5b-4e45-98ea-8e25a4639eac",
   "metadata": {},
   "source": [
    "Instantiate designer."
   ]
  },
  {
   "cell_type": "code",
   "execution_count": 4,
   "id": "80f19092-150e-4fb7-87d6-e1c203aa721b",
   "metadata": {
    "tags": []
   },
   "outputs": [],
   "source": [
    "from dgym.envs.designer import Designer, Generator\n",
    "\n",
    "designer = Designer(\n",
    "    Generator(building_blocks, fingerprints, sizes),\n",
    "    reactions,\n",
    "    cache = True\n",
    ")"
   ]
  },
  {
   "cell_type": "markdown",
   "id": "01233a8b-8f11-481b-8154-08b9e234c01d",
   "metadata": {},
   "source": [
    "Pick 5 random starting hits."
   ]
  },
  {
   "cell_type": "code",
   "execution_count": 5,
   "id": "8fcc0795-ebaa-42de-ac4b-dec137e9fc22",
   "metadata": {
    "tags": []
   },
   "outputs": [],
   "source": [
    "# select first molecule\n",
    "import random\n",
    "def select_molecule(deck):\n",
    "    initial_index = random.randint(0, len(deck) - 1)\n",
    "    initial_molecule = deck[initial_index]\n",
    "    if len(initial_molecule.reactants) == 2 \\\n",
    "        and designer.match_reactions(initial_molecule):\n",
    "        return initial_molecule\n",
    "    else:\n",
    "        return select_molecule(deck)\n",
    "\n",
    "initial_molecules = [select_molecule(deck) for _ in range(5)]\n",
    "library = dg.MoleculeCollection(initial_molecules).update_annotations()"
   ]
  },
  {
   "cell_type": "markdown",
   "id": "150be54d-31a4-4287-bb31-abcde4e6abc0",
   "metadata": {
    "tags": []
   },
   "source": [
    "Instantiate Environment and Agent."
   ]
  },
  {
   "cell_type": "code",
   "execution_count": 6,
   "id": "7e6d8a3a-1c83-4dde-82ea-d56a04ca1724",
   "metadata": {
    "tags": []
   },
   "outputs": [],
   "source": [
    "from dgym.envs import DrugEnv\n",
    "from dgym.agents import SequentialDrugAgent\n",
    "from dgym.agents.exploration import EpsilonGreedy\n",
    "\n",
    "drug_env = DrugEnv(\n",
    "    designer = designer,\n",
    "    library = library,\n",
    "    assays = assays,\n",
    "    utility_function = utility_env\n",
    ")\n",
    "\n",
    "# Construct sequence\n",
    "design_replace = {'name': 'design', 'batch_size': 5, 'parameters': {'temperature': 1.0, 'strategy': 'replace', 'size': 8}}\n",
    "design_grow = {'name': 'design', 'batch_size': 5, 'parameters': {'temperature': 1.0, 'strategy': 'grow', 'size': 8}}\n",
    "test_surrogate = {'name': ['Noisy ABL1 pIC50', 'Noisy Log S', 'Noisy Log P'], 'batch_size': 40}\n",
    "make = {'name': 'make', 'batch_size': 40}\n",
    "test = {'name': ['ABL1 pIC50', 'Log S', 'Log P'], 'batch_size': 8}\n",
    "design_and_score = [design_replace, test_surrogate]\n",
    "sequence = [*(design_and_score * 4), design_grow, test_surrogate, make, test]\n",
    "\n",
    "drug_agent = SequentialDrugAgent(\n",
    "    sequence = sequence,\n",
    "    exploration_strategy = EpsilonGreedy(epsilon=0.0),\n",
    "    utility_function = utility_agent\n",
    ")"
   ]
  },
  {
   "cell_type": "code",
   "execution_count": 7,
   "id": "49d35c3e-6e87-4199-9248-a5aa2e5233f2",
   "metadata": {
    "tags": []
   },
   "outputs": [
    {
     "data": {
      "application/vnd.jupyter.widget-view+json": {
       "model_id": "c8359b260bc24960a640913dbbd548bf",
       "version_major": 2,
       "version_minor": 0
      },
      "text/plain": [
       "  0%|          | 0/400 [00:00<?, ?it/s]"
      ]
     },
     "metadata": {},
     "output_type": "display_data"
    },
    {
     "name": "stdout",
     "output_type": "stream",
     "text": [
      "{'reaction': '13_Carboxylate_and_Amine', 'product': 'CC(C)(C)NC(=O)Cn1ccc(C(F)(F)F)n1', 'reactants': [{'product': 'CC(C)(C)N', 'search': 'similar', 'temperature': 1.0}, {'product': 'O=C(O)Cn1ccc(C(F)(F)F)n1'}]}\n",
      "{'reaction': '13_Carboxylate_and_Amine', 'product': 'CC(C)(C)NC(=O)Cn1ccc(C(F)(F)F)n1', 'reactants': [{'product': 'CC(C)(C)N'}, {'product': 'O=C(O)Cn1ccc(C(F)(F)F)n1', 'search': 'similar', 'temperature': 1.0}]}\n",
      "{'reaction': '84_sulfon_amide', 'product': 'CNC1(C(N)=O)CCCC1', 'reactants': [{'product': 'Cl.NC(=O)C1(N)CCCC1', 'search': 'similar', 'temperature': 1.0}, {'product': 'COS(C)(=O)=O'}]}\n",
      "{'reaction': '84_sulfon_amide', 'product': 'CNC1(C(N)=O)CCCC1', 'reactants': [{'product': 'Cl.NC(=O)C1(N)CCCC1'}, {'product': 'COS(C)(=O)=O', 'search': 'similar', 'temperature': 1.0}]}\n",
      "{'reaction': '19_Halide_and_Alcohol', 'product': 'CC(Oc1ccccc1F)C(=O)O', 'reactants': [{'product': 'Oc1ccccc1F', 'search': 'similar', 'temperature': 1.0}, {'product': 'CC(Br)C(=O)OC(C)(C)C'}]}\n",
      "{'reaction': '19_Halide_and_Alcohol', 'product': 'CC(Oc1ccccc1F)C(=O)O', 'reactants': [{'product': 'Oc1ccccc1F'}, {'product': 'CC(Br)C(=O)OC(C)(C)C', 'search': 'similar', 'temperature': 1.0}]}\n",
      "{'reaction': '90_heteroaromatic_nuc_sub', 'product': 'C[C@@H](CO)N(C)c1ncccc1F', 'reactants': [{'product': 'CN[C@@H](C)CO', 'search': 'similar', 'temperature': 1.0}, {'product': 'Fc1cccnc1F'}]}\n",
      "{'reaction': '90_heteroaromatic_nuc_sub', 'product': 'C[C@@H](CO)N(C)c1ncccc1F', 'reactants': [{'product': 'CN[C@@H](C)CO'}, {'product': 'Fc1cccnc1F', 'search': 'similar', 'temperature': 1.0}]}\n",
      "{'reaction': '18_Halide_and_Amine', 'product': 'Cc1csc(NCC2CCCO2)n1', 'reactants': [{'product': 'NC(=S)NCC1CCCO1', 'search': 'similar', 'temperature': 1.0}, {'product': 'CC(=O)CCl'}]}\n",
      "{'reaction': '18_Halide_and_Amine', 'product': 'Cc1csc(NCC2CCCO2)n1', 'reactants': [{'product': 'NC(=S)NCC1CCCO1'}, {'product': 'CC(=O)CCl', 'search': 'similar', 'temperature': 1.0}]}\n",
      "-inf\n",
      "{'reaction': '84_sulfon_amide', 'product': 'CNC1(C(N)=O)CCCC1', 'reactants': [{'product': 'Cl.NC(=O)C1(N)CCCC1', 'search': 'similar', 'temperature': 1.0}, {'product': 'COS(C)(=O)=O'}]}\n",
      "{'reaction': '84_sulfon_amide', 'product': 'CNC1(C(N)=O)CCCC1', 'reactants': [{'product': 'Cl.NC(=O)C1(N)CCCC1'}, {'product': 'COS(C)(=O)=O', 'search': 'similar', 'temperature': 1.0}]}\n",
      "{'reaction': '13_Carboxylate_and_Amine', 'product': 'COc1cccc(CN(C(=O)Cn2ccc(C(F)(F)F)n2)c2ccncn2)c1', 'reactants': [{'product': 'COc1cccc(CNc2ccncn2)c1', 'search': 'similar', 'temperature': 1.0}, {'product': 'O=C(O)Cn1ccc(C(F)(F)F)n1'}]}\n",
      "{'reaction': '13_Carboxylate_and_Amine', 'product': 'COc1cccc(CN(C(=O)Cn2ccc(C(F)(F)F)n2)c2ccncn2)c1', 'reactants': [{'product': 'COc1cccc(CNc2ccncn2)c1'}, {'product': 'O=C(O)Cn1ccc(C(F)(F)F)n1', 'search': 'similar', 'temperature': 1.0}]}\n",
      "{'reaction': '19_Halide_and_Alcohol', 'product': 'CC(OC1(C)CCC(CCO)CC1)C(=O)OC(C)(C)C', 'reactants': [{'product': 'CC1(O)CCC(CCO)CC1', 'search': 'similar', 'temperature': 1.0}, {'product': 'CC(Br)C(=O)OC(C)(C)C'}]}\n",
      "{'reaction': '19_Halide_and_Alcohol', 'product': 'CC(OC1(C)CCC(CCO)CC1)C(=O)OC(C)(C)C', 'reactants': [{'product': 'CC1(O)CCC(CCO)CC1'}, {'product': 'CC(Br)C(=O)OC(C)(C)C', 'search': 'similar', 'temperature': 1.0}]}\n",
      "{'reaction': '19_Halide_and_Alcohol', 'product': 'CC(OCCC1CCC(C)(O)CC1)C(=O)OC(C)(C)C', 'reactants': [{'product': 'CC1(O)CCC(CCO)CC1', 'search': 'similar', 'temperature': 1.0}, {'product': 'CC(Br)C(=O)OC(C)(C)C'}]}\n",
      "{'reaction': '19_Halide_and_Alcohol', 'product': 'CC(OCCC1CCC(C)(O)CC1)C(=O)OC(C)(C)C', 'reactants': [{'product': 'CC1(O)CCC(CCO)CC1'}, {'product': 'CC(Br)C(=O)OC(C)(C)C', 'search': 'similar', 'temperature': 1.0}]}\n",
      "{'reaction': '90_heteroaromatic_nuc_sub', 'product': 'COc1ccc(CN(CC(F)(F)F)c2ncccc2F)cc1', 'reactants': [{'product': 'COc1ccc(CNCC(F)(F)F)cc1', 'search': 'similar', 'temperature': 1.0}, {'product': 'Fc1cccnc1F'}]}\n",
      "{'reaction': '90_heteroaromatic_nuc_sub', 'product': 'COc1ccc(CN(CC(F)(F)F)c2ncccc2F)cc1', 'reactants': [{'product': 'COc1ccc(CNCC(F)(F)F)cc1'}, {'product': 'Fc1cccnc1F', 'search': 'similar', 'temperature': 1.0}]}\n",
      "-inf\n",
      "{'reaction': '84_sulfon_amide', 'product': 'Cc1ccc(C(=O)C(C)N(C)S(C)(=O)=O)nc1', 'reactants': [{'product': 'CNC(C)C(=O)c1ccc(C)cn1.Cl.Cl', 'search': 'similar', 'temperature': 1.0}, {'product': 'COS(C)(=O)=O'}]}\n",
      "{'reaction': '84_sulfon_amide', 'product': 'Cc1ccc(C(=O)C(C)N(C)S(C)(=O)=O)nc1', 'reactants': [{'product': 'CNC(C)C(=O)c1ccc(C)cn1.Cl.Cl'}, {'product': 'COS(C)(=O)=O', 'search': 'similar', 'temperature': 1.0}]}\n",
      "{'reaction': '19_Halide_and_Alcohol', 'product': 'CC(OC1(C)CCC(CCO)CC1)C(=O)OC(C)(C)C', 'reactants': [{'product': 'CC1(O)CCC(CCO)CC1', 'search': 'similar', 'temperature': 1.0}, {'product': 'CC(Br)C(=O)OC(C)(C)C'}]}\n",
      "{'reaction': '19_Halide_and_Alcohol', 'product': 'CC(OC1(C)CCC(CCO)CC1)C(=O)OC(C)(C)C', 'reactants': [{'product': 'CC1(O)CCC(CCO)CC1'}, {'product': 'CC(Br)C(=O)OC(C)(C)C', 'search': 'similar', 'temperature': 1.0}]}\n",
      "{'reaction': '19_Halide_and_Alcohol', 'product': 'CC(OCCC1CCC(C)(O)CC1)C(=O)OC(C)(C)C', 'reactants': [{'product': 'CC1(O)CCC(CCO)CC1', 'search': 'similar', 'temperature': 1.0}, {'product': 'CC(Br)C(=O)OC(C)(C)C'}]}\n",
      "{'reaction': '19_Halide_and_Alcohol', 'product': 'CC(OCCC1CCC(C)(O)CC1)C(=O)OC(C)(C)C', 'reactants': [{'product': 'CC1(O)CCC(CCO)CC1'}, {'product': 'CC(Br)C(=O)OC(C)(C)C', 'search': 'similar', 'temperature': 1.0}]}\n",
      "{'reaction': '90_heteroaromatic_nuc_sub', 'product': 'C[C@@H](CO)N(C)c1ccnc(Cl)c1B1OC(C)(C)C(C)(C)O1', 'reactants': [{'product': 'CN[C@@H](C)CO', 'search': 'similar', 'temperature': 1.0}, {'product': 'CC1(C)OB(c2c(F)ccnc2Cl)OC1(C)C'}]}\n",
      "{'reaction': '90_heteroaromatic_nuc_sub', 'product': 'C[C@@H](CO)N(C)c1ccnc(Cl)c1B1OC(C)(C)C(C)(C)O1', 'reactants': [{'product': 'CN[C@@H](C)CO'}, {'product': 'CC1(C)OB(c2c(F)ccnc2Cl)OC1(C)C', 'search': 'similar', 'temperature': 1.0}]}\n",
      "{'reaction': '18_Halide_and_Amine', 'product': 'CC(=O)CN(C(=O)c1ccc(C)cc1)C(CC(=O)O)c1ccccc1', 'reactants': [{'product': 'Cc1ccc(C(=O)NC(CC(=O)O)c2ccccc2)cc1', 'search': 'similar', 'temperature': 1.0}, {'product': 'CC(=O)CCl'}]}\n",
      "{'reaction': '18_Halide_and_Amine', 'product': 'CC(=O)CN(C(=O)c1ccc(C)cc1)C(CC(=O)O)c1ccccc1', 'reactants': [{'product': 'Cc1ccc(C(=O)NC(CC(=O)O)c2ccccc2)cc1'}, {'product': 'CC(=O)CCl', 'search': 'similar', 'temperature': 1.0}]}\n",
      "-inf\n",
      "{'reaction': '13_Carboxylate_and_Amine', 'product': 'CC(C)(C)NC(=O)CNCc1ccccn1', 'reactants': [{'product': 'CC(C)(C)N', 'search': 'similar', 'temperature': 1.0}, {'product': 'Cl.Cl.O=C(O)CNCc1ccccn1'}]}\n",
      "{'reaction': '13_Carboxylate_and_Amine', 'product': 'CC(C)(C)NC(=O)CNCc1ccccn1', 'reactants': [{'product': 'CC(C)(C)N'}, {'product': 'Cl.Cl.O=C(O)CNCc1ccccn1', 'search': 'similar', 'temperature': 1.0}]}\n",
      "{'reaction': '13_Carboxylate_and_Amine', 'product': 'C=CCN(Cc1ccc(C)cc1)C(=O)Cn1ccc(C(F)(F)F)n1', 'reactants': [{'product': 'C=CCNCc1ccc(C)cc1', 'search': 'similar', 'temperature': 1.0}, {'product': 'O=C(O)Cn1ccc(C(F)(F)F)n1'}]}\n",
      "{'reaction': '13_Carboxylate_and_Amine', 'product': 'C=CCN(Cc1ccc(C)cc1)C(=O)Cn1ccc(C(F)(F)F)n1', 'reactants': [{'product': 'C=CCNCc1ccc(C)cc1'}, {'product': 'O=C(O)Cn1ccc(C(F)(F)F)n1', 'search': 'similar', 'temperature': 1.0}]}\n",
      "{'reaction': '13_Carboxylate_and_Amine', 'product': 'COc1cccc(CN(C(=O)Cn2ccc(C(F)(F)F)n2)c2ccncn2)c1', 'reactants': [{'product': 'COc1cccc(CNc2ccncn2)c1', 'search': 'similar', 'temperature': 1.0}, {'product': 'O=C(O)Cn1ccc(C(F)(F)F)n1'}]}\n",
      "{'reaction': '13_Carboxylate_and_Amine', 'product': 'COc1cccc(CN(C(=O)Cn2ccc(C(F)(F)F)n2)c2ccncn2)c1', 'reactants': [{'product': 'COc1cccc(CNc2ccncn2)c1'}, {'product': 'O=C(O)Cn1ccc(C(F)(F)F)n1', 'search': 'similar', 'temperature': 1.0}]}\n",
      "{'reaction': '84_sulfon_amide', 'product': 'Cc1ccc(C(=O)C(C)N(C)S(C)(=O)=O)nc1', 'reactants': [{'product': 'CNC(C)C(=O)c1ccc(C)cn1.Cl.Cl', 'search': 'similar', 'temperature': 1.0}, {'product': 'COS(C)(=O)=O'}]}\n",
      "{'reaction': '84_sulfon_amide', 'product': 'Cc1ccc(C(=O)C(C)N(C)S(C)(=O)=O)nc1', 'reactants': [{'product': 'CNC(C)C(=O)c1ccc(C)cn1.Cl.Cl'}, {'product': 'COS(C)(=O)=O', 'search': 'similar', 'temperature': 1.0}]}\n",
      "{'reaction': '19_Halide_and_Alcohol', 'product': 'CC(OC1(C)CCC(CCO)CC1)C(=O)OC(C)(C)C', 'reactants': [{'product': 'CC1(O)CCC(CCO)CC1', 'search': 'similar', 'temperature': 1.0}, {'product': 'CC(Br)C(=O)OC(C)(C)C'}]}\n",
      "{'reaction': '19_Halide_and_Alcohol', 'product': 'CC(OC1(C)CCC(CCO)CC1)C(=O)OC(C)(C)C', 'reactants': [{'product': 'CC1(O)CCC(CCO)CC1'}, {'product': 'CC(Br)C(=O)OC(C)(C)C', 'search': 'similar', 'temperature': 1.0}]}\n",
      "-inf\n",
      "{'reaction': '13_Carboxylate_and_Amine', 'reactants': [{'search': 'fixed', 'product': 'CNC1(C(N)=O)CCCC1'}, {'search': 'random', 'size_limit': 10, 'seed': 6871370448492419224}]}\n"
     ]
    },
    {
     "ename": "AttributeError",
     "evalue": "'NoneType' object has no attribute 'GetPropsAsDict'",
     "output_type": "error",
     "traceback": [
      "\u001b[0;31m---------------------------------------------------------------------------\u001b[0m",
      "\u001b[0;31mAttributeError\u001b[0m                            Traceback (most recent call last)",
      "Cell \u001b[0;32mIn[7], line 9\u001b[0m\n\u001b[1;32m      7\u001b[0m \u001b[38;5;28;01mfor\u001b[39;00m _ \u001b[38;5;129;01min\u001b[39;00m tqdm(\u001b[38;5;28mrange\u001b[39m(\u001b[38;5;241m400\u001b[39m)):\n\u001b[1;32m      8\u001b[0m     action \u001b[38;5;241m=\u001b[39m drug_agent\u001b[38;5;241m.\u001b[39mact(observations)\n\u001b[0;32m----> 9\u001b[0m     observations, reward, truncated, terminated, _ \u001b[38;5;241m=\u001b[39m drug_env\u001b[38;5;241m.\u001b[39mstep(action)\n\u001b[1;32m     10\u001b[0m     \u001b[38;5;28;01mif\u001b[39;00m action[\u001b[38;5;124m'\u001b[39m\u001b[38;5;124mname\u001b[39m\u001b[38;5;124m'\u001b[39m] \u001b[38;5;241m==\u001b[39m \u001b[38;5;124m'\u001b[39m\u001b[38;5;124mdesign\u001b[39m\u001b[38;5;124m'\u001b[39m:\n\u001b[1;32m     11\u001b[0m         \u001b[38;5;28mprint\u001b[39m(reward)\n",
      "File \u001b[0;32m~/dev/chodera/dgym/dgym/envs/drug_env.py:139\u001b[0m, in \u001b[0;36mDrugEnv.step\u001b[0;34m(self, action)\u001b[0m\n\u001b[1;32m    102\u001b[0m \u001b[38;5;250m\u001b[39m\u001b[38;5;124;03m\"\"\"\u001b[39;00m\n\u001b[1;32m    103\u001b[0m \u001b[38;5;124;03mRun one timestep of the environment's dynamics using the agent actions.\u001b[39;00m\n\u001b[1;32m    104\u001b[0m \u001b[38;5;124;03mWhen the end of an episode is reached (terminated or truncated),\u001b[39;00m\n\u001b[0;32m   (...)\u001b[0m\n\u001b[1;32m    136\u001b[0m \n\u001b[1;32m    137\u001b[0m \u001b[38;5;124;03m\"\"\"\u001b[39;00m\n\u001b[1;32m    138\u001b[0m \u001b[38;5;66;03m# Perform action\u001b[39;00m\n\u001b[0;32m--> 139\u001b[0m \u001b[38;5;28mself\u001b[39m\u001b[38;5;241m.\u001b[39mperform_action(action)\n\u001b[1;32m    141\u001b[0m \u001b[38;5;66;03m# Update valid actions\u001b[39;00m\n\u001b[1;32m    142\u001b[0m \u001b[38;5;28mself\u001b[39m\u001b[38;5;241m.\u001b[39mvalid_actions[:\u001b[38;5;28mlen\u001b[39m(\u001b[38;5;28mself\u001b[39m\u001b[38;5;241m.\u001b[39mlibrary)] \u001b[38;5;241m=\u001b[39m \u001b[38;5;28;01mTrue\u001b[39;00m\n",
      "File \u001b[0;32m~/dev/chodera/dgym/dgym/envs/drug_env.py:165\u001b[0m, in \u001b[0;36mDrugEnv.perform_action\u001b[0;34m(self, action)\u001b[0m\n\u001b[1;32m    160\u001b[0m molecules \u001b[38;5;241m=\u001b[39m \u001b[38;5;28mself\u001b[39m\u001b[38;5;241m.\u001b[39m_get_valid_molecules(molecules)\n\u001b[1;32m    162\u001b[0m \u001b[38;5;66;03m# Perform action\u001b[39;00m\n\u001b[1;32m    163\u001b[0m \u001b[38;5;28;01mmatch\u001b[39;00m action_name:\n\u001b[1;32m    164\u001b[0m     \u001b[38;5;28;01mcase\u001b[39;00m \u001b[38;5;124m'\u001b[39m\u001b[38;5;124mdesign\u001b[39m\u001b[38;5;124m'\u001b[39m:\n\u001b[0;32m--> 165\u001b[0m         \u001b[38;5;28mself\u001b[39m\u001b[38;5;241m.\u001b[39mlibrary \u001b[38;5;241m+\u001b[39m\u001b[38;5;241m=\u001b[39m \u001b[38;5;28mself\u001b[39m\u001b[38;5;241m.\u001b[39mdesign(molecules, \u001b[38;5;241m*\u001b[39m\u001b[38;5;241m*\u001b[39mparameters)\n\u001b[1;32m    166\u001b[0m     \u001b[38;5;28;01mcase\u001b[39;00m \u001b[38;5;124m'\u001b[39m\u001b[38;5;124mmake\u001b[39m\u001b[38;5;124m'\u001b[39m:\n\u001b[1;32m    167\u001b[0m         \u001b[38;5;28mself\u001b[39m\u001b[38;5;241m.\u001b[39mmake(molecules)\n\u001b[1;32m    168\u001b[0m     \u001b[38;5;28;01mcase\u001b[39;00m\u001b[38;5;250m \u001b[39m\u001b[38;5;28;01m_\u001b[39;00m \u001b[38;5;28;01mas\u001b[39;00m test:\n\u001b[1;32m    169\u001b[0m         \u001b[38;5;28mself\u001b[39m\u001b[38;5;241m.\u001b[39mtest(molecules, test, \u001b[38;5;241m*\u001b[39mparameters)\n",
      "File \u001b[0;32m~/dev/chodera/dgym/dgym/envs/drug_env.py:178\u001b[0m, in \u001b[0;36mDrugEnv.design\u001b[0;34m(self, molecules, *args, **kwargs)\u001b[0m\n\u001b[1;32m    176\u001b[0m new_molecules \u001b[38;5;241m=\u001b[39m MoleculeCollection()\n\u001b[1;32m    177\u001b[0m \u001b[38;5;28;01mfor\u001b[39;00m molecule \u001b[38;5;129;01min\u001b[39;00m molecules:\n\u001b[0;32m--> 178\u001b[0m     new_molecules \u001b[38;5;241m+\u001b[39m\u001b[38;5;241m=\u001b[39m \u001b[38;5;28mself\u001b[39m\u001b[38;5;241m.\u001b[39mdesigner\u001b[38;5;241m.\u001b[39mdesign(molecule, \u001b[38;5;241m*\u001b[39margs, \u001b[38;5;241m*\u001b[39m\u001b[38;5;241m*\u001b[39mkwargs)\n\u001b[1;32m    180\u001b[0m \u001b[38;5;66;03m# Annotate status - TODO fix MoleculeCollection `update_annotations`\u001b[39;00m\n\u001b[1;32m    181\u001b[0m new_molecules[\u001b[38;5;124m'\u001b[39m\u001b[38;5;124mtimestep\u001b[39m\u001b[38;5;124m'\u001b[39m] \u001b[38;5;241m=\u001b[39m \u001b[38;5;28mself\u001b[39m\u001b[38;5;241m.\u001b[39mtime_elapsed \u001b[38;5;241m+\u001b[39m \u001b[38;5;241m1\u001b[39m\n",
      "File \u001b[0;32m~/dev/chodera/dgym/dgym/envs/designer.py:252\u001b[0m, in \u001b[0;36mDesigner.design\u001b[0;34m(self, molecule, size, strategy, seed, **kwargs)\u001b[0m\n\u001b[1;32m    250\u001b[0m \u001b[38;5;66;03m# Run reaction\u001b[39;00m\n\u001b[1;32m    251\u001b[0m analogs \u001b[38;5;241m=\u001b[39m \u001b[38;5;28mself\u001b[39m\u001b[38;5;241m.\u001b[39mgenerate_analogs(routes_)\n\u001b[0;32m--> 252\u001b[0m \u001b[38;5;28;01mfor\u001b[39;00m analog \u001b[38;5;129;01min\u001b[39;00m analogs:\n\u001b[1;32m    253\u001b[0m     \n\u001b[1;32m    254\u001b[0m     \u001b[38;5;66;03m# Annotate metadata\u001b[39;00m\n\u001b[1;32m    255\u001b[0m     analog\u001b[38;5;241m.\u001b[39minspiration \u001b[38;5;241m=\u001b[39m molecule\n\u001b[1;32m    256\u001b[0m     \u001b[38;5;28;01mif\u001b[39;00m strategy \u001b[38;5;241m==\u001b[39m \u001b[38;5;124m'\u001b[39m\u001b[38;5;124mgrow\u001b[39m\u001b[38;5;124m'\u001b[39m:\n",
      "File \u001b[0;32m~/dev/chodera/dgym/dgym/envs/designer.py:297\u001b[0m, in \u001b[0;36mDesigner.generate_analogs\u001b[0;34m(self, routes)\u001b[0m\n\u001b[1;32m    294\u001b[0m \u001b[38;5;250m\u001b[39m\u001b[38;5;124;03m\"\"\"Initialize the reaction system with a random configuration variant.\"\"\"\u001b[39;00m\n\u001b[1;32m    296\u001b[0m \u001b[38;5;66;03m# Derive pending reactions\u001b[39;00m\n\u001b[0;32m--> 297\u001b[0m reaction_products \u001b[38;5;241m=\u001b[39m [\u001b[38;5;28mself\u001b[39m\u001b[38;5;241m.\u001b[39mconstruct_reaction(r) \u001b[38;5;28;01mfor\u001b[39;00m r \u001b[38;5;129;01min\u001b[39;00m routes]\n\u001b[1;32m    299\u001b[0m \u001b[38;5;66;03m# Yield product from randomly chosen tree\u001b[39;00m\n\u001b[1;32m    300\u001b[0m \u001b[38;5;28;01mtry\u001b[39;00m:\n",
      "File \u001b[0;32m~/dev/chodera/dgym/dgym/envs/designer.py:297\u001b[0m, in \u001b[0;36m<listcomp>\u001b[0;34m(.0)\u001b[0m\n\u001b[1;32m    294\u001b[0m \u001b[38;5;250m\u001b[39m\u001b[38;5;124;03m\"\"\"Initialize the reaction system with a random configuration variant.\"\"\"\u001b[39;00m\n\u001b[1;32m    296\u001b[0m \u001b[38;5;66;03m# Derive pending reactions\u001b[39;00m\n\u001b[0;32m--> 297\u001b[0m reaction_products \u001b[38;5;241m=\u001b[39m [\u001b[38;5;28mself\u001b[39m\u001b[38;5;241m.\u001b[39mconstruct_reaction(r) \u001b[38;5;28;01mfor\u001b[39;00m r \u001b[38;5;129;01min\u001b[39;00m routes]\n\u001b[1;32m    299\u001b[0m \u001b[38;5;66;03m# Yield product from randomly chosen tree\u001b[39;00m\n\u001b[1;32m    300\u001b[0m \u001b[38;5;28;01mtry\u001b[39;00m:\n",
      "File \u001b[0;32m~/dev/chodera/dgym/dgym/envs/designer.py:422\u001b[0m, in \u001b[0;36mDesigner.construct_reaction\u001b[0;34m(self, route)\u001b[0m\n\u001b[1;32m    420\u001b[0m \u001b[38;5;28;01mif\u001b[39;00m \u001b[38;5;124m'\u001b[39m\u001b[38;5;124mreactants\u001b[39m\u001b[38;5;124m'\u001b[39m \u001b[38;5;129;01min\u001b[39;00m route:\n\u001b[1;32m    421\u001b[0m     reactants \u001b[38;5;241m=\u001b[39m [\u001b[38;5;28mself\u001b[39m\u001b[38;5;241m.\u001b[39mconstruct_reaction(reactant) \u001b[38;5;28;01mfor\u001b[39;00m reactant \u001b[38;5;129;01min\u001b[39;00m route[\u001b[38;5;124m'\u001b[39m\u001b[38;5;124mreactants\u001b[39m\u001b[38;5;124m'\u001b[39m]]\n\u001b[0;32m--> 422\u001b[0m     reaction_name \u001b[38;5;241m=\u001b[39m route\u001b[38;5;241m.\u001b[39mget(\u001b[38;5;124m'\u001b[39m\u001b[38;5;124mreaction\u001b[39m\u001b[38;5;124m'\u001b[39m, \u001b[38;5;28mself\u001b[39m\u001b[38;5;241m.\u001b[39mmatch_reactions(route)[\u001b[38;5;241m0\u001b[39m])\n\u001b[1;32m    423\u001b[0m     reaction \u001b[38;5;241m=\u001b[39m \u001b[38;5;28mself\u001b[39m\u001b[38;5;241m.\u001b[39mreactions[reaction_name]\n\u001b[1;32m    424\u001b[0m     \u001b[38;5;28;01mreturn\u001b[39;00m reaction\u001b[38;5;241m.\u001b[39mrun(reactants)\n",
      "File \u001b[0;32m~/dev/chodera/dgym/dgym/envs/designer.py:277\u001b[0m, in \u001b[0;36mDesigner.match_reactions\u001b[0;34m(self, molecule)\u001b[0m\n\u001b[1;32m    275\u001b[0m \u001b[38;5;28;01mif\u001b[39;00m \u001b[38;5;28misinstance\u001b[39m(molecule, \u001b[38;5;28mdict\u001b[39m):\n\u001b[1;32m    276\u001b[0m     \u001b[38;5;28mprint\u001b[39m(molecule)\n\u001b[0;32m--> 277\u001b[0m     molecule \u001b[38;5;241m=\u001b[39m Molecule\u001b[38;5;241m.\u001b[39mload(molecule)\n\u001b[1;32m    279\u001b[0m \u001b[38;5;66;03m# Return reaction if already annotated\u001b[39;00m\n\u001b[1;32m    280\u001b[0m \u001b[38;5;28;01mif\u001b[39;00m molecule\u001b[38;5;241m.\u001b[39mreaction \u001b[38;5;129;01mand\u001b[39;00m molecule\u001b[38;5;241m.\u001b[39mreaction \u001b[38;5;129;01min\u001b[39;00m \u001b[38;5;28mself\u001b[39m\u001b[38;5;241m.\u001b[39mreactions\u001b[38;5;241m.\u001b[39mnames:\n",
      "File \u001b[0;32m~/dev/chodera/dgym/dgym/molecule.py:314\u001b[0m, in \u001b[0;36mMolecule.load\u001b[0;34m(route)\u001b[0m\n\u001b[1;32m    311\u001b[0m reactants_data \u001b[38;5;241m=\u001b[39m route\u001b[38;5;241m.\u001b[39mget(\u001b[38;5;124m'\u001b[39m\u001b[38;5;124mreactants\u001b[39m\u001b[38;5;124m'\u001b[39m, [])\n\u001b[1;32m    312\u001b[0m annotations \u001b[38;5;241m=\u001b[39m route\u001b[38;5;241m.\u001b[39mget(\u001b[38;5;124m'\u001b[39m\u001b[38;5;124mannotations\u001b[39m\u001b[38;5;124m'\u001b[39m, {})\n\u001b[0;32m--> 314\u001b[0m reactants \u001b[38;5;241m=\u001b[39m [Molecule\u001b[38;5;241m.\u001b[39mload(reactant) \u001b[38;5;28;01mfor\u001b[39;00m reactant \u001b[38;5;129;01min\u001b[39;00m reactants_data]\n\u001b[1;32m    316\u001b[0m \u001b[38;5;28;01mreturn\u001b[39;00m Molecule(\n\u001b[1;32m    317\u001b[0m     mol\u001b[38;5;241m=\u001b[39mproduct_mol,\n\u001b[1;32m    318\u001b[0m     reactants\u001b[38;5;241m=\u001b[39mreactants,\n\u001b[1;32m    319\u001b[0m     reaction\u001b[38;5;241m=\u001b[39mreaction_name,\n\u001b[1;32m    320\u001b[0m     annotations\u001b[38;5;241m=\u001b[39mannotations\n\u001b[1;32m    321\u001b[0m )\n",
      "File \u001b[0;32m~/dev/chodera/dgym/dgym/molecule.py:314\u001b[0m, in \u001b[0;36m<listcomp>\u001b[0;34m(.0)\u001b[0m\n\u001b[1;32m    311\u001b[0m reactants_data \u001b[38;5;241m=\u001b[39m route\u001b[38;5;241m.\u001b[39mget(\u001b[38;5;124m'\u001b[39m\u001b[38;5;124mreactants\u001b[39m\u001b[38;5;124m'\u001b[39m, [])\n\u001b[1;32m    312\u001b[0m annotations \u001b[38;5;241m=\u001b[39m route\u001b[38;5;241m.\u001b[39mget(\u001b[38;5;124m'\u001b[39m\u001b[38;5;124mannotations\u001b[39m\u001b[38;5;124m'\u001b[39m, {})\n\u001b[0;32m--> 314\u001b[0m reactants \u001b[38;5;241m=\u001b[39m [Molecule\u001b[38;5;241m.\u001b[39mload(reactant) \u001b[38;5;28;01mfor\u001b[39;00m reactant \u001b[38;5;129;01min\u001b[39;00m reactants_data]\n\u001b[1;32m    316\u001b[0m \u001b[38;5;28;01mreturn\u001b[39;00m Molecule(\n\u001b[1;32m    317\u001b[0m     mol\u001b[38;5;241m=\u001b[39mproduct_mol,\n\u001b[1;32m    318\u001b[0m     reactants\u001b[38;5;241m=\u001b[39mreactants,\n\u001b[1;32m    319\u001b[0m     reaction\u001b[38;5;241m=\u001b[39mreaction_name,\n\u001b[1;32m    320\u001b[0m     annotations\u001b[38;5;241m=\u001b[39mannotations\n\u001b[1;32m    321\u001b[0m )\n",
      "File \u001b[0;32m~/dev/chodera/dgym/dgym/molecule.py:316\u001b[0m, in \u001b[0;36mMolecule.load\u001b[0;34m(route)\u001b[0m\n\u001b[1;32m    312\u001b[0m annotations \u001b[38;5;241m=\u001b[39m route\u001b[38;5;241m.\u001b[39mget(\u001b[38;5;124m'\u001b[39m\u001b[38;5;124mannotations\u001b[39m\u001b[38;5;124m'\u001b[39m, {})\n\u001b[1;32m    314\u001b[0m reactants \u001b[38;5;241m=\u001b[39m [Molecule\u001b[38;5;241m.\u001b[39mload(reactant) \u001b[38;5;28;01mfor\u001b[39;00m reactant \u001b[38;5;129;01min\u001b[39;00m reactants_data]\n\u001b[0;32m--> 316\u001b[0m \u001b[38;5;28;01mreturn\u001b[39;00m Molecule(\n\u001b[1;32m    317\u001b[0m     mol\u001b[38;5;241m=\u001b[39mproduct_mol,\n\u001b[1;32m    318\u001b[0m     reactants\u001b[38;5;241m=\u001b[39mreactants,\n\u001b[1;32m    319\u001b[0m     reaction\u001b[38;5;241m=\u001b[39mreaction_name,\n\u001b[1;32m    320\u001b[0m     annotations\u001b[38;5;241m=\u001b[39mannotations\n\u001b[1;32m    321\u001b[0m )\n",
      "File \u001b[0;32m~/dev/chodera/dgym/dgym/molecule.py:84\u001b[0m, in \u001b[0;36mMolecule.__init__\u001b[0;34m(self, mol, reactants, reaction, annotations, status, inspiration, name_attr)\u001b[0m\n\u001b[1;32m     81\u001b[0m \u001b[38;5;28mself\u001b[39m\u001b[38;5;241m.\u001b[39minspiration \u001b[38;5;241m=\u001b[39m inspiration\n\u001b[1;32m     82\u001b[0m \u001b[38;5;28mself\u001b[39m\u001b[38;5;241m.\u001b[39m_name_attr \u001b[38;5;241m=\u001b[39m name_attr\n\u001b[0;32m---> 84\u001b[0m \u001b[38;5;28mself\u001b[39m\u001b[38;5;241m.\u001b[39mupdate_annotations()\n",
      "File \u001b[0;32m~/dev/chodera/dgym/dgym/molecule.py:163\u001b[0m, in \u001b[0;36mMolecule.update_annotations\u001b[0;34m(self, other_annotations)\u001b[0m\n\u001b[1;32m    161\u001b[0m \u001b[38;5;28;01mdef\u001b[39;00m \u001b[38;5;21mupdate_annotations\u001b[39m(\u001b[38;5;28mself\u001b[39m, other_annotations: Optional[\u001b[38;5;28mdict\u001b[39m] \u001b[38;5;241m=\u001b[39m \u001b[38;5;28;01mNone\u001b[39;00m) \u001b[38;5;241m-\u001b[39m\u001b[38;5;241m>\u001b[39m Any:\n\u001b[1;32m    162\u001b[0m \u001b[38;5;250m    \u001b[39m\u001b[38;5;124;03m\"\"\"Update annotations.\"\"\"\u001b[39;00m\n\u001b[0;32m--> 163\u001b[0m     \u001b[38;5;28mself\u001b[39m\u001b[38;5;241m.\u001b[39mannotations\u001b[38;5;241m.\u001b[39mupdate(\u001b[38;5;28mself\u001b[39m\u001b[38;5;241m.\u001b[39mmol\u001b[38;5;241m.\u001b[39mGetPropsAsDict())\n\u001b[1;32m    165\u001b[0m     \u001b[38;5;66;03m# Update immutable properties\u001b[39;00m\n\u001b[1;32m    166\u001b[0m     \u001b[38;5;28;01mif\u001b[39;00m \u001b[38;5;124m'\u001b[39m\u001b[38;5;124msmiles\u001b[39m\u001b[38;5;124m'\u001b[39m \u001b[38;5;129;01mnot\u001b[39;00m \u001b[38;5;129;01min\u001b[39;00m \u001b[38;5;28mself\u001b[39m\u001b[38;5;241m.\u001b[39mannotations:\n",
      "\u001b[0;31mAttributeError\u001b[0m: 'NoneType' object has no attribute 'GetPropsAsDict'"
     ]
    }
   ],
   "source": [
    "import json\n",
    "from tqdm.notebook import tqdm\n",
    "\n",
    "drug_agent.reset()\n",
    "observations, _ = drug_env.reset()\n",
    "\n",
    "for _ in tqdm(range(400)):\n",
    "    action = drug_agent.act(observations)\n",
    "    observations, reward, truncated, terminated, _ = drug_env.step(action)\n",
    "    if action['name'] == 'design':\n",
    "        print(reward)"
   ]
  },
  {
   "cell_type": "code",
   "execution_count": 12,
   "id": "38cb73ff-66c2-4c1f-9be1-a602a2b74d81",
   "metadata": {
    "tags": []
   },
   "outputs": [
    {
     "data": {
      "image/png": "[encoded data removed]",
      "text/plain": [
       "<rdkit.Chem.rdchem.Mol at 0x7fb32aba3220>"
      ]
     },
     "execution_count": 12,
     "metadata": {},
     "output_type": "execute_result"
    }
   ],
   "source": [
    "from rdkit.Chem import MolFromSmiles\n",
    "\n",
    "MolFromSmiles('CNC1(C(N)=O)CCCC1')"
   ]
  },
  {
   "cell_type": "code",
   "execution_count": 36,
   "id": "e6daadb6-f4c1-458b-b86f-b00fc2e5a79e",
   "metadata": {
    "tags": []
   },
   "outputs": [
    {
     "ename": "AttributeError",
     "evalue": "'NoneType' object has no attribute 'GetPropsAsDict'",
     "output_type": "error",
     "traceback": [
      "\u001b[0;31m---------------------------------------------------------------------------\u001b[0m",
      "\u001b[0;31mAttributeError\u001b[0m                            Traceback (most recent call last)",
      "Cell \u001b[0;32mIn[36], line 3\u001b[0m\n\u001b[1;32m      1\u001b[0m \u001b[38;5;28;01mfrom\u001b[39;00m \u001b[38;5;21;01mdgym\u001b[39;00m\u001b[38;5;21;01m.\u001b[39;00m\u001b[38;5;21;01mmolecule\u001b[39;00m \u001b[38;5;28;01mimport\u001b[39;00m Molecule\n\u001b[0;32m----> 3\u001b[0m Molecule\u001b[38;5;241m.\u001b[39mload({\n\u001b[1;32m      4\u001b[0m     \u001b[38;5;124m'\u001b[39m\u001b[38;5;124mreaction\u001b[39m\u001b[38;5;124m'\u001b[39m: \u001b[38;5;124m'\u001b[39m\u001b[38;5;124m13_Carboxylate_and_Amine\u001b[39m\u001b[38;5;124m'\u001b[39m,\n\u001b[1;32m      5\u001b[0m     \u001b[38;5;66;03m# 'product': 'CNC1(C(N)=O)CCCC1',\u001b[39;00m\n\u001b[1;32m      6\u001b[0m     \u001b[38;5;124m'\u001b[39m\u001b[38;5;124mreactants\u001b[39m\u001b[38;5;124m'\u001b[39m: [{\u001b[38;5;124m'\u001b[39m\u001b[38;5;124msearch\u001b[39m\u001b[38;5;124m'\u001b[39m: \u001b[38;5;124m'\u001b[39m\u001b[38;5;124mfixed\u001b[39m\u001b[38;5;124m'\u001b[39m, \u001b[38;5;124m'\u001b[39m\u001b[38;5;124mproduct\u001b[39m\u001b[38;5;124m'\u001b[39m: \u001b[38;5;124m'\u001b[39m\u001b[38;5;124mCNC1(C(N)=O)CCCC1\u001b[39m\u001b[38;5;124m'\u001b[39m}, {\u001b[38;5;124m'\u001b[39m\u001b[38;5;124msearch\u001b[39m\u001b[38;5;124m'\u001b[39m: \u001b[38;5;124m'\u001b[39m\u001b[38;5;124mrandom\u001b[39m\u001b[38;5;124m'\u001b[39m, \u001b[38;5;124m'\u001b[39m\u001b[38;5;124msize_limit\u001b[39m\u001b[38;5;124m'\u001b[39m: \u001b[38;5;241m10\u001b[39m, \u001b[38;5;124m'\u001b[39m\u001b[38;5;124mseed\u001b[39m\u001b[38;5;124m'\u001b[39m: \u001b[38;5;241m6871370448492419224\u001b[39m}]\n\u001b[1;32m      7\u001b[0m })\n",
      "File \u001b[0;32m~/dev/chodera/dgym/dgym/molecule.py:314\u001b[0m, in \u001b[0;36mMolecule.load\u001b[0;34m(route)\u001b[0m\n\u001b[1;32m    311\u001b[0m reactants_data \u001b[38;5;241m=\u001b[39m route\u001b[38;5;241m.\u001b[39mget(\u001b[38;5;124m'\u001b[39m\u001b[38;5;124mreactants\u001b[39m\u001b[38;5;124m'\u001b[39m, [])\n\u001b[1;32m    312\u001b[0m annotations \u001b[38;5;241m=\u001b[39m route\u001b[38;5;241m.\u001b[39mget(\u001b[38;5;124m'\u001b[39m\u001b[38;5;124mannotations\u001b[39m\u001b[38;5;124m'\u001b[39m, {})\n\u001b[0;32m--> 314\u001b[0m reactants \u001b[38;5;241m=\u001b[39m [Molecule\u001b[38;5;241m.\u001b[39mload(reactant) \u001b[38;5;28;01mfor\u001b[39;00m reactant \u001b[38;5;129;01min\u001b[39;00m reactants_data]\n\u001b[1;32m    316\u001b[0m \u001b[38;5;28;01mreturn\u001b[39;00m Molecule(\n\u001b[1;32m    317\u001b[0m     mol\u001b[38;5;241m=\u001b[39mproduct_mol,\n\u001b[1;32m    318\u001b[0m     reactants\u001b[38;5;241m=\u001b[39mreactants,\n\u001b[1;32m    319\u001b[0m     reaction\u001b[38;5;241m=\u001b[39mreaction_name,\n\u001b[1;32m    320\u001b[0m     annotations\u001b[38;5;241m=\u001b[39mannotations\n\u001b[1;32m    321\u001b[0m )\n",
      "File \u001b[0;32m~/dev/chodera/dgym/dgym/molecule.py:314\u001b[0m, in \u001b[0;36m<listcomp>\u001b[0;34m(.0)\u001b[0m\n\u001b[1;32m    311\u001b[0m reactants_data \u001b[38;5;241m=\u001b[39m route\u001b[38;5;241m.\u001b[39mget(\u001b[38;5;124m'\u001b[39m\u001b[38;5;124mreactants\u001b[39m\u001b[38;5;124m'\u001b[39m, [])\n\u001b[1;32m    312\u001b[0m annotations \u001b[38;5;241m=\u001b[39m route\u001b[38;5;241m.\u001b[39mget(\u001b[38;5;124m'\u001b[39m\u001b[38;5;124mannotations\u001b[39m\u001b[38;5;124m'\u001b[39m, {})\n\u001b[0;32m--> 314\u001b[0m reactants \u001b[38;5;241m=\u001b[39m [Molecule\u001b[38;5;241m.\u001b[39mload(reactant) \u001b[38;5;28;01mfor\u001b[39;00m reactant \u001b[38;5;129;01min\u001b[39;00m reactants_data]\n\u001b[1;32m    316\u001b[0m \u001b[38;5;28;01mreturn\u001b[39;00m Molecule(\n\u001b[1;32m    317\u001b[0m     mol\u001b[38;5;241m=\u001b[39mproduct_mol,\n\u001b[1;32m    318\u001b[0m     reactants\u001b[38;5;241m=\u001b[39mreactants,\n\u001b[1;32m    319\u001b[0m     reaction\u001b[38;5;241m=\u001b[39mreaction_name,\n\u001b[1;32m    320\u001b[0m     annotations\u001b[38;5;241m=\u001b[39mannotations\n\u001b[1;32m    321\u001b[0m )\n",
      "File \u001b[0;32m~/dev/chodera/dgym/dgym/molecule.py:316\u001b[0m, in \u001b[0;36mMolecule.load\u001b[0;34m(route)\u001b[0m\n\u001b[1;32m    312\u001b[0m annotations \u001b[38;5;241m=\u001b[39m route\u001b[38;5;241m.\u001b[39mget(\u001b[38;5;124m'\u001b[39m\u001b[38;5;124mannotations\u001b[39m\u001b[38;5;124m'\u001b[39m, {})\n\u001b[1;32m    314\u001b[0m reactants \u001b[38;5;241m=\u001b[39m [Molecule\u001b[38;5;241m.\u001b[39mload(reactant) \u001b[38;5;28;01mfor\u001b[39;00m reactant \u001b[38;5;129;01min\u001b[39;00m reactants_data]\n\u001b[0;32m--> 316\u001b[0m \u001b[38;5;28;01mreturn\u001b[39;00m Molecule(\n\u001b[1;32m    317\u001b[0m     mol\u001b[38;5;241m=\u001b[39mproduct_mol,\n\u001b[1;32m    318\u001b[0m     reactants\u001b[38;5;241m=\u001b[39mreactants,\n\u001b[1;32m    319\u001b[0m     reaction\u001b[38;5;241m=\u001b[39mreaction_name,\n\u001b[1;32m    320\u001b[0m     annotations\u001b[38;5;241m=\u001b[39mannotations\n\u001b[1;32m    321\u001b[0m )\n",
      "File \u001b[0;32m~/dev/chodera/dgym/dgym/molecule.py:84\u001b[0m, in \u001b[0;36mMolecule.__init__\u001b[0;34m(self, mol, reactants, reaction, annotations, status, inspiration, name_attr)\u001b[0m\n\u001b[1;32m     81\u001b[0m \u001b[38;5;28mself\u001b[39m\u001b[38;5;241m.\u001b[39minspiration \u001b[38;5;241m=\u001b[39m inspiration\n\u001b[1;32m     82\u001b[0m \u001b[38;5;28mself\u001b[39m\u001b[38;5;241m.\u001b[39m_name_attr \u001b[38;5;241m=\u001b[39m name_attr\n\u001b[0;32m---> 84\u001b[0m \u001b[38;5;28mself\u001b[39m\u001b[38;5;241m.\u001b[39mupdate_annotations()\n",
      "File \u001b[0;32m~/dev/chodera/dgym/dgym/molecule.py:163\u001b[0m, in \u001b[0;36mMolecule.update_annotations\u001b[0;34m(self, other_annotations)\u001b[0m\n\u001b[1;32m    161\u001b[0m \u001b[38;5;28;01mdef\u001b[39;00m \u001b[38;5;21mupdate_annotations\u001b[39m(\u001b[38;5;28mself\u001b[39m, other_annotations: Optional[\u001b[38;5;28mdict\u001b[39m] \u001b[38;5;241m=\u001b[39m \u001b[38;5;28;01mNone\u001b[39;00m) \u001b[38;5;241m-\u001b[39m\u001b[38;5;241m>\u001b[39m Any:\n\u001b[1;32m    162\u001b[0m \u001b[38;5;250m    \u001b[39m\u001b[38;5;124;03m\"\"\"Update annotations.\"\"\"\u001b[39;00m\n\u001b[0;32m--> 163\u001b[0m     \u001b[38;5;28mself\u001b[39m\u001b[38;5;241m.\u001b[39mannotations\u001b[38;5;241m.\u001b[39mupdate(\u001b[38;5;28mself\u001b[39m\u001b[38;5;241m.\u001b[39mmol\u001b[38;5;241m.\u001b[39mGetPropsAsDict())\n\u001b[1;32m    165\u001b[0m     \u001b[38;5;66;03m# Update immutable properties\u001b[39;00m\n\u001b[1;32m    166\u001b[0m     \u001b[38;5;28;01mif\u001b[39;00m \u001b[38;5;124m'\u001b[39m\u001b[38;5;124msmiles\u001b[39m\u001b[38;5;124m'\u001b[39m \u001b[38;5;129;01mnot\u001b[39;00m \u001b[38;5;129;01min\u001b[39;00m \u001b[38;5;28mself\u001b[39m\u001b[38;5;241m.\u001b[39mannotations:\n",
      "\u001b[0;31mAttributeError\u001b[0m: 'NoneType' object has no attribute 'GetPropsAsDict'"
     ]
    }
   ],
   "source": [
    "from dgym.molecule import Molecule\n",
    "\n",
    "Molecule.load({\n",
    "    'reaction': '13_Carboxylate_and_Amine',\n",
    "    # 'product': 'CNC1(C(N)=O)CCCC1',\n",
    "    'reactants': [{'search': 'fixed', 'product': 'CNC1(C(N)=O)CCCC1'}, {'search': 'random', 'size_limit': 10, 'seed': 6871370448492419224}]\n",
    "})"
   ]
  },
  {
   "cell_type": "code",
   "execution_count": 29,
   "id": "922d79c6-73a1-4ad7-84dc-bc7b27bfeb02",
   "metadata": {
    "tags": []
   },
   "outputs": [
    {
     "ename": "AttributeError",
     "evalue": "'NoneType' object has no attribute 'GetPropsAsDict'",
     "output_type": "error",
     "traceback": [
      "\u001b[0;31m---------------------------------------------------------------------------\u001b[0m",
      "\u001b[0;31mAttributeError\u001b[0m                            Traceback (most recent call last)",
      "Cell \u001b[0;32mIn[29], line 1\u001b[0m\n\u001b[0;32m----> 1\u001b[0m designer\u001b[38;5;241m.\u001b[39mdesign(observations[\u001b[38;5;241m7\u001b[39m], strategy\u001b[38;5;241m=\u001b[39m\u001b[38;5;124m'\u001b[39m\u001b[38;5;124mgrow\u001b[39m\u001b[38;5;124m'\u001b[39m)\n",
      "File \u001b[0;32m~/dev/chodera/dgym/dgym/envs/designer.py:252\u001b[0m, in \u001b[0;36mDesigner.design\u001b[0;34m(self, molecule, size, strategy, seed, **kwargs)\u001b[0m\n\u001b[1;32m    250\u001b[0m \u001b[38;5;66;03m# Run reaction\u001b[39;00m\n\u001b[1;32m    251\u001b[0m analogs \u001b[38;5;241m=\u001b[39m \u001b[38;5;28mself\u001b[39m\u001b[38;5;241m.\u001b[39mgenerate_analogs(routes_)\n\u001b[0;32m--> 252\u001b[0m \u001b[38;5;28;01mfor\u001b[39;00m analog \u001b[38;5;129;01min\u001b[39;00m analogs:\n\u001b[1;32m    253\u001b[0m     \n\u001b[1;32m    254\u001b[0m     \u001b[38;5;66;03m# Annotate metadata\u001b[39;00m\n\u001b[1;32m    255\u001b[0m     analog\u001b[38;5;241m.\u001b[39minspiration \u001b[38;5;241m=\u001b[39m molecule\n\u001b[1;32m    256\u001b[0m     \u001b[38;5;28;01mif\u001b[39;00m strategy \u001b[38;5;241m==\u001b[39m \u001b[38;5;124m'\u001b[39m\u001b[38;5;124mgrow\u001b[39m\u001b[38;5;124m'\u001b[39m:\n",
      "File \u001b[0;32m~/dev/chodera/dgym/dgym/envs/designer.py:302\u001b[0m, in \u001b[0;36mDesigner.generate_analogs\u001b[0;34m(self, routes)\u001b[0m\n\u001b[1;32m    299\u001b[0m \u001b[38;5;250m\u001b[39m\u001b[38;5;124;03m\"\"\"Initialize the reaction system with a random configuration variant.\"\"\"\u001b[39;00m\n\u001b[1;32m    301\u001b[0m \u001b[38;5;66;03m# Derive pending reactions\u001b[39;00m\n\u001b[0;32m--> 302\u001b[0m reaction_products \u001b[38;5;241m=\u001b[39m [\u001b[38;5;28mself\u001b[39m\u001b[38;5;241m.\u001b[39mconstruct_reaction(r) \u001b[38;5;28;01mfor\u001b[39;00m r \u001b[38;5;129;01min\u001b[39;00m routes]\n\u001b[1;32m    304\u001b[0m \u001b[38;5;66;03m# Yield product from randomly chosen tree\u001b[39;00m\n\u001b[1;32m    305\u001b[0m \u001b[38;5;28;01mtry\u001b[39;00m:\n",
      "File \u001b[0;32m~/dev/chodera/dgym/dgym/envs/designer.py:302\u001b[0m, in \u001b[0;36m<listcomp>\u001b[0;34m(.0)\u001b[0m\n\u001b[1;32m    299\u001b[0m \u001b[38;5;250m\u001b[39m\u001b[38;5;124;03m\"\"\"Initialize the reaction system with a random configuration variant.\"\"\"\u001b[39;00m\n\u001b[1;32m    301\u001b[0m \u001b[38;5;66;03m# Derive pending reactions\u001b[39;00m\n\u001b[0;32m--> 302\u001b[0m reaction_products \u001b[38;5;241m=\u001b[39m [\u001b[38;5;28mself\u001b[39m\u001b[38;5;241m.\u001b[39mconstruct_reaction(r) \u001b[38;5;28;01mfor\u001b[39;00m r \u001b[38;5;129;01min\u001b[39;00m routes]\n\u001b[1;32m    304\u001b[0m \u001b[38;5;66;03m# Yield product from randomly chosen tree\u001b[39;00m\n\u001b[1;32m    305\u001b[0m \u001b[38;5;28;01mtry\u001b[39;00m:\n",
      "File \u001b[0;32m~/dev/chodera/dgym/dgym/envs/designer.py:427\u001b[0m, in \u001b[0;36mDesigner.construct_reaction\u001b[0;34m(self, route)\u001b[0m\n\u001b[1;32m    425\u001b[0m \u001b[38;5;28;01mif\u001b[39;00m \u001b[38;5;124m'\u001b[39m\u001b[38;5;124mreactants\u001b[39m\u001b[38;5;124m'\u001b[39m \u001b[38;5;129;01min\u001b[39;00m route:\n\u001b[1;32m    426\u001b[0m     reactants \u001b[38;5;241m=\u001b[39m [\u001b[38;5;28mself\u001b[39m\u001b[38;5;241m.\u001b[39mconstruct_reaction(reactant) \u001b[38;5;28;01mfor\u001b[39;00m reactant \u001b[38;5;129;01min\u001b[39;00m route[\u001b[38;5;124m'\u001b[39m\u001b[38;5;124mreactants\u001b[39m\u001b[38;5;124m'\u001b[39m]]\n\u001b[0;32m--> 427\u001b[0m     reaction_name \u001b[38;5;241m=\u001b[39m route\u001b[38;5;241m.\u001b[39mget(\u001b[38;5;124m'\u001b[39m\u001b[38;5;124mreaction\u001b[39m\u001b[38;5;124m'\u001b[39m, \u001b[38;5;28mself\u001b[39m\u001b[38;5;241m.\u001b[39mmatch_reactions(route)[\u001b[38;5;241m0\u001b[39m])\n\u001b[1;32m    428\u001b[0m     reaction \u001b[38;5;241m=\u001b[39m \u001b[38;5;28mself\u001b[39m\u001b[38;5;241m.\u001b[39mreactions[reaction_name]\n\u001b[1;32m    429\u001b[0m     \u001b[38;5;28;01mreturn\u001b[39;00m reaction\u001b[38;5;241m.\u001b[39mrun(reactants)\n",
      "File \u001b[0;32m~/dev/chodera/dgym/dgym/envs/designer.py:276\u001b[0m, in \u001b[0;36mDesigner.match_reactions\u001b[0;34m(self, molecule)\u001b[0m\n\u001b[1;32m    274\u001b[0m \u001b[38;5;66;03m# Normalize input\u001b[39;00m\n\u001b[1;32m    275\u001b[0m \u001b[38;5;28;01mif\u001b[39;00m \u001b[38;5;28misinstance\u001b[39m(molecule, \u001b[38;5;28mdict\u001b[39m):\n\u001b[0;32m--> 276\u001b[0m     molecule \u001b[38;5;241m=\u001b[39m Molecule\u001b[38;5;241m.\u001b[39mload(molecule)\n\u001b[1;32m    278\u001b[0m \u001b[38;5;66;03m# Return reaction if already annotated\u001b[39;00m\n\u001b[1;32m    279\u001b[0m \u001b[38;5;28;01mif\u001b[39;00m molecule\u001b[38;5;241m.\u001b[39mreaction \u001b[38;5;129;01mand\u001b[39;00m molecule\u001b[38;5;241m.\u001b[39mreaction \u001b[38;5;129;01min\u001b[39;00m \u001b[38;5;28mself\u001b[39m\u001b[38;5;241m.\u001b[39mreactions\u001b[38;5;241m.\u001b[39mnames:\n",
      "File \u001b[0;32m~/dev/chodera/dgym/dgym/molecule.py:314\u001b[0m, in \u001b[0;36mMolecule.load\u001b[0;34m(route)\u001b[0m\n\u001b[1;32m    311\u001b[0m reactants_data \u001b[38;5;241m=\u001b[39m route\u001b[38;5;241m.\u001b[39mget(\u001b[38;5;124m'\u001b[39m\u001b[38;5;124mreactants\u001b[39m\u001b[38;5;124m'\u001b[39m, [])\n\u001b[1;32m    312\u001b[0m annotations \u001b[38;5;241m=\u001b[39m route\u001b[38;5;241m.\u001b[39mget(\u001b[38;5;124m'\u001b[39m\u001b[38;5;124mannotations\u001b[39m\u001b[38;5;124m'\u001b[39m, {})\n\u001b[0;32m--> 314\u001b[0m reactants \u001b[38;5;241m=\u001b[39m [Molecule\u001b[38;5;241m.\u001b[39mload(reactant) \u001b[38;5;28;01mfor\u001b[39;00m reactant \u001b[38;5;129;01min\u001b[39;00m reactants_data]\n\u001b[1;32m    316\u001b[0m \u001b[38;5;28;01mreturn\u001b[39;00m Molecule(\n\u001b[1;32m    317\u001b[0m     mol\u001b[38;5;241m=\u001b[39mproduct_mol,\n\u001b[1;32m    318\u001b[0m     reactants\u001b[38;5;241m=\u001b[39mreactants,\n\u001b[1;32m    319\u001b[0m     reaction\u001b[38;5;241m=\u001b[39mreaction_name,\n\u001b[1;32m    320\u001b[0m     annotations\u001b[38;5;241m=\u001b[39mannotations\n\u001b[1;32m    321\u001b[0m )\n",
      "File \u001b[0;32m~/dev/chodera/dgym/dgym/molecule.py:314\u001b[0m, in \u001b[0;36m<listcomp>\u001b[0;34m(.0)\u001b[0m\n\u001b[1;32m    311\u001b[0m reactants_data \u001b[38;5;241m=\u001b[39m route\u001b[38;5;241m.\u001b[39mget(\u001b[38;5;124m'\u001b[39m\u001b[38;5;124mreactants\u001b[39m\u001b[38;5;124m'\u001b[39m, [])\n\u001b[1;32m    312\u001b[0m annotations \u001b[38;5;241m=\u001b[39m route\u001b[38;5;241m.\u001b[39mget(\u001b[38;5;124m'\u001b[39m\u001b[38;5;124mannotations\u001b[39m\u001b[38;5;124m'\u001b[39m, {})\n\u001b[0;32m--> 314\u001b[0m reactants \u001b[38;5;241m=\u001b[39m [Molecule\u001b[38;5;241m.\u001b[39mload(reactant) \u001b[38;5;28;01mfor\u001b[39;00m reactant \u001b[38;5;129;01min\u001b[39;00m reactants_data]\n\u001b[1;32m    316\u001b[0m \u001b[38;5;28;01mreturn\u001b[39;00m Molecule(\n\u001b[1;32m    317\u001b[0m     mol\u001b[38;5;241m=\u001b[39mproduct_mol,\n\u001b[1;32m    318\u001b[0m     reactants\u001b[38;5;241m=\u001b[39mreactants,\n\u001b[1;32m    319\u001b[0m     reaction\u001b[38;5;241m=\u001b[39mreaction_name,\n\u001b[1;32m    320\u001b[0m     annotations\u001b[38;5;241m=\u001b[39mannotations\n\u001b[1;32m    321\u001b[0m )\n",
      "File \u001b[0;32m~/dev/chodera/dgym/dgym/molecule.py:316\u001b[0m, in \u001b[0;36mMolecule.load\u001b[0;34m(route)\u001b[0m\n\u001b[1;32m    312\u001b[0m annotations \u001b[38;5;241m=\u001b[39m route\u001b[38;5;241m.\u001b[39mget(\u001b[38;5;124m'\u001b[39m\u001b[38;5;124mannotations\u001b[39m\u001b[38;5;124m'\u001b[39m, {})\n\u001b[1;32m    314\u001b[0m reactants \u001b[38;5;241m=\u001b[39m [Molecule\u001b[38;5;241m.\u001b[39mload(reactant) \u001b[38;5;28;01mfor\u001b[39;00m reactant \u001b[38;5;129;01min\u001b[39;00m reactants_data]\n\u001b[0;32m--> 316\u001b[0m \u001b[38;5;28;01mreturn\u001b[39;00m Molecule(\n\u001b[1;32m    317\u001b[0m     mol\u001b[38;5;241m=\u001b[39mproduct_mol,\n\u001b[1;32m    318\u001b[0m     reactants\u001b[38;5;241m=\u001b[39mreactants,\n\u001b[1;32m    319\u001b[0m     reaction\u001b[38;5;241m=\u001b[39mreaction_name,\n\u001b[1;32m    320\u001b[0m     annotations\u001b[38;5;241m=\u001b[39mannotations\n\u001b[1;32m    321\u001b[0m )\n",
      "File \u001b[0;32m~/dev/chodera/dgym/dgym/molecule.py:84\u001b[0m, in \u001b[0;36mMolecule.__init__\u001b[0;34m(self, mol, reactants, reaction, annotations, status, inspiration, name_attr)\u001b[0m\n\u001b[1;32m     81\u001b[0m \u001b[38;5;28mself\u001b[39m\u001b[38;5;241m.\u001b[39minspiration \u001b[38;5;241m=\u001b[39m inspiration\n\u001b[1;32m     82\u001b[0m \u001b[38;5;28mself\u001b[39m\u001b[38;5;241m.\u001b[39m_name_attr \u001b[38;5;241m=\u001b[39m name_attr\n\u001b[0;32m---> 84\u001b[0m \u001b[38;5;28mself\u001b[39m\u001b[38;5;241m.\u001b[39mupdate_annotations()\n",
      "File \u001b[0;32m~/dev/chodera/dgym/dgym/molecule.py:163\u001b[0m, in \u001b[0;36mMolecule.update_annotations\u001b[0;34m(self, other_annotations)\u001b[0m\n\u001b[1;32m    161\u001b[0m \u001b[38;5;28;01mdef\u001b[39;00m \u001b[38;5;21mupdate_annotations\u001b[39m(\u001b[38;5;28mself\u001b[39m, other_annotations: Optional[\u001b[38;5;28mdict\u001b[39m] \u001b[38;5;241m=\u001b[39m \u001b[38;5;28;01mNone\u001b[39;00m) \u001b[38;5;241m-\u001b[39m\u001b[38;5;241m>\u001b[39m Any:\n\u001b[1;32m    162\u001b[0m \u001b[38;5;250m    \u001b[39m\u001b[38;5;124;03m\"\"\"Update annotations.\"\"\"\u001b[39;00m\n\u001b[0;32m--> 163\u001b[0m     \u001b[38;5;28mself\u001b[39m\u001b[38;5;241m.\u001b[39mannotations\u001b[38;5;241m.\u001b[39mupdate(\u001b[38;5;28mself\u001b[39m\u001b[38;5;241m.\u001b[39mmol\u001b[38;5;241m.\u001b[39mGetPropsAsDict())\n\u001b[1;32m    165\u001b[0m     \u001b[38;5;66;03m# Update immutable properties\u001b[39;00m\n\u001b[1;32m    166\u001b[0m     \u001b[38;5;28;01mif\u001b[39;00m \u001b[38;5;124m'\u001b[39m\u001b[38;5;124msmiles\u001b[39m\u001b[38;5;124m'\u001b[39m \u001b[38;5;129;01mnot\u001b[39;00m \u001b[38;5;129;01min\u001b[39;00m \u001b[38;5;28mself\u001b[39m\u001b[38;5;241m.\u001b[39mannotations:\n",
      "\u001b[0;31mAttributeError\u001b[0m: 'NoneType' object has no attribute 'GetPropsAsDict'"
     ]
    }
   ],
   "source": [
    "designer.design(observations[7], strategy='grow')"
   ]
  },
  {
   "cell_type": "code",
   "execution_count": 154,
   "id": "d5d51f43-8240-4fb6-af01-e28508ffaecf",
   "metadata": {
    "tags": []
   },
   "outputs": [],
   "source": [
    "import numpy as np\n",
    "sort = np.argsort(drug_env.utility_function(observations.tested, use_precomputed=True, method='average'))"
   ]
  },
  {
   "cell_type": "code",
   "execution_count": 171,
   "id": "41125930-9909-4137-8c56-49dd380aeb92",
   "metadata": {
    "tags": []
   },
   "outputs": [
    {
     "name": "stdout",
     "output_type": "stream",
     "text": [
      "[\n",
      "    {\n",
      "        \"name\": \"design\",\n",
      "        \"batch_size\": 5,\n",
      "        \"parameters\": {\n",
      "            \"temperature\": 1.0,\n",
      "            \"size\": 8\n",
      "        }\n",
      "    },\n",
      "    {\n",
      "        \"name\": \"Noisy ABL1 pIC50\",\n",
      "        \"batch_size\": 40,\n",
      "        \"parameters\": {}\n",
      "    },\n",
      "    {\n",
      "        \"name\": \"Noisy Log S\",\n",
      "        \"batch_size\": 40,\n",
      "        \"parameters\": {}\n",
      "    },\n",
      "    {\n",
      "        \"name\": \"Noisy Log P\",\n",
      "        \"batch_size\": 40,\n",
      "        \"parameters\": {}\n",
      "    },\n",
      "    {\n",
      "        \"name\": \"make\",\n",
      "        \"batch_size\": 40,\n",
      "        \"parameters\": {}\n",
      "    },\n",
      "    {\n",
      "        \"name\": \"ABL1 pIC50\",\n",
      "        \"batch_size\": 40,\n",
      "        \"parameters\": {}\n",
      "    },\n",
      "    {\n",
      "        \"name\": \"Log S\",\n",
      "        \"batch_size\": 40,\n",
      "        \"parameters\": {}\n",
      "    },\n",
      "    {\n",
      "        \"name\": \"Log P\",\n",
      "        \"batch_size\": 40,\n",
      "        \"parameters\": {}\n",
      "    }\n",
      "]\n"
     ]
    }
   ],
   "source": [
    "print(json.dumps(sequence, indent=4))"
   ]
  }
 ],
 "metadata": {
  "kernelspec": {
   "display_name": "Python 3 (ipykernel)",
   "language": "python",
   "name": "python3"
  },
  "language_info": {
   "codemirror_mode": {
    "name": "ipython",
    "version": 3
   },
   "file_extension": ".py",
   "mimetype": "text/x-python",
   "name": "python",
   "nbconvert_exporter": "python",
   "pygments_lexer": "ipython3",
   "version": "3.11.5"
  }
 },
 "nbformat": 4,
 "nbformat_minor": 5
}
