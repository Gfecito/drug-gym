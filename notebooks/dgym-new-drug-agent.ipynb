{
 "cells": [
  {
   "cell_type": "markdown",
   "id": "bf578967-8741-49c0-b202-4641c1282e7c",
   "metadata": {},
   "source": [
    "# Testing DrugAgent and DrugEnv APIs"
   ]
  },
  {
   "cell_type": "markdown",
   "id": "0e30b740-49b2-4b5a-b87e-b94bd2a031d5",
   "metadata": {},
   "source": [
    "Load data."
   ]
  },
  {
   "cell_type": "code",
   "execution_count": 10,
   "id": "22e58bb4-098f-499b-92f9-b390d6d6540a",
   "metadata": {
    "tags": []
   },
   "outputs": [],
   "source": [
    "%reload_ext autoreload\n",
    "%autoreload 2\n",
    "import warnings\n",
    "warnings.filterwarnings('ignore') \n",
    "\n",
    "import rdkit\n",
    "import dgym as dg\n",
    "\n",
    "# load all data\n",
    "path = '../../dgym-data'\n",
    "\n",
    "deck = dg.MoleculeCollection.load(\n",
    "    f'{path}/DSi-Poised_Library_annotated.sdf',\n",
    "    reactant_names=['reagsmi1', 'reagsmi2', 'reagsmi3']\n",
    ")\n",
    "\n",
    "reactions = dg.ReactionCollection.from_json(\n",
    "    path = f'{path}/All_Rxns_rxn_library_sorted.json',\n",
    "    smarts_col = 'reaction_string',\n",
    "    classes_col = 'functional_groups'\n",
    ")\n",
    "\n",
    "building_blocks = dg.datasets.disk_loader(f'{path}/Enamine_Building_Blocks_Stock_262336cmpd_20230630.sdf')\n",
    "fingerprints = dg.datasets.fingerprints(f'{path}/Enamine_Building_Blocks_Stock_262336cmpd_20230630_atoms.fpb')\n",
    "\n",
    "import torch\n",
    "import pyarrow.parquet as pq\n",
    "table = pq.read_table('../../dgym-data/sizes.parquet')[0]\n",
    "sizes = torch.tensor(table.to_numpy())"
   ]
  },
  {
   "cell_type": "markdown",
   "id": "87fdc8b9-6124-4619-80a8-5df068535f32",
   "metadata": {},
   "source": [
    "Load assays and utility functions."
   ]
  },
  {
   "cell_type": "code",
   "execution_count": 13,
   "id": "b7a22a23-125c-4112-a38a-416b8d53646d",
   "metadata": {
    "tags": []
   },
   "outputs": [],
   "source": [
    "import os\n",
    "\n",
    "def get_tcp_objectives():\n",
    "\n",
    "    dockstring_dir = f'{path}/dockstring_targets/'\n",
    "    files = os.listdir(dockstring_dir)\n",
    "    configs = sorted([f for f in files if 'conf' in f])\n",
    "    targets = sorted([f for f in files if 'target' in f])\n",
    "\n",
    "    idx = 0\n",
    "    with open(dockstring_dir + configs[idx], 'r') as f:\n",
    "        config_ = f.readlines()\n",
    "        config_ = [c.replace('\\n', '') for c in config_]\n",
    "        config_ = [c.split(' = ') for c in config_ if c]\n",
    "        config_ = {c[0]: float(c[1]) for c in config_}\n",
    "\n",
    "    target = targets[idx]\n",
    "    name = target.split('_')[0]\n",
    "\n",
    "    config_.update({\n",
    "        'size_x': 22.5,\n",
    "        'size_y': 22.5,\n",
    "        'size_z': 22.5,\n",
    "    })\n",
    "\n",
    "    from dgym.envs.oracle import \\\n",
    "        DockingOracle, CatBoostOracle, RDKitOracle, NoisyOracle\n",
    "    from dgym.envs.utility import ClassicUtilityFunction\n",
    "\n",
    "    config = {\n",
    "        'search_mode': 'detailed',\n",
    "        'scoring': 'vina',\n",
    "        'seed': 5,\n",
    "        **config_\n",
    "    }\n",
    "\n",
    "    pIC50_oracle = DockingOracle(\n",
    "        f'{name} affinity',\n",
    "        receptor_path=f'{path}/dockstring_targets/{name}_target.pdbqt',\n",
    "        config=config\n",
    "    )\n",
    "    log_P_oracle = RDKitOracle('MolLogP')\n",
    "    log_S_oracle = CatBoostOracle(\n",
    "        'Log S', path='../dgym/envs/models/aqsolcb.model')\n",
    "    \n",
    "    return pIC50_oracle, log_P_oracle, log_S_oracle\n",
    "\n",
    "# Get objectives\n",
    "pIC50_oracle, log_P_oracle, log_S_oracle = get_tcp_objectives()\n",
    "\n",
    "# Define utility functions\n",
    "pIC50_utility_agent = pIC50_utility_env = ClassicUtilityFunction(\n",
    "    pIC50_oracle, ideal=(9.5, 13), acceptable=(8, 13))\n",
    "log_P_utility_agent = log_P_utility_env = ClassicUtilityFunction(\n",
    "    log_P_oracle, ideal=(0.5, 1.85), acceptable=(-0.5, 3.5))\n",
    "log_S_utility_agent = log_S_utility_env = ClassicUtilityFunction(\n",
    "    log_S_oracle, ideal=(-3, 1), acceptable=(-4, 1))\n",
    "\n",
    "# Environment tolerates acceptable ADMET\n",
    "log_P_utility_env.ideal = log_P_utility_env.acceptable\n",
    "log_S_utility_env.ideal = log_S_utility_agent.acceptable\n",
    "\n",
    "# Assemble assays and surrogate models\n",
    "assays = [\n",
    "    pIC50_oracle,\n",
    "    log_P_oracle,\n",
    "    log_S_oracle,\n",
    "    pIC50_oracle.surrogate(sigma=1.0),\n",
    "    log_P_oracle.surrogate(sigma=1.0),\n",
    "    log_S_oracle.surrogate(sigma=1.0),\n",
    "]\n",
    "\n",
    "utility_agent = [\n",
    "    pIC50_utility_agent,\n",
    "    log_P_utility_agent,\n",
    "    log_S_utility_agent\n",
    "]\n",
    "\n",
    "utility_env = [\n",
    "    pIC50_utility_env,\n",
    "    log_P_utility_env,\n",
    "    log_S_utility_env,\n",
    "]"
   ]
  }
 ],
 "metadata": {
  "kernelspec": {
   "display_name": "Python 3 (ipykernel)",
   "language": "python",
   "name": "python3"
  },
  "language_info": {
   "codemirror_mode": {
    "name": "ipython",
    "version": 3
   },
   "file_extension": ".py",
   "mimetype": "text/x-python",
   "name": "python",
   "nbconvert_exporter": "python",
   "pygments_lexer": "ipython3",
   "version": "3.11.5"
  }
 },
 "nbformat": 4,
 "nbformat_minor": 5
}
