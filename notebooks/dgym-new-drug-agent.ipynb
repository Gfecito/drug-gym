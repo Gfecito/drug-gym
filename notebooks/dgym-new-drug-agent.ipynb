{
 "cells": [
  {
   "cell_type": "markdown",
   "id": "bf578967-8741-49c0-b202-4641c1282e7c",
   "metadata": {},
   "source": [
    "# Testing DrugAgent and DrugEnv APIs"
   ]
  },
  {
   "cell_type": "markdown",
   "id": "0e30b740-49b2-4b5a-b87e-b94bd2a031d5",
   "metadata": {},
   "source": [
    "Load data."
   ]
  },
  {
   "cell_type": "code",
   "execution_count": 1,
   "id": "22e58bb4-098f-499b-92f9-b390d6d6540a",
   "metadata": {
    "tags": []
   },
   "outputs": [],
   "source": [
    "%reload_ext autoreload\n",
    "%autoreload 2\n",
    "import warnings\n",
    "warnings.filterwarnings('ignore') \n",
    "\n",
    "import rdkit\n",
    "import dgym as dg\n",
    "\n",
    "# load all data\n",
    "path = '../../dgym-data'\n",
    "\n",
    "deck = dg.MoleculeCollection.load(\n",
    "    f'{path}/DSi-Poised_Library_annotated.sdf',\n",
    "    reactant_names=['reagsmi1', 'reagsmi2', 'reagsmi3']\n",
    ")\n",
    "\n",
    "reactions = dg.ReactionCollection.from_json(\n",
    "    path = f'{path}/All_Rxns_rxn_library_sorted.json',\n",
    "    smarts_col = 'reaction_string',\n",
    "    classes_col = 'functional_groups'\n",
    ")\n",
    "\n",
    "building_blocks = dg.datasets.disk_loader(f'{path}/Enamine_Building_Blocks_Stock_262336cmpd_20230630.sdf')\n",
    "fingerprints = dg.datasets.fingerprints(f'{path}/Enamine_Building_Blocks_Stock_262336cmpd_20230630_atoms.fpb')\n",
    "\n",
    "import torch\n",
    "import pyarrow.parquet as pq\n",
    "table = pq.read_table('../../dgym-data/sizes.parquet')[0]\n",
    "sizes = torch.tensor(table.to_numpy())"
   ]
  },
  {
   "cell_type": "markdown",
   "id": "87fdc8b9-6124-4619-80a8-5df068535f32",
   "metadata": {},
   "source": [
    "Load assays and utility functions."
   ]
  },
  {
   "cell_type": "code",
   "execution_count": 2,
   "id": "750653ce-6431-4dcb-abd8-cb0a6da39459",
   "metadata": {
    "tags": []
   },
   "outputs": [],
   "source": [
    "import os\n",
    "\n",
    "def get_tcp_objectives():\n",
    "\n",
    "    dockstring_dir = f'{path}/dockstring_targets/'\n",
    "    files = os.listdir(dockstring_dir)\n",
    "    configs = sorted([f for f in files if 'conf' in f])\n",
    "    targets = sorted([f for f in files if 'target' in f])\n",
    "\n",
    "    idx = 0\n",
    "    with open(dockstring_dir + configs[idx], 'r') as f:\n",
    "        config_ = f.readlines()\n",
    "        config_ = [c.replace('\\n', '') for c in config_]\n",
    "        config_ = [c.split(' = ') for c in config_ if c]\n",
    "        config_ = {c[0]: float(c[1]) for c in config_}\n",
    "\n",
    "    target = targets[idx]\n",
    "    name = target.split('_')[0]\n",
    "\n",
    "    config_.update({\n",
    "        'size_x': 22.5,\n",
    "        'size_y': 22.5,\n",
    "        'size_z': 22.5,\n",
    "    })\n",
    "\n",
    "    from dgym.envs.oracle import \\\n",
    "        DockingOracle, CatBoostOracle, RDKitOracle, NoisyOracle\n",
    "    from dgym.envs.utility import ClassicUtilityFunction\n",
    "\n",
    "    config = {\n",
    "        'search_mode': 'detailed',\n",
    "        'scoring': 'vina',\n",
    "        'seed': 5,\n",
    "        **config_\n",
    "    }\n",
    "\n",
    "    pIC50_oracle = DockingOracle(\n",
    "        f'{name} pIC50',\n",
    "        receptor_path=f'{path}/dockstring_targets/{name}_target.pdbqt',\n",
    "        config=config\n",
    "    )\n",
    "    log_P_oracle = RDKitOracle('Log P', descriptor='MolLogP')\n",
    "    log_S_oracle = CatBoostOracle(\n",
    "        'Log S', path='../dgym/envs/models/aqsolcb.model')\n",
    "    \n",
    "    return pIC50_oracle, log_P_oracle, log_S_oracle"
   ]
  },
  {
   "cell_type": "code",
   "execution_count": 3,
   "id": "b7a22a23-125c-4112-a38a-416b8d53646d",
   "metadata": {
    "tags": []
   },
   "outputs": [],
   "source": [
    "from dgym.envs.utility import ClassicUtilityFunction, MultipleUtilityFunction\n",
    "\n",
    "# Get objectives\n",
    "pIC50_oracle, log_P_oracle, log_S_oracle = get_tcp_objectives()\n",
    "\n",
    "# Define utility functions\n",
    "pIC50_utility = ClassicUtilityFunction(\n",
    "    pIC50_oracle, ideal=(9.5, 13), acceptable=(8, 13))\n",
    "log_P_utility = ClassicUtilityFunction(\n",
    "    log_P_oracle, ideal=(0.5, 1.85), acceptable=(-0.5, 3.5))\n",
    "log_S_utility = ClassicUtilityFunction(\n",
    "    log_S_oracle, ideal=(-3, 1), acceptable=(-4, 1))\n",
    "\n",
    "# Assemble assays and surrogate models\n",
    "assays = [\n",
    "    pIC50_oracle,\n",
    "    log_P_oracle,\n",
    "    log_S_oracle,\n",
    "    pIC50_oracle.surrogate(sigma=1.0),\n",
    "    log_P_oracle.surrogate(sigma=1.0),\n",
    "    log_S_oracle.surrogate(sigma=1.0),\n",
    "]\n",
    "\n",
    "# Environment tolerates acceptable ADMET\n",
    "from copy import deepcopy\n",
    "utility_agent = MultipleUtilityFunction(\n",
    "    utility_functions = [pIC50_utility, log_P_utility, log_S_utility],\n",
    "    weights = [0.8, 0.1, 0.1]\n",
    ")\n",
    "utility_env = deepcopy(utility_agent)\n",
    "utility_env.utility_functions[1].ideal = utility_env.utility_functions[1].acceptable\n",
    "utility_env.utility_functions[2].ideal = utility_env.utility_functions[2].acceptable"
   ]
  },
  {
   "cell_type": "markdown",
   "id": "33c88781-ba5b-4e45-98ea-8e25a4639eac",
   "metadata": {},
   "source": [
    "Instantiate designer."
   ]
  },
  {
   "cell_type": "code",
   "execution_count": 4,
   "id": "80f19092-150e-4fb7-87d6-e1c203aa721b",
   "metadata": {
    "tags": []
   },
   "outputs": [],
   "source": [
    "from dgym.envs.designer import Designer, Generator\n",
    "\n",
    "designer = Designer(\n",
    "    Generator(building_blocks, fingerprints, sizes),\n",
    "    reactions,\n",
    "    cache = True\n",
    ")"
   ]
  },
  {
   "cell_type": "markdown",
   "id": "01233a8b-8f11-481b-8154-08b9e234c01d",
   "metadata": {},
   "source": [
    "Pick 5 random starting hits."
   ]
  },
  {
   "cell_type": "code",
   "execution_count": 136,
   "id": "8fcc0795-ebaa-42de-ac4b-dec137e9fc22",
   "metadata": {
    "tags": []
   },
   "outputs": [],
   "source": [
    "# select first molecule\n",
    "import random\n",
    "def select_molecule(deck):\n",
    "    initial_index = random.randint(0, len(deck) - 1)\n",
    "    initial_molecule = deck[initial_index]\n",
    "    if len(initial_molecule.reactants) == 2 \\\n",
    "        and designer.match_reactions(initial_molecule):\n",
    "        return initial_molecule\n",
    "    else:\n",
    "        return select_molecule(deck)\n",
    "\n",
    "initial_molecules = [select_molecule(deck) for _ in range(5)]\n",
    "library = dg.MoleculeCollection(initial_molecules).update_annotations()"
   ]
  },
  {
   "cell_type": "markdown",
   "id": "150be54d-31a4-4287-bb31-abcde4e6abc0",
   "metadata": {
    "tags": []
   },
   "source": [
    "Instantiate Environment and Agent."
   ]
  },
  {
   "cell_type": "code",
   "execution_count": 139,
   "id": "7e6d8a3a-1c83-4dde-82ea-d56a04ca1724",
   "metadata": {
    "tags": []
   },
   "outputs": [],
   "source": [
    "from dgym.envs import DrugEnv\n",
    "from dgym.agents import SequentialDrugAgent\n",
    "from dgym.agents.exploration import EpsilonGreedy\n",
    "\n",
    "drug_env = DrugEnv(\n",
    "    designer = designer,\n",
    "    library = library,\n",
    "    assays = assays,\n",
    "    utility_function = utility_env\n",
    ")\n",
    "\n",
    "sequence = [{\n",
    "    'name': 'design',\n",
    "    'batch_size': 5,\n",
    "    'parameters': {'temperature': 1.0, 'size': 8}\n",
    "}]\n",
    "\n",
    "for assay in [\n",
    "    'Noisy ABL1 pIC50', 'Noisy Log S', 'Noisy Log P',\n",
    "    'make',\n",
    "    'ABL1 pIC50', 'Log S', 'Log P'\n",
    "]:\n",
    "    sequence.append({'name': assay, 'batch_size': 40})\n",
    "\n",
    "drug_agent = SequentialDrugAgent(\n",
    "    sequence = sequence,\n",
    "    exploration_strategy = EpsilonGreedy(epsilon=0.0),\n",
    "    utility_function = utility_agent\n",
    ")"
   ]
  },
  {
   "cell_type": "code",
   "execution_count": null,
   "id": "49d35c3e-6e87-4199-9248-a5aa2e5233f2",
   "metadata": {
    "tags": []
   },
   "outputs": [
    {
     "data": {
      "application/vnd.jupyter.widget-view+json": {
       "model_id": "db94d23abe5c4be8b72737168de2d196",
       "version_major": 2,
       "version_minor": 0
      },
      "text/plain": [
       "  0%|          | 0/100 [00:00<?, ?it/s]"
      ]
     },
     "metadata": {},
     "output_type": "display_data"
    },
    {
     "name": "stdout",
     "output_type": "stream",
     "text": [
      "-inf\n",
      "-inf\n",
      "-inf\n",
      "-inf\n",
      "-inf\n",
      "-inf\n",
      "-inf\n",
      "0.21471945819999025\n",
      "0.21471945819999025\n",
      "0.21471945819999025\n",
      "0.21471945819999025\n",
      "0.21471945819999025\n",
      "0.21471945819999025\n",
      "0.21471945819999025\n",
      "0.21471945819999025\n"
     ]
    }
   ],
   "source": [
    "import json\n",
    "from tqdm.notebook import tqdm\n",
    "\n",
    "drug_agent.reset()\n",
    "observations, _ = drug_env.reset()\n",
    "\n",
    "for _ in tqdm(range(100)):\n",
    "    action = drug_agent.act(observations)\n",
    "    observations, reward, truncated, terminated, _ = drug_env.step(action)\n",
    "    print(reward)"
   ]
  }
 ],
 "metadata": {
  "kernelspec": {
   "display_name": "Python 3 (ipykernel)",
   "language": "python",
   "name": "python3"
  },
  "language_info": {
   "codemirror_mode": {
    "name": "ipython",
    "version": 3
   },
   "file_extension": ".py",
   "mimetype": "text/x-python",
   "name": "python",
   "nbconvert_exporter": "python",
   "pygments_lexer": "ipython3",
   "version": "3.11.5"
  }
 },
 "nbformat": 4,
 "nbformat_minor": 5
}
