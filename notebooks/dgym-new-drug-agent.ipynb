{
 "cells": [
  {
   "cell_type": "markdown",
   "id": "bf578967-8741-49c0-b202-4641c1282e7c",
   "metadata": {},
   "source": [
    "# Testing DrugAgent and DrugEnv APIs"
   ]
  },
  {
   "cell_type": "markdown",
   "id": "0e30b740-49b2-4b5a-b87e-b94bd2a031d5",
   "metadata": {},
   "source": [
    "Load data."
   ]
  },
  {
   "cell_type": "code",
   "execution_count": 1,
   "id": "22e58bb4-098f-499b-92f9-b390d6d6540a",
   "metadata": {
    "tags": []
   },
   "outputs": [],
   "source": [
    "%reload_ext autoreload\n",
    "%autoreload 2\n",
    "import warnings\n",
    "warnings.filterwarnings('ignore') \n",
    "\n",
    "import rdkit\n",
    "import dgym as dg\n",
    "\n",
    "# load all data\n",
    "path = '../../dgym-data'\n",
    "\n",
    "deck = dg.MoleculeCollection.load(\n",
    "    f'{path}/DSi-Poised_Library_annotated.sdf',\n",
    "    reactant_names=['reagsmi1', 'reagsmi2', 'reagsmi3']\n",
    ")\n",
    "\n",
    "reactions = dg.ReactionCollection.from_json(\n",
    "    path = f'{path}/All_Rxns_rxn_library_sorted.json',\n",
    "    smarts_col = 'reaction_string',\n",
    "    classes_col = 'functional_groups'\n",
    ")\n",
    "\n",
    "building_blocks = dg.datasets.disk_loader(f'{path}/Enamine_Building_Blocks_Stock_262336cmpd_20230630.sdf')\n",
    "fingerprints = dg.datasets.fingerprints(f'{path}/Enamine_Building_Blocks_Stock_262336cmpd_20230630_atoms.fpb')\n",
    "\n",
    "import torch\n",
    "import pyarrow.parquet as pq\n",
    "table = pq.read_table('../../dgym-data/sizes.parquet')[0]\n",
    "sizes = torch.tensor(table.to_numpy())"
   ]
  },
  {
   "cell_type": "markdown",
   "id": "87fdc8b9-6124-4619-80a8-5df068535f32",
   "metadata": {},
   "source": [
    "Load assays and utility functions."
   ]
  },
  {
   "cell_type": "code",
   "execution_count": 2,
   "id": "750653ce-6431-4dcb-abd8-cb0a6da39459",
   "metadata": {
    "tags": []
   },
   "outputs": [],
   "source": [
    "import os\n",
    "\n",
    "def get_tcp_objectives():\n",
    "\n",
    "    dockstring_dir = f'{path}/dockstring_targets/'\n",
    "    files = os.listdir(dockstring_dir)\n",
    "    configs = sorted([f for f in files if 'conf' in f])\n",
    "    targets = sorted([f for f in files if 'target' in f])\n",
    "\n",
    "    idx = 0\n",
    "    with open(dockstring_dir + configs[idx], 'r') as f:\n",
    "        config_ = f.readlines()\n",
    "        config_ = [c.replace('\\n', '') for c in config_]\n",
    "        config_ = [c.split(' = ') for c in config_ if c]\n",
    "        config_ = {c[0]: float(c[1]) for c in config_}\n",
    "\n",
    "    target = targets[idx]\n",
    "    name = target.split('_')[0]\n",
    "\n",
    "    config_.update({\n",
    "        'size_x': 22.5,\n",
    "        'size_y': 22.5,\n",
    "        'size_z': 22.5,\n",
    "    })\n",
    "\n",
    "    from dgym.envs.oracle import \\\n",
    "        DockingOracle, CatBoostOracle, RDKitOracle, NoisyOracle\n",
    "    from dgym.envs.utility import ClassicUtilityFunction\n",
    "\n",
    "    config = {\n",
    "        'search_mode': 'detailed',\n",
    "        'scoring': 'vina',\n",
    "        'seed': 5,\n",
    "        **config_\n",
    "    }\n",
    "\n",
    "    pIC50_oracle = DockingOracle(\n",
    "        f'{name} pIC50',\n",
    "        receptor_path=f'{path}/dockstring_targets/{name}_target.pdbqt',\n",
    "        config=config\n",
    "    )\n",
    "    log_P_oracle = RDKitOracle('Log P', descriptor='MolLogP')\n",
    "    log_S_oracle = CatBoostOracle(\n",
    "        'Log S', path='../dgym/envs/models/aqsolcb.model')\n",
    "    \n",
    "    return pIC50_oracle, log_P_oracle, log_S_oracle"
   ]
  },
  {
   "cell_type": "code",
   "execution_count": 3,
   "id": "b7a22a23-125c-4112-a38a-416b8d53646d",
   "metadata": {
    "tags": []
   },
   "outputs": [],
   "source": [
    "from dgym.envs.utility import ClassicUtilityFunction, MultipleUtilityFunction\n",
    "\n",
    "# Get objectives\n",
    "pIC50_oracle, log_P_oracle, log_S_oracle = get_tcp_objectives()\n",
    "\n",
    "# Define utility functions\n",
    "pIC50_utility = ClassicUtilityFunction(\n",
    "    pIC50_oracle, ideal=(9.5, 13), acceptable=(8, 13))\n",
    "log_P_utility = ClassicUtilityFunction(\n",
    "    log_P_oracle, ideal=(0.5, 1.85), acceptable=(-0.5, 3.5))\n",
    "log_S_utility = ClassicUtilityFunction(\n",
    "    log_S_oracle, ideal=(-3, 1), acceptable=(-4, 1))\n",
    "\n",
    "# Assemble assays and surrogate models\n",
    "assays = [\n",
    "    pIC50_oracle,\n",
    "    log_P_oracle,\n",
    "    log_S_oracle,\n",
    "    pIC50_oracle.surrogate(sigma=1.0),\n",
    "    log_P_oracle.surrogate(sigma=1.0),\n",
    "    log_S_oracle.surrogate(sigma=1.0),\n",
    "]\n",
    "\n",
    "# Environment tolerates acceptable ADMET\n",
    "from copy import deepcopy\n",
    "utility_agent = MultipleUtilityFunction(\n",
    "    utility_functions = [pIC50_utility, log_P_utility, log_S_utility],\n",
    "    weights = [0.8, 0.1, 0.1]\n",
    ")\n",
    "utility_env = deepcopy(utility_agent)\n",
    "utility_env.utility_functions[1].ideal = utility_env.utility_functions[1].acceptable\n",
    "utility_env.utility_functions[2].ideal = utility_env.utility_functions[2].acceptable"
   ]
  },
  {
   "cell_type": "markdown",
   "id": "33c88781-ba5b-4e45-98ea-8e25a4639eac",
   "metadata": {},
   "source": [
    "Instantiate designer."
   ]
  },
  {
   "cell_type": "code",
   "execution_count": 4,
   "id": "80f19092-150e-4fb7-87d6-e1c203aa721b",
   "metadata": {
    "tags": []
   },
   "outputs": [],
   "source": [
    "from dgym.envs.designer import Designer, Generator\n",
    "\n",
    "designer = Designer(\n",
    "    Generator(building_blocks, fingerprints, sizes),\n",
    "    reactions,\n",
    "    cache = True\n",
    ")"
   ]
  },
  {
   "cell_type": "markdown",
   "id": "01233a8b-8f11-481b-8154-08b9e234c01d",
   "metadata": {},
   "source": [
    "Pick 5 random starting hits."
   ]
  },
  {
   "cell_type": "code",
   "execution_count": 5,
   "id": "8fcc0795-ebaa-42de-ac4b-dec137e9fc22",
   "metadata": {
    "tags": []
   },
   "outputs": [],
   "source": [
    "# select first molecule\n",
    "import random\n",
    "def select_molecule(deck):\n",
    "    initial_index = random.randint(0, len(deck) - 1)\n",
    "    initial_molecule = deck[initial_index]\n",
    "    if len(initial_molecule.reactants) == 2 \\\n",
    "        and designer.match_reactions(initial_molecule):\n",
    "        return initial_molecule\n",
    "    else:\n",
    "        return select_molecule(deck)\n",
    "\n",
    "initial_molecules = [select_molecule(deck) for _ in range(5)]\n",
    "library = dg.MoleculeCollection(initial_molecules).update_annotations()"
   ]
  },
  {
   "cell_type": "markdown",
   "id": "150be54d-31a4-4287-bb31-abcde4e6abc0",
   "metadata": {
    "tags": []
   },
   "source": [
    "Instantiate Environment and Agent."
   ]
  },
  {
   "cell_type": "code",
   "execution_count": 6,
   "id": "7e6d8a3a-1c83-4dde-82ea-d56a04ca1724",
   "metadata": {
    "tags": []
   },
   "outputs": [],
   "source": [
    "from dgym.envs import DrugEnv\n",
    "from dgym.agents import SequentialDrugAgent\n",
    "from dgym.agents.exploration import EpsilonGreedy\n",
    "\n",
    "drug_env = DrugEnv(\n",
    "    designer = designer,\n",
    "    library = library,\n",
    "    assays = assays,\n",
    "    utility_function = utility_env\n",
    ")\n",
    "\n",
    "# Construct sequence\n",
    "design_grow = {'name': 'design', 'batch_size': 5, 'parameters': {'temperature': 1.0, 'strategy': 'grow', 'size': 8}}\n",
    "design_replace = {'name': 'design', 'batch_size': 5, 'parameters': {'temperature': 1.0, 'strategy': 'replace', 'size': 8}}\n",
    "\n",
    "make = {'name': 'make', 'batch_size': 8}\n",
    "test = {'name': ['ABL1 pIC50', 'Log S', 'Log P'], 'batch_size': 8}\n",
    "test_surrogate = {'name': ['Noisy ABL1 pIC50', 'Noisy Log S', 'Noisy Log P'], 'batch_size': 40}\n",
    "design_and_score = [design_replace, test_surrogate]\n",
    "\n",
    "sequence = [*(design_and_score * 1), design_grow, test_surrogate, make, test]\n",
    "\n",
    "drug_agent = SequentialDrugAgent(\n",
    "    sequence = sequence,\n",
    "    exploration_strategy = EpsilonGreedy(epsilon=0.0),\n",
    "    utility_function = utility_agent\n",
    ")"
   ]
  },
  {
   "cell_type": "code",
   "execution_count": 8,
   "id": "a0405181-b818-423f-b2a3-73d9c3916b2b",
   "metadata": {
    "tags": []
   },
   "outputs": [],
   "source": [
    "def display_best():\n",
    "    import numpy as np\n",
    "    utilities = drug_env.utility_function(\n",
    "        observations, use_precomputed=True, method='average')\n",
    "    for obs, utility in zip(observations, utilities):\n",
    "        obs.update_annotations({'utility': utility})\n",
    "    tested = observations.tested\n",
    "    if tested:\n",
    "        best_tested = (\n",
    "            tested\n",
    "            .annotations\n",
    "            .sort_values('utility', ascending=False)\n",
    "            [['ABL1 pIC50', 'Log S', 'Log P', 'utility']]\n",
    "            .head()\n",
    "        )\n",
    "        display(best_tested)"
   ]
  },
  {
   "cell_type": "code",
   "execution_count": null,
   "id": "49d35c3e-6e87-4199-9248-a5aa2e5233f2",
   "metadata": {
    "tags": []
   },
   "outputs": [
    {
     "data": {
      "application/vnd.jupyter.widget-view+json": {
       "model_id": "c513205111cb49a98dc00057e645d0e4",
       "version_major": 2,
       "version_minor": 0
      },
      "text/plain": [
       "  0%|          | 0/200 [00:00<?, ?it/s]"
      ]
     },
     "metadata": {},
     "output_type": "display_data"
    },
    {
     "data": {
      "text/html": [
       "<div>\n",
       "<style scoped>\n",
       "    .dataframe tbody tr th:only-of-type {\n",
       "        vertical-align: middle;\n",
       "    }\n",
       "\n",
       "    .dataframe tbody tr th {\n",
       "        vertical-align: top;\n",
       "    }\n",
       "\n",
       "    .dataframe thead th {\n",
       "        text-align: right;\n",
       "    }\n",
       "</style>\n",
       "<table border=\"1\" class=\"dataframe\">\n",
       "  <thead>\n",
       "    <tr style=\"text-align: right;\">\n",
       "      <th></th>\n",
       "      <th>ABL1 pIC50</th>\n",
       "      <th>Log S</th>\n",
       "      <th>Log P</th>\n",
       "      <th>utility</th>\n",
       "    </tr>\n",
       "  </thead>\n",
       "  <tbody>\n",
       "    <tr>\n",
       "      <th>82</th>\n",
       "      <td>8.213558</td>\n",
       "      <td>-3.451054</td>\n",
       "      <td>3.4863</td>\n",
       "      <td>0.313897</td>\n",
       "    </tr>\n",
       "    <tr>\n",
       "      <th>45</th>\n",
       "      <td>7.560822</td>\n",
       "      <td>-3.694000</td>\n",
       "      <td>1.2445</td>\n",
       "      <td>-0.656988</td>\n",
       "    </tr>\n",
       "    <tr>\n",
       "      <th>78</th>\n",
       "      <td>7.774132</td>\n",
       "      <td>-4.785517</td>\n",
       "      <td>3.9757</td>\n",
       "      <td>-0.738778</td>\n",
       "    </tr>\n",
       "    <tr>\n",
       "      <th>41</th>\n",
       "      <td>7.418125</td>\n",
       "      <td>-3.940072</td>\n",
       "      <td>2.2354</td>\n",
       "      <td>-1.001864</td>\n",
       "    </tr>\n",
       "    <tr>\n",
       "      <th>74</th>\n",
       "      <td>7.724864</td>\n",
       "      <td>-4.037493</td>\n",
       "      <td>5.4112</td>\n",
       "      <td>-1.255925</td>\n",
       "    </tr>\n",
       "  </tbody>\n",
       "</table>\n",
       "</div>"
      ],
      "text/plain": [
       "    ABL1 pIC50     Log S   Log P   utility\n",
       "82    8.213558 -3.451054  3.4863  0.313897\n",
       "45    7.560822 -3.694000  1.2445 -0.656988\n",
       "78    7.774132 -4.785517  3.9757 -0.738778\n",
       "41    7.418125 -3.940072  2.2354 -1.001864\n",
       "74    7.724864 -4.037493  5.4112 -1.255925"
      ]
     },
     "metadata": {},
     "output_type": "display_data"
    }
   ],
   "source": [
    "import json\n",
    "from tqdm.notebook import tqdm\n",
    "\n",
    "drug_agent.reset()\n",
    "observations, _ = drug_env.reset()\n",
    "for step in tqdm(range(200)):\n",
    "    action = drug_agent.act(observations)\n",
    "    observations, reward, truncated, terminated, _ = drug_env.step(action)\n",
    "    if step % len(drug_agent.sequence) == 0:\n",
    "        display_best()"
   ]
  }
 ],
 "metadata": {
  "kernelspec": {
   "display_name": "Python 3 (ipykernel)",
   "language": "python",
   "name": "python3"
  },
  "language_info": {
   "codemirror_mode": {
    "name": "ipython",
    "version": 3
   },
   "file_extension": ".py",
   "mimetype": "text/x-python",
   "name": "python",
   "nbconvert_exporter": "python",
   "pygments_lexer": "ipython3",
   "version": "3.11.5"
  }
 },
 "nbformat": 4,
 "nbformat_minor": 5
}
