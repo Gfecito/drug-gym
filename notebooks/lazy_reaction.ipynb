{
 "cells": [
  {
   "cell_type": "markdown",
   "id": "8bca4e9c-3dc7-4ad4-b153-229d62442b02",
   "metadata": {},
   "source": [
    "# Creating a lazy-loading reaction."
   ]
  },
  {
   "cell_type": "code",
   "execution_count": 121,
   "id": "dfe179e7-9cef-4788-b395-9de15a2c0e26",
   "metadata": {
    "tags": []
   },
   "outputs": [],
   "source": [
    "import rdkit\n",
    "from dgym.molecule import Molecule\n",
    "from typing import Optional, List, Union, Any\n",
    "import itertools\n",
    "from rdkit.Chem.rdChemReactions import ChemicalReaction\n",
    "from rdkit import Chem\n",
    "import random\n",
    "import dgym as dg"
   ]
  },
  {
   "cell_type": "code",
   "execution_count": 122,
   "id": "57414e03-f3c3-4c91-9a51-80bc3c8a7170",
   "metadata": {
    "tags": []
   },
   "outputs": [],
   "source": [
    "reactions = dg.ReactionCollection.from_json(\n",
    "    path = f'../../dgym-data/All_Rxns_rxn_library.json',\n",
    "    smarts_col = 'reaction_string',\n",
    "    classes_col = 'functional_groups'\n",
    ")\n",
    "\n",
    "deck = dg.MoleculeCollection.load(\n",
    "    f'../../dgym-data/DSi-Poised_Library_annotated.sdf',\n",
    "    reactant_names=['reagsmi1', 'reagsmi2', 'reagsmi3']\n",
    ")"
   ]
  },
  {
   "cell_type": "code",
   "execution_count": 306,
   "id": "b7f46194-5497-46fe-af9a-acc6b186f9f3",
   "metadata": {
    "tags": []
   },
   "outputs": [],
   "source": [
    "import inspect\n",
    "\n",
    "class LazyReaction:\n",
    "    \n",
    "    def __init__(\n",
    "        self,\n",
    "        template: Union[str, ChemicalReaction],\n",
    "        metadata: Optional[dict] = None,\n",
    "        id: Optional[str] = None\n",
    "    ) -> None:\n",
    "        \"\"\"\n",
    "        Parameters\n",
    "        ----------\n",
    "        template : rdkit.Chem.rdChemReactions.ChemicalReaction\n",
    "            An rdkit reaction template.\n",
    "        \"\"\"\n",
    "        if isinstance(template, str):\n",
    "            template = rdkit.Chem.AllChem.ReactionFromSmarts(template)\n",
    "\n",
    "        self.id = id\n",
    "        self.template = template\n",
    "        self.products = list(template.GetProducts())\n",
    "        self.agents = list(template.GetAgents())\n",
    "        self.reactants = list(template.GetReactants())\n",
    "        self.metadata = metadata\n",
    "    \n",
    "    def run(self, reagents, sanitize=True):\n",
    "        \n",
    "        # If any of the reagents are generators\n",
    "        if any(inspect.isgenerator(r) for r in reagents):\n",
    "            \n",
    "            # Convert ordinary reagents to infinite generators\n",
    "            sequences = [\n",
    "                itertools.repeat(x)\n",
    "                if not inspect.isgenerator(x) else x\n",
    "                for x in reagents\n",
    "            ]\n",
    "\n",
    "            # Run reactants lazily\n",
    "            for combination in zip(*sequences):\n",
    "                yield from self.run_single_step(combination, sanitize)\n",
    "        else:\n",
    "            yield from self.run_single_step(reagents, sanitize)\n",
    "        \n",
    "    def run_single_step(self, reagents, sanitize=True):\n",
    "        reagents = [r.mol if isinstance(r, Molecule) else r for r in reagents]\n",
    "        output = self.template.RunReactants(reagents)\n",
    "        lazy_output = self.parse_output(output, reagents, sanitize = sanitize)\n",
    "        return lazy_output\n",
    "        \n",
    "    def parse_output(self, output, reactants, sanitize=True):\n",
    "        output = self.flatten_and_randomize(output)\n",
    "        cache = set()\n",
    "        for product in output:\n",
    "            if product := self.sanitize(product):\n",
    "                yield Molecule(product, reaction = self, reactants = reactants)\n",
    "            else:\n",
    "                continue\n",
    "                \n",
    "    @staticmethod\n",
    "    def flatten_and_randomize(nested_tuples, randomize=True):\n",
    "        flattened_items = []\n",
    "        for item in nested_tuples:\n",
    "            if isinstance(item, tuple):\n",
    "                flattened_items.extend(item)\n",
    "            else:\n",
    "                flattened_items.append(item)\n",
    "\n",
    "        random.shuffle(flattened_items)\n",
    "        for item in flattened_items:\n",
    "            yield item\n",
    "        \n",
    "    def sanitize(self, mol):\n",
    "        smiles = Chem.MolToSmiles(mol)\n",
    "        product = Chem.MolFromSmiles(smiles)\n",
    "        return product\n",
    "    \n",
    "    def _repr_png_(self):\n",
    "        return self.template._repr_png_()"
   ]
  },
  {
   "cell_type": "code",
   "execution_count": 307,
   "id": "dc1525e7-7795-4190-b94c-a05c357de2d0",
   "metadata": {
    "tags": []
   },
   "outputs": [],
   "source": [
    "multi_step_molecule = Molecule(\n",
    "    'O=C(c1ccnnc1)N(c1ccc2ncccc2c1)c1cnn(-c2c(Cl)cc(C(F)(C(F)(F)F)C(F)(F)F)cc2Cl)c1',\n",
    "    reaction = reactions['18_Halide_and_Amine'][0],\n",
    "    reactants = [\n",
    "        Molecule('FC(F)(F)C(F)(c1cc(Cl)c(-n2cc(I)cn2)c(Cl)c1)C(F)(F)F'),\n",
    "        Molecule('O=C(Nc1ccc2ncccc2c1)c1ccnnc1',\n",
    "                 reaction = reactions['13_Carboxylate_and_Amine'][0],\n",
    "                 reactants = [Molecule('O=C(O)c1ccnnc1'), Molecule('Nc1ccc2ncccc2c1')]\n",
    "        )\n",
    "    ]\n",
    ")"
   ]
  },
  {
   "cell_type": "code",
   "execution_count": 308,
   "id": "b9894a9a-cf5b-4932-99a2-d74c88084631",
   "metadata": {
    "tags": []
   },
   "outputs": [],
   "source": [
    "molecule = Molecule(\n",
    "    'O=C(Nc1ccc2ncccc2c1)c1ccnnc1',\n",
    "    reaction = reactions['13_Carboxylate_and_Amine'][0],\n",
    "    reactants = [Molecule('O=C(O)c1ccnnc1'), Molecule('Nc1ccc2ncccc2c1')]\n",
    ")\n",
    "\n",
    "r = LazyReaction(reactions['13_Carboxylate_and_Amine'][0].template)\n",
    "\n",
    "product = r.run(molecule.reactants)"
   ]
  },
  {
   "cell_type": "code",
   "execution_count": 309,
   "id": "f76253db-c92d-4a18-a2f5-eb6b77216140",
   "metadata": {
    "tags": []
   },
   "outputs": [
    {
     "name": "stdout",
     "output_type": "stream",
     "text": [
      "CPU times: user 9.13 ms, sys: 0 ns, total: 9.13 ms\n",
      "Wall time: 9.66 ms\n"
     ]
    }
   ],
   "source": [
    "%%time\n",
    "multi_step_molecule = Molecule(\n",
    "    'O=C(c1ccnnc1)N(c1ccc2ncccc2c1)c1cnn(-c2c(Cl)cc(C(F)(C(F)(F)F)C(F)(F)F)cc2Cl)c1',\n",
    "    reaction = reactions['18_Halide_and_Amine'][0],\n",
    "    reactants = [\n",
    "        Molecule('FC(F)(F)C(F)(c1cc(Cl)c(-n2cc(I)cn2)c(Cl)c1)C(F)(F)F'),\n",
    "        product\n",
    "    ]\n",
    ")\n",
    "\n",
    "r = LazyReaction(reactions['18_Halide_and_Amine'][0].template)\n",
    "output = r.run(multi_step_molecule.reactants)\n",
    "result = list(output)"
   ]
  },
  {
   "cell_type": "code",
   "execution_count": 326,
   "id": "e7f3113e-0ba3-40e2-91ad-58bc0da36a51",
   "metadata": {
    "tags": []
   },
   "outputs": [
    {
     "data": {
      "text/plain": [
       "[<dgym.molecule.Molecule at 0x7f749af98150>,\n",
       " <dgym.molecule.Molecule at 0x7f749b502f50>]"
      ]
     },
     "execution_count": 326,
     "metadata": {},
     "output_type": "execute_result"
    }
   ],
   "source": [
    "result[2].reactants"
   ]
  }
 ],
 "metadata": {
  "kernelspec": {
   "display_name": "Python 3 (ipykernel)",
   "language": "python",
   "name": "python3"
  },
  "language_info": {
   "codemirror_mode": {
    "name": "ipython",
    "version": 3
   },
   "file_extension": ".py",
   "mimetype": "text/x-python",
   "name": "python",
   "nbconvert_exporter": "python",
   "pygments_lexer": "ipython3",
   "version": "3.11.5"
  }
 },
 "nbformat": 4,
 "nbformat_minor": 5
}
