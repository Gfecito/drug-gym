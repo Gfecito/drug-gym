{
 "cells": [
  {
   "cell_type": "markdown",
   "id": "8bca4e9c-3dc7-4ad4-b153-229d62442b02",
   "metadata": {},
   "source": [
    "# Creating a lazy-loading reaction."
   ]
  },
  {
   "cell_type": "markdown",
   "id": "44ffdc58-ccf9-4c8a-80ac-e0ef138d9244",
   "metadata": {},
   "source": [
    "Imports."
   ]
  },
  {
   "cell_type": "code",
   "execution_count": 29,
   "id": "dfe179e7-9cef-4788-b395-9de15a2c0e26",
   "metadata": {
    "tags": []
   },
   "outputs": [],
   "source": [
    "import rdkit\n",
    "from dgym.molecule import Molecule\n",
    "from typing import Optional, List, Union, Any\n",
    "import itertools\n",
    "from rdkit.Chem.rdChemReactions import ChemicalReaction\n",
    "from rdkit import Chem\n",
    "import random\n",
    "import dgym as dg"
   ]
  },
  {
   "cell_type": "markdown",
   "id": "790d6ccf-afd0-40e4-bf30-4c44348b0baa",
   "metadata": {},
   "source": [
    "Defining LazyReaction."
   ]
  },
  {
   "cell_type": "code",
   "execution_count": 529,
   "id": "b7f46194-5497-46fe-af9a-acc6b186f9f3",
   "metadata": {
    "tags": []
   },
   "outputs": [],
   "source": [
    "import inspect\n",
    "\n",
    "class LazyReaction:\n",
    "    \n",
    "    def __init__(\n",
    "        self,\n",
    "        template: Union[str, ChemicalReaction],\n",
    "        metadata: Optional[dict] = None,\n",
    "        id: Optional[str] = None\n",
    "    ) -> None:\n",
    "        \"\"\"\n",
    "        Parameters\n",
    "        ----------\n",
    "        template : rdkit.Chem.rdChemReactions.ChemicalReaction\n",
    "            An rdkit reaction template.\n",
    "        \"\"\"\n",
    "        if isinstance(template, str):\n",
    "            template = rdkit.Chem.AllChem.ReactionFromSmarts(template)\n",
    "\n",
    "        self.id = id\n",
    "        self.template = template\n",
    "        self.products = list(template.GetProducts())\n",
    "        self.agents = list(template.GetAgents())\n",
    "        self.reactants = list(template.GetReactants())\n",
    "        self.metadata = metadata\n",
    "    \n",
    "    def run(self, reagents, sanitize=True):\n",
    "        \n",
    "        # If any of the reagents are generators\n",
    "        if any(inspect.isgenerator(r) for r in reagents):\n",
    "            \n",
    "            # Convert ordinary reagents to infinite generators\n",
    "            sequences = [\n",
    "                itertools.repeat(x)\n",
    "                if not inspect.isgenerator(x) else x\n",
    "                for x in reagents\n",
    "            ]\n",
    "\n",
    "            # Run reactants lazily\n",
    "            for combination in zip(*sequences):\n",
    "                yield from self.run_single_step(combination, sanitize)\n",
    "        \n",
    "        else:\n",
    "            yield from self.run_single_step(reagents, sanitize)\n",
    "        \n",
    "    def run_single_step(self, reagents, sanitize=True):\n",
    "        mols = [r.mol if isinstance(r, Molecule) else r for r in reagents]\n",
    "        output = self.template.RunReactants(mols)\n",
    "        yield from self.parse_output(output, reagents, sanitize = sanitize)\n",
    "        \n",
    "    def parse_output(self, output, reactants, sanitize=True):\n",
    "        output = self.flatten_and_randomize(output)\n",
    "        cache = set()\n",
    "        for product in output:\n",
    "            if product := self.sanitize(product):\n",
    "                yield Molecule(product, reaction = self, reactants = reactants)\n",
    "            else:\n",
    "                continue\n",
    "\n",
    "    @staticmethod\n",
    "    def flatten_and_randomize(nested_tuples, randomize=True):\n",
    "        flattened_items = []\n",
    "        for item in nested_tuples:\n",
    "            if isinstance(item, tuple):\n",
    "                flattened_items.extend(item)\n",
    "            else:\n",
    "                flattened_items.append(item)\n",
    "\n",
    "        random.shuffle(flattened_items)\n",
    "        for item in flattened_items:\n",
    "            yield item\n",
    "        \n",
    "    def sanitize(self, mol):\n",
    "        smiles = Chem.MolToSmiles(mol)\n",
    "        product = Chem.MolFromSmiles(smiles)\n",
    "        return product\n",
    "    \n",
    "    def _repr_png_(self):\n",
    "        return self.template._repr_png_()\n",
    "    \n",
    "    def is_compatible(self, product = None, reactants = None):\n",
    "        \n",
    "        # Use reactants from product if none provided\n",
    "        if reactants is None:\n",
    "            reactants = product.reactants\n",
    "\n",
    "        # If neither product nor reactant are provided\n",
    "        if not product and not reactants:\n",
    "            return False\n",
    "\n",
    "        # If the length of reactants matches\n",
    "        if len(reactants) != len(self.reactants):\n",
    "            return False\n",
    "        \n",
    "        # If the identity of products match\n",
    "        for reactant_order in itertools.permutations(reactants):\n",
    "            if output := self.run(reactant_order):\n",
    "                if not product:\n",
    "                    return True\n",
    "                elif product:\n",
    "                    return any(\n",
    "                        product.smiles == o.smiles\n",
    "                        for o in output\n",
    "                    )\n",
    "\n",
    "        return False"
   ]
  },
  {
   "cell_type": "markdown",
   "id": "fe2e1dbc-a11e-4414-a758-670375c603ca",
   "metadata": {},
   "source": [
    "Importing the actual data structures."
   ]
  },
  {
   "cell_type": "code",
   "execution_count": 530,
   "id": "57414e03-f3c3-4c91-9a51-80bc3c8a7170",
   "metadata": {
    "tags": []
   },
   "outputs": [
    {
     "name": "stdout",
     "output_type": "stream",
     "text": [
      "load data\n"
     ]
    }
   ],
   "source": [
    "%reload_ext autoreload\n",
    "%autoreload 2\n",
    "\n",
    "import rdkit\n",
    "rdkit.Chem.Draw.IPythonConsole.ipython_maxProperties = -1\n",
    "\n",
    "import dgym as dg\n",
    "\n",
    "# load all data\n",
    "print('load data')\n",
    "path = '../../dgym-data'\n",
    "\n",
    "deck = dg.MoleculeCollection.load(\n",
    "    f'{path}/DSi-Poised_Library_annotated.sdf',\n",
    "    reactant_names=['reagsmi1', 'reagsmi2', 'reagsmi3']\n",
    ")\n",
    "\n",
    "reactions = dg.ReactionCollection.from_json(\n",
    "    path = f'{path}/All_Rxns_rxn_library.json',\n",
    "    smarts_col = 'reaction_string',\n",
    "    classes_col = 'functional_groups'\n",
    ")\n",
    "reactions = dg.collection.ReactionCollection([LazyReaction(r.template, id=r.id) for r in reactions])\n",
    "\n",
    "building_blocks = dg.datasets.disk_loader(f'{path}/Enamine_Building_Blocks_Stock_262336cmpd_20230630.sdf')\n",
    "fingerprints = dg.datasets.fingerprints(f'{path}/out/Enamine_Building_Blocks_Stock_262336cmpd_20230630_atoms.fpb')"
   ]
  },
  {
   "cell_type": "markdown",
   "id": "715a32b4-8453-44ea-a4c4-284762068358",
   "metadata": {},
   "source": [
    "Defining multi step molecule test-cases."
   ]
  },
  {
   "cell_type": "code",
   "execution_count": 531,
   "id": "dc1525e7-7795-4190-b94c-a05c357de2d0",
   "metadata": {},
   "outputs": [],
   "source": [
    "multi_step_molecule = Molecule(\n",
    "    'O=C(c1ccnnc1)N(c1ccc2ncccc2c1)c1cnn(-c2c(Cl)cc(C(F)(C(F)(F)F)C(F)(F)F)cc2Cl)c1',\n",
    "    reaction = reactions['18_Halide_and_Amine'][0],\n",
    "    reactants = [\n",
    "        Molecule('FC(F)(F)C(F)(c1cc(Cl)c(-n2cc(I)cn2)c(Cl)c1)C(F)(F)F'),\n",
    "        Molecule('O=C(Nc1ccc2ncccc2c1)c1ccnnc1',\n",
    "                 reaction = reactions['13_Carboxylate_and_Amine'][0],\n",
    "                 reactants = [Molecule('O=C(O)c1ccnnc1'), Molecule('Nc1ccc2ncccc2c1')]\n",
    "        )\n",
    "    ]\n",
    ")"
   ]
  },
  {
   "cell_type": "code",
   "execution_count": 532,
   "id": "b9894a9a-cf5b-4932-99a2-d74c88084631",
   "metadata": {
    "tags": []
   },
   "outputs": [],
   "source": [
    "molecule = Molecule(\n",
    "    'O=C(Nc1ccc2ncccc2c1)c1ccnnc1',\n",
    "    reaction = reactions['13_Carboxylate_and_Amine'][0],\n",
    "    reactants = [Molecule('O=C(O)c1ccnnc1'), Molecule('Nc1ccc2ncccc2c1')]\n",
    ")\n",
    "\n",
    "r = LazyReaction(reactions['13_Carboxylate_and_Amine'][0].template)\n",
    "\n",
    "product = r.run(molecule.reactants)"
   ]
  },
  {
   "cell_type": "code",
   "execution_count": 533,
   "id": "f76253db-c92d-4a18-a2f5-eb6b77216140",
   "metadata": {
    "tags": []
   },
   "outputs": [
    {
     "name": "stdout",
     "output_type": "stream",
     "text": [
      "CPU times: user 4.33 ms, sys: 758 µs, total: 5.08 ms\n",
      "Wall time: 5.17 ms\n"
     ]
    }
   ],
   "source": [
    "%%time\n",
    "multi_step_molecule = Molecule(\n",
    "    'O=C(c1ccnnc1)N(c1ccc2ncccc2c1)c1cnn(-c2c(Cl)cc(C(F)(C(F)(F)F)C(F)(F)F)cc2Cl)c1',\n",
    "    reaction = reactions['18_Halide_and_Amine'][0],\n",
    "    reactants = [\n",
    "        Molecule('FC(F)(F)C(F)(c1cc(Cl)c(-n2cc(I)cn2)c(Cl)c1)C(F)(F)F'),\n",
    "        product\n",
    "    ]\n",
    ")\n",
    "\n",
    "r = LazyReaction(reactions['18_Halide_and_Amine'][0].template)\n",
    "output = r.run(multi_step_molecule.reactants)\n",
    "result = list(output)"
   ]
  },
  {
   "cell_type": "markdown",
   "id": "8d31651a-dd7f-435d-a245-2c67b2cb0423",
   "metadata": {},
   "source": [
    "Instantiate the analog generator."
   ]
  },
  {
   "cell_type": "code",
   "execution_count": 542,
   "id": "e7f3113e-0ba3-40e2-91ad-58bc0da36a51",
   "metadata": {
    "tags": []
   },
   "outputs": [],
   "source": [
    "from dgym.envs.library_designer import LibraryDesigner\n",
    "\n",
    "library_designer = LibraryDesigner(\n",
    "    reactions,\n",
    "    building_blocks,\n",
    "    fingerprints\n",
    ")"
   ]
  },
  {
   "cell_type": "markdown",
   "id": "f1e1828d-9f06-47a9-a7e3-492a8e7e692e",
   "metadata": {},
   "source": [
    "Demonstration of how to \"poise\" the generators."
   ]
  },
  {
   "cell_type": "code",
   "execution_count": 543,
   "id": "26b8d8c3-6494-49ad-9f23-ac978c51b6f9",
   "metadata": {
    "tags": []
   },
   "outputs": [],
   "source": [
    "def random_combinations(lst, r, k=100):\n",
    "    \"\"\"\n",
    "    Yields a random combination of r items in list.\n",
    "    \"\"\"\n",
    "    if r == 0:\n",
    "        yield [], lst\n",
    "\n",
    "    all_combinations = list(itertools.combinations(lst, r))\n",
    "    selected_combinations = random.choices(all_combinations, k=k)\n",
    "    for combo in selected_combinations:\n",
    "        nonselected_items = tuple(item for item in lst if item not in combo)\n",
    "        yield combo, nonselected_items"
   ]
  },
  {
   "cell_type": "code",
   "execution_count": 552,
   "id": "cec0df07-f73b-4bcc-884e-d46209075c6b",
   "metadata": {
    "tags": []
   },
   "outputs": [],
   "source": [
    "# Create reactant generator\n",
    "molecule = deck[0]\n",
    "reactant_generators = library_designer.generate_analogs(molecule.reactants, temperature=0.0)\n",
    "\n",
    "# Poise\n",
    "indices = list(range(len(reactant_generators)))\n",
    "combos = random_combinations(indices, r=1)\n",
    "constant, variable = next(combos)\n",
    "constant_reactants = [molecule.reactants[c] for c in constant]\n",
    "variable_reactants = [next(reactant_generators[v]) for v in variable]\n",
    "reactants = [*constant_reactants, *variable_reactants]"
   ]
  },
  {
   "cell_type": "markdown",
   "id": "887ed6c4-ddce-4f84-a5db-61d502ed1db8",
   "metadata": {},
   "source": [
    "Learning how to reconstruct a molecule and preserve its reactions."
   ]
  },
  {
   "cell_type": "code",
   "execution_count": 616,
   "id": "58ba663d-5d78-4de9-8bb4-6143c818add1",
   "metadata": {
    "tags": []
   },
   "outputs": [],
   "source": [
    "def reconstruct_molecule(molecule):\n",
    "    \n",
    "    if inspect.isgenerator(molecule):\n",
    "        return molecule\n",
    "    \n",
    "    # Base case\n",
    "    if not molecule.reactants:\n",
    "        display(molecule)\n",
    "        return molecule\n",
    "    \n",
    "    # Recursive case: Reconstruct each reactant\n",
    "    reconstructed_reactants = [reconstruct_molecule(reactant)\n",
    "                               for reactant in molecule.reactants]\n",
    "    \n",
    "    # # Find analogs\n",
    "    # for idx, reactant in enumerate(reconstructed_reactants):\n",
    "    #     if isinstance(reactant, Molecule):\n",
    "    #         reconstructed_reactants[idx] = library_designer.generate_analogs(\n",
    "    #             [reactant], temperature=0.0\n",
    "    #         )[0]\n",
    "    \n",
    "    # Use the reaction to reconstruct the original molecule from its reactants\n",
    "    output = molecule.reaction.run(reconstructed_reactants)\n",
    "    return output"
   ]
  },
  {
   "cell_type": "code",
   "execution_count": 617,
   "id": "c4a4e338-0362-4057-b43b-bfe7a08ddaf3",
   "metadata": {
    "tags": []
   },
   "outputs": [
    {
     "data": {
      "image/png": "[encoded data removed]",
      "text/plain": [
       "<dgym.molecule.Molecule at 0x7f33f21cc350>"
      ]
     },
     "metadata": {},
     "output_type": "display_data"
    },
    {
     "data": {
      "image/png": "[encoded data removed]",
      "text/plain": [
       "<dgym.molecule.Molecule at 0x7f33cff34e90>"
      ]
     },
     "metadata": {},
     "output_type": "display_data"
    },
    {
     "data": {
      "image/png": "[encoded data removed]",
      "text/plain": [
       "<dgym.molecule.Molecule at 0x7f33d778ca50>"
      ]
     },
     "metadata": {},
     "output_type": "display_data"
    }
   ],
   "source": [
    "multi_step_molecule = Molecule(\n",
    "    'O=C(c1ccnnc1)N(c1ccc2ncccc2c1)c1cnn(-c2c(Cl)cc(C(F)(C(F)(F)F)C(F)(F)F)cc2Cl)c1',\n",
    "    reaction = reactions['18_Halide_and_Amine'][0],\n",
    "    reactants = [\n",
    "        Molecule('FC(F)(F)C(F)(c1cc(Cl)c(-n2cc(I)cn2)c(Cl)c1)C(F)(F)F'),\n",
    "        Molecule('O=C(Nc1ccc2ncccc2c1)c1ccnnc1',\n",
    "                 reaction = reactions['13_Carboxylate_and_Amine'][0],\n",
    "                 reactants = [Molecule('O=C(O)c1ccnnc1'), Molecule('Nc1ccc2ncccc2c1')]\n",
    "        )\n",
    "    ]\n",
    ")\n",
    "generator = reconstruct_molecule(multi_step_molecule)"
   ]
  },
  {
   "cell_type": "code",
   "execution_count": 618,
   "id": "d0ea16be-5904-4485-970b-c585fe061d7f",
   "metadata": {
    "tags": []
   },
   "outputs": [],
   "source": [
    "from copy import deepcopy\n",
    "\n",
    "copy_molecule = deepcopy(multi_step_molecule)\n",
    "copy_molecule.reactants[1].reactants[0] = library_designer.generate_analogs([copy_molecule.reactants[1].reactants[0]])[0]"
   ]
  },
  {
   "cell_type": "code",
   "execution_count": 619,
   "id": "91566cfa-e6e7-4e78-ac44-49c83197828f",
   "metadata": {
    "tags": []
   },
   "outputs": [
    {
     "data": {
      "image/png": "[encoded data removed]",
      "text/plain": [
       "<dgym.molecule.Molecule at 0x7f33d778f850>"
      ]
     },
     "metadata": {},
     "output_type": "display_data"
    },
    {
     "data": {
      "image/png": "[encoded data removed]",
      "text/plain": [
       "<dgym.molecule.Molecule at 0x7f33d7685390>"
      ]
     },
     "metadata": {},
     "output_type": "display_data"
    }
   ],
   "source": [
    "generator = reconstruct_molecule(copy_molecule)"
   ]
  },
  {
   "cell_type": "code",
   "execution_count": 638,
   "id": "cf78f5d2-7b30-46e7-b1f7-c9dba12a7501",
   "metadata": {
    "tags": []
   },
   "outputs": [],
   "source": [
    "results = next(generator)"
   ]
  },
  {
   "cell_type": "code",
   "execution_count": 646,
   "id": "f009889c-cc0a-4e2c-a9e9-f78056752261",
   "metadata": {
    "tags": []
   },
   "outputs": [
    {
     "data": {
      "image/png": "[encoded data removed]",
      "text/html": [
       "<table><tr><td colspan=\"2\" style=\"text-align: center;\"><image src=\"data:image/png;base64,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\"></td></tr>\n",
       "<tr><th style=\"text-align: right\">Mw</th><td style=\"text-align: left\">124.1</td></tr>\n",
       "<tr><th style=\"text-align: right\">ID</th><td style=\"text-align: left\">EN300-79022</td></tr>\n",
       "<tr><th style=\"text-align: right\">IUPAC Name</th><td style=\"text-align: left\">pyridazine-3-carboxylic acid</td></tr>\n",
       "<tr><th style=\"text-align: right\">URL</th><td style=\"text-align: left\">https://www.enaminestore.com/catalog/EN300-79022</td></tr>\n",
       "<tr><th style=\"text-align: right\">Stock_weight_G</th><td style=\"text-align: left\">30</td></tr>\n",
       "<tr><th style=\"text-align: right\">Class</th><td style=\"text-align: left\">CarboxylicAcids, Reagents</td></tr>\n",
       "<tr><th style=\"text-align: right\">Subclass</th><td style=\"text-align: left\">Heteroaromatic_Acids, Minisci_CHpartners</td></tr></table>"
      ],
      "text/plain": [
       "<dgym.molecule.Molecule at 0x7f33e45c2cd0>"
      ]
     },
     "execution_count": 646,
     "metadata": {},
     "output_type": "execute_result"
    }
   ],
   "source": [
    "results.reactants[1].reactants[0]"
   ]
  }
 ],
 "metadata": {
  "kernelspec": {
   "display_name": "Python 3 (ipykernel)",
   "language": "python",
   "name": "python3"
  },
  "language_info": {
   "codemirror_mode": {
    "name": "ipython",
    "version": 3
   },
   "file_extension": ".py",
   "mimetype": "text/x-python",
   "name": "python",
   "nbconvert_exporter": "python",
   "pygments_lexer": "ipython3",
   "version": "3.11.5"
  }
 },
 "nbformat": 4,
 "nbformat_minor": 5
}
