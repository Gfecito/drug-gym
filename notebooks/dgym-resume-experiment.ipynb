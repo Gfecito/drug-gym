{
 "cells": [
  {
   "cell_type": "markdown",
   "id": "23679172-0657-4261-83e3-869704f5df6f",
   "metadata": {},
   "source": [
    "# Implementing ability to load old experiments"
   ]
  },
  {
   "cell_type": "code",
   "execution_count": 1,
   "id": "5a69a21a-8baf-4e08-a275-117c5fb8ad43",
   "metadata": {
    "tags": []
   },
   "outputs": [],
   "source": [
    "import warnings\n",
    "warnings.filterwarnings('ignore')\n",
    "\n",
    "import os\n",
    "import json\n",
    "import zipfile\n",
    "import pandas as pd\n",
    "from tqdm.auto import tqdm\n",
    "from io import TextIOWrapper\n",
    "from collections import defaultdict"
   ]
  },
  {
   "cell_type": "code",
   "execution_count": null,
   "id": "5e4175ef-b182-43a0-9922-4e9e7aa7827a",
   "metadata": {},
   "outputs": [],
   "source": [
    "def get_records(path, measure):\n",
    "\n",
    "    trial_indices = defaultdict(int)\n",
    "    \n",
    "    with zipfile.ZipFile(path, 'r') as z:\n",
    "        for filename in tqdm(z.namelist()):\n",
    "            if filename.endswith('.json'):\n",
    "                with z.open(filename) as file:\n",
    "                    with TextIOWrapper(file, encoding='utf-8') as text_file:\n",
    "                        try:\n",
    "                            result = json.load(text_file)\n",
    "                            record = pd.DataFrame(\n",
    "                                result['annotations']\n",
    "                            ).reindex(\n",
    "                                columns=[\n",
    "                                    'ABL1 pIC50',\n",
    "                                    'Log P',\n",
    "                                    'Log S',\n",
    "                                    'Step Made',\n",
    "                                ]\n",
    "                            ).dropna()\n",
    "\n",
    "                            value = result[measure]\n",
    "                            trial_indices[value] += 1\n",
    "                            record[measure] = value\n",
    "                            record['trial'] = trial_indices[value]\n",
    "                            \n",
    "                            records.append(record)\n",
    "                            result = None\n",
    "                        except:\n",
    "                            continue\n",
    "    return records\n",
    "\n",
    "paths = [\n",
    "    '../../dgym-data/analysis/batch_size/selection_batch_2024-05-08_21-49-53.zip',\n",
    "]\n",
    "\n",
    "measure = 'batch_size'\n",
    "records = []\n",
    "for path in paths:\n",
    "    records.extend(get_records(path, measure))\n",
    "\n",
    "df_raw = pd.concat(records)\n",
    "records = None"
   ]
  }
 ],
 "metadata": {
  "kernelspec": {
   "display_name": "Python 3 (ipykernel)",
   "language": "python",
   "name": "python3"
  },
  "language_info": {
   "codemirror_mode": {
    "name": "ipython",
    "version": 3
   },
   "file_extension": ".py",
   "mimetype": "text/x-python",
   "name": "python",
   "nbconvert_exporter": "python",
   "pygments_lexer": "ipython3",
   "version": "3.11.5"
  }
 },
 "nbformat": 4,
 "nbformat_minor": 5
}
