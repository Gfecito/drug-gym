{
 "cells": [
  {
   "cell_type": "markdown",
   "id": "bf578967-8741-49c0-b202-4641c1282e7c",
   "metadata": {},
   "source": [
    "# Testing New Experiment API"
   ]
  },
  {
   "cell_type": "markdown",
   "id": "0e30b740-49b2-4b5a-b87e-b94bd2a031d5",
   "metadata": {},
   "source": [
    "Load data."
   ]
  },
  {
   "cell_type": "code",
   "execution_count": 1,
   "id": "22e58bb4-098f-499b-92f9-b390d6d6540a",
   "metadata": {
    "tags": []
   },
   "outputs": [],
   "source": [
    "%reload_ext autoreload\n",
    "%autoreload 2\n",
    "import warnings\n",
    "warnings.filterwarnings('ignore') \n",
    "\n",
    "import rdkit\n",
    "import dgym as dg\n",
    "\n",
    "# load all data\n",
    "path = '../../dgym-data'\n",
    "\n",
    "deck = dg.MoleculeCollection.load(\n",
    "    f'{path}/DSi-Poised_Library_annotated.sdf',\n",
    "    reactant_names=['reagsmi1', 'reagsmi2', 'reagsmi3']\n",
    ")\n",
    "\n",
    "reactions = dg.ReactionCollection.from_json(\n",
    "    path = f'{path}/All_Rxns_rxn_library_sorted.json',\n",
    "    smarts_col = 'reaction_string',\n",
    "    classes_col = 'functional_groups'\n",
    ")\n",
    "\n",
    "building_blocks = dg.datasets.disk_loader(f'{path}/Enamine_Building_Blocks_Stock_262336cmpd_20230630.sdf')\n",
    "fingerprints = dg.datasets.fingerprints(f'{path}/Enamine_Building_Blocks_Stock_262336cmpd_20230630_atoms.fpb')\n",
    "\n",
    "import torch\n",
    "import pyarrow.parquet as pq\n",
    "table = pq.read_table('../../dgym-data/sizes.parquet')[0]\n",
    "sizes = torch.tensor(table.to_numpy())"
   ]
  },
  {
   "cell_type": "markdown",
   "id": "51744ac8-3b74-415d-a88d-abd31fd9325a",
   "metadata": {},
   "source": [
    "Load assays and utility functions."
   ]
  },
  {
   "cell_type": "code",
   "execution_count": 2,
   "id": "750653ce-6431-4dcb-abd8-cb0a6da39459",
   "metadata": {
    "tags": []
   },
   "outputs": [],
   "source": [
    "import os\n",
    "\n",
    "def get_tcp_objectives():\n",
    "\n",
    "    dockstring_dir = f'{path}/dockstring_targets/'\n",
    "    files = os.listdir(dockstring_dir)\n",
    "    configs = sorted([f for f in files if 'conf' in f])\n",
    "    targets = sorted([f for f in files if 'target' in f])\n",
    "\n",
    "    idx = 0\n",
    "    with open(dockstring_dir + configs[idx], 'r') as f:\n",
    "        config_ = f.readlines()\n",
    "        config_ = [c.replace('\\n', '') for c in config_]\n",
    "        config_ = [c.split(' = ') for c in config_ if c]\n",
    "        config_ = {c[0]: float(c[1]) for c in config_}\n",
    "\n",
    "    target = targets[idx]\n",
    "    name = target.split('_')[0]\n",
    "\n",
    "    config_.update({\n",
    "        'size_x': 22.5,\n",
    "        'size_y': 22.5,\n",
    "        'size_z': 22.5,\n",
    "    })\n",
    "\n",
    "    from dgym.envs.oracle import \\\n",
    "        DockingOracle, CatBoostOracle, RDKitOracle, NoisyOracle\n",
    "    from dgym.envs.utility import ClassicUtilityFunction\n",
    "\n",
    "    config = {\n",
    "        'search_mode': 'detailed',\n",
    "        'scoring': 'vina',\n",
    "        'seed': 5,\n",
    "        **config_\n",
    "    }\n",
    "\n",
    "    pIC50_oracle = DockingOracle(\n",
    "        f'{name} pIC50',\n",
    "        receptor_path=f'{path}/dockstring_targets/{name}_target.pdbqt',\n",
    "        config=config\n",
    "    )\n",
    "    qed_oracle = RDKitOracle('QED', descriptor='QED')\n",
    "    log_P_oracle = RDKitOracle('Log P', descriptor='MolLogP')\n",
    "    log_S_oracle = CatBoostOracle(\n",
    "        'Log S', path='../dgym/envs/models/aqsolcb.model')\n",
    "    \n",
    "    return pIC50_oracle, qed_oracle, log_P_oracle, log_S_oracle"
   ]
  },
  {
   "cell_type": "code",
   "execution_count": 3,
   "id": "b7a22a23-125c-4112-a38a-416b8d53646d",
   "metadata": {
    "tags": []
   },
   "outputs": [],
   "source": [
    "from dgym.envs.utility import ClassicUtilityFunction, MultipleUtilityFunction\n",
    "\n",
    "# Get objectives\n",
    "pIC50_oracle, qed_oracle, log_P_oracle, log_S_oracle = get_tcp_objectives()\n",
    "\n",
    "# Define utility functions\n",
    "pIC50_utility = ClassicUtilityFunction(\n",
    "    pIC50_oracle, ideal=(9.5, 13), acceptable=(8, 13))\n",
    "log_P_utility = ClassicUtilityFunction(\n",
    "    log_P_oracle, ideal=(0.5, 1.85), acceptable=(-0.5, 3.5))\n",
    "log_S_utility = ClassicUtilityFunction(\n",
    "    log_S_oracle, ideal=(-3, 1), acceptable=(-4, 1))\n",
    "# qed_utility = ClassicUtilityFunction(\n",
    "#     qed_oracle, ideal=(0.65, 1.0), acceptable=(0.5, 1.0))\n",
    "\n",
    "# Assemble assays and surrogate models\n",
    "assays = [\n",
    "    pIC50_oracle,\n",
    "    log_P_oracle,\n",
    "    log_S_oracle,\n",
    "    # qed_oracle,\n",
    "    pIC50_oracle.surrogate(sigma=1.0),\n",
    "    log_P_oracle.surrogate(sigma=1.0),\n",
    "    log_S_oracle.surrogate(sigma=1.0),\n",
    "    # qed_oracle.surrogate(sigma=0.1),\n",
    "]\n",
    "\n",
    "# Environment tolerates acceptable ADMET\n",
    "from copy import deepcopy\n",
    "utility_agent = MultipleUtilityFunction(\n",
    "    utility_functions = [pIC50_utility, log_P_utility, log_S_utility],\n",
    "    weights = [0.8, 0.1, 0.1]\n",
    ")\n",
    "utility_env = deepcopy(utility_agent)\n",
    "utility_env.utility_functions[1].ideal = utility_env.utility_functions[1].acceptable\n",
    "utility_env.utility_functions[2].ideal = utility_env.utility_functions[2].acceptable"
   ]
  },
  {
   "cell_type": "markdown",
   "id": "33c88781-ba5b-4e45-98ea-8e25a4639eac",
   "metadata": {},
   "source": [
    "Instantiate designer."
   ]
  },
  {
   "cell_type": "code",
   "execution_count": 4,
   "id": "80f19092-150e-4fb7-87d6-e1c203aa721b",
   "metadata": {
    "tags": []
   },
   "outputs": [],
   "source": [
    "from dgym.envs.designer import Designer, Generator\n",
    "\n",
    "designer = Designer(\n",
    "    Generator(building_blocks, fingerprints, sizes),\n",
    "    reactions,\n",
    "    cache = True\n",
    ")"
   ]
  },
  {
   "cell_type": "markdown",
   "id": "01233a8b-8f11-481b-8154-08b9e234c01d",
   "metadata": {},
   "source": [
    "Pick 5 random starting hits."
   ]
  },
  {
   "cell_type": "code",
   "execution_count": 5,
   "id": "8fcc0795-ebaa-42de-ac4b-dec137e9fc22",
   "metadata": {
    "tags": []
   },
   "outputs": [],
   "source": [
    "# select first molecule\n",
    "import random\n",
    "def select_molecule(deck):\n",
    "    initial_index = random.randint(0, len(deck) - 1)\n",
    "    initial_molecule = deck[initial_index]\n",
    "    if len(initial_molecule.reactants) == 2 \\\n",
    "        and designer.match_reactions(initial_molecule):\n",
    "        return initial_molecule\n",
    "    else:\n",
    "        return select_molecule(deck)\n",
    "\n",
    "initial_molecules = [select_molecule(deck) for _ in range(5)]\n",
    "library = dg.MoleculeCollection(initial_molecules).update_annotations()\n",
    "\n",
    "# Score molecules\n",
    "for assay in assays:\n",
    "    if 'Noisy' not in assay.name:\n",
    "        results = assay(library)\n",
    "        for molecule, result in zip(library, results):\n",
    "            molecule.update_annotations({assay.name: result})\n",
    "\n",
    "# Set status to tested\n",
    "library.set_status('Tested', step=0)"
   ]
  },
  {
   "cell_type": "markdown",
   "id": "150be54d-31a4-4287-bb31-abcde4e6abc0",
   "metadata": {
    "tags": []
   },
   "source": [
    "Instantiate Environment and Agent."
   ]
  },
  {
   "cell_type": "code",
   "execution_count": 6,
   "id": "7e6d8a3a-1c83-4dde-82ea-d56a04ca1724",
   "metadata": {
    "tags": []
   },
   "outputs": [],
   "source": [
    "from dgym.envs import DrugEnv\n",
    "from dgym.agents import SequentialDrugAgent\n",
    "from dgym.agents.exploration import EpsilonGreedy\n",
    "\n",
    "drug_env = DrugEnv(\n",
    "    designer = designer,\n",
    "    library = library,\n",
    "    assays = assays,\n",
    "    utility_function = utility_env\n",
    ")\n",
    "\n",
    "# Construct sequence\n",
    "design_grow = {'name': 'design', 'batch_size': 8, 'parameters': {'strategy': 'grow', 'size': 5}}\n",
    "design_replace = {'name': 'design', 'batch_size': 8, 'parameters': {'strategy': 'replace', 'size': 5, 'temperature': 0.2}}\n",
    "score = {'name': ['Noisy ABL1 pIC50', 'Noisy Log S', 'Noisy Log P'], 'batch_size': 8 * 5, 'parameters': {'batch_size': 40}}\n",
    "make = {'name': 'make', 'batch_size': 8}\n",
    "test = {'name': ['ABL1 pIC50', 'Log S', 'Log P'], 'batch_size': 8}\n",
    "sequence = [design_replace, score, design_grow, score, make, test]\n",
    "\n",
    "drug_agent = SequentialDrugAgent(\n",
    "    sequence = sequence,\n",
    "    exploration_strategy = EpsilonGreedy(epsilon=0.25),\n",
    "    utility_function = utility_agent\n",
    ")"
   ]
  },
  {
   "cell_type": "code",
   "execution_count": 7,
   "id": "a0405181-b818-423f-b2a3-73d9c3916b2b",
   "metadata": {
    "tags": []
   },
   "outputs": [],
   "source": [
    "def display_best(experiment):\n",
    "    import numpy as np\n",
    "    observations = experiment.drug_env.library\n",
    "    utilities = experiment.drug_env.utility_function(\n",
    "        observations, use_precomputed=True, method='average')\n",
    "    for obs, utility in zip(observations, utilities):\n",
    "        obs.update_annotations({'utility': utility})\n",
    "    tested = observations.tested\n",
    "    if tested:\n",
    "        best_tested = (\n",
    "            tested\n",
    "            .annotations\n",
    "            .sort_values('utility', ascending=False)\n",
    "            [['ABL1 pIC50', 'Log S', 'Log P', 'utility']]\n",
    "            .head()\n",
    "        )\n",
    "        display(best_tested)"
   ]
  },
  {
   "cell_type": "code",
   "execution_count": 8,
   "id": "b009073c-81e6-49d5-9bab-87990a114d49",
   "metadata": {
    "tags": []
   },
   "outputs": [
    {
     "data": {
      "application/vnd.jupyter.widget-view+json": {
       "model_id": "4be8171bc70743c38717fbb5666102fd",
       "version_major": 2,
       "version_minor": 0
      },
      "text/plain": [
       "  0%|          | 0/1 [00:00<?, ?it/s]"
      ]
     },
     "metadata": {},
     "output_type": "display_data"
    },
    {
     "data": {
      "application/vnd.jupyter.widget-view+json": {
       "model_id": "903edbea1cd0409f89fd5bf19d3dead1",
       "version_major": 2,
       "version_minor": 0
      },
      "text/plain": [
       "  0%|          | 0/100000 [00:00<?, ?it/s]"
      ]
     },
     "metadata": {},
     "output_type": "display_data"
    },
    {
     "name": "stdout",
     "output_type": "stream",
     "text": [
      "Memory before action: Memory Usage: 6.35 GB\n",
      "Created action\n",
      "{'name': 'design', 'parameters': {'strategy': 'replace', 'size': 5, 'temperature': 0.2}, 'molecules': [3, 4, 1, 0, 2]}\n",
      "Memory after action: Memory Usage: 6.43 GB\n",
      "-2.0312814377053656\n",
      "Memory before action: Memory Usage: 6.43 GB\n",
      "Created action\n",
      "{'name': ['Noisy ABL1 pIC50', 'Noisy Log S', 'Noisy Log P'], 'parameters': {'batch_size': 40}, 'molecules': [5, 18, 6, 7, 8, 9, 10, 23, 11, 12, 13, 14, 15, 16, 17, 19, 26, 20, 21, 25, 27, 24, 22, 28, 29]}\n",
      "{'batch_size': 40}\n",
      "{'batch_size': 40}\n",
      "{'batch_size': 40}\n",
      "Memory after action: Memory Usage: 6.42 GB\n",
      "-2.0312814377053656\n",
      "Memory before action: Memory Usage: 6.42 GB\n",
      "Created action\n",
      "{'name': 'design', 'parameters': {'strategy': 'grow', 'size': 5}, 'molecules': [6, 19, 24, 15, 9, 20, 16, 10]}\n",
      "Memory after action: Memory Usage: 6.37 GB\n",
      "-2.0312814377053656\n",
      "Memory before action: Memory Usage: 6.37 GB\n",
      "Created action\n",
      "{'name': ['Noisy ABL1 pIC50', 'Noisy Log S', 'Noisy Log P'], 'parameters': {'batch_size': 40}, 'molecules': [58, 30, 31, 32, 33, 62, 34, 39, 35, 43, 36, 65, 37, 38, 40, 41, 42, 44, 49, 59, 52, 45, 46, 47, 48, 50, 51, 55, 53, 54, 60, 56, 57, 61, 64, 63, 68, 66, 67, 69]}\n",
      "{'batch_size': 40}\n",
      "{'batch_size': 40}\n",
      "{'batch_size': 40}\n",
      "Memory after action: Memory Usage: 6.42 GB\n",
      "-2.0312814377053656\n",
      "Memory before action: Memory Usage: 6.39 GB\n",
      "Created action\n",
      "{'name': 'make', 'parameters': {}, 'molecules': [63, 64, 10, 24, 48, 69, 53, 9]}\n",
      "Memory after action: Memory Usage: 6.38 GB\n",
      "-2.0312814377053656\n",
      "Memory before action: Memory Usage: 6.38 GB\n",
      "Created action\n",
      "{'name': ['ABL1 pIC50', 'Log S', 'Log P'], 'parameters': {}, 'molecules': [24, 10, 53, 63, 64, 9, 69, 48]}\n",
      "{}\n",
      "{}\n",
      "{}\n",
      "Memory after action: Memory Usage: 6.38 GB\n",
      "-1.7720574075846207\n",
      "Memory before action: Memory Usage: 6.37 GB\n",
      "Created action\n",
      "{'name': 'design', 'parameters': {'strategy': 'replace', 'size': 5, 'temperature': 0.2}, 'molecules': [9, 3, 24, 10, 15, 38, 49, 68]}\n",
      "Memory after action: Memory Usage: 6.46 GB\n",
      "-1.7720574075846207\n",
      "Memory before action: Memory Usage: 6.46 GB\n",
      "Created action\n",
      "{'name': ['Noisy ABL1 pIC50', 'Noisy Log S', 'Noisy Log P'], 'parameters': {'batch_size': 40}, 'molecules': [87, 95, 70, 71, 72, 93, 107, 73, 74, 75, 76, 77, 92, 78, 79, 80, 81, 106, 100, 82, 83, 98, 109, 84, 85, 86, 88, 89, 103, 90, 101, 91, 94, 96, 97, 108, 99, 102, 104, 105]}\n",
      "{'batch_size': 40}\n"
     ]
    },
    {
     "name": "stderr",
     "output_type": "stream",
     "text": [
      "\n",
      "KeyboardInterrupt\n",
      "\n"
     ]
    }
   ],
   "source": [
    "from dgym.experiment import Experiment\n",
    "\n",
    "experiment = Experiment(\n",
    "    drug_env=drug_env,\n",
    "    drug_agent=drug_agent\n",
    ")\n",
    "\n",
    "result = experiment.run()"
   ]
  },
  {
   "cell_type": "markdown",
   "id": "8e1db69f-1825-4013-b300-66cf6ad0c67b",
   "metadata": {},
   "source": [
    "## Restore old experiment"
   ]
  },
  {
   "cell_type": "code",
   "execution_count": 11,
   "id": "e6c8f3a6-71b1-478b-bc15-4dfbd8633ba8",
   "metadata": {
    "tags": []
   },
   "outputs": [
    {
     "data": {
      "application/vnd.jupyter.widget-view+json": {
       "model_id": "ce1ae9608fa74a0aa3a56a37424c34da",
       "version_major": 2,
       "version_minor": 0
      },
      "text/plain": [
       "  0%|          | 0/1 [00:00<?, ?it/s]"
      ]
     },
     "metadata": {},
     "output_type": "display_data"
    },
    {
     "data": {
      "application/vnd.jupyter.widget-view+json": {
       "model_id": "75f9e2ac2d5e4e41921ce5347b6dc96b",
       "version_major": 2,
       "version_minor": 0
      },
      "text/plain": [
       "  0%|          | 0/100000 [00:00<?, ?it/s]"
      ]
     },
     "metadata": {},
     "output_type": "display_data"
    },
    {
     "name": "stdout",
     "output_type": "stream",
     "text": [
      "Memory before action: Memory Usage: 6.69 GB\n",
      "Created action\n",
      "{'name': 'design', 'parameters': {'strategy': 'replace', 'size': 5, 'temperature': 0.2}, 'molecules': [76, 182, 6, 101, 9, 24, 10, 71]}\n",
      "Memory after action: Memory Usage: 6.69 GB\n",
      "-0.7416420836321282\n",
      "Memory before action: Memory Usage: 6.69 GB\n",
      "Created action\n",
      "{'name': ['Noisy ABL1 pIC50', 'Noisy Log S', 'Noisy Log P'], 'parameters': {'batch_size': 40}, 'molecules': [103, 298, 109, 105, 107, 114, 115, 126, 235, 299, 127, 208, 128, 116, 163, 183, 308, 122, 173, 130, 112, 138, 117, 136, 104, 129, 201, 121, 118, 131, 137, 113, 110, 124, 225, 164, 157, 160, 188, 135]}\n",
      "{'batch_size': 40}\n"
     ]
    },
    {
     "name": "stderr",
     "output_type": "stream",
     "text": [
      "\n",
      "KeyboardInterrupt\n",
      "\n"
     ]
    }
   ],
   "source": [
    "result = experiment.dump(1)\n",
    "new_experiment = experiment.load(result)\n",
    "result = new_experiment.run()"
   ]
  }
 ],
 "metadata": {
  "kernelspec": {
   "display_name": "Python 3 (ipykernel)",
   "language": "python",
   "name": "python3"
  },
  "language_info": {
   "codemirror_mode": {
    "name": "ipython",
    "version": 3
   },
   "file_extension": ".py",
   "mimetype": "text/x-python",
   "name": "python",
   "nbconvert_exporter": "python",
   "pygments_lexer": "ipython3",
   "version": "3.11.5"
  }
 },
 "nbformat": 4,
 "nbformat_minor": 5
}
