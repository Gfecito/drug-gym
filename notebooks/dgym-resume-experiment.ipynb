{
 "cells": [
  {
   "cell_type": "markdown",
   "id": "bf578967-8741-49c0-b202-4641c1282e7c",
   "metadata": {},
   "source": [
    "# Testing New Experiment API"
   ]
  },
  {
   "cell_type": "markdown",
   "id": "0e30b740-49b2-4b5a-b87e-b94bd2a031d5",
   "metadata": {},
   "source": [
    "Load data."
   ]
  },
  {
   "cell_type": "code",
   "execution_count": 1,
   "id": "22e58bb4-098f-499b-92f9-b390d6d6540a",
   "metadata": {
    "tags": []
   },
   "outputs": [],
   "source": [
    "%reload_ext autoreload\n",
    "%autoreload 2\n",
    "import warnings\n",
    "warnings.filterwarnings('ignore') \n",
    "\n",
    "import rdkit\n",
    "import dgym as dg\n",
    "\n",
    "# load all data\n",
    "path = '../../dgym-data'\n",
    "\n",
    "deck = dg.MoleculeCollection.load(\n",
    "    f'{path}/DSi-Poised_Library_annotated.sdf',\n",
    "    reactant_names=['reagsmi1', 'reagsmi2', 'reagsmi3']\n",
    ")\n",
    "\n",
    "reactions = dg.ReactionCollection.from_json(\n",
    "    path = f'{path}/All_Rxns_rxn_library_sorted.json',\n",
    "    smarts_col = 'reaction_string',\n",
    "    classes_col = 'functional_groups'\n",
    ")\n",
    "\n",
    "building_blocks = dg.datasets.disk_loader(f'{path}/Enamine_Building_Blocks_Stock_262336cmpd_20230630.sdf')\n",
    "fingerprints = dg.datasets.fingerprints(f'{path}/Enamine_Building_Blocks_Stock_262336cmpd_20230630_atoms.fpb')\n",
    "\n",
    "import torch\n",
    "import pyarrow.parquet as pq\n",
    "table = pq.read_table('../../dgym-data/sizes.parquet')[0]\n",
    "sizes = torch.tensor(table.to_numpy())"
   ]
  },
  {
   "cell_type": "markdown",
   "id": "51744ac8-3b74-415d-a88d-abd31fd9325a",
   "metadata": {},
   "source": [
    "Load assays and utility functions."
   ]
  },
  {
   "cell_type": "code",
   "execution_count": 2,
   "id": "750653ce-6431-4dcb-abd8-cb0a6da39459",
   "metadata": {
    "tags": []
   },
   "outputs": [],
   "source": [
    "import os\n",
    "\n",
    "def get_tcp_objectives():\n",
    "\n",
    "    dockstring_dir = f'{path}/dockstring_targets/'\n",
    "    files = os.listdir(dockstring_dir)\n",
    "    configs = sorted([f for f in files if 'conf' in f])\n",
    "    targets = sorted([f for f in files if 'target' in f])\n",
    "\n",
    "    idx = 0\n",
    "    with open(dockstring_dir + configs[idx], 'r') as f:\n",
    "        config_ = f.readlines()\n",
    "        config_ = [c.replace('\\n', '') for c in config_]\n",
    "        config_ = [c.split(' = ') for c in config_ if c]\n",
    "        config_ = {c[0]: float(c[1]) for c in config_}\n",
    "\n",
    "    target = targets[idx]\n",
    "    name = target.split('_')[0]\n",
    "\n",
    "    config_.update({\n",
    "        'size_x': 22.5,\n",
    "        'size_y': 22.5,\n",
    "        'size_z': 22.5,\n",
    "    })\n",
    "\n",
    "    from dgym.envs.oracle import \\\n",
    "        DockingOracle, CatBoostOracle, RDKitOracle, NoisyOracle\n",
    "    from dgym.envs.utility import ClassicUtilityFunction\n",
    "\n",
    "    config = {\n",
    "        'search_mode': 'detailed',\n",
    "        'scoring': 'vina',\n",
    "        'seed': 5,\n",
    "        **config_\n",
    "    }\n",
    "\n",
    "    pIC50_oracle = DockingOracle(\n",
    "        f'{name} pIC50',\n",
    "        receptor_path=f'{path}/dockstring_targets/{name}_target.pdbqt',\n",
    "        config=config\n",
    "    )\n",
    "    qed_oracle = RDKitOracle('QED', descriptor='QED')\n",
    "    log_P_oracle = RDKitOracle('Log P', descriptor='MolLogP')\n",
    "    log_S_oracle = CatBoostOracle(\n",
    "        'Log S', path='../dgym/envs/models/aqsolcb.model')\n",
    "    \n",
    "    return pIC50_oracle, qed_oracle, log_P_oracle, log_S_oracle"
   ]
  },
  {
   "cell_type": "code",
   "execution_count": 3,
   "id": "b7a22a23-125c-4112-a38a-416b8d53646d",
   "metadata": {
    "tags": []
   },
   "outputs": [],
   "source": [
    "from dgym.envs.utility import ClassicUtilityFunction, MultipleUtilityFunction\n",
    "\n",
    "# Get objectives\n",
    "pIC50_oracle, qed_oracle, log_P_oracle, log_S_oracle = get_tcp_objectives()\n",
    "\n",
    "# Define utility functions\n",
    "pIC50_utility = ClassicUtilityFunction(\n",
    "    pIC50_oracle, ideal=(9.5, 13), acceptable=(8, 13))\n",
    "log_P_utility = ClassicUtilityFunction(\n",
    "    log_P_oracle, ideal=(0.5, 1.85), acceptable=(-0.5, 3.5))\n",
    "log_S_utility = ClassicUtilityFunction(\n",
    "    log_S_oracle, ideal=(-3, 1), acceptable=(-4, 1))\n",
    "# qed_utility = ClassicUtilityFunction(\n",
    "#     qed_oracle, ideal=(0.65, 1.0), acceptable=(0.5, 1.0))\n",
    "\n",
    "# Assemble assays and surrogate models\n",
    "assays = [\n",
    "    pIC50_oracle,\n",
    "    log_P_oracle,\n",
    "    log_S_oracle,\n",
    "    # qed_oracle,\n",
    "    pIC50_oracle.surrogate(sigma=1.0),\n",
    "    log_P_oracle.surrogate(sigma=1.0),\n",
    "    log_S_oracle.surrogate(sigma=1.0),\n",
    "    # qed_oracle.surrogate(sigma=0.1),\n",
    "]\n",
    "\n",
    "# Environment tolerates acceptable ADMET\n",
    "from copy import deepcopy\n",
    "utility_agent = MultipleUtilityFunction(\n",
    "    utility_functions = [pIC50_utility, log_P_utility, log_S_utility],\n",
    "    weights = [0.8, 0.1, 0.1]\n",
    ")\n",
    "utility_env = deepcopy(utility_agent)\n",
    "utility_env.utility_functions[1].ideal = utility_env.utility_functions[1].acceptable\n",
    "utility_env.utility_functions[2].ideal = utility_env.utility_functions[2].acceptable"
   ]
  },
  {
   "cell_type": "markdown",
   "id": "33c88781-ba5b-4e45-98ea-8e25a4639eac",
   "metadata": {},
   "source": [
    "Instantiate designer."
   ]
  },
  {
   "cell_type": "code",
   "execution_count": 4,
   "id": "80f19092-150e-4fb7-87d6-e1c203aa721b",
   "metadata": {
    "tags": []
   },
   "outputs": [],
   "source": [
    "from dgym.envs.designer import Designer, Generator\n",
    "\n",
    "designer = Designer(\n",
    "    Generator(building_blocks, fingerprints, sizes),\n",
    "    reactions,\n",
    "    cache = True\n",
    ")"
   ]
  },
  {
   "cell_type": "markdown",
   "id": "01233a8b-8f11-481b-8154-08b9e234c01d",
   "metadata": {},
   "source": [
    "Pick 5 random starting hits."
   ]
  },
  {
   "cell_type": "code",
   "execution_count": 5,
   "id": "8fcc0795-ebaa-42de-ac4b-dec137e9fc22",
   "metadata": {
    "tags": []
   },
   "outputs": [
    {
     "name": "stderr",
     "output_type": "stream",
     "text": [
      "[21:11:20] mapped atoms in the reactants were not mapped in the products.\n",
      "  unmapped numbers are: 4 \n",
      "[21:11:20] Can't kekulize mol.  Unkekulized atoms: 4 5 6 7 8\n",
      "[21:11:20] mapped atoms in the reactants were not mapped in the products.\n",
      "  unmapped numbers are: 3 \n",
      "[21:11:20] mapped atoms in the reactants were not mapped in the products.\n",
      "  unmapped numbers are: 3 \n",
      "[21:11:20] mapped atoms in the reactants were not mapped in the products.\n",
      "  unmapped numbers are: 3 \n",
      "[21:11:20] mapped atoms in the reactants were not mapped in the products.\n",
      "  unmapped numbers are: 3 \n",
      "[21:11:20] mapped atoms in the reactants were not mapped in the products.\n",
      "  unmapped numbers are: 4 \n",
      "[21:11:20] product atom-mapping number 15 not found in reactants.\n",
      "[21:11:20] product atom-mapping number 14 not found in reactants.\n",
      "[21:11:20] product atom-mapping number 13 not found in reactants.\n",
      "[21:11:20] reactant 1 has no mapped atoms.\n",
      "[21:11:20] product atom-mapping number 2 not found in reactants.\n",
      "[21:11:20] product atom-mapping number 3 not found in reactants.\n",
      "[21:11:20] product atom-mapping number 6 found multiple times.\n",
      "[21:11:20] product atom-mapping number 4 not found in reactants.\n"
     ]
    },
    {
     "name": "stdout",
     "output_type": "stream",
     "text": [
      "[]\n",
      "unidock --receptor ../../dgym-data/dockstring_targets/ABL1_target.pdbqt --ligand_index /tmp/tmp7e0mypq2/ligands.txt --dir /tmp/tmp7e0mypq2 --search_mode detailed --scoring vina --seed 5 --center_x 15.851 --center_y 14.647 --center_z 3.904 --size_x 22.5 --size_y 22.5 --size_z 22.5\n",
      "CompletedProcess(args='unidock --receptor ../../dgym-data/dockstring_targets/ABL1_target.pdbqt --ligand_index /tmp/tmp7e0mypq2/ligands.txt --dir /tmp/tmp7e0mypq2 --search_mode detailed --scoring vina --seed 5 --center_x 15.851 --center_y 14.647 --center_z 3.904 --size_x 22.5 --size_y 22.5 --size_z 22.5', returncode=0, stdout='Uni-Dock v1.1.0\\n\\nIf you used Uni-Dock in your work, please cite:               \\n \\nYu, Y., Cai, C., Wang, J., Bo, Z., Zhu, Z., & Zheng, H. (2023). \\nUni-Dock: GPU-Accelerated Docking Enables Ultralarge Virtual Screening. \\nJournal of Chemical Theory and Computation.                    \\nhttps://doi.org/10.1021/acs.jctc.2c01145                       \\n\\nTang, S., Chen, R., Lin, M., Lin, Q., Zhu, Y., Ding, J., ... & Wu, J. (2022). \\nAccelerating autodock vina with gpus. Molecules, 27(9), 3041. \\nDOI 10.3390/molecules27093041                                 \\n\\nJ. Eberhardt, D. Santos-Martins, A. F. Tillack, and S. Forli  \\nAutoDock Vina 1.2.0: New Docking Methods, Expanded Force      \\nField, and Python Bindings, J. Chem. Inf. Model. (2021)       \\nDOI 10.1021/acs.jcim.1c00203                                  \\n\\nO. Trott, A. J. Olson,                                        \\nAutoDock Vina: improving the speed and accuracy of docking    \\nwith a new scoring function, efficient optimization and        \\nmultithreading, J. Comp. Chem. (2010)                         \\nDOI 10.1002/jcc.21334                                         \\n\\nPlease refer to https://github.com/dptech-corp/Uni-Dock/ for  \\nbug reporting, license agreements, and more information.      \\n\\nScoring function : vina\\nRigid receptor: ../../dgym-data/dockstring_targets/ABL1_target.pdbqt\\nGrid center: X 15.851 Y 14.647 Z 3.904\\nGrid size  : X 22.5 Y 22.5 Z 22.5\\nGrid space : 0.375\\nExhaustiveness: 512\\nCPU: 0\\nVerbosity: 1\\n\\nComputing Vina grid ... done.\\nTotal ligands: 5\\nSet GPU device id to 0\\nAvailable Memory = 7070MiB   Total Memory = 8187MiB\\nall_ligands.size():5\\nmax_num_atoms20\\nmax_num_torsions:4\\nmax_num_rigids:2\\nmax_num_lig_pairs:75\\nSmall Group:\\nMax num_atoms: 11 Max num_torsions: 2 Max num_rigids: 2 Max num_lig_pairs: 16\\nGroup size: 1\\nMedium Group:\\nMax num_atoms: 14 Max num_torsions: 2 Max num_rigids: 2 Max num_lig_pairs: 31\\nGroup size: 1\\nLarge Group:\\nMax num_atoms: 16 Max num_torsions: 3 Max num_rigids: 2 Max num_lig_pairs: 47\\nGroup size: 1\\nExtra Large Group:\\nMax num_atoms: 20 Max num_torsions: 4 Max num_rigids: 2 Max num_lig_pairs: 75\\nGroup size: 2\\nSmall\\nMax num_atoms: 11 Max num_torsions: 2 Max num_rigids: 2 Max num_lig_pairs: 16\\nGroup size: 1\\nSmall Batch 1 size: 1\\nPerforming docking (random seed: 5) ... Time spend on GPU is 257.403381 ms\\nKernel running time: 1062\\n\\nmode |   affinity | dist from best mode\\n     | (kcal/mol) | rmsd l.b.| rmsd u.b.\\n-----+------------+----------+----------\\n   1       -5.932          0          0\\n   2       -5.659       2.59      5.065\\n   3       -5.647      2.176      3.129\\n   4       -5.646      1.195      1.897\\n   5        -5.64      2.409      4.779\\n   6       -5.582      1.772      4.281\\n   7       -5.579      2.831      5.572\\n   8       -5.561      2.464       5.17\\n   9       -5.492      3.066      5.555\\nposes saveing time: 2\\nBatch 1 running time: 1403ms\\nMedium\\nMax num_atoms: 14 Max num_torsions: 2 Max num_rigids: 2 Max num_lig_pairs: 31\\nGroup size: 1\\nMedium Batch 1 size: 1\\nPerforming docking (random seed: 5) ... Time spend on GPU is 102.008736 ms\\nKernel running time: 255\\n\\nmode |   affinity | dist from best mode\\n     | (kcal/mol) | rmsd l.b.| rmsd u.b.\\n-----+------------+----------+----------\\n   1       -6.182          0          0\\n   2       -6.173       1.54      2.344\\n   3       -6.155       1.38      1.741\\n   4       -5.975      2.061       3.11\\n   5       -5.918      2.741      5.561\\n   6       -5.909       1.35      1.825\\n   7         -5.9      1.868      3.234\\nposes saveing time: 3\\nBatch 1 running time: 428ms\\nLarge\\nMax num_atoms: 16 Max num_torsions: 3 Max num_rigids: 2 Max num_lig_pairs: 47\\nGroup size: 1\\nLarge Batch 1 size: 1\\nPerforming docking (random seed: 5) ... Time spend on GPU is 122.097023 ms\\nKernel running time: 225\\n\\nmode |   affinity | dist from best mode\\n     | (kcal/mol) | rmsd l.b.| rmsd u.b.\\n-----+------------+----------+----------\\n   1       -7.323          0          0\\n   2       -7.266     0.2894      1.035\\n   3       -7.258     0.3363      1.041\\n   4       -6.876       1.66      2.333\\n   5       -6.863      1.633      2.074\\n   6       -6.861      1.367      2.122\\n   7       -6.856      1.448       1.91\\nposes saveing time: 3\\nBatch 1 running time: 439ms\\nExtra Large\\nMax num_atoms: 20 Max num_torsions: 4 Max num_rigids: 2 Max num_lig_pairs: 75\\nGroup size: 2\\nExtra Large Batch 1 size: 2\\nPerforming docking (random seed: 5) ... Time spend on GPU is 297.956543 ms\\nKernel running time: 472\\n\\nmode |   affinity | dist from best mode\\n     | (kcal/mol) | rmsd l.b.| rmsd u.b.\\n-----+------------+----------+----------\\n   1       -7.074          0          0\\n   2       -6.878      1.043      1.045\\n   3       -6.869     0.7309       1.46\\n   4         -6.7      1.257      2.149\\n   5       -6.675       2.37       2.93\\n   6       -6.597      1.999      3.143\\n   7       -6.574      2.223      3.318\\n   8       -6.565      2.095      2.595\\n\\nmode |   affinity | dist from best mode\\n     | (kcal/mol) | rmsd l.b.| rmsd u.b.\\n-----+------------+----------+----------\\n   1       -9.672          0          0\\n   2       -9.651      0.934      1.575\\n   3        -9.63      1.324      1.925\\n   4       -9.548      1.099      1.129\\n   5       -9.522     0.9248      1.808\\n   6         -9.5      1.282       2.39\\n   7       -9.452      1.295      2.002\\n   8        -9.26      1.382      1.631\\nposes saveing time: 9\\nBatch 1 running time: 826ms\\n', stderr='')\n"
     ]
    }
   ],
   "source": [
    "# select first molecule\n",
    "import random\n",
    "def select_molecule(deck):\n",
    "    initial_index = random.randint(0, len(deck) - 1)\n",
    "    initial_molecule = deck[initial_index]\n",
    "    if len(initial_molecule.reactants) == 2 \\\n",
    "        and designer.match_reactions(initial_molecule):\n",
    "        return initial_molecule\n",
    "    else:\n",
    "        return select_molecule(deck)\n",
    "\n",
    "initial_molecules = [select_molecule(deck) for _ in range(5)]\n",
    "library = dg.MoleculeCollection(initial_molecules).update_annotations()\n",
    "\n",
    "# Score molecules\n",
    "for assay in assays:\n",
    "    if 'Noisy' not in assay.name:\n",
    "        results = assay(library)\n",
    "        for molecule, result in zip(library, results):\n",
    "            molecule.update_annotations({assay.name: result})\n",
    "\n",
    "# Set status to tested\n",
    "library.set_status('Tested', step=0)"
   ]
  },
  {
   "cell_type": "markdown",
   "id": "150be54d-31a4-4287-bb31-abcde4e6abc0",
   "metadata": {
    "tags": []
   },
   "source": [
    "Instantiate Environment and Agent."
   ]
  },
  {
   "cell_type": "code",
   "execution_count": 6,
   "id": "7e6d8a3a-1c83-4dde-82ea-d56a04ca1724",
   "metadata": {
    "tags": []
   },
   "outputs": [],
   "source": [
    "from dgym.envs import DrugEnv\n",
    "from dgym.agents import SequentialDrugAgent\n",
    "from dgym.agents.exploration import EpsilonGreedy\n",
    "\n",
    "drug_env = DrugEnv(\n",
    "    designer = designer,\n",
    "    library = library,\n",
    "    assays = assays,\n",
    "    utility_function = utility_env\n",
    ")\n",
    "\n",
    "# Construct sequence\n",
    "design_grow = {'name': 'design', 'batch_size': 8, 'parameters': {'strategy': 'grow', 'size': 5}}\n",
    "design_replace = {'name': 'design', 'batch_size': 8, 'parameters': {'strategy': 'replace', 'size': 5, 'temperature': 0.2}}\n",
    "score = {'name': ['Noisy ABL1 pIC50', 'Noisy Log S', 'Noisy Log P'], 'batch_size': 8 * 5, 'parameters': {'batch_size': 40}}\n",
    "make = {'name': 'make', 'batch_size': 8}\n",
    "test = {'name': ['ABL1 pIC50', 'Log S', 'Log P'], 'batch_size': 8}\n",
    "sequence = [design_replace, score, design_grow, score, make, test]\n",
    "\n",
    "drug_agent = SequentialDrugAgent(\n",
    "    sequence = sequence,\n",
    "    exploration_strategy = EpsilonGreedy(epsilon=0.25),\n",
    "    utility_function = utility_agent\n",
    ")"
   ]
  },
  {
   "cell_type": "code",
   "execution_count": 7,
   "id": "a0405181-b818-423f-b2a3-73d9c3916b2b",
   "metadata": {
    "tags": []
   },
   "outputs": [],
   "source": [
    "def display_best(experiment):\n",
    "    import numpy as np\n",
    "    observations = experiment.drug_env.library\n",
    "    utilities = experiment.drug_env.utility_function(\n",
    "        observations, use_precomputed=True, method='average')\n",
    "    for obs, utility in zip(observations, utilities):\n",
    "        obs.update_annotations({'utility': utility})\n",
    "    tested = observations.tested\n",
    "    if tested:\n",
    "        best_tested = (\n",
    "            tested\n",
    "            .annotations\n",
    "            .sort_values('utility', ascending=False)\n",
    "            [['ABL1 pIC50', 'Log S', 'Log P', 'utility']]\n",
    "            .head()\n",
    "        )\n",
    "        display(best_tested)"
   ]
  },
  {
   "cell_type": "code",
   "execution_count": 8,
   "id": "b009073c-81e6-49d5-9bab-87990a114d49",
   "metadata": {
    "tags": []
   },
   "outputs": [
    {
     "data": {
      "application/vnd.jupyter.widget-view+json": {
       "model_id": "146aad574b2746d880fc1c80dfd27ab5",
       "version_major": 2,
       "version_minor": 0
      },
      "text/plain": [
       "  0%|          | 0/1 [00:00<?, ?it/s]"
      ]
     },
     "metadata": {},
     "output_type": "display_data"
    },
    {
     "data": {
      "application/vnd.jupyter.widget-view+json": {
       "model_id": "e32731e80ba04878bc9826ce7c5037c1",
       "version_major": 2,
       "version_minor": 0
      },
      "text/plain": [
       "  0%|          | 0/100000 [00:00<?, ?it/s]"
      ]
     },
     "metadata": {},
     "output_type": "display_data"
    },
    {
     "name": "stdout",
     "output_type": "stream",
     "text": [
      "Created action\n",
      "{'name': 'design', 'parameters': {'strategy': 'replace', 'size': 5, 'temperature': 0.2}, 'molecules': [1, 3, 4, 2, 0]}\n",
      "['Tested', 'Tested', 'Tested', 'Tested', 'Tested']\n"
     ]
    },
    {
     "name": "stderr",
     "output_type": "stream",
     "text": [
      "[21:11:28] Can't kekulize mol.  Unkekulized atoms: 10 11 12 13 14\n",
      "[21:11:28] Can't kekulize mol.  Unkekulized atoms: 4 5 6 7 8\n",
      "[21:11:28] Can't kekulize mol.  Unkekulized atoms: 4 5 6 7 8\n",
      "[21:11:28] Can't kekulize mol.  Unkekulized atoms: 4 5 6 7 8\n"
     ]
    },
    {
     "name": "stdout",
     "output_type": "stream",
     "text": [
      "-0.15524004235291752\n",
      "Created action\n",
      "{'name': ['Noisy ABL1 pIC50', 'Noisy Log S', 'Noisy Log P'], 'parameters': {'batch_size': 40}, 'molecules': [5, 6, 7, 8, 25, 9, 10, 11, 12, 13, 19, 14, 15, 16, 17, 18, 20, 21, 22, 28, 23, 24, 26, 27, 29]}\n",
      "['Designed', 'Designed', 'Designed', 'Designed', 'Designed', 'Designed', 'Designed', 'Designed', 'Designed', 'Designed', 'Designed', 'Designed', 'Designed', 'Designed', 'Designed', 'Designed', 'Designed', 'Designed', 'Designed', 'Designed', 'Designed', 'Designed', 'Designed', 'Designed', 'Designed']\n",
      "{'batch_size': 40}\n"
     ]
    },
    {
     "name": "stderr",
     "output_type": "stream",
     "text": [
      "[21:11:28] Can't kekulize mol.  Unkekulized atoms: 13 14 15 16 17\n",
      "[21:11:28] Can't kekulize mol.  Unkekulized atoms: 10 11 12 13 14\n",
      "[21:11:28] Can't kekulize mol.  Unkekulized atoms: 8 9 10 11 12\n"
     ]
    },
    {
     "name": "stdout",
     "output_type": "stream",
     "text": [
      "[]\n",
      "unidock --receptor ../../dgym-data/dockstring_targets/ABL1_target.pdbqt --ligand_index /tmp/tmpyqkvg6t3/ligands.txt --dir /tmp/tmpyqkvg6t3 --search_mode detailed --scoring vina --seed 5 --center_x 15.851 --center_y 14.647 --center_z 3.904 --size_x 22.5 --size_y 22.5 --size_z 22.5\n",
      "CompletedProcess(args='unidock --receptor ../../dgym-data/dockstring_targets/ABL1_target.pdbqt --ligand_index /tmp/tmpyqkvg6t3/ligands.txt --dir /tmp/tmpyqkvg6t3 --search_mode detailed --scoring vina --seed 5 --center_x 15.851 --center_y 14.647 --center_z 3.904 --size_x 22.5 --size_y 22.5 --size_z 22.5', returncode=139, stdout='Uni-Dock v1.1.0\\n\\nIf you used Uni-Dock in your work, please cite:               \\n \\nYu, Y., Cai, C., Wang, J., Bo, Z., Zhu, Z., & Zheng, H. (2023). \\nUni-Dock: GPU-Accelerated Docking Enables Ultralarge Virtual Screening. \\nJournal of Chemical Theory and Computation.                    \\nhttps://doi.org/10.1021/acs.jctc.2c01145                       \\n\\nTang, S., Chen, R., Lin, M., Lin, Q., Zhu, Y., Ding, J., ... & Wu, J. (2022). \\nAccelerating autodock vina with gpus. Molecules, 27(9), 3041. \\nDOI 10.3390/molecules27093041                                 \\n\\nJ. Eberhardt, D. Santos-Martins, A. F. Tillack, and S. Forli  \\nAutoDock Vina 1.2.0: New Docking Methods, Expanded Force      \\nField, and Python Bindings, J. Chem. Inf. Model. (2021)       \\nDOI 10.1021/acs.jcim.1c00203                                  \\n\\nO. Trott, A. J. Olson,                                        \\nAutoDock Vina: improving the speed and accuracy of docking    \\nwith a new scoring function, efficient optimization and        \\nmultithreading, J. Comp. Chem. (2010)                         \\nDOI 10.1002/jcc.21334                                         \\n\\nPlease refer to https://github.com/dptech-corp/Uni-Dock/ for  \\nbug reporting, license agreements, and more information.      \\n\\nScoring function : vina\\nRigid receptor: ../../dgym-data/dockstring_targets/ABL1_target.pdbqt\\nGrid center: X 15.851 Y 14.647 Z 3.904\\nGrid size  : X 22.5 Y 22.5 Z 22.5\\nGrid space : 0.375\\nExhaustiveness: 512\\nCPU: 0\\nVerbosity: 1\\n\\nComputing Vina grid ... done.\\nTotal ligands: 25\\nSet GPU device id to 0\\nAvailable Memory = 7070MiB   Total Memory = 8187MiB\\n', stderr='\\n\\nStructure parsing error: Atom type B is not a valid AutoDock type (atom types are case-sensitive).\\n > ATOM     19  B   UNL     1      -1.846   1.207   0.958  1.00  0.00     0.490 B \\nLigand name:/tmp/tmpyqkvg6t3/ligand_11.pdbqt\\n\\nSegmentation fault\\n')\n",
      "[nan, nan, nan, nan, nan, nan, nan, nan, nan, nan, nan, nan, nan, nan, nan, nan, nan, nan, nan, nan, nan, nan, nan, nan, nan]\n",
      "{'batch_size': 40}\n",
      "[-1.800302955443887, -3.3357549059647393, -6.152048552371143, -3.102962772460616, -2.5061950855956905, -2.832252580478371, -4.779454917310053, -1.992771630374131, -2.7007120791022383, -2.877431059928312, -4.73636004441, -2.186618299594741, -3.2737737319757843, -0.7296070787493492, 0.4576359844309741, -1.3730473399232221, -1.8633336340375604, -1.5347593260442247, -2.140583850831339, -1.088767783027854, -2.184920515543927, -3.783939977973009, -0.835949865668199, 0.9355855428006687, -1.5479977770643452]\n",
      "{'batch_size': 40}\n",
      "[1.2988375428468686, 3.628203958827739, 4.2156952749054515, 2.2321245574638566, 2.217734732319499, 1.697888025904099, 5.317155537928312, 1.3993691578244618, 3.7835385631575273, 4.63263622570254, 4.646591568575159, 0.4498870028162174, 3.2730817927089504, 1.891730040234687, -1.1776471603205594, 1.7027749232432936, 1.2221741191405073, 1.1248930481991017, 0.9951326995677148, 1.7905616574078238, 1.5198435538394983, 2.4472683673977547, -0.25245567279189596, 0.3977302131513473, 2.287622603134792]\n",
      "-0.15524004235291752\n",
      "Created action\n",
      "{'name': 'design', 'parameters': {'strategy': 'grow', 'size': 5}, 'molecules': [1, 3, 4, 2, 0]}\n",
      "['Tested', 'Tested', 'Tested', 'Tested', 'Tested']\n"
     ]
    },
    {
     "name": "stderr",
     "output_type": "stream",
     "text": [
      "[21:11:30] Explicit valence for atom # 4 N greater than permitted\n",
      "[21:11:30] ERROR: Could not sanitize molecule ending on line 12201\n",
      "[21:11:30] ERROR: Explicit valence for atom # 4 N greater than permitted\n",
      "[21:11:30] Can't kekulize mol.  Unkekulized atoms: 8 9 10 11 12\n",
      "[21:11:30] Can't kekulize mol.  Unkekulized atoms: 8 9 10 11 12\n",
      "[21:11:30] Can't kekulize mol.  Unkekulized atoms: 8 9 10 11 12\n",
      "[21:11:30] Can't kekulize mol.  Unkekulized atoms: 8 9 10 11 12\n",
      "[21:11:30] Can't kekulize mol.  Unkekulized atoms: 8 9 10 11 12\n",
      "[21:11:30] Can't kekulize mol.  Unkekulized atoms: 7 8 9 10 11\n",
      "[21:11:30] Can't kekulize mol.  Unkekulized atoms: 6 7 8 9 10\n",
      "[21:11:30] Can't kekulize mol.  Unkekulized atoms: 6 7 8 9 10\n",
      "[21:11:30] Can't kekulize mol.  Unkekulized atoms: 9 10 11 12 13\n",
      "[21:11:30] Can't kekulize mol.  Unkekulized atoms: 8 9 10 11 12\n",
      "[21:11:30] Can't kekulize mol.  Unkekulized atoms: 9 10 11 12 13\n",
      "[21:11:30] Can't kekulize mol.  Unkekulized atoms: 9 10 11 12 13\n",
      "[21:11:30] Can't kekulize mol.  Unkekulized atoms: 8 9 10 11 12\n",
      "[21:11:30] Can't kekulize mol.  Unkekulized atoms: 9 10 11 12 13\n",
      "[21:11:30] Can't kekulize mol.  Unkekulized atoms: 8 9 10 11 12\n",
      "[21:11:30] Can't kekulize mol.  Unkekulized atoms: 7 8 9 10 11\n",
      "[21:11:30] Can't kekulize mol.  Unkekulized atoms: 7 8 9 10 11\n",
      "[21:11:30] Can't kekulize mol.  Unkekulized atoms: 8 9 10 11 12\n",
      "[21:11:30] Can't kekulize mol.  Unkekulized atoms: 8 9 10 11 12\n",
      "[21:11:30] Can't kekulize mol.  Unkekulized atoms: 8 9 10 11 12\n",
      "[21:11:30] Can't kekulize mol.  Unkekulized atoms: 8 9 10 11 12\n",
      "[21:11:30] Can't kekulize mol.  Unkekulized atoms: 9 10 11 12 13\n",
      "[21:11:30] Can't kekulize mol.  Unkekulized atoms: 9 10 11 12 13\n",
      "[21:11:30] Can't kekulize mol.  Unkekulized atoms: 9 10 11 12 13\n",
      "[21:11:30] Can't kekulize mol.  Unkekulized atoms: 9 10 11 12 13\n",
      "[21:11:30] Can't kekulize mol.  Unkekulized atoms: 9 10 11 12 13\n",
      "[21:11:30] Can't kekulize mol.  Unkekulized atoms: 8 9 10 11 12\n",
      "[21:11:30] Can't kekulize mol.  Unkekulized atoms: 7 8 9 10 11\n",
      "[21:11:30] Can't kekulize mol.  Unkekulized atoms: 8 9 10 11 12\n",
      "[21:11:30] Can't kekulize mol.  Unkekulized atoms: 8 9 10 11 12\n",
      "[21:11:30] Can't kekulize mol.  Unkekulized atoms: 8 9 10 11 12\n",
      "[21:11:30] Can't kekulize mol.  Unkekulized atoms: 8 9 10 11 12\n",
      "[21:11:30] Can't kekulize mol.  Unkekulized atoms: 9 10 11 12 13\n",
      "[21:11:30] Can't kekulize mol.  Unkekulized atoms: 9 10 11 12 13\n",
      "[21:11:30] Can't kekulize mol.  Unkekulized atoms: 9 10 11 12 13\n",
      "[21:11:30] Can't kekulize mol.  Unkekulized atoms: 9 10 11 12 13\n",
      "[21:11:30] Can't kekulize mol.  Unkekulized atoms: 6 7 8 9 10\n",
      "[21:11:30] Can't kekulize mol.  Unkekulized atoms: 8 9 10 11 12\n"
     ]
    },
    {
     "name": "stdout",
     "output_type": "stream",
     "text": [
      "-0.15524004235291752\n",
      "Created action\n",
      "{'name': ['Noisy ABL1 pIC50', 'Noisy Log S', 'Noisy Log P'], 'parameters': {'batch_size': 40}, 'molecules': [5, 9, 38, 32, 11, 18, 20, 26, 21, 22, 23, 36, 28, 39, 16, 14, 27, 44, 25, 29, 8, 24, 15, 12, 6, 17, 13, 7, 19, 10, 30, 31, 33, 34, 35, 37, 40, 41, 42, 43]}\n",
      "['Designed', 'Designed', 'Designed', 'Designed', 'Designed', 'Designed', 'Designed', 'Designed', 'Designed', 'Designed', 'Designed', 'Designed', 'Designed', 'Designed', 'Designed', 'Designed', 'Designed', 'Designed', 'Designed', 'Designed', 'Designed', 'Designed', 'Designed', 'Designed', 'Designed', 'Designed', 'Designed', 'Designed', 'Designed', 'Designed', 'Designed', 'Designed', 'Designed', 'Designed', 'Designed', 'Designed', 'Designed', 'Designed', 'Designed', 'Designed']\n",
      "{'batch_size': 40}\n",
      "[]\n",
      "unidock --receptor ../../dgym-data/dockstring_targets/ABL1_target.pdbqt --ligand_index /tmp/tmpuqc6i7qz/ligands.txt --dir /tmp/tmpuqc6i7qz --search_mode detailed --scoring vina --seed 5 --center_x 15.851 --center_y 14.647 --center_z 3.904 --size_x 22.5 --size_y 22.5 --size_z 22.5\n",
      "CompletedProcess(args='unidock --receptor ../../dgym-data/dockstring_targets/ABL1_target.pdbqt --ligand_index /tmp/tmpuqc6i7qz/ligands.txt --dir /tmp/tmpuqc6i7qz --search_mode detailed --scoring vina --seed 5 --center_x 15.851 --center_y 14.647 --center_z 3.904 --size_x 22.5 --size_y 22.5 --size_z 22.5', returncode=0, stdout='Uni-Dock v1.1.0\\n\\nIf you used Uni-Dock in your work, please cite:               \\n \\nYu, Y., Cai, C., Wang, J., Bo, Z., Zhu, Z., & Zheng, H. (2023). \\nUni-Dock: GPU-Accelerated Docking Enables Ultralarge Virtual Screening. \\nJournal of Chemical Theory and Computation.                    \\nhttps://doi.org/10.1021/acs.jctc.2c01145                       \\n\\nTang, S., Chen, R., Lin, M., Lin, Q., Zhu, Y., Ding, J., ... & Wu, J. (2022). \\nAccelerating autodock vina with gpus. Molecules, 27(9), 3041. \\nDOI 10.3390/molecules27093041                                 \\n\\nJ. Eberhardt, D. Santos-Martins, A. F. Tillack, and S. Forli  \\nAutoDock Vina 1.2.0: New Docking Methods, Expanded Force      \\nField, and Python Bindings, J. Chem. Inf. Model. (2021)       \\nDOI 10.1021/acs.jcim.1c00203                                  \\n\\nO. Trott, A. J. Olson,                                        \\nAutoDock Vina: improving the speed and accuracy of docking    \\nwith a new scoring function, efficient optimization and        \\nmultithreading, J. Comp. Chem. (2010)                         \\nDOI 10.1002/jcc.21334                                         \\n\\nPlease refer to https://github.com/dptech-corp/Uni-Dock/ for  \\nbug reporting, license agreements, and more information.      \\n\\nScoring function : vina\\nRigid receptor: ../../dgym-data/dockstring_targets/ABL1_target.pdbqt\\nGrid center: X 15.851 Y 14.647 Z 3.904\\nGrid size  : X 22.5 Y 22.5 Z 22.5\\nGrid space : 0.375\\nExhaustiveness: 512\\nCPU: 0\\nVerbosity: 1\\n\\nComputing Vina grid ... done.\\nTotal ligands: 15\\nSet GPU device id to 0\\nAvailable Memory = 7070MiB   Total Memory = 8187MiB\\nall_ligands.size():15\\nmax_num_atoms28\\nmax_num_torsions:11\\nmax_num_rigids:3\\nmax_num_lig_pairs:213\\nSmall Group:\\nMax num_atoms: 24 Max num_torsions: 7 Max num_rigids: 2 Max num_lig_pairs: 161\\nGroup size: 3\\nMedium Group:\\nMax num_atoms: 26 Max num_torsions: 8 Max num_rigids: 3 Max num_lig_pairs: 190\\nGroup size: 3\\nLarge Group:\\nMax num_atoms: 27 Max num_torsions: 8 Max num_rigids: 2 Max num_lig_pairs: 211\\nGroup size: 3\\nExtra Large Group:\\nMax num_atoms: 28 Max num_torsions: 11 Max num_rigids: 3 Max num_lig_pairs: 213\\nGroup size: 6\\nSmall\\nMax num_atoms: 24 Max num_torsions: 7 Max num_rigids: 2 Max num_lig_pairs: 161\\nGroup size: 3\\nSmall Batch 1 size: 3\\nPerforming docking (random seed: 5) ... Time spend on GPU is 485.438202 ms\\nKernel running time: 606\\n\\nmode |   affinity | dist from best mode\\n     | (kcal/mol) | rmsd l.b.| rmsd u.b.\\n-----+------------+----------+----------\\n   1       -8.962          0          0\\n   2       -8.905      1.421      2.024\\n   3       -8.827      4.555      7.774\\n   4        -8.64      1.192      1.694\\n   5        -8.64      1.204      1.524\\n   6       -8.611     0.7166      1.025\\n   7       -8.538     0.8762      1.439\\n   8       -8.331      4.558      8.135\\n\\nmode |   affinity | dist from best mode\\n     | (kcal/mol) | rmsd l.b.| rmsd u.b.\\n-----+------------+----------+----------\\n   1       -7.651          0          0\\n   2        -7.48      1.104      1.486\\n   3       -7.347      1.599      1.968\\n   4       -7.308       2.72      5.874\\n   5       -7.273      2.269      3.139\\n   6       -7.227      2.745      5.914\\n   7       -7.165       1.71      2.004\\n   8       -7.044      1.718       1.98\\n   9       -6.956      2.895       5.49\\n\\nmode |   affinity | dist from best mode\\n     | (kcal/mol) | rmsd l.b.| rmsd u.b.\\n-----+------------+----------+----------\\n   1       -7.889          0          0\\n   2        -7.84      1.431      2.008\\n   3       -7.799      1.262      1.627\\n   4       -7.763      5.516      8.605\\n   5       -7.661      5.465       8.52\\n   6       -7.645      5.562      8.618\\n   7       -7.624      5.377      8.449\\n   8         -7.6      5.661      8.777\\n   9       -7.591      5.717      8.868\\nposes saveing time: 21\\nBatch 1 running time: 1269ms\\nMedium\\nMax num_atoms: 26 Max num_torsions: 8 Max num_rigids: 3 Max num_lig_pairs: 190\\nGroup size: 3\\nMedium Batch 1 size: 3\\nPerforming docking (random seed: 5) ... Time spend on GPU is 536.366333 ms\\nKernel running time: 667\\n\\nmode |   affinity | dist from best mode\\n     | (kcal/mol) | rmsd l.b.| rmsd u.b.\\n-----+------------+----------+----------\\n   1       -7.708          0          0\\n   2       -7.539      1.273      2.225\\n   3       -7.388      1.256      2.027\\n   4       -7.231      1.421      1.842\\n   5       -7.228      1.433       2.08\\n   6       -7.195       1.38      1.919\\n   7       -7.171      1.389      2.207\\n   8       -7.152      1.401      2.082\\n   9       -7.132     0.5976      1.082\\n\\nmode |   affinity | dist from best mode\\n     | (kcal/mol) | rmsd l.b.| rmsd u.b.\\n-----+------------+----------+----------\\n   1       -7.074          0          0\\n   2        -6.91      1.875      2.945\\n   3       -6.785      1.646       2.17\\n   4       -6.737      1.283      1.514\\n   5       -6.707      1.785      2.593\\n   6       -6.671       1.25      1.677\\n   7       -6.576      1.961      3.033\\n   8       -6.488      1.901      5.657\\n   9       -6.376      1.595      5.393\\n\\nmode |   affinity | dist from best mode\\n     | (kcal/mol) | rmsd l.b.| rmsd u.b.\\n-----+------------+----------+----------\\n   1        -7.95          0          0\\n   2       -7.906      4.897      8.178\\n   3       -7.827      1.433      1.827\\n   4       -7.776      1.377      1.533\\n   5       -7.715      1.486      1.628\\n   6       -7.711      2.001      2.965\\n   7       -7.659      4.781      8.335\\n   8       -7.649      1.938      2.598\\n   9       -7.613      4.901      8.287\\nposes saveing time: 20\\nBatch 1 running time: 1287ms\\nLarge\\nMax num_atoms: 27 Max num_torsions: 8 Max num_rigids: 2 Max num_lig_pairs: 211\\nGroup size: 3\\nLarge Batch 1 size: 3\\nPerforming docking (random seed: 5) ... Time spend on GPU is 587.529541 ms\\nKernel running time: 725\\n\\nmode |   affinity | dist from best mode\\n     | (kcal/mol) | rmsd l.b.| rmsd u.b.\\n-----+------------+----------+----------\\n   1       -8.664          0          0\\n   2       -8.638      1.322      2.645\\n   3       -8.625      1.024      1.911\\n   4       -8.489      1.671      2.651\\n   5       -8.483      1.396      2.652\\n   6       -8.419      1.244      2.412\\n   7       -8.383      4.659      8.268\\n   8       -8.381      1.011      1.851\\n   9       -8.213      1.489      2.398\\n\\nmode |   affinity | dist from best mode\\n     | (kcal/mol) | rmsd l.b.| rmsd u.b.\\n-----+------------+----------+----------\\n   1       -9.225          0          0\\n   2       -9.086      0.769      1.357\\n   3       -7.979      0.346      1.329\\n   4       -7.807      7.414      11.24\\n   5       -7.796      6.658      10.42\\n   6       -7.713      7.049      10.73\\n   7       -7.699      2.565      4.019\\n   8         -7.6      8.304      12.13\\n\\nmode |   affinity | dist from best mode\\n     | (kcal/mol) | rmsd l.b.| rmsd u.b.\\n-----+------------+----------+----------\\n   1       -6.598          0          0\\n   2       -6.572      1.477      5.563\\n   3        -6.55      2.019      4.879\\n   4        -6.52      2.182      6.098\\n   5       -6.506      1.674       2.16\\n   6       -6.457       1.12      5.883\\n   7       -6.415      2.652      5.895\\n   8        -6.25      2.338      5.695\\n   9       -6.205      1.452      5.639\\nposes saveing time: 19\\nBatch 1 running time: 1391ms\\nExtra Large\\nMax num_atoms: 28 Max num_torsions: 11 Max num_rigids: 3 Max num_lig_pairs: 213\\nGroup size: 6\\nExtra Large Batch 1 size: 6\\nPerforming docking (random seed: 5) ... Time spend on GPU is 1218.603516 ms\\nKernel running time: 1511\\n\\nmode |   affinity | dist from best mode\\n     | (kcal/mol) | rmsd l.b.| rmsd u.b.\\n-----+------------+----------+----------\\n   1       -7.284          0          0\\n   2       -7.203      1.283      2.068\\n   3       -7.139       1.68      2.478\\n   4       -7.103        2.1       3.35\\n   5       -7.055      1.931      2.988\\n   6       -7.046      1.871      3.071\\n   7        -6.92      2.083      3.243\\n   8        -6.91     0.4025      1.132\\n   9       -6.807      1.991      3.462\\n\\nmode |   affinity | dist from best mode\\n     | (kcal/mol) | rmsd l.b.| rmsd u.b.\\n-----+------------+----------+----------\\n   1       -8.041          0          0\\n   2       -7.972      1.316      2.131\\n   3       -7.954      1.416      2.271\\n   4        -7.91      1.786      2.752\\n   5       -7.829      1.152      2.084\\n   6       -7.814     0.8735      1.538\\n   7       -7.776      1.139       1.67\\n   8       -7.759       1.52      2.389\\n   9        -7.54      1.496      2.351\\n\\nmode |   affinity | dist from best mode\\n     | (kcal/mol) | rmsd l.b.| rmsd u.b.\\n-----+------------+----------+----------\\n   1       -7.918          0          0\\n   2       -7.678      2.813       7.97\\n   3       -7.599      5.555       10.5\\n   4       -7.491      5.768      10.38\\n   5       -7.478      3.001      7.914\\n   6       -7.476      4.655      9.445\\n   7       -7.452      7.009      11.24\\n   8       -7.348      6.731      10.93\\n   9       -7.193      6.808      11.19\\n\\nmode |   affinity | dist from best mode\\n     | (kcal/mol) | rmsd l.b.| rmsd u.b.\\n-----+------------+----------+----------\\n   1       -6.859          0          0\\n   2         -6.6       2.26      6.365\\n   3       -6.595       1.93      6.224\\n   4       -6.564      1.799      6.304\\n   5       -6.439      2.251      6.296\\n   6       -6.284      1.431      2.434\\n   7       -6.283      1.012      1.938\\n   8       -6.281      1.693      3.708\\n   9       -6.063      1.457      3.213\\n\\nmode |   affinity | dist from best mode\\n     | (kcal/mol) | rmsd l.b.| rmsd u.b.\\n-----+------------+----------+----------\\n   1       -7.009          0          0\\n   2       -6.947      1.353      2.333\\n   3       -6.943      1.447      2.196\\n   4        -6.91      1.843      6.339\\n   5       -6.896       1.54      2.588\\n   6       -6.796      1.257      1.901\\n   7       -6.767      1.343      2.279\\n   8       -6.725      2.302      6.335\\n   9       -6.627      2.469      6.699\\n\\nmode |   affinity | dist from best mode\\n     | (kcal/mol) | rmsd l.b.| rmsd u.b.\\n-----+------------+----------+----------\\n   1       -7.361          0          0\\n   2       -6.965       3.14      7.279\\n   3       -6.962     0.9488      1.408\\n   4         -6.9      2.724       6.71\\n   5       -6.828      4.253      7.081\\n   6        -6.72      4.009      6.807\\n   7         -6.7      3.154       5.69\\n   8       -6.699      3.791      6.698\\n   9       -6.571      4.149      6.285\\nposes saveing time: 46\\nBatch 1 running time: 2308ms\\n', stderr='')\n",
      "[nan, nan, 6.90028773710967, 5.665287617647185, nan, nan, nan, nan, nan, nan, nan, 6.039297671171741, nan, 6.7274219334607155, nan, nan, nan, 6.5927897997463205, nan, nan, nan, nan, nan, nan, nan, nan, nan, nan, nan, nan, 9.581548735733234, 5.314310155172105, 7.067965233388263, 5.46627442056779, 7.868215137681947, 6.036804712286054, 7.4796506603928865, 5.218648216904062, 5.14432994035826, 5.0573127821584976]\n",
      "{'batch_size': 40}\n",
      "[-4.006709370366435, -3.0947474496808836, -0.94303688637173, 0.36604435257166923, -1.7104168654563234, 1.0042266380985145, -4.571215516513737, -0.9925615917777015, -3.4171862892905067, -3.3181769256391616, -1.9851647127896275, -1.5512294939001474, -1.798490609251988, -2.5153272345728745, -3.1893357988696893, -3.4698329409056514, -2.6053245134821132, -1.1951649340646955, -1.5098141231891848, -0.9282627831690083, -3.1451285731337553, -3.9357446037286357, -2.8800312967409596, -1.739654240726677, -3.028910858647664, -1.4469001123737328, -2.481859262402739, -4.254294868692926, -4.132389374393991, -5.182014906780857, -4.7788383633165665, -4.048131145995131, -5.0079132997239295, -6.0766607565769934, -2.593530718628057, -3.055850777750783, -2.5748737336289658, -2.439255435798896, -2.9640130176238957, -1.3627452991409528]\n",
      "{'batch_size': 40}\n",
      "[1.690576483154815, 5.617177622665398, 0.5917513748439853, 3.8731933277659962, 1.9806609438025924, -0.7006044329083683, 3.0972189909637176, 2.884839650257706, 3.1903483135883866, 4.187636488241557, 3.221276815120593, 1.9787751356208505, 3.0600934880958546, 0.7101696043089412, 1.194682024521698, 2.8331681499322645, 1.6683317814448217, 0.15304168162677914, 0.47121500143916584, 3.165997057820525, 3.2598070121643907, 1.9370636727935464, 1.7897417069777282, 3.1593121795757653, 2.046822070573019, -0.11581837238008735, 1.850199837447478, 1.887292202700372, 3.6095681578059478, 5.586992709354162, 2.277480332804278, 4.538643418810655, 1.4269293945564163, 4.3736418792457625, 3.897824462143549, 1.1975924276112346, 2.358677403874863, 0.5129557554142842, 2.055181369838116, -1.392495541094935]\n",
      "-0.15524004235291752\n",
      "Created action\n",
      "{'name': 'make', 'parameters': {}, 'molecules': [30, 49, 23, 35, 40, 33, 45, 38]}\n",
      "['Scored', 'Designed', 'Designed', 'Scored', 'Scored', 'Scored', 'Designed', 'Scored']\n",
      "-0.15524004235291752\n",
      "Created action\n",
      "{'name': ['ABL1 pIC50', 'Log S', 'Log P'], 'parameters': {}, 'molecules': [30, 49, 35, 40, 33, 23, 38, 45]}\n",
      "['Made', 'Made', 'Made', 'Made', 'Made', 'Made', 'Made', 'Made']\n",
      "{}\n",
      "[]\n",
      "unidock --receptor ../../dgym-data/dockstring_targets/ABL1_target.pdbqt --ligand_index /tmp/tmproyvwgny/ligands.txt --dir /tmp/tmproyvwgny --search_mode detailed --scoring vina --seed 5 --center_x 15.851 --center_y 14.647 --center_z 3.904 --size_x 22.5 --size_y 22.5 --size_z 22.5\n",
      "CompletedProcess(args='unidock --receptor ../../dgym-data/dockstring_targets/ABL1_target.pdbqt --ligand_index /tmp/tmproyvwgny/ligands.txt --dir /tmp/tmproyvwgny --search_mode detailed --scoring vina --seed 5 --center_x 15.851 --center_y 14.647 --center_z 3.904 --size_x 22.5 --size_y 22.5 --size_z 22.5', returncode=0, stdout='Uni-Dock v1.1.0\\n\\nIf you used Uni-Dock in your work, please cite:               \\n \\nYu, Y., Cai, C., Wang, J., Bo, Z., Zhu, Z., & Zheng, H. (2023). \\nUni-Dock: GPU-Accelerated Docking Enables Ultralarge Virtual Screening. \\nJournal of Chemical Theory and Computation.                    \\nhttps://doi.org/10.1021/acs.jctc.2c01145                       \\n\\nTang, S., Chen, R., Lin, M., Lin, Q., Zhu, Y., Ding, J., ... & Wu, J. (2022). \\nAccelerating autodock vina with gpus. Molecules, 27(9), 3041. \\nDOI 10.3390/molecules27093041                                 \\n\\nJ. Eberhardt, D. Santos-Martins, A. F. Tillack, and S. Forli  \\nAutoDock Vina 1.2.0: New Docking Methods, Expanded Force      \\nField, and Python Bindings, J. Chem. Inf. Model. (2021)       \\nDOI 10.1021/acs.jcim.1c00203                                  \\n\\nO. Trott, A. J. Olson,                                        \\nAutoDock Vina: improving the speed and accuracy of docking    \\nwith a new scoring function, efficient optimization and        \\nmultithreading, J. Comp. Chem. (2010)                         \\nDOI 10.1002/jcc.21334                                         \\n\\nPlease refer to https://github.com/dptech-corp/Uni-Dock/ for  \\nbug reporting, license agreements, and more information.      \\n\\nScoring function : vina\\nRigid receptor: ../../dgym-data/dockstring_targets/ABL1_target.pdbqt\\nGrid center: X 15.851 Y 14.647 Z 3.904\\nGrid size  : X 22.5 Y 22.5 Z 22.5\\nGrid space : 0.375\\nExhaustiveness: 512\\nCPU: 0\\nVerbosity: 1\\n\\nComputing Vina grid ... done.\\nTotal ligands: 2\\nSet GPU device id to 0\\nAvailable Memory = 7070MiB   Total Memory = 8187MiB\\nall_ligands.size():2\\nmax_num_atoms22\\nmax_num_torsions:5\\nmax_num_rigids:2\\nmax_num_lig_pairs:117\\nSmall Group:\\nMax num_atoms: -2147483648 Max num_torsions: -2147483648 Max num_rigids: -2147483648 Max num_lig_pairs: -2147483648\\nGroup size: 0\\nMedium Group:\\nMax num_atoms: -2147483648 Max num_torsions: -2147483648 Max num_rigids: -2147483648 Max num_lig_pairs: -2147483648\\nGroup size: 0\\nLarge Group:\\nMax num_atoms: -2147483648 Max num_torsions: -2147483648 Max num_rigids: -2147483648 Max num_lig_pairs: -2147483648\\nGroup size: 0\\nExtra Large Group:\\nMax num_atoms: 22 Max num_torsions: 5 Max num_rigids: 2 Max num_lig_pairs: 117\\nGroup size: 2\\nExtra Large\\nMax num_atoms: 22 Max num_torsions: 5 Max num_rigids: 2 Max num_lig_pairs: 117\\nGroup size: 2\\nExtra Large Batch 1 size: 2\\nPerforming docking (random seed: 5) ... Time spend on GPU is 364.079010 ms\\nKernel running time: 623\\n\\nmode |   affinity | dist from best mode\\n     | (kcal/mol) | rmsd l.b.| rmsd u.b.\\n-----+------------+----------+----------\\n   1       -8.433          0          0\\n   2       -8.202      1.361       1.97\\n   3       -8.146     0.9892      1.915\\n   4       -8.068      1.276      1.578\\n   5       -8.037     0.7301      1.281\\n   6       -8.028      1.345        1.7\\n   7       -8.016      1.913      8.368\\n   8       -7.818       1.44      8.493\\n   9       -7.799      2.042      2.564\\n\\nmode |   affinity | dist from best mode\\n     | (kcal/mol) | rmsd l.b.| rmsd u.b.\\n-----+------------+----------+----------\\n   1       -8.437          0          0\\n   2       -8.059      1.098      1.343\\n   3       -7.878      2.158      9.028\\n   4       -7.742      1.475       2.38\\n   5       -7.725     0.8722      1.222\\n   6       -7.632      2.035      2.596\\n   7       -7.568      1.867      8.298\\n   8       -7.517      1.638      2.362\\nposes saveing time: 11\\nBatch 1 running time: 1162ms\\n', stderr='')\n",
      "[7.036777011894452, 6.797852066207124, 7.198261085782004, 6.253778431860886, 6.405626294810644, nan, 6.564130374115453, 6.609339785031972]\n",
      "{}\n",
      "[-4.446134870660911, -2.230442141348553, -2.362729098360883, -3.1441199373533113, -3.2736031574602356, -2.766623773466629, -2.2398564642599954, -1.8542715411194388]\n",
      "{}\n",
      "[4.082840000000003, 1.5233999999999996, 1.3078999999999994, 2.5144, 2.708640000000001, 2.8828000000000014, 0.7605999999999993, 0.7181999999999997]\n",
      "-0.15524004235291752\n",
      "Created action\n",
      "{'name': 'design', 'parameters': {'strategy': 'replace', 'size': 5, 'temperature': 0.2}, 'molecules': [1, 35, 38, 30, 37, 49, 31, 45]}\n",
      "['Tested', 'Tested', 'Tested', 'Tested', 'Scored', 'Tested', 'Scored', 'Tested']\n"
     ]
    },
    {
     "name": "stderr",
     "output_type": "stream",
     "text": [
      "[21:11:42] Can't kekulize mol.  Unkekulized atoms: 11 12 14\n",
      "[21:11:42] Can't kekulize mol.  Unkekulized atoms: 11 13 14\n",
      "[21:11:42] Can't kekulize mol.  Unkekulized atoms: 10 12 15\n",
      "[21:11:42] Can't kekulize mol.  Unkekulized atoms: 9 11 12\n",
      "[21:11:42] Can't kekulize mol.  Unkekulized atoms: 9 10 11 12 14\n",
      "\n",
      "KeyboardInterrupt\n",
      "\n"
     ]
    }
   ],
   "source": [
    "from dgym.experiment import Experiment\n",
    "\n",
    "experiment = Experiment(\n",
    "    drug_env=drug_env,\n",
    "    drug_agent=drug_agent\n",
    ")\n",
    "\n",
    "result = experiment.run()"
   ]
  },
  {
   "cell_type": "markdown",
   "id": "8e1db69f-1825-4013-b300-66cf6ad0c67b",
   "metadata": {},
   "source": [
    "## Restore old experiment"
   ]
  },
  {
   "cell_type": "code",
   "execution_count": 9,
   "id": "e6c8f3a6-71b1-478b-bc15-4dfbd8633ba8",
   "metadata": {
    "tags": []
   },
   "outputs": [],
   "source": [
    "result = experiment.dump(1)\n",
    "new_experiment = experiment.load(result)\n",
    "# result = new_experiment.run()"
   ]
  }
 ],
 "metadata": {
  "kernelspec": {
   "display_name": "Python 3 (ipykernel)",
   "language": "python",
   "name": "python3"
  },
  "language_info": {
   "codemirror_mode": {
    "name": "ipython",
    "version": 3
   },
   "file_extension": ".py",
   "mimetype": "text/x-python",
   "name": "python",
   "nbconvert_exporter": "python",
   "pygments_lexer": "ipython3",
   "version": "3.11.5"
  }
 },
 "nbformat": 4,
 "nbformat_minor": 5
}
