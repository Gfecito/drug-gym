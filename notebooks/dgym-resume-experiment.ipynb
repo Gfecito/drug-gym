{
 "cells": [
  {
   "cell_type": "markdown",
   "id": "bf578967-8741-49c0-b202-4641c1282e7c",
   "metadata": {},
   "source": [
    "# Testing New Experiment API"
   ]
  },
  {
   "cell_type": "markdown",
   "id": "0e30b740-49b2-4b5a-b87e-b94bd2a031d5",
   "metadata": {},
   "source": [
    "Load data."
   ]
  },
  {
   "cell_type": "code",
   "execution_count": 1,
   "id": "22e58bb4-098f-499b-92f9-b390d6d6540a",
   "metadata": {
    "tags": []
   },
   "outputs": [],
   "source": [
    "%reload_ext autoreload\n",
    "%autoreload 2\n",
    "import warnings\n",
    "warnings.filterwarnings('ignore') \n",
    "\n",
    "import rdkit\n",
    "import dgym as dg\n",
    "\n",
    "# load all data\n",
    "path = '../../dgym-data'\n",
    "\n",
    "deck = dg.MoleculeCollection.load(\n",
    "    f'{path}/DSi-Poised_Library_annotated.sdf',\n",
    "    reactant_names=['reagsmi1', 'reagsmi2', 'reagsmi3']\n",
    ")\n",
    "\n",
    "reactions = dg.ReactionCollection.from_json(\n",
    "    path = f'{path}/All_Rxns_rxn_library_sorted.json',\n",
    "    smarts_col = 'reaction_string',\n",
    "    classes_col = 'functional_groups'\n",
    ")\n",
    "\n",
    "building_blocks = dg.datasets.disk_loader(f'{path}/Enamine_Building_Blocks_Stock_262336cmpd_20230630.sdf')\n",
    "fingerprints = dg.datasets.fingerprints(f'{path}/Enamine_Building_Blocks_Stock_262336cmpd_20230630_atoms.fpb')\n",
    "\n",
    "import torch\n",
    "import pyarrow.parquet as pq\n",
    "table = pq.read_table('../../dgym-data/sizes.parquet')[0]\n",
    "sizes = torch.tensor(table.to_numpy())"
   ]
  },
  {
   "cell_type": "markdown",
   "id": "51744ac8-3b74-415d-a88d-abd31fd9325a",
   "metadata": {},
   "source": [
    "Load assays and utility functions."
   ]
  },
  {
   "cell_type": "code",
   "execution_count": 2,
   "id": "750653ce-6431-4dcb-abd8-cb0a6da39459",
   "metadata": {
    "tags": []
   },
   "outputs": [],
   "source": [
    "import os\n",
    "\n",
    "def get_tcp_objectives():\n",
    "\n",
    "    dockstring_dir = f'{path}/dockstring_targets/'\n",
    "    files = os.listdir(dockstring_dir)\n",
    "    configs = sorted([f for f in files if 'conf' in f])\n",
    "    targets = sorted([f for f in files if 'target' in f])\n",
    "\n",
    "    idx = 0\n",
    "    with open(dockstring_dir + configs[idx], 'r') as f:\n",
    "        config_ = f.readlines()\n",
    "        config_ = [c.replace('\\n', '') for c in config_]\n",
    "        config_ = [c.split(' = ') for c in config_ if c]\n",
    "        config_ = {c[0]: float(c[1]) for c in config_}\n",
    "\n",
    "    target = targets[idx]\n",
    "    name = target.split('_')[0]\n",
    "\n",
    "    config_.update({\n",
    "        'size_x': 22.5,\n",
    "        'size_y': 22.5,\n",
    "        'size_z': 22.5,\n",
    "    })\n",
    "\n",
    "    from dgym.envs.oracle import \\\n",
    "        DockingOracle, CatBoostOracle, RDKitOracle, NoisyOracle\n",
    "    from dgym.envs.utility import ClassicUtilityFunction\n",
    "\n",
    "    config = {\n",
    "        'search_mode': 'detailed',\n",
    "        'scoring': 'vina',\n",
    "        'seed': 5,\n",
    "        **config_\n",
    "    }\n",
    "\n",
    "    pIC50_oracle = DockingOracle(\n",
    "        f'{name} pIC50',\n",
    "        receptor_path=f'{path}/dockstring_targets/{name}_target.pdbqt',\n",
    "        config=config\n",
    "    )\n",
    "    qed_oracle = RDKitOracle('QED', descriptor='QED')\n",
    "    log_P_oracle = RDKitOracle('Log P', descriptor='MolLogP')\n",
    "    log_S_oracle = CatBoostOracle(\n",
    "        'Log S', path='../dgym/envs/models/aqsolcb.model')\n",
    "    \n",
    "    return pIC50_oracle, qed_oracle, log_P_oracle, log_S_oracle"
   ]
  },
  {
   "cell_type": "code",
   "execution_count": 3,
   "id": "b7a22a23-125c-4112-a38a-416b8d53646d",
   "metadata": {
    "tags": []
   },
   "outputs": [],
   "source": [
    "from dgym.envs.utility import ClassicUtilityFunction, MultipleUtilityFunction\n",
    "\n",
    "# Get objectives\n",
    "pIC50_oracle, qed_oracle, log_P_oracle, log_S_oracle = get_tcp_objectives()\n",
    "\n",
    "# Define utility functions\n",
    "pIC50_utility = ClassicUtilityFunction(\n",
    "    pIC50_oracle, ideal=(9.5, 13), acceptable=(8, 13))\n",
    "log_P_utility = ClassicUtilityFunction(\n",
    "    log_P_oracle, ideal=(0.5, 1.85), acceptable=(-0.5, 3.5))\n",
    "log_S_utility = ClassicUtilityFunction(\n",
    "    log_S_oracle, ideal=(-3, 1), acceptable=(-4, 1))\n",
    "# qed_utility = ClassicUtilityFunction(\n",
    "#     qed_oracle, ideal=(0.65, 1.0), acceptable=(0.5, 1.0))\n",
    "\n",
    "# Assemble assays and surrogate models\n",
    "assays = [\n",
    "    pIC50_oracle,\n",
    "    log_P_oracle,\n",
    "    log_S_oracle,\n",
    "    # qed_oracle,\n",
    "    pIC50_oracle.surrogate(sigma=1.0),\n",
    "    log_P_oracle.surrogate(sigma=1.0),\n",
    "    log_S_oracle.surrogate(sigma=1.0),\n",
    "    # qed_oracle.surrogate(sigma=0.1),\n",
    "]\n",
    "\n",
    "# Environment tolerates acceptable ADMET\n",
    "from copy import deepcopy\n",
    "utility_agent = MultipleUtilityFunction(\n",
    "    utility_functions = [pIC50_utility, log_P_utility, log_S_utility],\n",
    "    weights = [0.8, 0.1, 0.1]\n",
    ")\n",
    "utility_env = deepcopy(utility_agent)\n",
    "utility_env.utility_functions[1].ideal = utility_env.utility_functions[1].acceptable\n",
    "utility_env.utility_functions[2].ideal = utility_env.utility_functions[2].acceptable"
   ]
  },
  {
   "cell_type": "markdown",
   "id": "33c88781-ba5b-4e45-98ea-8e25a4639eac",
   "metadata": {},
   "source": [
    "Instantiate designer."
   ]
  },
  {
   "cell_type": "code",
   "execution_count": 4,
   "id": "80f19092-150e-4fb7-87d6-e1c203aa721b",
   "metadata": {
    "tags": []
   },
   "outputs": [],
   "source": [
    "from dgym.envs.designer import Designer, Generator\n",
    "\n",
    "designer = Designer(\n",
    "    Generator(building_blocks, fingerprints, sizes),\n",
    "    reactions,\n",
    "    cache = True\n",
    ")"
   ]
  },
  {
   "cell_type": "markdown",
   "id": "01233a8b-8f11-481b-8154-08b9e234c01d",
   "metadata": {},
   "source": [
    "Pick 5 random starting hits."
   ]
  },
  {
   "cell_type": "code",
   "execution_count": 5,
   "id": "8fcc0795-ebaa-42de-ac4b-dec137e9fc22",
   "metadata": {
    "tags": []
   },
   "outputs": [],
   "source": [
    "# select first molecule\n",
    "import random\n",
    "def select_molecule(deck):\n",
    "    initial_index = random.randint(0, len(deck) - 1)\n",
    "    initial_molecule = deck[initial_index]\n",
    "    if len(initial_molecule.reactants) == 2 \\\n",
    "        and designer.match_reactions(initial_molecule):\n",
    "        return initial_molecule\n",
    "    else:\n",
    "        return select_molecule(deck)\n",
    "\n",
    "initial_molecules = [select_molecule(deck) for _ in range(5)]\n",
    "library = dg.MoleculeCollection(initial_molecules).update_annotations()\n",
    "\n",
    "# Score molecules\n",
    "for assay in assays:\n",
    "    if 'Noisy' not in assay.name:\n",
    "        results = assay(library)\n",
    "        for molecule, result in zip(library, results):\n",
    "            molecule.update_annotations({assay.name: result})\n",
    "\n",
    "# Set status to tested\n",
    "library.set_status('Tested', step=0)"
   ]
  },
  {
   "cell_type": "markdown",
   "id": "150be54d-31a4-4287-bb31-abcde4e6abc0",
   "metadata": {
    "tags": []
   },
   "source": [
    "Instantiate Environment and Agent."
   ]
  },
  {
   "cell_type": "code",
   "execution_count": 6,
   "id": "7e6d8a3a-1c83-4dde-82ea-d56a04ca1724",
   "metadata": {
    "tags": []
   },
   "outputs": [],
   "source": [
    "from dgym.envs import DrugEnv\n",
    "from dgym.agents import SequentialDrugAgent\n",
    "from dgym.agents.exploration import EpsilonGreedy\n",
    "\n",
    "drug_env = DrugEnv(\n",
    "    designer = designer,\n",
    "    library = library,\n",
    "    assays = assays,\n",
    "    utility_function = utility_env\n",
    ")\n",
    "\n",
    "# Construct sequence\n",
    "design_grow = {'name': 'design', 'batch_size': 8, 'parameters': {'strategy': 'grow', 'size': 5}}\n",
    "design_replace = {'name': 'design', 'batch_size': 8, 'parameters': {'strategy': 'replace', 'size': 5, 'temperature': 0.2}}\n",
    "score = {'name': ['Noisy ABL1 pIC50', 'Noisy Log S', 'Noisy Log P'], 'batch_size': 8 * 5, 'parameters': {'batch_size': 40}}\n",
    "make = {'name': 'make', 'batch_size': 8}\n",
    "test = {'name': ['ABL1 pIC50', 'Log S', 'Log P'], 'batch_size': 8}\n",
    "design_and_score = [design_replace, score]\n",
    "\n",
    "sequence = [*(design_and_score * 1), design_grow, score, make, test]\n",
    "\n",
    "drug_agent = SequentialDrugAgent(\n",
    "    sequence = sequence,\n",
    "    exploration_strategy = EpsilonGreedy(epsilon=0.25),\n",
    "    utility_function = utility_agent\n",
    ")"
   ]
  },
  {
   "cell_type": "code",
   "execution_count": 7,
   "id": "a0405181-b818-423f-b2a3-73d9c3916b2b",
   "metadata": {
    "tags": []
   },
   "outputs": [],
   "source": [
    "def display_best(experiment):\n",
    "    import numpy as np\n",
    "    observations = experiment.drug_env.library\n",
    "    utilities = experiment.drug_env.utility_function(\n",
    "        observations, use_precomputed=True, method='average')\n",
    "    for obs, utility in zip(observations, utilities):\n",
    "        obs.update_annotations({'utility': utility})\n",
    "    tested = observations.tested\n",
    "    if tested:\n",
    "        best_tested = (\n",
    "            tested\n",
    "            .annotations\n",
    "            .sort_values('utility', ascending=False)\n",
    "            [['ABL1 pIC50', 'Log S', 'Log P', 'utility']]\n",
    "            .head()\n",
    "        )\n",
    "        display(best_tested)"
   ]
  },
  {
   "cell_type": "code",
   "execution_count": 8,
   "id": "b009073c-81e6-49d5-9bab-87990a114d49",
   "metadata": {
    "tags": []
   },
   "outputs": [
    {
     "data": {
      "application/vnd.jupyter.widget-view+json": {
       "model_id": "c76998d8b78740c5b77a17450ab00dcf",
       "version_major": 2,
       "version_minor": 0
      },
      "text/plain": [
       "  0%|          | 0/1 [00:00<?, ?it/s]"
      ]
     },
     "metadata": {},
     "output_type": "display_data"
    },
    {
     "data": {
      "application/vnd.jupyter.widget-view+json": {
       "model_id": "06d6361e8a18401496c11b7520dd0972",
       "version_major": 2,
       "version_minor": 0
      },
      "text/plain": [
       "  0%|          | 0/100000 [00:00<?, ?it/s]"
      ]
     },
     "metadata": {},
     "output_type": "display_data"
    },
    {
     "name": "stdout",
     "output_type": "stream",
     "text": [
      "Memory before action: Memory Usage: 5.90 GB\n",
      "Created action\n",
      "{'name': 'design', 'parameters': {'strategy': 'replace', 'size': 5, 'temperature': 0.2}, 'molecules': [2, 1, 0, 4, 3]}\n",
      "Memory after action: Memory Usage: 5.97 GB\n",
      "0.27562202517622725\n",
      "Memory before action: Memory Usage: 5.97 GB\n",
      "Created action\n",
      "{'name': ['Noisy ABL1 pIC50', 'Noisy Log S', 'Noisy Log P'], 'parameters': {'batch_size': 40}, 'molecules': [5, 21, 6, 11, 7, 27, 8, 9, 10, 12, 13, 14, 15, 16, 22, 25, 17, 18, 23, 19, 20, 24, 29, 26, 28]}\n",
      "{'batch_size': 40}\n",
      "{'batch_size': 40}\n",
      "{'batch_size': 40}\n",
      "Memory after action: Memory Usage: 6.02 GB\n",
      "0.27562202517622725\n",
      "Memory before action: Memory Usage: 6.02 GB\n",
      "Created action\n",
      "{'name': 'design', 'parameters': {'strategy': 'grow', 'size': 5}, 'molecules': [6, 2, 1, 12, 26, 21, 11, 29]}\n",
      "Memory after action: Memory Usage: 5.98 GB\n",
      "0.27562202517622725\n",
      "Memory before action: Memory Usage: 5.98 GB\n",
      "Created action\n",
      "{'name': ['Noisy ABL1 pIC50', 'Noisy Log S', 'Noisy Log P'], 'parameters': {'batch_size': 40}, 'molecules': [30, 31, 32, 33, 53, 42, 34, 35, 36, 37, 38, 39, 40, 41, 43, 44, 45, 46, 47, 63, 48, 69, 49, 50, 65, 64, 51, 52, 54, 55, 59, 66, 56, 57, 58, 68, 60, 61, 62, 67]}\n",
      "{'batch_size': 40}\n",
      "{'batch_size': 40}\n",
      "{'batch_size': 40}\n",
      "Memory after action: Memory Usage: 6.03 GB\n",
      "0.27562202517622725\n",
      "Memory before action: Memory Usage: 5.98 GB\n",
      "Created action\n",
      "{'name': 'make', 'parameters': {}, 'molecules': [28, 23, 40, 43, 68, 6, 12, 30]}\n",
      "Memory after action: Memory Usage: 5.98 GB\n",
      "0.27562202517622725\n",
      "Memory before action: Memory Usage: 5.98 GB\n",
      "Created action\n",
      "{'name': ['ABL1 pIC50', 'Log S', 'Log P'], 'parameters': {}, 'molecules': [40, 23, 6, 43, 12, 30, 68, 28]}\n",
      "{}\n",
      "{}\n",
      "{}\n",
      "Memory after action: Memory Usage: 5.98 GB\n",
      "0.27562202517622725\n",
      "Memory before action: Memory Usage: 5.98 GB\n",
      "Created action\n",
      "{'name': 'design', 'parameters': {'strategy': 'replace', 'size': 5, 'temperature': 0.2}, 'molecules': [60, 54, 2, 63, 58, 36, 12, 11]}\n",
      "Memory after action: Memory Usage: 6.08 GB\n",
      "0.27562202517622725\n",
      "Memory before action: Memory Usage: 6.08 GB\n",
      "Created action\n",
      "{'name': ['Noisy ABL1 pIC50', 'Noisy Log S', 'Noisy Log P'], 'parameters': {'batch_size': 40}, 'molecules': [70, 71, 72, 73, 98, 105, 101, 74, 75, 76, 77, 78, 79, 80, 81, 84, 82, 83, 85, 86, 87, 89, 88, 90, 91, 92, 93, 94, 102, 95, 96, 97, 99, 100, 103, 104, 106, 107, 108, 109]}\n",
      "{'batch_size': 40}\n",
      "{'batch_size': 40}\n",
      "{'batch_size': 40}\n",
      "Memory after action: Memory Usage: 6.13 GB\n",
      "0.27562202517622725\n",
      "Memory before action: Memory Usage: 6.09 GB\n",
      "Created action\n",
      "{'name': 'design', 'parameters': {'strategy': 'grow', 'size': 5}, 'molecules': [2, 101, 6, 30, 82, 63, 108, 36]}\n",
      "Memory after action: Memory Usage: 6.08 GB\n",
      "0.27562202517622725\n",
      "Memory before action: Memory Usage: 6.08 GB\n",
      "Created action\n",
      "{'name': ['Noisy ABL1 pIC50', 'Noisy Log S', 'Noisy Log P'], 'parameters': {'batch_size': 40}, 'molecules': [110, 111, 127, 112, 113, 114, 137, 130, 115, 116, 117, 118, 119, 120, 121, 122, 129, 123, 124, 125, 141, 126, 128, 131, 133, 143, 132, 134, 144, 135, 136, 138, 139, 140, 142]}\n",
      "{'batch_size': 40}\n",
      "{'batch_size': 40}\n",
      "{'batch_size': 40}\n",
      "Memory after action: Memory Usage: 6.12 GB\n",
      "0.27562202517622725\n",
      "Memory before action: Memory Usage: 6.08 GB\n",
      "Created action\n",
      "{'name': 'make', 'parameters': {}, 'molecules': [104, 128, 101, 135, 117, 143, 109, 16]}\n",
      "Memory after action: Memory Usage: 6.08 GB\n",
      "0.27562202517622725\n",
      "Memory before action: Memory Usage: 6.08 GB\n",
      "Created action\n",
      "{'name': ['ABL1 pIC50', 'Log S', 'Log P'], 'parameters': {}, 'molecules': [128, 101, 135, 117, 109, 16, 104, 143]}\n",
      "{}\n",
      "{}\n",
      "{}\n",
      "Memory after action: Memory Usage: 6.08 GB\n",
      "0.27562202517622725\n",
      "Memory before action: Memory Usage: 6.08 GB\n",
      "Created action\n",
      "{'name': 'design', 'parameters': {'strategy': 'replace', 'size': 5, 'temperature': 0.2}, 'molecules': [2, 128, 119, 41, 109, 105, 82, 101]}\n",
      "Memory after action: Memory Usage: 6.15 GB\n",
      "0.27562202517622725\n",
      "Memory before action: Memory Usage: 6.15 GB\n",
      "Created action\n",
      "{'name': ['Noisy ABL1 pIC50', 'Noisy Log S', 'Noisy Log P'], 'parameters': {'batch_size': 40}, 'molecules': [145, 165, 146, 151, 147, 148, 149, 150, 152, 160, 153, 154, 155, 156, 184, 157, 158, 159, 164, 163, 161, 162, 179, 174, 166, 178, 176, 167, 168, 170, 169, 181, 171, 172, 173, 175, 177, 183, 182, 180]}\n",
      "{'batch_size': 40}\n",
      "{'batch_size': 40}\n",
      "{'batch_size': 40}\n",
      "Memory after action: Memory Usage: 6.20 GB\n",
      "0.27562202517622725\n",
      "Memory before action: Memory Usage: 6.15 GB\n",
      "Created action\n",
      "{'name': 'design', 'parameters': {'strategy': 'grow', 'size': 5}, 'molecules': [98, 2, 128, 139, 157, 156, 152, 148]}\n",
      "Memory after action: Memory Usage: 6.15 GB\n",
      "0.27562202517622725\n",
      "Memory before action: Memory Usage: 6.15 GB\n",
      "Created action\n",
      "{'name': ['Noisy ABL1 pIC50', 'Noisy Log S', 'Noisy Log P'], 'parameters': {'batch_size': 40}, 'molecules': [185, 186, 187, 188, 189, 190, 191, 192, 197, 193, 194, 195, 196, 199, 200, 201, 198, 208, 202, 203, 204, 207, 205, 206, 209]}\n",
      "{'batch_size': 40}\n",
      "{'batch_size': 40}\n",
      "{'batch_size': 40}\n",
      "Memory after action: Memory Usage: 6.20 GB\n",
      "0.27562202517622725\n",
      "Memory before action: Memory Usage: 6.15 GB\n",
      "Created action\n",
      "{'name': 'make', 'parameters': {}, 'molecules': [192, 166, 156, 182, 148, 191, 157, 152]}\n",
      "Memory after action: Memory Usage: 6.15 GB\n",
      "0.27562202517622725\n",
      "Memory before action: Memory Usage: 6.15 GB\n",
      "Created action\n",
      "{'name': ['ABL1 pIC50', 'Log S', 'Log P'], 'parameters': {}, 'molecules': [192, 152, 156, 182, 148, 191, 157, 166]}\n",
      "{}\n",
      "{}\n",
      "{}\n",
      "Memory after action: Memory Usage: 6.15 GB\n",
      "0.27562202517622725\n",
      "Memory before action: Memory Usage: 6.15 GB\n",
      "Created action\n",
      "{'name': 'design', 'parameters': {'strategy': 'replace', 'size': 5, 'temperature': 0.2}, 'molecules': [152, 2, 128, 182, 193, 191, 169, 190]}\n",
      "Memory after action: Memory Usage: 6.28 GB\n",
      "0.27562202517622725\n",
      "Memory before action: Memory Usage: 6.28 GB\n",
      "Created action\n",
      "{'name': ['Noisy ABL1 pIC50', 'Noisy Log S', 'Noisy Log P'], 'parameters': {'batch_size': 40}, 'molecules': [243, 210, 211, 228, 212, 213, 214, 215, 216, 220, 217, 218, 219, 221, 222, 223, 238, 224, 225, 226, 227, 229, 230, 231, 232, 233, 234, 235, 236, 237, 239, 240, 245, 247, 241, 242, 244, 246, 248, 249]}\n",
      "{'batch_size': 40}\n",
      "{'batch_size': 40}\n",
      "{'batch_size': 40}\n",
      "Memory after action: Memory Usage: 6.32 GB\n",
      "0.27562202517622725\n",
      "Memory before action: Memory Usage: 6.28 GB\n",
      "Created action\n",
      "{'name': 'design', 'parameters': {'strategy': 'grow', 'size': 5}, 'molecules': [234, 152, 2, 128, 43, 227, 79, 245]}\n",
      "Memory after action: Memory Usage: 6.29 GB\n",
      "0.27562202517622725\n",
      "Memory before action: Memory Usage: 6.29 GB\n",
      "Created action\n",
      "{'name': ['Noisy ABL1 pIC50', 'Noisy Log S', 'Noisy Log P'], 'parameters': {'batch_size': 40}, 'molecules': [250, 288, 289, 251, 271, 252, 253, 254, 255, 256, 257, 258, 259, 287, 260, 261, 262, 263, 264, 265, 266, 267, 268, 269, 270, 272, 273, 281, 274, 279, 275, 285, 276, 277, 278, 280, 283, 282, 286, 284]}\n",
      "{'batch_size': 40}\n",
      "{'batch_size': 40}\n",
      "{'batch_size': 40}\n",
      "Memory after action: Memory Usage: 6.29 GB\n",
      "0.27562202517622725\n",
      "Memory before action: Memory Usage: 6.29 GB\n",
      "Created action\n",
      "{'name': 'make', 'parameters': {}, 'molecules': [233, 39, 227, 165, 245, 213, 222, 247]}\n",
      "Memory after action: Memory Usage: 6.29 GB\n",
      "0.27562202517622725\n",
      "Memory before action: Memory Usage: 6.29 GB\n",
      "Created action\n",
      "{'name': ['ABL1 pIC50', 'Log S', 'Log P'], 'parameters': {}, 'molecules': [227, 245, 213, 222, 247, 165, 233, 39]}\n",
      "{}\n",
      "{}\n",
      "{}\n",
      "Memory after action: Memory Usage: 6.29 GB\n",
      "0.27562202517622725\n",
      "Memory before action: Memory Usage: 6.29 GB\n",
      "Created action\n",
      "{'name': 'design', 'parameters': {'strategy': 'replace', 'size': 5, 'temperature': 0.2}, 'molecules': [286, 222, 213, 152, 2, 128, 153, 227]}\n",
      "Memory after action: Memory Usage: 6.35 GB\n",
      "0.27562202517622725\n",
      "Memory before action: Memory Usage: 6.35 GB\n",
      "Created action\n",
      "{'name': ['Noisy ABL1 pIC50', 'Noisy Log S', 'Noisy Log P'], 'parameters': {'batch_size': 40}, 'molecules': [290, 291, 322, 306, 303, 319, 292, 293, 294, 295, 296, 297, 298, 299, 300, 301, 302, 304, 305, 307, 308, 309, 323, 310, 311, 327, 315, 320, 312, 313, 314, 326, 316, 317, 318, 329, 321, 324, 325, 328]}\n",
      "{'batch_size': 40}\n",
      "{'batch_size': 40}\n",
      "{'batch_size': 40}\n",
      "Memory after action: Memory Usage: 6.41 GB\n",
      "0.27562202517622725\n",
      "Memory before action: Memory Usage: 6.34 GB\n",
      "Created action\n",
      "{'name': 'design', 'parameters': {'strategy': 'grow', 'size': 5}, 'molecules': [316, 222, 252, 213, 327, 152, 128, 227]}\n",
      "Memory after action: Memory Usage: 6.35 GB\n",
      "0.27562202517622725\n",
      "Memory before action: Memory Usage: 6.34 GB\n",
      "Created action\n",
      "{'name': ['Noisy ABL1 pIC50', 'Noisy Log S', 'Noisy Log P'], 'parameters': {'batch_size': 40}, 'molecules': [330, 331, 332, 333, 341, 334, 335, 336, 337, 338, 360, 367, 350, 339, 368, 340, 342, 343, 344, 347, 345, 346, 348, 349, 351, 352, 362, 353, 356, 359, 354, 363, 355, 357, 358, 361, 364, 365, 366, 369]}\n",
      "{'batch_size': 40}\n",
      "{'batch_size': 40}\n",
      "{'batch_size': 40}\n",
      "Memory after action: Memory Usage: 6.41 GB\n",
      "0.27562202517622725\n",
      "Memory before action: Memory Usage: 6.35 GB\n",
      "Created action\n",
      "{'name': 'make', 'parameters': {}, 'molecules': [316, 364, 136, 356, 315, 243, 221, 41]}\n",
      "Memory after action: Memory Usage: 6.35 GB\n",
      "0.27562202517622725\n",
      "Memory before action: Memory Usage: 6.35 GB\n",
      "Created action\n",
      "{'name': ['ABL1 pIC50', 'Log S', 'Log P'], 'parameters': {}, 'molecules': [316, 364, 356, 315, 243, 221, 136, 41]}\n",
      "{}\n",
      "{}\n",
      "{}\n",
      "Memory after action: Memory Usage: 6.35 GB\n",
      "0.35062492853921956\n",
      "Memory before action: Memory Usage: 6.35 GB\n",
      "Created action\n",
      "{'name': 'design', 'parameters': {'strategy': 'replace', 'size': 5, 'temperature': 0.2}, 'molecules': [315, 221, 324, 222, 213, 168, 327, 152]}\n",
      "Memory after action: Memory Usage: 6.41 GB\n",
      "0.35062492853921956\n",
      "Memory before action: Memory Usage: 6.41 GB\n",
      "Created action\n",
      "{'name': ['Noisy ABL1 pIC50', 'Noisy Log S', 'Noisy Log P'], 'parameters': {'batch_size': 40}, 'molecules': [370, 371, 372, 373, 374, 375, 376, 399, 377, 390, 378, 379, 380, 381, 382, 383, 384, 385, 386, 397, 387, 388, 389, 398, 391, 408, 392, 393, 394, 395, 396, 400, 401, 402, 403, 404, 405, 406, 407, 409]}\n",
      "{'batch_size': 40}\n"
     ]
    },
    {
     "name": "stderr",
     "output_type": "stream",
     "text": [
      "\n",
      "KeyboardInterrupt\n",
      "\n"
     ]
    }
   ],
   "source": [
    "from dgym.experiment import Experiment\n",
    "\n",
    "experiment = Experiment(\n",
    "    drug_env=drug_env,\n",
    "    drug_agent=drug_agent\n",
    ")\n",
    "\n",
    "result = experiment.run()"
   ]
  },
  {
   "cell_type": "markdown",
   "id": "8e1db69f-1825-4013-b300-66cf6ad0c67b",
   "metadata": {},
   "source": [
    "## Restore old experiment"
   ]
  },
  {
   "cell_type": "code",
   "execution_count": 10,
   "id": "e6c8f3a6-71b1-478b-bc15-4dfbd8633ba8",
   "metadata": {
    "tags": []
   },
   "outputs": [],
   "source": [
    "result = experiment.get_result(1)"
   ]
  },
  {
   "cell_type": "code",
   "execution_count": 77,
   "id": "3276f240-5ea9-447e-bc1d-855f7a4bd148",
   "metadata": {
    "tags": []
   },
   "outputs": [],
   "source": [
    "import ast\n",
    "import pandas as pd\n",
    "\n",
    "molecules = []\n",
    "for idx, annotation in annotations.iterrows():\n",
    "\n",
    "    # Parse data structure\n",
    "    annotation = annotation.to_dict()\n",
    "    route = annotation.pop('Synthetic Route')\n",
    "    try:\n",
    "        route = ast.literal_eval(route)\n",
    "    except:\n",
    "        pass\n",
    "    route['annotations'] = annotation\n",
    "    \n",
    "    # Load molecule\n",
    "    molecule = dg.molecule.Molecule.load(route)\n",
    "    \n",
    "    # Append to library\n",
    "    molecules.append(molecule)"
   ]
  },
  {
   "cell_type": "code",
   "execution_count": 81,
   "id": "a4cb119f-95cb-4bd9-ba89-0bf2f302370d",
   "metadata": {
    "tags": []
   },
   "outputs": [
    {
     "data": {
      "text/plain": [
       "{'product': 'Cn1ncc(C(=O)c2ccc3c(c2)CN(C(=O)c2ccccc2)C3=O)cc1=O',\n",
       " 'reaction': '80_Grignard_carbonyl',\n",
       " 'reactants': [{'product': 'N#Cc1ccc2c(c1)CN(C(=O)c1ccccc1)C2=O',\n",
       "   'reaction': '13_Carboxylate_and_Amine',\n",
       "   'reactants': [{'product': 'N#Cc1ccc2c(c1)CNC2=O'},\n",
       "    {'product': 'O=C(O)c1ccccc1'}]},\n",
       "  {'product': 'Cn1ncc(Br)cc1=O'}],\n",
       " 'annotations': {'SMILES': 'Cn1ncc(C(=O)c2ccc3c(c2)CN(C(=O)c2ccccc2)C3=O)cc1=O',\n",
       "  'Inspiration': 'Cn1ncc(C(=O)c2cccc(CCNC(=O)c3ccccc3)c2)cc1=O',\n",
       "  'Step Designed': 5.0,\n",
       "  'Step Scored': nan,\n",
       "  'Step Made': nan,\n",
       "  'Step Tested': nan,\n",
       "  'Current Status': None,\n",
       "  'ABL1 pIC50': nan,\n",
       "  'Log P': nan,\n",
       "  'Log S': nan,\n",
       "  'Noisy ABL1 pIC50': nan,\n",
       "  'Noisy Log P': nan,\n",
       "  'Noisy Log S': nan,\n",
       "  'Design Cycle': 0,\n",
       "  'Reactants': ['N#Cc1ccc2c(c1)CN(C(=O)c1ccccc1)C2=O', 'Cn1ncc(Br)cc1=O'],\n",
       "  'Synthetic Route': {'product': 'Cn1ncc(C(=O)c2ccc3c(c2)CN(C(=O)c2ccccc2)C3=O)cc1=O',\n",
       "   'reaction': '80_Grignard_carbonyl',\n",
       "   'reactants': [{'product': 'N#Cc1ccc2c(c1)CN(C(=O)c1ccccc1)C2=O',\n",
       "     'reaction': '13_Carboxylate_and_Amine',\n",
       "     'reactants': [{'product': 'N#Cc1ccc2c(c1)CNC2=O'},\n",
       "      {'product': 'O=C(O)c1ccccc1'}]},\n",
       "    {'product': 'Cn1ncc(Br)cc1=O'}]}}}"
      ]
     },
     "execution_count": 81,
     "metadata": {},
     "output_type": "execute_result"
    }
   ],
   "source": [
    "dg.molecule.Molecule.load(route).dump(detailed=True)"
   ]
  }
 ],
 "metadata": {
  "kernelspec": {
   "display_name": "Python 3 (ipykernel)",
   "language": "python",
   "name": "python3"
  },
  "language_info": {
   "codemirror_mode": {
    "name": "ipython",
    "version": 3
   },
   "file_extension": ".py",
   "mimetype": "text/x-python",
   "name": "python",
   "nbconvert_exporter": "python",
   "pygments_lexer": "ipython3",
   "version": "3.11.5"
  }
 },
 "nbformat": 4,
 "nbformat_minor": 5
}
