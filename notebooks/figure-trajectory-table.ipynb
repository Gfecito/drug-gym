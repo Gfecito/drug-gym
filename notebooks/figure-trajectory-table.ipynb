{
 "cells": [
  {
   "cell_type": "markdown",
   "id": "deebd14c-fa8c-4e5f-ab7c-c3b3b577c763",
   "metadata": {},
   "source": [
    "# Figure X. Trajectory table"
   ]
  },
  {
   "cell_type": "markdown",
   "id": "5b749cb7-6255-4bcf-9456-eac7b3e73cbd",
   "metadata": {},
   "source": [
    "Imports."
   ]
  },
  {
   "cell_type": "code",
   "execution_count": 145,
   "id": "187d8846-0766-4ec6-a05c-9d39df44fbc6",
   "metadata": {
    "tags": []
   },
   "outputs": [
    {
     "name": "stdout",
     "output_type": "stream",
     "text": [
      "The autoreload extension is already loaded. To reload it, use:\n",
      "  %reload_ext autoreload\n"
     ]
    },
    {
     "data": {
      "application/vnd.jupyter.widget-view+json": {
       "model_id": "6ce8967f7f6945b78a18b0ca756602b7",
       "version_major": 2,
       "version_minor": 0
      },
      "text/plain": [
       "  0%|          | 0/500 [00:00<?, ?it/s]"
      ]
     },
     "metadata": {},
     "output_type": "display_data"
    }
   ],
   "source": [
    "%load_ext autoreload\n",
    "%autoreload 2\n",
    "import json\n",
    "import zipfile\n",
    "import pandas as pd\n",
    "from tqdm.auto import tqdm\n",
    "from io import TextIOWrapper\n",
    "from collections import defaultdict\n",
    "\n",
    "measure = 'sigma'\n",
    "trial_indices = defaultdict(int)\n",
    "records = []\n",
    "path = '../../dgym-data/analysis/noise/selection_noise_2024-05-10_23-36-56_continued.zip'\n",
    "with zipfile.ZipFile(path, 'r') as z:\n",
    "    for filename in tqdm(z.namelist()):\n",
    "        with z.open(filename) as file:\n",
    "            with TextIOWrapper(file, encoding='utf-8') as text_file:\n",
    "                result = json.load(text_file)\n",
    "                \n",
    "                # Get annotations\n",
    "                record = pd.DataFrame(result['annotations']).reindex(\n",
    "                    columns=[\n",
    "                        'SMILES',\n",
    "                        'Inspiration',\n",
    "                        'Current Status',\n",
    "                        'ABL1 pIC50',\n",
    "                        'Log P',\n",
    "                        'Log S',\n",
    "                        'Noisy ABL1 pIC50',\n",
    "                        'Noisy Log P',\n",
    "                        'Noisy Log S',\n",
    "                        'Step Tested',\n",
    "                        'Step Scored',\n",
    "                        'Synthetic Route',\n",
    "                    ]\n",
    "                )\n",
    "                \n",
    "                # Get trial number\n",
    "                value = result[measure]\n",
    "                trial_indices[value] += 1\n",
    "                record[measure] = value\n",
    "                record['trial'] = trial_indices[value]\n",
    "\n",
    "                # Append\n",
    "                records.append(record)\n",
    "df = pd.concat(records)\n",
    "records = None"
   ]
  },
  {
   "cell_type": "markdown",
   "id": "6a4f7e53-bfd3-450e-a15c-0f4485ca915b",
   "metadata": {},
   "source": [
    "Score utility."
   ]
  },
  {
   "cell_type": "code",
   "execution_count": 146,
   "id": "09c7501a-8ffe-442b-bac4-3b2ddafb0b4c",
   "metadata": {
    "tags": []
   },
   "outputs": [],
   "source": [
    "from dgym.envs.utility import MultipleUtilityFunction, ClassicUtilityFunction\n",
    "\n",
    "# create evaluators\n",
    "docking_utility_function = ClassicUtilityFunction(\n",
    "    ideal=(9, 13),\n",
    "    acceptable=(8, 13)\n",
    ")\n",
    "\n",
    "log_P_utility_function = ClassicUtilityFunction(\n",
    "    ideal=(-0.5, 3.5),\n",
    "    acceptable=(-0.5, 3.5)\n",
    ")\n",
    "\n",
    "log_S_utility_function = ClassicUtilityFunction(\n",
    "    ideal=(-4, 1),\n",
    "    acceptable=(-4, 1)\n",
    ")\n",
    "\n",
    "composite_utility_function = MultipleUtilityFunction(\n",
    "    utility_functions = [docking_utility_function, log_P_utility_function, log_S_utility_function],\n",
    "    weights = [0.8, 0.1, 0.1]\n",
    ")\n",
    "\n",
    "df['utility'] = composite_utility_function(\n",
    "    df[['ABL1 pIC50', 'Log P', 'Log S']].values,\n",
    "    precompute=True,\n",
    "    method='average'\n",
    ")"
   ]
  },
  {
   "cell_type": "markdown",
   "id": "be9e1ac8-482d-4593-a92a-21c03d146131",
   "metadata": {},
   "source": [
    "### Parse molecules"
   ]
  },
  {
   "cell_type": "code",
   "execution_count": 353,
   "id": "61e9a6d4-9b7a-4550-8d0d-45d774dd671d",
   "metadata": {
    "tags": []
   },
   "outputs": [],
   "source": [
    "import ast\n",
    "import dgym as dg\n",
    "import numpy as np\n",
    "\n",
    "subset = df.query('sigma == 2.0').query('trial == 2') # .query('sigma == 2.0').query('trial == 2')\n",
    "current_row = subset.query('utility == 1.0').iloc[0]\n",
    "lineage = []\n",
    "while True:\n",
    "    # Parse Molecule\n",
    "    best = dict(current_row)\n",
    "    route = best.pop('Synthetic Route')\n",
    "    \n",
    "    # Normalize inputs\n",
    "    if isinstance(route, str):\n",
    "        route = ast.literal_eval(route)\n",
    "    if isinstance(best['Inspiration'], float):\n",
    "        del best['Inspiration']\n",
    "    route['annotations'] = best\n",
    "\n",
    "    # Create Molecule\n",
    "    mol = dg.molecule.Molecule.load(route)\n",
    "    \n",
    "    # Append Molecule\n",
    "    lineage.append(mol)\n",
    "    \n",
    "    # Iterate to ancestor\n",
    "    if not mol.inspiration:\n",
    "        break\n",
    "\n",
    "    inspiration_smiles = mol.inspiration.smiles\n",
    "    current_row = subset.query(\n",
    "        f'SMILES == \"{inspiration_smiles}\"').iloc[0]\n",
    "    \n",
    "lineage = dg.collection.MoleculeCollection(lineage)"
   ]
  },
  {
   "cell_type": "markdown",
   "id": "a00d288f-fc89-47eb-a0cf-3226b329b1bb",
   "metadata": {},
   "source": [
    "### Fill out missing annotations"
   ]
  },
  {
   "cell_type": "markdown",
   "id": "56470f54-4270-42d6-ac0c-b8a3686d46d2",
   "metadata": {},
   "source": [
    "Load Oracles."
   ]
  },
  {
   "cell_type": "code",
   "execution_count": 356,
   "id": "c6f2107d-03a1-4359-8571-23a7fc441aa9",
   "metadata": {
    "tags": []
   },
   "outputs": [],
   "source": [
    "import os\n",
    "\n",
    "def get_tcp_objectives():\n",
    "\n",
    "    dockstring_dir = f'../../dgym-data/dockstring_targets/'\n",
    "    files = os.listdir(dockstring_dir)\n",
    "    configs = sorted([f for f in files if 'conf' in f])\n",
    "    targets = sorted([f for f in files if 'target' in f])\n",
    "\n",
    "    idx = 0\n",
    "    with open(dockstring_dir + configs[idx], 'r') as f:\n",
    "        config_ = f.readlines()\n",
    "        config_ = [c.replace('\\n', '') for c in config_]\n",
    "        config_ = [c.split(' = ') for c in config_ if c]\n",
    "        config_ = {c[0]: float(c[1]) for c in config_}\n",
    "\n",
    "    target = targets[idx]\n",
    "    name = target.split('_')[0]\n",
    "\n",
    "    config_.update({\n",
    "        'size_x': 22.5,\n",
    "        'size_y': 22.5,\n",
    "        'size_z': 22.5,\n",
    "    })\n",
    "\n",
    "    from dgym.envs.oracle import \\\n",
    "        DockingOracle, CatBoostOracle, RDKitOracle, NoisyOracle\n",
    "\n",
    "    config = {\n",
    "        'search_mode': 'detailed',\n",
    "        'scoring': 'vina',\n",
    "        'seed': 5,\n",
    "        **config_\n",
    "    }\n",
    "\n",
    "    pIC50_oracle = DockingOracle(\n",
    "        f'{name} pIC50',\n",
    "        receptor_path=f'../../dgym-data//dockstring_targets/{name}_target.pdbqt',\n",
    "        config=config\n",
    "    )\n",
    "    log_P_oracle = RDKitOracle('Log P', descriptor='MolLogP')\n",
    "    log_S_oracle = CatBoostOracle(\n",
    "        'Log S', path='../dgym/envs/models/aqsolcb.model')\n",
    "    \n",
    "    return pIC50_oracle, log_P_oracle, log_S_oracle"
   ]
  },
  {
   "cell_type": "code",
   "execution_count": 362,
   "id": "4f2bc80f-ced1-4819-8549-5242d0e425b1",
   "metadata": {
    "tags": []
   },
   "outputs": [],
   "source": [
    "import dgym as dg\n",
    "import io\n",
    "from contextlib import redirect_stdout\n",
    "f = io.StringIO()\n",
    "\n",
    "untested = lineage[lineage.annotations.isna().any(axis=1)]\n",
    "\n",
    "def complete_tests(molecules):\n",
    "    \"\"\"\n",
    "    Perform all assays on molecules in batch.\n",
    "    \"\"\"\n",
    "    oracles = get_tcp_objectives()\n",
    "    with redirect_stdout(f):\n",
    "        results = [oracle(molecules, batch_size=40) for oracle in oracles]\n",
    "        for idx, result in enumerate(results):\n",
    "            for jdx, r in enumerate(result):\n",
    "                molecules[jdx][oracles[idx].name] = r\n",
    "    return molecules\n",
    "\n",
    "untested = complete_tests(untested)"
   ]
  },
  {
   "cell_type": "code",
   "execution_count": 358,
   "id": "cd39fbd3-54e3-48cb-8e55-daeaacd5aba1",
   "metadata": {
    "tags": []
   },
   "outputs": [],
   "source": [
    "from rdkit.Chem import Draw\n",
    "\n",
    "def plot_aligned_molecules(\n",
    "    molecules,\n",
    "    mols_per_row=3,\n",
    "    use_svg=True\n",
    "):\n",
    "    \"\"\"\n",
    "    Plots a list of RDKit molecules.\n",
    "\n",
    "    Parameters\n",
    "    ----------\n",
    "    molecules : list\n",
    "        A list of RDKit molecule objects.\n",
    "    \"\"\"\n",
    "    mols = [m.mol for m in molecules]\n",
    "    img = Draw.MolsToGridImage(\n",
    "        mols,\n",
    "        subImgSize=(325, 325), # 250\n",
    "        molsPerRow=mols_per_row,\n",
    "        useSVG=use_svg,\n",
    "    )\n",
    "    return img"
   ]
  },
  {
   "cell_type": "code",
   "execution_count": 371,
   "id": "db26fb24-1d40-4eb2-8b21-bd5fb4483952",
   "metadata": {
    "tags": []
   },
   "outputs": [],
   "source": [
    "for idx, _ in enumerate(lineage):\n",
    "    if idx < len(lineage) - 1:\n",
    "        lineage[idx].inspiration = lineage[idx+1]\n",
    "\n",
    "aligned_molecules = dg.utils.align_lineage(lineage[0])"
   ]
  },
  {
   "cell_type": "code",
   "execution_count": 373,
   "id": "b5668c7d-c878-48fd-aee0-bb99048466d5",
   "metadata": {
    "tags": []
   },
   "outputs": [],
   "source": [
    "# plot_aligned_molecules(aligned_molecules, mols_per_row=1, use_svg=True)"
   ]
  },
  {
   "cell_type": "markdown",
   "id": "e00aa0dd-86f7-4dcc-8486-55015af4a9b5",
   "metadata": {},
   "source": [
    "## Representative early-optimization molecules"
   ]
  },
  {
   "cell_type": "code",
   "execution_count": 230,
   "id": "ab268d26-b392-4b94-ba52-76d4ec2dab01",
   "metadata": {
    "tags": []
   },
   "outputs": [],
   "source": [
    "# Convert step made to Progress of Series as in Novartis paper.\n",
    "df['Progress'] = (\n",
    "    df\n",
    "    .groupby(['sigma', 'trial'])['Step Scored']\n",
    "    .transform(lambda x: x / x.max() * 100)\n",
    ")"
   ]
  },
  {
   "cell_type": "code",
   "execution_count": 12,
   "id": "c1962de0-a5fa-4739-8c34-369fc23fa5de",
   "metadata": {
    "tags": []
   },
   "outputs": [],
   "source": [
    "progresses = [0, 1, 2, 5, 10, 20, 40, 80, 99]\n",
    "mol_progress = []\n",
    "for progress in progresses:\n",
    "    if progress == 0:\n",
    "        subset = df[df['Inspiration'].isna()]\n",
    "    else:\n",
    "        subset = (\n",
    "            df\n",
    "            .query(f'Progress > {progress}')\n",
    "            .query(f'Progress < {progress} + 1')\n",
    "        )\n",
    "    representative_molecules = [dg.molecule.Molecule(\n",
    "        subset\n",
    "        .sample()['SMILES']\n",
    "        .item()\n",
    "    ) for _ in range(4)]\n",
    "    mol_progress.append(representative_molecules)\n",
    "mols = np.array(mol_progress).T.ravel()"
   ]
  },
  {
   "cell_type": "code",
   "execution_count": 13,
   "id": "8eb318f5-efe0-41f8-bd47-8818cfdbed14",
   "metadata": {
    "tags": []
   },
   "outputs": [],
   "source": [
    "from rdkit.Chem import AllChem\n",
    "import rdkit.Chem.Draw\n",
    "from rdkit.Chem.Draw import rdMolDraw2D\n",
    "try:\n",
    "    import Image\n",
    "except ImportError:\n",
    "    from PIL import Image\n",
    "from io import BytesIO\n",
    "\n",
    "def DrawMolsZoomed(mols, molsPerRow=3, subImgSize=(500, 500)):\n",
    "    \"\"\"\n",
    "    From https://sourceforge.net/p/rdkit/mailman/message/36477772/\n",
    "    \"\"\"\n",
    "    nRows = len(mols) // molsPerRow\n",
    "    if len(mols) % molsPerRow: nRows += 1\n",
    "    fullSize = (molsPerRow * subImgSize[0], nRows * subImgSize[1])\n",
    "    full_image = Image.new('RGBA', fullSize )\n",
    "    for ii, mol in enumerate(mols):\n",
    "        if mol.GetNumConformers() == 0:\n",
    "            AllChem.Compute2DCoords(mol)\n",
    "        column = ii % molsPerRow\n",
    "        row = ii // molsPerRow\n",
    "        offset = ( column * subImgSize[0], row * subImgSize[1] )\n",
    "        d2d = rdMolDraw2D.MolDraw2DCairo(int(subImgSize[0] * 0.75), subImgSize[1])\n",
    "        d2d.DrawMolecule(mol)\n",
    "        d2d.FinishDrawing()\n",
    "        sub = Image.open(BytesIO(d2d.GetDrawingText()))\n",
    "        full_image.paste(sub,box=offset)\n",
    "    return full_image"
   ]
  },
  {
   "cell_type": "code",
   "execution_count": 269,
   "id": "480f3f5c-06d5-4142-ac79-f70b4748e401",
   "metadata": {
    "tags": []
   },
   "outputs": [],
   "source": [
    "# plot_aligned_molecules(aligned_molecules, mols_per_row=3)"
   ]
  },
  {
   "cell_type": "code",
   "execution_count": 268,
   "id": "a16c3135-b815-4a24-95b3-0b354d6d8f30",
   "metadata": {
    "tags": []
   },
   "outputs": [],
   "source": [
    "# DrawMolsZoomed([m.mol for m in mols], molsPerRow=9)"
   ]
  },
  {
   "cell_type": "markdown",
   "id": "4e8ae796-3dfc-4ce1-8680-82ad44d6e13a",
   "metadata": {},
   "source": [
    "## Best molecules across round"
   ]
  },
  {
   "cell_type": "code",
   "execution_count": 348,
   "id": "edb40fcf-b9cd-470e-a4ba-e7765a8a2b43",
   "metadata": {
    "tags": []
   },
   "outputs": [
    {
     "data": {
      "text/plain": [
       "SMILES              O=C1CNCCN1C(=O)c1ccc2c(c1)NC(=O)N(C(=O)C1CCN(C...\n",
       "Inspiration         CCOC(=O)N1CCC(C(=O)N2Cc3ccc(C(=O)N4CCN(C(=O)c5...\n",
       "Current Status                                                 Tested\n",
       "ABL1 pIC50                                                   9.461346\n",
       "Log P                                                          0.7064\n",
       "Log S                                                       -3.693619\n",
       "Noisy ABL1 pIC50                                              9.23914\n",
       "Noisy Log P                                                  0.808047\n",
       "Noisy Log S                                                 -2.272971\n",
       "Step Tested                                                      17.0\n",
       "Step Scored                                                      16.0\n",
       "Synthetic Route     {'product': 'O=C1CNCCN1C(=O)c1ccc2c(c1)NC(=O)N...\n",
       "sigma                                                             1.0\n",
       "trial                                                              95\n",
       "utility                                                           1.0\n",
       "Progress                                                        100.0\n",
       "Name: 1186, dtype: object"
      ]
     },
     "execution_count": 348,
     "metadata": {},
     "output_type": "execute_result"
    }
   ],
   "source": [
    "great_example = (\n",
    "    df\n",
    "    .query('sigma == 1.0')\n",
    "    .query('Progress == 100')\n",
    "    .sort_values('ABL1 pIC50', na_position='last', ascending=False)\n",
    "    .iloc[3]\n",
    ")\n",
    "\n",
    "great_example"
   ]
  },
  {
   "cell_type": "markdown",
   "id": "f55f0aee-7ec2-437c-bd37-637249c15a33",
   "metadata": {},
   "source": [
    "Find best molecules across round `sigma == 1.0`, `trial == 95` (`.iloc[3]` above)."
   ]
  },
  {
   "cell_type": "code",
   "execution_count": 345,
   "id": "e3d20652-c457-46df-a4f8-cd2668605d7b",
   "metadata": {
    "tags": []
   },
   "outputs": [],
   "source": [
    "import pandas as pd\n",
    "\n",
    "# Subset to a certain trial\n",
    "subset = df.query('sigma == 1.0').query('trial == 95')\n",
    "\n",
    "# Find maximum value for each step\n",
    "max_per_step = subset.groupby('Step Tested')['utility'].max().reset_index()\n",
    "\n",
    "# Calculate global cumulative maximum of the max values per step\n",
    "global_cum_max = max_per_step['utility'].cummax()\n",
    "\n",
    "# Filter steps where the maximum is also a new global maximum\n",
    "new_global_max_steps = max_per_step[max_per_step['utility'] == global_cum_max]\n",
    "\n",
    "# Find the indices in the original DataFrame\n",
    "# Use 'index' from reset_index() to get original indices\n",
    "indices = subset.reset_index().merge(\n",
    "    new_global_max_steps[['Step Tested', 'utility']],\n",
    "    on=['Step Tested', 'utility'],\n",
    "    how='inner'\n",
    ")['index'].astype(int).tolist()"
   ]
  },
  {
   "cell_type": "markdown",
   "id": "60922424-3d45-441f-83d1-4bc672b95ff2",
   "metadata": {},
   "source": [
    "Compute utility for hits."
   ]
  },
  {
   "cell_type": "code",
   "execution_count": 263,
   "id": "02aa7b83-5404-4a13-96b8-8eff58fffd68",
   "metadata": {
    "tags": []
   },
   "outputs": [],
   "source": [
    "hits = subset.iloc[:5]\n",
    "hits = dg.collection.MoleculeCollection([\n",
    "    dg.molecule.Molecule(h) for h in hits['SMILES']\n",
    "])\n",
    "hits = complete_tests(hits)\n",
    "\n",
    "with redirect_stdout(f):\n",
    "    hit_utility = composite_utility_function(\n",
    "        hits.annotations[['ABL1 pIC50', 'Log P', 'Log S']].values,\n",
    "        method='average'\n",
    "    )\n",
    "    \n",
    "best_hit = np.argmax(hit_utility)"
   ]
  },
  {
   "cell_type": "code",
   "execution_count": 264,
   "id": "41c2a745-332c-446d-bbf9-9619fd30ea88",
   "metadata": {
    "tags": []
   },
   "outputs": [
    {
     "data": {
      "text/plain": [
       "SMILES                            Cc1ccc(C)c(OC(=O)c2ccncc2)c1\n",
       "Design Cycle                                                 0\n",
       "Reactants                                                   []\n",
       "Synthetic Route    {'product': 'Cc1ccc(C)c(OC(=O)c2ccncc2)c1'}\n",
       "Current Status                                            None\n",
       "ABL1 pIC50                                            7.055282\n",
       "Log P                                                  2.91764\n",
       "Log S                                                -3.627151\n",
       "Name: 3, dtype: object"
      ]
     },
     "execution_count": 264,
     "metadata": {},
     "output_type": "execute_result"
    }
   ],
   "source": [
    "best_across_rounds = [best_hit, *indices]\n",
    "hits.annotations.iloc[best_hit]"
   ]
  },
  {
   "cell_type": "code",
   "execution_count": 265,
   "id": "5e93cc75-e61f-47f4-9dc2-7af4d36a8772",
   "metadata": {
    "tags": []
   },
   "outputs": [
    {
     "data": {
      "text/html": [
       "<div>\n",
       "<style scoped>\n",
       "    .dataframe tbody tr th:only-of-type {\n",
       "        vertical-align: middle;\n",
       "    }\n",
       "\n",
       "    .dataframe tbody tr th {\n",
       "        vertical-align: top;\n",
       "    }\n",
       "\n",
       "    .dataframe thead th {\n",
       "        text-align: right;\n",
       "    }\n",
       "</style>\n",
       "<table border=\"1\" class=\"dataframe\">\n",
       "  <thead>\n",
       "    <tr style=\"text-align: right;\">\n",
       "      <th></th>\n",
       "      <th>SMILES</th>\n",
       "      <th>Inspiration</th>\n",
       "      <th>Current Status</th>\n",
       "      <th>ABL1 pIC50</th>\n",
       "      <th>Log P</th>\n",
       "      <th>Log S</th>\n",
       "      <th>Noisy ABL1 pIC50</th>\n",
       "      <th>Noisy Log P</th>\n",
       "      <th>Noisy Log S</th>\n",
       "      <th>Step Tested</th>\n",
       "      <th>Step Scored</th>\n",
       "      <th>Synthetic Route</th>\n",
       "      <th>sigma</th>\n",
       "      <th>trial</th>\n",
       "      <th>utility</th>\n",
       "      <th>Progress</th>\n",
       "    </tr>\n",
       "  </thead>\n",
       "  <tbody>\n",
       "    <tr>\n",
       "      <th>3</th>\n",
       "      <td>Cc1ccc(C)c(OC(=O)c2ccncc2)c1</td>\n",
       "      <td>NaN</td>\n",
       "      <td>None</td>\n",
       "      <td>NaN</td>\n",
       "      <td>NaN</td>\n",
       "      <td>NaN</td>\n",
       "      <td>NaN</td>\n",
       "      <td>NaN</td>\n",
       "      <td>NaN</td>\n",
       "      <td>NaN</td>\n",
       "      <td>NaN</td>\n",
       "      <td>{'product': 'Cc1ccc(C)c(OC(=O)c2ccncc2)c1', 'r...</td>\n",
       "      <td>1.0</td>\n",
       "      <td>95</td>\n",
       "      <td>-1000.000000</td>\n",
       "      <td>NaN</td>\n",
       "    </tr>\n",
       "    <tr>\n",
       "      <th>40</th>\n",
       "      <td>CC1CNc2c(C(=O)N3CCN(C(=O)c4cc(Cl)c[nH]4)CC3=O)...</td>\n",
       "      <td>CC1CNc2c(C(=O)N3CCNCC3=O)cnn2C1</td>\n",
       "      <td>Tested</td>\n",
       "      <td>7.777940</td>\n",
       "      <td>1.0510</td>\n",
       "      <td>-3.203693</td>\n",
       "      <td>8.201096</td>\n",
       "      <td>1.010342</td>\n",
       "      <td>-4.388655</td>\n",
       "      <td>1.0</td>\n",
       "      <td>0.0</td>\n",
       "      <td>{'product': 'CC1CNc2c(C(=O)N3CCN(C(=O)c4cc(Cl)...</td>\n",
       "      <td>1.0</td>\n",
       "      <td>95</td>\n",
       "      <td>-0.194745</td>\n",
       "      <td>0.00</td>\n",
       "    </tr>\n",
       "    <tr>\n",
       "      <th>160</th>\n",
       "      <td>CC1CNc2c(C(=O)N3CCN(C(=O)C4(c5cccc(C(=O)NCC6CC...</td>\n",
       "      <td>CC1CNc2c(C(=O)N3CCN(C(=O)c4ccccc4OCC(=O)NCC4CC...</td>\n",
       "      <td>Tested</td>\n",
       "      <td>8.512790</td>\n",
       "      <td>1.3963</td>\n",
       "      <td>-3.792963</td>\n",
       "      <td>10.960604</td>\n",
       "      <td>0.679194</td>\n",
       "      <td>-3.808785</td>\n",
       "      <td>3.0</td>\n",
       "      <td>2.0</td>\n",
       "      <td>{'product': 'CC1CNc2c(C(=O)N3CCN(C(=O)C4(c5ccc...</td>\n",
       "      <td>1.0</td>\n",
       "      <td>95</td>\n",
       "      <td>0.610232</td>\n",
       "      <td>12.50</td>\n",
       "    </tr>\n",
       "    <tr>\n",
       "      <th>297</th>\n",
       "      <td>CC1CNc2c(C(=O)N3CCN(C(=O)C4(c5cccc(C(=O)N[C@@H...</td>\n",
       "      <td>CC1CNc2c(C(=O)N3CCN(C(=O)C4(c5cccc(C(=O)NCC6CC...</td>\n",
       "      <td>Tested</td>\n",
       "      <td>8.648735</td>\n",
       "      <td>0.9542</td>\n",
       "      <td>-3.642773</td>\n",
       "      <td>8.437725</td>\n",
       "      <td>1.655361</td>\n",
       "      <td>-4.144227</td>\n",
       "      <td>10.0</td>\n",
       "      <td>4.0</td>\n",
       "      <td>{'product': 'CC1CNc2c(C(=O)N3CCN(C(=O)C4(c5ccc...</td>\n",
       "      <td>1.0</td>\n",
       "      <td>95</td>\n",
       "      <td>0.718988</td>\n",
       "      <td>25.00</td>\n",
       "    </tr>\n",
       "    <tr>\n",
       "      <th>476</th>\n",
       "      <td>CCOC(=O)N1CCC(C(=O)N2Cc3ccc(C(=O)N4CCN(C(=O)c5...</td>\n",
       "      <td>CCOC(=O)N1CCC(C(=O)N2CCN(C(=O)c3cnn4c3N(C(=O)c...</td>\n",
       "      <td>Tested</td>\n",
       "      <td>8.850764</td>\n",
       "      <td>1.4162</td>\n",
       "      <td>-4.150869</td>\n",
       "      <td>8.275719</td>\n",
       "      <td>1.392053</td>\n",
       "      <td>-3.536795</td>\n",
       "      <td>11.0</td>\n",
       "      <td>6.0</td>\n",
       "      <td>{'product': 'CCOC(=O)N1CCC(C(=O)N2Cc3ccc(C(=O)...</td>\n",
       "      <td>1.0</td>\n",
       "      <td>95</td>\n",
       "      <td>0.748161</td>\n",
       "      <td>37.50</td>\n",
       "    </tr>\n",
       "    <tr>\n",
       "      <th>883</th>\n",
       "      <td>Cn1c(C(=O)N2CCN(C(=O)C3(c4cccc(C(=O)N[C@@H]5CO...</td>\n",
       "      <td>CC1CNc2c(C(=O)N3CCN(C(=O)C4(c5cccc(C(=O)N[C@@H...</td>\n",
       "      <td>Tested</td>\n",
       "      <td>9.103744</td>\n",
       "      <td>2.1878</td>\n",
       "      <td>-4.434922</td>\n",
       "      <td>10.558196</td>\n",
       "      <td>1.219837</td>\n",
       "      <td>-4.552882</td>\n",
       "      <td>12.0</td>\n",
       "      <td>11.0</td>\n",
       "      <td>{'product': 'Cn1c(C(=O)N2CCN(C(=O)C3(c4cccc(C(...</td>\n",
       "      <td>1.0</td>\n",
       "      <td>95</td>\n",
       "      <td>0.794100</td>\n",
       "      <td>68.75</td>\n",
       "    </tr>\n",
       "    <tr>\n",
       "      <th>1016</th>\n",
       "      <td>O=C(c1cc(F)n[nH]1)N1CCN(C(=O)c2ccc3c(c2)NC(=O)...</td>\n",
       "      <td>CCOC(=O)N1CCC(C(=O)N2Cc3ccc(C(=O)N4CCN(C(=O)c5...</td>\n",
       "      <td>Tested</td>\n",
       "      <td>9.258308</td>\n",
       "      <td>1.0573</td>\n",
       "      <td>-4.081173</td>\n",
       "      <td>8.948356</td>\n",
       "      <td>0.945814</td>\n",
       "      <td>-2.860145</td>\n",
       "      <td>14.0</td>\n",
       "      <td>13.0</td>\n",
       "      <td>{'product': 'O=C(c1cc(F)n[nH]1)N1CCN(C(=O)c2cc...</td>\n",
       "      <td>1.0</td>\n",
       "      <td>95</td>\n",
       "      <td>0.883107</td>\n",
       "      <td>81.25</td>\n",
       "    </tr>\n",
       "    <tr>\n",
       "      <th>1186</th>\n",
       "      <td>O=C1CNCCN1C(=O)c1ccc2c(c1)NC(=O)N(C(=O)C1CCN(C...</td>\n",
       "      <td>CCOC(=O)N1CCC(C(=O)N2Cc3ccc(C(=O)N4CCN(C(=O)c5...</td>\n",
       "      <td>Tested</td>\n",
       "      <td>9.461346</td>\n",
       "      <td>0.7064</td>\n",
       "      <td>-3.693619</td>\n",
       "      <td>9.239140</td>\n",
       "      <td>0.808047</td>\n",
       "      <td>-2.272971</td>\n",
       "      <td>17.0</td>\n",
       "      <td>16.0</td>\n",
       "      <td>{'product': 'O=C1CNCCN1C(=O)c1ccc2c(c1)NC(=O)N...</td>\n",
       "      <td>1.0</td>\n",
       "      <td>95</td>\n",
       "      <td>1.000000</td>\n",
       "      <td>100.00</td>\n",
       "    </tr>\n",
       "  </tbody>\n",
       "</table>\n",
       "</div>"
      ],
      "text/plain": [
       "                                                 SMILES  \\\n",
       "3                          Cc1ccc(C)c(OC(=O)c2ccncc2)c1   \n",
       "40    CC1CNc2c(C(=O)N3CCN(C(=O)c4cc(Cl)c[nH]4)CC3=O)...   \n",
       "160   CC1CNc2c(C(=O)N3CCN(C(=O)C4(c5cccc(C(=O)NCC6CC...   \n",
       "297   CC1CNc2c(C(=O)N3CCN(C(=O)C4(c5cccc(C(=O)N[C@@H...   \n",
       "476   CCOC(=O)N1CCC(C(=O)N2Cc3ccc(C(=O)N4CCN(C(=O)c5...   \n",
       "883   Cn1c(C(=O)N2CCN(C(=O)C3(c4cccc(C(=O)N[C@@H]5CO...   \n",
       "1016  O=C(c1cc(F)n[nH]1)N1CCN(C(=O)c2ccc3c(c2)NC(=O)...   \n",
       "1186  O=C1CNCCN1C(=O)c1ccc2c(c1)NC(=O)N(C(=O)C1CCN(C...   \n",
       "\n",
       "                                            Inspiration Current Status  \\\n",
       "3                                                   NaN           None   \n",
       "40                      CC1CNc2c(C(=O)N3CCNCC3=O)cnn2C1         Tested   \n",
       "160   CC1CNc2c(C(=O)N3CCN(C(=O)c4ccccc4OCC(=O)NCC4CC...         Tested   \n",
       "297   CC1CNc2c(C(=O)N3CCN(C(=O)C4(c5cccc(C(=O)NCC6CC...         Tested   \n",
       "476   CCOC(=O)N1CCC(C(=O)N2CCN(C(=O)c3cnn4c3N(C(=O)c...         Tested   \n",
       "883   CC1CNc2c(C(=O)N3CCN(C(=O)C4(c5cccc(C(=O)N[C@@H...         Tested   \n",
       "1016  CCOC(=O)N1CCC(C(=O)N2Cc3ccc(C(=O)N4CCN(C(=O)c5...         Tested   \n",
       "1186  CCOC(=O)N1CCC(C(=O)N2Cc3ccc(C(=O)N4CCN(C(=O)c5...         Tested   \n",
       "\n",
       "      ABL1 pIC50   Log P     Log S  Noisy ABL1 pIC50  Noisy Log P  \\\n",
       "3            NaN     NaN       NaN               NaN          NaN   \n",
       "40      7.777940  1.0510 -3.203693          8.201096     1.010342   \n",
       "160     8.512790  1.3963 -3.792963         10.960604     0.679194   \n",
       "297     8.648735  0.9542 -3.642773          8.437725     1.655361   \n",
       "476     8.850764  1.4162 -4.150869          8.275719     1.392053   \n",
       "883     9.103744  2.1878 -4.434922         10.558196     1.219837   \n",
       "1016    9.258308  1.0573 -4.081173          8.948356     0.945814   \n",
       "1186    9.461346  0.7064 -3.693619          9.239140     0.808047   \n",
       "\n",
       "      Noisy Log S  Step Tested  Step Scored  \\\n",
       "3             NaN          NaN          NaN   \n",
       "40      -4.388655          1.0          0.0   \n",
       "160     -3.808785          3.0          2.0   \n",
       "297     -4.144227         10.0          4.0   \n",
       "476     -3.536795         11.0          6.0   \n",
       "883     -4.552882         12.0         11.0   \n",
       "1016    -2.860145         14.0         13.0   \n",
       "1186    -2.272971         17.0         16.0   \n",
       "\n",
       "                                        Synthetic Route  sigma  trial  \\\n",
       "3     {'product': 'Cc1ccc(C)c(OC(=O)c2ccncc2)c1', 'r...    1.0     95   \n",
       "40    {'product': 'CC1CNc2c(C(=O)N3CCN(C(=O)c4cc(Cl)...    1.0     95   \n",
       "160   {'product': 'CC1CNc2c(C(=O)N3CCN(C(=O)C4(c5ccc...    1.0     95   \n",
       "297   {'product': 'CC1CNc2c(C(=O)N3CCN(C(=O)C4(c5ccc...    1.0     95   \n",
       "476   {'product': 'CCOC(=O)N1CCC(C(=O)N2Cc3ccc(C(=O)...    1.0     95   \n",
       "883   {'product': 'Cn1c(C(=O)N2CCN(C(=O)C3(c4cccc(C(...    1.0     95   \n",
       "1016  {'product': 'O=C(c1cc(F)n[nH]1)N1CCN(C(=O)c2cc...    1.0     95   \n",
       "1186  {'product': 'O=C1CNCCN1C(=O)c1ccc2c(c1)NC(=O)N...    1.0     95   \n",
       "\n",
       "          utility  Progress  \n",
       "3    -1000.000000       NaN  \n",
       "40      -0.194745      0.00  \n",
       "160      0.610232     12.50  \n",
       "297      0.718988     25.00  \n",
       "476      0.748161     37.50  \n",
       "883      0.794100     68.75  \n",
       "1016     0.883107     81.25  \n",
       "1186     1.000000    100.00  "
      ]
     },
     "execution_count": 265,
     "metadata": {},
     "output_type": "execute_result"
    }
   ],
   "source": [
    "subset.iloc[best_across_rounds]"
   ]
  },
  {
   "cell_type": "code",
   "execution_count": 267,
   "id": "e7452fd1-f95b-469c-bb8e-53cff15565e3",
   "metadata": {
    "tags": []
   },
   "outputs": [],
   "source": [
    "# best_molecules = []\n",
    "# for smiles in subset.iloc[best_across_rounds]['SMILES']:\n",
    "#     best_molecules.append(dg.molecule.Molecule(smiles))\n",
    "\n",
    "# plot_aligned_molecules(best_molecules, mols_per_row=1)"
   ]
  },
  {
   "cell_type": "markdown",
   "id": "5ebd496c-e0ff-4696-b042-82887feb51ba",
   "metadata": {},
   "source": [
    "## Plot synthetic route"
   ]
  },
  {
   "cell_type": "code",
   "execution_count": 287,
   "id": "8e3632ed-7a8f-4f50-a435-6c3b9afff2b9",
   "metadata": {
    "tags": []
   },
   "outputs": [],
   "source": [
    "route = ast.literal_eval(great_example['Synthetic Route'])"
   ]
  },
  {
   "cell_type": "code",
   "execution_count": 352,
   "id": "ebe8c4fc-33a6-4fc7-acd6-45949a69937b",
   "metadata": {
    "tags": []
   },
   "outputs": [
    {
     "data": {
      "image/svg+xml": [
       "<svg xmlns=\"http://www.w3.org/2000/svg\" xmlns:rdkit=\"http://www.rdkit.org/xml\" xmlns:xlink=\"http://www.w3.org/1999/xlink\" version=\"1.1\" baseProfile=\"full\" xml:space=\"preserve\" width=\"975px\" height=\"325px\" viewBox=\"0 0 975 325\">\n",
       "<!-- END OF HEADER -->\n",
       "<rect style=\"opacity:1.0;fill:#FFFFFF;stroke:none\" width=\"975.0\" height=\"325.0\" x=\"0.0\" y=\"0.0\"> </rect>\n",
       "<path class=\"bond-0 atom-0 atom-1\" d=\"M 31.3,198.5 L 33.3,189.1\" style=\"fill:none;fill-rule:evenodd;stroke:#FF0000;stroke-width:2.0px;stroke-linecap:butt;stroke-linejoin:miter;stroke-opacity:1\"/>\n",
       "<path class=\"bond-0 atom-0 atom-1\" d=\"M 33.3,189.1 L 35.2,179.8\" style=\"fill:none;fill-rule:evenodd;stroke:#000000;stroke-width:2.0px;stroke-linecap:butt;stroke-linejoin:miter;stroke-opacity:1\"/>\n",
       "<path class=\"bond-0 atom-0 atom-1\" d=\"M 34.6,199.1 L 36.5,189.8\" style=\"fill:none;fill-rule:evenodd;stroke:#FF0000;stroke-width:2.0px;stroke-linecap:butt;stroke-linejoin:miter;stroke-opacity:1\"/>\n",
       "<path class=\"bond-0 atom-0 atom-1\" d=\"M 36.5,189.8 L 38.5,180.5\" style=\"fill:none;fill-rule:evenodd;stroke:#000000;stroke-width:2.0px;stroke-linecap:butt;stroke-linejoin:miter;stroke-opacity:1\"/>\n",
       "<path class=\"bond-1 atom-1 atom-2\" d=\"M 36.6,181.1 L 20.2,166.4\" style=\"fill:none;fill-rule:evenodd;stroke:#000000;stroke-width:2.0px;stroke-linecap:butt;stroke-linejoin:miter;stroke-opacity:1\"/>\n",
       "<path class=\"bond-2 atom-2 atom-3\" d=\"M 20.2,166.4 L 22.1,157.5\" style=\"fill:none;fill-rule:evenodd;stroke:#000000;stroke-width:2.0px;stroke-linecap:butt;stroke-linejoin:miter;stroke-opacity:1\"/>\n",
       "<path class=\"bond-2 atom-2 atom-3\" d=\"M 22.1,157.5 L 23.9,148.7\" style=\"fill:none;fill-rule:evenodd;stroke:#0000FF;stroke-width:2.0px;stroke-linecap:butt;stroke-linejoin:miter;stroke-opacity:1\"/>\n",
       "<path class=\"bond-3 atom-3 atom-4\" d=\"M 27.8,143.8 L 36.8,140.9\" style=\"fill:none;fill-rule:evenodd;stroke:#0000FF;stroke-width:2.0px;stroke-linecap:butt;stroke-linejoin:miter;stroke-opacity:1\"/>\n",
       "<path class=\"bond-3 atom-3 atom-4\" d=\"M 36.8,140.9 L 45.7,137.9\" style=\"fill:none;fill-rule:evenodd;stroke:#000000;stroke-width:2.0px;stroke-linecap:butt;stroke-linejoin:miter;stroke-opacity:1\"/>\n",
       "<path class=\"bond-4 atom-4 atom-5\" d=\"M 45.7,137.9 L 62.1,152.6\" style=\"fill:none;fill-rule:evenodd;stroke:#000000;stroke-width:2.0px;stroke-linecap:butt;stroke-linejoin:miter;stroke-opacity:1\"/>\n",
       "<path class=\"bond-5 atom-5 atom-6\" d=\"M 62.1,152.6 L 60.3,161.5\" style=\"fill:none;fill-rule:evenodd;stroke:#000000;stroke-width:2.0px;stroke-linecap:butt;stroke-linejoin:miter;stroke-opacity:1\"/>\n",
       "<path class=\"bond-5 atom-5 atom-6\" d=\"M 60.3,161.5 L 58.4,170.4\" style=\"fill:none;fill-rule:evenodd;stroke:#0000FF;stroke-width:2.0px;stroke-linecap:butt;stroke-linejoin:miter;stroke-opacity:1\"/>\n",
       "<path class=\"bond-6 atom-6 atom-7\" d=\"M 60.7,177.0 L 67.4,183.0\" style=\"fill:none;fill-rule:evenodd;stroke:#0000FF;stroke-width:2.0px;stroke-linecap:butt;stroke-linejoin:miter;stroke-opacity:1\"/>\n",
       "<path class=\"bond-6 atom-6 atom-7\" d=\"M 67.4,183.0 L 74.0,188.9\" style=\"fill:none;fill-rule:evenodd;stroke:#000000;stroke-width:2.0px;stroke-linecap:butt;stroke-linejoin:miter;stroke-opacity:1\"/>\n",
       "<path class=\"bond-7 atom-7 atom-8\" d=\"M 72.6,187.7 L 70.6,197.0\" style=\"fill:none;fill-rule:evenodd;stroke:#000000;stroke-width:2.0px;stroke-linecap:butt;stroke-linejoin:miter;stroke-opacity:1\"/>\n",
       "<path class=\"bond-7 atom-7 atom-8\" d=\"M 70.6,197.0 L 68.7,206.3\" style=\"fill:none;fill-rule:evenodd;stroke:#FF0000;stroke-width:2.0px;stroke-linecap:butt;stroke-linejoin:miter;stroke-opacity:1\"/>\n",
       "<path class=\"bond-7 atom-7 atom-8\" d=\"M 75.8,188.3 L 73.9,197.6\" style=\"fill:none;fill-rule:evenodd;stroke:#000000;stroke-width:2.0px;stroke-linecap:butt;stroke-linejoin:miter;stroke-opacity:1\"/>\n",
       "<path class=\"bond-7 atom-7 atom-8\" d=\"M 73.9,197.6 L 71.9,207.0\" style=\"fill:none;fill-rule:evenodd;stroke:#FF0000;stroke-width:2.0px;stroke-linecap:butt;stroke-linejoin:miter;stroke-opacity:1\"/>\n",
       "<path class=\"bond-8 atom-7 atom-9\" d=\"M 74.0,188.9 L 95.0,182.1\" style=\"fill:none;fill-rule:evenodd;stroke:#000000;stroke-width:2.0px;stroke-linecap:butt;stroke-linejoin:miter;stroke-opacity:1\"/>\n",
       "<path class=\"bond-9 atom-9 atom-10\" d=\"M 95.0,182.1 L 111.4,196.8\" style=\"fill:none;fill-rule:evenodd;stroke:#000000;stroke-width:2.0px;stroke-linecap:butt;stroke-linejoin:miter;stroke-opacity:1\"/>\n",
       "<path class=\"bond-9 atom-9 atom-10\" d=\"M 98.6,180.9 L 112.2,193.0\" style=\"fill:none;fill-rule:evenodd;stroke:#000000;stroke-width:2.0px;stroke-linecap:butt;stroke-linejoin:miter;stroke-opacity:1\"/>\n",
       "<path class=\"bond-10 atom-10 atom-11\" d=\"M 111.4,196.8 L 132.4,189.9\" style=\"fill:none;fill-rule:evenodd;stroke:#000000;stroke-width:2.0px;stroke-linecap:butt;stroke-linejoin:miter;stroke-opacity:1\"/>\n",
       "<path class=\"bond-11 atom-11 atom-12\" d=\"M 132.4,189.9 L 136.9,168.3\" style=\"fill:none;fill-rule:evenodd;stroke:#000000;stroke-width:2.0px;stroke-linecap:butt;stroke-linejoin:miter;stroke-opacity:1\"/>\n",
       "<path class=\"bond-11 atom-11 atom-12\" d=\"M 129.5,187.3 L 133.2,169.5\" style=\"fill:none;fill-rule:evenodd;stroke:#000000;stroke-width:2.0px;stroke-linecap:butt;stroke-linejoin:miter;stroke-opacity:1\"/>\n",
       "<path class=\"bond-12 atom-12 atom-13\" d=\"M 136.9,168.3 L 120.4,153.6\" style=\"fill:none;fill-rule:evenodd;stroke:#000000;stroke-width:2.0px;stroke-linecap:butt;stroke-linejoin:miter;stroke-opacity:1\"/>\n",
       "<path class=\"bond-13 atom-13 atom-14\" d=\"M 120.4,153.6 L 99.5,160.5\" style=\"fill:none;fill-rule:evenodd;stroke:#000000;stroke-width:2.0px;stroke-linecap:butt;stroke-linejoin:miter;stroke-opacity:1\"/>\n",
       "<path class=\"bond-13 atom-13 atom-14\" d=\"M 119.7,157.3 L 102.3,163.0\" style=\"fill:none;fill-rule:evenodd;stroke:#000000;stroke-width:2.0px;stroke-linecap:butt;stroke-linejoin:miter;stroke-opacity:1\"/>\n",
       "<path class=\"bond-14 atom-13 atom-15\" d=\"M 120.4,153.6 L 122.3,144.7\" style=\"fill:none;fill-rule:evenodd;stroke:#000000;stroke-width:2.0px;stroke-linecap:butt;stroke-linejoin:miter;stroke-opacity:1\"/>\n",
       "<path class=\"bond-14 atom-13 atom-15\" d=\"M 122.3,144.7 L 124.2,135.9\" style=\"fill:none;fill-rule:evenodd;stroke:#0000FF;stroke-width:2.0px;stroke-linecap:butt;stroke-linejoin:miter;stroke-opacity:1\"/>\n",
       "<path class=\"bond-15 atom-15 atom-16\" d=\"M 128.1,131.0 L 137.0,128.1\" style=\"fill:none;fill-rule:evenodd;stroke:#0000FF;stroke-width:2.0px;stroke-linecap:butt;stroke-linejoin:miter;stroke-opacity:1\"/>\n",
       "<path class=\"bond-15 atom-15 atom-16\" d=\"M 137.0,128.1 L 145.9,125.1\" style=\"fill:none;fill-rule:evenodd;stroke:#000000;stroke-width:2.0px;stroke-linecap:butt;stroke-linejoin:miter;stroke-opacity:1\"/>\n",
       "<path class=\"bond-16 atom-16 atom-17\" d=\"M 147.3,126.4 L 149.3,117.1\" style=\"fill:none;fill-rule:evenodd;stroke:#000000;stroke-width:2.0px;stroke-linecap:butt;stroke-linejoin:miter;stroke-opacity:1\"/>\n",
       "<path class=\"bond-16 atom-16 atom-17\" d=\"M 149.3,117.1 L 151.2,107.9\" style=\"fill:none;fill-rule:evenodd;stroke:#FF0000;stroke-width:2.0px;stroke-linecap:butt;stroke-linejoin:miter;stroke-opacity:1\"/>\n",
       "<path class=\"bond-16 atom-16 atom-17\" d=\"M 144.1,125.7 L 146.0,116.5\" style=\"fill:none;fill-rule:evenodd;stroke:#000000;stroke-width:2.0px;stroke-linecap:butt;stroke-linejoin:miter;stroke-opacity:1\"/>\n",
       "<path class=\"bond-16 atom-16 atom-17\" d=\"M 146.0,116.5 L 148.0,107.2\" style=\"fill:none;fill-rule:evenodd;stroke:#FF0000;stroke-width:2.0px;stroke-linecap:butt;stroke-linejoin:miter;stroke-opacity:1\"/>\n",
       "<path class=\"bond-17 atom-16 atom-18\" d=\"M 145.9,125.1 L 152.6,131.1\" style=\"fill:none;fill-rule:evenodd;stroke:#000000;stroke-width:2.0px;stroke-linecap:butt;stroke-linejoin:miter;stroke-opacity:1\"/>\n",
       "<path class=\"bond-17 atom-16 atom-18\" d=\"M 152.6,131.1 L 159.2,137.1\" style=\"fill:none;fill-rule:evenodd;stroke:#0000FF;stroke-width:2.0px;stroke-linecap:butt;stroke-linejoin:miter;stroke-opacity:1\"/>\n",
       "<path class=\"bond-18 atom-18 atom-19\" d=\"M 165.4,138.8 L 174.4,135.9\" style=\"fill:none;fill-rule:evenodd;stroke:#0000FF;stroke-width:2.0px;stroke-linecap:butt;stroke-linejoin:miter;stroke-opacity:1\"/>\n",
       "<path class=\"bond-18 atom-18 atom-19\" d=\"M 174.4,135.9 L 183.3,133.0\" style=\"fill:none;fill-rule:evenodd;stroke:#000000;stroke-width:2.0px;stroke-linecap:butt;stroke-linejoin:miter;stroke-opacity:1\"/>\n",
       "<path class=\"bond-19 atom-19 atom-20\" d=\"M 184.7,134.2 L 186.7,125.0\" style=\"fill:none;fill-rule:evenodd;stroke:#000000;stroke-width:2.0px;stroke-linecap:butt;stroke-linejoin:miter;stroke-opacity:1\"/>\n",
       "<path class=\"bond-19 atom-19 atom-20\" d=\"M 186.7,125.0 L 188.6,115.7\" style=\"fill:none;fill-rule:evenodd;stroke:#FF0000;stroke-width:2.0px;stroke-linecap:butt;stroke-linejoin:miter;stroke-opacity:1\"/>\n",
       "<path class=\"bond-19 atom-19 atom-20\" d=\"M 181.5,133.6 L 183.4,124.3\" style=\"fill:none;fill-rule:evenodd;stroke:#000000;stroke-width:2.0px;stroke-linecap:butt;stroke-linejoin:miter;stroke-opacity:1\"/>\n",
       "<path class=\"bond-19 atom-19 atom-20\" d=\"M 183.4,124.3 L 185.4,115.0\" style=\"fill:none;fill-rule:evenodd;stroke:#FF0000;stroke-width:2.0px;stroke-linecap:butt;stroke-linejoin:miter;stroke-opacity:1\"/>\n",
       "<path class=\"bond-20 atom-19 atom-21\" d=\"M 183.3,133.0 L 199.7,147.7\" style=\"fill:none;fill-rule:evenodd;stroke:#000000;stroke-width:2.0px;stroke-linecap:butt;stroke-linejoin:miter;stroke-opacity:1\"/>\n",
       "<path class=\"bond-21 atom-21 atom-22\" d=\"M 199.7,147.7 L 197.5,169.6\" style=\"fill:none;fill-rule:evenodd;stroke:#000000;stroke-width:2.0px;stroke-linecap:butt;stroke-linejoin:miter;stroke-opacity:1\"/>\n",
       "<path class=\"bond-22 atom-22 atom-23\" d=\"M 197.5,169.6 L 217.6,178.5\" style=\"fill:none;fill-rule:evenodd;stroke:#000000;stroke-width:2.0px;stroke-linecap:butt;stroke-linejoin:miter;stroke-opacity:1\"/>\n",
       "<path class=\"bond-23 atom-23 atom-24\" d=\"M 217.6,178.5 L 223.5,172.0\" style=\"fill:none;fill-rule:evenodd;stroke:#000000;stroke-width:2.0px;stroke-linecap:butt;stroke-linejoin:miter;stroke-opacity:1\"/>\n",
       "<path class=\"bond-23 atom-23 atom-24\" d=\"M 223.5,172.0 L 229.3,165.5\" style=\"fill:none;fill-rule:evenodd;stroke:#0000FF;stroke-width:2.0px;stroke-linecap:butt;stroke-linejoin:miter;stroke-opacity:1\"/>\n",
       "<path class=\"bond-24 atom-24 atom-25\" d=\"M 235.4,162.4 L 244.9,163.4\" style=\"fill:none;fill-rule:evenodd;stroke:#0000FF;stroke-width:2.0px;stroke-linecap:butt;stroke-linejoin:miter;stroke-opacity:1\"/>\n",
       "<path class=\"bond-24 atom-24 atom-25\" d=\"M 244.9,163.4 L 254.3,164.3\" style=\"fill:none;fill-rule:evenodd;stroke:#000000;stroke-width:2.0px;stroke-linecap:butt;stroke-linejoin:miter;stroke-opacity:1\"/>\n",
       "<path class=\"bond-25 atom-25 atom-26\" d=\"M 255.1,166.1 L 260.4,158.7\" style=\"fill:none;fill-rule:evenodd;stroke:#000000;stroke-width:2.0px;stroke-linecap:butt;stroke-linejoin:miter;stroke-opacity:1\"/>\n",
       "<path class=\"bond-25 atom-25 atom-26\" d=\"M 260.4,158.7 L 265.7,151.4\" style=\"fill:none;fill-rule:evenodd;stroke:#FF0000;stroke-width:2.0px;stroke-linecap:butt;stroke-linejoin:miter;stroke-opacity:1\"/>\n",
       "<path class=\"bond-25 atom-25 atom-26\" d=\"M 252.4,164.1 L 257.7,156.8\" style=\"fill:none;fill-rule:evenodd;stroke:#000000;stroke-width:2.0px;stroke-linecap:butt;stroke-linejoin:miter;stroke-opacity:1\"/>\n",
       "<path class=\"bond-25 atom-25 atom-26\" d=\"M 257.7,156.8 L 263.0,149.5\" style=\"fill:none;fill-rule:evenodd;stroke:#FF0000;stroke-width:2.0px;stroke-linecap:butt;stroke-linejoin:miter;stroke-opacity:1\"/>\n",
       "<path class=\"bond-26 atom-25 atom-27\" d=\"M 254.3,164.3 L 263.3,184.4\" style=\"fill:none;fill-rule:evenodd;stroke:#000000;stroke-width:2.0px;stroke-linecap:butt;stroke-linejoin:miter;stroke-opacity:1\"/>\n",
       "<path class=\"bond-27 atom-27 atom-28\" d=\"M 263.3,184.4 L 284.9,189.0\" style=\"fill:none;fill-rule:evenodd;stroke:#000000;stroke-width:2.0px;stroke-linecap:butt;stroke-linejoin:miter;stroke-opacity:1\"/>\n",
       "<path class=\"bond-27 atom-27 atom-28\" d=\"M 265.0,188.2 L 281.9,191.7\" style=\"fill:none;fill-rule:evenodd;stroke:#000000;stroke-width:2.0px;stroke-linecap:butt;stroke-linejoin:miter;stroke-opacity:1\"/>\n",
       "<path class=\"bond-28 atom-28 atom-29\" d=\"M 284.9,189.0 L 287.3,210.9\" style=\"fill:none;fill-rule:evenodd;stroke:#000000;stroke-width:2.0px;stroke-linecap:butt;stroke-linejoin:miter;stroke-opacity:1\"/>\n",
       "<path class=\"bond-29 atom-29 atom-30\" d=\"M 287.3,210.9 L 295.5,215.6\" style=\"fill:none;fill-rule:evenodd;stroke:#000000;stroke-width:2.0px;stroke-linecap:butt;stroke-linejoin:miter;stroke-opacity:1\"/>\n",
       "<path class=\"bond-29 atom-29 atom-30\" d=\"M 295.5,215.6 L 303.8,220.4\" style=\"fill:none;fill-rule:evenodd;stroke:#33CCCC;stroke-width:2.0px;stroke-linecap:butt;stroke-linejoin:miter;stroke-opacity:1\"/>\n",
       "<path class=\"bond-30 atom-29 atom-31\" d=\"M 287.3,210.9 L 278.8,214.7\" style=\"fill:none;fill-rule:evenodd;stroke:#000000;stroke-width:2.0px;stroke-linecap:butt;stroke-linejoin:miter;stroke-opacity:1\"/>\n",
       "<path class=\"bond-30 atom-29 atom-31\" d=\"M 278.8,214.7 L 270.2,218.5\" style=\"fill:none;fill-rule:evenodd;stroke:#0000FF;stroke-width:2.0px;stroke-linecap:butt;stroke-linejoin:miter;stroke-opacity:1\"/>\n",
       "<path class=\"bond-30 atom-29 atom-31\" d=\"M 283.7,208.8 L 276.3,212.2\" style=\"fill:none;fill-rule:evenodd;stroke:#000000;stroke-width:2.0px;stroke-linecap:butt;stroke-linejoin:miter;stroke-opacity:1\"/>\n",
       "<path class=\"bond-30 atom-29 atom-31\" d=\"M 276.3,212.2 L 268.9,215.5\" style=\"fill:none;fill-rule:evenodd;stroke:#0000FF;stroke-width:2.0px;stroke-linecap:butt;stroke-linejoin:miter;stroke-opacity:1\"/>\n",
       "<path class=\"bond-31 atom-31 atom-32\" d=\"M 264.1,216.5 L 255.4,207.0\" style=\"fill:none;fill-rule:evenodd;stroke:#0000FF;stroke-width:2.0px;stroke-linecap:butt;stroke-linejoin:miter;stroke-opacity:1\"/>\n",
       "<path class=\"bond-32 atom-24 atom-33\" d=\"M 230.1,158.2 L 225.7,150.6\" style=\"fill:none;fill-rule:evenodd;stroke:#0000FF;stroke-width:2.0px;stroke-linecap:butt;stroke-linejoin:miter;stroke-opacity:1\"/>\n",
       "<path class=\"bond-32 atom-24 atom-33\" d=\"M 225.7,150.6 L 221.3,143.0\" style=\"fill:none;fill-rule:evenodd;stroke:#000000;stroke-width:2.0px;stroke-linecap:butt;stroke-linejoin:miter;stroke-opacity:1\"/>\n",
       "<path class=\"bond-33 atom-33 atom-34\" d=\"M 221.3,143.0 L 208.3,125.2\" style=\"fill:none;fill-rule:evenodd;stroke:#000000;stroke-width:2.0px;stroke-linecap:butt;stroke-linejoin:miter;stroke-opacity:1\"/>\n",
       "<path class=\"bond-34 atom-34 atom-35\" d=\"M 208.3,125.2 L 217.2,105.1\" style=\"fill:none;fill-rule:evenodd;stroke:#000000;stroke-width:2.0px;stroke-linecap:butt;stroke-linejoin:miter;stroke-opacity:1\"/>\n",
       "<path class=\"bond-35 atom-35 atom-36\" d=\"M 217.2,105.1 L 226.3,104.1\" style=\"fill:none;fill-rule:evenodd;stroke:#000000;stroke-width:2.0px;stroke-linecap:butt;stroke-linejoin:miter;stroke-opacity:1\"/>\n",
       "<path class=\"bond-35 atom-35 atom-36\" d=\"M 226.3,104.1 L 235.5,103.1\" style=\"fill:none;fill-rule:evenodd;stroke:#FF0000;stroke-width:2.0px;stroke-linecap:butt;stroke-linejoin:miter;stroke-opacity:1\"/>\n",
       "<path class=\"bond-36 atom-36 atom-37\" d=\"M 242.0,106.7 L 247.1,113.6\" style=\"fill:none;fill-rule:evenodd;stroke:#FF0000;stroke-width:2.0px;stroke-linecap:butt;stroke-linejoin:miter;stroke-opacity:1\"/>\n",
       "<path class=\"bond-36 atom-36 atom-37\" d=\"M 247.1,113.6 L 252.1,120.5\" style=\"fill:none;fill-rule:evenodd;stroke:#000000;stroke-width:2.0px;stroke-linecap:butt;stroke-linejoin:miter;stroke-opacity:1\"/>\n",
       "<path class=\"bond-37 atom-37 atom-38\" d=\"M 252.1,120.5 L 243.2,140.7\" style=\"fill:none;fill-rule:evenodd;stroke:#000000;stroke-width:2.0px;stroke-linecap:butt;stroke-linejoin:miter;stroke-opacity:1\"/>\n",
       "<path class=\"bond-38 atom-18 atom-39\" d=\"M 161.5,143.7 L 159.7,152.6\" style=\"fill:none;fill-rule:evenodd;stroke:#0000FF;stroke-width:2.0px;stroke-linecap:butt;stroke-linejoin:miter;stroke-opacity:1\"/>\n",
       "<path class=\"bond-38 atom-18 atom-39\" d=\"M 159.7,152.6 L 157.8,161.4\" style=\"fill:none;fill-rule:evenodd;stroke:#000000;stroke-width:2.0px;stroke-linecap:butt;stroke-linejoin:miter;stroke-opacity:1\"/>\n",
       "<path class=\"bond-39 atom-6 atom-1\" d=\"M 54.5,175.2 L 45.6,178.2\" style=\"fill:none;fill-rule:evenodd;stroke:#0000FF;stroke-width:2.0px;stroke-linecap:butt;stroke-linejoin:miter;stroke-opacity:1\"/>\n",
       "<path class=\"bond-39 atom-6 atom-1\" d=\"M 45.6,178.2 L 36.6,181.1\" style=\"fill:none;fill-rule:evenodd;stroke:#000000;stroke-width:2.0px;stroke-linecap:butt;stroke-linejoin:miter;stroke-opacity:1\"/>\n",
       "<path class=\"bond-40 atom-14 atom-9\" d=\"M 99.5,160.5 L 95.0,182.1\" style=\"fill:none;fill-rule:evenodd;stroke:#000000;stroke-width:2.0px;stroke-linecap:butt;stroke-linejoin:miter;stroke-opacity:1\"/>\n",
       "<path class=\"bond-41 atom-33 atom-21\" d=\"M 221.3,143.0 L 199.7,147.7\" style=\"fill:none;fill-rule:evenodd;stroke:#000000;stroke-width:2.0px;stroke-linecap:butt;stroke-linejoin:miter;stroke-opacity:1\"/>\n",
       "<path class=\"bond-42 atom-39 atom-12\" d=\"M 157.8,161.4 L 136.9,168.3\" style=\"fill:none;fill-rule:evenodd;stroke:#000000;stroke-width:2.0px;stroke-linecap:butt;stroke-linejoin:miter;stroke-opacity:1\"/>\n",
       "<path class=\"bond-43 atom-32 atom-27\" d=\"M 254.6,199.7 L 258.9,192.1\" style=\"fill:none;fill-rule:evenodd;stroke:#0000FF;stroke-width:2.0px;stroke-linecap:butt;stroke-linejoin:miter;stroke-opacity:1\"/>\n",
       "<path class=\"bond-43 atom-32 atom-27\" d=\"M 258.9,192.1 L 263.3,184.4\" style=\"fill:none;fill-rule:evenodd;stroke:#000000;stroke-width:2.0px;stroke-linecap:butt;stroke-linejoin:miter;stroke-opacity:1\"/>\n",
       "<path class=\"bond-44 atom-38 atom-33\" d=\"M 243.2,140.7 L 221.3,143.0\" style=\"fill:none;fill-rule:evenodd;stroke:#000000;stroke-width:2.0px;stroke-linecap:butt;stroke-linejoin:miter;stroke-opacity:1\"/>\n",
       "<path d=\"M 35.8,180.4 L 36.6,181.1 L 37.1,181.0\" style=\"fill:none;stroke:#000000;stroke-width:2.0px;stroke-linecap:butt;stroke-linejoin:miter;stroke-opacity:1;\"/>\n",
       "<path d=\"M 21.0,167.1 L 20.2,166.4 L 20.3,165.9\" style=\"fill:none;stroke:#000000;stroke-width:2.0px;stroke-linecap:butt;stroke-linejoin:miter;stroke-opacity:1;\"/>\n",
       "<path d=\"M 45.2,138.1 L 45.7,137.9 L 46.5,138.7\" style=\"fill:none;stroke:#000000;stroke-width:2.0px;stroke-linecap:butt;stroke-linejoin:miter;stroke-opacity:1;\"/>\n",
       "<path d=\"M 61.3,151.9 L 62.1,152.6 L 62.0,153.1\" style=\"fill:none;stroke:#000000;stroke-width:2.0px;stroke-linecap:butt;stroke-linejoin:miter;stroke-opacity:1;\"/>\n",
       "<path d=\"M 73.7,188.6 L 74.0,188.9 L 75.1,188.6\" style=\"fill:none;stroke:#000000;stroke-width:2.0px;stroke-linecap:butt;stroke-linejoin:miter;stroke-opacity:1;\"/>\n",
       "<path d=\"M 110.6,196.0 L 111.4,196.8 L 112.4,196.4\" style=\"fill:none;stroke:#000000;stroke-width:2.0px;stroke-linecap:butt;stroke-linejoin:miter;stroke-opacity:1;\"/>\n",
       "<path d=\"M 131.3,190.2 L 132.4,189.9 L 132.6,188.8\" style=\"fill:none;stroke:#000000;stroke-width:2.0px;stroke-linecap:butt;stroke-linejoin:miter;stroke-opacity:1;\"/>\n",
       "<path d=\"M 100.5,160.1 L 99.5,160.5 L 99.3,161.5\" style=\"fill:none;stroke:#000000;stroke-width:2.0px;stroke-linecap:butt;stroke-linejoin:miter;stroke-opacity:1;\"/>\n",
       "<path d=\"M 145.5,125.3 L 145.9,125.1 L 146.2,125.4\" style=\"fill:none;stroke:#000000;stroke-width:2.0px;stroke-linecap:butt;stroke-linejoin:miter;stroke-opacity:1;\"/>\n",
       "<path d=\"M 182.8,133.1 L 183.3,133.0 L 184.1,133.7\" style=\"fill:none;stroke:#000000;stroke-width:2.0px;stroke-linecap:butt;stroke-linejoin:miter;stroke-opacity:1;\"/>\n",
       "<path d=\"M 197.6,168.5 L 197.5,169.6 L 198.5,170.1\" style=\"fill:none;stroke:#000000;stroke-width:2.0px;stroke-linecap:butt;stroke-linejoin:miter;stroke-opacity:1;\"/>\n",
       "<path d=\"M 216.6,178.1 L 217.6,178.5 L 217.9,178.2\" style=\"fill:none;stroke:#000000;stroke-width:2.0px;stroke-linecap:butt;stroke-linejoin:miter;stroke-opacity:1;\"/>\n",
       "<path d=\"M 253.8,164.3 L 254.3,164.3 L 254.7,165.3\" style=\"fill:none;stroke:#000000;stroke-width:2.0px;stroke-linecap:butt;stroke-linejoin:miter;stroke-opacity:1;\"/>\n",
       "<path d=\"M 283.8,188.7 L 284.9,189.0 L 285.0,190.1\" style=\"fill:none;stroke:#000000;stroke-width:2.0px;stroke-linecap:butt;stroke-linejoin:miter;stroke-opacity:1;\"/>\n",
       "<path d=\"M 208.9,126.1 L 208.3,125.2 L 208.7,124.2\" style=\"fill:none;stroke:#000000;stroke-width:2.0px;stroke-linecap:butt;stroke-linejoin:miter;stroke-opacity:1;\"/>\n",
       "<path d=\"M 216.7,106.1 L 217.2,105.1 L 217.6,105.0\" style=\"fill:none;stroke:#000000;stroke-width:2.0px;stroke-linecap:butt;stroke-linejoin:miter;stroke-opacity:1;\"/>\n",
       "<path d=\"M 251.8,120.1 L 252.1,120.5 L 251.7,121.5\" style=\"fill:none;stroke:#000000;stroke-width:2.0px;stroke-linecap:butt;stroke-linejoin:miter;stroke-opacity:1;\"/>\n",
       "<path d=\"M 243.6,139.6 L 243.2,140.7 L 242.1,140.8\" style=\"fill:none;stroke:#000000;stroke-width:2.0px;stroke-linecap:butt;stroke-linejoin:miter;stroke-opacity:1;\"/>\n",
       "<path d=\"M 157.9,161.0 L 157.8,161.4 L 156.8,161.8\" style=\"fill:none;stroke:#000000;stroke-width:2.0px;stroke-linecap:butt;stroke-linejoin:miter;stroke-opacity:1;\"/>\n",
       "<path class=\"atom-0\" d=\"M 29.3 202.7 Q 29.3 201.2, 30.0 200.4 Q 30.7 199.5, 32.1 199.5 Q 33.5 199.5, 34.2 200.4 Q 35.0 201.2, 35.0 202.7 Q 35.0 204.2, 34.2 205.1 Q 33.5 205.9, 32.1 205.9 Q 30.7 205.9, 30.0 205.1 Q 29.3 204.2, 29.3 202.7 M 32.1 205.2 Q 33.1 205.2, 33.6 204.6 Q 34.1 203.9, 34.1 202.7 Q 34.1 201.5, 33.6 200.9 Q 33.1 200.2, 32.1 200.2 Q 31.2 200.2, 30.7 200.8 Q 30.1 201.5, 30.1 202.7 Q 30.1 204.0, 30.7 204.6 Q 31.2 205.2, 32.1 205.2 \" fill=\"#FF0000\"/>\n",
       "<path class=\"atom-3\" d=\"M 16.2 141.7 L 17.1 141.7 L 17.1 144.3 L 20.3 144.3 L 20.3 141.7 L 21.1 141.7 L 21.1 147.9 L 20.3 147.9 L 20.3 145.0 L 17.1 145.0 L 17.1 147.9 L 16.2 147.9 L 16.2 141.7 \" fill=\"#0000FF\"/>\n",
       "<path class=\"atom-3\" d=\"M 23.4 141.7 L 25.4 145.0 Q 25.6 145.3, 25.9 145.9 Q 26.3 146.5, 26.3 146.5 L 26.3 141.7 L 27.1 141.7 L 27.1 147.9 L 26.2 147.9 L 24.1 144.3 Q 23.8 143.9, 23.5 143.4 Q 23.3 142.9, 23.2 142.8 L 23.2 147.9 L 22.4 147.9 L 22.4 141.7 L 23.4 141.7 \" fill=\"#0000FF\"/>\n",
       "<path class=\"atom-6\" d=\"M 56.2 171.1 L 58.3 174.4 Q 58.5 174.7, 58.8 175.3 Q 59.1 175.9, 59.1 175.9 L 59.1 171.1 L 60.0 171.1 L 60.0 177.3 L 59.1 177.3 L 56.9 173.7 Q 56.7 173.3, 56.4 172.8 Q 56.1 172.3, 56.0 172.2 L 56.0 177.3 L 55.2 177.3 L 55.2 171.1 L 56.2 171.1 \" fill=\"#0000FF\"/>\n",
       "<path class=\"atom-8\" d=\"M 66.6 210.5 Q 66.6 209.0, 67.4 208.2 Q 68.1 207.3, 69.5 207.3 Q 70.9 207.3, 71.6 208.2 Q 72.4 209.0, 72.4 210.5 Q 72.4 212.0, 71.6 212.9 Q 70.9 213.8, 69.5 213.8 Q 68.1 213.8, 67.4 212.9 Q 66.6 212.0, 66.6 210.5 M 69.5 213.1 Q 70.5 213.1, 71.0 212.4 Q 71.5 211.8, 71.5 210.5 Q 71.5 209.3, 71.0 208.7 Q 70.5 208.1, 69.5 208.1 Q 68.5 208.1, 68.0 208.7 Q 67.5 209.3, 67.5 210.5 Q 67.5 211.8, 68.0 212.4 Q 68.5 213.1, 69.5 213.1 \" fill=\"#FF0000\"/>\n",
       "<path class=\"atom-15\" d=\"M 116.5 128.9 L 117.3 128.9 L 117.3 131.5 L 120.5 131.5 L 120.5 128.9 L 121.4 128.9 L 121.4 135.1 L 120.5 135.1 L 120.5 132.3 L 117.3 132.3 L 117.3 135.1 L 116.5 135.1 L 116.5 128.9 \" fill=\"#0000FF\"/>\n",
       "<path class=\"atom-15\" d=\"M 123.6 128.9 L 125.6 132.2 Q 125.8 132.5, 126.2 133.1 Q 126.5 133.7, 126.5 133.7 L 126.5 128.9 L 127.3 128.9 L 127.3 135.1 L 126.5 135.1 L 124.3 131.5 Q 124.0 131.1, 123.7 130.6 Q 123.5 130.1, 123.4 130.0 L 123.4 135.1 L 122.6 135.1 L 122.6 128.9 L 123.6 128.9 \" fill=\"#0000FF\"/>\n",
       "<path class=\"atom-17\" d=\"M 147.6 103.6 Q 147.6 102.1, 148.3 101.2 Q 149.0 100.4, 150.4 100.4 Q 151.8 100.4, 152.6 101.2 Q 153.3 102.1, 153.3 103.6 Q 153.3 105.1, 152.5 106.0 Q 151.8 106.8, 150.4 106.8 Q 149.1 106.8, 148.3 106.0 Q 147.6 105.1, 147.6 103.6 M 150.4 106.1 Q 151.4 106.1, 151.9 105.5 Q 152.4 104.8, 152.4 103.6 Q 152.4 102.3, 151.9 101.7 Q 151.4 101.1, 150.4 101.1 Q 149.5 101.1, 149.0 101.7 Q 148.4 102.3, 148.4 103.6 Q 148.4 104.8, 149.0 105.5 Q 149.5 106.1, 150.4 106.1 \" fill=\"#FF0000\"/>\n",
       "<path class=\"atom-18\" d=\"M 161.0 136.7 L 163.0 140.0 Q 163.2 140.4, 163.5 140.9 Q 163.9 141.5, 163.9 141.6 L 163.9 136.7 L 164.7 136.7 L 164.7 143.0 L 163.9 143.0 L 161.7 139.3 Q 161.4 138.9, 161.1 138.4 Q 160.9 138.0, 160.8 137.8 L 160.8 143.0 L 160.0 143.0 L 160.0 136.7 L 161.0 136.7 \" fill=\"#0000FF\"/>\n",
       "<path class=\"atom-20\" d=\"M 184.9 111.4 Q 184.9 109.9, 185.7 109.1 Q 186.4 108.2, 187.8 108.2 Q 189.2 108.2, 189.9 109.1 Q 190.7 109.9, 190.7 111.4 Q 190.7 112.9, 189.9 113.8 Q 189.2 114.6, 187.8 114.6 Q 186.4 114.6, 185.7 113.8 Q 184.9 112.9, 184.9 111.4 M 187.8 113.9 Q 188.8 113.9, 189.3 113.3 Q 189.8 112.7, 189.8 111.4 Q 189.8 110.2, 189.3 109.6 Q 188.8 108.9, 187.8 108.9 Q 186.9 108.9, 186.3 109.6 Q 185.8 110.2, 185.8 111.4 Q 185.8 112.7, 186.3 113.3 Q 186.9 113.9, 187.8 113.9 \" fill=\"#FF0000\"/>\n",
       "<path class=\"atom-24\" d=\"M 231.0 159.0 L 233.0 162.3 Q 233.2 162.6, 233.5 163.2 Q 233.9 163.8, 233.9 163.8 L 233.9 159.0 L 234.7 159.0 L 234.7 165.2 L 233.9 165.2 L 231.7 161.6 Q 231.4 161.2, 231.1 160.7 Q 230.9 160.2, 230.8 160.0 L 230.8 165.2 L 230.0 165.2 L 230.0 159.0 L 231.0 159.0 \" fill=\"#0000FF\"/>\n",
       "<path class=\"atom-26\" d=\"M 264.3 146.5 Q 264.3 145.0, 265.1 144.1 Q 265.8 143.3, 267.2 143.3 Q 268.6 143.3, 269.3 144.1 Q 270.1 145.0, 270.1 146.5 Q 270.1 148.0, 269.3 148.8 Q 268.6 149.7, 267.2 149.7 Q 265.8 149.7, 265.1 148.8 Q 264.3 148.0, 264.3 146.5 M 267.2 149.0 Q 268.1 149.0, 268.7 148.4 Q 269.2 147.7, 269.2 146.5 Q 269.2 145.2, 268.7 144.6 Q 268.1 144.0, 267.2 144.0 Q 266.2 144.0, 265.7 144.6 Q 265.2 145.2, 265.2 146.5 Q 265.2 147.7, 265.7 148.4 Q 266.2 149.0, 267.2 149.0 \" fill=\"#FF0000\"/>\n",
       "<path class=\"atom-30\" d=\"M 304.5 218.7 L 308.2 218.7 L 308.2 219.4 L 305.4 219.4 L 305.4 221.3 L 307.9 221.3 L 307.9 222.1 L 305.4 222.1 L 305.4 225.0 L 304.5 225.0 L 304.5 218.7 \" fill=\"#33CCCC\"/>\n",
       "<path class=\"atom-31\" d=\"M 265.8 216.8 L 267.8 220.1 Q 268.0 220.4, 268.3 221.0 Q 268.7 221.6, 268.7 221.6 L 268.7 216.8 L 269.5 216.8 L 269.5 223.0 L 268.7 223.0 L 266.5 219.4 Q 266.2 219.0, 265.9 218.5 Q 265.7 218.0, 265.6 217.9 L 265.6 223.0 L 264.8 223.0 L 264.8 216.8 L 265.8 216.8 \" fill=\"#0000FF\"/>\n",
       "<path class=\"atom-32\" d=\"M 243.9 200.4 L 244.7 200.4 L 244.7 203.1 L 247.9 203.1 L 247.9 200.4 L 248.7 200.4 L 248.7 206.7 L 247.9 206.7 L 247.9 203.8 L 244.7 203.8 L 244.7 206.7 L 243.9 206.7 L 243.9 200.4 \" fill=\"#0000FF\"/>\n",
       "<path class=\"atom-32\" d=\"M 251.0 200.4 L 253.0 203.8 Q 253.2 204.1, 253.5 204.7 Q 253.9 205.3, 253.9 205.3 L 253.9 200.4 L 254.7 200.4 L 254.7 206.7 L 253.9 206.7 L 251.7 203.1 Q 251.4 202.7, 251.1 202.2 Q 250.9 201.7, 250.8 201.5 L 250.8 206.7 L 250.0 206.7 L 250.0 200.4 L 251.0 200.4 \" fill=\"#0000FF\"/>\n",
       "<path class=\"atom-36\" d=\"M 236.2 102.7 Q 236.2 101.2, 237.0 100.4 Q 237.7 99.5, 239.1 99.5 Q 240.5 99.5, 241.2 100.4 Q 242.0 101.2, 242.0 102.7 Q 242.0 104.2, 241.2 105.1 Q 240.5 105.9, 239.1 105.9 Q 237.7 105.9, 237.0 105.1 Q 236.2 104.2, 236.2 102.7 M 239.1 105.2 Q 240.0 105.2, 240.6 104.6 Q 241.1 104.0, 241.1 102.7 Q 241.1 101.5, 240.6 100.9 Q 240.0 100.2, 239.1 100.2 Q 238.1 100.2, 237.6 100.9 Q 237.1 101.5, 237.1 102.7 Q 237.1 104.0, 237.6 104.6 Q 238.1 105.2, 239.1 105.2 \" fill=\"#FF0000\"/>\n",
       "</svg>"
      ],
      "text/plain": [
       "<IPython.core.display.SVG object>"
      ]
     },
     "execution_count": 352,
     "metadata": {},
     "output_type": "execute_result"
    }
   ],
   "source": [
    "plot_aligned_molecules([\n",
    "    dg.molecule.Molecule(route['product'])\n",
    "])"
   ]
  },
  {
   "cell_type": "markdown",
   "id": "086c9dd4-7f92-4e86-ae42-bacd875ae7df",
   "metadata": {},
   "source": [
    "Assign Enamine ID"
   ]
  },
  {
   "cell_type": "code",
   "execution_count": 343,
   "id": "f5ea2d8d-8ce2-4db6-86dc-b398a8362c0a",
   "metadata": {
    "tags": []
   },
   "outputs": [
    {
     "data": {
      "text/html": [
       "<div>\n",
       "<style scoped>\n",
       "    .dataframe tbody tr th:only-of-type {\n",
       "        vertical-align: middle;\n",
       "    }\n",
       "\n",
       "    .dataframe tbody tr th {\n",
       "        vertical-align: top;\n",
       "    }\n",
       "\n",
       "    .dataframe thead th {\n",
       "        text-align: right;\n",
       "    }\n",
       "</style>\n",
       "<table border=\"1\" class=\"dataframe\">\n",
       "  <thead>\n",
       "    <tr style=\"text-align: right;\">\n",
       "      <th></th>\n",
       "      <th>query_id</th>\n",
       "      <th>target_id</th>\n",
       "      <th>score</th>\n",
       "    </tr>\n",
       "  </thead>\n",
       "  <tbody>\n",
       "    <tr>\n",
       "      <th>237890</th>\n",
       "      <td>Cl.O=C(O)C1CCNC12CCOCC2</td>\n",
       "      <td>EN300-6760175 14</td>\n",
       "      <td>1.0</td>\n",
       "    </tr>\n",
       "  </tbody>\n",
       "</table>\n",
       "</div>"
      ],
      "text/plain": [
       "                       query_id         target_id  score\n",
       "237890  Cl.O=C(O)C1CCNC12CCOCC2  EN300-6760175 14    1.0"
      ]
     },
     "execution_count": 343,
     "metadata": {},
     "output_type": "execute_result"
    }
   ],
   "source": [
    "import chemfp\n",
    "\n",
    "# Grab reactant\n",
    "mols = [dg.molecule.Molecule(\n",
    "    route['reactants'][0]['reactants'][1]['product']\n",
    ")]\n",
    "\n",
    "# Compute fingerprint\n",
    "fingerprints = dg.datasets.fingerprints(f'../../dgym-data/Enamine_Building_Blocks_Stock_262336cmpd_20230630_atoms.fpb')\n",
    "fingerprint_type = fingerprints.get_fingerprint_type()\n",
    "query_fingerprints = [\n",
    "    (m.name, fingerprint_type.from_smi(m.smiles))\n",
    "    for m in mols\n",
    "]\n",
    "\n",
    "queries = chemfp.load_fingerprints(\n",
    "    query_fingerprints,\n",
    "    metadata = fingerprint_type.get_metadata(),\n",
    "    reorder=False\n",
    ")\n",
    "\n",
    "results = chemfp.simsearch(\n",
    "    queries = queries,\n",
    "    targets = fingerprints,\n",
    "    progress = False,\n",
    "    threshold = 0.0,\n",
    ")\n",
    "\n",
    "(\n",
    "    results\n",
    "    .to_pandas()\n",
    "    .sort_values('score', ascending=False)\n",
    ").head(1)"
   ]
  }
 ],
 "metadata": {
  "kernelspec": {
   "display_name": "Python 3 (ipykernel)",
   "language": "python",
   "name": "python3"
  },
  "language_info": {
   "codemirror_mode": {
    "name": "ipython",
    "version": 3
   },
   "file_extension": ".py",
   "mimetype": "text/x-python",
   "name": "python",
   "nbconvert_exporter": "python",
   "pygments_lexer": "ipython3",
   "version": "3.11.5"
  }
 },
 "nbformat": 4,
 "nbformat_minor": 5
}
