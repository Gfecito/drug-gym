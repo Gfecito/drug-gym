{
 "cells": [
  {
   "cell_type": "code",
   "execution_count": 14,
   "id": "b44cf366-cea6-4c2d-b845-abeb635ab4a0",
   "metadata": {
    "tags": []
   },
   "outputs": [
    {
     "data": {
      "application/vnd.jupyter.widget-view+json": {
       "model_id": "80646e827be44774917fc0fb6b3eb6bc",
       "version_major": 2,
       "version_minor": 0
      },
      "text/plain": [
       "  0%|          | 0/840 [00:00<?, ?it/s]"
      ]
     },
     "metadata": {},
     "output_type": "display_data"
    }
   ],
   "source": [
    "import warnings\n",
    "warnings.filterwarnings('ignore')\n",
    "\n",
    "import os\n",
    "import json\n",
    "import zipfile\n",
    "import pandas as pd\n",
    "from tqdm.auto import tqdm\n",
    "from io import TextIOWrapper\n",
    "from collections import defaultdict\n",
    "\n",
    "path = '../../dgym-data/analysis/noise/noise_2024-04-21_11-16-18.zip'\n",
    "\n",
    "trial_indices = defaultdict(int)\n",
    "records = []\n",
    "with zipfile.ZipFile(path, 'r') as z:\n",
    "    for filename in tqdm(z.namelist()):\n",
    "        if filename.endswith('.json'):\n",
    "            with z.open(filename) as file:\n",
    "                with TextIOWrapper(file, encoding='utf-8') as text_file:\n",
    "                    try:\n",
    "                        result = json.load(text_file)\n",
    "                        record = pd.DataFrame(\n",
    "                            result['annotations']\n",
    "                        ).reindex(\n",
    "                            columns=['ABL1 pIC50', 'Log P', 'Log S']\n",
    "                        ).dropna()\n",
    "                        \n",
    "                        sigma = result['sigma']\n",
    "                        trial_indices[sigma] += 1\n",
    "\n",
    "                        record['sigma'] = sigma\n",
    "                        record['trial'] = trial_indices[sigma]\n",
    "                        \n",
    "                        records.append(record)\n",
    "                        result = None\n",
    "                    except:\n",
    "                        continue\n",
    "\n",
    "df = pd.concat(records)\n",
    "records = None"
   ]
  },
  {
   "cell_type": "code",
   "execution_count": 37,
   "id": "6a70ffa1-8d86-47cd-a37d-ede100b94199",
   "metadata": {
    "tags": []
   },
   "outputs": [],
   "source": [
    "from dgym.envs.utility import MultipleUtilityFunction, ClassicUtilityFunction\n",
    "\n",
    "# create evaluators\n",
    "docking_utility_function = ClassicUtilityFunction(\n",
    "    ideal=(9.5, 13),\n",
    "    acceptable=(8, 13)\n",
    ")\n",
    "\n",
    "log_P_utility_function = ClassicUtilityFunction(\n",
    "    ideal=(0.5, 1.85),\n",
    "    acceptable=(-0.5, 3.5)\n",
    ")\n",
    "\n",
    "log_S_utility_function = ClassicUtilityFunction(\n",
    "    ideal=(-3, 1),\n",
    "    acceptable=(-4, 1)\n",
    ")\n",
    "\n",
    "composite_utility_function = MultipleUtilityFunction([\n",
    "    docking_utility_function, log_P_utility_function, log_S_utility_function])"
   ]
  },
  {
   "cell_type": "code",
   "execution_count": 42,
   "id": "b76e9034-3b64-4d86-8d41-4c3ecb0210a7",
   "metadata": {
    "tags": []
   },
   "outputs": [
    {
     "data": {
      "application/vnd.jupyter.widget-view+json": {
       "model_id": "8480a0218073433184641d4c3f8a2718",
       "version_major": 2,
       "version_minor": 0
      },
      "text/plain": [
       "  0%|          | 0/840 [00:00<?, ?it/s]"
      ]
     },
     "metadata": {},
     "output_type": "display_data"
    }
   ],
   "source": [
    "records = []\n",
    "for (sigma, trial), values in tqdm(df.groupby(['sigma', 'trial'])):\n",
    "    utility = composite_utility_function(values.values, precompute=True, method='average')\n",
    "    record = {'sigma': sigma, 'trial': trial, 'utility': max(utility)}\n",
    "    records.append(record)"
   ]
  },
  {
   "cell_type": "code",
   "execution_count": 43,
   "id": "ad825e54-4b9b-49ed-9051-989796405115",
   "metadata": {
    "tags": []
   },
   "outputs": [
    {
     "data": {
      "text/html": [
       "<div>\n",
       "<style scoped>\n",
       "    .dataframe tbody tr th:only-of-type {\n",
       "        vertical-align: middle;\n",
       "    }\n",
       "\n",
       "    .dataframe tbody tr th {\n",
       "        vertical-align: top;\n",
       "    }\n",
       "\n",
       "    .dataframe thead th {\n",
       "        text-align: right;\n",
       "    }\n",
       "</style>\n",
       "<table border=\"1\" class=\"dataframe\">\n",
       "  <thead>\n",
       "    <tr style=\"text-align: right;\">\n",
       "      <th></th>\n",
       "      <th>sigma</th>\n",
       "      <th>trial</th>\n",
       "      <th>utility</th>\n",
       "    </tr>\n",
       "  </thead>\n",
       "  <tbody>\n",
       "    <tr>\n",
       "      <th>0</th>\n",
       "      <td>0.0</td>\n",
       "      <td>1</td>\n",
       "      <td>0.903102</td>\n",
       "    </tr>\n",
       "    <tr>\n",
       "      <th>1</th>\n",
       "      <td>0.0</td>\n",
       "      <td>2</td>\n",
       "      <td>0.895274</td>\n",
       "    </tr>\n",
       "    <tr>\n",
       "      <th>2</th>\n",
       "      <td>0.0</td>\n",
       "      <td>3</td>\n",
       "      <td>0.923008</td>\n",
       "    </tr>\n",
       "    <tr>\n",
       "      <th>3</th>\n",
       "      <td>0.0</td>\n",
       "      <td>4</td>\n",
       "      <td>0.847339</td>\n",
       "    </tr>\n",
       "    <tr>\n",
       "      <th>4</th>\n",
       "      <td>0.0</td>\n",
       "      <td>5</td>\n",
       "      <td>0.935467</td>\n",
       "    </tr>\n",
       "    <tr>\n",
       "      <th>...</th>\n",
       "      <td>...</td>\n",
       "      <td>...</td>\n",
       "      <td>...</td>\n",
       "    </tr>\n",
       "    <tr>\n",
       "      <th>835</th>\n",
       "      <td>2.0</td>\n",
       "      <td>36</td>\n",
       "      <td>0.762931</td>\n",
       "    </tr>\n",
       "    <tr>\n",
       "      <th>836</th>\n",
       "      <td>2.0</td>\n",
       "      <td>37</td>\n",
       "      <td>0.807495</td>\n",
       "    </tr>\n",
       "    <tr>\n",
       "      <th>837</th>\n",
       "      <td>2.0</td>\n",
       "      <td>38</td>\n",
       "      <td>0.874204</td>\n",
       "    </tr>\n",
       "    <tr>\n",
       "      <th>838</th>\n",
       "      <td>2.0</td>\n",
       "      <td>39</td>\n",
       "      <td>0.944385</td>\n",
       "    </tr>\n",
       "    <tr>\n",
       "      <th>839</th>\n",
       "      <td>2.0</td>\n",
       "      <td>40</td>\n",
       "      <td>0.971576</td>\n",
       "    </tr>\n",
       "  </tbody>\n",
       "</table>\n",
       "<p>840 rows × 3 columns</p>\n",
       "</div>"
      ],
      "text/plain": [
       "     sigma  trial   utility\n",
       "0      0.0      1  0.903102\n",
       "1      0.0      2  0.895274\n",
       "2      0.0      3  0.923008\n",
       "3      0.0      4  0.847339\n",
       "4      0.0      5  0.935467\n",
       "..     ...    ...       ...\n",
       "835    2.0     36  0.762931\n",
       "836    2.0     37  0.807495\n",
       "837    2.0     38  0.874204\n",
       "838    2.0     39  0.944385\n",
       "839    2.0     40  0.971576\n",
       "\n",
       "[840 rows x 3 columns]"
      ]
     },
     "execution_count": 43,
     "metadata": {},
     "output_type": "execute_result"
    }
   ],
   "source": [
    "pd.DataFrame(records)"
   ]
  }
 ],
 "metadata": {
  "kernelspec": {
   "display_name": "Python 3 (ipykernel)",
   "language": "python",
   "name": "python3"
  },
  "language_info": {
   "codemirror_mode": {
    "name": "ipython",
    "version": 3
   },
   "file_extension": ".py",
   "mimetype": "text/x-python",
   "name": "python",
   "nbconvert_exporter": "python",
   "pygments_lexer": "ipython3",
   "version": "3.11.5"
  }
 },
 "nbformat": 4,
 "nbformat_minor": 5
}
