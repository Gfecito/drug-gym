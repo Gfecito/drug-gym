{
 "cells": [
  {
   "cell_type": "code",
   "execution_count": 44,
   "id": "af06664d-5e0e-4b1e-ac7a-d3a750c6db13",
   "metadata": {
    "tags": []
   },
   "outputs": [
    {
     "name": "stdout",
     "output_type": "stream",
     "text": [
      "[[1, 2, [3, 4]], [5, ['X', 7]]]\n"
     ]
    }
   ],
   "source": [
    "import random\n",
    "\n",
    "def replace_random_integer_with_letter(nested_list, letter='X'):\n",
    "    \"\"\"\n",
    "    Recursively traverses a nested list and replaces a randomly chosen integer with a letter.\n",
    "    \n",
    "    Parameters:\n",
    "    nested_list (list): The nested list to process.\n",
    "    letter (str): The letter to replace an integer with. Defaults to 'X'.\n",
    "    \n",
    "    Returns:\n",
    "    None: The function modifies the nested list in place.\n",
    "    \"\"\"\n",
    "    \n",
    "    # Helper function to count integers\n",
    "    def count_integers(lst):\n",
    "        count = 0\n",
    "        for item in lst:\n",
    "            if isinstance(item, list):\n",
    "                count += count_integers(item)\n",
    "            elif isinstance(item, int):\n",
    "                count += 1\n",
    "        return count\n",
    "    \n",
    "    # Helper function to replace the nth integer\n",
    "    def replace_nth_integer(lst, n, letter):\n",
    "        for i, item in enumerate(lst):\n",
    "            if isinstance(item, list):\n",
    "                n = replace_nth_integer(item, n, letter)\n",
    "                if n == 0:\n",
    "                    return 0  # Early return if replacement is done\n",
    "            elif isinstance(item, int):\n",
    "                n -= 1\n",
    "                if n == 0:\n",
    "                    lst[i] = letter\n",
    "                    return 0\n",
    "        return n\n",
    "    \n",
    "    total_integers = count_integers(nested_list)\n",
    "    random_integer_position = random.randint(1, total_integers)\n",
    "    \n",
    "    replace_nth_integer(nested_list, random_integer_position, letter)\n",
    "\n",
    "# Example usage\n",
    "nested_list = [[1, 2, [3, 4]], [5, [6, 7]]]\n",
    "replace_random_integer_with_letter(nested_list)\n",
    "print(nested_list)"
   ]
  },
  {
   "cell_type": "markdown",
   "id": "615a1f98-cd93-452f-9558-4f7104cb76e5",
   "metadata": {},
   "source": [
    "Testing logic with molecules."
   ]
  },
  {
   "cell_type": "code",
   "execution_count": 81,
   "id": "93ca9e63-6471-45bf-a97b-51481e669a1b",
   "metadata": {
    "tags": []
   },
   "outputs": [],
   "source": [
    "%reload_ext autoreload\n",
    "%autoreload 2\n",
    "\n",
    "import rdkit\n",
    "rdkit.Chem.Draw.IPythonConsole.ipython_maxProperties = -1\n",
    "\n",
    "import dgym as dg\n",
    "\n",
    "# load all data\n",
    "path = '../../dgym-data'\n",
    "\n",
    "deck = dg.MoleculeCollection.load(\n",
    "    f'{path}/DSi-Poised_Library_annotated.sdf',\n",
    "    reactant_names=['reagsmi1', 'reagsmi2', 'reagsmi3']\n",
    ")\n",
    "\n",
    "reactions = dg.ReactionCollection.from_json(\n",
    "    path = f'{path}/All_Rxns_rxn_library.json',\n",
    "    smarts_col = 'reaction_string',\n",
    "    classes_col = 'functional_groups'\n",
    ")\n",
    "\n",
    "building_blocks = dg.datasets.disk_loader(f'{path}/Enamine_Building_Blocks_Stock_262336cmpd_20230630.sdf')\n",
    "fingerprints = dg.datasets.fingerprints(f'{path}/Enamine_Building_Blocks_Stock_262336cmpd_20230630_atoms.fpb')\n",
    "\n",
    "import torch\n",
    "import pyarrow.parquet as pq\n",
    "table = pq.read_table('../../dgym-data/sizes.parquet')[0]\n",
    "sizes = torch.tensor(table.to_numpy())"
   ]
  },
  {
   "cell_type": "code",
   "execution_count": 46,
   "id": "9243ce95-6163-42b1-884f-a87cec7ae8e8",
   "metadata": {
    "tags": []
   },
   "outputs": [],
   "source": [
    "from dgym.molecule import Molecule\n",
    "from dgym.envs.designer import Designer, Generator\n",
    "from dgym.envs.drug_env import DrugEnv\n",
    "from dgym.agents import SequentialDrugAgent\n",
    "from dgym.agents.exploration import EpsilonGreedy\n",
    "from dgym.experiment import Experiment\n",
    "\n",
    "designer = Designer(\n",
    "    Generator(building_blocks, fingerprints, sizes),\n",
    "    reactions,\n",
    "    cache = True\n",
    ")"
   ]
  },
  {
   "cell_type": "code",
   "execution_count": 87,
   "id": "37565a8f-7fa8-45e7-9315-4b5bae408f80",
   "metadata": {
    "tags": []
   },
   "outputs": [],
   "source": [
    "designer.reset_cache()\n",
    "res = designer.design(deck[1], 1, mode='grow')"
   ]
  },
  {
   "cell_type": "code",
   "execution_count": 93,
   "id": "f5b6cd93-2bf3-4c7d-be32-87d97ff4af9f",
   "metadata": {
    "tags": []
   },
   "outputs": [],
   "source": [
    "def replace_reactants(molecule):\n",
    "    \n",
    "    if not molecule.reactants:\n",
    "        return molecule\n",
    "    \n",
    "    replace_reactants(molecule)\n",
    "    \n",
    "    return molecule\n",
    "# res[0].reactants[1]"
   ]
  }
 ],
 "metadata": {
  "kernelspec": {
   "display_name": "Python 3 (ipykernel)",
   "language": "python",
   "name": "python3"
  },
  "language_info": {
   "codemirror_mode": {
    "name": "ipython",
    "version": 3
   },
   "file_extension": ".py",
   "mimetype": "text/x-python",
   "name": "python",
   "nbconvert_exporter": "python",
   "pygments_lexer": "ipython3",
   "version": "3.11.5"
  }
 },
 "nbformat": 4,
 "nbformat_minor": 5
}
