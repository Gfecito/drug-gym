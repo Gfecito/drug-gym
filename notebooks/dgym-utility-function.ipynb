{
 "cells": [
  {
   "cell_type": "markdown",
   "id": "8200f060-27ff-4298-833d-d961f5d5ae46",
   "metadata": {},
   "source": [
    "# Testing new utility function for MPO"
   ]
  },
  {
   "cell_type": "markdown",
   "id": "b62c109b-34f2-4120-ae62-1ca1ea4385c0",
   "metadata": {},
   "source": [
    "Data imports."
   ]
  },
  {
   "cell_type": "code",
   "execution_count": 114,
   "id": "3114f500-c118-4084-8556-385cbd5121d8",
   "metadata": {
    "tags": []
   },
   "outputs": [],
   "source": [
    "%reload_ext autoreload\n",
    "%autoreload 2\n",
    "\n",
    "import rdkit\n",
    "rdkit.Chem.Draw.IPythonConsole.ipython_maxProperties = -1\n",
    "\n",
    "import dgym as dg\n",
    "\n",
    "# load all data\n",
    "path = '../../dgym-data'\n",
    "\n",
    "deck = dg.MoleculeCollection.load(\n",
    "    f'{path}/DSi-Poised_Library_annotated.sdf',\n",
    "    reactant_names=['reagsmi1', 'reagsmi2', 'reagsmi3']\n",
    ")\n",
    "\n",
    "reactions = dg.ReactionCollection.from_json(\n",
    "    path = f'{path}/All_Rxns_rxn_library_sorted.json',\n",
    "    smarts_col = 'reaction_string',\n",
    "    classes_col = 'functional_groups'\n",
    ")\n",
    "\n",
    "building_blocks = dg.datasets.disk_loader(f'{path}/Enamine_Building_Blocks_Stock_262336cmpd_20230630.sdf')\n",
    "fingerprints = dg.datasets.fingerprints(f'{path}/Enamine_Building_Blocks_Stock_262336cmpd_20230630_atoms.fpb')\n",
    "\n",
    "import torch\n",
    "import pyarrow.parquet as pq\n",
    "table = pq.read_table('../../dgym-data/sizes.parquet')[0]\n",
    "sizes = torch.tensor(table.to_numpy())"
   ]
  },
  {
   "cell_type": "code",
   "execution_count": 115,
   "id": "b31f9d85-2412-4c89-ab55-5f07b6a4f938",
   "metadata": {
    "tags": []
   },
   "outputs": [],
   "source": [
    "from dgym.envs.designer import Designer, Generator\n",
    "\n",
    "designer = Designer(\n",
    "    Generator(building_blocks, fingerprints, sizes),\n",
    "    reactions,\n",
    "    cache = True\n",
    ")"
   ]
  },
  {
   "cell_type": "code",
   "execution_count": 457,
   "id": "74332777-1ae3-4651-8e4d-20a936674c71",
   "metadata": {
    "tags": []
   },
   "outputs": [
    {
     "data": {
      "text/plain": [
       "((0,), (1,))"
      ]
     },
     "execution_count": 457,
     "metadata": {},
     "output_type": "execute_result"
    }
   ],
   "source": [
    "from itertools import combinations\n",
    "\n",
    "num_annotations = 2\n",
    "paths = [(0,), (1,)]\n",
    "list(combinations(paths, num_annotations))[0]"
   ]
  },
  {
   "cell_type": "code",
   "execution_count": 719,
   "id": "32eb7a81-7c31-41c6-a8cb-aff362cb72bb",
   "metadata": {
    "tags": []
   },
   "outputs": [
    {
     "data": {
      "image/png": "[encoded data removed]",
      "text/plain": [
       "<dgym.molecule.Molecule at 0x7f4367cb9c90>"
      ]
     },
     "execution_count": 719,
     "metadata": {},
     "output_type": "execute_result"
    }
   ],
   "source": [
    "# %%time\n",
    "from rdkit.Chem.Descriptors import HeavyAtomCount\n",
    "mol = designer.design(5, size_limit=5)\n",
    "\n",
    "# print(HeavyAtomCount(mol[2].mol))\n",
    "mol[0]"
   ]
  },
  {
   "cell_type": "code",
   "execution_count": 498,
   "id": "1caa6e93-93f0-4ee4-8d31-922c503d4eae",
   "metadata": {
    "tags": []
   },
   "outputs": [
    {
     "data": {
      "text/plain": [
       "4"
      ]
     },
     "execution_count": 498,
     "metadata": {},
     "output_type": "execute_result"
    }
   ],
   "source": [
    "HeavyAtomCount(mol[2].reactants[0].mol)"
   ]
  },
  {
   "cell_type": "code",
   "execution_count": 421,
   "id": "c016cbf8-d042-49de-b904-31349b641262",
   "metadata": {
    "tags": []
   },
   "outputs": [
    {
     "data": {
      "text/plain": [
       "15"
      ]
     },
     "execution_count": 421,
     "metadata": {},
     "output_type": "execute_result"
    }
   ],
   "source": [
    "HeavyAtomCount(mol[2].mol)"
   ]
  }
 ],
 "metadata": {
  "kernelspec": {
   "display_name": "Python 3 (ipykernel)",
   "language": "python",
   "name": "python3"
  },
  "language_info": {
   "codemirror_mode": {
    "name": "ipython",
    "version": 3
   },
   "file_extension": ".py",
   "mimetype": "text/x-python",
   "name": "python",
   "nbconvert_exporter": "python",
   "pygments_lexer": "ipython3",
   "version": "3.11.5"
  }
 },
 "nbformat": 4,
 "nbformat_minor": 5
}
