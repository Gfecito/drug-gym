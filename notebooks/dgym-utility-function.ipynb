{
 "cells": [
  {
   "cell_type": "markdown",
   "id": "8200f060-27ff-4298-833d-d961f5d5ae46",
   "metadata": {},
   "source": [
    "# Testing new utility function for MPO"
   ]
  },
  {
   "cell_type": "markdown",
   "id": "b62c109b-34f2-4120-ae62-1ca1ea4385c0",
   "metadata": {},
   "source": [
    "Data imports."
   ]
  },
  {
   "cell_type": "code",
   "execution_count": 2,
   "id": "3114f500-c118-4084-8556-385cbd5121d8",
   "metadata": {
    "tags": []
   },
   "outputs": [],
   "source": [
    "%reload_ext autoreload\n",
    "%autoreload 2\n",
    "\n",
    "import rdkit\n",
    "rdkit.Chem.Draw.IPythonConsole.ipython_maxProperties = -1\n",
    "\n",
    "import dgym as dg\n",
    "\n",
    "# load all data\n",
    "path = '../../dgym-data'\n",
    "\n",
    "deck = dg.MoleculeCollection.load(\n",
    "    f'{path}/DSi-Poised_Library_annotated.sdf',\n",
    "    reactant_names=['reagsmi1', 'reagsmi2', 'reagsmi3']\n",
    ")\n",
    "\n",
    "reactions = dg.ReactionCollection.from_json(\n",
    "    path = f'{path}/All_Rxns_rxn_library_sorted.json',\n",
    "    smarts_col = 'reaction_string',\n",
    "    classes_col = 'functional_groups'\n",
    ")\n",
    "\n",
    "building_blocks = dg.datasets.disk_loader(f'{path}/Enamine_Building_Blocks_Stock_262336cmpd_20230630.sdf')\n",
    "fingerprints = dg.datasets.fingerprints(f'{path}/Enamine_Building_Blocks_Stock_262336cmpd_20230630_atoms.fpb')\n",
    "\n",
    "import torch\n",
    "import pyarrow.parquet as pq\n",
    "table = pq.read_table('../../dgym-data/sizes.parquet')[0]\n",
    "sizes = torch.tensor(table.to_numpy())"
   ]
  },
  {
   "cell_type": "markdown",
   "id": "b919009c-cccf-441e-8593-b4e0257931cf",
   "metadata": {},
   "source": [
    "Instantiate designer."
   ]
  },
  {
   "cell_type": "code",
   "execution_count": 3,
   "id": "b31f9d85-2412-4c89-ab55-5f07b6a4f938",
   "metadata": {
    "tags": []
   },
   "outputs": [],
   "source": [
    "from dgym.envs.designer import Designer, Generator\n",
    "\n",
    "designer = Designer(\n",
    "    Generator(building_blocks, fingerprints, sizes),\n",
    "    reactions,\n",
    "    cache = True\n",
    ")"
   ]
  },
  {
   "cell_type": "markdown",
   "id": "d8237f2a-a54c-431b-a00e-c3fb50786420",
   "metadata": {},
   "source": [
    "Instantiate Oracles."
   ]
  },
  {
   "cell_type": "code",
   "execution_count": 86,
   "id": "70b00c30-7ca0-4530-8beb-49717f9398d1",
   "metadata": {
    "tags": []
   },
   "outputs": [],
   "source": [
    "from dgym.envs.utility import PenaltyUtilityFunction\n",
    "\n",
    "docking_utility = PenaltyUtilityFunction(\n",
    "    ideal=(8, float('inf')),\n",
    "    acceptable=(7.5, float('inf'))\n",
    ")"
   ]
  },
  {
   "cell_type": "code",
   "execution_count": 136,
   "id": "fc7f68ec-9615-49c7-8fd3-da7b9fb5d4b7",
   "metadata": {
    "tags": []
   },
   "outputs": [
    {
     "data": {
      "text/plain": [
       "array([0.1, 0. ])"
      ]
     },
     "execution_count": 136,
     "metadata": {},
     "output_type": "execute_result"
    }
   ],
   "source": [
    "docking_utility([7.95, 10])"
   ]
  },
  {
   "cell_type": "code",
   "execution_count": 141,
   "id": "c591c96f-9c46-40b4-a695-feb89eb47568",
   "metadata": {
    "tags": []
   },
   "outputs": [
    {
     "data": {
      "text/plain": [
       "<Axes: >"
      ]
     },
     "execution_count": 141,
     "metadata": {},
     "output_type": "execute_result"
    },
    {
     "data": {
      "image/png": "[encoded data removed]",
      "text/plain": [
       "<Figure size 640x480 with 1 Axes>"
      ]
     },
     "metadata": {},
     "output_type": "display_data"
    }
   ],
   "source": [
    "import seaborn as sns\n",
    "import matplotlib.pyplot as plt\n",
    "\n",
    "scores = np.linspace(6, 14, 1_000)\n",
    "utility = docking_utility(scores)\n",
    "sns.lineplot(x=scores, y=utility)"
   ]
  },
  {
   "cell_type": "code",
   "execution_count": 18,
   "id": "a68fc433-eb76-4d46-8ca2-b8f39e589b12",
   "metadata": {
    "tags": []
   },
   "outputs": [
    {
     "name": "stdout",
     "output_type": "stream",
     "text": [
      "CPU times: user 5.11 ms, sys: 0 ns, total: 5.11 ms\n",
      "Wall time: 5.09 ms\n"
     ]
    }
   ],
   "source": [
    "%%time\n",
    "import numpy as np\n",
    "from pymoo.util.nds.non_dominated_sorting import NonDominatedSorting\n",
    "\n",
    "np.random.seed(42)  # For reproducible results\n",
    "solutions = np.random.rand(1_000, 3)  # 10 solutions in a 3-dimensional space\n",
    "objectives = np.zeros((1_000, 3))  # Placeholder for objectives\n",
    "\n",
    "# Define the objective functions (hypothetical)\n",
    "def f1(x):\n",
    "    return (x[0]-0.5)**2  # Objective 1\n",
    "\n",
    "def f2(x):\n",
    "    return (x[1]-0.5)**2  # Objective 2\n",
    "\n",
    "def f3(x):\n",
    "    return (x[2]-0.5)**2  # Objective 3\n",
    "\n",
    "# Apply objectives to each solution\n",
    "for i, sol in enumerate(solutions):\n",
    "    objectives[i, 0] = f1(sol)\n",
    "    objectives[i, 1] = f2(sol)\n",
    "    objectives[i, 2] = f3(sol)\n",
    "\n",
    "# Perform non-dominated sorting\n",
    "nds = NonDominatedSorting().do(objectives, only_non_dominated_front=False)"
   ]
  },
  {
   "cell_type": "code",
   "execution_count": 19,
   "id": "b20af920-c86e-42b4-8384-ff42df59a306",
   "metadata": {
    "tags": []
   },
   "outputs": [
    {
     "data": {
      "text/plain": [
       "[array([ 47,  77,  91, 113, 116, 216, 230, 247, 278, 287, 379, 426, 443,\n",
       "        483, 527, 567, 662, 695, 770, 804, 819, 831, 853, 882, 922, 958,\n",
       "        982]),\n",
       " array([141, 326, 371, 625, 707, 896, 237, 422, 502, 716, 861, 876,  43,\n",
       "        962,  34, 554, 865, 328, 562, 577, 648,  49, 646,  13,  31, 828,\n",
       "        938, 989,  62, 100, 202, 586, 680, 683, 813, 837, 924, 477, 642,\n",
       "        757]),\n",
       " array([134, 264, 377, 207, 304, 352, 438, 553, 787, 190, 262, 419, 459,\n",
       "        515, 589, 687, 694, 244, 194, 759,   9, 336, 575, 150, 188, 279,\n",
       "        354, 652, 685, 224, 547, 671, 210, 282, 563,  95, 473, 581, 228,\n",
       "        450, 184, 233, 401, 500, 597, 752, 767, 864,  45, 464, 537, 726,\n",
       "        898, 943]),\n",
       " array([624, 159, 246, 274, 318, 644, 762, 657, 903, 909, 639, 552, 594,\n",
       "        883, 211, 333, 732,  70, 102, 389, 508, 893, 868, 715, 931, 997,\n",
       "        163, 457, 585, 669, 860, 403, 643,  57, 756,  32, 175, 323, 755,\n",
       "        839, 936, 138, 364, 529, 955, 677, 198, 260, 626, 719, 965]),\n",
       " array([ 51, 307, 313, 408, 753, 654, 772, 778,  15,  29, 120, 182, 208,\n",
       "        613, 714, 760, 795, 812, 822, 897, 495, 181, 501, 720,   6, 791,\n",
       "        540, 142, 249, 375, 731, 543, 852, 417, 661, 114, 316, 448, 949,\n",
       "        705, 754,  87, 192, 271, 587, 424, 151, 951, 995, 954, 848, 217,\n",
       "        309, 499, 523, 789, 742, 167, 212, 311, 447, 513, 711, 402, 539,\n",
       "        451, 109, 303,  98, 252, 288, 301, 428, 468, 496, 526, 583, 596,\n",
       "        608, 690, 434]),\n",
       " array([535, 818, 397, 976,   5, 697, 857, 219, 391, 509, 782, 579, 164,\n",
       "        886, 498, 859,  21, 160, 476, 741, 890,  53, 121, 393,  86, 568,\n",
       "        874,  85, 218, 267, 358, 794, 817, 934, 610, 821, 803, 948, 614,\n",
       "        980, 329,   8, 619, 590, 786, 823, 631, 592, 764, 454,  54, 272,\n",
       "        849, 740, 910, 161, 170, 276, 418, 606, 183, 437, 536, 700]),\n",
       " array([900, 968, 119, 430, 491, 564, 655, 569, 576, 946, 112, 341, 907,\n",
       "         89, 486, 801,  39,  73, 285, 346, 649, 660, 290, 321, 977, 106,\n",
       "        322, 668, 699, 792, 994, 510, 461, 494, 189, 173, 452, 829, 130,\n",
       "        331, 381, 463, 490, 638, 678, 305, 186, 255, 493, 885, 277, 481,\n",
       "        571, 993,  35, 132, 465, 139, 165, 686, 984, 115, 179, 105, 232,\n",
       "        241, 937, 542, 721, 748, 269]),\n",
       " array([158, 421, 621,  94, 390, 779, 774, 888, 973, 559, 833,  92, 916,\n",
       "        361, 682, 713, 824, 918, 384,  72, 356, 376, 632, 889, 917, 673,\n",
       "        531, 944,  41, 518, 445, 841, 698, 458, 521, 814, 942,  28, 107,\n",
       "        345, 601, 763, 286, 308, 734, 773,  56,  64, 147, 215, 894, 908,\n",
       "         16, 268, 926,  27, 514, 517, 519, 921, 659, 959, 797, 427, 904,\n",
       "        103, 193, 987, 127,  96, 511, 545, 915, 723, 628, 350, 412, 471]),\n",
       " array([220, 522, 800, 881,  20, 335, 466, 664, 784,   1, 489,  83, 380,\n",
       "        595, 616, 578, 201, 108, 472, 807, 347, 796, 520, 197, 722, 769,\n",
       "        990,  52, 298, 647, 950, 479, 701, 855, 930, 650, 297, 972, 263,\n",
       "        710, 751, 835, 847, 236, 815, 676, 295, 302, 348, 607, 627, 696,\n",
       "        834, 925, 283, 453,  74, 320, 630, 758, 777, 832,  10, 810, 185,\n",
       "        339, 979, 245, 154, 407, 692, 538, 878, 905, 956, 292, 149, 325,\n",
       "        991,  99, 469, 152, 566]),\n",
       " array([ 48, 640, 811, 560, 340, 155, 172, 872, 985, 999, 745, 556, 963,\n",
       "        275, 411, 799, 265, 546,   7, 259, 330, 423, 738, 866, 969, 974,\n",
       "         58,   0, 213, 487, 776, 781,  38, 899, 602, 830, 409, 368,  75,\n",
       "        231, 257, 281, 360, 653, 967, 709,   2, 914, 229, 620, 964, 387,\n",
       "        512, 603,  55,  76, 766,  82, 291, 788, 966, 884, 416, 913, 180,\n",
       "        191, 362, 798, 484, 633, 871, 534, 858, 749, 912]),\n",
       " array([396,  65, 101, 497, 256, 641, 873,  18,  59, 144, 204, 588, 485,\n",
       "        816, 708, 177, 940,  66, 227, 420, 611, 689, 725, 846, 869, 355,\n",
       "        369, 663,  71,  78, 988, 314, 790,  12, 574, 730,  26, 238, 850,\n",
       "        431, 978, 623, 248, 895, 856, 137, 674, 957, 432, 704, 117, 941,\n",
       "        214, 382, 717,  68,  79, 806, 415, 747, 131, 366, 460, 507, 768]),\n",
       " array([406, 981, 110, 359, 802, 261, 436, 544, 733, 551, 394, 892,  84,\n",
       "        862, 280, 550, 235,  97, 128,  61,  88, 153, 374, 600,  93, 293,\n",
       "        442, 729, 629, 200, 129, 206, 492, 580, 645,  30, 435, 666, 251,\n",
       "        636, 960,  69, 728, 863, 986, 363, 635, 225, 820, 250, 343, 854,\n",
       "        558, 126, 612, 505, 353, 672, 838, 118, 135, 932, 516, 783, 805]),\n",
       " array([675, 743,  25, 273,  60, 168, 317, 234,  81, 449,  46, 429, 383,\n",
       "        809, 843, 605, 503, 867, 296, 618, 971, 370, 549, 679, 887,  40,\n",
       "        140, 253, 342, 404, 405, 533, 744, 845, 933, 410, 334, 712, 582,\n",
       "        524, 840, 923, 665, 223, 996,  90, 222, 385, 440,  19, 441, 351,\n",
       "         33, 920,  44, 124, 919]),\n",
       " array([254, 324, 125, 482, 455, 735, 414, 793, 746, 365, 826, 591, 242,\n",
       "        681, 727, 983, 136, 480, 750, 928,  50, 548, 718, 935, 266, 470,\n",
       "        615, 667, 736, 879, 880, 891, 953, 203, 378, 656, 739, 306, 573,\n",
       "        478, 525, 637, 395]),\n",
       " array([456, 902, 399, 258, 392,  23, 688, 901,   4, 199, 243, 143,  24,\n",
       "        541, 609, 319, 761, 875,  36, 145, 658, 844, 970, 992, 146, 221,\n",
       "        338, 808, 372, 702, 195, 530, 133, 187, 344, 462, 939, 162, 572]),\n",
       " array([425,  42, 413, 617, 724, 284,  22, 388, 555, 528, 598, 239, 166,\n",
       "        169, 209, 634, 771, 877, 178, 433,  63, 439, 532, 205,  17, 327,\n",
       "        584, 765]),\n",
       " array([289, 561, 176, 557, 570, 703, 825,  37,  67, 174, 196, 622, 998,\n",
       "        240, 310, 975,  14, 467, 300, 684,   3, 947, 506, 604, 780]),\n",
       " array([836, 226, 911, 294, 706, 332, 270, 373, 691, 827, 474, 775, 386,\n",
       "        446, 870, 927, 593, 906, 651, 148, 357, 400, 444, 693, 842, 929,\n",
       "        952]),\n",
       " array([171,  11, 122, 349, 398, 315, 123, 367, 785,  80, 565, 504, 299,\n",
       "        156, 737]),\n",
       " array([104, 157, 312, 670, 111, 599, 851, 961, 945]),\n",
       " array([337, 475]),\n",
       " array([488])]"
      ]
     },
     "execution_count": 19,
     "metadata": {},
     "output_type": "execute_result"
    }
   ],
   "source": [
    "nds"
   ]
  },
  {
   "cell_type": "code",
   "execution_count": 1,
   "id": "9aaac348-d732-48c3-ad00-4c3b9160dddc",
   "metadata": {
    "tags": []
   },
   "outputs": [
    {
     "ename": "ModuleNotFoundError",
     "evalue": "No module named 'pymoo.factory'",
     "output_type": "error",
     "traceback": [
      "\u001b[0;31m---------------------------------------------------------------------------\u001b[0m",
      "\u001b[0;31mModuleNotFoundError\u001b[0m                       Traceback (most recent call last)",
      "Cell \u001b[0;32mIn[1], line 2\u001b[0m\n\u001b[1;32m      1\u001b[0m \u001b[38;5;28;01mimport\u001b[39;00m \u001b[38;5;21;01mnumpy\u001b[39;00m \u001b[38;5;28;01mas\u001b[39;00m \u001b[38;5;21;01mnp\u001b[39;00m\n\u001b[0;32m----> 2\u001b[0m \u001b[38;5;28;01mfrom\u001b[39;00m \u001b[38;5;21;01mpymoo\u001b[39;00m\u001b[38;5;21;01m.\u001b[39;00m\u001b[38;5;21;01mfactory\u001b[39;00m \u001b[38;5;28;01mimport\u001b[39;00m get_problem\n\u001b[1;32m      3\u001b[0m \u001b[38;5;28;01mfrom\u001b[39;00m \u001b[38;5;21;01mpymoo\u001b[39;00m\u001b[38;5;21;01m.\u001b[39;00m\u001b[38;5;21;01mutil\u001b[39;00m\u001b[38;5;21;01m.\u001b[39;00m\u001b[38;5;21;01mnds\u001b[39;00m\u001b[38;5;21;01m.\u001b[39;00m\u001b[38;5;21;01mnon_dominated_sorting\u001b[39;00m \u001b[38;5;28;01mimport\u001b[39;00m NonDominatedSorting\n\u001b[1;32m      5\u001b[0m \u001b[38;5;66;03m# Define a hypothetical set of solutions and their objectives\u001b[39;00m\n\u001b[1;32m      6\u001b[0m \u001b[38;5;66;03m# Let's say we have 10 solutions (for simplicity) and 3 objectives\u001b[39;00m\n",
      "\u001b[0;31mModuleNotFoundError\u001b[0m: No module named 'pymoo.factory'"
     ]
    }
   ],
   "source": [
    "import numpy as np\n",
    "from pymoo.factory import get_problem\n",
    "from pymoo.util.nds.non_dominated_sorting import NonDominatedSorting\n",
    "\n",
    "# Define a hypothetical set of solutions and their objectives\n",
    "# Let's say we have 10 solutions (for simplicity) and 3 objectives\n",
    "np.random.seed(42)  # For reproducible results\n",
    "solutions = np.random.rand(10, 3)  # 10 solutions in a 3-dimensional space\n",
    "objectives = np.zeros((10, 3))  # Placeholder for objectives\n",
    "\n",
    "# Define the objective functions (hypothetical)\n",
    "def f1(x):\n",
    "    return (x[0]-0.5)**2  # Objective 1\n",
    "\n",
    "def f2(x):\n",
    "    return (x[1]-0.5)**2  # Objective 2\n",
    "\n",
    "def f3(x):\n",
    "    return (x[2]-0.5)**2  # Objective 3\n",
    "\n",
    "# Apply objectives to each solution\n",
    "for i, sol in enumerate(solutions):\n",
    "    objectives[i, 0] = f1(sol)\n",
    "    objectives[i, 1] = f2(sol)\n",
    "    objectives[i, 2] = f3(sol)\n",
    "\n",
    "# Perform non-dominated sorting\n",
    "nds = NonDominatedSorting().do(objectives, only_non_dominated_front=True)\n",
    "\n",
    "# Extract non-dominated solutions\n",
    "non_dominated_solutions = solutions[nds]\n",
    "\n",
    "print(\"Non-dominated Solutions:\")\n",
    "print(non_dominated_solutions)"
   ]
  }
 ],
 "metadata": {
  "kernelspec": {
   "display_name": "Python 3 (ipykernel)",
   "language": "python",
   "name": "python3"
  },
  "language_info": {
   "codemirror_mode": {
    "name": "ipython",
    "version": 3
   },
   "file_extension": ".py",
   "mimetype": "text/x-python",
   "name": "python",
   "nbconvert_exporter": "python",
   "pygments_lexer": "ipython3",
   "version": "3.11.5"
  }
 },
 "nbformat": 4,
 "nbformat_minor": 5
}
