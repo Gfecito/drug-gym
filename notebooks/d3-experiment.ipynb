{
 "cells": [
  {
   "cell_type": "markdown",
   "id": "52fa8305-3f16-49c2-9e30-907bdeff49b8",
   "metadata": {},
   "source": [
    "# Testing Observable Plot"
   ]
  },
  {
   "cell_type": "code",
   "execution_count": 1,
   "id": "10878cac-7a1f-423e-a532-97aebbf68653",
   "metadata": {
    "tags": []
   },
   "outputs": [],
   "source": [
    "import polars as pl\n",
    "from pyobsplot import Plot, js, Obsplot"
   ]
  },
  {
   "cell_type": "code",
   "execution_count": 2,
   "id": "d9ba9597-660c-40b0-a8e9-0cc396c315f5",
   "metadata": {
    "tags": []
   },
   "outputs": [],
   "source": [
    "df = pl.read_parquet('../../dgym-data/experiment_annotations.parquet')\n",
    "tested_adjacency = df.filter(pl.col(\"Current Status\") == \"Tested\")[['Inspiration', 'SMILES']]\n",
    "tested_adjacency = tested_adjacency.fill_null('start').to_numpy()"
   ]
  },
  {
   "cell_type": "code",
   "execution_count": 3,
   "id": "460ec070-c6fc-4842-9f0c-18e06fcf70f4",
   "metadata": {
    "tags": []
   },
   "outputs": [],
   "source": [
    "import networkx as nx\n",
    "\n",
    "def create_graph(edge_list):\n",
    "    \"\"\"\n",
    "    Constructs a directed graph from a given edge list.\n",
    "\n",
    "    Parameters:\n",
    "    - edge_list (list of tuples): Each tuple represents an edge in the form (source, target),\n",
    "      where 'target' is inspired by 'source'.\n",
    "\n",
    "    Returns:\n",
    "    - G (networkx.DiGraph): A directed graph representing the molecule relationships.\n",
    "    \"\"\"\n",
    "    G = nx.DiGraph()\n",
    "    G.add_edges_from(edge_list)\n",
    "    return G\n",
    "\n",
    "def find_paths(graph):\n",
    "    \"\"\"\n",
    "    Finds all paths from root nodes to leaf nodes in the graph.\n",
    "\n",
    "    Parameters:\n",
    "    - graph (networkx.DiGraph): The graph to traverse.\n",
    "\n",
    "    Returns:\n",
    "    - paths (list of strings): All paths in the graph from roots to leaves.\n",
    "    \"\"\"\n",
    "    roots = [node for node, degree in graph.in_degree() if degree == 0]\n",
    "    leaves = [node for node, degree in graph.out_degree() if degree == 0]\n",
    "    paths = []\n",
    "\n",
    "    for root in roots:\n",
    "        for leaf in leaves:\n",
    "            for path in nx.all_simple_paths(graph, source=root, target=leaf):\n",
    "                paths.append('^'.join(path))\n",
    "    return paths\n",
    "\n",
    "# Example usage:\n",
    "G = create_graph(tested_adjacency.tolist())\n",
    "all_paths = find_paths(G)[::]\n",
    "all_paths = [path for path in all_paths if 'start' in path]"
   ]
  },
  {
   "cell_type": "code",
   "execution_count": 4,
   "id": "beb51926-343a-4c03-97fe-f69cbb7a8220",
   "metadata": {
    "tags": []
   },
   "outputs": [
    {
     "data": {
      "application/vnd.jupyter.widget-view+json": {
       "model_id": "f5c40423316040149af140811c1a1846",
       "version_major": 2,
       "version_minor": 0
      },
      "text/plain": [
       "ObsplotWidget(spec={'data': [], 'code': {'axis': None, 'margin': 10, 'marginLeft': 200, 'marginRight': 200, 'w…"
      ]
     },
     "execution_count": 4,
     "metadata": {},
     "output_type": "execute_result"
    }
   ],
   "source": [
    "Plot.plot({\n",
    "    'axis': None,\n",
    "    'margin': 10,\n",
    "    'marginLeft': 200,\n",
    "    'marginRight': 200,\n",
    "    'width': 1800,\n",
    "    'height': 2400,\n",
    "    'marks': [\n",
    "        Plot.tree(all_paths[:-20], {\n",
    "            'textStroke': \"white\",\n",
    "            'delimiter': '^',\n",
    "            # 'curve': 'step-before',\n",
    "            'treeSort': \"node:height\"\n",
    "        })\n",
    "    ]\n",
    "})"
   ]
  },
  {
   "cell_type": "code",
   "execution_count": 313,
   "id": "8829c196-ede1-4aff-bba2-0867dbb3d784",
   "metadata": {
    "tags": []
   },
   "outputs": [],
   "source": [
    "utilities = []\n",
    "for path in all_paths:\n",
    "    smiles = path.split('^')[-1]\n",
    "    try:\n",
    "        utility = df.filter(pl.col(\"SMILES\") == smiles)['utility'].item()\n",
    "        utilities.append(utility)\n",
    "    except:\n",
    "        print(smiles)"
   ]
  },
  {
   "cell_type": "code",
   "execution_count": 334,
   "id": "603468cd-9947-4294-bfc2-e741edbf85d7",
   "metadata": {
    "tags": []
   },
   "outputs": [],
   "source": [
    "import seaborn as sns\n",
    "\n",
    "palette = sns.palettes.color_palette('magma')\n",
    "colormap = sns.palettes.get_colormap('magma')"
   ]
  },
  {
   "cell_type": "code",
   "execution_count": 349,
   "id": "852e9dcb-a1cc-4e5c-aabe-1acd1149b21d",
   "metadata": {
    "tags": []
   },
   "outputs": [],
   "source": [
    "import numpy as np\n",
    "\n",
    "def normalize_array(arr):\n",
    "    \"\"\"\n",
    "    Normalize a numpy array to have its minimum and maximum values scaled to 0 and 1, respectively.\n",
    "    \n",
    "    Parameters\n",
    "    ----------\n",
    "    arr : np.ndarray\n",
    "        The input array to normalize.\n",
    "    \n",
    "    Returns\n",
    "    -------\n",
    "    np.ndarray\n",
    "        The normalized array with values scaled between 0 and 1.\n",
    "    \n",
    "    Example\n",
    "    -------\n",
    "    >>> arr = np.array([10, 20, 30, 40, 50])\n",
    "    >>> normalize_array(arr)\n",
    "    array([0. , 0.25, 0.5 , 0.75, 1. ])\n",
    "    \"\"\"\n",
    "    arr = np.array(arr)\n",
    "    min_val = np.nanmin(arr)\n",
    "    max_val = np.nanmax(arr)\n",
    "    normalized_arr = (arr - min_val) / (max_val - min_val)\n",
    "    return normalized_arr\n",
    "\n",
    "normalized_utility = normalize_array(utilities)"
   ]
  },
  {
   "cell_type": "code",
   "execution_count": 392,
   "id": "548f2be6-d656-4505-ae04-79da8dd193e1",
   "metadata": {
    "tags": []
   },
   "outputs": [],
   "source": [
    "path_utility = pl.DataFrame({'Path': all_paths, 'Utility': normalized_utility})"
   ]
  },
  {
   "cell_type": "code",
   "execution_count": 424,
   "id": "d9e9d62b-8b8c-432d-ab9f-b756c936aa8e",
   "metadata": {
    "tags": []
   },
   "outputs": [],
   "source": [
    "plot_dict = Plot.tree(path_utility, {\n",
    "    'path': 'Path',\n",
    "    'strokeWidth': 1,\n",
    "    'curve': \"step-before\",\n",
    "    'treeLayout': indent,\n",
    "    'treeSort': \"node:height\",\n",
    "    'delimiter': '^',\n",
    "})"
   ]
  },
  {
   "cell_type": "code",
   "execution_count": 510,
   "id": "7561eacd-c30a-4843-bef6-bb58aa727026",
   "metadata": {
    "tags": []
   },
   "outputs": [
    {
     "data": {
      "application/vnd.jupyter.widget-view+json": {
       "model_id": "65dbcc96f5804679903dfec2781231d5",
       "version_major": 2,
       "version_minor": 0
      },
      "text/plain": [
       "ObsplotWidget(spec={'data': [{'pyobsplot-type': 'DataFrame', 'value': b'ARROW1\\x00\\x00\\xff\\xff\\xff\\xff\\xa8\\x00…"
      ]
     },
     "execution_count": 510,
     "metadata": {},
     "output_type": "execute_result"
    }
   ],
   "source": [
    "# op = Obsplot(renderer=\"jsdom\")\n",
    "\n",
    "indent = js(\"\"\"\n",
    "() => {\n",
    "  return (root) => {\n",
    "    root.eachBefore((node, i) => {\n",
    "      node.x = i;\n",
    "      node.y = node.depth;\n",
    "    });\n",
    "  };\n",
    "}\n",
    "\"\"\")\n",
    "\n",
    "Plot.plot({\n",
    "    'axis': None,\n",
    "    'inset': 10,\n",
    "    'insetRight': 800,\n",
    "    'round': True,\n",
    "    'width': 1000,\n",
    "    'height': 6000,\n",
    "    'marks': [\n",
    "        Plot.tree(path_utility, {\n",
    "            'path': 'Path',\n",
    "            'strokeWidth': 1,\n",
    "            'curve': \"step-before\",\n",
    "            'treeLayout': indent,\n",
    "            'treeSort': \"node:height\",\n",
    "            'delimiter': '^',\n",
    "            # \"fill\": \"red\"\n",
    "        }),\n",
    "        # Plot.text(path_utility, {\n",
    "        #     # 'x': 800,  # Static x-offset, adjust as needed to align with your tree layout\n",
    "        #     # 'y': 'node_y',  # Assume 'node_y' is calculated as part of the tree layout or is a column in the DataFrame\n",
    "        #     # 'x': 10,\n",
    "        #     'y': 'Utility',\n",
    "        #     'text': 'Utility',\n",
    "        #     'text-anchor': 'end'\n",
    "        # })\n",
    "    ]\n",
    "})"
   ]
  }
 ],
 "metadata": {
  "kernelspec": {
   "display_name": "Python 3 (ipykernel)",
   "language": "python",
   "name": "python3"
  },
  "language_info": {
   "codemirror_mode": {
    "name": "ipython",
    "version": 3
   },
   "file_extension": ".py",
   "mimetype": "text/x-python",
   "name": "python",
   "nbconvert_exporter": "python",
   "pygments_lexer": "ipython3",
   "version": "3.11.5"
  }
 },
 "nbformat": 4,
 "nbformat_minor": 5
}
