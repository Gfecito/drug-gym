{
 "cells": [
  {
   "cell_type": "markdown",
   "id": "4d4bcfe5-64d5-41e3-8e3b-b8a9a66f79d5",
   "metadata": {},
   "source": [
    "# Finding alternatives to DGLLife for Solubility prediction"
   ]
  },
  {
   "cell_type": "code",
   "execution_count": 1,
   "id": "f75cd5ea-0627-47c8-961a-37530010d356",
   "metadata": {
    "tags": []
   },
   "outputs": [],
   "source": [
    "%reload_ext autoreload\n",
    "%autoreload 2\n",
    "\n",
    "import rdkit\n",
    "import dgym as dg\n",
    "\n",
    "# load all data\n",
    "path = '../../dgym-data'\n",
    "\n",
    "deck = dg.MoleculeCollection.load(\n",
    "    f'{path}/DSi-Poised_Library_annotated.sdf',\n",
    "    reactant_names=['reagsmi1', 'reagsmi2', 'reagsmi3']\n",
    ")\n",
    "\n",
    "reactions = dg.ReactionCollection.from_json(\n",
    "    path = f'{path}/All_Rxns_rxn_library_sorted.json',\n",
    "    smarts_col = 'reaction_string',\n",
    "    classes_col = 'functional_groups'\n",
    ")\n",
    "\n",
    "building_blocks = dg.datasets.disk_loader(f'{path}/Enamine_Building_Blocks_Stock_262336cmpd_20230630.sdf')\n",
    "fingerprints = dg.datasets.fingerprints(f'{path}/Enamine_Building_Blocks_Stock_262336cmpd_20230630_atoms.fpb')\n",
    "\n",
    "import torch\n",
    "import pyarrow.parquet as pq\n",
    "table = pq.read_table('../../dgym-data/sizes.parquet')[0]\n",
    "sizes = torch.tensor(table.to_numpy())"
   ]
  },
  {
   "cell_type": "markdown",
   "id": "82b3b2aa-bb1f-4d48-97b1-50f377ce156a",
   "metadata": {},
   "source": [
    "Using AqSolDB."
   ]
  },
  {
   "cell_type": "code",
   "execution_count": 2,
   "id": "4815d51d-54c6-41ae-921e-f65b99a22ad9",
   "metadata": {
    "tags": []
   },
   "outputs": [
    {
     "name": "stderr",
     "output_type": "stream",
     "text": [
      "Found local copy...\n",
      "Loading...\n",
      "Done!\n"
     ]
    }
   ],
   "source": [
    "from tdc.single_pred import ADME\n",
    "data = ADME(name = 'Solubility_AqSolDB')\n",
    "split = data.get_split()"
   ]
  },
  {
   "cell_type": "code",
   "execution_count": 38,
   "id": "407180b7-b932-4e07-ac2f-89c7497ab769",
   "metadata": {
    "tags": []
   },
   "outputs": [],
   "source": [
    "import cloudpickle as cp\n",
    "from urllib.request import urlopen\n",
    "\n",
    "with request.urlopen(\n",
    "    'https://github.com/NilavoBoral/Therapeutics-Data-Commons/raw/main/best_model_series.pkl'\n",
    ") as f:\n",
    "    loaded_pickle_object = cp.load(f)"
   ]
  },
  {
   "cell_type": "code",
   "execution_count": 53,
   "id": "80439251-4b3e-460f-9e58-6dc22ff29ec8",
   "metadata": {
    "tags": []
   },
   "outputs": [],
   "source": [
    "# d = loaded_pickle_object[2]\n",
    "# d.fit(X)"
   ]
  },
  {
   "cell_type": "code",
   "execution_count": 72,
   "id": "ac02f72d-8d4e-41f9-9f8d-580423d38c6d",
   "metadata": {
    "tags": []
   },
   "outputs": [
    {
     "name": "stdout",
     "output_type": "stream",
     "text": [
      "CPU times: user 842 ms, sys: 237 ms, total: 1.08 s\n",
      "Wall time: 1.46 s\n"
     ]
    }
   ],
   "source": [
    "%%time\n",
    "import numpy as np\n",
    "from sklearn.preprocessing import normalize\n",
    "from scikit_mol.descriptors import MolecularDescriptorTransformer\n",
    "\n",
    "desc_list = [\n",
    "    'ExactMolWt', 'FpDensityMorgan1', 'FpDensityMorgan2', 'FpDensityMorgan3',\n",
    "    'HeavyAtomMolWt', 'MaxAbsPartialCharge', 'MaxAbsPartialCharge', 'MinAbsPartialCharge',\n",
    "    'MinPartialCharge', 'MolWt', 'NumRadicalElectrons', 'NumValenceElectrons',\n",
    "    'MolLogP', 'FractionCSP3', 'HeavyAtomCount', 'NHOHCount', 'NOCount', 'NumAliphaticCarbocycles',\n",
    "    'NumAliphaticHeterocycles', 'NumAliphaticRings', 'NumAromaticCarbocycles', 'NumAromaticHeterocycles',\n",
    "    'NumAromaticRings', 'NumHAcceptors', 'NumHDonors', 'NumHeteroatoms', 'NumRotatableBonds',\n",
    "    'NumSaturatedCarbocycles', 'NumSaturatedHeterocycles', 'NumSaturatedRings', 'RingCount',\n",
    "]\n",
    "\n",
    "transformer = MolecularDescriptorTransformer(\n",
    "    desc_list, parallel=True)\n",
    "\n",
    "X = transformer.transform([\n",
    "    rdkit.Chem.MolFromSmiles(d)\n",
    "    for d in split['train'].Drug\n",
    "])\n",
    "\n",
    "X = normalize(np.nan_to_num(X))\n",
    "y = split['train']['Y']"
   ]
  },
  {
   "cell_type": "code",
   "execution_count": null,
   "id": "cd7f7874-2b16-48ab-8a12-9bab91b2fc8c",
   "metadata": {
    "tags": []
   },
   "outputs": [
    {
     "name": "stdout",
     "output_type": "stream",
     "text": [
      "Learning rate set to 0.055666\n",
      "0:\tlearn: 2.3130387\ttotal: 3.3ms\tremaining: 3.3s\n",
      "1:\tlearn: 2.2430673\ttotal: 4.56ms\tremaining: 2.27s\n",
      "2:\tlearn: 2.1765152\ttotal: 5.97ms\tremaining: 1.99s\n",
      "3:\tlearn: 2.1143769\ttotal: 7.54ms\tremaining: 1.88s\n",
      "4:\tlearn: 2.0597623\ttotal: 9.02ms\tremaining: 1.79s\n",
      "5:\tlearn: 2.0059922\ttotal: 10.4ms\tremaining: 1.72s\n",
      "6:\tlearn: 1.9576766\ttotal: 11.7ms\tremaining: 1.66s\n",
      "7:\tlearn: 1.9124469\ttotal: 13.1ms\tremaining: 1.62s\n",
      "8:\tlearn: 1.8702389\ttotal: 28.7ms\tremaining: 3.16s\n",
      "9:\tlearn: 1.8309049\ttotal: 30.4ms\tremaining: 3.01s\n",
      "10:\tlearn: 1.7942109\ttotal: 33.2ms\tremaining: 2.98s\n",
      "11:\tlearn: 1.7567925\ttotal: 35.2ms\tremaining: 2.9s\n",
      "12:\tlearn: 1.7219722\ttotal: 37.2ms\tremaining: 2.82s\n",
      "13:\tlearn: 1.6930987\ttotal: 39ms\tremaining: 2.75s\n",
      "14:\tlearn: 1.6630898\ttotal: 41.5ms\tremaining: 2.72s\n",
      "15:\tlearn: 1.6357107\ttotal: 43.9ms\tremaining: 2.7s\n",
      "16:\tlearn: 1.6104465\ttotal: 46.6ms\tremaining: 2.69s\n",
      "17:\tlearn: 1.5872915\ttotal: 56.7ms\tremaining: 3.1s\n",
      "18:\tlearn: 1.5637680\ttotal: 58.7ms\tremaining: 3.03s\n",
      "19:\tlearn: 1.5422862\ttotal: 60.6ms\tremaining: 2.97s\n",
      "20:\tlearn: 1.5230787\ttotal: 62.2ms\tremaining: 2.9s\n",
      "21:\tlearn: 1.5048802\ttotal: 64.3ms\tremaining: 2.86s\n",
      "22:\tlearn: 1.4887416\ttotal: 73.8ms\tremaining: 3.13s\n",
      "23:\tlearn: 1.4730637\ttotal: 84.4ms\tremaining: 3.43s\n",
      "24:\tlearn: 1.4582744\ttotal: 86.1ms\tremaining: 3.36s\n",
      "25:\tlearn: 1.4438676\ttotal: 93.3ms\tremaining: 3.5s\n",
      "26:\tlearn: 1.4310752\ttotal: 95.5ms\tremaining: 3.44s\n",
      "27:\tlearn: 1.4186712\ttotal: 97.1ms\tremaining: 3.37s\n",
      "28:\tlearn: 1.4084936\ttotal: 99.4ms\tremaining: 3.33s\n",
      "29:\tlearn: 1.3986973\ttotal: 102ms\tremaining: 3.29s\n",
      "30:\tlearn: 1.3883893\ttotal: 104ms\tremaining: 3.24s\n",
      "31:\tlearn: 1.3796049\ttotal: 109ms\tremaining: 3.3s\n",
      "32:\tlearn: 1.3718041\ttotal: 111ms\tremaining: 3.25s\n",
      "33:\tlearn: 1.3642118\ttotal: 114ms\tremaining: 3.23s\n",
      "34:\tlearn: 1.3559092\ttotal: 120ms\tremaining: 3.3s\n",
      "35:\tlearn: 1.3485473\ttotal: 122ms\tremaining: 3.26s\n",
      "36:\tlearn: 1.3416248\ttotal: 126ms\tremaining: 3.27s\n",
      "37:\tlearn: 1.3356588\ttotal: 131ms\tremaining: 3.31s\n",
      "38:\tlearn: 1.3297078\ttotal: 135ms\tremaining: 3.31s\n",
      "39:\tlearn: 1.3241730\ttotal: 139ms\tremaining: 3.33s\n",
      "40:\tlearn: 1.3194443\ttotal: 140ms\tremaining: 3.28s\n",
      "41:\tlearn: 1.3144443\ttotal: 142ms\tremaining: 3.24s\n",
      "42:\tlearn: 1.3103945\ttotal: 144ms\tremaining: 3.2s\n",
      "43:\tlearn: 1.3050982\ttotal: 146ms\tremaining: 3.17s\n",
      "44:\tlearn: 1.3003887\ttotal: 148ms\tremaining: 3.13s\n",
      "45:\tlearn: 1.2962652\ttotal: 149ms\tremaining: 3.09s\n",
      "46:\tlearn: 1.2920351\ttotal: 151ms\tremaining: 3.06s\n",
      "47:\tlearn: 1.2873164\ttotal: 156ms\tremaining: 3.09s\n",
      "48:\tlearn: 1.2846826\ttotal: 158ms\tremaining: 3.06s\n",
      "49:\tlearn: 1.2814466\ttotal: 159ms\tremaining: 3.03s\n",
      "50:\tlearn: 1.2781858\ttotal: 162ms\tremaining: 3.02s\n",
      "51:\tlearn: 1.2748057\ttotal: 164ms\tremaining: 2.99s\n",
      "52:\tlearn: 1.2723368\ttotal: 168ms\tremaining: 3.01s\n",
      "53:\tlearn: 1.2694737\ttotal: 170ms\tremaining: 2.98s\n",
      "54:\tlearn: 1.2650223\ttotal: 172ms\tremaining: 2.96s\n",
      "55:\tlearn: 1.2625572\ttotal: 174ms\tremaining: 2.94s\n",
      "56:\tlearn: 1.2590502\ttotal: 178ms\tremaining: 2.94s\n",
      "57:\tlearn: 1.2556867\ttotal: 180ms\tremaining: 2.92s\n",
      "58:\tlearn: 1.2514197\ttotal: 182ms\tremaining: 2.9s\n",
      "59:\tlearn: 1.2483706\ttotal: 187ms\tremaining: 2.93s\n",
      "60:\tlearn: 1.2456005\ttotal: 191ms\tremaining: 2.95s\n"
     ]
    }
   ],
   "source": [
    "from catboost import CatBoostRegressor\n",
    "\n",
    "cb = CatBoostRegressor()\n",
    "cb.fit(X, y)"
   ]
  },
  {
   "cell_type": "code",
   "execution_count": 75,
   "id": "c0c5e67d-c36a-48f8-8753-c3e80a32b72c",
   "metadata": {
    "tags": []
   },
   "outputs": [
    {
     "data": {
      "text/plain": [
       "PearsonRResult(statistic=0.955394360247308, pvalue=0.0)"
      ]
     },
     "execution_count": 75,
     "metadata": {},
     "output_type": "execute_result"
    }
   ],
   "source": [
    "from scipy.stats import pearsonr\n",
    "\n",
    "pearsonr(cb.predict(X), y)"
   ]
  },
  {
   "cell_type": "code",
   "execution_count": 77,
   "id": "9d5fb7ba-6cdf-49c1-ab97-d0f4e6b5efa1",
   "metadata": {
    "tags": []
   },
   "outputs": [
    {
     "data": {
      "text/plain": [
       "0.5270075350068456"
      ]
     },
     "execution_count": 77,
     "metadata": {},
     "output_type": "execute_result"
    }
   ],
   "source": [
    "from sklearn.metrics import mean_absolute_error\n",
    "\n",
    "mean_absolute_error(y, cb.predict(X))"
   ]
  },
  {
   "cell_type": "code",
   "execution_count": null,
   "id": "3c29b2b4-cc1a-4c73-9cf9-e4a98472de26",
   "metadata": {},
   "outputs": [],
   "source": [
    "\n",
    "cb.predict(X_test, y)"
   ]
  }
 ],
 "metadata": {
  "kernelspec": {
   "display_name": "Python 3 (ipykernel)",
   "language": "python",
   "name": "python3"
  },
  "language_info": {
   "codemirror_mode": {
    "name": "ipython",
    "version": 3
   },
   "file_extension": ".py",
   "mimetype": "text/x-python",
   "name": "python",
   "nbconvert_exporter": "python",
   "pygments_lexer": "ipython3",
   "version": "3.11.5"
  }
 },
 "nbformat": 4,
 "nbformat_minor": 5
}
