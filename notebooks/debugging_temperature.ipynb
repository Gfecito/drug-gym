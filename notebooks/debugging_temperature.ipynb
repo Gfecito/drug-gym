{
 "cells": [
  {
   "cell_type": "markdown",
   "id": "07718aea-e6ef-4174-947d-158fb694ea01",
   "metadata": {},
   "source": [
    "# Debugging the creativity parameter"
   ]
  },
  {
   "cell_type": "code",
   "execution_count": 1,
   "id": "4790e7ca-fddd-44be-8e92-da485b4196fb",
   "metadata": {
    "tags": []
   },
   "outputs": [],
   "source": [
    "%reload_ext autoreload\n",
    "%autoreload 2\n",
    "import warnings\n",
    "warnings.filterwarnings('ignore') \n",
    "\n",
    "import rdkit\n",
    "import dgym as dg\n",
    "\n",
    "# load all data\n",
    "path = '../../dgym-data'\n",
    "\n",
    "reactions = dg.ReactionCollection.from_json(\n",
    "    path = f'{path}/All_Rxns_rxn_library_sorted.json',\n",
    "    smarts_col = 'reaction_string',\n",
    "    classes_col = 'functional_groups'\n",
    ")\n",
    "\n",
    "building_blocks = dg.datasets.disk_loader(f'{path}/Enamine_Building_Blocks_Stock_262336cmpd_20230630.sdf')\n",
    "fingerprints = dg.datasets.fingerprints(f'{path}/Enamine_Building_Blocks_Stock_262336cmpd_20230630_atoms.fpb')\n",
    "\n",
    "import torch\n",
    "import pyarrow.parquet as pq\n",
    "table = pq.read_table('../../dgym-data/sizes.parquet')[0]\n",
    "sizes = torch.tensor(table.to_numpy())"
   ]
  },
  {
   "cell_type": "code",
   "execution_count": 2,
   "id": "87652b37-3cdf-4909-8b4f-7f9c6f0db21c",
   "metadata": {
    "tags": []
   },
   "outputs": [],
   "source": [
    "from dgym.envs.designer import Designer, Generator\n",
    "\n",
    "designer = Designer(\n",
    "    Generator(building_blocks, fingerprints, sizes),\n",
    "    reactions,\n",
    "    cache = True\n",
    ")"
   ]
  },
  {
   "cell_type": "code",
   "execution_count": 17,
   "id": "866d83f1-779b-49d9-9f51-7d1ff8a944a2",
   "metadata": {
    "tags": []
   },
   "outputs": [],
   "source": [
    "start = designer.design(1)[0]"
   ]
  },
  {
   "cell_type": "code",
   "execution_count": 63,
   "id": "3266649b-32f1-4fa7-bcd5-345e55985ff6",
   "metadata": {
    "tags": []
   },
   "outputs": [
    {
     "data": {
      "image/png": "[encoded data removed]",
      "text/plain": [
       "<dgym.molecule.Molecule at 0x7fd7e7157110>"
      ]
     },
     "execution_count": 63,
     "metadata": {},
     "output_type": "execute_result"
    }
   ],
   "source": [
    "designer.design(start, 1, temperature=1.0)[0]"
   ]
  },
  {
   "cell_type": "code",
   "execution_count": 72,
   "id": "bbbc90b5-34fa-4b83-8ad6-790b15527b0f",
   "metadata": {
    "tags": []
   },
   "outputs": [],
   "source": [
    "route = start.dump()"
   ]
  },
  {
   "cell_type": "code",
   "execution_count": 82,
   "id": "c0480e1a-a8e1-404e-8cbb-9eabf5387b97",
   "metadata": {
    "tags": []
   },
   "outputs": [],
   "source": [
    "from copy import deepcopy\n",
    "from itertools import combinations\n",
    "\n",
    "kwargs = {}\n",
    "annotations = {'search': 'similar'}\n",
    "paths = designer._flatten_route(route)\n",
    "\n",
    "limit = 2\n",
    "reactant_variants = []\n",
    "for combo in combinations(paths, limit):\n",
    "    new_tree = deepcopy(route)\n",
    "    for path in combo:\n",
    "        new_tree = designer._apply_annotation_to_path(\n",
    "            new_tree, path, annotations, **kwargs)\n",
    "    reactant_variants.append(new_tree)"
   ]
  },
  {
   "cell_type": "code",
   "execution_count": 88,
   "id": "15b6cd64-8ed8-4f59-be77-3ce86e491198",
   "metadata": {
    "tags": []
   },
   "outputs": [
    {
     "data": {
      "text/plain": [
       "2"
      ]
     },
     "execution_count": 88,
     "metadata": {},
     "output_type": "execute_result"
    }
   ],
   "source": [
    "min(len(paths), 4)"
   ]
  }
 ],
 "metadata": {
  "kernelspec": {
   "display_name": "Python 3 (ipykernel)",
   "language": "python",
   "name": "python3"
  },
  "language_info": {
   "codemirror_mode": {
    "name": "ipython",
    "version": 3
   },
   "file_extension": ".py",
   "mimetype": "text/x-python",
   "name": "python",
   "nbconvert_exporter": "python",
   "pygments_lexer": "ipython3",
   "version": "3.11.5"
  }
 },
 "nbformat": 4,
 "nbformat_minor": 5
}
