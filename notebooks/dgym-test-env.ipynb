{
 "cells": [
  {
   "cell_type": "markdown",
   "id": "6fd8c1ba-6881-4477-a320-c650f6ad95f0",
   "metadata": {},
   "source": [
    "# Test Env"
   ]
  },
  {
   "cell_type": "markdown",
   "id": "87a1d278-93b9-43ec-a3a0-8b03e9d5de0e",
   "metadata": {},
   "source": [
    "Import data."
   ]
  },
  {
   "cell_type": "code",
   "execution_count": 1,
   "id": "52791718-50ca-4213-b11a-77770a4b4d5a",
   "metadata": {
    "tags": []
   },
   "outputs": [
    {
     "name": "stdout",
     "output_type": "stream",
     "text": [
      "load data\n"
     ]
    }
   ],
   "source": [
    "%load_ext autoreload\n",
    "%autoreload 2\n",
    "\n",
    "import dgym as dg\n",
    "\n",
    "# load all data\n",
    "print('load data')\n",
    "path = '../dgym-data'\n",
    "\n",
    "deck = dg.MoleculeCollection.from_sdf(\n",
    "    f'{path}/DSi-Poised_Library_annotated.sdf',\n",
    "    reactant_names=['reagsmi1', 'reagsmi2', 'reagsmi3']\n",
    ")\n",
    "\n",
    "reactions = dg.ReactionCollection.from_json(\n",
    "    path = f'{path}/All_Rxns_rxn_library.json',\n",
    "    smarts_col = 'reaction_string',\n",
    "    classes_col = 'functional_groups'\n",
    ")"
   ]
  },
  {
   "cell_type": "code",
   "execution_count": 2,
   "id": "a8ab1a72-d039-44d3-8e81-cfe43fd140e7",
   "metadata": {
    "tags": []
   },
   "outputs": [
    {
     "name": "stdout",
     "output_type": "stream",
     "text": [
      "align fingerprints\n",
      "partition building blocks\n"
     ]
    }
   ],
   "source": [
    "building_blocks = dg.datasets.enamine(f'{path}/Enamine_Building_Blocks_Stock_262336cmpd_20230630.sdf')\n",
    "fingerprints = dg.datasets.fingerprints(f'{path}/out/Enamine_Building_Blocks_Stock_262336cmpd_20230630.fpb')\n",
    "\n",
    "# align fingerprints to building blocks\n",
    "print('align fingerprints')\n",
    "fingerprints = dg.utils.sort_fingerprints(fingerprints, building_blocks)\n",
    "\n",
    "# partition building blocks according to functional groups\n",
    "print('partition building blocks')\n",
    "templates = dg.utils.get_unique_reactants(reactions)\n",
    "building_blocks = dg.utils.partition_building_blocks(building_blocks, templates, out_dir=path)"
   ]
  },
  {
   "cell_type": "code",
   "execution_count": 3,
   "id": "e261cdac-27d9-49a6-9f26-18bce353034a",
   "metadata": {
    "tags": []
   },
   "outputs": [],
   "source": [
    "from dgym.envs.library_designer import LibraryDesigner\n",
    "from dgym.envs.oracle import DGLOracle\n",
    "\n",
    "library_designer = LibraryDesigner(\n",
    "    reactions,\n",
    "    building_blocks,\n",
    "    fingerprints\n",
    ")\n",
    "\n",
    "lipo_oracle = DGLOracle('GCN_canonical_Lipophilicity')\n",
    "esol_oracle = DGLOracle('GCN_canonical_ESOL')"
   ]
  },
  {
   "cell_type": "code",
   "execution_count": 302,
   "id": "264b385c-26bc-4d99-b55d-a4f909ace1bf",
   "metadata": {
    "tags": []
   },
   "outputs": [
    {
     "data": {
      "text/plain": [
       "(MoleculeCollection with 404 Molecules, None, None, {})"
      ]
     },
     "execution_count": 302,
     "metadata": {},
     "output_type": "execute_result"
    }
   ],
   "source": [
    "from dgym.envs import DrugEnv\n",
    "\n",
    "assays = [lipo_oracle, esol_oracle]\n",
    "drug_env = DrugEnv(\n",
    "    library_designer,\n",
    "    library=deck[:200],\n",
    "    assays=assays,\n",
    "    budget=200\n",
    ")\n",
    "# is there data associated with the library? could be.\n",
    "\n",
    "action = {\n",
    "    'design': {\n",
    "        'molecules': [0, 199],\n",
    "        'num_analogs': 2,\n",
    "        'fraction_random': 0.0\n",
    "    }\n",
    "}\n",
    "\n",
    "drug_env.step(action)\n",
    "# [display(p) for p in drug_env.library[6:]]"
   ]
  },
  {
   "cell_type": "markdown",
   "id": "1f9c40ce-d331-487a-80bf-c78c88545303",
   "metadata": {},
   "source": [
    "First, set up the environment."
   ]
  },
  {
   "cell_type": "code",
   "execution_count": 479,
   "id": "15f3ba24-958c-47d8-8805-272a5ceb9d36",
   "metadata": {
    "tags": []
   },
   "outputs": [],
   "source": [
    "# def score(molecules, assays):\n",
    "\n",
    "#     for assay in assays:\n",
    "#         results = assay.predict(library)\n",
    "#         for idx, molecule in enumerate(library):\n",
    "#             molecule.update_annotations({assay.model_name: results[idx]})\n",
    "    \n",
    "#     return molecules\n",
    "\n",
    "# library = score(library, assays)"
   ]
  },
  {
   "cell_type": "code",
   "execution_count": 480,
   "id": "f559b790-5419-4f25-abbf-4ac9f1d20657",
   "metadata": {
    "tags": []
   },
   "outputs": [],
   "source": [
    "from dgym.envs import DrugEnv\n",
    "\n",
    "library = deck[:10]\n",
    "assays = [lipo_oracle, esol_oracle]\n",
    "drug_env = DrugEnv(\n",
    "    library_designer,\n",
    "    library = library,\n",
    "    assays = [lipo_oracle, esol_oracle],\n",
    "    budget = 10_000\n",
    ")"
   ]
  },
  {
   "cell_type": "markdown",
   "id": "508d4549-77ac-4440-abb2-9515038ba571",
   "metadata": {},
   "source": [
    "Next, define the action mask and start performing assays (randomly)."
   ]
  },
  {
   "cell_type": "code",
   "execution_count": 348,
   "id": "69519fee-9f8a-4c5c-8bba-becc717eb49c",
   "metadata": {
    "collapsed": true,
    "jupyter": {
     "outputs_hidden": true,
     "source_hidden": true
    },
    "tags": []
   },
   "outputs": [
    {
     "data": {
      "text/plain": [
       "[1.7408784627914429,\n",
       " 1.7279001474380493,\n",
       " 1.8764628171920776,\n",
       " 2.3975718021392822,\n",
       " 1.8674098253250122]"
      ]
     },
     "execution_count": 348,
     "metadata": {},
     "output_type": "execute_result"
    }
   ],
   "source": [
    "mask = {\n",
    "    'design': {\n",
    "        'fraction_random': None,\n",
    "        'num_analogs': None,\n",
    "        'molecules': (None, drug_env.valid_actions)\n",
    "    },\n",
    "    'order': {\n",
    "        'assay': None,\n",
    "        'molecules': (None, drug_env.valid_actions)\n",
    "    }\n",
    "}\n",
    "\n",
    "action = drug_env.action_space.sample(mask)\n",
    "results = drug_env.step(action)\n",
    "observations = results[0]\n",
    "[i.annotations['assay_0'] for i in observations if 'assay_0' in i.annotations]"
   ]
  },
  {
   "cell_type": "code",
   "execution_count": 475,
   "id": "43258e55-c42a-49da-9466-e60ecc7d655d",
   "metadata": {
    "tags": []
   },
   "outputs": [
    {
     "name": "stdout",
     "output_type": "stream",
     "text": [
      "MoleculeCollection with 413 Molecules\n",
      "MoleculeCollection with 820 Molecules\n",
      "MoleculeCollection with 1226 Molecules\n",
      "MoleculeCollection with 1630 Molecules\n",
      "MoleculeCollection with 2027 Molecules\n",
      "MoleculeCollection with 2426 Molecules\n",
      "MoleculeCollection with 2823 Molecules\n",
      "MoleculeCollection with 3226 Molecules\n",
      "MoleculeCollection with 3629 Molecules\n",
      "MoleculeCollection with 4040 Molecules\n"
     ]
    }
   ],
   "source": [
    "best_observed = -np.inf\n",
    "\n",
    "num_rounds = 10\n",
    "for _ in range(num_rounds):\n",
    "\n",
    "    # ideate\n",
    "    action = {\n",
    "        'design': {\n",
    "            'molecules': range(len(molecules)),\n",
    "            'num_analogs': 1, # maps to 10 molecules\n",
    "            'fraction_random': 0.5\n",
    "        }\n",
    "    }\n",
    "    library = drug_env.step(action)[0]\n",
    "\n",
    "    # score\n",
    "    assay_results = []\n",
    "    for assay in assays:\n",
    "        assay_results.append(assay.predict(library))\n",
    "\n",
    "    # triage\n",
    "    utility = np.mean(assay_results, axis=0)\n",
    "    best_observed = max(np.max(utility), best_observed)\n",
    "    chosen_molecules = utility.argsort()[-10:].tolist()\n",
    "\n",
    "    # assay\n",
    "    action = {'order': {'assay': 0, 'molecules': chosen_molecules}}\n",
    "    library = drug_env.step(action)[0]\n",
    "    print(library)\n",
    "    \n",
    "    # update model (TODO)"
   ]
  },
  {
   "cell_type": "code",
   "execution_count": 476,
   "id": "1c9c9df4-8666-4ae4-9e65-4405b9893263",
   "metadata": {
    "tags": []
   },
   "outputs": [
    {
     "data": {
      "text/plain": [
       "4040"
      ]
     },
     "execution_count": 476,
     "metadata": {},
     "output_type": "execute_result"
    }
   ],
   "source": [
    "len(assay_results[0])"
   ]
  },
  {
   "cell_type": "code",
   "execution_count": 477,
   "id": "85b06ccf-01a2-44b4-a760-73e117d82126",
   "metadata": {
    "tags": []
   },
   "outputs": [
    {
     "data": {
      "text/plain": [
       "array([0.39368074, 0.41250896, 0.42399023, 0.42849761, 0.42870724,\n",
       "       0.46394673, 0.49186444, 0.49931121, 0.56182384, 0.62672341])"
      ]
     },
     "execution_count": 477,
     "metadata": {},
     "output_type": "execute_result"
    }
   ],
   "source": [
    "utility[chosen_molecules]"
   ]
  },
  {
   "cell_type": "code",
   "execution_count": 478,
   "id": "bed571d5-9b4b-4388-a4e3-4b7818914371",
   "metadata": {
    "tags": []
   },
   "outputs": [
    {
     "data": {
      "text/plain": [
       "0.6267234086990356"
      ]
     },
     "execution_count": 478,
     "metadata": {},
     "output_type": "execute_result"
    }
   ],
   "source": [
    "np.max(utility)"
   ]
  },
  {
   "cell_type": "code",
   "execution_count": 453,
   "id": "44bc3a30-fcda-4fe5-a8fb-6d2d9a3925e6",
   "metadata": {
    "tags": []
   },
   "outputs": [
    {
     "data": {
      "text/plain": [
       "0.39085710048675537"
      ]
     },
     "execution_count": 453,
     "metadata": {},
     "output_type": "execute_result"
    }
   ],
   "source": [
    "best_observed"
   ]
  },
  {
   "cell_type": "code",
   "execution_count": 443,
   "id": "62c43d9e-f8dc-4be4-9ce7-3cebcf8d9150",
   "metadata": {
    "tags": []
   },
   "outputs": [
    {
     "data": {
      "text/plain": [
       "MoleculeCollection with 48 Molecules"
      ]
     },
     "execution_count": 443,
     "metadata": {},
     "output_type": "execute_result"
    }
   ],
   "source": [
    "# score\n",
    "assay_results = []\n",
    "for assay in assays:\n",
    "    assay_results.append(assay.predict(library))\n"
   ]
  },
  {
   "cell_type": "code",
   "execution_count": 32,
   "id": "e3a273e5-0ebc-488e-805f-a526b0dc5e31",
   "metadata": {
    "tags": []
   },
   "outputs": [],
   "source": [
    "from dgym.agents import DrugAgent"
   ]
  },
  {
   "cell_type": "code",
   "execution_count": 33,
   "id": "85d06978-cb8d-4b33-bd27-373dfabe4aa0",
   "metadata": {
    "tags": []
   },
   "outputs": [],
   "source": [
    "drug_agent = DrugAgent(drug_env.action_space)"
   ]
  }
 ],
 "metadata": {
  "kernelspec": {
   "display_name": "Python 3 (ipykernel)",
   "language": "python",
   "name": "python3"
  },
  "language_info": {
   "codemirror_mode": {
    "name": "ipython",
    "version": 3
   },
   "file_extension": ".py",
   "mimetype": "text/x-python",
   "name": "python",
   "nbconvert_exporter": "python",
   "pygments_lexer": "ipython3",
   "version": "3.11.4"
  }
 },
 "nbformat": 4,
 "nbformat_minor": 5
}
