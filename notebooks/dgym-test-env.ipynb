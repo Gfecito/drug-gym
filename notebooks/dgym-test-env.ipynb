{
 "cells": [
  {
   "cell_type": "markdown",
   "id": "6fd8c1ba-6881-4477-a320-c650f6ad95f0",
   "metadata": {},
   "source": [
    "# Test Env"
   ]
  },
  {
   "cell_type": "markdown",
   "id": "87a1d278-93b9-43ec-a3a0-8b03e9d5de0e",
   "metadata": {},
   "source": [
    "Import data."
   ]
  },
  {
   "cell_type": "code",
   "execution_count": 1,
   "id": "52791718-50ca-4213-b11a-77770a4b4d5a",
   "metadata": {
    "tags": []
   },
   "outputs": [
    {
     "name": "stdout",
     "output_type": "stream",
     "text": [
      "load data\n"
     ]
    }
   ],
   "source": [
    "%load_ext autoreload\n",
    "%autoreload 2\n",
    "\n",
    "import dgym as dg\n",
    "\n",
    "# load all data\n",
    "print('load data')\n",
    "path = '../dgym-data'\n",
    "\n",
    "deck = dg.MoleculeCollection.from_sdf(\n",
    "    f'{path}/DSi-Poised_Library_annotated.sdf',\n",
    "    reactant_names=['reagsmi1', 'reagsmi2', 'reagsmi3']\n",
    ")\n",
    "\n",
    "reactions = dg.ReactionCollection.from_json(\n",
    "    path = f'{path}/All_Rxns_rxn_library.json',\n",
    "    smarts_col = 'reaction_string',\n",
    "    classes_col = 'functional_groups'\n",
    ")"
   ]
  },
  {
   "cell_type": "code",
   "execution_count": 2,
   "id": "a8ab1a72-d039-44d3-8e81-cfe43fd140e7",
   "metadata": {
    "tags": []
   },
   "outputs": [
    {
     "name": "stdout",
     "output_type": "stream",
     "text": [
      "align fingerprints\n",
      "partition building blocks\n"
     ]
    }
   ],
   "source": [
    "building_blocks = dg.datasets.enamine(f'{path}/Enamine_Building_Blocks_Stock_262336cmpd_20230630.sdf')\n",
    "fingerprints = dg.datasets.fingerprints(f'{path}/out/Enamine_Building_Blocks_Stock_262336cmpd_20230630.fpb')\n",
    "\n",
    "# align fingerprints to building blocks\n",
    "print('align fingerprints')\n",
    "fingerprints = dg.utils.sort_fingerprints(fingerprints, building_blocks)\n",
    "\n",
    "# partition building blocks according to functional groups\n",
    "print('partition building blocks')\n",
    "templates = dg.utils.get_unique_reactants(reactions)\n",
    "building_blocks = dg.utils.partition_building_blocks(building_blocks, templates, out_dir=path)"
   ]
  },
  {
   "cell_type": "code",
   "execution_count": 3,
   "id": "e261cdac-27d9-49a6-9f26-18bce353034a",
   "metadata": {
    "tags": []
   },
   "outputs": [],
   "source": [
    "from dgym.envs.library_designer import LibraryDesigner\n",
    "\n",
    "library_designer = LibraryDesigner(\n",
    "    reactions,\n",
    "    building_blocks,\n",
    "    fingerprints\n",
    ")"
   ]
  },
  {
   "cell_type": "code",
   "execution_count": 4,
   "id": "2a7f0692-9227-41c4-9dab-bb8cf03693aa",
   "metadata": {
    "tags": []
   },
   "outputs": [],
   "source": [
    "from dgym.envs.oracle import DGLOracle\n",
    "\n",
    "lipo_oracle = DGLOracle('GCN_canonical_Lipophilicity')\n",
    "esol_oracle = DGLOracle('GCN_canonical_ESOL')\n",
    "# esol_oracle.predict(deck)"
   ]
  },
  {
   "cell_type": "code",
   "execution_count": 39,
   "id": "264b385c-26bc-4d99-b55d-a4f909ace1bf",
   "metadata": {
    "tags": []
   },
   "outputs": [
    {
     "data": {
      "text/plain": [
       "(MoleculeCollection with 42 Molecules, None, None, {})"
      ]
     },
     "execution_count": 39,
     "metadata": {},
     "output_type": "execute_result"
    }
   ],
   "source": [
    "from dgym.envs import DrugEnv\n",
    "\n",
    "drug_env = DrugEnv(\n",
    "    library_designer,\n",
    "    library=deck[:6],\n",
    "    assays=[lipo_oracle]\n",
    ")\n",
    "# is there data associated with the library? could be.\n",
    "\n",
    "action = {\n",
    "    'design': {\n",
    "        'selected_molecules': [0, 1, 3, 4],\n",
    "        'num_analogs': 2,\n",
    "        'percent_random': 0.0\n",
    "        # fraction_random\n",
    "    }\n",
    "}\n",
    "\n",
    "drug_env.step(action)\n",
    "# [display(p) for p in drug_env.library[6:]]"
   ]
  },
  {
   "cell_type": "code",
   "execution_count": 15,
   "id": "58e3ce9d-c26b-4992-b9e2-1e0b47ac0e68",
   "metadata": {
    "tags": []
   },
   "outputs": [
    {
     "data": {
      "text/plain": [
       "MoleculeCollection with 6 Molecules"
      ]
     },
     "execution_count": 15,
     "metadata": {},
     "output_type": "execute_result"
    }
   ],
   "source": [
    "drug_env.library[[1, 4, 5, 2, 2, 2]]"
   ]
  },
  {
   "cell_type": "code",
   "execution_count": 32,
   "id": "e3a273e5-0ebc-488e-805f-a526b0dc5e31",
   "metadata": {
    "tags": []
   },
   "outputs": [],
   "source": [
    "from dgym.agents import DrugAgent"
   ]
  },
  {
   "cell_type": "code",
   "execution_count": 33,
   "id": "85d06978-cb8d-4b33-bd27-373dfabe4aa0",
   "metadata": {
    "tags": []
   },
   "outputs": [],
   "source": [
    "drug_agent = DrugAgent(drug_env.action_space)"
   ]
  }
 ],
 "metadata": {
  "kernelspec": {
   "display_name": "Python 3 (ipykernel)",
   "language": "python",
   "name": "python3"
  },
  "language_info": {
   "codemirror_mode": {
    "name": "ipython",
    "version": 3
   },
   "file_extension": ".py",
   "mimetype": "text/x-python",
   "name": "python",
   "nbconvert_exporter": "python",
   "pygments_lexer": "ipython3",
   "version": "3.11.4"
  }
 },
 "nbformat": 4,
 "nbformat_minor": 5
}
