{
 "cells": [
  {
   "cell_type": "markdown",
   "id": "6fd8c1ba-6881-4477-a320-c650f6ad95f0",
   "metadata": {},
   "source": [
    "# Test Env"
   ]
  },
  {
   "cell_type": "markdown",
   "id": "87a1d278-93b9-43ec-a3a0-8b03e9d5de0e",
   "metadata": {},
   "source": [
    "Import data."
   ]
  },
  {
   "cell_type": "code",
   "execution_count": null,
   "id": "52791718-50ca-4213-b11a-77770a4b4d5a",
   "metadata": {
    "tags": []
   },
   "outputs": [
    {
     "name": "stdout",
     "output_type": "stream",
     "text": [
      "The autoreload extension is already loaded. To reload it, use:\n",
      "  %reload_ext autoreload\n",
      "load data\n",
      "align fingerprints\n"
     ]
    }
   ],
   "source": [
    "%load_ext autoreload\n",
    "%autoreload 2\n",
    "\n",
    "import dgym as dg\n",
    "from dgym.collection import MoleculeCollection, ReactionCollection\n",
    "\n",
    "# load all data\n",
    "print('load data')\n",
    "path = '../dgym-data'\n",
    "\n",
    "deck = MoleculeCollection.from_sdf(\n",
    "    f'{path}/DSi-Poised_Library_annotated.sdf',\n",
    "    reactant_names=['reagsmi1', 'reagsmi2', 'reagsmi3']\n",
    ")\n",
    "\n",
    "reactions = ReactionCollection.from_json(\n",
    "    path = f'{path}/All_Rxns_rxn_library.json',\n",
    "    smarts_col = 'reaction_string',\n",
    "    classes_col = 'functional_groups'\n",
    ")\n",
    "\n",
    "building_blocks = dg.datasets.enamine(f'{path}/Enamine_Building_Blocks_Stock_262336cmpd_20230630.sdf')\n",
    "fingerprints = dg.datasets.fingerprints(f'{path}/out/Enamine_Building_Blocks_Stock_262336cmpd_20230630.fpb')\n",
    "\n",
    "# align fingerprints to building blocks\n",
    "print('align fingerprints')\n",
    "fingerprints = dg.utils.sort_fingerprints(fingerprints, building_blocks)\n",
    "\n",
    "# partition building blocks according to functional groups\n",
    "print('partition building blocks')\n",
    "templates = dg.utils.get_unique_reactants(reactions)\n",
    "building_blocks = dg.utils.partition_building_blocks(building_blocks, templates, out_dir=path)"
   ]
  },
  {
   "cell_type": "code",
   "execution_count": null,
   "id": "e261cdac-27d9-49a6-9f26-18bce353034a",
   "metadata": {
    "tags": []
   },
   "outputs": [],
   "source": [
    "from dgym.envs.library_designer import LibraryDesigner\n",
    "\n",
    "library_designer = LibraryDesigner(\n",
    "    repertoire, # reactions\n",
    "    building_blocks,\n",
    "    fingerprints\n",
    ")"
   ]
  },
  {
   "cell_type": "code",
   "execution_count": 159,
   "id": "532711db-2762-4b62-8025-c8839eb7142d",
   "metadata": {
    "tags": []
   },
   "outputs": [
    {
     "data": {
      "text/plain": [
       "9980"
      ]
     },
     "execution_count": 159,
     "metadata": {},
     "output_type": "execute_result"
    }
   ],
   "source": [
    "drug_env.action_mask.sum()"
   ]
  },
  {
   "cell_type": "code",
   "execution_count": 209,
   "id": "3fee90ba-dd29-496e-9ac2-a6d78205dc36",
   "metadata": {
    "tags": []
   },
   "outputs": [
    {
     "name": "stderr",
     "output_type": "stream",
     "text": [
      "[autoreload of dgym.collection failed: Traceback (most recent call last):\n",
      "  File \"/home/mrr/miniconda3/envs/chodera/lib/python3.11/site-packages/IPython/extensions/autoreload.py\", line 273, in check\n",
      "    superreload(m, reload, self.old_objects)\n",
      "  File \"/home/mrr/miniconda3/envs/chodera/lib/python3.11/site-packages/IPython/extensions/autoreload.py\", line 496, in superreload\n",
      "    update_generic(old_obj, new_obj)\n",
      "  File \"/home/mrr/miniconda3/envs/chodera/lib/python3.11/site-packages/IPython/extensions/autoreload.py\", line 393, in update_generic\n",
      "    update(a, b)\n",
      "  File \"/home/mrr/miniconda3/envs/chodera/lib/python3.11/site-packages/IPython/extensions/autoreload.py\", line 345, in update_class\n",
      "    if update_generic(old_obj, new_obj):\n",
      "       ^^^^^^^^^^^^^^^^^^^^^^^^^^^^^^^^\n",
      "  File \"/home/mrr/miniconda3/envs/chodera/lib/python3.11/site-packages/IPython/extensions/autoreload.py\", line 393, in update_generic\n",
      "    update(a, b)\n",
      "  File \"/home/mrr/miniconda3/envs/chodera/lib/python3.11/site-packages/IPython/extensions/autoreload.py\", line 305, in update_function\n",
      "    setattr(old, name, getattr(new, name))\n",
      "ValueError: __init__() requires a code object with 0 free vars, not 1\n",
      "]\n"
     ]
    }
   ],
   "source": [
    "from dgym.collection import ReactionCollection\n",
    "\n"
   ]
  },
  {
   "cell_type": "code",
   "execution_count": 180,
   "id": "264b385c-26bc-4d99-b55d-a4f909ace1bf",
   "metadata": {
    "tags": []
   },
   "outputs": [
    {
     "data": {
      "text/plain": [
       "([<dgym.molecule.Molecule at 0x7f3549abd310>,\n",
       "  <dgym.molecule.Molecule at 0x7f3548af2610>,\n",
       "  <dgym.molecule.Molecule at 0x7f3548af2e90>,\n",
       "  <dgym.molecule.Molecule at 0x7f3548af2f90>,\n",
       "  <dgym.molecule.Molecule at 0x7f3548af3250>,\n",
       "  <dgym.molecule.Molecule at 0x7f3548af3450>,\n",
       "  <dgym.molecule.Molecule at 0x7f3545ba3a90>,\n",
       "  <dgym.molecule.Molecule at 0x7f353ecc9510>,\n",
       "  <dgym.molecule.Molecule at 0x7f353eccbd50>,\n",
       "  <dgym.molecule.Molecule at 0x7f353ecc98d0>,\n",
       "  <dgym.molecule.Molecule at 0x7f353ecc99d0>,\n",
       "  <dgym.molecule.Molecule at 0x7f354810c2d0>,\n",
       "  <dgym.molecule.Molecule at 0x7f354810e010>,\n",
       "  <dgym.molecule.Molecule at 0x7f353e3c5710>,\n",
       "  <dgym.molecule.Molecule at 0x7f353e3c5e50>,\n",
       "  <dgym.molecule.Molecule at 0x7f353e3c4790>,\n",
       "  <dgym.molecule.Molecule at 0x7f353e3c4bd0>,\n",
       "  <dgym.molecule.Molecule at 0x7f3546100050>,\n",
       "  <dgym.molecule.Molecule at 0x7f3546103710>,\n",
       "  <dgym.molecule.Molecule at 0x7f3546100e10>,\n",
       "  <dgym.molecule.Molecule at 0x7f353b347f10>],\n",
       " None,\n",
       " None,\n",
       " {})"
      ]
     },
     "execution_count": 180,
     "metadata": {},
     "output_type": "execute_result"
    }
   ],
   "source": [
    "from dgym.envs import DrugEnv\n",
    "\n",
    "drug_env = DrugEnv(library_designer, library=list(deck[:6]))\n",
    "# is there data associated with the library? could be.\n",
    "\n",
    "action = {\n",
    "    'design': {\n",
    "        'selected_molecules': [0, 1],\n",
    "        'num_analogs': 2,\n",
    "        'percent_random': 1.0\n",
    "        # fraction_random\n",
    "    }\n",
    "}\n",
    "\n",
    "= drug_env.step(action)\n",
    "# [display(p) for p in drug_env.library[6:]]"
   ]
  },
  {
   "cell_type": "code",
   "execution_count": 207,
   "id": "6e638279-f6cf-4f89-9f74-464db4f54758",
   "metadata": {
    "tags": []
   },
   "outputs": [
    {
     "data": {
      "image/png": "[encoded data removed]",
      "text/plain": [
       "<dgym.molecule.Molecule at 0x7f353ecc99d0>"
      ]
     },
     "execution_count": 207,
     "metadata": {},
     "output_type": "execute_result"
    }
   ],
   "source": [
    "Out[180][0][-11]"
   ]
  },
  {
   "cell_type": "code",
   "execution_count": 167,
   "id": "e3a273e5-0ebc-488e-805f-a526b0dc5e31",
   "metadata": {
    "tags": []
   },
   "outputs": [],
   "source": [
    "from dgym.agents import DrugAgent"
   ]
  },
  {
   "cell_type": "code",
   "execution_count": 170,
   "id": "85d06978-cb8d-4b33-bd27-373dfabe4aa0",
   "metadata": {
    "tags": []
   },
   "outputs": [],
   "source": [
    "drug_agent = DrugAgent(drug_env.action_space)"
   ]
  },
  {
   "cell_type": "code",
   "execution_count": 179,
   "id": "41d7396b-8fcf-4328-b3eb-e448b865c8b5",
   "metadata": {
    "tags": []
   },
   "outputs": [
    {
     "ename": "TypeError",
     "evalue": "DrugAgent.act() missing 2 required positional arguments: 'observations' and 'mask'",
     "output_type": "error",
     "traceback": [
      "\u001b[0;31m---------------------------------------------------------------------------\u001b[0m",
      "\u001b[0;31mTypeError\u001b[0m                                 Traceback (most recent call last)",
      "Cell \u001b[0;32mIn[179], line 1\u001b[0m\n\u001b[0;32m----> 1\u001b[0m drug_agent\u001b[38;5;241m.\u001b[39mact()\n",
      "\u001b[0;31mTypeError\u001b[0m: DrugAgent.act() missing 2 required positional arguments: 'observations' and 'mask'"
     ]
    }
   ],
   "source": [
    "drug_agent.act()"
   ]
  }
 ],
 "metadata": {
  "kernelspec": {
   "display_name": "Python 3 (ipykernel)",
   "language": "python",
   "name": "python3"
  },
  "language_info": {
   "codemirror_mode": {
    "name": "ipython",
    "version": 3
   },
   "file_extension": ".py",
   "mimetype": "text/x-python",
   "name": "python",
   "nbconvert_exporter": "python",
   "pygments_lexer": "ipython3",
   "version": "3.11.4"
  }
 },
 "nbformat": 4,
 "nbformat_minor": 5
}
